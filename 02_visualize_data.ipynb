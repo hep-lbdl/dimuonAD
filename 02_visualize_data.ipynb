{
 "cells": [
  {
   "cell_type": "code",
   "execution_count": 1,
   "id": "264c425c-148a-47ba-9d5a-d0c185fd7829",
   "metadata": {
    "tags": []
   },
   "outputs": [],
   "source": [
    "import numpy as np\n",
    "import matplotlib.pyplot as plt\n",
    "import pickle\n",
    "import yaml\n",
    "plt.style.use(\"../science.mplstyle\")\n",
    "\n",
    "from helpers.plotting import feature_labels, feature_bins"
   ]
  },
  {
   "cell_type": "code",
   "execution_count": 2,
   "id": "ccfaf4fd-8fbe-49b7-a7d7-1fa9b4a733a0",
   "metadata": {
    "tags": []
   },
   "outputs": [],
   "source": [
    "with open(\"workflow.yaml\", \"r\") as file:\n",
    "    workflow = yaml.safe_load(file)\n",
    "    \n",
    "project_id = \"lowmass\"\n",
    "particle_type = \"upsilon\"\n",
    "data_id = \"skimmed_data_2016H_30555\"\n",
    "\n",
    "\n",
    "path_to_data_dir = workflow[\"file_paths\"][\"data_storage_dir\"]\n",
    "path_to_data = f\"{path_to_data_dir}/compiled_data/{project_id}\"\n",
    "\n",
    "with open(f\"{path_to_data}/{data_id}_nojet\", \"rb\") as input_file:\n",
    "        all_data = pickle.load(input_file)\n"
   ]
  },
  {
   "cell_type": "code",
   "execution_count": 4,
   "id": "70da1799-d10d-452f-a3a4-ebe7d84d01cc",
   "metadata": {
    "tags": []
   },
   "outputs": [
    {
     "name": "stdout",
     "output_type": "stream",
     "text": [
      "dict_keys(['dielectron_pt', 'dielectron_eta', 'dielectron_phi', 'dielectron_mass', 'HLT_DoubleMu0', 'HLT_DoubleMu18NoFiltersNoVtx', 'HLT_DoubleMu23NoFiltersNoVtxDisplaced', 'HLT_DoubleMu28NoFiltersNoVtxDisplaced', 'HLT_DoubleMu33NoFiltersNoVtx', 'HLT_DoubleMu38NoFiltersNoVtx', 'HLT_DoubleMu8_Mass8_PFHT250', 'HLT_DoubleMu8_Mass8_PFHT300', 'HLT_L2DoubleMu23_NoVertex', 'HLT_L2DoubleMu28_NoVertex_2Cha_Angle2p5_Mass10', 'HLT_L2DoubleMu38_NoVertex_2Cha_Angle2p5_Mass10', 'HLT_Mu10_CentralPFJet30_BTagCSV_p13', 'HLT_Mu17_Mu8_DZ', 'HLT_Mu17_Mu8_SameSign_DZ', 'HLT_Mu17_Mu8_SameSign', 'HLT_Mu17_Mu8', 'HLT_Mu17_TkMu8_DZ', 'HLT_Mu17_TrkIsoVVL_Mu8_TrkIsoVVL_DZ', 'HLT_Mu17_TrkIsoVVL_Mu8_TrkIsoVVL', 'HLT_Mu17_TrkIsoVVL_TkMu8_TrkIsoVVL_DZ', 'HLT_Mu17_TrkIsoVVL_TkMu8_TrkIsoVVL', 'HLT_Mu17_TrkIsoVVL', 'HLT_Mu17', 'HLT_Mu20_Mu10_DZ', 'HLT_Mu20_Mu10_SameSign_DZ', 'HLT_Mu20_Mu10_SameSign', 'HLT_Mu20_Mu10', 'HLT_Mu27_TkMu8', 'HLT_Mu30_TkMu11', 'HLT_Mu3_PFJet40', 'HLT_Mu40_TkMu11', 'HLT_Mu8_TrkIsoVVL', 'HLT_Mu8', 'HLT_TkMu17_TrkIsoVVL_TkMu8_TrkIsoVVL_DZ', 'HLT_TkMu17_TrkIsoVVL_TkMu8_TrkIsoVVL', 'HLT_TripleMu_12_10_5', 'HLT_TripleMu_5_3_3_DZ_Mass3p8', 'HLT_TripleMu_5_3_3', 'HLT_TrkMu15_DoubleTrkMu5NoFiltersNoVtx', 'HLT_TrkMu17_DoubleTrkMu8NoFiltersNoVtx', 'dielectron_pt_samesign', 'dielectron_eta_samesign', 'dielectron_phi_samesign', 'dielectron_mass_samesign', 'HLT_DoubleMu0_samesign', 'HLT_DoubleMu18NoFiltersNoVtx_samesign', 'HLT_DoubleMu23NoFiltersNoVtxDisplaced_samesign', 'HLT_DoubleMu28NoFiltersNoVtxDisplaced_samesign', 'HLT_DoubleMu33NoFiltersNoVtx_samesign', 'HLT_DoubleMu38NoFiltersNoVtx_samesign', 'HLT_DoubleMu8_Mass8_PFHT250_samesign', 'HLT_DoubleMu8_Mass8_PFHT300_samesign', 'HLT_L2DoubleMu23_NoVertex_samesign', 'HLT_L2DoubleMu28_NoVertex_2Cha_Angle2p5_Mass10_samesign', 'HLT_L2DoubleMu38_NoVertex_2Cha_Angle2p5_Mass10_samesign', 'HLT_Mu10_CentralPFJet30_BTagCSV_p13_samesign', 'HLT_Mu17_Mu8_DZ_samesign', 'HLT_Mu17_Mu8_SameSign_DZ_samesign', 'HLT_Mu17_Mu8_SameSign_samesign', 'HLT_Mu17_Mu8_samesign', 'HLT_Mu17_TkMu8_DZ_samesign', 'HLT_Mu17_TrkIsoVVL_Mu8_TrkIsoVVL_DZ_samesign', 'HLT_Mu17_TrkIsoVVL_Mu8_TrkIsoVVL_samesign', 'HLT_Mu17_TrkIsoVVL_TkMu8_TrkIsoVVL_DZ_samesign', 'HLT_Mu17_TrkIsoVVL_TkMu8_TrkIsoVVL_samesign', 'HLT_Mu17_TrkIsoVVL_samesign', 'HLT_Mu17_samesign', 'HLT_Mu20_Mu10_DZ_samesign', 'HLT_Mu20_Mu10_SameSign_DZ_samesign', 'HLT_Mu20_Mu10_SameSign_samesign', 'HLT_Mu20_Mu10_samesign', 'HLT_Mu27_TkMu8_samesign', 'HLT_Mu30_TkMu11_samesign', 'HLT_Mu3_PFJet40_samesign', 'HLT_Mu40_TkMu11_samesign', 'HLT_Mu8_TrkIsoVVL_samesign', 'HLT_Mu8_samesign', 'HLT_TkMu17_TrkIsoVVL_TkMu8_TrkIsoVVL_DZ_samesign', 'HLT_TkMu17_TrkIsoVVL_TkMu8_TrkIsoVVL_samesign', 'HLT_TripleMu_12_10_5_samesign', 'HLT_TripleMu_5_3_3_DZ_Mass3p8_samesign', 'HLT_TripleMu_5_3_3_samesign', 'HLT_TrkMu15_DoubleTrkMu5NoFiltersNoVtx_samesign', 'HLT_TrkMu17_DoubleTrkMu8NoFiltersNoVtx_samesign'])\n"
     ]
    }
   ],
   "source": [
    "with open(f\"electron_data\", \"rb\") as input_file:\n",
    "        all_data = pickle.load(input_file)\n",
    "        print(all_data.keys())"
   ]
  },
  {
   "cell_type": "code",
   "execution_count": 3,
   "id": "6b61f279-6edf-45ac-9b99-123a79685c2a",
   "metadata": {
    "tags": []
   },
   "outputs": [],
   "source": [
    "trigger_list = [x for x in all_data.keys() if ((\"HLT\" in x) and (\"samesign\" not in x))]\n",
    "#print(trigger_list)\n",
    "\n",
    "all_events_OS = len(all_data[\"dimu_mass\"])\n",
    "all_events_SS = len(all_data[\"dimu_mass_samesign\"])\n",
    "\n",
    "num_pass = []\n",
    "percent_pass = []\n",
    "\n",
    "for trig in trigger_list:\n",
    "    masses_OS = all_data[\"dimu_mass\"]\n",
    "    masses_SS = all_data[\"dimu_mass_samesign\"]\n",
    "    num_events_pass_OS = len(masses_OS[all_data[trig]])\n",
    "    num_pass.append(num_events_pass_OS)\n",
    "    percent_pass.append(round(100*num_events_pass_OS/all_events_OS, 2))\n",
    "    \n",
    "indices = np.argsort(percent_pass)\n"
   ]
  },
  {
   "cell_type": "code",
   "execution_count": 4,
   "id": "d71ba5c5-fee9-4b0e-a1ef-16f3eb3725bb",
   "metadata": {
    "tags": []
   },
   "outputs": [
    {
     "name": "stdout",
     "output_type": "stream",
     "text": [
      "HLT_TkMu17_TrkIsoVVL_TkMu8_TrkIsoVVL_DZ: 13145418 pass , 60.29%\n",
      "HLT_Mu17_TrkIsoVVL_Mu8_TrkIsoVVL_DZ: 12596273 pass , 57.77%\n",
      "HLT_Mu17_TrkIsoVVL_TkMu8_TrkIsoVVL_DZ: 12348100 pass , 56.63%\n",
      "HLT_Mu30_TkMu11: 8182538 pass , 37.53%\n",
      "HLT_Mu40_TkMu11: 5718117 pass , 26.23%\n",
      "HLT_Mu27_TkMu8: 5133996 pass , 23.55%\n",
      "HLT_DoubleMu33NoFiltersNoVtx: 3714910 pass , 17.04%\n",
      "HLT_L2DoubleMu28_NoVertex_2Cha_Angle2p5_Mass10: 3040504 pass , 13.94%\n",
      "HLT_TripleMu_5_3_3_DZ_Mass3p8: 2523028 pass , 11.57%\n",
      "HLT_DoubleMu38NoFiltersNoVtx: 2308058 pass , 10.59%\n",
      "HLT_L2DoubleMu38_NoVertex_2Cha_Angle2p5_Mass10: 1472489 pass , 6.75%\n",
      "HLT_TripleMu_12_10_5: 1140613 pass , 5.23%\n",
      "HLT_DoubleMu8_Mass8_PFHT300: 974960 pass , 4.47%\n",
      "HLT_Mu20_Mu10: 683876 pass , 3.14%\n",
      "HLT_TkMu17_TrkIsoVVL_TkMu8_TrkIsoVVL: 680116 pass , 3.12%\n",
      "HLT_Mu20_Mu10_DZ: 655966 pass , 3.01%\n",
      "HLT_Mu17_TrkIsoVVL_TkMu8_TrkIsoVVL: 653812 pass , 3.0%\n",
      "HLT_Mu17_TrkIsoVVL_Mu8_TrkIsoVVL: 632767 pass , 2.9%\n",
      "HLT_TrkMu15_DoubleTrkMu5NoFiltersNoVtx: 557181 pass , 2.56%\n",
      "HLT_Mu17_Mu8: 547990 pass , 2.51%\n",
      "HLT_Mu17_Mu8_DZ: 520961 pass , 2.39%\n",
      "HLT_Mu17_Mu8_SameSign_DZ: 497542 pass , 2.28%\n",
      "HLT_TrkMu17_DoubleTrkMu8NoFiltersNoVtx: 486559 pass , 2.23%\n",
      "HLT_Mu17_TkMu8_DZ: 470112 pass , 2.16%\n",
      "HLT_Mu10_CentralPFJet30_BTagCSV_p13: 398339 pass , 1.83%\n",
      "HLT_DoubleMu23NoFiltersNoVtxDisplaced: 292804 pass , 1.34%\n",
      "HLT_Mu20_Mu10_SameSign_DZ: 270147 pass , 1.24%\n",
      "HLT_DoubleMu0: 239372 pass , 1.1%\n",
      "HLT_DoubleMu18NoFiltersNoVtx: 188441 pass , 0.86%\n",
      "HLT_L2DoubleMu23_NoVertex: 118588 pass , 0.54%\n",
      "HLT_DoubleMu28NoFiltersNoVtxDisplaced: 101229 pass , 0.46%\n",
      "HLT_Mu17: 92891 pass , 0.43%\n",
      "HLT_Mu17_TrkIsoVVL: 62630 pass , 0.29%\n",
      "HLT_Mu8_TrkIsoVVL: 22861 pass , 0.1%\n",
      "HLT_Mu20_Mu10_SameSign: 18423 pass , 0.08%\n",
      "HLT_Mu3_PFJet40: 17746 pass , 0.08%\n",
      "HLT_Mu8: 17618 pass , 0.08%\n",
      "HLT_Mu17_Mu8_SameSign: 15730 pass , 0.07%\n",
      "HLT_DoubleMu8_Mass8_PFHT250: 0 pass , 0.0%\n",
      "HLT_TripleMu_5_3_3: 0 pass , 0.0%\n"
     ]
    }
   ],
   "source": [
    "for i in indices[::-1]:\n",
    "    \n",
    "    line = trigger_list[i] + \": \" + str(num_pass[i]) + \" pass , \"+  str(percent_pass[i])+\"%\"\n",
    "    print(line)"
   ]
  },
  {
   "cell_type": "markdown",
   "id": "cc3864cc-f866-4321-8233-6633cc5e101a",
   "metadata": {},
   "source": [
    "# Triggering studies"
   ]
  },
  {
   "cell_type": "code",
   "execution_count": null,
   "id": "5cae1961-bc48-40a3-8fe6-dccaa44fe48a",
   "metadata": {
    "tags": []
   },
   "outputs": [],
   "source": [
    "SB_left = 0.3#float(workflow[\"window_definitions\"][particle_type][\"SB_left\"])\n",
    "SR_left = 0.3#float(workflow[\"window_definitions\"][particle_type][\"SR_left\"])\n",
    "SR_right = 20#float(workflow[\"window_definitions\"][particle_type][\"SR_right\"])\n",
    "SB_right = 20#float(workflow[\"window_definitions\"][particle_type][\"SB_right\"])\n",
    "\n",
    "\n",
    "\n",
    "\n",
    "\n",
    "triggers = [\"HLT_Mu27_TkMu8\",\"HLT_TkMu17_TrkIsoVVL_TkMu8_TrkIsoVVL_DZ\",\"HLT_Mu17_TrkIsoVVL_TkMu8_TrkIsoVVL_DZ\",\"HLT_Mu17_TrkIsoVVL_Mu8_TrkIsoVVL_DZ\"]\n",
    "# too small: \"HLT_DoubleMu33NoFiltersNoVtx\", \"HLT_Mu17_Mu8\",\"HLT_Mu20_Mu10\"\n",
    "# weird shoulder: \"HLT_Mu27_TkMu8\", \"HLT_TkMu17_TrkIsoVVL_TkMu8_TrkIsoVVL_DZ\",\"HLT_Mu17_TrkIsoVVL_TkMu8_TrkIsoVVL_DZ\"\n",
    "\n",
    "pt_cuts = [[30,11],[20,11],[20,11],[20,11]]\n",
    "for i, trig in enumerate(triggers):\n",
    "    \n",
    "    \n",
    "    pt_high_cut = pt_cuts[i][0]\n",
    "    pt_low_cut = pt_cuts[i][1]\n",
    "    \n",
    "    in_SB = (all_data[\"dimu_mass\"] >= SB_left) & (all_data[\"dimu_mass\"] <= SB_right)& (all_data[\"mu0_pt\"] >= pt_high_cut)& (all_data[\"mu1_pt\"] >= pt_low_cut)& (np.abs(all_data[\"mu0_eta\"]) <= 2.1)& (np.abs(all_data[\"mu1_eta\"]) <= 2.1)\n",
    "\n",
    "    \n",
    "    vars_to_plot = [\"dimu_mass\"]#, \"dimu_pt\", \"mu0_pt\", \"mu1_pt\",\"mu0_eta\",\"mu0_eta\"]\n",
    "    bins = {\n",
    "        \"dimu_mass\": np.logspace(np.log10(0.3), np.log10(20),100), \n",
    "         \"dimu_pt\": np.linspace(0, 100,60), \n",
    "         \"mu0_pt\": np.linspace(0, 50, 60), \n",
    "        \"mu1_pt\": np.linspace(0, 50, 60) ,\n",
    "        \"mu0_eta\": np.linspace(-3, 3, 60), \n",
    "           \"mu1_eta\": np.linspace(-3, 3, 60), }\n",
    "    \n",
    "\n",
    "    \n",
    "    \n",
    "    for var in vars_to_plot:\n",
    "\n",
    "        events_all = all_data[var][in_SB]\n",
    "        events_trig = all_data[var][in_SB][all_data[trig][in_SB]]\n",
    "\n",
    "        plt.figure()\n",
    "        plt.hist(events_all, bins = bins[var], label = f\"baseline ({len(events_all)} events)\", histtype = \"step\", density = True)\n",
    "        plt.hist(events_trig, bins = bins[var], label = f\"trigger ({len(events_trig)} events)\", histtype = \"step\", density = True)\n",
    "        label = f\"mu0 $p_T$ > {pt_high_cut}\\nmu1 $p_T$> {pt_low_cut}\"\n",
    "        plt.text(0.7, 0.5, label, transform = plt.gca().transAxes)\n",
    "        plt.xscale(\"log\")\n",
    "        plt.yscale(\"log\")\n",
    "        plt.ylabel(\"Density\")\n",
    "        plt.legend()\n",
    "        plt.xlabel(var)\n",
    "        plt.title(trig)\n",
    "        plt.show()\n",
    "    \n",
    "    \n",
    "    \n",
    "    \n",
    "   "
   ]
  },
  {
   "cell_type": "markdown",
   "id": "0c287d03-eb3b-4411-abd0-5af789b806eb",
   "metadata": {},
   "source": [
    "# Various kinematic observables"
   ]
  },
  {
   "cell_type": "code",
   "execution_count": null,
   "id": "3fe4e0b1-7840-4c7b-bcbb-6ec213c3fbb0",
   "metadata": {
    "tags": []
   },
   "outputs": [],
   "source": [
    "vars_to_plot = all_data.keys()\n",
    "\n",
    "for var in vars_to_plot:\n",
    "    \n",
    "    if (\"samesign\" not in var) and (\"HLT\" not in var):\n",
    "    \n",
    "        plt.figure()\n",
    "        plt.hist(all_data[var], bins = feature_bins[var], histtype = \"step\", density = True, label = \"OS\")\n",
    "        plt.hist(all_data[var+\"_samesign\"], bins = feature_bins[var], histtype = \"step\", density = True, label = \"SS\")\n",
    "        plt.xlabel(feature_labels[var])\n",
    "        plt.ylabel(\"Density\")\n",
    "        plt.legend()\n",
    "        plt.show()\n"
   ]
  },
  {
   "cell_type": "markdown",
   "id": "3c621193-37b4-4e31-bf38-a838bd09b8d3",
   "metadata": {},
   "source": [
    "Look at the samesign dimuon mass spectrum"
   ]
  },
  {
   "cell_type": "code",
   "execution_count": null,
   "id": "acd72bd9-768d-434b-b888-bf7beacdf3a0",
   "metadata": {
    "tags": []
   },
   "outputs": [],
   "source": [
    "plt.figure(figsize = (5,3))\n",
    "\n",
    "plt.hist(all_data[\"dimu_mass\"], bins = np.linspace(SB_left, SB_right, 50), histtype = \"step\", label = f\"OS\")\n",
    "plt.hist(all_data[\"dimu_mass_samesign\"], bins = np.linspace(SB_left, SB_right, 50), histtype = \"step\", label = f\"SS\")\n",
    "\n",
    "\n",
    "plt.xlabel(\"Dimu M [GeV]\")\n",
    "plt.ylabel(\"Counts\")\n",
    "plt.legend(loc = (1, 0))\n",
    "plt.show()\n",
    "\n"
   ]
  },
  {
   "cell_type": "code",
   "execution_count": null,
   "id": "93dc43f4-c81b-453f-975a-86d276af87ed",
   "metadata": {},
   "outputs": [],
   "source": []
  },
  {
   "cell_type": "code",
   "execution_count": null,
   "id": "54a5a6cb-625c-41aa-bd85-c1e00ddbceaf",
   "metadata": {},
   "outputs": [],
   "source": []
  },
  {
   "cell_type": "code",
   "execution_count": null,
   "id": "bf73a6d8-2165-460e-b515-580086e5f80e",
   "metadata": {},
   "outputs": [],
   "source": []
  },
  {
   "cell_type": "code",
   "execution_count": null,
   "id": "fc387cbe-58c4-4e67-8965-678694d1919b",
   "metadata": {},
   "outputs": [],
   "source": []
  },
  {
   "cell_type": "code",
   "execution_count": null,
   "id": "c8ba501e-7a47-405f-abe7-33af3936ef8c",
   "metadata": {},
   "outputs": [],
   "source": []
  },
  {
   "cell_type": "code",
   "execution_count": null,
   "id": "f38f9721-6acd-4657-bdf0-fe28cfb732eb",
   "metadata": {},
   "outputs": [],
   "source": []
  },
  {
   "cell_type": "code",
   "execution_count": null,
   "id": "7161bf5a-9aef-4c3e-a722-a78fcef7bf52",
   "metadata": {},
   "outputs": [],
   "source": []
  },
  {
   "cell_type": "code",
   "execution_count": null,
   "id": "7ba70f55-13f1-432c-bff4-f81c5e6fe24e",
   "metadata": {},
   "outputs": [],
   "source": []
  },
  {
   "cell_type": "code",
   "execution_count": null,
   "id": "f47f7190-e998-4bc4-a096-86e5936da231",
   "metadata": {},
   "outputs": [],
   "source": []
  },
  {
   "cell_type": "code",
   "execution_count": null,
   "id": "4c728405-ffa6-418a-b080-cc0816e2ad0d",
   "metadata": {},
   "outputs": [],
   "source": []
  },
  {
   "cell_type": "code",
   "execution_count": null,
   "id": "4c2e3392-0e12-4091-904d-98e1c0fd6fb9",
   "metadata": {},
   "outputs": [],
   "source": []
  },
  {
   "cell_type": "code",
   "execution_count": null,
   "id": "dbee5e60-7cef-4ff2-a8b7-a0e2ab1dc26c",
   "metadata": {},
   "outputs": [],
   "source": []
  },
  {
   "cell_type": "code",
   "execution_count": null,
   "id": "35f43425-2e0f-4bac-bf7d-fefbb71ad6e5",
   "metadata": {},
   "outputs": [],
   "source": []
  },
  {
   "cell_type": "code",
   "execution_count": null,
   "id": "17003e0e-8555-4f9e-a28f-8ed46387d80e",
   "metadata": {},
   "outputs": [],
   "source": []
  }
 ],
 "metadata": {
  "kernelspec": {
   "display_name": "Python 3 (ipykernel)",
   "language": "python",
   "name": "python3"
  },
  "language_info": {
   "codemirror_mode": {
    "name": "ipython",
    "version": 3
   },
   "file_extension": ".py",
   "mimetype": "text/x-python",
   "name": "python",
   "nbconvert_exporter": "python",
   "pygments_lexer": "ipython3",
   "version": "3.8.5"
  }
 },
 "nbformat": 4,
 "nbformat_minor": 5
}

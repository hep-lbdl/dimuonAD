{
 "cells": [
  {
   "cell_type": "markdown",
   "id": "50845b24-c039-403e-9dcc-0b27e88c9437",
   "metadata": {},
   "source": [
    "# Simulation processing: step 1"
   ]
  },
  {
   "cell_type": "markdown",
   "id": "e59ab817-3103-4459-a6e0-2e534f9a1a62",
   "metadata": {},
   "source": [
    "Goal: take the simulated hadrons and create an output file for fj clustering"
   ]
  },
  {
   "cell_type": "code",
   "execution_count": null,
   "id": "624fe33a-2e28-4a0e-8a9e-29a3b7e51028",
   "metadata": {
    "tags": []
   },
   "outputs": [],
   "source": [
    "import h5py\n",
    "import numpy as np\n",
    "import matplotlib.pyplot as plt\n",
    "import vector"
   ]
  },
  {
   "cell_type": "code",
   "execution_count": null,
   "id": "d88348e9-0d25-40c9-94ed-d50d2340f0ee",
   "metadata": {
    "tags": []
   },
   "outputs": [],
   "source": [
    "simulation_dir = '/global/cfs/cdirs/m3246/ewitkowski/delphes_data'\n",
    "sim_code = \"wp_wzpythia_forcms_1k-mz50.0-mw40.0-mwp1000_8000199\"\n",
    "sim_code = \"wp_wzpythia_forcms_1k-mz70.0-mw60.0-mwp1200_8000200\"\n",
    "sim_code = \"zmm_forcms_1k-mz90.1-mw80.4_full\""
   ]
  },
  {
   "cell_type": "code",
   "execution_count": null,
   "id": "af9c2a9e-beb0-40f4-9b47-d61bb77d58a8",
   "metadata": {
    "tags": []
   },
   "outputs": [],
   "source": [
    "selected_tower_ET = h5py.File(f'{simulation_dir}/{sim_code}_Tower_ET.h5', 'r')['values']\n",
    "selected_tower_eta = h5py.File(f'{simulation_dir}/{sim_code}_Tower_Eta.h5', 'r')['values']\n",
    "selected_tower_phi = h5py.File(f'{simulation_dir}/{sim_code}_Tower_Phi.h5', 'r')['values']\n",
    "selected_tower_E = h5py.File(f'{simulation_dir}/{sim_code}_Tower_E.h5', 'r')['values']\n",
    "\n",
    "selected_muon_pT = h5py.File(f'{simulation_dir}/{sim_code}_Muon_PT.h5', 'r')['values']\n",
    "selected_muon_eta = h5py.File(f'{simulation_dir}/{sim_code}_Muon_Eta.h5', 'r')['values']\n",
    "selected_muon_phi = h5py.File(f'{simulation_dir}/{sim_code}_Muon_Phi.h5', 'r')['values']"
   ]
  },
  {
   "cell_type": "code",
   "execution_count": null,
   "id": "e32733a1-95f7-416a-bbe5-4d6f00cbb82a",
   "metadata": {
    "tags": []
   },
   "outputs": [],
   "source": [
    "muon_mass = 0.1056583755 # GeV\n",
    "\n",
    "start_read, stop_read, chunk_size = 0, 500, 100\n",
    "update_freq = int(chunk_size/10.0)\n",
    "\n",
    "num_rejects = 0"
   ]
  },
  {
   "cell_type": "code",
   "execution_count": null,
   "id": "0f1deec9-0115-470f-a47b-5e3ed9fa240a",
   "metadata": {
    "tags": []
   },
   "outputs": [],
   "source": [
    "current_chunk_start = start_read\n",
    "\n",
    "while current_chunk_start < stop_read:\n",
    "    \n",
    "    current_chunk_stop = current_chunk_start + chunk_size\n",
    "    print(f\"Processing chunk from {current_chunk_start} to {current_chunk_stop}...\")\n",
    "\n",
    "    outfile_dimuons = f\"/global/cfs/cdirs/m3246/rmastand/dimuonAD/data_post_fj/muons_only_{current_chunk_start}_{current_chunk_stop}_{sim_code}.dat\"\n",
    "    outfile_hadrons = f\"/global/cfs/cdirs/m3246/rmastand/dimuonAD/data_pre_fj/hadrons_only_{current_chunk_start}_{current_chunk_stop}_{sim_code}.dat\"\n",
    "\n",
    "    ofile_muons = open(outfile_dimuons, \"w\")\n",
    "    ofile_hadrons = open(outfile_hadrons, \"w\")\n",
    "   \n",
    "    for event in range(current_chunk_start, current_chunk_stop):\n",
    "\n",
    "        if event % update_freq == 0:\n",
    "            print(f\"On event {event}...\")\n",
    "\n",
    "        # get the nonmuons\n",
    "        loc_E = selected_tower_E[event]\n",
    "        loc_eta = selected_tower_eta[event][loc_E != 0]\n",
    "        loc_phi = selected_tower_phi[event][loc_E != 0]\n",
    "        loc_ET = selected_tower_ET[event][loc_E != 0]\n",
    "        loc_E = loc_E[loc_E != 0]    \n",
    "\n",
    "        # get the muons\n",
    "        loc_mu_pt = selected_muon_pT[event]\n",
    "        loc_mu_eta = selected_muon_eta[event][loc_mu_pt != 0]\n",
    "        loc_mu_phi = selected_muon_phi[event][loc_mu_pt != 0]\n",
    "        loc_mu_pt = loc_mu_pt[loc_mu_pt != 0]\n",
    "        \n",
    "        \n",
    "        if len(loc_mu_pt) != 2:\n",
    "            num_rejects += 1\n",
    "        \n",
    "        else:\n",
    "            ofile_muons.write(\"#BEGIN\\n\")\n",
    "            ofile_hadrons.write(\"#BEGIN\\n\")\n",
    "\n",
    "            # get the muons\n",
    "            # construct the muon 4-vector\n",
    "            mu_1 = vector.obj(pt = loc_mu_pt[0], eta = loc_mu_eta[0], phi = loc_mu_phi[0], M = muon_mass)\n",
    "            mu_2 = vector.obj(pt = loc_mu_pt[1], eta = loc_mu_eta[1], phi = loc_mu_phi[1], M = muon_mass)\n",
    "            dimu_system = mu_1 + mu_2\n",
    "\n",
    "            ofile_muons.write(f\"{dimu_system.pt} {dimu_system.eta} {dimu_system.phi} {dimu_system.M}\\n\")\n",
    "\n",
    "            # get the hadrons\n",
    "            for particle_i in range(len(loc_E)):\n",
    "                particle_vector = vector.obj(E = loc_E[particle_i], eta = loc_eta[particle_i], phi = loc_phi[particle_i], pt = loc_ET[particle_i])\n",
    "                ofile_hadrons.write(f\"{particle_vector.px} {particle_vector.py} {particle_vector.pz} {particle_vector.E}\\n\")\n",
    "\n",
    "            ofile_muons.write(\"#END\\n\")\n",
    "            ofile_hadrons.write(\"#END\\n\")\n",
    "\n",
    "    ofile_muons.close()  \n",
    "    ofile_hadrons.close()\n",
    "    \n",
    "    print(f\"Done processing chunk.\")\n",
    "    print(\"\\n\")\n",
    "    \n",
    "    current_chunk_start += chunk_size\n",
    "\n",
    "print(\"Done completely!\")\n",
    "\n",
    "\n",
    "print(f\"{num_rejects} events without 2 muons\")\n",
    "                                         "
   ]
  },
  {
   "cell_type": "code",
   "execution_count": null,
   "id": "2b16fdd3-77e9-45f8-b9c7-7444cb2b355e",
   "metadata": {},
   "outputs": [],
   "source": []
  },
  {
   "cell_type": "code",
   "execution_count": null,
   "id": "5d646423-eb76-48f7-bbec-6520671f578e",
   "metadata": {},
   "outputs": [],
   "source": []
  },
  {
   "cell_type": "code",
   "execution_count": null,
   "id": "eb8aa94b-5495-470a-a72f-3a58f0cc940f",
   "metadata": {},
   "outputs": [],
   "source": []
  },
  {
   "cell_type": "code",
   "execution_count": null,
   "id": "7e6ba2e8-f415-49fc-a7a4-173d4aa4b424",
   "metadata": {},
   "outputs": [],
   "source": []
  },
  {
   "cell_type": "code",
   "execution_count": null,
   "id": "e9eb9da6-7350-4162-a341-46b7c4bc8ff0",
   "metadata": {},
   "outputs": [],
   "source": []
  },
  {
   "cell_type": "code",
   "execution_count": null,
   "id": "e5acb07f-6aab-46fc-8554-055b0defa968",
   "metadata": {},
   "outputs": [],
   "source": []
  },
  {
   "cell_type": "code",
   "execution_count": null,
   "id": "fbab6de4-56b7-4d83-bf9f-78a11a09f159",
   "metadata": {},
   "outputs": [],
   "source": []
  }
 ],
 "metadata": {
  "kernelspec": {
   "display_name": "Python 3 (ipykernel)",
   "language": "python",
   "name": "python3"
  },
  "language_info": {
   "codemirror_mode": {
    "name": "ipython",
    "version": 3
   },
   "file_extension": ".py",
   "mimetype": "text/x-python",
   "name": "python",
   "nbconvert_exporter": "python",
   "pygments_lexer": "ipython3",
   "version": "3.8.5"
  }
 },
 "nbformat": 4,
 "nbformat_minor": 5
}

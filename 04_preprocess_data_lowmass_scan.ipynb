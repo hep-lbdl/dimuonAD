{
 "cells": [
  {
   "cell_type": "markdown",
   "id": "c3ee99a7-0a63-4058-bdee-369d6c2f0122",
   "metadata": {},
   "source": [
    "# Data processing for bump hunt"
   ]
  },
  {
   "cell_type": "markdown",
   "id": "2411f5a9-06b8-42c2-9f2c-0d6c3acd17af",
   "metadata": {},
   "source": [
    "Main differences for bump hunt:\n",
    "- No fully supervised set\n",
    "- test set covers the whole SR / SB range\n",
    "\n"
   ]
  },
  {
   "cell_type": "code",
   "execution_count": 1,
   "id": "26433067-97c1-4a2c-9b62-5cb6b7cf674c",
   "metadata": {
    "tags": []
   },
   "outputs": [],
   "source": [
    "import numpy as np\n",
    "import matplotlib.pyplot as plt\n",
    "import pickle\n",
    "\n",
    "from helpers.plotting import *\n",
    "from helpers.physics_functions import *\n",
    "from helpers.data_transforms import *\n",
    "\n",
    "plt.style.use(\"../science.mplstyle\")\n"
   ]
  },
  {
   "cell_type": "code",
   "execution_count": 2,
   "id": "2eb1506e-478c-4ca6-88be-bea7cdc06935",
   "metadata": {
    "tags": []
   },
   "outputs": [],
   "source": [
    "import yaml\n",
    "with open(\"workflow.yaml\", \"r\") as file:\n",
    "    workflow = yaml.safe_load(file)"
   ]
  },
  {
   "cell_type": "code",
   "execution_count": 3,
   "id": "e679a068-79e8-4bd2-adc2-1010dac2f6ca",
   "metadata": {
    "tags": []
   },
   "outputs": [
    {
     "name": "stdout",
     "output_type": "stream",
     "text": [
      "DATA_nojet opp sign (21803678,)\n",
      "DATA_nojet same sign (6756613,)\n"
     ]
    }
   ],
   "source": [
    "project_id = \"lowmass\"\n",
    "scaler_id = \"lowmass_scan\"\n",
    "\n",
    "working_dir = \"/global/cfs/cdirs/m3246/rmastand/dimuonAD\"\n",
    "path_to_compiled_data = f\"{working_dir}/compiled_data/{project_id}\"\n",
    "    \n",
    "    \n",
    "run_jet = False\n",
    "if run_jet:\n",
    "    codes_list = [\"DATA_jet\"]\n",
    "    sim_id = \"DATA_jet\" # should probably rename this to data_id\n",
    "else:\n",
    "    codes_list = [\"DATA_nojet\"]\n",
    "    sim_id = \"DATA_nojet\" # should probably rename this to data_id\n",
    "signal_id = \"\"\n",
    "\n",
    "    \n",
    "uncut_data, uncut_data_samesign = {code:{} for code in codes_list},  {code:{} for code in codes_list}\n",
    "\n",
    "for code in codes_list:\n",
    "    with open(f\"{path_to_compiled_data}/{code}\", \"rb\") as ifile:\n",
    "        tmp_dict = pickle.load(ifile)\n",
    "        for key in tmp_dict.keys():\n",
    "            if \"samesign\" in key:\n",
    "                uncut_data_samesign[code][key[:-9]] = tmp_dict[key]\n",
    "            else:\n",
    "                uncut_data[code][key] = tmp_dict[key]\n",
    "        \n",
    "    \n",
    "    print(code, \"opp sign\",  uncut_data[code][list(uncut_data[code].keys())[0]].shape)\n",
    "    print(code, \"same sign\", uncut_data_samesign[code][list(uncut_data[code].keys())[0]].shape)"
   ]
  },
  {
   "cell_type": "markdown",
   "id": "e2c982c8-50b6-4235-880e-5904bf934f33",
   "metadata": {},
   "source": [
    "## Visualize the data"
   ]
  },
  {
   "cell_type": "code",
   "execution_count": 4,
   "id": "357e179e-049f-4449-82c0-4539af8f714b",
   "metadata": {
    "tags": []
   },
   "outputs": [
    {
     "name": "stdout",
     "output_type": "stream",
     "text": [
      "['mu0_ip3d', 'mu1_ip3d', 'mu0_jetiso', 'mu1_jetiso', 'mu0_eta', 'mu1_eta', 'mu0_pt', 'mu1_pt', 'mu0_phi', 'mu1_phi', 'mu0_iso04', 'mu1_iso04', 'dimu_pt', 'dimu_eta', 'dimu_phi', 'n_muons', 'n_jets', 'dimu_mass', 'mumu_deltaR', 'mumu_deltapT']\n"
     ]
    }
   ],
   "source": [
    "feature_set = list(uncut_data[codes_list[0]].keys())\n",
    "print(feature_set)\n",
    "\n",
    "#hist_all_features_dict([uncut_data[codes_list[0]]], codes_list, feature_set, kwargs_dict_dtype, nice_labels=True)\n",
    "    \n"
   ]
  },
  {
   "cell_type": "markdown",
   "id": "7601bfc0-a52a-418a-9e46-93d646d7024c",
   "metadata": {},
   "source": [
    "## Make cuts\n",
    "\n",
    "Now let's define cuts on the data. \n",
    "\n",
    "Muon cuts were made previously (and we don't want to make cuts on the dimuon system, either)\n",
    "\n",
    "Random seed is used to set aside a portion of the test set"
   ]
  },
  {
   "cell_type": "code",
   "execution_count": 5,
   "id": "d395893c-375c-4ff9-8fba-8a84974cc7c3",
   "metadata": {
    "tags": []
   },
   "outputs": [
    {
     "data": {
      "image/png": "[encoded data removed]",
      "text/plain": [
       "<Figure size 432x288 with 1 Axes>"
      ]
     },
     "metadata": {
      "needs_background": "light"
     },
     "output_type": "display_data"
    },
    {
     "name": "stdout",
     "output_type": "stream",
     "text": [
      "dict_keys([0, 1, 2, 3, 4, 5, 6, 7, 8, 9, 10, 11, 12, 13, 14, 15, 16, 17, 18, 19, 20, 21, 22, 23, 24, 25, 26, 27, 28, 29, 30, 31, 32, 33, 34, 35, 36, 37, 38, 39, 40, 41, 42, 43, 44, 45, 46, 47, 48, 49, 50, 51, 52, 53, 54, 55, 56, 57, 58, 59, 60, 61, 62, 63, 64, 65, 66, 67, 68, 69, 70, 71, 72, 73, 74, 75, 76, 77, 78, 79, 80, 81, 82, 83, 84, 85, 86, 87, 88, 89, 90, 91, 92, 93, 94, 95, 96, 97, 98, 99, 100, 101, 102, 103, 104, 105, 106, 107, 108, 109, 110, 111, 112, 113, 114, 115, 116, 117, 118, 119, 120, 121, 122, 123, 124, 125, 126, 127, 128, 129, 130, 131, 132, 133, 134, 135, 136, 137, 138, 139, 140, 141, 142, 143, 144, 145, 146, 147, 148, 149, 150, 151, 152, 153, 154, 155, 156, 157, 158, 159, 160, 161, 162, 163, 164, 165, 166, 167, 168, 169, 170, 171, 172, 173, 174, 175, 176, 177, 178, 179, 180, 181, 182, 183, 184, 185, 186, 187, 188, 189, 190, 191, 192])\n"
     ]
    }
   ],
   "source": [
    "# define SB / SR choices\n",
    "\n",
    "detector_resolution = 0.01\n",
    "start_mass = 0.3\n",
    "\n",
    "current_mass = start_mass\n",
    "all_bins = [start_mass]\n",
    "\n",
    "\n",
    "while current_mass < 20:\n",
    "    loc_bin_width = current_mass*detector_resolution\n",
    "    current_mass += loc_bin_width\n",
    "    all_bins.append(current_mass)\n",
    "    \n",
    "\n",
    "num_bins_total = len(all_bins)\n",
    "\n",
    "SB_num_bins = 17\n",
    "SR_num_bins = 5\n",
    "window_gap = 2\n",
    "window_length = 2*SB_num_bins + SR_num_bins\n",
    "\n",
    "\n",
    "\n",
    "bin_definitions = {}\n",
    "    \n",
    "plt.figure()\n",
    "\n",
    "window_index = 0\n",
    "\n",
    "for i in range(0, num_bins_total, window_gap):\n",
    "    if i + window_length < num_bins_total:\n",
    "        \n",
    "        bin_definitions[window_index] = {\"SBL\":[],\"SR\":[], \"SBH\":[]}\n",
    "        \n",
    "        \n",
    "        bin_definitions[window_index][\"SBL\"] = all_bins[i:i+SB_num_bins+1]\n",
    "        bin_definitions[window_index][\"SR\"] = all_bins[i+SB_num_bins:i+SB_num_bins+SR_num_bins+1]\n",
    "        bin_definitions[window_index][\"SBH\"] = all_bins[i+SB_num_bins+SR_num_bins:i+2*SB_num_bins+SR_num_bins+1]\n",
    "        \n",
    "        plt.plot(bin_definitions[window_index][\"SBL\"], [i for x in bin_definitions[window_index][\"SBL\"]], color = \"red\")\n",
    "        plt.plot(bin_definitions[window_index][\"SR\"], [i for x in bin_definitions[window_index][\"SR\"]], color = \"blue\")\n",
    "        plt.plot(bin_definitions[window_index][\"SBH\"], [i for x in bin_definitions[window_index][\"SBH\"]], color = \"red\")\n",
    "        \n",
    "        window_index += 1\n",
    "\n",
    "plt.xlabel(\"$M$ [GeV]\")\n",
    "plt.yticks([])\n",
    "plt.show()\n",
    "    \n",
    "num_windows = len(bin_definitions.keys())\n",
    "print(bin_definitions.keys())\n",
    "with open(f\"{working_dir}/projects/{scaler_id}/processed_data/bin_definitions\", \"wb\") as ofile:\n",
    "    pickle.dump(bin_definitions, ofile)\n",
    "\n"
   ]
  },
  {
   "cell_type": "code",
   "execution_count": 6,
   "id": "6434c2f7-f1c1-46af-a084-452432fb9436",
   "metadata": {},
   "outputs": [
    {
     "name": "stdout",
     "output_type": "stream",
     "text": [
      "DATA_nojet oppsign has shape (21803678,) after cuts\n",
      "DATA_nojet samesign has shape (6756613,) after cuts\n"
     ]
    }
   ],
   "source": [
    "cut_data, cut_data_samesign = {code:{} for code in codes_list},  {code:{} for code in codes_list}\n",
    "\n",
    "for code in codes_list:\n",
    "    \n",
    "    # define cuts to reduce the starting significance\n",
    "    pass_indices = (uncut_data[code][\"dimu_pt\"] >= -1)\n",
    "    pass_indices_samesign = (uncut_data_samesign[code][\"dimu_pt\"] >= -1)\n",
    "        \n",
    "    \n",
    "    # apply cuts to oppsign\n",
    "    for feat in feature_set:\n",
    "        cut_data[code][feat] = uncut_data[code][feat][pass_indices]\n",
    "    # apply cuts to samesign\n",
    "    for feat in feature_set:\n",
    "        cut_data_samesign[code][feat] = uncut_data_samesign[code][feat][pass_indices_samesign]\n",
    "    \n",
    "    print(f\"{code} oppsign has shape {cut_data[code][feat].shape} after cuts\")\n",
    "    print(f\"{code} samesign has shape {cut_data_samesign[code][feat].shape} after cuts\")\n",
    "    \n",
    "    \n",
    "#hist_all_features_dict([cut_data[\"DATA_nojet\"]], [\"DATA_nojet\"], feature_set, kwargs_dict_dtype, nice_labels=True)\n"
   ]
  },
  {
   "cell_type": "markdown",
   "id": "209a95ef-1362-4f8a-8250-54c1c7ebec62",
   "metadata": {},
   "source": [
    "Check how local cuts affect the starting significance"
   ]
  },
  {
   "cell_type": "code",
   "execution_count": 7,
   "id": "82364f41-679c-4a03-9711-8fd23b47c246",
   "metadata": {
    "tags": []
   },
   "outputs": [
    {
     "data": {
      "image/png": "[encoded data removed]",
      "text/plain": [
       "<Figure size 504x360 with 1 Axes>"
      ]
     },
     "metadata": {
      "needs_background": "light"
     },
     "output_type": "display_data"
    }
   ],
   "source": [
    "window_index = 2\n",
    "\n",
    "loc_SR_left, loc_SR_right = min(bin_definitions[window_index][\"SR\"]), max(bin_definitions[window_index][\"SR\"])\n",
    "loc_SB_left, loc_SB_right = min(bin_definitions[window_index][\"SBL\"]), max(bin_definitions[window_index][\"SBH\"])\n",
    "\n",
    "\n",
    "plot_bins_all, plot_bins_SR, plot_bins_left, plot_bins_right, plot_centers_all, plot_centers_SR, plot_centers_SB = get_bins(loc_SR_left, loc_SR_right, loc_SB_left, loc_SB_right, num_bins_SR= 6)\n",
    "\n",
    "\n",
    "plt.figure(figsize = (7,5))\n",
    "\n",
    "x = np.linspace(loc_SB_left, loc_SB_right, 100) # plot curve fit\n",
    "\n",
    "masses_with_bounds = cut_data[code][\"dimu_mass\"][(cut_data[code][\"dimu_mass\"] >= loc_SB_left) & (cut_data[code][\"dimu_mass\"] <= loc_SB_right)]\n",
    "masses_with_bounds_samesign = cut_data_samesign[code][\"dimu_mass\"][(cut_data_samesign[code][\"dimu_mass\"] >= loc_SB_left) & (cut_data_samesign[code][\"dimu_mass\"] <= loc_SB_right)]\n",
    "\n",
    "\n",
    "plt.hist(masses_with_bounds, bins = plot_bins_all, lw = 2, histtype = \"step\", density = False, label = f\"OS\")\n",
    "plt.hist(masses_with_bounds_samesign, bins = plot_bins_all, lw = 2, histtype = \"step\", density = False, label = f\"SS\")\n",
    "\n",
    "\n",
    "plt.axvline(loc_SR_left)\n",
    "plt.axvline(loc_SR_right)\n",
    "\n",
    "plt.xlabel(\"Dimu M [GeV]\")\n",
    "plt.ylabel(\"Counts\")\n",
    "plt.legend(loc = (1, 0))\n",
    "\n",
    "#plt.yscale(\"log\")\n",
    "\n",
    "plt.show()\n",
    "\n",
    " \n",
    "    \n",
    "#hist_all_features(codes_list, cut_data, feature_set, kwargs_dict_dtype)\n"
   ]
  },
  {
   "cell_type": "markdown",
   "id": "089c12ec-2ba4-4dcc-933f-249167e278e1",
   "metadata": {},
   "source": [
    "Split data into bands"
   ]
  },
  {
   "cell_type": "code",
   "execution_count": 8,
   "id": "076c8893-c905-4d2d-b712-c0e2105b3350",
   "metadata": {
    "tags": []
   },
   "outputs": [
    {
     "name": "stdout",
     "output_type": "stream",
     "text": [
      "SB bounds: 0.3, 0.44223675255095657\n",
      "SR bounds: 0.3552913294118806, 0.3734147579252762\n",
      "Total events opp sign: 231276\n",
      "Total events same sign: 9164\n",
      "{'SBL': 10286, 'SR': 2906, 'SBH': 9934}\n",
      "{'SBL': 3236, 'SR': 1145, 'SBH': 4783}\n",
      "\n",
      "SB bounds: 0.30602999999999997, 0.4511257112772308\n",
      "SR bounds: 0.3624326851330594, 0.3809203945595742\n"
     ]
    },
    {
     "name": "stderr",
     "output_type": "stream",
     "text": [
      "/global/u1/r/rmastand/dimuonAD/helpers/data_transforms.py:8: RuntimeWarning: invalid value encountered in log\n",
      "  logit = np.log(x_norm/(1-x_norm+1e-10)+1e-10)\n"
     ]
    },
    {
     "name": "stdout",
     "output_type": "stream",
     "text": [
      "Total events opp sign: 462776\n",
      "Total events same sign: 18704\n",
      "{'SBL': 10331, 'SR': 2945, 'SBH': 9873}\n",
      "{'SBL': 3407, 'SR': 1182, 'SBH': 4951}\n",
      "\n",
      "SB bounds: 0.31218120299999996, 0.4601933380739031\n",
      "SR bounds: 0.36971758210423383, 0.38857689449022165\n"
     ]
    },
    {
     "name": "stderr",
     "output_type": "stream",
     "text": [
      "/global/u1/r/rmastand/dimuonAD/helpers/data_transforms.py:8: RuntimeWarning: invalid value encountered in log\n",
      "  logit = np.log(x_norm/(1-x_norm+1e-10)+1e-10)\n"
     ]
    },
    {
     "name": "stdout",
     "output_type": "stream",
     "text": [
      "Total events opp sign: 692717\n",
      "Total events same sign: 28512\n",
      "{'SBL': 10163, 'SR': 2982, 'SBH': 9848}\n",
      "{'SBL': 3447, 'SR': 1262, 'SBH': 5099}\n",
      "\n",
      "SB bounds: 0.31845604518029996, 0.4694432241691886\n",
      "SR bounds: 0.37714890550452895, 0.3963872900694751\n"
     ]
    },
    {
     "name": "stderr",
     "output_type": "stream",
     "text": [
      "/global/u1/r/rmastand/dimuonAD/helpers/data_transforms.py:8: RuntimeWarning: invalid value encountered in log\n",
      "  logit = np.log(x_norm/(1-x_norm+1e-10)+1e-10)\n"
     ]
    },
    {
     "name": "stdout",
     "output_type": "stream",
     "text": [
      "Total events opp sign: 922400\n",
      "Total events same sign: 38656\n",
      "{'SBL': 10204, 'SR': 2918, 'SBH': 9844}\n",
      "{'SBL': 3572, 'SR': 1256, 'SBH': 5316}\n",
      "\n",
      "SB bounds: 0.32485701168842396, 0.47887903297498924\n",
      "SR bounds: 0.38472959850516997, 0.40435467459987157\n"
     ]
    },
    {
     "name": "stderr",
     "output_type": "stream",
     "text": [
      "/global/u1/r/rmastand/dimuonAD/helpers/data_transforms.py:8: RuntimeWarning: invalid value encountered in log\n",
      "  logit = np.log(x_norm/(1-x_norm+1e-10)+1e-10)\n"
     ]
    },
    {
     "name": "stdout",
     "output_type": "stream",
     "text": [
      "Total events opp sign: 1150464\n",
      "Total events same sign: 49111\n",
      "{'SBL': 10040, 'SR': 2917, 'SBH': 9847}\n",
      "{'SBL': 3699, 'SR': 1347, 'SBH': 5409}\n",
      "\n",
      "SB bounds: 0.3313866376233613, 0.4885045015377865\n",
      "SR bounds: 0.39246266343512387, 0.41248220355932896\n"
     ]
    },
    {
     "name": "stderr",
     "output_type": "stream",
     "text": [
      "/global/u1/r/rmastand/dimuonAD/helpers/data_transforms.py:8: RuntimeWarning: invalid value encountered in log\n",
      "  logit = np.log(x_norm/(1-x_norm+1e-10)+1e-10)\n"
     ]
    },
    {
     "name": "stdout",
     "output_type": "stream",
     "text": [
      "Total events opp sign: 1378331\n",
      "Total events same sign: 59941\n",
      "{'SBL': 9998, 'SR': 2930, 'SBH': 9857}\n",
      "{'SBL': 3843, 'SR': 1391, 'SBH': 5596}\n",
      "\n",
      "SB bounds: 0.33804750903959085, 0.498323442018696\n",
      "SR bounds: 0.40035116297016987, 0.42077309585087147\n"
     ]
    },
    {
     "name": "stderr",
     "output_type": "stream",
     "text": [
      "/global/u1/r/rmastand/dimuonAD/helpers/data_transforms.py:8: RuntimeWarning: invalid value encountered in log\n",
      "  logit = np.log(x_norm/(1-x_norm+1e-10)+1e-10)\n"
     ]
    },
    {
     "name": "stdout",
     "output_type": "stream",
     "text": [
      "Total events opp sign: 1605846\n",
      "Total events same sign: 71063\n",
      "{'SBL': 9998, 'SR': 2866, 'SBH': 9887}\n",
      "{'SBL': 3997, 'SR': 1413, 'SBH': 5712}\n",
      "\n",
      "SB bounds: 0.34484226397128664, 0.5083397432032718\n",
      "SR bounds: 0.4083982213458703, 0.429230635077474\n"
     ]
    },
    {
     "name": "stderr",
     "output_type": "stream",
     "text": [
      "/global/u1/r/rmastand/dimuonAD/helpers/data_transforms.py:8: RuntimeWarning: invalid value encountered in log\n",
      "  logit = np.log(x_norm/(1-x_norm+1e-10)+1e-10)\n"
     ]
    },
    {
     "name": "stdout",
     "output_type": "stream",
     "text": [
      "Total events opp sign: 1833925\n",
      "Total events same sign: 82582\n",
      "{'SBL': 9990, 'SR': 2906, 'SBH': 9910}\n",
      "{'SBL': 4128, 'SR': 1463, 'SBH': 5928}\n",
      "\n",
      "SB bounds: 0.35177359347710946, 0.5185573720416575\n",
      "SR bounds: 0.41660702559492224, 0.43785817084253126\n"
     ]
    },
    {
     "name": "stderr",
     "output_type": "stream",
     "text": [
      "/global/u1/r/rmastand/dimuonAD/helpers/data_transforms.py:8: RuntimeWarning: invalid value encountered in log\n",
      "  logit = np.log(x_norm/(1-x_norm+1e-10)+1e-10)\n"
     ]
    },
    {
     "name": "stdout",
     "output_type": "stream",
     "text": [
      "Total events opp sign: 2061921\n",
      "Total events same sign: 94514\n",
      "{'SBL': 9964, 'SR': 2935, 'SBH': 9899}\n",
      "{'SBL': 4305, 'SR': 1545, 'SBH': 6082}\n",
      "\n",
      "SB bounds: 0.3588442427059994, 0.5289803752196949\n",
      "SR bounds: 0.4249808268093802, 0.44665912007646613\n"
     ]
    },
    {
     "name": "stderr",
     "output_type": "stream",
     "text": [
      "/global/u1/r/rmastand/dimuonAD/helpers/data_transforms.py:8: RuntimeWarning: invalid value encountered in log\n",
      "  logit = np.log(x_norm/(1-x_norm+1e-10)+1e-10)\n"
     ]
    },
    {
     "name": "stdout",
     "output_type": "stream",
     "text": [
      "Total events opp sign: 2290242\n",
      "Total events same sign: 106771\n",
      "{'SBL': 9951, 'SR': 2909, 'SBH': 9970}\n",
      "{'SBL': 4456, 'SR': 1617, 'SBH': 6184}\n",
      "\n",
      "SB bounds: 0.36605701198438995, 0.5396128807616107\n",
      "SR bounds: 0.43352294142824876, 0.45563696839000306\n"
     ]
    },
    {
     "name": "stderr",
     "output_type": "stream",
     "text": [
      "/global/u1/r/rmastand/dimuonAD/helpers/data_transforms.py:8: RuntimeWarning: invalid value encountered in log\n",
      "  logit = np.log(x_norm/(1-x_norm+1e-10)+1e-10)\n"
     ]
    },
    {
     "name": "stdout",
     "output_type": "stream",
     "text": [
      "Total events opp sign: 2518857\n",
      "Total events same sign: 119349\n",
      "{'SBL': 9924, 'SR': 2866, 'SBH': 10070}\n",
      "{'SBL': 4588, 'SR': 1671, 'SBH': 6319}\n",
      "\n",
      "SB bounds: 0.3734147579252762, 0.5504590996649191\n",
      "SR bounds: 0.44223675255095657, 0.46479527145464217\n"
     ]
    },
    {
     "name": "stderr",
     "output_type": "stream",
     "text": [
      "/global/u1/r/rmastand/dimuonAD/helpers/data_transforms.py:8: RuntimeWarning: invalid value encountered in log\n",
      "  logit = np.log(x_norm/(1-x_norm+1e-10)+1e-10)\n"
     ]
    },
    {
     "name": "stdout",
     "output_type": "stream",
     "text": [
      "Total events opp sign: 2749438\n",
      "Total events same sign: 132316\n",
      "{'SBL': 9934, 'SR': 2861, 'SBH': 10262}\n",
      "{'SBL': 4783, 'SR': 1688, 'SBH': 6496}\n",
      "\n",
      "SB bounds: 0.3809203945595742, 0.561523327568184\n",
      "SR bounds: 0.4511257112772308, 0.47413765641088046\n"
     ]
    },
    {
     "name": "stderr",
     "output_type": "stream",
     "text": [
      "/global/u1/r/rmastand/dimuonAD/helpers/data_transforms.py:8: RuntimeWarning: invalid value encountered in log\n",
      "  logit = np.log(x_norm/(1-x_norm+1e-10)+1e-10)\n",
      "/global/u1/r/rmastand/dimuonAD/helpers/data_transforms.py:8: RuntimeWarning: invalid value encountered in log\n",
      "  logit = np.log(x_norm/(1-x_norm+1e-10)+1e-10)\n"
     ]
    },
    {
     "name": "stdout",
     "output_type": "stream",
     "text": [
      "Total events opp sign: 2981040\n",
      "Total events same sign: 145670\n",
      "{'SBL': 9873, 'SR': 2880, 'SBH': 10406}\n",
      "{'SBL': 4951, 'SR': 1724, 'SBH': 6679}\n",
      "\n",
      "SB bounds: 0.38857689449022165, 0.5728099464523044\n",
      "SR bounds: 0.4601933380739031, 0.4836678233047391\n",
      "Total events opp sign: 3213884\n",
      "Total events same sign: 159438\n",
      "{'SBL': 9848, 'SR': 2899, 'SBH': 10537}\n",
      "{'SBL': 5099, 'SR': 1752, 'SBH': 6917}\n",
      "\n",
      "SB bounds: 0.3963872900694751, 0.5843234263759958\n",
      "SR bounds: 0.4694432241691886, 0.49338954655316436\n"
     ]
    },
    {
     "name": "stderr",
     "output_type": "stream",
     "text": [
      "/global/u1/r/rmastand/dimuonAD/helpers/data_transforms.py:8: RuntimeWarning: invalid value encountered in log\n",
      "  logit = np.log(x_norm/(1-x_norm+1e-10)+1e-10)\n"
     ]
    },
    {
     "name": "stdout",
     "output_type": "stream",
     "text": [
      "Total events opp sign: 3448197\n",
      "Total events same sign: 173603\n",
      "{'SBL': 9844, 'SR': 2930, 'SBH': 10656}\n",
      "{'SBL': 5316, 'SR': 1759, 'SBH': 7090}\n",
      "\n",
      "SB bounds: 0.40435467459987157, 0.5960683272461533\n",
      "SR bounds: 0.47887903297498924, 0.5033066764388829\n"
     ]
    },
    {
     "name": "stderr",
     "output_type": "stream",
     "text": [
      "/global/u1/r/rmastand/dimuonAD/helpers/data_transforms.py:8: RuntimeWarning: invalid value encountered in log\n",
      "  logit = np.log(x_norm/(1-x_norm+1e-10)+1e-10)\n"
     ]
    },
    {
     "name": "stdout",
     "output_type": "stream",
     "text": [
      "Total events opp sign: 3683856\n",
      "Total events same sign: 188141\n",
      "{'SBL': 9847, 'SR': 2956, 'SBH': 10762}\n",
      "{'SBL': 5409, 'SR': 1806, 'SBH': 7323}\n",
      "\n",
      "SB bounds: 0.41248220355932896, 0.608049300623801\n",
      "SR bounds: 0.4885045015377865, 0.5134231406353045\n"
     ]
    },
    {
     "name": "stderr",
     "output_type": "stream",
     "text": [
      "/global/u1/r/rmastand/dimuonAD/helpers/data_transforms.py:8: RuntimeWarning: invalid value encountered in log\n",
      "  logit = np.log(x_norm/(1-x_norm+1e-10)+1e-10)\n"
     ]
    },
    {
     "name": "stdout",
     "output_type": "stream",
     "text": [
      "Total events opp sign: 3921150\n",
      "Total events same sign: 203133\n",
      "{'SBL': 9857, 'SR': 2938, 'SBH': 10932}\n",
      "{'SBL': 5596, 'SR': 1905, 'SBH': 7491}\n",
      "\n",
      "SB bounds: 0.42077309585087147, 0.6202710915663394\n",
      "SR bounds: 0.498323442018696, 0.5237429457620741\n"
     ]
    },
    {
     "name": "stderr",
     "output_type": "stream",
     "text": [
      "/global/u1/r/rmastand/dimuonAD/helpers/data_transforms.py:8: RuntimeWarning: invalid value encountered in log\n",
      "  logit = np.log(x_norm/(1-x_norm+1e-10)+1e-10)\n"
     ]
    },
    {
     "name": "stdout",
     "output_type": "stream",
     "text": [
      "Total events opp sign: 4160371\n",
      "Total events same sign: 218527\n",
      "{'SBL': 9887, 'SR': 2969, 'SBH': 11065}\n",
      "{'SBL': 5712, 'SR': 1988, 'SBH': 7694}\n",
      "\n",
      "SB bounds: 0.429230635077474, 0.6327385405068229\n",
      "SR bounds: 0.5083397432032718, 0.5342701789718918\n"
     ]
    },
    {
     "name": "stderr",
     "output_type": "stream",
     "text": [
      "/global/u1/r/rmastand/dimuonAD/helpers/data_transforms.py:8: RuntimeWarning: invalid value encountered in log\n",
      "  logit = np.log(x_norm/(1-x_norm+1e-10)+1e-10)\n",
      "/global/u1/r/rmastand/dimuonAD/helpers/data_transforms.py:8: RuntimeWarning: invalid value encountered in log\n",
      "  logit = np.log(x_norm/(1-x_norm+1e-10)+1e-10)\n"
     ]
    },
    {
     "name": "stdout",
     "output_type": "stream",
     "text": [
      "Total events opp sign: 4401615\n",
      "Total events same sign: 234293\n",
      "{'SBL': 9910, 'SR': 2988, 'SBH': 11225}\n",
      "{'SBL': 5928, 'SR': 1967, 'SBH': 7871}\n",
      "\n",
      "SB bounds: 0.43785817084253126, 0.64545658517101\n",
      "SR bounds: 0.5185573720416575, 0.5450090095692268\n"
     ]
    },
    {
     "name": "stderr",
     "output_type": "stream",
     "text": [
      "/global/u1/r/rmastand/dimuonAD/helpers/data_transforms.py:8: RuntimeWarning: invalid value encountered in log\n",
      "  logit = np.log(x_norm/(1-x_norm+1e-10)+1e-10)\n"
     ]
    },
    {
     "name": "stdout",
     "output_type": "stream",
     "text": [
      "Total events opp sign: 4645335\n",
      "Total events same sign: 250468\n",
      "{'SBL': 9899, 'SR': 3129, 'SBH': 11343}\n",
      "{'SBL': 6082, 'SR': 1991, 'SBH': 8102}\n",
      "\n",
      "SB bounds: 0.44665912007646613, 0.6584302625329473\n",
      "SR bounds: 0.5289803752196949, 0.5559636906615684\n",
      "Total events opp sign: 4891936\n",
      "Total events same sign: 267089\n",
      "{'SBL': 9970, 'SR': 3269, 'SBH': 11419}\n",
      "{'SBL': 6184, 'SR': 2094, 'SBH': 8343}\n",
      "\n",
      "SB bounds: 0.45563696839000306, 0.6716647108098596\n",
      "SR bounds: 0.5396128807616107, 0.5671385608438658\n"
     ]
    },
    {
     "name": "stderr",
     "output_type": "stream",
     "text": [
      "/global/u1/r/rmastand/dimuonAD/helpers/data_transforms.py:8: RuntimeWarning: invalid value encountered in log\n",
      "  logit = np.log(x_norm/(1-x_norm+1e-10)+1e-10)\n"
     ]
    },
    {
     "name": "stdout",
     "output_type": "stream",
     "text": [
      "Total events opp sign: 5142003\n",
      "Total events same sign: 284168\n",
      "{'SBL': 10070, 'SR': 3299, 'SBH': 11637}\n",
      "{'SBL': 6319, 'SR': 2186, 'SBH': 8574}\n",
      "\n",
      "SB bounds: 0.46479527145464217, 0.6851651714971377\n",
      "SR bounds: 0.5504590996649191, 0.5785380459168274\n"
     ]
    },
    {
     "name": "stderr",
     "output_type": "stream",
     "text": [
      "/global/u1/r/rmastand/dimuonAD/helpers/data_transforms.py:8: RuntimeWarning: invalid value encountered in log\n",
      "  logit = np.log(x_norm/(1-x_norm+1e-10)+1e-10)\n"
     ]
    },
    {
     "name": "stdout",
     "output_type": "stream",
     "text": [
      "Total events opp sign: 5395982\n",
      "Total events same sign: 301669\n",
      "{'SBL': 10262, 'SR': 3249, 'SBH': 11885}\n",
      "{'SBL': 6496, 'SR': 2259, 'SBH': 8746}\n",
      "\n",
      "SB bounds: 0.47413765641088046, 0.6989369914442302\n",
      "SR bounds: 0.561523327568184, 0.5901666606397558\n"
     ]
    },
    {
     "name": "stderr",
     "output_type": "stream",
     "text": [
      "/global/u1/r/rmastand/dimuonAD/helpers/data_transforms.py:8: RuntimeWarning: invalid value encountered in log\n",
      "  logit = np.log(x_norm/(1-x_norm+1e-10)+1e-10)\n"
     ]
    },
    {
     "name": "stdout",
     "output_type": "stream",
     "text": [
      "Total events opp sign: 5654146\n",
      "Total events same sign: 319675\n",
      "{'SBL': 10406, 'SR': 3244, 'SBH': 12165}\n",
      "{'SBL': 6679, 'SR': 2271, 'SBH': 9056}\n",
      "\n",
      "SB bounds: 0.4836678233047391, 0.7129856249722593\n",
      "SR bounds: 0.5728099464523044, 0.6020290105186149\n"
     ]
    },
    {
     "name": "stderr",
     "output_type": "stream",
     "text": [
      "/global/u1/r/rmastand/dimuonAD/helpers/data_transforms.py:8: RuntimeWarning: invalid value encountered in log\n",
      "  logit = np.log(x_norm/(1-x_norm+1e-10)+1e-10)\n"
     ]
    },
    {
     "name": "stdout",
     "output_type": "stream",
     "text": [
      "Total events opp sign: 5917406\n",
      "Total events same sign: 338243\n",
      "{'SBL': 10537, 'SR': 3277, 'SBH': 12511}\n",
      "{'SBL': 6917, 'SR': 2368, 'SBH': 9283}\n",
      "\n",
      "SB bounds: 0.49338954655316436, 0.7273166360342017\n",
      "SR bounds: 0.5843234263759958, 0.6141297936300391\n"
     ]
    },
    {
     "name": "stderr",
     "output_type": "stream",
     "text": [
      "/global/u1/r/rmastand/dimuonAD/helpers/data_transforms.py:8: RuntimeWarning: invalid value encountered in log\n",
      "  logit = np.log(x_norm/(1-x_norm+1e-10)+1e-10)\n"
     ]
    },
    {
     "name": "stdout",
     "output_type": "stream",
     "text": [
      "Total events opp sign: 6185552\n",
      "Total events same sign: 357286\n",
      "{'SBL': 10656, 'SR': 3297, 'SBH': 12861}\n",
      "{'SBL': 7090, 'SR': 2473, 'SBH': 9480}\n",
      "\n",
      "SB bounds: 0.5033066764388829, 0.7419357004184892\n",
      "SR bounds: 0.5960683272461533, 0.6264738024820028\n"
     ]
    },
    {
     "name": "stderr",
     "output_type": "stream",
     "text": [
      "/global/u1/r/rmastand/dimuonAD/helpers/data_transforms.py:8: RuntimeWarning: invalid value encountered in log\n",
      "  logit = np.log(x_norm/(1-x_norm+1e-10)+1e-10)\n"
     ]
    },
    {
     "name": "stdout",
     "output_type": "stream",
     "text": [
      "Total events opp sign: 6460027\n",
      "Total events same sign: 376935\n",
      "{'SBL': 10762, 'SR': 3373, 'SBH': 13311}\n",
      "{'SBL': 7323, 'SR': 2494, 'SBH': 9832}\n",
      "\n",
      "SB bounds: 0.5134231406353045, 0.7568486079969009\n",
      "SR bounds: 0.608049300623801, 0.6390659259118912\n"
     ]
    },
    {
     "name": "stderr",
     "output_type": "stream",
     "text": [
      "/global/u1/r/rmastand/dimuonAD/helpers/data_transforms.py:8: RuntimeWarning: invalid value encountered in log\n",
      "  logit = np.log(x_norm/(1-x_norm+1e-10)+1e-10)\n"
     ]
    },
    {
     "name": "stdout",
     "output_type": "stream",
     "text": [
      "Total events opp sign: 6743088\n",
      "Total events same sign: 397005\n",
      "{'SBL': 10932, 'SR': 3438, 'SBH': 13935}\n",
      "{'SBL': 7491, 'SR': 2512, 'SBH': 10067}\n",
      "\n",
      "SB bounds: 0.5237429457620741, 0.7720612650176386\n",
      "SR bounds: 0.6202710915663394, 0.6519111510227201\n"
     ]
    },
    {
     "name": "stderr",
     "output_type": "stream",
     "text": [
      "/global/u1/r/rmastand/dimuonAD/helpers/data_transforms.py:8: RuntimeWarning: invalid value encountered in log\n",
      "  logit = np.log(x_norm/(1-x_norm+1e-10)+1e-10)\n"
     ]
    },
    {
     "name": "stdout",
     "output_type": "stream",
     "text": [
      "Total events opp sign: 7039606\n",
      "Total events same sign: 417615\n",
      "{'SBL': 11065, 'SR': 3505, 'SBH': 15081}\n",
      "{'SBL': 7694, 'SR': 2587, 'SBH': 10329}\n",
      "\n",
      "SB bounds: 0.5342701789718918, 0.7875796964444932\n",
      "SR bounds: 0.6327385405068229, 0.6650145651582768\n"
     ]
    },
    {
     "name": "stderr",
     "output_type": "stream",
     "text": [
      "/global/u1/r/rmastand/dimuonAD/helpers/data_transforms.py:8: RuntimeWarning: invalid value encountered in log\n",
      "  logit = np.log(x_norm/(1-x_norm+1e-10)+1e-10)\n"
     ]
    },
    {
     "name": "stdout",
     "output_type": "stream",
     "text": [
      "Total events opp sign: 7357809\n",
      "Total events same sign: 438809\n",
      "{'SBL': 11225, 'SR': 3623, 'SBH': 16971}\n",
      "{'SBL': 7871, 'SR': 2726, 'SBH': 10597}\n",
      "\n",
      "SB bounds: 0.5450090095692268, 0.8034100483430275\n",
      "SR bounds: 0.64545658517101, 0.6783813579179582\n"
     ]
    },
    {
     "name": "stderr",
     "output_type": "stream",
     "text": [
      "/global/u1/r/rmastand/dimuonAD/helpers/data_transforms.py:8: RuntimeWarning: invalid value encountered in log\n",
      "  logit = np.log(x_norm/(1-x_norm+1e-10)+1e-10)\n"
     ]
    },
    {
     "name": "stdout",
     "output_type": "stream",
     "text": [
      "Total events opp sign: 7690696\n",
      "Total events same sign: 460524\n",
      "{'SBL': 11343, 'SR': 3696, 'SBH': 18249}\n",
      "{'SBL': 8102, 'SR': 2795, 'SBH': 10818}\n",
      "\n",
      "SB bounds: 0.5559636906615684, 0.8195585903147223\n",
      "SR bounds: 0.6584302625329473, 0.6920168232121091\n"
     ]
    },
    {
     "name": "stderr",
     "output_type": "stream",
     "text": [
      "/global/u1/r/rmastand/dimuonAD/helpers/data_transforms.py:8: RuntimeWarning: invalid value encountered in log\n",
      "  logit = np.log(x_norm/(1-x_norm+1e-10)+1e-10)\n"
     ]
    },
    {
     "name": "stdout",
     "output_type": "stream",
     "text": [
      "Total events opp sign: 8031064\n",
      "Total events same sign: 482855\n",
      "{'SBL': 11419, 'SR': 3828, 'SBH': 18788}\n",
      "{'SBL': 8343, 'SR': 2840, 'SBH': 11148}\n",
      "\n",
      "SB bounds: 0.5671385608438658, 0.8360317179800482\n",
      "SR bounds: 0.6716647108098596, 0.7059263613586725\n",
      "Total events opp sign: 8378377\n",
      "Total events same sign: 505750\n",
      "{'SBL': 11637, 'SR': 3944, 'SBH': 19149}\n",
      "{'SBL': 8574, 'SR': 2900, 'SBH': 11421}\n",
      "\n",
      "SB bounds: 0.5785380459168274, 0.8528359555114471\n",
      "SR bounds: 0.6851651714971377, 0.7201154812219819\n",
      "Total events opp sign: 8732055\n",
      "Total events same sign: 529107\n",
      "{'SBL': 11885, 'SR': 4069, 'SBH': 19413}\n",
      "{'SBL': 8746, 'SR': 3033, 'SBH': 11578}\n",
      "\n",
      "SB bounds: 0.5901666606397558, 0.8699779582172271\n",
      "SR bounds: 0.6989369914442302, 0.7345898023945437\n",
      "Total events opp sign: 9092107\n",
      "Total events same sign: 553078\n",
      "{'SBL': 12165, 'SR': 4258, 'SBH': 19581}\n",
      "{'SBL': 9056, 'SR': 3104, 'SBH': 11811}\n",
      "\n",
      "SB bounds: 0.6020290105186149, 0.8874645151773934\n",
      "SR bounds: 0.7129856249722593, 0.7493550574226742\n",
      "Total events opp sign: 9458773\n",
      "Total events same sign: 577523\n",
      "{'SBL': 12511, 'SR': 4480, 'SBH': 19674}\n",
      "{'SBL': 9283, 'SR': 3134, 'SBH': 12028}\n",
      "\n",
      "SB bounds: 0.6141297936300391, 0.905302551932459\n",
      "SR bounds: 0.7273166360342017, 0.7644170940768699\n",
      "Total events opp sign: 9832311\n",
      "Total events same sign: 602544\n",
      "{'SBL': 12861, 'SR': 5010, 'SBH': 19482}\n",
      "{'SBL': 9480, 'SR': 3264, 'SBH': 12277}\n",
      "\n",
      "SB bounds: 0.6264738024820028, 0.9234991332263015\n",
      "SR bounds: 0.7419357004184892, 0.779781877667815\n",
      "Total events opp sign: 10212772\n",
      "Total events same sign: 628239\n",
      "{'SBL': 13311, 'SR': 6237, 'SBH': 18497}\n",
      "{'SBL': 9832, 'SR': 3311, 'SBH': 12552}\n",
      "\n",
      "SB bounds: 0.6390659259118912, 0.9420614658041502\n",
      "SR bounds: 0.7568486079969009, 0.7954554934089382\n",
      "Total events opp sign: 10600260\n",
      "Total events same sign: 654515\n",
      "{'SBL': 13935, 'SR': 7421, 'SBH': 17392}\n",
      "{'SBL': 10067, 'SR': 3385, 'SBH': 12824}\n",
      "\n",
      "SB bounds: 0.6519111510227201, 0.9609969012668136\n",
      "SR bounds: 0.7720612650176386, 0.8114441488264578\n",
      "Total events opp sign: 10995596\n",
      "Total events same sign: 681393\n",
      "{'SBL': 15081, 'SR': 7264, 'SBH': 17187}\n",
      "{'SBL': 10329, 'SR': 3481, 'SBH': 13068}\n",
      "\n",
      "SB bounds: 0.6650145651582768, 0.9803129389822764\n",
      "SR bounds: 0.7875796964444932, 0.8277541762178695\n",
      "Total events opp sign: 11399540\n",
      "Total events same sign: 708924\n",
      "{'SBL': 16971, 'SR': 5866, 'SBH': 17557}\n",
      "{'SBL': 10597, 'SR': 3570, 'SBH': 13364}\n",
      "\n",
      "SB bounds: 0.6783813579179582, 1.0000172290558202\n",
      "SR bounds: 0.8034100483430275, 0.8443920351598486\n",
      "Total events opp sign: 11817112\n",
      "Total events same sign: 737085\n",
      "{'SBL': 18249, 'SR': 5032, 'SBH': 18475}\n",
      "{'SBL': 10818, 'SR': 3663, 'SBH': 13680}\n",
      "\n",
      "SB bounds: 0.6920168232121091, 1.0201175753598424\n",
      "SR bounds: 0.8195585903147223, 0.8613643150665615\n",
      "Total events opp sign: 12270565\n",
      "Total events same sign: 765885\n"
     ]
    },
    {
     "name": "stderr",
     "output_type": "stream",
     "text": [
      "/global/u1/r/rmastand/dimuonAD/helpers/data_transforms.py:8: RuntimeWarning: invalid value encountered in log\n",
      "  logit = np.log(x_norm/(1-x_norm+1e-10)+1e-10)\n"
     ]
    },
    {
     "name": "stdout",
     "output_type": "stream",
     "text": [
      "{'SBL': 18788, 'SR': 4862, 'SBH': 21695}\n",
      "{'SBL': 11148, 'SR': 3595, 'SBH': 14057}\n",
      "\n",
      "SB bounds: 0.7059263613586725, 1.0406219386245752\n",
      "SR bounds: 0.8360317179800482, 0.8786777377993994\n",
      "Total events opp sign: 12758695\n",
      "Total events same sign: 795280\n",
      "{'SBL': 19149, 'SR': 4850, 'SBH': 24812}\n",
      "{'SBL': 11421, 'SR': 3645, 'SBH': 14329}\n",
      "\n",
      "SB bounds: 0.7201154812219819, 1.061538439590929\n",
      "SR bounds: 0.8528359555114471, 0.8963391603291674\n"
     ]
    },
    {
     "name": "stderr",
     "output_type": "stream",
     "text": [
      "/global/u1/r/rmastand/dimuonAD/helpers/data_transforms.py:8: RuntimeWarning: invalid value encountered in log\n",
      "  logit = np.log(x_norm/(1-x_norm+1e-10)+1e-10)\n"
     ]
    },
    {
     "name": "stdout",
     "output_type": "stream",
     "text": [
      "Total events opp sign: 13264466\n",
      "Total events same sign: 825333\n",
      "{'SBL': 19413, 'SR': 4931, 'SBH': 26232}\n",
      "{'SBL': 11578, 'SR': 3796, 'SBH': 14679}\n",
      "\n",
      "SB bounds: 0.7345898023945437, 1.0828753622267069\n",
      "SR bounds: 0.8699779582172271, 0.9143555774517836\n",
      "Total events opp sign: 13783869\n",
      "Total events same sign: 856032\n",
      "{'SBL': 19581, 'SR': 5010, 'SBH': 27347}\n",
      "{'SBL': 11811, 'SR': 3912, 'SBH': 14976}\n"
     ]
    },
    {
     "name": "stderr",
     "output_type": "stream",
     "text": [
      "/global/u1/r/rmastand/dimuonAD/helpers/data_transforms.py:8: RuntimeWarning: invalid value encountered in log\n",
      "  logit = np.log(x_norm/(1-x_norm+1e-10)+1e-10)\n"
     ]
    },
    {
     "name": "stdout",
     "output_type": "stream",
     "text": [
      "\n",
      "SB bounds: 0.7493550574226742, 1.1046411570074637\n",
      "SR bounds: 0.8874645151773934, 0.9327341245585645\n",
      "Total events opp sign: 14316275\n",
      "Total events same sign: 887374\n",
      "{'SBL': 19674, 'SR': 5123, 'SBH': 28442}\n",
      "{'SBL': 12028, 'SR': 4035, 'SBH': 15279}\n",
      "\n",
      "SB bounds: 0.7644170940768699, 1.1268444442633136\n",
      "SR bounds: 0.905302551932459, 0.9514820804621916\n"
     ]
    },
    {
     "name": "stderr",
     "output_type": "stream",
     "text": [
      "/global/u1/r/rmastand/dimuonAD/helpers/data_transforms.py:8: RuntimeWarning: invalid value encountered in log\n",
      "  logit = np.log(x_norm/(1-x_norm+1e-10)+1e-10)\n"
     ]
    },
    {
     "name": "stdout",
     "output_type": "stream",
     "text": [
      "Total events opp sign: 14858565\n",
      "Total events same sign: 919343\n",
      "{'SBL': 19482, 'SR': 5238, 'SBH': 29508}\n",
      "{'SBL': 12277, 'SR': 4084, 'SBH': 15608}\n",
      "\n",
      "SB bounds: 0.779781877667815, 1.1494940175930064\n",
      "SR bounds: 0.9234991332263015, 0.9706068702794817\n"
     ]
    },
    {
     "name": "stderr",
     "output_type": "stream",
     "text": [
      "/global/u1/r/rmastand/dimuonAD/helpers/data_transforms.py:8: RuntimeWarning: invalid value encountered in log\n",
      "  logit = np.log(x_norm/(1-x_norm+1e-10)+1e-10)\n"
     ]
    },
    {
     "name": "stdout",
     "output_type": "stream",
     "text": [
      "Total events opp sign: 15403122\n",
      "Total events same sign: 951933\n",
      "{'SBL': 18497, 'SR': 5460, 'SBH': 30498}\n",
      "{'SBL': 12552, 'SR': 4151, 'SBH': 15887}\n",
      "\n",
      "SB bounds: 0.7954554934089382, 1.1725988473466258\n",
      "SR bounds: 0.9420614658041502, 0.9901160683720992\n"
     ]
    },
    {
     "name": "stderr",
     "output_type": "stream",
     "text": [
      "/global/u1/r/rmastand/dimuonAD/helpers/data_transforms.py:8: RuntimeWarning: invalid value encountered in log\n",
      "  logit = np.log(x_norm/(1-x_norm+1e-10)+1e-10)\n"
     ]
    },
    {
     "name": "stdout",
     "output_type": "stream",
     "text": [
      "Total events opp sign: 15948681\n",
      "Total events same sign: 985201\n",
      "{'SBL': 17392, 'SR': 5816, 'SBH': 31346}\n",
      "{'SBL': 12824, 'SR': 4289, 'SBH': 16155}\n",
      "\n",
      "SB bounds: 0.8114441488264578, 1.196168084178293\n",
      "SR bounds: 0.9609969012668136, 1.0100174013463785\n"
     ]
    },
    {
     "name": "stderr",
     "output_type": "stream",
     "text": [
      "/global/u1/r/rmastand/dimuonAD/helpers/data_transforms.py:8: RuntimeWarning: invalid value encountered in log\n",
      "  logit = np.log(x_norm/(1-x_norm+1e-10)+1e-10)\n"
     ]
    },
    {
     "name": "stdout",
     "output_type": "stream",
     "text": [
      "Total events opp sign: 16504691\n",
      "Total events same sign: 1019124\n"
     ]
    },
    {
     "name": "stderr",
     "output_type": "stream",
     "text": [
      "/global/u1/r/rmastand/dimuonAD/helpers/data_transforms.py:8: RuntimeWarning: invalid value encountered in log\n",
      "  logit = np.log(x_norm/(1-x_norm+1e-10)+1e-10)\n"
     ]
    },
    {
     "name": "stdout",
     "output_type": "stream",
     "text": [
      "{'SBL': 17187, 'SR': 7438, 'SBH': 30974}\n",
      "{'SBL': 13068, 'SR': 4431, 'SBH': 16424}\n",
      "\n",
      "SB bounds: 0.8277541762178695, 1.2202110626702765\n",
      "SR bounds: 0.9803129389822764, 1.0303187511134408\n",
      "Total events opp sign: 17075634\n",
      "Total events same sign: 1053626\n",
      "{'SBL': 17557, 'SR': 10866, 'SBH': 28670}\n",
      "{'SBL': 13364, 'SR': 4450, 'SBH': 16688}\n",
      "\n",
      "SB bounds: 0.8443920351598486, 1.244737305029949\n",
      "SR bounds: 1.0000172290558202, 1.051028158010821\n"
     ]
    },
    {
     "name": "stderr",
     "output_type": "stream",
     "text": [
      "/global/u1/r/rmastand/dimuonAD/helpers/data_transforms.py:8: RuntimeWarning: invalid value encountered in log\n",
      "  logit = np.log(x_norm/(1-x_norm+1e-10)+1e-10)\n"
     ]
    },
    {
     "name": "stdout",
     "output_type": "stream",
     "text": [
      "Total events opp sign: 17662890\n",
      "Total events same sign: 1088796\n",
      "{'SBL': 18475, 'SR': 12040, 'SBH': 28210}\n",
      "{'SBL': 13680, 'SR': 4495, 'SBH': 16995}\n",
      "\n",
      "SB bounds: 0.8613643150665615, 1.269756524861051\n",
      "SR bounds: 1.0201175753598424, 1.0721538239868385\n"
     ]
    },
    {
     "name": "stderr",
     "output_type": "stream",
     "text": [
      "/global/u1/r/rmastand/dimuonAD/helpers/data_transforms.py:8: RuntimeWarning: invalid value encountered in log\n",
      "  logit = np.log(x_norm/(1-x_norm+1e-10)+1e-10)\n"
     ]
    },
    {
     "name": "stdout",
     "output_type": "stream",
     "text": [
      "Total events opp sign: 18267271\n",
      "Total events same sign: 1124685\n",
      "{'SBL': 21695, 'SR': 10082, 'SBH': 28660}\n",
      "{'SBL': 14057, 'SR': 4633, 'SBH': 17199}\n",
      "\n",
      "SB bounds: 0.8786777377993994, 1.295278631010758\n",
      "SR bounds: 1.0406219386245752, 1.093704115848974\n"
     ]
    },
    {
     "name": "stderr",
     "output_type": "stream",
     "text": [
      "/global/u1/r/rmastand/dimuonAD/helpers/data_transforms.py:8: RuntimeWarning: invalid value encountered in log\n",
      "  logit = np.log(x_norm/(1-x_norm+1e-10)+1e-10)\n"
     ]
    },
    {
     "name": "stdout",
     "output_type": "stream",
     "text": [
      "Total events opp sign: 18889817\n",
      "Total events same sign: 1161277\n",
      "{'SBL': 24812, 'SR': 8163, 'SBH': 29278}\n",
      "{'SBL': 14329, 'SR': 4768, 'SBH': 17495}\n",
      "\n",
      "SB bounds: 0.8963391603291674, 1.3213137314940742\n",
      "SR bounds: 1.061538439590929, 1.1156875685775383\n"
     ]
    },
    {
     "name": "stderr",
     "output_type": "stream",
     "text": [
      "/global/u1/r/rmastand/dimuonAD/helpers/data_transforms.py:8: RuntimeWarning: invalid value encountered in log\n",
      "  logit = np.log(x_norm/(1-x_norm+1e-10)+1e-10)\n"
     ]
    },
    {
     "name": "stdout",
     "output_type": "stream",
     "text": [
      "Total events opp sign: 19531200\n",
      "Total events same sign: 1198564\n",
      "{'SBL': 26232, 'SR': 7890, 'SBH': 30014}\n",
      "{'SBL': 14679, 'SR': 4875, 'SBH': 17733}\n",
      "\n",
      "SB bounds: 0.9143555774517836, 1.347872137497105\n",
      "SR bounds: 1.0828753622267069, 1.1381128887059468\n"
     ]
    },
    {
     "name": "stderr",
     "output_type": "stream",
     "text": [
      "/global/u1/r/rmastand/dimuonAD/helpers/data_transforms.py:8: RuntimeWarning: invalid value encountered in log\n",
      "  logit = np.log(x_norm/(1-x_norm+1e-10)+1e-10)\n",
      "/global/u1/r/rmastand/dimuonAD/helpers/data_transforms.py:8: RuntimeWarning: invalid value encountered in log\n",
      "  logit = np.log(x_norm/(1-x_norm+1e-10)+1e-10)\n"
     ]
    },
    {
     "name": "stdout",
     "output_type": "stream",
     "text": [
      "Total events opp sign: 20191833\n",
      "Total events same sign: 1236558\n",
      "{'SBL': 27347, 'SR': 7990, 'SBH': 30724}\n",
      "{'SBL': 14976, 'SR': 4880, 'SBH': 18138}\n",
      "\n",
      "SB bounds: 0.9327341245585645, 1.3749643674607968\n",
      "SR bounds: 1.1046411570074637, 1.1609889577689365\n",
      "Total events opp sign: 20872145\n",
      "Total events same sign: 1275375\n",
      "{'SBL': 28442, 'SR': 8117, 'SBH': 31471}\n",
      "{'SBL': 15279, 'SR': 4949, 'SBH': 18589}\n",
      "\n",
      "SB bounds: 0.9514820804621916, 1.4026011512467589\n",
      "SR bounds: 1.1268444442633136, 1.184324835820092\n"
     ]
    },
    {
     "name": "stderr",
     "output_type": "stream",
     "text": [
      "/global/u1/r/rmastand/dimuonAD/helpers/data_transforms.py:8: RuntimeWarning: invalid value encountered in log\n",
      "  logit = np.log(x_norm/(1-x_norm+1e-10)+1e-10)\n"
     ]
    },
    {
     "name": "stdout",
     "output_type": "stream",
     "text": [
      "Total events opp sign: 21572044\n",
      "Total events same sign: 1314994\n",
      "{'SBL': 29508, 'SR': 8290, 'SBH': 32191}\n",
      "{'SBL': 15608, 'SR': 5041, 'SBH': 18970}\n",
      "\n",
      "SB bounds: 0.9706068702794817, 1.4307934343868187\n",
      "SR bounds: 1.1494940175930064, 1.2081297650200757\n"
     ]
    },
    {
     "name": "stderr",
     "output_type": "stream",
     "text": [
      "/global/u1/r/rmastand/dimuonAD/helpers/data_transforms.py:8: RuntimeWarning: invalid value encountered in log\n",
      "  logit = np.log(x_norm/(1-x_norm+1e-10)+1e-10)\n"
     ]
    },
    {
     "name": "stdout",
     "output_type": "stream",
     "text": [
      "Total events opp sign: 22291352\n",
      "Total events same sign: 1355380\n"
     ]
    },
    {
     "name": "stderr",
     "output_type": "stream",
     "text": [
      "/global/u1/r/rmastand/dimuonAD/helpers/data_transforms.py:8: RuntimeWarning: invalid value encountered in log\n",
      "  logit = np.log(x_norm/(1-x_norm+1e-10)+1e-10)\n"
     ]
    },
    {
     "name": "stdout",
     "output_type": "stream",
     "text": [
      "{'SBL': 30498, 'SR': 8492, 'SBH': 32940}\n",
      "{'SBL': 15887, 'SR': 5074, 'SBH': 19425}\n",
      "\n",
      "SB bounds: 0.9901160683720992, 1.4595523824179937\n",
      "SR bounds: 1.1725988473466258, 1.2324131732969792\n",
      "Total events opp sign: 23029069\n",
      "Total events same sign: 1396544\n",
      "{'SBL': 31346, 'SR': 8686, 'SBH': 33738}\n",
      "{'SBL': 16155, 'SR': 5189, 'SBH': 19820}\n",
      "\n",
      "SB bounds: 1.0100174013463785, 1.4888893853045952\n",
      "SR bounds: 1.196168084178293, 1.2571846780802485\n"
     ]
    },
    {
     "name": "stderr",
     "output_type": "stream",
     "text": [
      "/global/u1/r/rmastand/dimuonAD/helpers/data_transforms.py:8: RuntimeWarning: invalid value encountered in log\n",
      "  logit = np.log(x_norm/(1-x_norm+1e-10)+1e-10)\n"
     ]
    },
    {
     "name": "stdout",
     "output_type": "stream",
     "text": [
      "Total events opp sign: 23772849\n",
      "Total events same sign: 1438536\n",
      "{'SBL': 30974, 'SR': 8862, 'SBH': 34541}\n",
      "{'SBL': 16424, 'SR': 5185, 'SBH': 20383}\n",
      "\n",
      "SB bounds: 1.0303187511134408, 1.5188160619492177\n",
      "SR bounds: 1.2202110626702765, 1.2824540901096615\n"
     ]
    },
    {
     "name": "stderr",
     "output_type": "stream",
     "text": [
      "/global/u1/r/rmastand/dimuonAD/helpers/data_transforms.py:8: RuntimeWarning: invalid value encountered in log\n",
      "  logit = np.log(x_norm/(1-x_norm+1e-10)+1e-10)\n"
     ]
    },
    {
     "name": "stdout",
     "output_type": "stream",
     "text": [
      "Total events opp sign: 24503766\n",
      "Total events same sign: 1481388\n",
      "{'SBL': 28670, 'SR': 9113, 'SBH': 35308}\n",
      "{'SBL': 16688, 'SR': 5309, 'SBH': 20855}\n",
      "\n",
      "SB bounds: 1.051028158010821, 1.549344264794397\n",
      "SR bounds: 1.244737305029949, 1.3082314173208656\n"
     ]
    },
    {
     "name": "stderr",
     "output_type": "stream",
     "text": [
      "/global/u1/r/rmastand/dimuonAD/helpers/data_transforms.py:8: RuntimeWarning: invalid value encountered in log\n",
      "  logit = np.log(x_norm/(1-x_norm+1e-10)+1e-10)\n"
     ]
    },
    {
     "name": "stdout",
     "output_type": "stream",
     "text": [
      "Total events opp sign: 25240027\n",
      "Total events same sign: 1525059\n",
      "{'SBL': 28210, 'SR': 9369, 'SBH': 36046}\n",
      "{'SBL': 16995, 'SR': 5474, 'SBH': 21202}\n",
      "\n",
      "SB bounds: 1.0721538239868385, 1.5804860845167643\n",
      "SR bounds: 1.269756524861051, 1.3345268688090148\n"
     ]
    },
    {
     "name": "stderr",
     "output_type": "stream",
     "text": [
      "/global/u1/r/rmastand/dimuonAD/helpers/data_transforms.py:8: RuntimeWarning: invalid value encountered in log\n",
      "  logit = np.log(x_norm/(1-x_norm+1e-10)+1e-10)\n"
     ]
    },
    {
     "name": "stdout",
     "output_type": "stream",
     "text": [
      "Total events opp sign: 25991024\n",
      "Total events same sign: 1569472\n",
      "{'SBL': 28660, 'SR': 9625, 'SBH': 36814}\n",
      "{'SBL': 17199, 'SR': 5619, 'SBH': 21595}\n",
      "\n",
      "SB bounds: 1.093704115848974, 1.6122538548155514\n",
      "SR bounds: 1.295278631010758, 1.361350858872076\n"
     ]
    },
    {
     "name": "stderr",
     "output_type": "stream",
     "text": [
      "/global/u1/r/rmastand/dimuonAD/helpers/data_transforms.py:8: RuntimeWarning: invalid value encountered in log\n",
      "  logit = np.log(x_norm/(1-x_norm+1e-10)+1e-10)\n"
     ]
    },
    {
     "name": "stdout",
     "output_type": "stream",
     "text": [
      "Total events opp sign: 26758071\n",
      "Total events same sign: 1614777\n",
      "{'SBL': 29278, 'SR': 9863, 'SBH': 37562}\n",
      "{'SBL': 17495, 'SR': 5768, 'SBH': 22042}\n",
      "\n",
      "SB bounds: 1.1156875685775383, 1.644660157297344\n",
      "SR bounds: 1.3213137314940742, 1.3887140111354048\n"
     ]
    },
    {
     "name": "stderr",
     "output_type": "stream",
     "text": [
      "/global/u1/r/rmastand/dimuonAD/helpers/data_transforms.py:8: RuntimeWarning: invalid value encountered in log\n",
      "  logit = np.log(x_norm/(1-x_norm+1e-10)+1e-10)\n"
     ]
    },
    {
     "name": "stdout",
     "output_type": "stream",
     "text": [
      "Total events opp sign: 27541786\n",
      "Total events same sign: 1660920\n",
      "{'SBL': 30014, 'SR': 10026, 'SBH': 38330}\n",
      "{'SBL': 17733, 'SR': 5990, 'SBH': 22420}\n",
      "\n",
      "SB bounds: 1.1381128887059468, 1.6777178264590207\n",
      "SR bounds: 1.347872137497105, 1.4166271627592264\n"
     ]
    },
    {
     "name": "stderr",
     "output_type": "stream",
     "text": [
      "/global/u1/r/rmastand/dimuonAD/helpers/data_transforms.py:8: RuntimeWarning: invalid value encountered in log\n",
      "  logit = np.log(x_norm/(1-x_norm+1e-10)+1e-10)\n"
     ]
    },
    {
     "name": "stdout",
     "output_type": "stream",
     "text": [
      "Total events opp sign: 28342256\n",
      "Total events same sign: 1708158\n",
      "{'SBL': 30724, 'SR': 10246, 'SBH': 39076}\n",
      "{'SBL': 18138, 'SR': 6113, 'SBH': 22987}\n",
      "\n",
      "SB bounds: 1.1609889577689365, 1.711439954770847\n",
      "SR bounds: 1.3749643674607968, 1.4451013687306868\n"
     ]
    },
    {
     "name": "stderr",
     "output_type": "stream",
     "text": [
      "/global/u1/r/rmastand/dimuonAD/helpers/data_transforms.py:8: RuntimeWarning: invalid value encountered in log\n",
      "  logit = np.log(x_norm/(1-x_norm+1e-10)+1e-10)\n"
     ]
    },
    {
     "name": "stdout",
     "output_type": "stream",
     "text": [
      "Total events opp sign: 29159348\n",
      "Total events same sign: 1756438\n",
      "{'SBL': 31471, 'SR': 10461, 'SBH': 39775}\n",
      "{'SBL': 18589, 'SR': 6161, 'SBH': 23530}\n",
      "\n",
      "SB bounds: 1.184324835820092, 1.745839897861741\n",
      "SR bounds: 1.4026011512467589, 1.4741479062421736\n"
     ]
    },
    {
     "name": "stderr",
     "output_type": "stream",
     "text": [
      "/global/u1/r/rmastand/dimuonAD/helpers/data_transforms.py:8: RuntimeWarning: invalid value encountered in log\n",
      "  logit = np.log(x_norm/(1-x_norm+1e-10)+1e-10)\n"
     ]
    },
    {
     "name": "stdout",
     "output_type": "stream",
     "text": [
      "Total events opp sign: 29993089\n",
      "Total events same sign: 1805738\n",
      "{'SBL': 32191, 'SR': 10724, 'SBH': 40458}\n",
      "{'SBL': 18970, 'SR': 6297, 'SBH': 24033}\n",
      "\n",
      "SB bounds: 1.2081297650200757, 1.7809312798087622\n",
      "SR bounds: 1.4307934343868187, 1.5037782791576413\n"
     ]
    },
    {
     "name": "stderr",
     "output_type": "stream",
     "text": [
      "/global/u1/r/rmastand/dimuonAD/helpers/data_transforms.py:8: RuntimeWarning: invalid value encountered in log\n",
      "  logit = np.log(x_norm/(1-x_norm+1e-10)+1e-10)\n"
     ]
    },
    {
     "name": "stdout",
     "output_type": "stream",
     "text": [
      "Total events opp sign: 30843488\n",
      "Total events same sign: 1856099\n",
      "{'SBL': 32940, 'SR': 10980, 'SBH': 41119}\n",
      "{'SBL': 19425, 'SR': 6490, 'SBH': 24446}\n"
     ]
    },
    {
     "name": "stderr",
     "output_type": "stream",
     "text": [
      "/global/u1/r/rmastand/dimuonAD/helpers/data_transforms.py:8: RuntimeWarning: invalid value encountered in log\n",
      "  logit = np.log(x_norm/(1-x_norm+1e-10)+1e-10)\n"
     ]
    },
    {
     "name": "stdout",
     "output_type": "stream",
     "text": [
      "\n",
      "SB bounds: 1.2324131732969792, 1.8167279985329183\n",
      "SR bounds: 1.4595523824179937, 1.5340042225687098\n",
      "Total events opp sign: 31711491\n",
      "Total events same sign: 1907491\n",
      "{'SBL': 33738, 'SR': 11179, 'SBH': 41881}\n",
      "{'SBL': 19820, 'SR': 6569, 'SBH': 25003}\n",
      "\n",
      "SB bounds: 1.2571846780802485, 1.85324423130343\n",
      "SR bounds: 1.4888893853045952, 1.564837707442341\n"
     ]
    },
    {
     "name": "stderr",
     "output_type": "stream",
     "text": [
      "/global/u1/r/rmastand/dimuonAD/helpers/data_transforms.py:8: RuntimeWarning: invalid value encountered in log\n",
      "  logit = np.log(x_norm/(1-x_norm+1e-10)+1e-10)\n"
     ]
    },
    {
     "name": "stdout",
     "output_type": "stream",
     "text": [
      "Total events opp sign: 32596380\n",
      "Total events same sign: 1959988\n",
      "{'SBL': 34541, 'SR': 11387, 'SBH': 42560}\n",
      "{'SBL': 20383, 'SR': 6566, 'SBH': 25548}\n",
      "\n",
      "SB bounds: 1.2824540901096615, 1.890494440352629\n",
      "SR bounds: 1.5188160619492177, 1.596290945361932\n"
     ]
    },
    {
     "name": "stderr",
     "output_type": "stream",
     "text": [
      "/global/u1/r/rmastand/dimuonAD/helpers/data_transforms.py:8: RuntimeWarning: invalid value encountered in log\n",
      "  logit = np.log(x_norm/(1-x_norm+1e-10)+1e-10)\n"
     ]
    },
    {
     "name": "stdout",
     "output_type": "stream",
     "text": [
      "Total events opp sign: 33497368\n",
      "Total events same sign: 2013529\n",
      "{'SBL': 35308, 'SR': 11601, 'SBH': 43189}\n",
      "{'SBL': 20855, 'SR': 6727, 'SBH': 25959}\n",
      "\n",
      "SB bounds: 1.3082314173208656, 1.9284933786037168\n",
      "SR bounds: 1.549344264794397, 1.628376393363707\n"
     ]
    },
    {
     "name": "stderr",
     "output_type": "stream",
     "text": [
      "/global/u1/r/rmastand/dimuonAD/helpers/data_transforms.py:8: RuntimeWarning: invalid value encountered in log\n",
      "  logit = np.log(x_norm/(1-x_norm+1e-10)+1e-10)\n"
     ]
    },
    {
     "name": "stdout",
     "output_type": "stream",
     "text": [
      "Total events opp sign: 34414626\n",
      "Total events same sign: 2068049\n",
      "{'SBL': 36046, 'SR': 11836, 'SBH': 43843}\n",
      "{'SBL': 21202, 'SR': 6858, 'SBH': 26460}\n",
      "\n",
      "SB bounds: 1.3345268688090148, 1.9672560955136515\n",
      "SR bounds: 1.5804860845167643, 1.6611067588703174\n"
     ]
    },
    {
     "name": "stderr",
     "output_type": "stream",
     "text": [
      "/global/u1/r/rmastand/dimuonAD/helpers/data_transforms.py:8: RuntimeWarning: invalid value encountered in log\n",
      "  logit = np.log(x_norm/(1-x_norm+1e-10)+1e-10)\n"
     ]
    },
    {
     "name": "stdout",
     "output_type": "stream",
     "text": [
      "Total events opp sign: 35347720\n",
      "Total events same sign: 2123652\n",
      "{'SBL': 36814, 'SR': 12011, 'SBH': 44483}\n",
      "{'SBL': 21595, 'SR': 7123, 'SBH': 26885}\n",
      "\n",
      "SB bounds: 1.361350858872076, 2.006797943033476\n",
      "SR bounds: 1.6122538548155514, 1.694495004723611\n"
     ]
    },
    {
     "name": "stderr",
     "output_type": "stream",
     "text": [
      "/global/u1/r/rmastand/dimuonAD/helpers/data_transforms.py:8: RuntimeWarning: invalid value encountered in log\n",
      "  logit = np.log(x_norm/(1-x_norm+1e-10)+1e-10)\n"
     ]
    },
    {
     "name": "stdout",
     "output_type": "stream",
     "text": [
      "Total events opp sign: 36296318\n",
      "Total events same sign: 2180419\n",
      "{'SBL': 37562, 'SR': 12222, 'SBH': 45074}\n",
      "{'SBL': 22042, 'SR': 7377, 'SBH': 27348}\n",
      "\n",
      "SB bounds: 1.3887140111354048, 2.0471345816884488\n",
      "SR bounds: 1.644660157297344, 1.7285543543185555\n"
     ]
    },
    {
     "name": "stderr",
     "output_type": "stream",
     "text": [
      "/global/u1/r/rmastand/dimuonAD/helpers/data_transforms.py:8: RuntimeWarning: invalid value encountered in log\n",
      "  logit = np.log(x_norm/(1-x_norm+1e-10)+1e-10)\n"
     ]
    },
    {
     "name": "stdout",
     "output_type": "stream",
     "text": [
      "Total events opp sign: 37260335\n",
      "Total events same sign: 2238130\n",
      "{'SBL': 38330, 'SR': 12386, 'SBH': 45685}\n",
      "{'SBL': 22420, 'SR': 7592, 'SBH': 27699}\n",
      "\n",
      "SB bounds: 1.4166271627592264, 2.0882819867803866\n",
      "SR bounds: 1.6777178264590207, 1.7632982968403585\n"
     ]
    },
    {
     "name": "stderr",
     "output_type": "stream",
     "text": [
      "/global/u1/r/rmastand/dimuonAD/helpers/data_transforms.py:8: RuntimeWarning: invalid value encountered in log\n",
      "  logit = np.log(x_norm/(1-x_norm+1e-10)+1e-10)\n"
     ]
    },
    {
     "name": "stdout",
     "output_type": "stream",
     "text": [
      "Total events opp sign: 38238988\n",
      "Total events same sign: 2296852\n",
      "{'SBL': 39076, 'SR': 12536, 'SBH': 46252}\n",
      "{'SBL': 22987, 'SR': 7609, 'SBH': 28126}\n",
      "\n",
      "SB bounds: 1.4451013687306868, 2.1302564547146723\n",
      "SR bounds: 1.711439954770847, 1.7987405926068498\n"
     ]
    },
    {
     "name": "stderr",
     "output_type": "stream",
     "text": [
      "/global/u1/r/rmastand/dimuonAD/helpers/data_transforms.py:8: RuntimeWarning: invalid value encountered in log\n",
      "  logit = np.log(x_norm/(1-x_norm+1e-10)+1e-10)\n"
     ]
    },
    {
     "name": "stdout",
     "output_type": "stream",
     "text": [
      "Total events opp sign: 39231728\n",
      "Total events same sign: 2356645\n",
      "{'SBL': 39775, 'SR': 12810, 'SBH': 46688}\n",
      "{'SBL': 23530, 'SR': 7716, 'SBH': 28547}\n"
     ]
    },
    {
     "name": "stderr",
     "output_type": "stream",
     "text": [
      "/global/u1/r/rmastand/dimuonAD/helpers/data_transforms.py:8: RuntimeWarning: invalid value encountered in log\n",
      "  logit = np.log(x_norm/(1-x_norm+1e-10)+1e-10)\n"
     ]
    },
    {
     "name": "stdout",
     "output_type": "stream",
     "text": [
      "\n",
      "SB bounds: 1.4741479062421736, 2.1730746094544373\n",
      "SR bounds: 1.745839897861741, 1.8348952785182475\n",
      "Total events opp sign: 40237390\n",
      "Total events same sign: 2417447\n",
      "{'SBL': 40458, 'SR': 13042, 'SBH': 47064}\n",
      "{'SBL': 24033, 'SR': 7818, 'SBH': 28951}\n",
      "\n",
      "SB bounds: 1.5037782791576413, 2.2167534091044714\n",
      "SR bounds: 1.7809312798087622, 1.8717766736164643\n"
     ]
    },
    {
     "name": "stderr",
     "output_type": "stream",
     "text": [
      "/global/u1/r/rmastand/dimuonAD/helpers/data_transforms.py:8: RuntimeWarning: invalid value encountered in log\n",
      "  logit = np.log(x_norm/(1-x_norm+1e-10)+1e-10)\n"
     ]
    },
    {
     "name": "stdout",
     "output_type": "stream",
     "text": [
      "Total events opp sign: 41254636\n",
      "Total events same sign: 2479157\n",
      "{'SBL': 41119, 'SR': 13251, 'SBH': 47353}\n",
      "{'SBL': 24446, 'SR': 7875, 'SBH': 29389}\n",
      "\n",
      "SB bounds: 1.5340042225687098, 2.2613101526274715\n",
      "SR bounds: 1.8167279985329183, 1.9093993847561552\n"
     ]
    },
    {
     "name": "stderr",
     "output_type": "stream",
     "text": [
      "/global/u1/r/rmastand/dimuonAD/helpers/data_transforms.py:8: RuntimeWarning: invalid value encountered in log\n",
      "  logit = np.log(x_norm/(1-x_norm+1e-10)+1e-10)\n"
     ]
    },
    {
     "name": "stdout",
     "output_type": "stream",
     "text": [
      "Total events opp sign: 42283598\n",
      "Total events same sign: 2541985\n",
      "{'SBL': 41881, 'SR': 13384, 'SBH': 47630}\n",
      "{'SBL': 25003, 'SR': 7979, 'SBH': 29846}\n",
      "\n",
      "SB bounds: 1.564837707442341, 2.3067624866952836\n",
      "SR bounds: 1.85324423130343, 1.947778312389754\n"
     ]
    },
    {
     "name": "stderr",
     "output_type": "stream",
     "text": [
      "/global/u1/r/rmastand/dimuonAD/helpers/data_transforms.py:8: RuntimeWarning: invalid value encountered in log\n",
      "  logit = np.log(x_norm/(1-x_norm+1e-10)+1e-10)\n"
     ]
    },
    {
     "name": "stdout",
     "output_type": "stream",
     "text": [
      "Total events opp sign: 43322321\n",
      "Total events same sign: 2605943\n",
      "{'SBL': 42560, 'SR': 13524, 'SBH': 47787}\n",
      "{'SBL': 25548, 'SR': 8114, 'SBH': 30296}\n",
      "\n",
      "SB bounds: 1.596290945361932, 2.353128412677859\n",
      "SR bounds: 1.890494440352629, 1.986928656468788\n"
     ]
    },
    {
     "name": "stderr",
     "output_type": "stream",
     "text": [
      "/global/u1/r/rmastand/dimuonAD/helpers/data_transforms.py:8: RuntimeWarning: invalid value encountered in log\n",
      "  logit = np.log(x_norm/(1-x_norm+1e-10)+1e-10)\n"
     ]
    },
    {
     "name": "stdout",
     "output_type": "stream",
     "text": [
      "Total events opp sign: 44369677\n",
      "Total events same sign: 2670884\n",
      "{'SBL': 43189, 'SR': 13720, 'SBH': 47825}\n",
      "{'SBL': 25959, 'SR': 8441, 'SBH': 30541}\n",
      "\n",
      "SB bounds: 1.628376393363707, 2.400426293772684\n",
      "SR bounds: 1.9284933786037168, 2.0268659224638106\n"
     ]
    },
    {
     "name": "stderr",
     "output_type": "stream",
     "text": [
      "/global/u1/r/rmastand/dimuonAD/helpers/data_transforms.py:8: RuntimeWarning: invalid value encountered in log\n",
      "  logit = np.log(x_norm/(1-x_norm+1e-10)+1e-10)\n",
      "/global/u1/r/rmastand/dimuonAD/helpers/data_transforms.py:8: RuntimeWarning: invalid value encountered in log\n",
      "  logit = np.log(x_norm/(1-x_norm+1e-10)+1e-10)\n"
     ]
    },
    {
     "name": "stdout",
     "output_type": "stream",
     "text": [
      "Total events opp sign: 45424558\n",
      "Total events same sign: 2736925\n",
      "{'SBL': 43843, 'SR': 13859, 'SBH': 47785}\n",
      "{'SBL': 26460, 'SR': 8634, 'SBH': 30947}\n",
      "\n",
      "SB bounds: 1.6611067588703174, 2.4486748622775147\n",
      "SR bounds: 1.9672560955136515, 2.0676059275053333\n",
      "Total events opp sign: 46485804\n",
      "Total events same sign: 2803940\n",
      "{'SBL': 44483, 'SR': 13960, 'SBH': 47680}\n",
      "{'SBL': 26885, 'SR': 8624, 'SBH': 31506}\n",
      "\n",
      "SB bounds: 1.694495004723611, 2.497893227009293\n",
      "SR bounds: 2.006797943033476, 2.1091648066481903\n",
      "Total events opp sign: 47550680\n",
      "Total events same sign: 2871858\n",
      "{'SBL': 45074, 'SR': 14058, 'SBH': 47355}\n",
      "{'SBL': 27348, 'SR': 8657, 'SBH': 31913}\n",
      "\n",
      "SB bounds: 1.7285543543185555, 2.54810088087218\n",
      "SR bounds: 2.0471345816884488, 2.151559019261819\n",
      "Total events opp sign: 48618244\n",
      "Total events same sign: 2940583\n",
      "{'SBL': 45685, 'SR': 14141, 'SBH': 46929}\n",
      "{'SBL': 27699, 'SR': 8806, 'SBH': 32220}\n",
      "\n",
      "SB bounds: 1.7632982968403585, 2.599317708577711\n",
      "SR bounds: 2.0882819867803866, 2.1948053555489815\n",
      "Total events opp sign: 49686774\n",
      "Total events same sign: 3010363\n",
      "{'SBL': 46252, 'SR': 14130, 'SBH': 46469}\n",
      "{'SBL': 28126, 'SR': 8913, 'SBH': 32741}\n",
      "\n",
      "SB bounds: 1.7987405926068498, 2.651563994520123\n",
      "SR bounds: 2.1302564547146723, 2.238920943195516\n",
      "Total events opp sign: 50753386\n",
      "Total events same sign: 3080973\n",
      "{'SBL': 46688, 'SR': 14094, 'SBH': 45878}\n",
      "{'SBL': 28547, 'SR': 8997, 'SBH': 33066}\n",
      "\n",
      "SB bounds: 1.8348952785182475, 2.7048604308099775\n",
      "SR bounds: 2.1730746094544373, 2.283923254153746\n",
      "Total events opp sign: 51816887\n",
      "Total events same sign: 3152483\n",
      "{'SBL': 47064, 'SR': 14090, 'SBH': 45194}\n",
      "{'SBL': 28951, 'SR': 9163, 'SBH': 33396}\n",
      "\n",
      "SB bounds: 1.8717766736164643, 2.759228125469258\n",
      "SR bounds: 2.2167534091044714, 2.3298301115622366\n",
      "Total events opp sign: 52875526\n",
      "Total events same sign: 3224848\n",
      "{'SBL': 47353, 'SR': 14064, 'SBH': 44445}\n",
      "{'SBL': 29389, 'SR': 9389, 'SBH': 33587}\n",
      "\n",
      "SB bounds: 1.9093993847561552, 2.81468861079119\n",
      "SR bounds: 2.2613101526274715, 2.3766596968046376\n",
      "Total events opp sign: 53927593\n",
      "Total events same sign: 3298038\n",
      "{'SBL': 47630, 'SR': 13954, 'SBH': 43621}\n",
      "{'SBL': 29846, 'SR': 9518, 'SBH': 33826}\n",
      "\n",
      "SB bounds: 1.947778312389754, 2.871263851868093\n",
      "SR bounds: 2.3067624866952836, 2.4244305567104107\n",
      "Total events opp sign: 54973113\n",
      "Total events same sign: 3372125\n",
      "{'SBL': 47787, 'SR': 13882, 'SBH': 42882}\n",
      "{'SBL': 30296, 'SR': 9605, 'SBH': 34186}\n",
      "\n",
      "SB bounds: 1.986928656468788, 2.9289762552906415\n",
      "SR bounds: 2.353128412677859, 2.47316161090029\n",
      "Total events opp sign: 56013147\n",
      "Total events same sign: 3446761\n",
      "{'SBL': 47825, 'SR': 13740, 'SBH': 42437}\n",
      "{'SBL': 30541, 'SR': 9685, 'SBH': 34410}\n",
      "\n",
      "SB bounds: 2.0268659224638106, 2.9878486780219835\n",
      "SR bounds: 2.400426293772684, 2.522872159279386\n",
      "Total events opp sign: 57062120\n",
      "Total events same sign: 3522036\n",
      "{'SBL': 47785, 'SR': 13457, 'SBH': 43654}\n",
      "{'SBL': 30947, 'SR': 9802, 'SBH': 34526}\n",
      "\n",
      "SB bounds: 2.0676059275053333, 3.0479044364502252\n",
      "SR bounds: 2.4486748622775147, 2.5735818896809017\n",
      "Total events opp sign: 58246838\n",
      "Total events same sign: 3598153\n",
      "{'SBL': 47680, 'SR': 13204, 'SBH': 57586}\n",
      "{'SBL': 31506, 'SR': 9887, 'SBH': 34724}\n",
      "\n",
      "SB bounds: 2.1091648066481903, 3.1091673156228747\n",
      "SR bounds: 2.497893227009293, 2.625310885663488\n",
      "Total events opp sign: 60230432\n",
      "Total events same sign: 3674905\n",
      "{'SBL': 47355, 'SR': 12955, 'SBH': 138048}\n",
      "{'SBL': 31913, 'SR': 9976, 'SBH': 34863}\n",
      "\n",
      "SB bounds: 2.151559019261819, 3.1716615786668947\n",
      "SR bounds: 2.54810088087218, 2.678079634465324\n",
      "Total events opp sign: 62592099\n",
      "Total events same sign: 3752369\n",
      "{'SBL': 46929, 'SR': 12716, 'SBH': 176520}\n",
      "{'SBL': 32220, 'SR': 10102, 'SBH': 35142}\n",
      "\n",
      "SB bounds: 2.1948053555489815, 3.2354119763980993\n",
      "SR bounds: 2.599317708577711, 2.7319090351180773\n",
      "Total events opp sign: 64962712\n",
      "Total events same sign: 3830627\n",
      "{'SBL': 46469, 'SR': 12441, 'SBH': 178150}\n",
      "{'SBL': 32741, 'SR': 10043, 'SBH': 35474}\n",
      "\n",
      "SB bounds: 2.238920943195516, 3.300443757123701\n",
      "SR bounds: 2.651563994520123, 2.7868204067239506\n",
      "Total events opp sign: 67308439\n",
      "Total events same sign: 3909701\n",
      "{'SBL': 45878, 'SR': 12194, 'SBH': 176499}\n",
      "{'SBL': 33066, 'SR': 10060, 'SBH': 35948}\n",
      "\n",
      "SB bounds: 2.283923254153746, 3.3667826766418876\n",
      "SR bounds: 2.7048604308099775, 2.842835496899102\n",
      "Total events opp sign: 69623302\n",
      "Total events same sign: 3989389\n",
      "{'SBL': 45194, 'SR': 11978, 'SBH': 174313}\n",
      "{'SBL': 33396, 'SR': 10198, 'SBH': 36094}\n",
      "\n",
      "SB bounds: 2.3298301115622366, 3.4344550084423893\n",
      "SR bounds: 2.759228125469258, 2.899976490386774\n",
      "Total events opp sign: 71905514\n",
      "Total events same sign: 4069728\n",
      "{'SBL': 44445, 'SR': 11973, 'SBH': 171802}\n",
      "{'SBL': 33587, 'SR': 10321, 'SBH': 36431}\n",
      "\n",
      "SB bounds: 2.3766596968046376, 3.503487554112081\n",
      "SR bounds: 2.81468861079119, 2.958266017843548\n",
      "Total events opp sign: 74153880\n",
      "Total events same sign: 4150662\n",
      "{'SBL': 43621, 'SR': 12630, 'SBH': 168584}\n",
      "{'SBL': 33826, 'SR': 10294, 'SBH': 36814}\n",
      "\n",
      "SB bounds: 2.4244305567104107, 3.573907653949734\n",
      "SR bounds: 2.871263851868093, 3.0177271648022033\n",
      "Total events opp sign: 76368413\n",
      "Total events same sign: 4232316\n"
     ]
    },
    {
     "name": "stderr",
     "output_type": "stream",
     "text": [
      "/global/u1/r/rmastand/dimuonAD/helpers/data_transforms.py:8: RuntimeWarning: invalid value encountered in log\n",
      "  logit = np.log(x_norm/(1-x_norm+1e-10)+1e-10)\n"
     ]
    },
    {
     "name": "stdout",
     "output_type": "stream",
     "text": [
      "{'SBL': 42882, 'SR': 17468, 'SBH': 161101}\n",
      "{'SBL': 34186, 'SR': 10273, 'SBH': 37195}\n",
      "\n",
      "SB bounds: 2.47316161090029, 3.6457431977941237\n",
      "SR bounds: 2.9289762552906415, 3.0783834808147277\n",
      "Total events opp sign: 78560349\n",
      "Total events same sign: 4314577\n",
      "{'SBL': 42437, 'SR': 58559, 'SBH': 118196}\n",
      "{'SBL': 34410, 'SR': 10412, 'SBH': 37439}\n",
      "\n",
      "SB bounds: 2.522872159279386, 3.7190226360697856\n",
      "SR bounds: 2.9878486780219835, 3.1402589887791037\n",
      "Total events opp sign: 80763596\n",
      "Total events same sign: 4397477\n",
      "{'SBL': 43654, 'SR': 137066, 'SBH': 39603}\n",
      "{'SBL': 34526, 'SR': 10523, 'SBH': 37851}\n",
      "\n",
      "SB bounds: 2.5735818896809017, 3.7937749910547884\n",
      "SR bounds: 3.0479044364502252, 3.2033781944535638\n"
     ]
    },
    {
     "name": "stderr",
     "output_type": "stream",
     "text": [
      "/global/u1/r/rmastand/dimuonAD/helpers/data_transforms.py:8: RuntimeWarning: invalid value encountered in log\n",
      "  logit = np.log(x_norm/(1-x_norm+1e-10)+1e-10)\n"
     ]
    },
    {
     "name": "stdout",
     "output_type": "stream",
     "text": [
      "Total events opp sign: 82942570\n",
      "Total events same sign: 4481210\n",
      "{'SBL': 57586, 'SR': 133273, 'SBH': 27037}\n",
      "{'SBL': 34724, 'SR': 10612, 'SBH': 38397}\n",
      "\n",
      "SB bounds: 2.625310885663488, 3.8700298683749894\n",
      "SR bounds: 3.1091673156228747, 3.2677660961620805\n"
     ]
    },
    {
     "name": "stderr",
     "output_type": "stream",
     "text": [
      "/global/u1/r/rmastand/dimuonAD/helpers/data_transforms.py:8: RuntimeWarning: invalid value encountered in log\n",
      "  logit = np.log(x_norm/(1-x_norm+1e-10)+1e-10)\n"
     ]
    },
    {
     "name": "stdout",
     "output_type": "stream",
     "text": [
      "Total events opp sign: 85092203\n",
      "Total events same sign: 4568011\n"
     ]
    },
    {
     "name": "stderr",
     "output_type": "stream",
     "text": [
      "/global/u1/r/rmastand/dimuonAD/helpers/data_transforms.py:8: RuntimeWarning: invalid value encountered in log\n",
      "  logit = np.log(x_norm/(1-x_norm+1e-10)+1e-10)\n"
     ]
    },
    {
     "name": "stdout",
     "output_type": "stream",
     "text": [
      "{'SBL': 138048, 'SR': 51694, 'SBH': 25220}\n",
      "{'SBL': 34863, 'SR': 10848, 'SBH': 41090}\n",
      "\n",
      "SB bounds: 2.678079634465324, 3.9478174687293266\n",
      "SR bounds: 3.1716615786668947, 3.333448194694938\n",
      "Total events opp sign: 87212566\n",
      "Total events same sign: 4658856\n"
     ]
    },
    {
     "name": "stderr",
     "output_type": "stream",
     "text": [
      "/global/u1/r/rmastand/dimuonAD/helpers/data_transforms.py:8: RuntimeWarning: invalid value encountered in log\n",
      "  logit = np.log(x_norm/(1-x_norm+1e-10)+1e-10)\n"
     ]
    },
    {
     "name": "stdout",
     "output_type": "stream",
     "text": [
      "{'SBL': 176520, 'SR': 10980, 'SBH': 24535}\n",
      "{'SBL': 35142, 'SR': 11011, 'SBH': 44692}\n",
      "\n",
      "SB bounds: 2.7319090351180773, 4.0271685998507865\n",
      "SR bounds: 3.2354119763980993, 3.4004505034083063\n",
      "Total events opp sign: 89304499\n",
      "Total events same sign: 4753873\n"
     ]
    },
    {
     "name": "stderr",
     "output_type": "stream",
     "text": [
      "/global/u1/r/rmastand/dimuonAD/helpers/data_transforms.py:8: RuntimeWarning: invalid value encountered in log\n",
      "  logit = np.log(x_norm/(1-x_norm+1e-10)+1e-10)\n",
      "/global/u1/r/rmastand/dimuonAD/helpers/data_transforms.py:8: RuntimeWarning: invalid value encountered in log\n",
      "  logit = np.log(x_norm/(1-x_norm+1e-10)+1e-10)\n"
     ]
    },
    {
     "name": "stdout",
     "output_type": "stream",
     "text": [
      "{'SBL': 178150, 'SR': 6904, 'SBH': 24138}\n",
      "{'SBL': 35474, 'SR': 11073, 'SBH': 48470}\n",
      "\n",
      "SB bounds: 2.7868204067239506, 4.108114688707787\n",
      "SR bounds: 3.300443757123701, 3.468799558526813\n",
      "Total events opp sign: 91368032\n",
      "Total events same sign: 4853298\n"
     ]
    },
    {
     "name": "stderr",
     "output_type": "stream",
     "text": [
      "/global/u1/r/rmastand/dimuonAD/helpers/data_transforms.py:8: RuntimeWarning: invalid value encountered in log\n",
      "  logit = np.log(x_norm/(1-x_norm+1e-10)+1e-10)\n"
     ]
    },
    {
     "name": "stdout",
     "output_type": "stream",
     "text": [
      "{'SBL': 176499, 'SR': 5995, 'SBH': 23858}\n",
      "{'SBL': 35948, 'SR': 11008, 'SBH': 52469}\n",
      "\n",
      "SB bounds: 2.842835496899102, 4.190687793950814\n",
      "SR bounds: 3.3667826766418876, 3.538522429653202\n",
      "Total events opp sign: 93403847\n",
      "Total events same sign: 4956987\n"
     ]
    },
    {
     "name": "stderr",
     "output_type": "stream",
     "text": [
      "/global/u1/r/rmastand/dimuonAD/helpers/data_transforms.py:8: RuntimeWarning: invalid value encountered in log\n",
      "  logit = np.log(x_norm/(1-x_norm+1e-10)+1e-10)\n"
     ]
    },
    {
     "name": "stdout",
     "output_type": "stream",
     "text": [
      "{'SBL': 174313, 'SR': 5575, 'SBH': 23692}\n",
      "{'SBL': 36094, 'SR': 11163, 'SBH': 56432}\n",
      "\n",
      "SB bounds: 2.899976490386774, 4.274920618609225\n",
      "SR bounds: 3.4344550084423893, 3.6096467304892315\n",
      "Total events opp sign: 95410689\n",
      "Total events same sign: 5065086\n",
      "{'SBL': 171802, 'SR': 5605, 'SBH': 23276}\n",
      "{'SBL': 36431, 'SR': 11250, 'SBH': 60418}\n",
      "\n",
      "SB bounds: 2.958266017843548, 4.3608465230432705\n",
      "SR bounds: 3.503487554112081, 3.682200629772065\n",
      "Total events opp sign: 97382876\n",
      "Total events same sign: 5177932\n"
     ]
    },
    {
     "name": "stderr",
     "output_type": "stream",
     "text": [
      "/global/u1/r/rmastand/dimuonAD/helpers/data_transforms.py:8: RuntimeWarning: invalid value encountered in log\n",
      "  logit = np.log(x_norm/(1-x_norm+1e-10)+1e-10)\n"
     ]
    },
    {
     "name": "stdout",
     "output_type": "stream",
     "text": [
      "{'SBL': 168584, 'SR': 8540, 'SBH': 20094}\n",
      "{'SBL': 36814, 'SR': 11313, 'SBH': 64719}\n",
      "\n",
      "SB bounds: 3.0177271648022033, 4.44849953815644\n",
      "SR bounds: 3.573907653949734, 3.7562128624304836\n",
      "Total events opp sign: 99277907\n",
      "Total events same sign: 5295644\n"
     ]
    },
    {
     "name": "stderr",
     "output_type": "stream",
     "text": [
      "/global/u1/r/rmastand/dimuonAD/helpers/data_transforms.py:8: RuntimeWarning: invalid value encountered in log\n",
      "  logit = np.log(x_norm/(1-x_norm+1e-10)+1e-10)\n"
     ]
    },
    {
     "name": "stdout",
     "output_type": "stream",
     "text": [
      "{'SBL': 161101, 'SR': 11305, 'SBH': 17095}\n",
      "{'SBL': 37195, 'SR': 11416, 'SBH': 69101}\n",
      "\n",
      "SB bounds: 3.0783834808147277, 4.537914378873385\n",
      "SR bounds: 3.6457431977941237, 3.831712740965336\n",
      "Total events opp sign: 100731580\n",
      "Total events same sign: 5418374\n",
      "{'SBL': 118196, 'SR': 10254, 'SBH': 16915}\n",
      "{'SBL': 37439, 'SR': 12745, 'SBH': 72546}\n",
      "\n",
      "SB bounds: 3.1402589887791037, 4.62912645788874\n",
      "SR bounds: 3.7190226360697856, 3.908730167058739\n"
     ]
    },
    {
     "name": "stderr",
     "output_type": "stream",
     "text": [
      "/global/u1/r/rmastand/dimuonAD/helpers/data_transforms.py:8: RuntimeWarning: invalid value encountered in log\n",
      "  logit = np.log(x_norm/(1-x_norm+1e-10)+1e-10)\n"
     ]
    },
    {
     "name": "stdout",
     "output_type": "stream",
     "text": [
      "Total events opp sign: 101354965\n",
      "Total events same sign: 5546193\n",
      "{'SBL': 39603, 'SR': 6019, 'SBH': 16715}\n",
      "{'SBL': 37851, 'SR': 15900, 'SBH': 74068}\n",
      "\n",
      "SB bounds: 3.2033781944535638, 4.722171899692304\n",
      "SR bounds: 3.7937749910547884, 3.98729564341662\n"
     ]
    },
    {
     "name": "stderr",
     "output_type": "stream",
     "text": [
      "/global/u1/r/rmastand/dimuonAD/helpers/data_transforms.py:8: RuntimeWarning: invalid value encountered in log\n",
      "  logit = np.log(x_norm/(1-x_norm+1e-10)+1e-10)\n"
     ]
    },
    {
     "name": "stdout",
     "output_type": "stream",
     "text": [
      "Total events opp sign: 101843962\n",
      "Total events same sign: 5679181\n",
      "{'SBL': 27037, 'SR': 5264, 'SBH': 16598}\n",
      "{'SBL': 38397, 'SR': 19265, 'SBH': 75326}\n",
      "\n",
      "SB bounds: 3.2677660961620805, 4.817087554876119\n",
      "SR bounds: 3.8700298683749894, 4.067440285849294\n"
     ]
    },
    {
     "name": "stderr",
     "output_type": "stream",
     "text": [
      "/global/u1/r/rmastand/dimuonAD/helpers/data_transforms.py:8: RuntimeWarning: invalid value encountered in log\n",
      "  logit = np.log(x_norm/(1-x_norm+1e-10)+1e-10)\n"
     ]
    },
    {
     "name": "stdout",
     "output_type": "stream",
     "text": [
      "Total events opp sign: 102313011\n",
      "Total events same sign: 5817529\n",
      "{'SBL': 25220, 'SR': 5117, 'SBH': 16566}\n",
      "{'SBL': 41090, 'SR': 20454, 'SBH': 76804}\n",
      "\n",
      "SB bounds: 3.333448194694938, 4.91391101472913\n",
      "SR bounds: 3.9478174687293266, 4.149195835594865\n"
     ]
    },
    {
     "name": "stderr",
     "output_type": "stream",
     "text": [
      "/global/u1/r/rmastand/dimuonAD/helpers/data_transforms.py:8: RuntimeWarning: invalid value encountered in log\n",
      "  logit = np.log(x_norm/(1-x_norm+1e-10)+1e-10)\n"
     ]
    },
    {
     "name": "stdout",
     "output_type": "stream",
     "text": [
      "Total events opp sign: 102774407\n",
      "Total events same sign: 5961255\n",
      "{'SBL': 24535, 'SR': 4988, 'SBH': 16615}\n",
      "{'SBL': 44692, 'SR': 20814, 'SBH': 78220}\n",
      "\n",
      "SB bounds: 3.4004505034083063, 5.012680626125185\n",
      "SR bounds: 4.0271685998507865, 4.232594671890322\n"
     ]
    },
    {
     "name": "stderr",
     "output_type": "stream",
     "text": [
      "/global/u1/r/rmastand/dimuonAD/helpers/data_transforms.py:8: RuntimeWarning: invalid value encountered in log\n",
      "  logit = np.log(x_norm/(1-x_norm+1e-10)+1e-10)\n"
     ]
    },
    {
     "name": "stdout",
     "output_type": "stream",
     "text": [
      "Total events opp sign: 103231404\n",
      "Total events same sign: 6110477\n",
      "{'SBL': 24138, 'SR': 4922, 'SBH': 16638}\n",
      "{'SBL': 48470, 'SR': 21081, 'SBH': 79671}\n",
      "\n",
      "SB bounds: 3.468799558526813, 5.113435506710301\n",
      "SR bounds: 4.108114688707787, 4.317669824795317\n"
     ]
    },
    {
     "name": "stderr",
     "output_type": "stream",
     "text": [
      "/global/u1/r/rmastand/dimuonAD/helpers/data_transforms.py:8: RuntimeWarning: invalid value encountered in log\n",
      "  logit = np.log(x_norm/(1-x_norm+1e-10)+1e-10)\n"
     ]
    },
    {
     "name": "stdout",
     "output_type": "stream",
     "text": [
      "Total events opp sign: 103686441\n",
      "Total events same sign: 6265255\n",
      "{'SBL': 23858, 'SR': 4893, 'SBH': 16752}\n",
      "{'SBL': 52469, 'SR': 21393, 'SBH': 80916}\n",
      "\n",
      "SB bounds: 3.538522429653202, 5.216215560395178\n",
      "SR bounds: 4.190687793950814, 4.404454988273703\n"
     ]
    },
    {
     "name": "stderr",
     "output_type": "stream",
     "text": [
      "/global/u1/r/rmastand/dimuonAD/helpers/data_transforms.py:8: RuntimeWarning: invalid value encountered in log\n",
      "  logit = np.log(x_norm/(1-x_norm+1e-10)+1e-10)\n"
     ]
    },
    {
     "name": "stdout",
     "output_type": "stream",
     "text": [
      "Total events opp sign: 104140339\n",
      "Total events same sign: 6426044\n",
      "{'SBL': 23692, 'SR': 4849, 'SBH': 16848}\n",
      "{'SBL': 56432, 'SR': 21722, 'SBH': 82635}\n",
      "\n",
      "SB bounds: 3.6096467304892315, 5.321061493159122\n",
      "SR bounds: 4.274920618609225, 4.492984533538005\n"
     ]
    },
    {
     "name": "stderr",
     "output_type": "stream",
     "text": [
      "/global/u1/r/rmastand/dimuonAD/helpers/data_transforms.py:8: RuntimeWarning: invalid value encountered in log\n",
      "  logit = np.log(x_norm/(1-x_norm+1e-10)+1e-10)\n",
      "/global/u1/r/rmastand/dimuonAD/helpers/data_transforms.py:8: RuntimeWarning: invalid value encountered in log\n",
      "  logit = np.log(x_norm/(1-x_norm+1e-10)+1e-10)\n"
     ]
    },
    {
     "name": "stdout",
     "output_type": "stream",
     "text": [
      "Total events opp sign: 104591458\n",
      "Total events same sign: 6593032\n",
      "{'SBL': 23276, 'SR': 4822, 'SBH': 17013}\n",
      "{'SBL': 60418, 'SR': 22445, 'SBH': 84125}\n",
      "\n",
      "SB bounds: 3.682200629772065, 5.4280148291716195\n",
      "SR bounds: 4.3608465230432705, 4.583293522662118\n",
      "Total events opp sign: 105012286\n",
      "Total events same sign: 6766361\n",
      "{'SBL': 20094, 'SR': 4840, 'SBH': 17148}\n",
      "{'SBL': 64719, 'SR': 22878, 'SBH': 85732}\n",
      "\n",
      "SB bounds: 3.7562128624304836, 5.537117927237969\n",
      "SR bounds: 4.44849953815644, 4.675417722467627\n"
     ]
    },
    {
     "name": "stderr",
     "output_type": "stream",
     "text": [
      "/global/u1/r/rmastand/dimuonAD/helpers/data_transforms.py:8: RuntimeWarning: invalid value encountered in log\n",
      "  logit = np.log(x_norm/(1-x_norm+1e-10)+1e-10)\n"
     ]
    },
    {
     "name": "stdout",
     "output_type": "stream",
     "text": [
      "Total events opp sign: 105404849\n",
      "Total events same sign: 6946125\n",
      "{'SBL': 17095, 'SR': 4880, 'SBH': 17280}\n",
      "{'SBL': 69101, 'SR': 23235, 'SBH': 87428}\n",
      "\n",
      "SB bounds: 3.831712740965336, 5.648413997575453\n",
      "SR bounds: 4.537914378873385, 4.769393618689227\n"
     ]
    },
    {
     "name": "stderr",
     "output_type": "stream",
     "text": [
      "/global/u1/r/rmastand/dimuonAD/helpers/data_transforms.py:8: RuntimeWarning: invalid value encountered in log\n",
      "  logit = np.log(x_norm/(1-x_norm+1e-10)+1e-10)\n"
     ]
    },
    {
     "name": "stdout",
     "output_type": "stream",
     "text": [
      "Total events opp sign: 105797554\n",
      "Total events same sign: 7131625\n",
      "{'SBL': 16915, 'SR': 4876, 'SBH': 17477}\n",
      "{'SBL': 72546, 'SR': 23603, 'SBH': 89351}\n",
      "\n",
      "SB bounds: 3.908730167058739, 5.76194711892672\n",
      "SR bounds: 4.62912645788874, 4.8652584304248805\n"
     ]
    },
    {
     "name": "stderr",
     "output_type": "stream",
     "text": [
      "/global/u1/r/rmastand/dimuonAD/helpers/data_transforms.py:8: RuntimeWarning: invalid value encountered in log\n",
      "  logit = np.log(x_norm/(1-x_norm+1e-10)+1e-10)\n"
     ]
    },
    {
     "name": "stdout",
     "output_type": "stream",
     "text": [
      "Total events opp sign: 106190137\n",
      "Total events same sign: 7320911\n",
      "{'SBL': 16715, 'SR': 4903, 'SBH': 17639}\n",
      "{'SBL': 74068, 'SR': 24089, 'SBH': 91129}\n",
      "\n",
      "SB bounds: 3.98729564341662, 5.877762256017147\n",
      "SR bounds: 4.722171899692304, 4.963050124876421\n"
     ]
    },
    {
     "name": "stderr",
     "output_type": "stream",
     "text": [
      "/global/u1/r/rmastand/dimuonAD/helpers/data_transforms.py:8: RuntimeWarning: invalid value encountered in log\n",
      "  logit = np.log(x_norm/(1-x_norm+1e-10)+1e-10)\n"
     ]
    },
    {
     "name": "stdout",
     "output_type": "stream",
     "text": [
      "Total events opp sign: 106584263\n",
      "Total events same sign: 7513781\n",
      "{'SBL': 16598, 'SR': 4977, 'SBH': 17837}\n",
      "{'SBL': 75326, 'SR': 24544, 'SBH': 93000}\n",
      "\n",
      "SB bounds: 4.067440285849294, 5.995905277363091\n",
      "SR bounds: 4.817087554876119, 5.062807432386437\n"
     ]
    },
    {
     "name": "stderr",
     "output_type": "stream",
     "text": [
      "/global/u1/r/rmastand/dimuonAD/helpers/data_transforms.py:8: RuntimeWarning: invalid value encountered in log\n",
      "  logit = np.log(x_norm/(1-x_norm+1e-10)+1e-10)\n"
     ]
    },
    {
     "name": "stdout",
     "output_type": "stream",
     "text": [
      "Total events opp sign: 106980267\n",
      "Total events same sign: 7710283\n",
      "{'SBL': 16566, 'SR': 5025, 'SBH': 18008}\n",
      "{'SBL': 76804, 'SR': 24742, 'SBH': 94956}\n",
      "\n",
      "SB bounds: 4.149195835594865, 6.116422973438089\n",
      "SR bounds: 4.91391101472913, 5.164569861777404\n"
     ]
    },
    {
     "name": "stderr",
     "output_type": "stream",
     "text": [
      "/global/u1/r/rmastand/dimuonAD/helpers/data_transforms.py:8: RuntimeWarning: invalid value encountered in log\n",
      "  logit = np.log(x_norm/(1-x_norm+1e-10)+1e-10)\n"
     ]
    },
    {
     "name": "stdout",
     "output_type": "stream",
     "text": [
      "Total events opp sign: 107379209\n",
      "Total events same sign: 7910556\n",
      "{'SBL': 16615, 'SR': 5053, 'SBH': 18225}\n",
      "{'SBL': 78220, 'SR': 25151, 'SBH': 96902}\n",
      "\n",
      "SB bounds: 4.232594671890322, 6.239363075204195\n",
      "SR bounds: 5.012680626125185, 5.26837771599913\n"
     ]
    },
    {
     "name": "stderr",
     "output_type": "stream",
     "text": [
      "/global/u1/r/rmastand/dimuonAD/helpers/data_transforms.py:8: RuntimeWarning: invalid value encountered in log\n",
      "  logit = np.log(x_norm/(1-x_norm+1e-10)+1e-10)\n"
     ]
    },
    {
     "name": "stdout",
     "output_type": "stream",
     "text": [
      "Total events opp sign: 107781484\n",
      "Total events same sign: 8114786\n",
      "{'SBL': 16638, 'SR': 5113, 'SBH': 18475}\n",
      "{'SBL': 79671, 'SR': 25796, 'SBH': 98763}\n",
      "\n",
      "SB bounds: 4.317669824795317, 6.364774273015799\n",
      "SR bounds: 5.113435506710301, 5.374272108090713\n"
     ]
    },
    {
     "name": "stderr",
     "output_type": "stream",
     "text": [
      "/global/u1/r/rmastand/dimuonAD/helpers/data_transforms.py:8: RuntimeWarning: invalid value encountered in log\n",
      "  logit = np.log(x_norm/(1-x_norm+1e-10)+1e-10)\n"
     ]
    },
    {
     "name": "stdout",
     "output_type": "stream",
     "text": [
      "Total events opp sign: 108187915\n",
      "Total events same sign: 8323148\n",
      "{'SBL': 16752, 'SR': 5155, 'SBH': 18735}\n",
      "{'SBL': 80916, 'SR': 26552, 'SBH': 100894}\n",
      "\n",
      "SB bounds: 4.404454988273703, 6.492706235903416\n",
      "SR bounds: 5.216215560395178, 5.482294977463336\n"
     ]
    },
    {
     "name": "stderr",
     "output_type": "stream",
     "text": [
      "/global/u1/r/rmastand/dimuonAD/helpers/data_transforms.py:8: RuntimeWarning: invalid value encountered in log\n",
      "  logit = np.log(x_norm/(1-x_norm+1e-10)+1e-10)\n"
     ]
    },
    {
     "name": "stdout",
     "output_type": "stream",
     "text": [
      "Total events opp sign: 108598957\n",
      "Total events same sign: 8535931\n",
      "{'SBL': 16848, 'SR': 5215, 'SBH': 19040}\n",
      "{'SBL': 82635, 'SR': 27163, 'SBH': 102985}\n",
      "\n",
      "SB bounds: 4.492984533538005, 6.623209631245075\n",
      "SR bounds: 5.321061493159122, 5.5924891065103495\n"
     ]
    },
    {
     "name": "stderr",
     "output_type": "stream",
     "text": [
      "/global/u1/r/rmastand/dimuonAD/helpers/data_transforms.py:8: RuntimeWarning: invalid value encountered in log\n",
      "  logit = np.log(x_norm/(1-x_norm+1e-10)+1e-10)\n"
     ]
    },
    {
     "name": "stdout",
     "output_type": "stream",
     "text": [
      "Total events opp sign: 109015265\n",
      "Total events same sign: 8752856\n",
      "{'SBL': 17013, 'SR': 5237, 'SBH': 19380}\n",
      "{'SBL': 84125, 'SR': 27715, 'SBH': 105085}\n",
      "\n",
      "SB bounds: 4.583293522662118, 6.756336144833101\n",
      "SR bounds: 5.4280148291716195, 5.704898137551208\n"
     ]
    },
    {
     "name": "stderr",
     "output_type": "stream",
     "text": [
      "/global/u1/r/rmastand/dimuonAD/helpers/data_transforms.py:8: RuntimeWarning: invalid value encountered in log\n",
      "  logit = np.log(x_norm/(1-x_norm+1e-10)+1e-10)\n"
     ]
    },
    {
     "name": "stdout",
     "output_type": "stream",
     "text": [
      "Total events opp sign: 109437040\n",
      "Total events same sign: 8974341\n",
      "{'SBL': 17148, 'SR': 5309, 'SBH': 19719}\n",
      "{'SBL': 85732, 'SR': 28296, 'SBH': 107457}\n",
      "\n",
      "SB bounds: 4.675417722467627, 6.892138501344246\n",
      "SR bounds: 5.537117927237969, 5.819566590115987\n"
     ]
    },
    {
     "name": "stderr",
     "output_type": "stream",
     "text": [
      "/global/u1/r/rmastand/dimuonAD/helpers/data_transforms.py:8: RuntimeWarning: invalid value encountered in log\n",
      "  logit = np.log(x_norm/(1-x_norm+1e-10)+1e-10)\n"
     ]
    },
    {
     "name": "stdout",
     "output_type": "stream",
     "text": [
      "Total events opp sign: 109864681\n",
      "Total events same sign: 9200613\n",
      "{'SBL': 17280, 'SR': 5389, 'SBH': 20093}\n",
      "{'SBL': 87428, 'SR': 29004, 'SBH': 109840}\n",
      "\n",
      "SB bounds: 4.769393618689227, 7.030670485221265\n",
      "SR bounds: 5.648413997575453, 5.936539878577318\n"
     ]
    },
    {
     "name": "stderr",
     "output_type": "stream",
     "text": [
      "/global/u1/r/rmastand/dimuonAD/helpers/data_transforms.py:8: RuntimeWarning: invalid value encountered in log\n",
      "  logit = np.log(x_norm/(1-x_norm+1e-10)+1e-10)\n"
     ]
    },
    {
     "name": "stdout",
     "output_type": "stream",
     "text": [
      "Total events opp sign: 110299070\n",
      "Total events same sign: 9431740\n",
      "{'SBL': 17477, 'SR': 5444, 'SBH': 20516}\n",
      "{'SBL': 89351, 'SR': 29259, 'SBH': 112517}\n",
      "\n",
      "SB bounds: 4.8652584304248805, 7.171986961974212\n",
      "SR bounds: 5.76194711892672, 6.055864330136722\n"
     ]
    },
    {
     "name": "stderr",
     "output_type": "stream",
     "text": [
      "/global/u1/r/rmastand/dimuonAD/helpers/data_transforms.py:8: RuntimeWarning: invalid value encountered in log\n",
      "  logit = np.log(x_norm/(1-x_norm+1e-10)+1e-10)\n"
     ]
    },
    {
     "name": "stdout",
     "output_type": "stream",
     "text": [
      "Total events opp sign: 110740053\n",
      "Total events same sign: 9667938\n",
      "{'SBL': 17639, 'SR': 5516, 'SBH': 20942}\n",
      "{'SBL': 91129, 'SR': 29760, 'SBH': 115309}\n",
      "\n",
      "SB bounds: 4.963050124876421, 7.3161438999098936\n",
      "SR bounds: 5.877762256017147, 6.17758720317247\n"
     ]
    },
    {
     "name": "stderr",
     "output_type": "stream",
     "text": [
      "/global/u1/r/rmastand/dimuonAD/helpers/data_transforms.py:8: RuntimeWarning: invalid value encountered in log\n",
      "  logit = np.log(x_norm/(1-x_norm+1e-10)+1e-10)\n"
     ]
    },
    {
     "name": "stdout",
     "output_type": "stream",
     "text": [
      "Total events opp sign: 111188295\n",
      "Total events same sign: 9909340\n",
      "{'SBL': 17837, 'SR': 5592, 'SBH': 21394}\n",
      "{'SBL': 93000, 'SR': 30323, 'SBH': 118079}\n",
      "\n",
      "SB bounds: 5.062807432386437, 7.463198392298082\n",
      "SR bounds: 5.995905277363091, 6.301756705956237\n"
     ]
    },
    {
     "name": "stderr",
     "output_type": "stream",
     "text": [
      "/global/u1/r/rmastand/dimuonAD/helpers/data_transforms.py:8: RuntimeWarning: invalid value encountered in log\n",
      "  logit = np.log(x_norm/(1-x_norm+1e-10)+1e-10)\n"
     ]
    },
    {
     "name": "stdout",
     "output_type": "stream",
     "text": [
      "Total events opp sign: 111644148\n",
      "Total events same sign: 10156347\n",
      "{'SBL': 18008, 'SR': 5725, 'SBH': 21851}\n",
      "{'SBL': 94956, 'SR': 30957, 'SBH': 121094}\n",
      "\n",
      "SB bounds: 5.164569861777404, 7.613208679983273\n",
      "SR bounds: 6.116422973438089, 6.428422015745957\n"
     ]
    },
    {
     "name": "stderr",
     "output_type": "stream",
     "text": [
      "/global/u1/r/rmastand/dimuonAD/helpers/data_transforms.py:8: RuntimeWarning: invalid value encountered in log\n",
      "  logit = np.log(x_norm/(1-x_norm+1e-10)+1e-10)\n"
     ]
    },
    {
     "name": "stdout",
     "output_type": "stream",
     "text": [
      "Total events opp sign: 112108097\n",
      "Total events same sign: 10409104\n"
     ]
    },
    {
     "name": "stderr",
     "output_type": "stream",
     "text": [
      "/global/u1/r/rmastand/dimuonAD/helpers/data_transforms.py:8: RuntimeWarning: invalid value encountered in log\n",
      "  logit = np.log(x_norm/(1-x_norm+1e-10)+1e-10)\n"
     ]
    },
    {
     "name": "stdout",
     "output_type": "stream",
     "text": [
      "{'SBL': 18225, 'SR': 5843, 'SBH': 22326}\n",
      "{'SBL': 96902, 'SR': 31851, 'SBH': 124004}\n",
      "\n",
      "SB bounds: 5.26837771599913, 7.766234174450937\n",
      "SR bounds: 6.239363075204195, 6.55763329826245\n",
      "Total events opp sign: 112580672\n",
      "Total events same sign: 10667683\n",
      "{'SBL': 18475, 'SR': 5954, 'SBH': 22827}\n",
      "{'SBL': 98763, 'SR': 32706, 'SBH': 127110}\n",
      "\n",
      "SB bounds: 5.374272108090713, 7.9223354813574005\n",
      "SR bounds: 6.364774273015799, 6.689441727557526\n"
     ]
    },
    {
     "name": "stderr",
     "output_type": "stream",
     "text": [
      "/global/u1/r/rmastand/dimuonAD/helpers/data_transforms.py:8: RuntimeWarning: invalid value encountered in log\n",
      "  logit = np.log(x_norm/(1-x_norm+1e-10)+1e-10)\n"
     ]
    },
    {
     "name": "stdout",
     "output_type": "stream",
     "text": [
      "Total events opp sign: 113062317\n",
      "Total events same sign: 10932467\n",
      "{'SBL': 18735, 'SR': 6098, 'SBH': 23330}\n",
      "{'SBL': 100894, 'SR': 33432, 'SBH': 130458}\n",
      "\n",
      "SB bounds: 5.482294977463336, 8.081574424532684\n",
      "SR bounds: 6.492706235903416, 6.823899506281432\n"
     ]
    },
    {
     "name": "stderr",
     "output_type": "stream",
     "text": [
      "/global/u1/r/rmastand/dimuonAD/helpers/data_transforms.py:8: RuntimeWarning: invalid value encountered in log\n",
      "  logit = np.log(x_norm/(1-x_norm+1e-10)+1e-10)\n"
     ]
    },
    {
     "name": "stdout",
     "output_type": "stream",
     "text": [
      "Total events opp sign: 113554661\n",
      "Total events same sign: 11203585\n",
      "{'SBL': 19040, 'SR': 6214, 'SBH': 23978}\n",
      "{'SBL': 102985, 'SR': 34266, 'SBH': 133867}\n",
      "\n",
      "SB bounds: 5.5924891065103495, 8.244014070465791\n",
      "SR bounds: 6.623209631245075, 6.961059886357688\n"
     ]
    },
    {
     "name": "stderr",
     "output_type": "stream",
     "text": [
      "/global/u1/r/rmastand/dimuonAD/helpers/data_transforms.py:8: RuntimeWarning: invalid value encountered in log\n",
      "  logit = np.log(x_norm/(1-x_norm+1e-10)+1e-10)\n"
     ]
    },
    {
     "name": "stdout",
     "output_type": "stream",
     "text": [
      "Total events opp sign: 114059294\n",
      "Total events same sign: 11481907\n",
      "{'SBL': 19380, 'SR': 6336, 'SBH': 24746}\n",
      "{'SBL': 105085, 'SR': 35156, 'SBH': 138081}\n",
      "\n",
      "SB bounds: 5.704898137551208, 8.409718753282155\n",
      "SR bounds: 6.756336144833101, 7.100977190073477\n",
      "Total events opp sign: 114576482\n",
      "Total events same sign: 11767780\n",
      "{'SBL': 19719, 'SR': 6479, 'SBH': 25519}\n",
      "{'SBL': 107457, 'SR': 36118, 'SBH': 142298}\n",
      "\n",
      "SB bounds: 5.819566590115987, 8.578754100223126\n",
      "SR bounds: 6.892138501344246, 7.243706831593954\n"
     ]
    },
    {
     "name": "stderr",
     "output_type": "stream",
     "text": [
      "/global/u1/r/rmastand/dimuonAD/helpers/data_transforms.py:8: RuntimeWarning: invalid value encountered in log\n",
      "  logit = np.log(x_norm/(1-x_norm+1e-10)+1e-10)\n"
     ]
    },
    {
     "name": "stdout",
     "output_type": "stream",
     "text": [
      "Total events opp sign: 115107505\n",
      "Total events same sign: 12061409\n",
      "{'SBL': 20093, 'SR': 6617, 'SBH': 26391}\n",
      "{'SBL': 109840, 'SR': 36799, 'SBH': 146990}\n",
      "\n",
      "SB bounds: 5.936539878577318, 8.75118705763761\n",
      "SR bounds: 7.030670485221265, 7.389305338908993\n"
     ]
    },
    {
     "name": "stderr",
     "output_type": "stream",
     "text": [
      "/global/u1/r/rmastand/dimuonAD/helpers/data_transforms.py:8: RuntimeWarning: invalid value encountered in log\n",
      "  logit = np.log(x_norm/(1-x_norm+1e-10)+1e-10)\n"
     ]
    },
    {
     "name": "stdout",
     "output_type": "stream",
     "text": [
      "Total events opp sign: 115653312\n",
      "Total events same sign: 12363558\n",
      "{'SBL': 20516, 'SR': 6774, 'SBH': 27289}\n",
      "{'SBL': 112517, 'SR': 37714, 'SBH': 151918}\n",
      "\n",
      "SB bounds: 6.055864330136722, 8.927085917496127\n",
      "SR bounds: 7.171986961974212, 7.537830376221063\n"
     ]
    },
    {
     "name": "stderr",
     "output_type": "stream",
     "text": [
      "/global/u1/r/rmastand/dimuonAD/helpers/data_transforms.py:8: RuntimeWarning: invalid value encountered in log\n",
      "  logit = np.log(x_norm/(1-x_norm+1e-10)+1e-10)\n"
     ]
    },
    {
     "name": "stdout",
     "output_type": "stream",
     "text": [
      "Total events opp sign: 116215632\n",
      "Total events same sign: 12674480\n",
      "{'SBL': 20942, 'SR': 6945, 'SBH': 28344}\n",
      "{'SBL': 115309, 'SR': 38627, 'SBH': 156986}\n",
      "\n",
      "SB bounds: 6.17758720317247, 9.106520344437799\n",
      "SR bounds: 7.3161438999098936, 7.689340766783106\n"
     ]
    },
    {
     "name": "stderr",
     "output_type": "stream",
     "text": [
      "/global/u1/r/rmastand/dimuonAD/helpers/data_transforms.py:8: RuntimeWarning: invalid value encountered in log\n",
      "  logit = np.log(x_norm/(1-x_norm+1e-10)+1e-10)\n"
     ]
    },
    {
     "name": "stdout",
     "output_type": "stream",
     "text": [
      "Total events opp sign: 116796961\n",
      "Total events same sign: 12994228\n",
      "{'SBL': 21394, 'SR': 7072, 'SBH': 29666}\n",
      "{'SBL': 118079, 'SR': 39764, 'SBH': 161905}\n",
      "\n",
      "SB bounds: 6.301756705956237, 9.289561403360999\n",
      "SR bounds: 7.463198392298082, 7.843896516195446\n"
     ]
    },
    {
     "name": "stderr",
     "output_type": "stream",
     "text": [
      "/global/u1/r/rmastand/dimuonAD/helpers/data_transforms.py:8: RuntimeWarning: invalid value encountered in log\n",
      "  logit = np.log(x_norm/(1-x_norm+1e-10)+1e-10)\n"
     ]
    },
    {
     "name": "stdout",
     "output_type": "stream",
     "text": [
      "Total events opp sign: 117413260\n",
      "Total events same sign: 13323661\n",
      "{'SBL': 21851, 'SR': 7255, 'SBH': 32522}\n",
      "{'SBL': 121094, 'SR': 40802, 'SBH': 167537}\n",
      "\n",
      "SB bounds: 6.428422015745957, 9.476281587568556\n",
      "SR bounds: 7.613208679983273, 8.001558836170975\n"
     ]
    },
    {
     "name": "stderr",
     "output_type": "stream",
     "text": [
      "/global/u1/r/rmastand/dimuonAD/helpers/data_transforms.py:8: RuntimeWarning: invalid value encountered in log\n",
      "  logit = np.log(x_norm/(1-x_norm+1e-10)+1e-10)\n"
     ]
    },
    {
     "name": "stdout",
     "output_type": "stream",
     "text": [
      "Total events opp sign: 118165908\n",
      "Total events same sign: 13663183\n",
      "{'SBL': 22326, 'SR': 7439, 'SBH': 45499}\n",
      "{'SBL': 124004, 'SR': 41875, 'SBH': 173643}\n",
      "\n",
      "SB bounds: 6.55763329826245, 9.666754847478684\n",
      "SR bounds: 7.766234174450937, 8.16239016877801\n"
     ]
    },
    {
     "name": "stderr",
     "output_type": "stream",
     "text": [
      "/global/u1/r/rmastand/dimuonAD/helpers/data_transforms.py:8: RuntimeWarning: invalid value encountered in log\n",
      "  logit = np.log(x_norm/(1-x_norm+1e-10)+1e-10)\n"
     ]
    },
    {
     "name": "stdout",
     "output_type": "stream",
     "text": [
      "Total events opp sign: 119014734\n",
      "Total events same sign: 14012995\n",
      "{'SBL': 22827, 'SR': 7808, 'SBH': 54246}\n",
      "{'SBL': 127110, 'SR': 43540, 'SBH': 179162}\n",
      "\n",
      "SB bounds: 6.689441727557526, 9.861056619913006\n",
      "SR bounds: 7.9223354813574005, 8.32645421117045\n"
     ]
    },
    {
     "name": "stderr",
     "output_type": "stream",
     "text": [
      "/global/u1/r/rmastand/dimuonAD/helpers/data_transforms.py:8: RuntimeWarning: invalid value encountered in log\n",
      "  logit = np.log(x_norm/(1-x_norm+1e-10)+1e-10)\n"
     ]
    },
    {
     "name": "stdout",
     "output_type": "stream",
     "text": [
      "Total events opp sign: 119898991\n",
      "Total events same sign: 14373868\n",
      "{'SBL': 23330, 'SR': 8185, 'SBH': 56909}\n",
      "{'SBL': 130458, 'SR': 45388, 'SBH': 185027}\n",
      "\n",
      "SB bounds: 6.823899506281432, 10.059263857973257\n",
      "SR bounds: 8.081574424532684, 8.493815940814976\n"
     ]
    },
    {
     "name": "stderr",
     "output_type": "stream",
     "text": [
      "/global/u1/r/rmastand/dimuonAD/helpers/data_transforms.py:8: RuntimeWarning: invalid value encountered in log\n",
      "  logit = np.log(x_norm/(1-x_norm+1e-10)+1e-10)\n"
     ]
    },
    {
     "name": "stdout",
     "output_type": "stream",
     "text": [
      "Total events opp sign: 120864428\n",
      "Total events same sign: 14746145\n",
      "{'SBL': 23978, 'SR': 8523, 'SBH': 64041}\n",
      "{'SBL': 133867, 'SR': 47143, 'SBH': 191267}\n",
      "\n",
      "SB bounds: 6.961059886357688, 10.261455061518518\n",
      "SR bounds: 8.244014070465791, 8.664541641225357\n"
     ]
    },
    {
     "name": "stderr",
     "output_type": "stream",
     "text": [
      "/global/u1/r/rmastand/dimuonAD/helpers/data_transforms.py:8: RuntimeWarning: invalid value encountered in log\n",
      "  logit = np.log(x_norm/(1-x_norm+1e-10)+1e-10)\n"
     ]
    },
    {
     "name": "stdout",
     "output_type": "stream",
     "text": [
      "Total events opp sign: 121893833\n",
      "Total events same sign: 15130195\n"
     ]
    },
    {
     "name": "stderr",
     "output_type": "stream",
     "text": [
      "/global/u1/r/rmastand/dimuonAD/helpers/data_transforms.py:8: RuntimeWarning: invalid value encountered in log\n",
      "  logit = np.log(x_norm/(1-x_norm+1e-10)+1e-10)\n"
     ]
    },
    {
     "name": "stdout",
     "output_type": "stream",
     "text": [
      "{'SBL': 24746, 'SR': 8783, 'SBH': 69410}\n",
      "{'SBL': 138081, 'SR': 48680, 'SBH': 197289}\n",
      "\n",
      "SB bounds: 7.100977190073477, 10.46771030825504\n",
      "SR bounds: 8.409718753282155, 8.838698928213987\n",
      "Total events opp sign: 122991474\n",
      "Total events same sign: 15526530\n",
      "{'SBL': 25519, 'SR': 9132, 'SBH': 75111}\n",
      "{'SBL': 142298, 'SR': 50083, 'SBH': 203954}\n",
      "\n",
      "SB bounds: 7.243706831593954, 10.678111285450967\n",
      "SR bounds: 8.578754100223126, 9.016356776671088\n"
     ]
    },
    {
     "name": "stderr",
     "output_type": "stream",
     "text": [
      "/global/u1/r/rmastand/dimuonAD/helpers/data_transforms.py:8: RuntimeWarning: invalid value encountered in log\n",
      "  logit = np.log(x_norm/(1-x_norm+1e-10)+1e-10)\n"
     ]
    },
    {
     "name": "stdout",
     "output_type": "stream",
     "text": [
      "Total events opp sign: 124116532\n",
      "Total events same sign: 15935388\n",
      "{'SBL': 26391, 'SR': 9568, 'SBH': 76546}\n",
      "{'SBL': 146990, 'SR': 51544, 'SBH': 210324}\n"
     ]
    },
    {
     "name": "stderr",
     "output_type": "stream",
     "text": [
      "/global/u1/r/rmastand/dimuonAD/helpers/data_transforms.py:8: RuntimeWarning: invalid value encountered in log\n",
      "  logit = np.log(x_norm/(1-x_norm+1e-10)+1e-10)\n"
     ]
    },
    {
     "name": "stdout",
     "output_type": "stream",
     "text": [
      "\n",
      "SB bounds: 7.389305338908993, 10.892741322288531\n",
      "SR bounds: 8.75118705763761, 9.197585547882177\n",
      "Total events opp sign: 125260888\n",
      "Total events same sign: 16357146\n",
      "{'SBL': 27289, 'SR': 10512, 'SBH': 76633}\n",
      "{'SBL': 151918, 'SR': 53051, 'SBH': 216789}\n",
      "\n",
      "SB bounds: 7.537830376221063, 11.11168542286653\n",
      "SR bounds: 8.927085917496127, 9.382457017394609\n"
     ]
    },
    {
     "name": "stderr",
     "output_type": "stream",
     "text": [
      "/global/u1/r/rmastand/dimuonAD/helpers/data_transforms.py:8: RuntimeWarning: invalid value encountered in log\n",
      "  logit = np.log(x_norm/(1-x_norm+1e-10)+1e-10)\n"
     ]
    },
    {
     "name": "stdout",
     "output_type": "stream",
     "text": [
      "Total events opp sign: 126423903\n",
      "Total events same sign: 16792355\n",
      "{'SBL': 28344, 'SR': 15998, 'SBH': 71958}\n",
      "{'SBL': 156986, 'SR': 54972, 'SBH': 223251}\n",
      "\n",
      "SB bounds: 7.689340766783106, 11.335030299866148\n",
      "SR bounds: 9.106520344437799, 9.571044403444242\n"
     ]
    },
    {
     "name": "stderr",
     "output_type": "stream",
     "text": [
      "/global/u1/r/rmastand/dimuonAD/helpers/data_transforms.py:8: RuntimeWarning: invalid value encountered in log\n",
      "  logit = np.log(x_norm/(1-x_norm+1e-10)+1e-10)\n"
     ]
    },
    {
     "name": "stdout",
     "output_type": "stream",
     "text": [
      "Total events opp sign: 127606110\n",
      "Total events same sign: 17241063\n",
      "{'SBL': 29666, 'SR': 29773, 'SBH': 58781}\n",
      "{'SBL': 161905, 'SR': 57129, 'SBH': 229674}\n",
      "\n",
      "SB bounds: 7.843896516195446, 11.562864408893457\n",
      "SR bounds: 9.289561403360999, 9.763422395953471\n"
     ]
    },
    {
     "name": "stderr",
     "output_type": "stream",
     "text": [
      "/global/u1/r/rmastand/dimuonAD/helpers/data_transforms.py:8: RuntimeWarning: invalid value encountered in log\n",
      "  logit = np.log(x_norm/(1-x_norm+1e-10)+1e-10)\n"
     ]
    },
    {
     "name": "stdout",
     "output_type": "stream",
     "text": [
      "Total events opp sign: 128806583\n",
      "Total events same sign: 17703389\n",
      "{'SBL': 32522, 'SR': 31007, 'SBH': 56517}\n",
      "{'SBL': 167537, 'SR': 58928, 'SBH': 235861}\n",
      "\n",
      "SB bounds: 8.001558836170975, 11.795277983512216\n",
      "SR bounds: 9.476281587568556, 9.959667186112135\n"
     ]
    },
    {
     "name": "stderr",
     "output_type": "stream",
     "text": [
      "/global/u1/r/rmastand/dimuonAD/helpers/data_transforms.py:8: RuntimeWarning: invalid value encountered in log\n",
      "  logit = np.log(x_norm/(1-x_norm+1e-10)+1e-10)\n"
     ]
    },
    {
     "name": "stdout",
     "output_type": "stream",
     "text": [
      "Total events opp sign: 130026070\n",
      "Total events same sign: 18179342\n",
      "{'SBL': 45499, 'SR': 22539, 'SBH': 53909}\n",
      "{'SBL': 173643, 'SR': 60971, 'SBH': 241339}\n",
      "\n",
      "SB bounds: 8.16239016877801, 12.03236307098081\n",
      "SR bounds: 9.666754847478684, 10.159856496552989\n"
     ]
    },
    {
     "name": "stderr",
     "output_type": "stream",
     "text": [
      "/global/u1/r/rmastand/dimuonAD/helpers/data_transforms.py:8: RuntimeWarning: invalid value encountered in log\n",
      "  logit = np.log(x_norm/(1-x_norm+1e-10)+1e-10)\n",
      "/global/u1/r/rmastand/dimuonAD/helpers/data_transforms.py:8: RuntimeWarning: invalid value encountered in log\n",
      "  logit = np.log(x_norm/(1-x_norm+1e-10)+1e-10)\n"
     ]
    },
    {
     "name": "stdout",
     "output_type": "stream",
     "text": [
      "Total events opp sign: 131262740\n",
      "Total events same sign: 18668673\n",
      "{'SBL': 54246, 'SR': 21533, 'SBH': 47886}\n",
      "{'SBL': 179162, 'SR': 63056, 'SBH': 247113}\n",
      "\n",
      "SB bounds: 8.32645421117045, 12.274213568707525\n",
      "SR bounds: 9.861056619913006, 10.364069612133703\n",
      "Total events opp sign: 132516392\n",
      "Total events same sign: 19171058\n",
      "{'SBL': 56909, 'SR': 24644, 'SBH': 43810}\n",
      "{'SBL': 185027, 'SR': 64919, 'SBH': 252439}\n"
     ]
    },
    {
     "name": "stderr",
     "output_type": "stream",
     "text": [
      "/global/u1/r/rmastand/dimuonAD/helpers/data_transforms.py:8: RuntimeWarning: invalid value encountered in log\n",
      "  logit = np.log(x_norm/(1-x_norm+1e-10)+1e-10)\n",
      "/global/u1/r/rmastand/dimuonAD/helpers/data_transforms.py:8: RuntimeWarning: invalid value encountered in log\n",
      "  logit = np.log(x_norm/(1-x_norm+1e-10)+1e-10)\n"
     ]
    },
    {
     "name": "stdout",
     "output_type": "stream",
     "text": [
      "\n",
      "SB bounds: 8.493815940814976, 12.520925261438546\n",
      "SR bounds: 10.059263857973257, 10.57238741133759\n",
      "Total events opp sign: 133786673\n",
      "Total events same sign: 19686887\n",
      "{'SBL': 64041, 'SR': 21395, 'SBH': 41591}\n",
      "{'SBL': 191267, 'SR': 66676, 'SBH': 257886}\n",
      "\n",
      "SB bounds: 8.664541641225357, 12.77259585919346\n",
      "SR bounds: 10.261455061518518, 10.784892398305477\n",
      "Total events opp sign: 135073022\n",
      "Total events same sign: 20215908\n",
      "{'SBL': 69410, 'SR': 17248, 'SBH': 41976}\n",
      "{'SBL': 197289, 'SR': 68532, 'SBH': 263200}\n",
      "\n",
      "SB bounds: 8.838698928213987, 13.029325035963248\n",
      "SR bounds: 10.46771030825504, 11.001668735511416\n"
     ]
    },
    {
     "name": "stderr",
     "output_type": "stream",
     "text": [
      "/global/u1/r/rmastand/dimuonAD/helpers/data_transforms.py:8: RuntimeWarning: invalid value encountered in log\n",
      "  logit = np.log(x_norm/(1-x_norm+1e-10)+1e-10)\n"
     ]
    },
    {
     "name": "stdout",
     "output_type": "stream",
     "text": [
      "Total events opp sign: 136374107\n",
      "Total events same sign: 20758389\n",
      "{'SBL': 75111, 'SR': 12470, 'SBH': 42526}\n",
      "{'SBL': 203954, 'SR': 70292, 'SBH': 268235}\n",
      "\n",
      "SB bounds: 9.016356776671088, 13.291214469186109\n",
      "SR bounds: 10.678111285450967, 11.222802277095196\n"
     ]
    },
    {
     "name": "stderr",
     "output_type": "stream",
     "text": [
      "/global/u1/r/rmastand/dimuonAD/helpers/data_transforms.py:8: RuntimeWarning: invalid value encountered in log\n",
      "  logit = np.log(x_norm/(1-x_norm+1e-10)+1e-10)\n",
      "/global/u1/r/rmastand/dimuonAD/helpers/data_transforms.py:8: RuntimeWarning: invalid value encountered in log\n",
      "  logit = np.log(x_norm/(1-x_norm+1e-10)+1e-10)\n"
     ]
    },
    {
     "name": "stdout",
     "output_type": "stream",
     "text": [
      "Total events opp sign: 137688101\n",
      "Total events same sign: 21313955\n"
     ]
    },
    {
     "name": "stderr",
     "output_type": "stream",
     "text": [
      "/global/u1/r/rmastand/dimuonAD/helpers/data_transforms.py:8: RuntimeWarning: invalid value encountered in log\n",
      "  logit = np.log(x_norm/(1-x_norm+1e-10)+1e-10)\n"
     ]
    },
    {
     "name": "stdout",
     "output_type": "stream",
     "text": [
      "{'SBL': 76546, 'SR': 11769, 'SBH': 43083}\n",
      "{'SBL': 210324, 'SR': 72348, 'SBH': 272894}\n",
      "\n",
      "SB bounds: 9.197585547882177, 13.55836788001675\n",
      "SR bounds: 10.892741322288531, 11.448380602864809\n",
      "Total events opp sign: 139009746\n",
      "Total events same sign: 21882222\n",
      "{'SBL': 76633, 'SR': 11842, 'SBH': 43688}\n",
      "{'SBL': 216789, 'SR': 74004, 'SBH': 277474}\n",
      "\n",
      "SB bounds: 9.382457017394609, 13.830891074405086\n",
      "SR bounds: 11.11168542286653, 11.678493052982391\n"
     ]
    },
    {
     "name": "stderr",
     "output_type": "stream",
     "text": [
      "/global/u1/r/rmastand/dimuonAD/helpers/data_transforms.py:8: RuntimeWarning: invalid value encountered in log\n",
      "  logit = np.log(x_norm/(1-x_norm+1e-10)+1e-10)\n"
     ]
    },
    {
     "name": "stdout",
     "output_type": "stream",
     "text": [
      "Total events opp sign: 140291671\n",
      "Total events same sign: 22463072\n",
      "{'SBL': 71958, 'SR': 12049, 'SBH': 44184}\n",
      "{'SBL': 223251, 'SR': 75234, 'SBH': 282365}\n",
      "\n",
      "SB bounds: 9.571044403444242, 14.108891985000628\n",
      "SR bounds: 11.335030299866148, 11.913230763347338\n",
      "Total events opp sign: 141448577\n",
      "Total events same sign: 23056050\n",
      "{'SBL': 58781, 'SR': 12211, 'SBH': 44697}\n",
      "{'SBL': 229674, 'SR': 76514, 'SBH': 286790}\n",
      "\n",
      "SB bounds: 9.763422395953471, 14.39248071389914\n",
      "SR bounds: 11.562864408893457, 12.15268670169062\n"
     ]
    },
    {
     "name": "stderr",
     "output_type": "stream",
     "text": [
      "/global/u1/r/rmastand/dimuonAD/helpers/data_transforms.py:8: RuntimeWarning: invalid value encountered in log\n",
      "  logit = np.log(x_norm/(1-x_norm+1e-10)+1e-10)\n"
     ]
    },
    {
     "name": "stdout",
     "output_type": "stream",
     "text": [
      "Total events opp sign: 142590007\n",
      "Total events same sign: 23660825\n",
      "{'SBL': 56517, 'SR': 12468, 'SBH': 45157}\n",
      "{'SBL': 235861, 'SR': 77998, 'SBH': 290916}\n",
      "\n",
      "SB bounds: 9.959667186112135, 14.681769576248513\n",
      "SR bounds: 11.795277983512216, 12.3969557043946\n"
     ]
    },
    {
     "name": "stderr",
     "output_type": "stream",
     "text": [
      "/global/u1/r/rmastand/dimuonAD/helpers/data_transforms.py:8: RuntimeWarning: invalid value encountered in log\n",
      "  logit = np.log(x_norm/(1-x_norm+1e-10)+1e-10)\n"
     ]
    },
    {
     "name": "stdout",
     "output_type": "stream",
     "text": [
      "Total events opp sign: 143712177\n",
      "Total events same sign: 24276965\n",
      "{'SBL': 53909, 'SR': 12637, 'SBH': 45669}\n",
      "{'SBL': 241339, 'SR': 79652, 'SBH': 295149}\n",
      "\n",
      "SB bounds: 10.159856496552989, 14.976873144731108\n",
      "SR bounds: 12.03236307098081, 12.646134514052932\n"
     ]
    },
    {
     "name": "stderr",
     "output_type": "stream",
     "text": [
      "/global/u1/r/rmastand/dimuonAD/helpers/data_transforms.py:8: RuntimeWarning: invalid value encountered in log\n",
      "  logit = np.log(x_norm/(1-x_norm+1e-10)+1e-10)\n"
     ]
    },
    {
     "name": "stdout",
     "output_type": "stream",
     "text": [
      "Total events opp sign: 144779644\n",
      "Total events same sign: 24904511\n",
      "{'SBL': 47886, 'SR': 12828, 'SBH': 46032}\n",
      "{'SBL': 247113, 'SR': 81127, 'SBH': 299306}\n",
      "\n",
      "SB bounds: 10.364069612133703, 15.277908294940204\n",
      "SR bounds: 12.274213568707525, 12.900321817785395\n"
     ]
    },
    {
     "name": "stderr",
     "output_type": "stream",
     "text": [
      "/global/u1/r/rmastand/dimuonAD/helpers/data_transforms.py:8: RuntimeWarning: invalid value encountered in log\n",
      "  logit = np.log(x_norm/(1-x_norm+1e-10)+1e-10)\n"
     ]
    },
    {
     "name": "stdout",
     "output_type": "stream",
     "text": [
      "Total events opp sign: 145811660\n",
      "Total events same sign: 25542875\n",
      "{'SBL': 43810, 'SR': 12968, 'SBH': 46421}\n",
      "{'SBL': 252439, 'SR': 82680, 'SBH': 303245}\n",
      "\n",
      "SB bounds: 10.57238741133759, 15.584994251668503\n",
      "SR bounds: 12.520925261438546, 13.15961828632288\n"
     ]
    },
    {
     "name": "stderr",
     "output_type": "stream",
     "text": [
      "/global/u1/r/rmastand/dimuonAD/helpers/data_transforms.py:8: RuntimeWarning: invalid value encountered in log\n",
      "  logit = np.log(x_norm/(1-x_norm+1e-10)+1e-10)\n"
     ]
    },
    {
     "name": "stdout",
     "output_type": "stream",
     "text": [
      "Total events opp sign: 146826715\n",
      "Total events same sign: 26191865\n",
      "{'SBL': 41591, 'SR': 13076, 'SBH': 46837}\n",
      "{'SBL': 257886, 'SR': 83952, 'SBH': 307152}\n",
      "\n",
      "SB bounds: 10.784892398305477, 15.89825263612704\n",
      "SR bounds: 12.77259585919346, 13.42412661387797\n"
     ]
    },
    {
     "name": "stderr",
     "output_type": "stream",
     "text": [
      "/global/u1/r/rmastand/dimuonAD/helpers/data_transforms.py:8: RuntimeWarning: invalid value encountered in log\n",
      "  logit = np.log(x_norm/(1-x_norm+1e-10)+1e-10)\n"
     ]
    },
    {
     "name": "stdout",
     "output_type": "stream",
     "text": [
      "Total events opp sign: 147850911\n",
      "Total events same sign: 26851162\n",
      "{'SBL': 41976, 'SR': 13207, 'SBH': 47235}\n",
      "{'SBL': 263200, 'SR': 85228, 'SBH': 310869}\n",
      "\n",
      "SB bounds: 11.001668735511416, 16.217807514113193\n",
      "SR bounds: 13.029325035963248, 13.693951558816917\n"
     ]
    },
    {
     "name": "stderr",
     "output_type": "stream",
     "text": [
      "/global/u1/r/rmastand/dimuonAD/helpers/data_transforms.py:8: RuntimeWarning: invalid value encountered in log\n",
      "  logit = np.log(x_norm/(1-x_norm+1e-10)+1e-10)\n"
     ]
    },
    {
     "name": "stdout",
     "output_type": "stream",
     "text": [
      "Total events opp sign: 148885509\n",
      "Total events same sign: 27520772\n",
      "{'SBL': 42526, 'SR': 13318, 'SBH': 47614}\n",
      "{'SBL': 268235, 'SR': 86209, 'SBH': 315166}\n",
      "\n",
      "SB bounds: 11.222802277095196, 16.543785445146867\n",
      "SR bounds: 13.291214469186109, 13.969199985149137\n"
     ]
    },
    {
     "name": "stderr",
     "output_type": "stream",
     "text": [
      "/global/u1/r/rmastand/dimuonAD/helpers/data_transforms.py:8: RuntimeWarning: invalid value encountered in log\n",
      "  logit = np.log(x_norm/(1-x_norm+1e-10)+1e-10)\n"
     ]
    },
    {
     "name": "stdout",
     "output_type": "stream",
     "text": [
      "Total events opp sign: 149930917\n",
      "Total events same sign: 28200223\n",
      "{'SBL': 43083, 'SR': 13488, 'SBH': 47968}\n",
      "{'SBL': 272894, 'SR': 87465, 'SBH': 319092}\n",
      "\n",
      "SB bounds: 11.448380602864809, 16.87631553259432\n",
      "SR bounds: 13.55836788001675, 14.249980904850634\n"
     ]
    },
    {
     "name": "stderr",
     "output_type": "stream",
     "text": [
      "/global/u1/r/rmastand/dimuonAD/helpers/data_transforms.py:8: RuntimeWarning: invalid value encountered in log\n",
      "  logit = np.log(x_norm/(1-x_norm+1e-10)+1e-10)\n"
     ]
    },
    {
     "name": "stdout",
     "output_type": "stream",
     "text": [
      "Total events opp sign: 150987279\n",
      "Total events same sign: 28888986\n",
      "{'SBL': 43688, 'SR': 13558, 'SBH': 48389}\n",
      "{'SBL': 277474, 'SR': 88726, 'SBH': 322563}\n",
      "\n",
      "SB bounds: 11.678493052982391, 17.215529474799467\n",
      "SR bounds: 13.830891074405086, 14.536405521038132\n"
     ]
    },
    {
     "name": "stderr",
     "output_type": "stream",
     "text": [
      "/global/u1/r/rmastand/dimuonAD/helpers/data_transforms.py:8: RuntimeWarning: invalid value encountered in log\n",
      "  logit = np.log(x_norm/(1-x_norm+1e-10)+1e-10)\n"
     ]
    },
    {
     "name": "stdout",
     "output_type": "stream",
     "text": [
      "Total events opp sign: 152053649\n",
      "Total events same sign: 29587460\n",
      "{'SBL': 44184, 'SR': 13768, 'SBH': 48683}\n",
      "{'SBL': 282365, 'SR': 89533, 'SBH': 326576}\n",
      "\n",
      "SB bounds: 11.913230763347338, 17.561561617242937\n",
      "SR bounds: 14.108891985000628, 14.828587272010997\n"
     ]
    },
    {
     "name": "stderr",
     "output_type": "stream",
     "text": [
      "/global/u1/r/rmastand/dimuonAD/helpers/data_transforms.py:8: RuntimeWarning: invalid value encountered in log\n",
      "  logit = np.log(x_norm/(1-x_norm+1e-10)+1e-10)\n"
     ]
    },
    {
     "name": "stdout",
     "output_type": "stream",
     "text": [
      "Total events opp sign: 153130396\n",
      "Total events same sign: 30295241\n",
      "{'SBL': 44697, 'SR': 13919, 'SBH': 49058}\n",
      "{'SBL': 286790, 'SR': 91008, 'SBH': 329983}\n"
     ]
    },
    {
     "name": "stderr",
     "output_type": "stream",
     "text": [
      "/global/u1/r/rmastand/dimuonAD/helpers/data_transforms.py:8: RuntimeWarning: invalid value encountered in log\n",
      "  logit = np.log(x_norm/(1-x_norm+1e-10)+1e-10)\n"
     ]
    },
    {
     "name": "stdout",
     "output_type": "stream",
     "text": [
      "\n",
      "SB bounds: 12.15268670169062, 17.91454900574952\n",
      "SR bounds: 14.39248071389914, 15.12664187617842\n",
      "Total events opp sign: 154216183\n",
      "Total events same sign: 31012112\n",
      "{'SBL': 45157, 'SR': 13981, 'SBH': 49439}\n",
      "{'SBL': 290916, 'SR': 92207, 'SBH': 333748}\n",
      "\n",
      "SB bounds: 12.3969557043946, 18.274631440765088\n",
      "SR bounds: 14.681769576248513, 15.430687377889607\n"
     ]
    },
    {
     "name": "stderr",
     "output_type": "stream",
     "text": [
      "/global/u1/r/rmastand/dimuonAD/helpers/data_transforms.py:8: RuntimeWarning: invalid value encountered in log\n",
      "  logit = np.log(x_norm/(1-x_norm+1e-10)+1e-10)\n"
     ]
    },
    {
     "name": "stdout",
     "output_type": "stream",
     "text": [
      "Total events opp sign: 155311381\n",
      "Total events same sign: 31738146\n",
      "{'SBL': 45669, 'SR': 13991, 'SBH': 49858}\n",
      "{'SBL': 295149, 'SR': 93346, 'SBH': 337539}\n",
      "\n",
      "SB bounds: 12.646134514052932, 18.641951532724466\n",
      "SR bounds: 14.976873144731108, 15.740844194185188\n"
     ]
    },
    {
     "name": "stderr",
     "output_type": "stream",
     "text": [
      "/global/u1/r/rmastand/dimuonAD/helpers/data_transforms.py:8: RuntimeWarning: invalid value encountered in log\n",
      "  logit = np.log(x_norm/(1-x_norm+1e-10)+1e-10)\n"
     ]
    },
    {
     "name": "stdout",
     "output_type": "stream",
     "text": [
      "Total events opp sign: 156415201\n",
      "Total events same sign: 32473400\n",
      "{'SBL': 46032, 'SR': 14160, 'SBH': 50189}\n",
      "{'SBL': 299306, 'SR': 94298, 'SBH': 341650}\n",
      "\n",
      "SB bounds: 12.900321817785395, 19.016654758532226\n",
      "SR bounds: 15.277908294940204, 16.05723516248831\n"
     ]
    },
    {
     "name": "stderr",
     "output_type": "stream",
     "text": [
      "/global/u1/r/rmastand/dimuonAD/helpers/data_transforms.py:8: RuntimeWarning: invalid value encountered in log\n",
      "  logit = np.log(x_norm/(1-x_norm+1e-10)+1e-10)\n"
     ]
    },
    {
     "name": "stdout",
     "output_type": "stream",
     "text": [
      "Total events opp sign: 157528225\n",
      "Total events same sign: 33217236\n",
      "{'SBL': 46421, 'SR': 14287, 'SBH': 50593}\n",
      "{'SBL': 303245, 'SR': 95552, 'SBH': 345039}\n"
     ]
    },
    {
     "name": "stderr",
     "output_type": "stream",
     "text": [
      "/global/u1/r/rmastand/dimuonAD/helpers/data_transforms.py:8: RuntimeWarning: invalid value encountered in log\n",
      "  logit = np.log(x_norm/(1-x_norm+1e-10)+1e-10)\n"
     ]
    },
    {
     "name": "stdout",
     "output_type": "stream",
     "text": [
      "\n",
      "SB bounds: 13.15961828632288, 19.398889519178724\n",
      "SR bounds: 15.584994251668503, 16.379985589254325\n",
      "Total events opp sign: 158650078\n",
      "Total events same sign: 33970277\n",
      "{'SBL': 46837, 'SR': 14364, 'SBH': 50983}\n",
      "{'SBL': 307152, 'SR': 96875, 'SBH': 349014}\n",
      "\n",
      "SB bounds: 13.42412661387797, 19.788807198514217\n",
      "SR bounds: 15.89825263612704, 16.709223299598335\n"
     ]
    },
    {
     "name": "stderr",
     "output_type": "stream",
     "text": [
      "/global/u1/r/rmastand/dimuonAD/helpers/data_transforms.py:8: RuntimeWarning: invalid value encountered in log\n",
      "  logit = np.log(x_norm/(1-x_norm+1e-10)+1e-10)\n"
     ]
    },
    {
     "name": "stdout",
     "output_type": "stream",
     "text": [
      "Total events opp sign: 159780851\n",
      "Total events same sign: 34731844\n"
     ]
    },
    {
     "name": "stderr",
     "output_type": "stream",
     "text": [
      "/global/u1/r/rmastand/dimuonAD/helpers/data_transforms.py:8: RuntimeWarning: invalid value encountered in log\n",
      "  logit = np.log(x_norm/(1-x_norm+1e-10)+1e-10)\n"
     ]
    },
    {
     "name": "stdout",
     "output_type": "stream",
     "text": [
      "{'SBL': 47235, 'SR': 14440, 'SBH': 51401}\n",
      "{'SBL': 310869, 'SR': 98001, 'SBH': 352697}\n",
      "\n",
      "SB bounds: 13.693951558816917, 20.186562223204355\n",
      "SR bounds: 16.217807514113193, 17.045078687920263\n",
      "Total events opp sign: 160919687\n",
      "Total events same sign: 35502316\n",
      "{'SBL': 47614, 'SR': 14610, 'SBH': 51658}\n",
      "{'SBL': 315166, 'SR': 98400, 'SBH': 356906}\n",
      "\n"
     ]
    },
    {
     "name": "stderr",
     "output_type": "stream",
     "text": [
      "/global/u1/r/rmastand/dimuonAD/helpers/data_transforms.py:8: RuntimeWarning: invalid value encountered in log\n",
      "  logit = np.log(x_norm/(1-x_norm+1e-10)+1e-10)\n"
     ]
    }
   ],
   "source": [
    "from sklearn.preprocessing import StandardScaler\n",
    "\n",
    "\n",
    "bands = [\"SBL\", \"SR\", \"SBH\"]\n",
    "N_total_events = 0\n",
    "N_total_events_samesign = 0\n",
    "\n",
    "for i in range(num_windows):\n",
    "    \n",
    "    # define SR, SB\n",
    "\n",
    "    loc_SR_left, loc_SR_right = min(bin_definitions[i][\"SR\"]), max(bin_definitions[i][\"SR\"])\n",
    "    loc_SB_left, loc_SB_right = min(bin_definitions[i][\"SBL\"]), max(bin_definitions[i][\"SBH\"])\n",
    "\n",
    "    \n",
    "    print(f\"SB bounds: {loc_SB_left}, {loc_SB_right}\")\n",
    "    print(f\"SR bounds: {loc_SR_left}, {loc_SR_right}\")\n",
    "\n",
    "    band_bounds = {\"SBL\": [loc_SB_left, loc_SR_left],\n",
    "                       \"SR\": [loc_SR_left, loc_SR_right],\n",
    "                       \"SBH\": [loc_SR_right, loc_SB_right],\n",
    "                               }\n",
    "    \n",
    "    # split data into bands\n",
    "    preproc_dicts, preproc_dicts_samesign = {b:{} for b in bands}, {b:{} for b in bands}\n",
    "\n",
    "    for code in codes_list:\n",
    "        for b in bands:\n",
    "\n",
    "            # opp sign\n",
    "            loc_pass_indices = (cut_data[code][\"dimu_mass\"] >= band_bounds[b][0]) & (cut_data[code][\"dimu_mass\"] < band_bounds[b][1])\n",
    "            preproc_dicts[b][code] = {}\n",
    "            for feat in feature_set:\n",
    "                preproc_dicts[b][code][feat] = cut_data[code][feat][loc_pass_indices]\n",
    "            N_total_events += preproc_dicts[b][code][feat].shape[0]\n",
    "\n",
    "            # same sign\n",
    "            loc_pass_indices_samesign = (cut_data_samesign[code][\"dimu_mass\"] >= band_bounds[b][0]) & (cut_data_samesign[code][\"dimu_mass\"] < band_bounds[b][1])\n",
    "            preproc_dicts_samesign[b][code] = {}\n",
    "            for feat in feature_set:\n",
    "                preproc_dicts_samesign[b][code][feat] = cut_data_samesign[code][feat][loc_pass_indices_samesign]\n",
    "            N_total_events_samesign += preproc_dicts_samesign[b][code][feat].shape[0]\n",
    "\n",
    "    print(f\"Total events opp sign: {N_total_events}\")\n",
    "    print(f\"Total events same sign: {N_total_events_samesign}\")\n",
    "    \n",
    "    \n",
    "    # transformed / preprocess data\n",
    "    \n",
    "    sizes_dict, sizes_dict_samesign = {}, {}\n",
    "\n",
    "    proccessed_data_dict, proccessed_data_dict_samesign  = {b:{\"s_inj_data\":{}} for b in bands}, {b:{\"s_inj_data\":{}} for b in bands}\n",
    "    \n",
    "    frac_events_save = 0.1\n",
    "\n",
    "    for feat in feature_set: \n",
    "\n",
    "        # train the preprocessor on the opp sign data only\n",
    "        data_SB = np.hstack((preproc_dicts[\"SBL\"][sim_id][feat], preproc_dicts[\"SBH\"][sim_id][feat])).reshape(-1, 1)\n",
    "\n",
    "        if feat == \"dimu_mass\": # don't logit transform\n",
    "            mass_scaler = StandardScaler()\n",
    "            mass_scaler = mass_scaler.fit(data_SB)\n",
    "\n",
    "            with open(f\"{working_dir}/projects/{scaler_id}/processed_data/mass_scaler_{i}\", \"wb\") as ofile:\n",
    "                pickle.dump(mass_scaler, ofile)\n",
    "                \n",
    "            \n",
    "\n",
    "            for b in bands:\n",
    "                num_events_save_band = int(len(preproc_dicts[b][sim_id][feat])*frac_events_save)\n",
    "                \n",
    "                proccessed_data_dict[b][\"s_inj_data\"][feat] = mass_scaler.transform(preproc_dicts[b][sim_id][feat][:num_events_save_band].reshape(-1,1))\n",
    "                proccessed_data_dict_samesign[b][\"s_inj_data\"][feat] =  mass_scaler.transform(preproc_dicts_samesign[b][sim_id][feat].reshape(-1,1))\n",
    "                sizes_dict[b] = proccessed_data_dict[b][\"s_inj_data\"][feat].shape[0]\n",
    "                sizes_dict_samesign[b] = proccessed_data_dict_samesign[b][\"s_inj_data\"][feat].shape[0]\n",
    "\n",
    "        else: \n",
    "            data_all = np.hstack((preproc_dicts[\"SBL\"][sim_id][feat], preproc_dicts[\"SBH\"][sim_id][feat], preproc_dicts[\"SR\"][sim_id][feat])).reshape(-1, 1)\n",
    "            all_min = np.min(data_all)\n",
    "            all_max = np.max(data_all)\n",
    "            # logit transform the features\n",
    "            transformed_feats = logit_transform(data_SB, all_min, all_max)\n",
    "            # subtract off mean, std of the training set\n",
    "            mean_to_sub = np.mean(transformed_feats)\n",
    "            std_to_sub = np.std(transformed_feats)\n",
    "            \n",
    "            \n",
    "\n",
    "            for b in bands:\n",
    "                num_events_save_band = int(len(preproc_dicts[b][sim_id][feat])*frac_events_save)\n",
    "                proccessed_data_dict[b][\"s_inj_data\"][feat] = (logit_transform(preproc_dicts[b][sim_id][feat][:num_events_save_band], all_min, all_max) - mean_to_sub)/std_to_sub\n",
    "                proccessed_data_dict_samesign[b][\"s_inj_data\"][feat] = (logit_transform(preproc_dicts_samesign[b][sim_id][feat], all_min, all_max) - mean_to_sub)/std_to_sub\n",
    "\n",
    "    print(sizes_dict)\n",
    "    print(sizes_dict_samesign)\n",
    "\n",
    "    \n",
    "    with open(f\"{working_dir}/projects/{scaler_id}/processed_data/{project_id}_{i}_nojet_test_band_data\", \"wb\") as ofile:\n",
    "        pickle.dump(proccessed_data_dict, ofile)\n",
    "    \"\"\"\n",
    "    \n",
    "    with open(f\"{working_dir}/projects/{scaler_id}/processed_data/{project_id}_{i}_samesign_nojet_test_band_data\", \"wb\") as ofile:\n",
    "        pickle.dump(proccessed_data_dict_samesign, ofile)\n",
    "    \"\"\"\n",
    "\n",
    "    print()\n"
   ]
  },
  {
   "cell_type": "code",
   "execution_count": null,
   "id": "590d0e9d-6eff-4b17-9488-4c3e1cc9905a",
   "metadata": {
    "tags": []
   },
   "outputs": [],
   "source": []
  },
  {
   "cell_type": "markdown",
   "id": "3e4b33b8-25c4-4af5-8ec3-b3c150249789",
   "metadata": {},
   "source": [
    "## Preprocessing\n",
    "\n",
    "Standard scaling is fine"
   ]
  },
  {
   "cell_type": "code",
   "execution_count": 9,
   "id": "7080a019-aa16-40b9-801b-5a87663ffe34",
   "metadata": {
    "tags": []
   },
   "outputs": [
    {
     "data": {
      "image/png": "[encoded data removed]",
      "text/plain": [
       "<Figure size 360x216 with 1 Axes>"
      ]
     },
     "metadata": {
      "needs_background": "light"
     },
     "output_type": "display_data"
    },
    {
     "data": {
      "image/png": "[encoded data removed]",
      "text/plain": [
       "<Figure size 360x216 with 1 Axes>"
      ]
     },
     "metadata": {
      "needs_background": "light"
     },
     "output_type": "display_data"
    },
    {
     "data": {
      "image/png": "[encoded data removed]",
      "text/plain": [
       "<Figure size 360x216 with 1 Axes>"
      ]
     },
     "metadata": {
      "needs_background": "light"
     },
     "output_type": "display_data"
    },
    {
     "data": {
      "image/png": "[encoded data removed]",
      "text/plain": [
       "<Figure size 360x216 with 1 Axes>"
      ]
     },
     "metadata": {
      "needs_background": "light"
     },
     "output_type": "display_data"
    },
    {
     "data": {
      "image/png": "[encoded data removed]",
      "text/plain": [
       "<Figure size 360x216 with 1 Axes>"
      ]
     },
     "metadata": {
      "needs_background": "light"
     },
     "output_type": "display_data"
    },
    {
     "data": {
      "image/png": "[encoded data removed]",
      "text/plain": [
       "<Figure size 360x216 with 1 Axes>"
      ]
     },
     "metadata": {
      "needs_background": "light"
     },
     "output_type": "display_data"
    },
    {
     "data": {
      "image/png": "[encoded data removed]",
      "text/plain": [
       "<Figure size 360x216 with 1 Axes>"
      ]
     },
     "metadata": {
      "needs_background": "light"
     },
     "output_type": "display_data"
    },
    {
     "data": {
      "image/png": "[encoded data removed]",
      "text/plain": [
       "<Figure size 360x216 with 1 Axes>"
      ]
     },
     "metadata": {
      "needs_background": "light"
     },
     "output_type": "display_data"
    },
    {
     "data": {
      "image/png": "[encoded data removed]",
      "text/plain": [
       "<Figure size 360x216 with 1 Axes>"
      ]
     },
     "metadata": {
      "needs_background": "light"
     },
     "output_type": "display_data"
    },
    {
     "data": {
      "image/png": "[encoded data removed]",
      "text/plain": [
       "<Figure size 360x216 with 1 Axes>"
      ]
     },
     "metadata": {
      "needs_background": "light"
     },
     "output_type": "display_data"
    },
    {
     "data": {
      "image/png": "[encoded data removed]",
      "text/plain": [
       "<Figure size 360x216 with 1 Axes>"
      ]
     },
     "metadata": {
      "needs_background": "light"
     },
     "output_type": "display_data"
    },
    {
     "data": {
      "image/png": "[encoded data removed]",
      "text/plain": [
       "<Figure size 360x216 with 1 Axes>"
      ]
     },
     "metadata": {
      "needs_background": "light"
     },
     "output_type": "display_data"
    },
    {
     "data": {
      "image/png": "[encoded data removed]",
      "text/plain": [
       "<Figure size 360x216 with 1 Axes>"
      ]
     },
     "metadata": {
      "needs_background": "light"
     },
     "output_type": "display_data"
    },
    {
     "data": {
      "image/png": "[encoded data removed]",
      "text/plain": [
       "<Figure size 360x216 with 1 Axes>"
      ]
     },
     "metadata": {
      "needs_background": "light"
     },
     "output_type": "display_data"
    },
    {
     "data": {
      "image/png": "[encoded data removed]",
      "text/plain": [
       "<Figure size 360x216 with 1 Axes>"
      ]
     },
     "metadata": {
      "needs_background": "light"
     },
     "output_type": "display_data"
    },
    {
     "data": {
      "image/png": "[encoded data removed]",
      "text/plain": [
       "<Figure size 360x216 with 1 Axes>"
      ]
     },
     "metadata": {
      "needs_background": "light"
     },
     "output_type": "display_data"
    },
    {
     "data": {
      "image/png": "[encoded data removed]",
      "text/plain": [
       "<Figure size 360x216 with 1 Axes>"
      ]
     },
     "metadata": {
      "needs_background": "light"
     },
     "output_type": "display_data"
    },
    {
     "data": {
      "image/png": "[encoded data removed]",
      "text/plain": [
       "<Figure size 360x216 with 1 Axes>"
      ]
     },
     "metadata": {
      "needs_background": "light"
     },
     "output_type": "display_data"
    },
    {
     "data": {
      "image/png": "[encoded data removed]",
      "text/plain": [
       "<Figure size 360x216 with 1 Axes>"
      ]
     },
     "metadata": {
      "needs_background": "light"
     },
     "output_type": "display_data"
    },
    {
     "data": {
      "image/png": "[encoded data removed]",
      "text/plain": [
       "<Figure size 360x216 with 1 Axes>"
      ]
     },
     "metadata": {
      "needs_background": "light"
     },
     "output_type": "display_data"
    },
    {
     "data": {
      "image/png": "[encoded data removed]",
      "text/plain": [
       "<Figure size 360x216 with 1 Axes>"
      ]
     },
     "metadata": {
      "needs_background": "light"
     },
     "output_type": "display_data"
    },
    {
     "data": {
      "image/png": "[encoded data removed]",
      "text/plain": [
       "<Figure size 360x216 with 1 Axes>"
      ]
     },
     "metadata": {
      "needs_background": "light"
     },
     "output_type": "display_data"
    },
    {
     "data": {
      "image/png": "[encoded data removed]",
      "text/plain": [
       "<Figure size 360x216 with 1 Axes>"
      ]
     },
     "metadata": {
      "needs_background": "light"
     },
     "output_type": "display_data"
    },
    {
     "data": {
      "image/png": "[encoded data removed]",
      "text/plain": [
       "<Figure size 360x216 with 1 Axes>"
      ]
     },
     "metadata": {
      "needs_background": "light"
     },
     "output_type": "display_data"
    },
    {
     "data": {
      "image/png": "[encoded data removed]",
      "text/plain": [
       "<Figure size 360x216 with 1 Axes>"
      ]
     },
     "metadata": {
      "needs_background": "light"
     },
     "output_type": "display_data"
    },
    {
     "data": {
      "image/png": "[encoded data removed]",
      "text/plain": [
       "<Figure size 360x216 with 1 Axes>"
      ]
     },
     "metadata": {
      "needs_background": "light"
     },
     "output_type": "display_data"
    },
    {
     "data": {
      "image/png": "[encoded data removed]",
      "text/plain": [
       "<Figure size 360x216 with 1 Axes>"
      ]
     },
     "metadata": {
      "needs_background": "light"
     },
     "output_type": "display_data"
    },
    {
     "data": {
      "image/png": "[encoded data removed]",
      "text/plain": [
       "<Figure size 360x216 with 1 Axes>"
      ]
     },
     "metadata": {
      "needs_background": "light"
     },
     "output_type": "display_data"
    },
    {
     "data": {
      "image/png": "[encoded data removed]",
      "text/plain": [
       "<Figure size 360x216 with 1 Axes>"
      ]
     },
     "metadata": {
      "needs_background": "light"
     },
     "output_type": "display_data"
    },
    {
     "data": {
      "image/png": "[encoded data removed]",
      "text/plain": [
       "<Figure size 360x216 with 1 Axes>"
      ]
     },
     "metadata": {
      "needs_background": "light"
     },
     "output_type": "display_data"
    },
    {
     "data": {
      "image/png": "[encoded data removed]",
      "text/plain": [
       "<Figure size 360x216 with 1 Axes>"
      ]
     },
     "metadata": {
      "needs_background": "light"
     },
     "output_type": "display_data"
    },
    {
     "data": {
      "image/png": "[encoded data removed]",
      "text/plain": [
       "<Figure size 360x216 with 1 Axes>"
      ]
     },
     "metadata": {
      "needs_background": "light"
     },
     "output_type": "display_data"
    },
    {
     "data": {
      "image/png": "[encoded data removed]",
      "text/plain": [
       "<Figure size 360x216 with 1 Axes>"
      ]
     },
     "metadata": {
      "needs_background": "light"
     },
     "output_type": "display_data"
    },
    {
     "data": {
      "image/png": "[encoded data removed]",
      "text/plain": [
       "<Figure size 360x216 with 1 Axes>"
      ]
     },
     "metadata": {
      "needs_background": "light"
     },
     "output_type": "display_data"
    },
    {
     "data": {
      "image/png": "[encoded data removed]",
      "text/plain": [
       "<Figure size 360x216 with 1 Axes>"
      ]
     },
     "metadata": {
      "needs_background": "light"
     },
     "output_type": "display_data"
    },
    {
     "data": {
      "image/png": "[encoded data removed]",
      "text/plain": [
       "<Figure size 360x216 with 1 Axes>"
      ]
     },
     "metadata": {
      "needs_background": "light"
     },
     "output_type": "display_data"
    },
    {
     "data": {
      "image/png": "[encoded data removed]",
      "text/plain": [
       "<Figure size 360x216 with 1 Axes>"
      ]
     },
     "metadata": {
      "needs_background": "light"
     },
     "output_type": "display_data"
    },
    {
     "data": {
      "image/png": "[encoded data removed]",
      "text/plain": [
       "<Figure size 360x216 with 1 Axes>"
      ]
     },
     "metadata": {
      "needs_background": "light"
     },
     "output_type": "display_data"
    },
    {
     "data": {
      "image/png": "[encoded data removed]",
      "text/plain": [
       "<Figure size 360x216 with 1 Axes>"
      ]
     },
     "metadata": {
      "needs_background": "light"
     },
     "output_type": "display_data"
    },
    {
     "data": {
      "image/png": "[encoded data removed]",
      "text/plain": [
       "<Figure size 360x216 with 1 Axes>"
      ]
     },
     "metadata": {
      "needs_background": "light"
     },
     "output_type": "display_data"
    }
   ],
   "source": [
    "hist_all_features_dict([proccessed_data_dict[\"SBL\"][\"s_inj_data\"], proccessed_data_dict[\"SBH\"][\"s_inj_data\"], proccessed_data_dict[\"SR\"][\"s_inj_data\"]], \n",
    "                       [\"SBL\", \"SBH\", \"SR\"], feature_set, kwargs_dict_bands, scaled_features=True, plot_bound=5, image_path=None, yscale_log=False, nice_labels=True)\n",
    "\n",
    "\n",
    "hist_all_features_dict([proccessed_data_dict_samesign[\"SBL\"][\"s_inj_data\"], proccessed_data_dict_samesign[\"SBH\"][\"s_inj_data\"], proccessed_data_dict_samesign[\"SR\"][\"s_inj_data\"]], \n",
    "                       [\"SBL\", \"SBH\", \"SR\"], feature_set, kwargs_dict_bands, scaled_features=True, plot_bound=10, image_path=None, yscale_log=False, nice_labels=True)\n",
    "\n",
    "\n",
    "\n"
   ]
  },
  {
   "cell_type": "code",
   "execution_count": null,
   "id": "9dff8207-506b-4d1e-a707-d394ef6f7e37",
   "metadata": {
    "tags": []
   },
   "outputs": [],
   "source": []
  },
  {
   "cell_type": "markdown",
   "id": "5db6e425-bc48-4faf-ac73-3bacce0717ad",
   "metadata": {},
   "source": [
    "Create a batch script for flow training\n"
   ]
  },
  {
   "cell_type": "code",
   "execution_count": 15,
   "id": "6542b296-826b-446e-ad19-31c557d76630",
   "metadata": {},
   "outputs": [],
   "source": [
    "feature_sets = workflow[\"feature_sets\"]\n",
    "\n",
    "if run_jet: jet_id = \"jet\"\n",
    "else:jet_id = \"nojet\"\n",
    "\n",
    "num_windows = len(bin_definitions.keys())\n",
    "    \n",
    "    \n",
    "    \n",
    "batches_to_run = [\"single_3\"]\n",
    "\n",
    "with open(\"batch_lowmass_scan_05.sh\", \"w\") as ofile:\n",
    "    \n",
    "    ofile.write(\"#!/bin/sh \\n\\n\")\n",
    "    ofile.write(\"#SBATCH -N 1\\n\")\n",
    "    ofile.write(\"#SBATCH -C gpu\\n\")\n",
    "    ofile.write(\"#SBATCH -G 1\\n\")\n",
    "    ofile.write(\"#SBATCH -q regular\\n\")\n",
    "    ofile.write(\"#SBATCH --job-name=lowmass_scan\\n\")\n",
    "    ofile.write(\"#SBATCH --mail-user=rmastand@berkeley.edu\\n\")\n",
    "    ofile.write(\"#SBATCH --mail-type=ALL\\n\")\n",
    "    ofile.write(\"#SBATCH -t 3:00:00\\n\")\n",
    "    ofile.write(\"#SBATCH -A m3246\\n\")\n",
    "    ofile.write(f\"#SBATCH --array=0-{2*num_windows-1}\\n\\n\")\n",
    "    ofile.write(f\"declare -a commands=(\\n\")\n",
    "\n",
    "    i = 0\n",
    "\n",
    "    for fs in batches_to_run:\n",
    "        for window_index in range(num_windows): \n",
    "\n",
    "            loc_command = '[{i}]=\"python 05_trueCATHODE.py -fid {feature_set} -f {feature_list},dimu_mass -pid lowmass_{window_index}_{jet_id} -c CATHODE_8 -seed 1 -did lowmass_scan\"'.format(feature_set=fs,feature_list = \",\".join(feature_sets[fs]), window_index = window_index, i = i, jet_id = jet_id )\n",
    "            loc_command = 'python 05_trueCATHODE.py -fid {feature_set} -f {feature_list},dimu_mass -pid lowmass_{window_index}_{jet_id} -c CATHODE_8 -seed 1 -did lowmass_scan'.format(feature_set=fs,feature_list = \",\".join(feature_sets[fs]), window_index = window_index, i = i, jet_id = jet_id )\n",
    "\n",
    "            ofile.write(loc_command)\n",
    "            ofile.write(\"\\n\")\n",
    "            loc_command = '[{i}]=\"python 05_trueCATHODE.py -fid {feature_set} -f {feature_list},dimu_mass -pid lowmass_{window_index}_samesign_{jet_id} -c CATHODE_8 -seed 1 -did lowmass_scan\"'.format(feature_set=fs,feature_list = \",\".join(feature_sets[fs]), window_index = window_index, i = 2*i+1, jet_id = jet_id )\n",
    "            #ofile.write(loc_command)\n",
    "            #ofile.write(\"\\n\")\n",
    "            i += 1\n",
    "\n",
    "    ofile.write(f\")\\n\")\n",
    "    ofile.write(f\"srun ${{commands[$SLURM_ARRAY_TASK_ID]}}\")\n",
    "\n"
   ]
  },
  {
   "cell_type": "code",
   "execution_count": 11,
   "id": "c06cbe07-44f5-4a5d-99df-d67d27b0d3fb",
   "metadata": {},
   "outputs": [],
   "source": [
    "with open(\"batch_lowmass_scan_06.sh\", \"w\") as ofile:\n",
    "\n",
    "    for fs in batches_to_run:\n",
    "        for window_index in range(num_windows): \n",
    "\n",
    "            loc_command = f'python 06_eval_CATHODE.py -f {fs} -p {window_index} -did lowmass_scan'\n",
    "            if run_jet:\n",
    "                loc_command += \" -run_jet\"\n",
    "            ofile.write(loc_command+\"\\n\")\n",
    "            loc_command = f'python 06_eval_CATHODE.py -f {fs} -p {window_index}_samesign -did lowmass_scan'\n",
    "            if run_jet:\n",
    "                loc_command += \" -run_jet\"\n",
    "            ofile.write(loc_command+\"\\n\")"
   ]
  },
  {
   "cell_type": "code",
   "execution_count": null,
   "id": "7800495d-0f11-4907-9b50-518c6f8f754d",
   "metadata": {},
   "outputs": [],
   "source": []
  },
  {
   "cell_type": "code",
   "execution_count": 12,
   "id": "4c5551d7-64a4-424d-a238-47d4989c7db2",
   "metadata": {},
   "outputs": [],
   "source": [
    "n_ensemble = 20\n",
    "n_bootstrap = 1\n",
    "\n",
    "with open(\"batch_lowmass_scan_07.sh\", \"w\") as ofile:\n",
    "    \n",
    "\n",
    "    for fs in batches_to_run:\n",
    "        for window_index in range(num_windows): \n",
    "\n",
    "            loc_command = f'python 07_bump_hunt_boostrap.py -f {fs} -p {window_index} -ne {n_ensemble} -nb {n_bootstrap} -did lowmass_scan'\n",
    "            if run_jet:\n",
    "                loc_command += \" -run_jet\"\n",
    "            ofile.write(loc_command+\"\\n\")\n",
    "            loc_command = f'python 07_bump_hunt_boostrap.py -f {fs} -p {window_index} -train_samesign -ne {n_ensemble} -nb {n_bootstrap} -did lowmass_scan'\n",
    "            if run_jet:\n",
    "                loc_command += \" -run_jet\"\n",
    "            #ofile.write(loc_command+\"\\n\")\n",
    "            \n",
    "\n",
    "    ofile.write(f\"\\n\")\n",
    "\n"
   ]
  },
  {
   "cell_type": "code",
   "execution_count": null,
   "id": "e7b1899b-7586-485e-8f3f-953c0116ac19",
   "metadata": {},
   "outputs": [],
   "source": []
  },
  {
   "cell_type": "code",
   "execution_count": null,
   "id": "d3ce6e7a-b502-4e2f-9df5-e181c9247e71",
   "metadata": {},
   "outputs": [],
   "source": []
  },
  {
   "cell_type": "code",
   "execution_count": null,
   "id": "df17ba0a-1f8f-45e9-986e-497ff7cf6bfb",
   "metadata": {},
   "outputs": [],
   "source": []
  },
  {
   "cell_type": "code",
   "execution_count": null,
   "id": "9c0066ba-a39d-4ae2-a0f7-142c749544f8",
   "metadata": {},
   "outputs": [],
   "source": []
  },
  {
   "cell_type": "code",
   "execution_count": null,
   "id": "cd90c5b3-64c1-4fc4-a957-686cbfdcaa95",
   "metadata": {},
   "outputs": [],
   "source": []
  },
  {
   "cell_type": "code",
   "execution_count": null,
   "id": "fc55128e-cc9f-496a-8f98-1a0995af3311",
   "metadata": {},
   "outputs": [],
   "source": []
  }
 ],
 "metadata": {
  "kernelspec": {
   "display_name": "Python 3 (ipykernel)",
   "language": "python",
   "name": "python3"
  },
  "language_info": {
   "codemirror_mode": {
    "name": "ipython",
    "version": 3
   },
   "file_extension": ".py",
   "mimetype": "text/x-python",
   "name": "python",
   "nbconvert_exporter": "python",
   "pygments_lexer": "ipython3",
   "version": "3.8.5"
  }
 },
 "nbformat": 4,
 "nbformat_minor": 5
}

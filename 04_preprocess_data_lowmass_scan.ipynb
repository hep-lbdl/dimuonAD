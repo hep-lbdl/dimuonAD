{
 "cells": [
  {
   "cell_type": "markdown",
   "id": "c3ee99a7-0a63-4058-bdee-369d6c2f0122",
   "metadata": {},
   "source": [
    "# Data processing for bump hunt"
   ]
  },
  {
   "cell_type": "markdown",
   "id": "2411f5a9-06b8-42c2-9f2c-0d6c3acd17af",
   "metadata": {},
   "source": [
    "Main differences for bump hunt:\n",
    "- No fully supervised set\n",
    "- test set covers the whole SR / SB range\n",
    "\n"
   ]
  },
  {
   "cell_type": "code",
   "execution_count": 1,
   "id": "26433067-97c1-4a2c-9b62-5cb6b7cf674c",
   "metadata": {
    "tags": []
   },
   "outputs": [],
   "source": [
    "import numpy as np\n",
    "import matplotlib.pyplot as plt\n",
    "import pickle\n",
    "\n",
    "from helpers.plotting import *\n",
    "from helpers.physics_functions import *\n",
    "from helpers.data_transforms import *\n",
    "\n",
    "plt.style.use(\"../science.mplstyle\")\n"
   ]
  },
  {
   "cell_type": "code",
   "execution_count": 2,
   "id": "2eb1506e-478c-4ca6-88be-bea7cdc06935",
   "metadata": {
    "tags": []
   },
   "outputs": [],
   "source": [
    "import yaml\n",
    "with open(\"workflow.yaml\", \"r\") as file:\n",
    "    workflow = yaml.safe_load(file)"
   ]
  },
  {
   "cell_type": "code",
   "execution_count": 3,
   "id": "e679a068-79e8-4bd2-adc2-1010dac2f6ca",
   "metadata": {
    "tags": []
   },
   "outputs": [
    {
     "name": "stdout",
     "output_type": "stream",
     "text": [
      "DATA_nojet opp sign (21803678,)\n",
      "DATA_nojet same sign (6756613,)\n"
     ]
    }
   ],
   "source": [
    "project_id = \"lowmass\"\n",
    "scaler_id = \"lowmass_scan\"\n",
    "\n",
    "working_dir = \"/global/cfs/cdirs/m3246/rmastand/dimuonAD\"\n",
    "path_to_compiled_data = f\"{working_dir}/compiled_data/{project_id}\"\n",
    "    \n",
    "    \n",
    "run_jet = False\n",
    "if run_jet:\n",
    "    codes_list = [\"DATA_jet\"]\n",
    "    sim_id = \"DATA_jet\" # should probably rename this to data_id\n",
    "else:\n",
    "    codes_list = [\"DATA_nojet\"]\n",
    "    sim_id = \"DATA_nojet\" # should probably rename this to data_id\n",
    "signal_id = \"\"\n",
    "\n",
    "    \n",
    "uncut_data, uncut_data_samesign = {code:{} for code in codes_list},  {code:{} for code in codes_list}\n",
    "\n",
    "for code in codes_list:\n",
    "    with open(f\"{path_to_compiled_data}/{code}\", \"rb\") as ifile:\n",
    "        tmp_dict = pickle.load(ifile)\n",
    "        for key in tmp_dict.keys():\n",
    "            if \"samesign\" in key:\n",
    "                uncut_data_samesign[code][key[:-9]] = tmp_dict[key]\n",
    "            else:\n",
    "                uncut_data[code][key] = tmp_dict[key]\n",
    "        \n",
    "    \n",
    "    print(code, \"opp sign\",  uncut_data[code][list(uncut_data[code].keys())[0]].shape)\n",
    "    print(code, \"same sign\", uncut_data_samesign[code][list(uncut_data[code].keys())[0]].shape)"
   ]
  },
  {
   "cell_type": "markdown",
   "id": "e2c982c8-50b6-4235-880e-5904bf934f33",
   "metadata": {},
   "source": [
    "## Visualize the data"
   ]
  },
  {
   "cell_type": "code",
   "execution_count": 4,
   "id": "357e179e-049f-4449-82c0-4539af8f714b",
   "metadata": {
    "tags": []
   },
   "outputs": [
    {
     "name": "stdout",
     "output_type": "stream",
     "text": [
      "['mu0_ip3d', 'mu1_ip3d', 'mu0_jetiso', 'mu1_jetiso', 'mu0_eta', 'mu1_eta', 'mu0_pt', 'mu1_pt', 'mu0_phi', 'mu1_phi', 'mu0_iso04', 'mu1_iso04', 'dimu_pt', 'dimu_eta', 'dimu_phi', 'n_muons', 'n_jets', 'dimu_mass', 'mumu_deltaR', 'mumu_deltapT']\n"
     ]
    }
   ],
   "source": [
    "feature_set = list(uncut_data[codes_list[0]].keys())\n",
    "print(feature_set)\n",
    "\n",
    "#hist_all_features_dict([uncut_data[codes_list[0]]], codes_list, feature_set, kwargs_dict_dtype, nice_labels=True)\n",
    "    \n"
   ]
  },
  {
   "cell_type": "markdown",
   "id": "7601bfc0-a52a-418a-9e46-93d646d7024c",
   "metadata": {},
   "source": [
    "## Make cuts\n",
    "\n",
    "Now let's define cuts on the data. \n",
    "\n",
    "Muon cuts were made previously (and we don't want to make cuts on the dimuon system, either)\n",
    "\n",
    "Random seed is used to set aside a portion of the test set"
   ]
  },
  {
   "cell_type": "code",
   "execution_count": 10,
   "id": "d395893c-375c-4ff9-8fba-8a84974cc7c3",
   "metadata": {
    "tags": []
   },
   "outputs": [
    {
     "data": {
      "image/png": "[encoded data removed]",
      "text/plain": [
       "<Figure size 432x288 with 1 Axes>"
      ]
     },
     "metadata": {
      "needs_background": "light"
     },
     "output_type": "display_data"
    }
   ],
   "source": [
    "# define SB / SR choices\n",
    "\n",
    "detector_resolution = 0.01\n",
    "start_mass = 0.3\n",
    "\n",
    "current_mass = start_mass\n",
    "all_bins = [start_mass]\n",
    "\n",
    "\n",
    "while current_mass < 20:\n",
    "    loc_bin_width = current_mass*detector_resolution\n",
    "    current_mass += loc_bin_width\n",
    "    all_bins.append(current_mass)\n",
    "    \n",
    "\n",
    "num_bins_total = len(all_bins)\n",
    "\n",
    "SB_num_bins = 17\n",
    "SR_num_bins = 5\n",
    "window_gap = 2\n",
    "window_length = 2*SB_num_bins + SR_num_bins\n",
    "\n",
    "\n",
    "\n",
    "bin_edge_definitions = {bin_i:{\"SBL\":[],\"SR\":[], \"SBH\":[]} for bin_i in range(num_bins_total)}\n",
    "    \n",
    "plt.figure()\n",
    "\n",
    "for i in range(0, num_bins_total, window_gap):\n",
    "    if i + window_length < num_bins_total:\n",
    "        \n",
    "        bin_edge_definitions[i][\"SBL\"] = all_bins[i:i+SB_num_bins+1]\n",
    "        bin_edge_definitions[i][\"SR\"] = all_bins[i+SB_num_bins:i+SB_num_bins+SR_num_bins+1]\n",
    "        bin_edge_definitions[i][\"SBH\"] = all_bins[i+SB_num_bins+SR_num_bins:i+2*SB_num_bins+SR_num_bins+1]\n",
    "        \n",
    "        plt.plot(bin_edge_definitions[i][\"SBL\"], [i for x in bin_edge_definitions[i][\"SBL\"]], color = \"red\")\n",
    "        plt.plot(bin_edge_definitions[i][\"SR\"], [i for x in bin_edge_definitions[i][\"SR\"]], color = \"blue\")\n",
    "        plt.plot(bin_edge_definitions[i][\"SBH\"], [i for x in bin_edge_definitions[i][\"SBH\"]], color = \"red\")\n",
    "        \n",
    "\n",
    "plt.xlabel(\"$M$ [GeV]\")\n",
    "plt.yticks([])\n",
    "plt.show()\n",
    "    \n",
    "   \n",
    "with open(f\"{working_dir}/projects/{scaler_id}/processed_data/bin_edge_definitions\", \"wb\") as ofile:\n",
    "    pickle.dump(bin_definitions, ofile)\n",
    "\n"
   ]
  },
  {
   "cell_type": "code",
   "execution_count": null,
   "id": "6434c2f7-f1c1-46af-a084-452432fb9436",
   "metadata": {},
   "outputs": [],
   "source": [
    "cut_data, cut_data_samesign = {code:{} for code in codes_list},  {code:{} for code in codes_list}\n",
    "\n",
    "for code in codes_list:\n",
    "    \n",
    "    # define cuts to reduce the starting significance\n",
    "    pass_indices = (uncut_data[code][\"dimu_pt\"] >= -1)\n",
    "    pass_indices_samesign = (uncut_data_samesign[code][\"dimu_pt\"] >= -1)\n",
    "        \n",
    "    \n",
    "    # apply cuts to oppsign\n",
    "    for feat in feature_set:\n",
    "        cut_data[code][feat] = uncut_data[code][feat][pass_indices]\n",
    "    # apply cuts to samesign\n",
    "    for feat in feature_set:\n",
    "        cut_data_samesign[code][feat] = uncut_data_samesign[code][feat][pass_indices_samesign]\n",
    "    \n",
    "    print(f\"{code} oppsign has shape {cut_data[code][feat].shape} after cuts\")\n",
    "    print(f\"{code} samesign has shape {cut_data_samesign[code][feat].shape} after cuts\")\n",
    "    \n",
    "    \n",
    "#hist_all_features_dict([cut_data[\"DATA_nojet\"]], [\"DATA_nojet\"], feature_set, kwargs_dict_dtype, nice_labels=True)\n"
   ]
  },
  {
   "cell_type": "markdown",
   "id": "209a95ef-1362-4f8a-8250-54c1c7ebec62",
   "metadata": {},
   "source": [
    "Check how local cuts affect the starting significance"
   ]
  },
  {
   "cell_type": "code",
   "execution_count": null,
   "id": "82364f41-679c-4a03-9711-8fd23b47c246",
   "metadata": {
    "tags": []
   },
   "outputs": [],
   "source": [
    "index = 2\n",
    "\n",
    "loc_SB_left = bin_definitions[\"SB_left\"][index]\n",
    "loc_SB_right = bin_definitions[\"SB_right\"][index]\n",
    "loc_SR_left = bin_definitions[\"SR_left\"][index]\n",
    "loc_SR_right = bin_definitions[\"SR_right\"][index]\n",
    "\n",
    "plot_bins_all, plot_bins_SR, plot_bins_left, plot_bins_right, plot_centers_all, plot_centers_SR, plot_centers_SB = get_bins(loc_SR_left, loc_SR_right, loc_SB_left, loc_SB_right, num_bins_SR= 6)\n",
    "\n",
    "\n",
    "plt.figure(figsize = (7,5))\n",
    "\n",
    "x = np.linspace(loc_SB_left, loc_SB_right, 100) # plot curve fit\n",
    "\n",
    "masses_with_bounds = cut_data[code][\"dimu_mass\"][(cut_data[code][\"dimu_mass\"] >= loc_SB_left) & (cut_data[code][\"dimu_mass\"] <= loc_SB_right)]\n",
    "masses_with_bounds_samesign = cut_data_samesign[code][\"dimu_mass\"][(cut_data_samesign[code][\"dimu_mass\"] >= loc_SB_left) & (cut_data_samesign[code][\"dimu_mass\"] <= loc_SB_right)]\n",
    "\n",
    "\n",
    "plt.hist(masses_with_bounds, bins = plot_bins_all, lw = 2, histtype = \"step\", density = False, label = f\"OS\")\n",
    "plt.hist(masses_with_bounds_samesign, bins = plot_bins_all, lw = 2, histtype = \"step\", density = False, label = f\"SS\")\n",
    "\n",
    "\n",
    "plt.axvline(loc_SR_left)\n",
    "plt.axvline(loc_SR_right)\n",
    "\n",
    "plt.xlabel(\"Dimu M [GeV]\")\n",
    "plt.ylabel(\"Counts\")\n",
    "plt.legend(loc = (1, 0))\n",
    "\n",
    "#plt.yscale(\"log\")\n",
    "\n",
    "plt.show()\n",
    "\n",
    " \n",
    "    \n",
    "#hist_all_features(codes_list, cut_data, feature_set, kwargs_dict_dtype)\n"
   ]
  },
  {
   "cell_type": "markdown",
   "id": "089c12ec-2ba4-4dcc-933f-249167e278e1",
   "metadata": {},
   "source": [
    "Split data into bands"
   ]
  },
  {
   "cell_type": "code",
   "execution_count": null,
   "id": "076c8893-c905-4d2d-b712-c0e2105b3350",
   "metadata": {
    "tags": []
   },
   "outputs": [],
   "source": [
    "from sklearn.preprocessing import StandardScaler\n",
    "\n",
    "\n",
    "bands = [\"SBL\", \"SR\", \"SBH\"]\n",
    "N_total_events = 0\n",
    "N_total_events_samesign = 0\n",
    "\n",
    "for i in range(len(bin_definitions[\"SR_left\"])):\n",
    "    \n",
    "    # define SR, SB\n",
    "\n",
    "    loc_SB_left = bin_definitions[\"SB_left\"][i]\n",
    "    loc_SB_right = bin_definitions[\"SB_right\"][i]\n",
    "    loc_SR_left = bin_definitions[\"SR_left\"][i]\n",
    "    loc_SR_right = bin_definitions[\"SR_right\"][i]\n",
    "    \n",
    "    print(f\"SB bounds: {loc_SB_left}, {loc_SB_right}\")\n",
    "    print(f\"SR bounds: {loc_SR_left}, {loc_SR_right}\")\n",
    "\n",
    "    band_bounds = {\"SBL\": [loc_SB_left, loc_SR_left],\n",
    "                       \"SR\": [loc_SR_left, loc_SR_right],\n",
    "                       \"SBH\": [loc_SR_right, loc_SB_right],\n",
    "                               }\n",
    "    \n",
    "    # preprocess the data\n",
    "\n",
    "    preproc_dicts, preproc_dicts_samesign = {b:{} for b in bands}, {b:{} for b in bands}\n",
    "\n",
    "    for code in codes_list:\n",
    "        for b in bands:\n",
    "\n",
    "            # opp sign\n",
    "            loc_pass_indices = (cut_data[code][\"dimu_mass\"] >= band_bounds[b][0]) & (cut_data[code][\"dimu_mass\"] < band_bounds[b][1])\n",
    "            preproc_dicts[b][code] = {}\n",
    "            for feat in feature_set:\n",
    "                preproc_dicts[b][code][feat] = cut_data[code][feat][loc_pass_indices]\n",
    "            N_total_events += preproc_dicts[b][code][feat].shape[0]\n",
    "\n",
    "            # same sign\n",
    "            loc_pass_indices_samesign = (cut_data_samesign[code][\"dimu_mass\"] >= band_bounds[b][0]) & (cut_data_samesign[code][\"dimu_mass\"] < band_bounds[b][1])\n",
    "            preproc_dicts_samesign[b][code] = {}\n",
    "            for feat in feature_set:\n",
    "                preproc_dicts_samesign[b][code][feat] = cut_data_samesign[code][feat][loc_pass_indices_samesign]\n",
    "            N_total_events_samesign += preproc_dicts_samesign[b][code][feat].shape[0]\n",
    "\n",
    "    print(f\"Total events opp sign: {N_total_events}\")\n",
    "    print(f\"Total events same sign: {N_total_events_samesign}\")\n",
    "    \n",
    "    \n",
    "    # transformed / preprocess data\n",
    "    \n",
    "    sizes_dict, sizes_dict_samesign = {}, {}\n",
    "\n",
    "    proccessed_data_dict, proccessed_data_dict_samesign  = {b:{\"s_inj_data\":{}} for b in bands}, {b:{\"s_inj_data\":{}} for b in bands}\n",
    "    \n",
    "    frac_events_save = 0.2\n",
    "\n",
    "    for feat in feature_set: \n",
    "\n",
    "        # train the preprocessor on the opp sign data only\n",
    "        data_SB = np.hstack((preproc_dicts[\"SBL\"][sim_id][feat], preproc_dicts[\"SBH\"][sim_id][feat])).reshape(-1, 1)\n",
    "\n",
    "        if feat == \"dimu_mass\": # don't logit transform\n",
    "            mass_scaler = StandardScaler()\n",
    "            mass_scaler = mass_scaler.fit(data_SB)\n",
    "\n",
    "            with open(f\"{working_dir}/projects/{scaler_id}/processed_data/mass_scaler_{i}\", \"wb\") as ofile:\n",
    "                pickle.dump(mass_scaler, ofile)\n",
    "                \n",
    "            num_events_save = int(len(preproc_dicts[b][sim_id][feat])*frac_events_save)\n",
    "\n",
    "            for b in bands:\n",
    "                proccessed_data_dict[b][\"s_inj_data\"][feat] = mass_scaler.transform(preproc_dicts[b][sim_id][feat][:num_events_save].reshape(-1,1))\n",
    "                proccessed_data_dict_samesign[b][\"s_inj_data\"][feat] =  mass_scaler.transform(preproc_dicts_samesign[b][sim_id][feat].reshape(-1,1))\n",
    "                sizes_dict[b] = proccessed_data_dict[b][\"s_inj_data\"][feat].shape[0]\n",
    "                sizes_dict_samesign[b] = proccessed_data_dict_samesign[b][\"s_inj_data\"][feat].shape[0]\n",
    "\n",
    "        else: \n",
    "            data_all = np.hstack((preproc_dicts[\"SBL\"][sim_id][feat], preproc_dicts[\"SBH\"][sim_id][feat], preproc_dicts[\"SR\"][sim_id][feat])).reshape(-1, 1)\n",
    "            all_min = np.min(data_all)\n",
    "            all_max = np.max(data_all)\n",
    "            # logit transform the features\n",
    "            transformed_feats = logit_transform(data_SB, all_min, all_max)\n",
    "            # subtract off mean, std of the training set\n",
    "            mean_to_sub = np.mean(transformed_feats)\n",
    "            std_to_sub = np.std(transformed_feats)\n",
    "            \n",
    "            num_events_save = int(len(preproc_dicts[b][sim_id][feat])*frac_events_save)\n",
    "\n",
    "            for b in bands:\n",
    "                proccessed_data_dict[b][\"s_inj_data\"][feat] = (logit_transform(preproc_dicts[b][sim_id][feat][:num_events_save], all_min, all_max) - mean_to_sub)/std_to_sub\n",
    "                proccessed_data_dict_samesign[b][\"s_inj_data\"][feat] = (logit_transform(preproc_dicts_samesign[b][sim_id][feat], all_min, all_max) - mean_to_sub)/std_to_sub\n",
    "\n",
    "    print(sizes_dict)\n",
    "    print(sizes_dict_samesign)\n",
    "\n",
    "    \"\"\"\n",
    "    with open(f\"{working_dir}/projects/{scaler_id}/processed_data/{project_id}_{i}_nojet_test_band_data\", \"wb\") as ofile:\n",
    "        pickle.dump(proccessed_data_dict, ofile)\n",
    "\n",
    "    \n",
    "    with open(f\"{working_dir}/projects/{scaler_id}/processed_data/{project_id}_{i}_samesign_nojet_test_band_data\", \"wb\") as ofile:\n",
    "        pickle.dump(proccessed_data_dict_samesign, ofile)\n",
    "    \"\"\"\n",
    "\n",
    "    print()\n"
   ]
  },
  {
   "cell_type": "code",
   "execution_count": null,
   "id": "590d0e9d-6eff-4b17-9488-4c3e1cc9905a",
   "metadata": {
    "tags": []
   },
   "outputs": [],
   "source": []
  },
  {
   "cell_type": "markdown",
   "id": "3e4b33b8-25c4-4af5-8ec3-b3c150249789",
   "metadata": {},
   "source": [
    "## Preprocessing\n",
    "\n",
    "Standard scaling is fine"
   ]
  },
  {
   "cell_type": "code",
   "execution_count": null,
   "id": "7080a019-aa16-40b9-801b-5a87663ffe34",
   "metadata": {
    "tags": []
   },
   "outputs": [],
   "source": [
    "hist_all_features_dict([proccessed_data_dict[\"SBL\"][\"s_inj_data\"], proccessed_data_dict[\"SBH\"][\"s_inj_data\"], proccessed_data_dict[\"SR\"][\"s_inj_data\"]], \n",
    "                       [\"SBL\", \"SBH\", \"SR\"], feature_set, kwargs_dict_bands, scaled_features=True, plot_bound=5, image_path=None, yscale_log=False, nice_labels=True)\n",
    "\n",
    "\n",
    "hist_all_features_dict([proccessed_data_dict_samesign[\"SBL\"][\"s_inj_data\"], proccessed_data_dict_samesign[\"SBH\"][\"s_inj_data\"], proccessed_data_dict_samesign[\"SR\"][\"s_inj_data\"]], \n",
    "                       [\"SBL\", \"SBH\", \"SR\"], feature_set, kwargs_dict_bands, scaled_features=True, plot_bound=10, image_path=None, yscale_log=False, nice_labels=True)\n",
    "\n",
    "\n",
    "\n"
   ]
  },
  {
   "cell_type": "code",
   "execution_count": null,
   "id": "9dff8207-506b-4d1e-a707-d394ef6f7e37",
   "metadata": {
    "tags": []
   },
   "outputs": [],
   "source": []
  },
  {
   "cell_type": "markdown",
   "id": "5db6e425-bc48-4faf-ac73-3bacce0717ad",
   "metadata": {},
   "source": [
    "Create a batch script for flow training\n"
   ]
  },
  {
   "cell_type": "code",
   "execution_count": null,
   "id": "6542b296-826b-446e-ad19-31c557d76630",
   "metadata": {},
   "outputs": [],
   "source": [
    "feature_sets = workflow[\"feature_sets\"]\n",
    "\n",
    "if run_jet: jet_id = \"jet\"\n",
    "else:jet_id = \"nojet\"\n",
    "\n",
    "num_windows = len(bin_definitions[\"SB_left\"])\n",
    "    \n",
    "    \n",
    "    \n",
    "batches_to_run = [\"single_3\"]\n",
    "\n",
    "with open(\"batch_lowmass_scan_05.sh\", \"w\") as ofile:\n",
    "    \n",
    "    ofile.write(\"#!/bin/sh \\n\\n\")\n",
    "    ofile.write(\"#SBATCH -N 1\\n\")\n",
    "    ofile.write(\"#SBATCH -C gpu\\n\")\n",
    "    ofile.write(\"#SBATCH -G 1\\n\")\n",
    "    ofile.write(\"#SBATCH -q regular\\n\")\n",
    "    ofile.write(\"#SBATCH --job-name=lowmass_scan\\n\")\n",
    "    ofile.write(\"#SBATCH --mail-user=rmastand@berkeley.edu\\n\")\n",
    "    ofile.write(\"#SBATCH --mail-type=ALL\\n\")\n",
    "    ofile.write(\"#SBATCH -t 3:00:00\\n\")\n",
    "    ofile.write(\"#SBATCH -A m3246\\n\")\n",
    "    ofile.write(f\"#SBATCH --array=0-{2*num_windows-1}\\n\\n\")\n",
    "    ofile.write(f\"declare -a commands=(\\n\")\n",
    "\n",
    "    i = 0\n",
    "\n",
    "    for fs in batches_to_run:\n",
    "        for window_index in range(num_windows): \n",
    "\n",
    "            loc_command = '[{i}]=\"python 05_trueCATHODE.py -fid {feature_set} -f {feature_list},dimu_mass -pid lowmass_{window_index}_{jet_id} -c CATHODE_8 -seed 1 -did lowmass_scan\"'.format(feature_set=fs,feature_list = \",\".join(feature_sets[fs]), window_index = window_index, i = i, jet_id = jet_id )\n",
    "            ofile.write(loc_command)\n",
    "            ofile.write(\"\\n\")\n",
    "            loc_command = '[{i}]=\"python 05_trueCATHODE.py -fid {feature_set} -f {feature_list},dimu_mass -pid lowmass_{window_index}_samesign_{jet_id} -c CATHODE_8 -seed 1 -did lowmass_scan\"'.format(feature_set=fs,feature_list = \",\".join(feature_sets[fs]), window_index = window_index, i = 2*i+1, jet_id = jet_id )\n",
    "            #ofile.write(loc_command)\n",
    "            #ofile.write(\"\\n\")\n",
    "            i += 1\n",
    "\n",
    "    ofile.write(f\")\\n\")\n",
    "    ofile.write(f\"srun ${{commands[$SLURM_ARRAY_TASK_ID]}}\")\n",
    "\n"
   ]
  },
  {
   "cell_type": "code",
   "execution_count": null,
   "id": "c06cbe07-44f5-4a5d-99df-d67d27b0d3fb",
   "metadata": {},
   "outputs": [],
   "source": [
    "with open(\"batch_lowmass_scan_06.sh\", \"w\") as ofile:\n",
    "\n",
    "    for fs in batches_to_run:\n",
    "        for window_index in range(num_windows): \n",
    "\n",
    "            loc_command = f'python 06_eval_CATHODE.py -f {fs} -p {window_index} -did lowmass_scan'\n",
    "            if run_jet:\n",
    "                loc_command += \" -run_jet\"\n",
    "            ofile.write(loc_command+\"\\n\")\n",
    "            loc_command = f'python 06_eval_CATHODE.py -f {fs} -p {window_index}_samesign -did lowmass_scan'\n",
    "            if run_jet:\n",
    "                loc_command += \" -run_jet\"\n",
    "            ofile.write(loc_command+\"\\n\")"
   ]
  },
  {
   "cell_type": "code",
   "execution_count": null,
   "id": "7800495d-0f11-4907-9b50-518c6f8f754d",
   "metadata": {},
   "outputs": [],
   "source": []
  },
  {
   "cell_type": "code",
   "execution_count": null,
   "id": "4c5551d7-64a4-424d-a238-47d4989c7db2",
   "metadata": {},
   "outputs": [],
   "source": [
    "n_ensemble = 20\n",
    "n_bootstrap = 1\n",
    "\n",
    "with open(\"batch_lowmass_scan_07.sh\", \"w\") as ofile:\n",
    "    \n",
    "\n",
    "    for fs in batches_to_run:\n",
    "        for window_index in range(num_windows): \n",
    "\n",
    "            loc_command = f'python 07_bump_hunt_boostrap.py -f {fs} -p {window_index} -ne {n_ensemble} -nb {n_bootstrap} -did lowmass_scan'\n",
    "            if run_jet:\n",
    "                loc_command += \" -run_jet\"\n",
    "            ofile.write(loc_command+\"\\n\")\n",
    "            loc_command = f'python 07_bump_hunt_boostrap.py -f {fs} -p {window_index} -train_samesign -ne {n_ensemble} -nb {n_bootstrap} -did lowmass_scan'\n",
    "            if run_jet:\n",
    "                loc_command += \" -run_jet\"\n",
    "            #ofile.write(loc_command+\"\\n\")\n",
    "            \n",
    "\n",
    "    ofile.write(f\")\\n\")\n",
    "\n"
   ]
  },
  {
   "cell_type": "code",
   "execution_count": null,
   "id": "e7b1899b-7586-485e-8f3f-953c0116ac19",
   "metadata": {},
   "outputs": [],
   "source": []
  },
  {
   "cell_type": "code",
   "execution_count": null,
   "id": "d3ce6e7a-b502-4e2f-9df5-e181c9247e71",
   "metadata": {},
   "outputs": [],
   "source": []
  },
  {
   "cell_type": "code",
   "execution_count": null,
   "id": "df17ba0a-1f8f-45e9-986e-497ff7cf6bfb",
   "metadata": {},
   "outputs": [],
   "source": []
  },
  {
   "cell_type": "code",
   "execution_count": null,
   "id": "9c0066ba-a39d-4ae2-a0f7-142c749544f8",
   "metadata": {},
   "outputs": [],
   "source": []
  },
  {
   "cell_type": "code",
   "execution_count": null,
   "id": "cd90c5b3-64c1-4fc4-a957-686cbfdcaa95",
   "metadata": {},
   "outputs": [],
   "source": []
  }
 ],
 "metadata": {
  "kernelspec": {
   "display_name": "Python 3 (ipykernel)",
   "language": "python",
   "name": "python3"
  },
  "language_info": {
   "codemirror_mode": {
    "name": "ipython",
    "version": 3
   },
   "file_extension": ".py",
   "mimetype": "text/x-python",
   "name": "python",
   "nbconvert_exporter": "python",
   "pygments_lexer": "ipython3",
   "version": "3.8.5"
  }
 },
 "nbformat": 4,
 "nbformat_minor": 5
}

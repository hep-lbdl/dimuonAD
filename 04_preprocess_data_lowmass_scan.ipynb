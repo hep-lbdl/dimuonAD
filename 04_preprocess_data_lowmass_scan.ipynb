{
 "cells": [
  {
   "cell_type": "markdown",
   "id": "c3ee99a7-0a63-4058-bdee-369d6c2f0122",
   "metadata": {},
   "source": [
    "# Data processing for bump hunt"
   ]
  },
  {
   "cell_type": "code",
   "execution_count": 1,
   "id": "26433067-97c1-4a2c-9b62-5cb6b7cf674c",
   "metadata": {
    "tags": []
   },
   "outputs": [],
   "source": [
    "import numpy as np\n",
    "import matplotlib.pyplot as plt\n",
    "import pickle\n",
    "\n",
    "from helpers.plotting import *\n",
    "from helpers.physics_functions import *\n",
    "from helpers.data_transforms import *\n",
    "\n",
    "plt.style.use(\"../science.mplstyle\")\n"
   ]
  },
  {
   "cell_type": "code",
   "execution_count": 2,
   "id": "2eb1506e-478c-4ca6-88be-bea7cdc06935",
   "metadata": {
    "tags": []
   },
   "outputs": [],
   "source": [
    "import yaml\n",
    "with open(\"workflow.yaml\", \"r\") as file:\n",
    "    workflow = yaml.safe_load(file)"
   ]
  },
  {
   "cell_type": "code",
   "execution_count": 3,
   "id": "e679a068-79e8-4bd2-adc2-1010dac2f6ca",
   "metadata": {
    "tags": []
   },
   "outputs": [
    {
     "name": "stdout",
     "output_type": "stream",
     "text": [
      "DATA_nojet opp sign (21803678,)\n",
      "DATA_nojet same sign (6756613,)\n"
     ]
    }
   ],
   "source": [
    "project_id = \"lowmass\"\n",
    "run_id = \"trigger_12_03\"\n",
    "run_jet = False\n",
    "\n",
    "working_dir = workflow[\"file_paths\"][\"working_dir\"]\n",
    "path_to_compiled_data = workflow[\"file_paths\"][\"data_storage_dir\"]+f\"/compiled_data/{project_id}\"\n",
    "    \n",
    "codes_list = [\"skimmed_data_2016H_30555_nojet\"] # may want multiple codes for injection studies\n",
    "\n",
    "uncut_data_OS, uncut_data_SS = {code:{} for code in codes_list},  {code:{} for code in codes_list}\n",
    "\n",
    "for code in codes_list:\n",
    "    with open(f\"{path_to_compiled_data}/{code}\", \"rb\") as ifile:\n",
    "        tmp_dict = pickle.load(ifile)\n",
    "        for key in tmp_dict.keys():\n",
    "            if \"samesign\" in key:\n",
    "                uncut_data_SS[code][key[:-9]] = tmp_dict[key]\n",
    "            else:\n",
    "                uncut_data_OS[code][key] = tmp_dict[key]\n",
    "        \n",
    "    \n",
    "    print(code, \"opp sign\",  uncut_data_OS[code][list(uncut_data_OS[code].keys())[0]].shape)\n",
    "    print(code, \"same sign\", uncut_data_SS[code][list(uncut_data_SS[code].keys())[0]].shape)"
   ]
  },
  {
   "cell_type": "code",
   "execution_count": null,
   "id": "b3bfcad5-c297-4592-a4d9-e3e32a0e5b71",
   "metadata": {},
   "outputs": [],
   "source": [
    "feature_set = list(uncut_data_OS[codes_list[0]].keys())\n",
    "feature_set = [x for x in feature_set if \"HLT\" not in x]\n",
    "print(feature_set)"
   ]
  },
  {
   "cell_type": "markdown",
   "id": "7601bfc0-a52a-418a-9e46-93d646d7024c",
   "metadata": {},
   "source": [
    "## Make cuts\n",
    "\n",
    "Now let's define cuts on the data. \n",
    "\n",
    "Muon cuts were made previously (and we don't want to make cuts on the dimuon system, either)\n",
    "\n",
    "Random seed is used to set aside a portion of the test set"
   ]
  },
  {
   "cell_type": "code",
   "execution_count": 5,
   "id": "d395893c-375c-4ff9-8fba-8a84974cc7c3",
   "metadata": {
    "tags": []
   },
   "outputs": [
    {
     "data": {
      "image/png": "[encoded data removed]",
      "text/plain": [
       "<Figure size 432x288 with 1 Axes>"
      ]
     },
     "metadata": {
      "needs_background": "light"
     },
     "output_type": "display_data"
    },
    {
     "name": "stdout",
     "output_type": "stream",
     "text": [
      "dict_keys([0, 1, 2, 3, 4, 5, 6, 7, 8, 9, 10, 11, 12, 13, 14, 15, 16, 17, 18, 19, 20, 21, 22, 23, 24, 25, 26, 27, 28, 29, 30, 31, 32, 33, 34, 35, 36, 37, 38, 39, 40, 41, 42, 43, 44, 45, 46, 47, 48, 49, 50, 51, 52, 53, 54, 55, 56, 57, 58, 59, 60, 61, 62, 63, 64, 65, 66, 67, 68, 69, 70, 71, 72, 73, 74, 75, 76, 77, 78, 79, 80, 81, 82, 83, 84, 85, 86, 87, 88, 89, 90, 91, 92, 93, 94, 95, 96, 97, 98, 99, 100, 101, 102, 103, 104, 105, 106, 107, 108, 109, 110, 111, 112, 113, 114, 115, 116, 117, 118, 119, 120, 121, 122, 123, 124, 125, 126, 127, 128, 129, 130, 131, 132, 133, 134, 135, 136, 137, 138, 139, 140, 141, 142, 143, 144, 145, 146, 147, 148, 149, 150, 151, 152, 153, 154, 155, 156, 157, 158, 159, 160, 161, 162, 163, 164, 165, 166, 167, 168, 169, 170, 171, 172, 173, 174, 175, 176, 177, 178, 179, 180, 181, 182, 183, 184, 185, 186, 187, 188, 189, 190, 191, 192])\n"
     ]
    }
   ],
   "source": [
    "# define SB / SR choices\n",
    "\n",
    "detector_resolution = 0.01\n",
    "start_mass = 0.3\n",
    "stop_mass = 20\n",
    "\n",
    "current_mass = start_mass\n",
    "all_bins = [start_mass]\n",
    "\n",
    "\n",
    "while current_mass < stop_mass:\n",
    "    loc_bin_width = current_mass*detector_resolution\n",
    "    current_mass += loc_bin_width\n",
    "    all_bins.append(current_mass)\n",
    "    \n",
    "\n",
    "num_bins_total = len(all_bins)\n",
    "\n",
    "SB_num_bins = 17\n",
    "SR_num_bins = 5\n",
    "window_gap = 2\n",
    "window_length = 2*SB_num_bins + SR_num_bins\n",
    "\n",
    "\n",
    "\n",
    "bin_definitions = {}\n",
    "    \n",
    "plt.figure()\n",
    "\n",
    "window_index = 0\n",
    "\n",
    "for i in range(0, num_bins_total, window_gap):\n",
    "    if i + window_length < num_bins_total:\n",
    "        \n",
    "        bin_definitions[window_index] = {\"SBL\":[],\"SR\":[], \"SBH\":[]}\n",
    "        \n",
    "        \n",
    "        bin_definitions[window_index][\"SBL\"] = all_bins[i:i+SB_num_bins+1]\n",
    "        bin_definitions[window_index][\"SR\"] = all_bins[i+SB_num_bins:i+SB_num_bins+SR_num_bins+1]\n",
    "        bin_definitions[window_index][\"SBH\"] = all_bins[i+SB_num_bins+SR_num_bins:i+2*SB_num_bins+SR_num_bins+1]\n",
    "        \n",
    "        plt.plot(bin_definitions[window_index][\"SBL\"], [i for x in bin_definitions[window_index][\"SBL\"]], color = \"red\")\n",
    "        plt.plot(bin_definitions[window_index][\"SR\"], [i for x in bin_definitions[window_index][\"SR\"]], color = \"blue\")\n",
    "        plt.plot(bin_definitions[window_index][\"SBH\"], [i for x in bin_definitions[window_index][\"SBH\"]], color = \"red\")\n",
    "        \n",
    "        window_index += 1\n",
    "\n",
    "plt.xlabel(\"$M$ [GeV]\")\n",
    "plt.yticks([])\n",
    "plt.show()\n",
    "    \n",
    "num_windows = len(bin_definitions.keys())\n",
    "print(bin_definitions.keys())\n",
    "with open(f\"{working_dir}/projects/{scaler_id}/processed_data/bin_definitions\", \"wb\") as ofile:\n",
    "    pickle.dump(bin_definitions, ofile)\n",
    "\n"
   ]
  },
  {
   "cell_type": "code",
   "execution_count": 6,
   "id": "6434c2f7-f1c1-46af-a084-452432fb9436",
   "metadata": {},
   "outputs": [
    {
     "name": "stdout",
     "output_type": "stream",
     "text": [
      "DATA_nojet oppsign has shape (21803678,) after cuts\n",
      "DATA_nojet samesign has shape (6756613,) after cuts\n"
     ]
    }
   ],
   "source": [
    "cut_data_OS, cut_data_SS = {code:{} for code in codes_list},  {code:{} for code in codes_list}\n",
    "\n",
    "pt_high_cut, pt_low_cut = 20, 10\n",
    "eta_cut = 2.1\n",
    "\n",
    "\n",
    "for code in codes_list:\n",
    "\n",
    "    # define cuts\n",
    "\n",
    "    pass_indices_OS = (uncut_data_OS[code][\"mu0_pt\"] >= pt_high_cut) & (uncut_data_OS[code][\"mu1_pt\"] >= pt_low_cut) & (np.abs(uncut_data_OS[code][\"mu0_eta\"]) <= eta_cut) & (np.abs(uncut_data_OS[code][\"mu1_eta\"]) <= eta_cut) & (uncut_data_OS[code][\"dimu_mass\"] <= stop_mass) & (uncut_data_OS[code][trigger])\n",
    "    pass_indices_SS = (uncut_data_SS[code][\"mu0_pt\"] >= pt_high_cut) & (uncut_data_SS[code][\"mu1_pt\"] >= pt_low_cut) & (np.abs(uncut_data_SS[code][\"mu0_eta\"]) <= eta_cut) & (np.abs(uncut_data_SS[code][\"mu1_eta\"]) <= eta_cut) & (uncut_data_SS[code][\"dimu_mass\"] <= stop_mass) & (uncut_data_SS[code][trigger])\n",
    "\n",
    "    # apply cuts to oppsign\n",
    "    for feat in feature_set:\n",
    "        cut_data_OS[code][feat] = uncut_data_OS[code][feat][pass_indices_OS]\n",
    "        cut_data_SS[code][feat] = uncut_data_SS[code][feat][pass_indices_SS]\n",
    "    \n",
    "    print(f\"{code} OS has shape {cut_data_OS[code][feat].shape} after cuts\")\n",
    "    print(f\"{code} SS has shape {cut_data_SS[code][feat].shape} after cuts\")\n",
    "    \n",
    "    "
   ]
  },
  {
   "cell_type": "markdown",
   "id": "209a95ef-1362-4f8a-8250-54c1c7ebec62",
   "metadata": {},
   "source": [
    "Check how local cuts affect the starting significance"
   ]
  },
  {
   "cell_type": "code",
   "execution_count": 7,
   "id": "82364f41-679c-4a03-9711-8fd23b47c246",
   "metadata": {
    "tags": []
   },
   "outputs": [
    {
     "data": {
      "image/png": "[encoded data removed]",
      "text/plain": [
       "<Figure size 504x360 with 1 Axes>"
      ]
     },
     "metadata": {
      "needs_background": "light"
     },
     "output_type": "display_data"
    }
   ],
   "source": [
    "window_index = 2\n",
    "\n",
    "loc_SR_left, loc_SR_right = min(bin_definitions[window_index][\"SR\"]), max(bin_definitions[window_index][\"SR\"])\n",
    "loc_SB_left, loc_SB_right = min(bin_definitions[window_index][\"SBL\"]), max(bin_definitions[window_index][\"SBH\"])\n",
    "\n",
    "\n",
    "plot_bins_all, plot_bins_SR, plot_bins_left, plot_bins_right, plot_centers_all, plot_centers_SR, plot_centers_SB = get_bins(loc_SR_left, loc_SR_right, loc_SB_left, loc_SB_right, num_bins_SR= 6)\n",
    "\n",
    "\n",
    "plt.figure(figsize = (7,5))\n",
    "\n",
    "x = np.linspace(loc_SB_left, loc_SB_right, 100) # plot curve fit\n",
    "\n",
    "masses_with_bounds = cut_data[code][\"dimu_mass\"][(cut_data[code][\"dimu_mass\"] >= loc_SB_left) & (cut_data[code][\"dimu_mass\"] <= loc_SB_right)]\n",
    "masses_with_bounds_samesign = cut_data_samesign[code][\"dimu_mass\"][(cut_data_samesign[code][\"dimu_mass\"] >= loc_SB_left) & (cut_data_samesign[code][\"dimu_mass\"] <= loc_SB_right)]\n",
    "\n",
    "\n",
    "plt.hist(masses_with_bounds, bins = plot_bins_all, lw = 2, histtype = \"step\", density = False, label = f\"OS\")\n",
    "plt.hist(masses_with_bounds_samesign, bins = plot_bins_all, lw = 2, histtype = \"step\", density = False, label = f\"SS\")\n",
    "\n",
    "\n",
    "plt.axvline(loc_SR_left)\n",
    "plt.axvline(loc_SR_right)\n",
    "\n",
    "plt.xlabel(\"Dimu M [GeV]\")\n",
    "plt.ylabel(\"Counts\")\n",
    "plt.legend(loc = (1, 0))\n",
    "\n",
    "#plt.yscale(\"log\")\n",
    "\n",
    "plt.show()\n",
    "\n",
    " \n",
    "    \n",
    "#hist_all_features(codes_list, cut_data, feature_set, kwargs_dict_dtype)\n"
   ]
  },
  {
   "cell_type": "markdown",
   "id": "089c12ec-2ba4-4dcc-933f-249167e278e1",
   "metadata": {},
   "source": [
    "Split data into bands"
   ]
  },
  {
   "cell_type": "code",
   "execution_count": 8,
   "id": "076c8893-c905-4d2d-b712-c0e2105b3350",
   "metadata": {
    "tags": []
   },
   "outputs": [
    {
     "name": "stdout",
     "output_type": "stream",
     "text": [
      "SB bounds: 0.3, 0.44223675255095657\n",
      "SR bounds: 0.3552913294118806, 0.3734147579252762\n",
      "Total events opp sign: 231276\n",
      "Total events same sign: 9164\n",
      "{'SBL': 102865, 'SR': 29066, 'SBH': 99345}\n",
      "{'SBL': 3236, 'SR': 1145, 'SBH': 4783}\n",
      "\n",
      "SB bounds: 0.30602999999999997, 0.4511257112772308\n",
      "SR bounds: 0.3624326851330594, 0.3809203945595742\n"
     ]
    },
    {
     "name": "stderr",
     "output_type": "stream",
     "text": [
      "/global/u1/r/rmastand/dimuonAD/helpers/data_transforms.py:8: RuntimeWarning: invalid value encountered in log\n",
      "  logit = np.log(x_norm/(1-x_norm+1e-10)+1e-10)\n"
     ]
    },
    {
     "name": "stdout",
     "output_type": "stream",
     "text": [
      "Total events opp sign: 462776\n",
      "Total events same sign: 18704\n",
      "{'SBL': 103319, 'SR': 29451, 'SBH': 98730}\n",
      "{'SBL': 3407, 'SR': 1182, 'SBH': 4951}\n",
      "\n",
      "SB bounds: 0.31218120299999996, 0.4601933380739031\n",
      "SR bounds: 0.36971758210423383, 0.38857689449022165\n"
     ]
    },
    {
     "name": "stderr",
     "output_type": "stream",
     "text": [
      "/global/u1/r/rmastand/dimuonAD/helpers/data_transforms.py:8: RuntimeWarning: invalid value encountered in log\n",
      "  logit = np.log(x_norm/(1-x_norm+1e-10)+1e-10)\n"
     ]
    },
    {
     "name": "stdout",
     "output_type": "stream",
     "text": [
      "Total events opp sign: 692717\n",
      "Total events same sign: 28512\n",
      "{'SBL': 101638, 'SR': 29820, 'SBH': 98483}\n",
      "{'SBL': 3447, 'SR': 1262, 'SBH': 5099}\n",
      "\n",
      "SB bounds: 0.31845604518029996, 0.4694432241691886\n",
      "SR bounds: 0.37714890550452895, 0.3963872900694751\n"
     ]
    },
    {
     "name": "stderr",
     "output_type": "stream",
     "text": [
      "/global/u1/r/rmastand/dimuonAD/helpers/data_transforms.py:8: RuntimeWarning: invalid value encountered in log\n",
      "  logit = np.log(x_norm/(1-x_norm+1e-10)+1e-10)\n"
     ]
    },
    {
     "name": "stdout",
     "output_type": "stream",
     "text": [
      "Total events opp sign: 922400\n",
      "Total events same sign: 38656\n",
      "{'SBL': 102047, 'SR': 29188, 'SBH': 98448}\n",
      "{'SBL': 3572, 'SR': 1256, 'SBH': 5316}\n",
      "\n",
      "SB bounds: 0.32485701168842396, 0.47887903297498924\n",
      "SR bounds: 0.38472959850516997, 0.40435467459987157\n"
     ]
    },
    {
     "name": "stderr",
     "output_type": "stream",
     "text": [
      "/global/u1/r/rmastand/dimuonAD/helpers/data_transforms.py:8: RuntimeWarning: invalid value encountered in log\n",
      "  logit = np.log(x_norm/(1-x_norm+1e-10)+1e-10)\n"
     ]
    },
    {
     "name": "stdout",
     "output_type": "stream",
     "text": [
      "Total events opp sign: 1150464\n",
      "Total events same sign: 49111\n",
      "{'SBL': 100408, 'SR': 29179, 'SBH': 98477}\n",
      "{'SBL': 3699, 'SR': 1347, 'SBH': 5409}\n",
      "\n",
      "SB bounds: 0.3313866376233613, 0.4885045015377865\n",
      "SR bounds: 0.39246266343512387, 0.41248220355932896\n"
     ]
    },
    {
     "name": "stderr",
     "output_type": "stream",
     "text": [
      "/global/u1/r/rmastand/dimuonAD/helpers/data_transforms.py:8: RuntimeWarning: invalid value encountered in log\n",
      "  logit = np.log(x_norm/(1-x_norm+1e-10)+1e-10)\n"
     ]
    },
    {
     "name": "stdout",
     "output_type": "stream",
     "text": [
      "Total events opp sign: 1378331\n",
      "Total events same sign: 59941\n",
      "{'SBL': 99986, 'SR': 29302, 'SBH': 98579}\n",
      "{'SBL': 3843, 'SR': 1391, 'SBH': 5596}\n",
      "\n",
      "SB bounds: 0.33804750903959085, 0.498323442018696\n",
      "SR bounds: 0.40035116297016987, 0.42077309585087147\n"
     ]
    },
    {
     "name": "stderr",
     "output_type": "stream",
     "text": [
      "/global/u1/r/rmastand/dimuonAD/helpers/data_transforms.py:8: RuntimeWarning: invalid value encountered in log\n",
      "  logit = np.log(x_norm/(1-x_norm+1e-10)+1e-10)\n"
     ]
    },
    {
     "name": "stdout",
     "output_type": "stream",
     "text": [
      "Total events opp sign: 1605846\n",
      "Total events same sign: 71063\n",
      "{'SBL': 99982, 'SR': 28662, 'SBH': 98871}\n",
      "{'SBL': 3997, 'SR': 1413, 'SBH': 5712}\n",
      "\n",
      "SB bounds: 0.34484226397128664, 0.5083397432032718\n",
      "SR bounds: 0.4083982213458703, 0.429230635077474\n"
     ]
    },
    {
     "name": "stderr",
     "output_type": "stream",
     "text": [
      "/global/u1/r/rmastand/dimuonAD/helpers/data_transforms.py:8: RuntimeWarning: invalid value encountered in log\n",
      "  logit = np.log(x_norm/(1-x_norm+1e-10)+1e-10)\n"
     ]
    },
    {
     "name": "stdout",
     "output_type": "stream",
     "text": [
      "Total events opp sign: 1833925\n",
      "Total events same sign: 82582\n",
      "{'SBL': 99909, 'SR': 29069, 'SBH': 99101}\n",
      "{'SBL': 4128, 'SR': 1463, 'SBH': 5928}\n",
      "\n",
      "SB bounds: 0.35177359347710946, 0.5185573720416575\n",
      "SR bounds: 0.41660702559492224, 0.43785817084253126\n"
     ]
    },
    {
     "name": "stderr",
     "output_type": "stream",
     "text": [
      "/global/u1/r/rmastand/dimuonAD/helpers/data_transforms.py:8: RuntimeWarning: invalid value encountered in log\n",
      "  logit = np.log(x_norm/(1-x_norm+1e-10)+1e-10)\n"
     ]
    },
    {
     "name": "stdout",
     "output_type": "stream",
     "text": [
      "Total events opp sign: 2061921\n",
      "Total events same sign: 94514\n",
      "{'SBL': 99640, 'SR': 29357, 'SBH': 98999}\n",
      "{'SBL': 4305, 'SR': 1545, 'SBH': 6082}\n",
      "\n",
      "SB bounds: 0.3588442427059994, 0.5289803752196949\n",
      "SR bounds: 0.4249808268093802, 0.44665912007646613\n"
     ]
    },
    {
     "name": "stderr",
     "output_type": "stream",
     "text": [
      "/global/u1/r/rmastand/dimuonAD/helpers/data_transforms.py:8: RuntimeWarning: invalid value encountered in log\n",
      "  logit = np.log(x_norm/(1-x_norm+1e-10)+1e-10)\n"
     ]
    },
    {
     "name": "stdout",
     "output_type": "stream",
     "text": [
      "Total events opp sign: 2290242\n",
      "Total events same sign: 106771\n",
      "{'SBL': 99519, 'SR': 29098, 'SBH': 99704}\n",
      "{'SBL': 4456, 'SR': 1617, 'SBH': 6184}\n",
      "\n",
      "SB bounds: 0.36605701198438995, 0.5396128807616107\n",
      "SR bounds: 0.43352294142824876, 0.45563696839000306\n"
     ]
    },
    {
     "name": "stderr",
     "output_type": "stream",
     "text": [
      "/global/u1/r/rmastand/dimuonAD/helpers/data_transforms.py:8: RuntimeWarning: invalid value encountered in log\n",
      "  logit = np.log(x_norm/(1-x_norm+1e-10)+1e-10)\n"
     ]
    },
    {
     "name": "stdout",
     "output_type": "stream",
     "text": [
      "Total events opp sign: 2518857\n",
      "Total events same sign: 119349\n",
      "{'SBL': 99246, 'SR': 28664, 'SBH': 100705}\n",
      "{'SBL': 4588, 'SR': 1671, 'SBH': 6319}\n",
      "\n",
      "SB bounds: 0.3734147579252762, 0.5504590996649191\n",
      "SR bounds: 0.44223675255095657, 0.46479527145464217\n"
     ]
    },
    {
     "name": "stderr",
     "output_type": "stream",
     "text": [
      "/global/u1/r/rmastand/dimuonAD/helpers/data_transforms.py:8: RuntimeWarning: invalid value encountered in log\n",
      "  logit = np.log(x_norm/(1-x_norm+1e-10)+1e-10)\n"
     ]
    },
    {
     "name": "stdout",
     "output_type": "stream",
     "text": [
      "Total events opp sign: 2749438\n",
      "Total events same sign: 132316\n",
      "{'SBL': 99345, 'SR': 28611, 'SBH': 102625}\n",
      "{'SBL': 4783, 'SR': 1688, 'SBH': 6496}\n",
      "\n",
      "SB bounds: 0.3809203945595742, 0.561523327568184\n",
      "SR bounds: 0.4511257112772308, 0.47413765641088046\n"
     ]
    },
    {
     "name": "stderr",
     "output_type": "stream",
     "text": [
      "/global/u1/r/rmastand/dimuonAD/helpers/data_transforms.py:8: RuntimeWarning: invalid value encountered in log\n",
      "  logit = np.log(x_norm/(1-x_norm+1e-10)+1e-10)\n",
      "/global/u1/r/rmastand/dimuonAD/helpers/data_transforms.py:8: RuntimeWarning: invalid value encountered in log\n",
      "  logit = np.log(x_norm/(1-x_norm+1e-10)+1e-10)\n"
     ]
    },
    {
     "name": "stdout",
     "output_type": "stream",
     "text": [
      "Total events opp sign: 2981040\n",
      "Total events same sign: 145670\n",
      "{'SBL': 98730, 'SR': 28804, 'SBH': 104068}\n",
      "{'SBL': 4951, 'SR': 1724, 'SBH': 6679}\n",
      "\n",
      "SB bounds: 0.38857689449022165, 0.5728099464523044\n",
      "SR bounds: 0.4601933380739031, 0.4836678233047391\n",
      "Total events opp sign: 3213884\n",
      "Total events same sign: 159438\n",
      "{'SBL': 98483, 'SR': 28991, 'SBH': 105370}\n",
      "{'SBL': 5099, 'SR': 1752, 'SBH': 6917}\n",
      "\n",
      "SB bounds: 0.3963872900694751, 0.5843234263759958\n",
      "SR bounds: 0.4694432241691886, 0.49338954655316436\n"
     ]
    },
    {
     "name": "stderr",
     "output_type": "stream",
     "text": [
      "/global/u1/r/rmastand/dimuonAD/helpers/data_transforms.py:8: RuntimeWarning: invalid value encountered in log\n",
      "  logit = np.log(x_norm/(1-x_norm+1e-10)+1e-10)\n"
     ]
    },
    {
     "name": "stdout",
     "output_type": "stream",
     "text": [
      "Total events opp sign: 3448197\n",
      "Total events same sign: 173603\n",
      "{'SBL': 98448, 'SR': 29304, 'SBH': 106561}\n",
      "{'SBL': 5316, 'SR': 1759, 'SBH': 7090}\n",
      "\n",
      "SB bounds: 0.40435467459987157, 0.5960683272461533\n",
      "SR bounds: 0.47887903297498924, 0.5033066764388829\n"
     ]
    },
    {
     "name": "stderr",
     "output_type": "stream",
     "text": [
      "/global/u1/r/rmastand/dimuonAD/helpers/data_transforms.py:8: RuntimeWarning: invalid value encountered in log\n",
      "  logit = np.log(x_norm/(1-x_norm+1e-10)+1e-10)\n"
     ]
    },
    {
     "name": "stdout",
     "output_type": "stream",
     "text": [
      "Total events opp sign: 3683856\n",
      "Total events same sign: 188141\n",
      "{'SBL': 98477, 'SR': 29562, 'SBH': 107620}\n",
      "{'SBL': 5409, 'SR': 1806, 'SBH': 7323}\n",
      "\n",
      "SB bounds: 0.41248220355932896, 0.608049300623801\n",
      "SR bounds: 0.4885045015377865, 0.5134231406353045\n"
     ]
    },
    {
     "name": "stderr",
     "output_type": "stream",
     "text": [
      "/global/u1/r/rmastand/dimuonAD/helpers/data_transforms.py:8: RuntimeWarning: invalid value encountered in log\n",
      "  logit = np.log(x_norm/(1-x_norm+1e-10)+1e-10)\n"
     ]
    },
    {
     "name": "stdout",
     "output_type": "stream",
     "text": [
      "Total events opp sign: 3921150\n",
      "Total events same sign: 203133\n",
      "{'SBL': 98579, 'SR': 29388, 'SBH': 109327}\n",
      "{'SBL': 5596, 'SR': 1905, 'SBH': 7491}\n",
      "\n",
      "SB bounds: 0.42077309585087147, 0.6202710915663394\n",
      "SR bounds: 0.498323442018696, 0.5237429457620741\n"
     ]
    },
    {
     "name": "stderr",
     "output_type": "stream",
     "text": [
      "/global/u1/r/rmastand/dimuonAD/helpers/data_transforms.py:8: RuntimeWarning: invalid value encountered in log\n",
      "  logit = np.log(x_norm/(1-x_norm+1e-10)+1e-10)\n"
     ]
    },
    {
     "name": "stdout",
     "output_type": "stream",
     "text": [
      "Total events opp sign: 4160371\n",
      "Total events same sign: 218527\n",
      "{'SBL': 98871, 'SR': 29699, 'SBH': 110651}\n",
      "{'SBL': 5712, 'SR': 1988, 'SBH': 7694}\n",
      "\n",
      "SB bounds: 0.429230635077474, 0.6327385405068229\n",
      "SR bounds: 0.5083397432032718, 0.5342701789718918\n"
     ]
    },
    {
     "name": "stderr",
     "output_type": "stream",
     "text": [
      "/global/u1/r/rmastand/dimuonAD/helpers/data_transforms.py:8: RuntimeWarning: invalid value encountered in log\n",
      "  logit = np.log(x_norm/(1-x_norm+1e-10)+1e-10)\n",
      "/global/u1/r/rmastand/dimuonAD/helpers/data_transforms.py:8: RuntimeWarning: invalid value encountered in log\n",
      "  logit = np.log(x_norm/(1-x_norm+1e-10)+1e-10)\n"
     ]
    },
    {
     "name": "stdout",
     "output_type": "stream",
     "text": [
      "Total events opp sign: 4401615\n",
      "Total events same sign: 234293\n",
      "{'SBL': 99101, 'SR': 29887, 'SBH': 112256}\n",
      "{'SBL': 5928, 'SR': 1967, 'SBH': 7871}\n",
      "\n",
      "SB bounds: 0.43785817084253126, 0.64545658517101\n",
      "SR bounds: 0.5185573720416575, 0.5450090095692268\n"
     ]
    },
    {
     "name": "stderr",
     "output_type": "stream",
     "text": [
      "/global/u1/r/rmastand/dimuonAD/helpers/data_transforms.py:8: RuntimeWarning: invalid value encountered in log\n",
      "  logit = np.log(x_norm/(1-x_norm+1e-10)+1e-10)\n"
     ]
    },
    {
     "name": "stdout",
     "output_type": "stream",
     "text": [
      "Total events opp sign: 4645335\n",
      "Total events same sign: 250468\n",
      "{'SBL': 98999, 'SR': 31290, 'SBH': 113431}\n",
      "{'SBL': 6082, 'SR': 1991, 'SBH': 8102}\n",
      "\n",
      "SB bounds: 0.44665912007646613, 0.6584302625329473\n",
      "SR bounds: 0.5289803752196949, 0.5559636906615684\n",
      "Total events opp sign: 4891936\n",
      "Total events same sign: 267089\n",
      "{'SBL': 99704, 'SR': 32698, 'SBH': 114199}\n",
      "{'SBL': 6184, 'SR': 2094, 'SBH': 8343}\n",
      "\n",
      "SB bounds: 0.45563696839000306, 0.6716647108098596\n",
      "SR bounds: 0.5396128807616107, 0.5671385608438658\n"
     ]
    },
    {
     "name": "stderr",
     "output_type": "stream",
     "text": [
      "/global/u1/r/rmastand/dimuonAD/helpers/data_transforms.py:8: RuntimeWarning: invalid value encountered in log\n",
      "  logit = np.log(x_norm/(1-x_norm+1e-10)+1e-10)\n"
     ]
    },
    {
     "name": "stdout",
     "output_type": "stream",
     "text": [
      "Total events opp sign: 5142003\n",
      "Total events same sign: 284168\n",
      "{'SBL': 100705, 'SR': 32992, 'SBH': 116370}\n",
      "{'SBL': 6319, 'SR': 2186, 'SBH': 8574}\n",
      "\n",
      "SB bounds: 0.46479527145464217, 0.6851651714971377\n",
      "SR bounds: 0.5504590996649191, 0.5785380459168274\n"
     ]
    },
    {
     "name": "stderr",
     "output_type": "stream",
     "text": [
      "/global/u1/r/rmastand/dimuonAD/helpers/data_transforms.py:8: RuntimeWarning: invalid value encountered in log\n",
      "  logit = np.log(x_norm/(1-x_norm+1e-10)+1e-10)\n"
     ]
    },
    {
     "name": "stdout",
     "output_type": "stream",
     "text": [
      "Total events opp sign: 5395982\n",
      "Total events same sign: 301669\n"
     ]
    },
    {
     "name": "stderr",
     "output_type": "stream",
     "text": [
      "/global/u1/r/rmastand/dimuonAD/helpers/data_transforms.py:8: RuntimeWarning: invalid value encountered in log\n",
      "  logit = np.log(x_norm/(1-x_norm+1e-10)+1e-10)\n"
     ]
    },
    {
     "name": "stdout",
     "output_type": "stream",
     "text": [
      "{'SBL': 102625, 'SR': 32498, 'SBH': 118856}\n",
      "{'SBL': 6496, 'SR': 2259, 'SBH': 8746}\n",
      "\n",
      "SB bounds: 0.47413765641088046, 0.6989369914442302\n",
      "SR bounds: 0.561523327568184, 0.5901666606397558\n",
      "Total events opp sign: 5654146\n",
      "Total events same sign: 319675\n",
      "{'SBL': 104068, 'SR': 32441, 'SBH': 121655}\n",
      "{'SBL': 6679, 'SR': 2271, 'SBH': 9056}\n",
      "\n",
      "SB bounds: 0.4836678233047391, 0.7129856249722593\n",
      "SR bounds: 0.5728099464523044, 0.6020290105186149\n"
     ]
    },
    {
     "name": "stderr",
     "output_type": "stream",
     "text": [
      "/global/u1/r/rmastand/dimuonAD/helpers/data_transforms.py:8: RuntimeWarning: invalid value encountered in log\n",
      "  logit = np.log(x_norm/(1-x_norm+1e-10)+1e-10)\n"
     ]
    },
    {
     "name": "stdout",
     "output_type": "stream",
     "text": [
      "Total events opp sign: 5917406\n",
      "Total events same sign: 338243\n",
      "{'SBL': 105370, 'SR': 32777, 'SBH': 125113}\n",
      "{'SBL': 6917, 'SR': 2368, 'SBH': 9283}\n",
      "\n",
      "SB bounds: 0.49338954655316436, 0.7273166360342017\n",
      "SR bounds: 0.5843234263759958, 0.6141297936300391\n"
     ]
    },
    {
     "name": "stderr",
     "output_type": "stream",
     "text": [
      "/global/u1/r/rmastand/dimuonAD/helpers/data_transforms.py:8: RuntimeWarning: invalid value encountered in log\n",
      "  logit = np.log(x_norm/(1-x_norm+1e-10)+1e-10)\n"
     ]
    },
    {
     "name": "stdout",
     "output_type": "stream",
     "text": [
      "Total events opp sign: 6185552\n",
      "Total events same sign: 357286\n",
      "{'SBL': 106561, 'SR': 32971, 'SBH': 128614}\n",
      "{'SBL': 7090, 'SR': 2473, 'SBH': 9480}\n",
      "\n",
      "SB bounds: 0.5033066764388829, 0.7419357004184892\n",
      "SR bounds: 0.5960683272461533, 0.6264738024820028\n"
     ]
    },
    {
     "name": "stderr",
     "output_type": "stream",
     "text": [
      "/global/u1/r/rmastand/dimuonAD/helpers/data_transforms.py:8: RuntimeWarning: invalid value encountered in log\n",
      "  logit = np.log(x_norm/(1-x_norm+1e-10)+1e-10)\n"
     ]
    },
    {
     "name": "stdout",
     "output_type": "stream",
     "text": [
      "Total events opp sign: 6460027\n",
      "Total events same sign: 376935\n",
      "{'SBL': 107620, 'SR': 33738, 'SBH': 133117}\n",
      "{'SBL': 7323, 'SR': 2494, 'SBH': 9832}\n",
      "\n",
      "SB bounds: 0.5134231406353045, 0.7568486079969009\n",
      "SR bounds: 0.608049300623801, 0.6390659259118912\n"
     ]
    },
    {
     "name": "stderr",
     "output_type": "stream",
     "text": [
      "/global/u1/r/rmastand/dimuonAD/helpers/data_transforms.py:8: RuntimeWarning: invalid value encountered in log\n",
      "  logit = np.log(x_norm/(1-x_norm+1e-10)+1e-10)\n"
     ]
    },
    {
     "name": "stdout",
     "output_type": "stream",
     "text": [
      "Total events opp sign: 6743088\n",
      "Total events same sign: 397005\n",
      "{'SBL': 109327, 'SR': 34381, 'SBH': 139353}\n",
      "{'SBL': 7491, 'SR': 2512, 'SBH': 10067}\n",
      "\n",
      "SB bounds: 0.5237429457620741, 0.7720612650176386\n",
      "SR bounds: 0.6202710915663394, 0.6519111510227201\n"
     ]
    },
    {
     "name": "stderr",
     "output_type": "stream",
     "text": [
      "/global/u1/r/rmastand/dimuonAD/helpers/data_transforms.py:8: RuntimeWarning: invalid value encountered in log\n",
      "  logit = np.log(x_norm/(1-x_norm+1e-10)+1e-10)\n"
     ]
    },
    {
     "name": "stdout",
     "output_type": "stream",
     "text": [
      "Total events opp sign: 7039606\n",
      "Total events same sign: 417615\n",
      "{'SBL': 110651, 'SR': 35054, 'SBH': 150813}\n",
      "{'SBL': 7694, 'SR': 2587, 'SBH': 10329}\n",
      "\n",
      "SB bounds: 0.5342701789718918, 0.7875796964444932\n",
      "SR bounds: 0.6327385405068229, 0.6650145651582768\n"
     ]
    },
    {
     "name": "stderr",
     "output_type": "stream",
     "text": [
      "/global/u1/r/rmastand/dimuonAD/helpers/data_transforms.py:8: RuntimeWarning: invalid value encountered in log\n",
      "  logit = np.log(x_norm/(1-x_norm+1e-10)+1e-10)\n"
     ]
    },
    {
     "name": "stdout",
     "output_type": "stream",
     "text": [
      "Total events opp sign: 7357809\n",
      "Total events same sign: 438809\n",
      "{'SBL': 112256, 'SR': 36237, 'SBH': 169710}\n",
      "{'SBL': 7871, 'SR': 2726, 'SBH': 10597}\n",
      "\n",
      "SB bounds: 0.5450090095692268, 0.8034100483430275\n",
      "SR bounds: 0.64545658517101, 0.6783813579179582\n"
     ]
    },
    {
     "name": "stderr",
     "output_type": "stream",
     "text": [
      "/global/u1/r/rmastand/dimuonAD/helpers/data_transforms.py:8: RuntimeWarning: invalid value encountered in log\n",
      "  logit = np.log(x_norm/(1-x_norm+1e-10)+1e-10)\n"
     ]
    },
    {
     "name": "stdout",
     "output_type": "stream",
     "text": [
      "Total events opp sign: 7690696\n",
      "Total events same sign: 460524\n",
      "{'SBL': 113431, 'SR': 36961, 'SBH': 182495}\n",
      "{'SBL': 8102, 'SR': 2795, 'SBH': 10818}\n",
      "\n",
      "SB bounds: 0.5559636906615684, 0.8195585903147223\n",
      "SR bounds: 0.6584302625329473, 0.6920168232121091\n"
     ]
    },
    {
     "name": "stderr",
     "output_type": "stream",
     "text": [
      "/global/u1/r/rmastand/dimuonAD/helpers/data_transforms.py:8: RuntimeWarning: invalid value encountered in log\n",
      "  logit = np.log(x_norm/(1-x_norm+1e-10)+1e-10)\n"
     ]
    },
    {
     "name": "stdout",
     "output_type": "stream",
     "text": [
      "Total events opp sign: 8031064\n",
      "Total events same sign: 482855\n",
      "{'SBL': 114199, 'SR': 38286, 'SBH': 187883}\n",
      "{'SBL': 8343, 'SR': 2840, 'SBH': 11148}\n",
      "\n",
      "SB bounds: 0.5671385608438658, 0.8360317179800482\n",
      "SR bounds: 0.6716647108098596, 0.7059263613586725\n",
      "Total events opp sign: 8378377\n",
      "Total events same sign: 505750\n",
      "{'SBL': 116370, 'SR': 39444, 'SBH': 191499}\n",
      "{'SBL': 8574, 'SR': 2900, 'SBH': 11421}\n",
      "\n",
      "SB bounds: 0.5785380459168274, 0.8528359555114471\n",
      "SR bounds: 0.6851651714971377, 0.7201154812219819\n",
      "Total events opp sign: 8732055\n",
      "Total events same sign: 529107\n",
      "{'SBL': 118856, 'SR': 40690, 'SBH': 194132}\n",
      "{'SBL': 8746, 'SR': 3033, 'SBH': 11578}\n",
      "\n",
      "SB bounds: 0.5901666606397558, 0.8699779582172271\n",
      "SR bounds: 0.6989369914442302, 0.7345898023945437\n",
      "Total events opp sign: 9092107\n",
      "Total events same sign: 553078\n",
      "{'SBL': 121655, 'SR': 42580, 'SBH': 195817}\n",
      "{'SBL': 9056, 'SR': 3104, 'SBH': 11811}\n",
      "\n",
      "SB bounds: 0.6020290105186149, 0.8874645151773934\n",
      "SR bounds: 0.7129856249722593, 0.7493550574226742\n",
      "Total events opp sign: 9458773\n",
      "Total events same sign: 577523\n",
      "{'SBL': 125113, 'SR': 44807, 'SBH': 196746}\n",
      "{'SBL': 9283, 'SR': 3134, 'SBH': 12028}\n",
      "\n",
      "SB bounds: 0.6141297936300391, 0.905302551932459\n",
      "SR bounds: 0.7273166360342017, 0.7644170940768699\n",
      "Total events opp sign: 9832311\n",
      "Total events same sign: 602544\n",
      "{'SBL': 128614, 'SR': 50102, 'SBH': 194822}\n",
      "{'SBL': 9480, 'SR': 3264, 'SBH': 12277}\n",
      "\n",
      "SB bounds: 0.6264738024820028, 0.9234991332263015\n",
      "SR bounds: 0.7419357004184892, 0.779781877667815\n",
      "Total events opp sign: 10212772\n",
      "Total events same sign: 628239\n",
      "{'SBL': 133117, 'SR': 62370, 'SBH': 184974}\n",
      "{'SBL': 9832, 'SR': 3311, 'SBH': 12552}\n",
      "\n",
      "SB bounds: 0.6390659259118912, 0.9420614658041502\n",
      "SR bounds: 0.7568486079969009, 0.7954554934089382\n",
      "Total events opp sign: 10600260\n",
      "Total events same sign: 654515\n",
      "{'SBL': 139353, 'SR': 74212, 'SBH': 173923}\n",
      "{'SBL': 10067, 'SR': 3385, 'SBH': 12824}\n",
      "\n",
      "SB bounds: 0.6519111510227201, 0.9609969012668136\n",
      "SR bounds: 0.7720612650176386, 0.8114441488264578\n",
      "Total events opp sign: 10995596\n",
      "Total events same sign: 681393\n",
      "{'SBL': 150813, 'SR': 72647, 'SBH': 171876}\n",
      "{'SBL': 10329, 'SR': 3481, 'SBH': 13068}\n",
      "\n",
      "SB bounds: 0.6650145651582768, 0.9803129389822764\n",
      "SR bounds: 0.7875796964444932, 0.8277541762178695\n",
      "Total events opp sign: 11399540\n",
      "Total events same sign: 708924\n",
      "{'SBL': 169710, 'SR': 58662, 'SBH': 175572}\n",
      "{'SBL': 10597, 'SR': 3570, 'SBH': 13364}\n",
      "\n",
      "SB bounds: 0.6783813579179582, 1.0000172290558202\n",
      "SR bounds: 0.8034100483430275, 0.8443920351598486\n",
      "Total events opp sign: 11817112\n",
      "Total events same sign: 737085\n",
      "{'SBL': 182495, 'SR': 50323, 'SBH': 184754}\n",
      "{'SBL': 10818, 'SR': 3663, 'SBH': 13680}\n",
      "\n",
      "SB bounds: 0.6920168232121091, 1.0201175753598424\n",
      "SR bounds: 0.8195585903147223, 0.8613643150665615\n",
      "Total events opp sign: 12270565\n",
      "Total events same sign: 765885\n",
      "{'SBL': 187883, 'SR': 48620, 'SBH': 216950}\n",
      "{'SBL': 11148, 'SR': 3595, 'SBH': 14057}\n",
      "\n",
      "SB bounds: 0.7059263613586725, 1.0406219386245752\n",
      "SR bounds: 0.8360317179800482, 0.8786777377993994\n"
     ]
    },
    {
     "name": "stderr",
     "output_type": "stream",
     "text": [
      "/global/u1/r/rmastand/dimuonAD/helpers/data_transforms.py:8: RuntimeWarning: invalid value encountered in log\n",
      "  logit = np.log(x_norm/(1-x_norm+1e-10)+1e-10)\n"
     ]
    },
    {
     "name": "stdout",
     "output_type": "stream",
     "text": [
      "Total events opp sign: 12758695\n",
      "Total events same sign: 795280\n",
      "{'SBL': 191499, 'SR': 48506, 'SBH': 248125}\n",
      "{'SBL': 11421, 'SR': 3645, 'SBH': 14329}\n",
      "\n",
      "SB bounds: 0.7201154812219819, 1.061538439590929\n",
      "SR bounds: 0.8528359555114471, 0.8963391603291674\n"
     ]
    },
    {
     "name": "stderr",
     "output_type": "stream",
     "text": [
      "/global/u1/r/rmastand/dimuonAD/helpers/data_transforms.py:8: RuntimeWarning: invalid value encountered in log\n",
      "  logit = np.log(x_norm/(1-x_norm+1e-10)+1e-10)\n"
     ]
    },
    {
     "name": "stdout",
     "output_type": "stream",
     "text": [
      "Total events opp sign: 13264466\n",
      "Total events same sign: 825333\n",
      "{'SBL': 194132, 'SR': 49313, 'SBH': 262326}\n",
      "{'SBL': 11578, 'SR': 3796, 'SBH': 14679}\n",
      "\n",
      "SB bounds: 0.7345898023945437, 1.0828753622267069\n",
      "SR bounds: 0.8699779582172271, 0.9143555774517836\n",
      "Total events opp sign: 13783869\n",
      "Total events same sign: 856032\n",
      "{'SBL': 195817, 'SR': 50107, 'SBH': 273479}\n",
      "{'SBL': 11811, 'SR': 3912, 'SBH': 14976}\n"
     ]
    },
    {
     "name": "stderr",
     "output_type": "stream",
     "text": [
      "/global/u1/r/rmastand/dimuonAD/helpers/data_transforms.py:8: RuntimeWarning: invalid value encountered in log\n",
      "  logit = np.log(x_norm/(1-x_norm+1e-10)+1e-10)\n"
     ]
    },
    {
     "name": "stdout",
     "output_type": "stream",
     "text": [
      "\n",
      "SB bounds: 0.7493550574226742, 1.1046411570074637\n",
      "SR bounds: 0.8874645151773934, 0.9327341245585645\n",
      "Total events opp sign: 14316275\n",
      "Total events same sign: 887374\n",
      "{'SBL': 196746, 'SR': 51236, 'SBH': 284424}\n",
      "{'SBL': 12028, 'SR': 4035, 'SBH': 15279}\n",
      "\n",
      "SB bounds: 0.7644170940768699, 1.1268444442633136\n",
      "SR bounds: 0.905302551932459, 0.9514820804621916\n"
     ]
    },
    {
     "name": "stderr",
     "output_type": "stream",
     "text": [
      "/global/u1/r/rmastand/dimuonAD/helpers/data_transforms.py:8: RuntimeWarning: invalid value encountered in log\n",
      "  logit = np.log(x_norm/(1-x_norm+1e-10)+1e-10)\n"
     ]
    },
    {
     "name": "stdout",
     "output_type": "stream",
     "text": [
      "Total events opp sign: 14858565\n",
      "Total events same sign: 919343\n",
      "{'SBL': 194822, 'SR': 52388, 'SBH': 295080}\n",
      "{'SBL': 12277, 'SR': 4084, 'SBH': 15608}\n",
      "\n",
      "SB bounds: 0.779781877667815, 1.1494940175930064\n",
      "SR bounds: 0.9234991332263015, 0.9706068702794817\n"
     ]
    },
    {
     "name": "stderr",
     "output_type": "stream",
     "text": [
      "/global/u1/r/rmastand/dimuonAD/helpers/data_transforms.py:8: RuntimeWarning: invalid value encountered in log\n",
      "  logit = np.log(x_norm/(1-x_norm+1e-10)+1e-10)\n"
     ]
    },
    {
     "name": "stdout",
     "output_type": "stream",
     "text": [
      "Total events opp sign: 15403122\n",
      "Total events same sign: 951933\n",
      "{'SBL': 184974, 'SR': 54602, 'SBH': 304981}\n",
      "{'SBL': 12552, 'SR': 4151, 'SBH': 15887}\n",
      "\n",
      "SB bounds: 0.7954554934089382, 1.1725988473466258\n",
      "SR bounds: 0.9420614658041502, 0.9901160683720992\n"
     ]
    },
    {
     "name": "stderr",
     "output_type": "stream",
     "text": [
      "/global/u1/r/rmastand/dimuonAD/helpers/data_transforms.py:8: RuntimeWarning: invalid value encountered in log\n",
      "  logit = np.log(x_norm/(1-x_norm+1e-10)+1e-10)\n"
     ]
    },
    {
     "name": "stdout",
     "output_type": "stream",
     "text": [
      "Total events opp sign: 15948681\n",
      "Total events same sign: 985201\n",
      "{'SBL': 173923, 'SR': 58169, 'SBH': 313467}\n",
      "{'SBL': 12824, 'SR': 4289, 'SBH': 16155}\n",
      "\n",
      "SB bounds: 0.8114441488264578, 1.196168084178293\n",
      "SR bounds: 0.9609969012668136, 1.0100174013463785\n"
     ]
    },
    {
     "name": "stderr",
     "output_type": "stream",
     "text": [
      "/global/u1/r/rmastand/dimuonAD/helpers/data_transforms.py:8: RuntimeWarning: invalid value encountered in log\n",
      "  logit = np.log(x_norm/(1-x_norm+1e-10)+1e-10)\n"
     ]
    },
    {
     "name": "stdout",
     "output_type": "stream",
     "text": [
      "Total events opp sign: 16504691\n",
      "Total events same sign: 1019124\n"
     ]
    },
    {
     "name": "stderr",
     "output_type": "stream",
     "text": [
      "/global/u1/r/rmastand/dimuonAD/helpers/data_transforms.py:8: RuntimeWarning: invalid value encountered in log\n",
      "  logit = np.log(x_norm/(1-x_norm+1e-10)+1e-10)\n"
     ]
    },
    {
     "name": "stdout",
     "output_type": "stream",
     "text": [
      "{'SBL': 171876, 'SR': 74386, 'SBH': 309748}\n",
      "{'SBL': 13068, 'SR': 4431, 'SBH': 16424}\n",
      "\n",
      "SB bounds: 0.8277541762178695, 1.2202110626702765\n",
      "SR bounds: 0.9803129389822764, 1.0303187511134408\n",
      "Total events opp sign: 17075634\n",
      "Total events same sign: 1053626\n",
      "{'SBL': 175572, 'SR': 108668, 'SBH': 286703}\n",
      "{'SBL': 13364, 'SR': 4450, 'SBH': 16688}\n",
      "\n",
      "SB bounds: 0.8443920351598486, 1.244737305029949\n",
      "SR bounds: 1.0000172290558202, 1.051028158010821\n"
     ]
    },
    {
     "name": "stderr",
     "output_type": "stream",
     "text": [
      "/global/u1/r/rmastand/dimuonAD/helpers/data_transforms.py:8: RuntimeWarning: invalid value encountered in log\n",
      "  logit = np.log(x_norm/(1-x_norm+1e-10)+1e-10)\n"
     ]
    },
    {
     "name": "stdout",
     "output_type": "stream",
     "text": [
      "Total events opp sign: 17662890\n",
      "Total events same sign: 1088796\n",
      "{'SBL': 184754, 'SR': 120401, 'SBH': 282101}\n",
      "{'SBL': 13680, 'SR': 4495, 'SBH': 16995}\n",
      "\n",
      "SB bounds: 0.8613643150665615, 1.269756524861051\n",
      "SR bounds: 1.0201175753598424, 1.0721538239868385\n"
     ]
    },
    {
     "name": "stderr",
     "output_type": "stream",
     "text": [
      "/global/u1/r/rmastand/dimuonAD/helpers/data_transforms.py:8: RuntimeWarning: invalid value encountered in log\n",
      "  logit = np.log(x_norm/(1-x_norm+1e-10)+1e-10)\n"
     ]
    },
    {
     "name": "stdout",
     "output_type": "stream",
     "text": [
      "Total events opp sign: 18267271\n",
      "Total events same sign: 1124685\n",
      "{'SBL': 216950, 'SR': 100829, 'SBH': 286602}\n",
      "{'SBL': 14057, 'SR': 4633, 'SBH': 17199}\n",
      "\n",
      "SB bounds: 0.8786777377993994, 1.295278631010758\n",
      "SR bounds: 1.0406219386245752, 1.093704115848974\n"
     ]
    },
    {
     "name": "stderr",
     "output_type": "stream",
     "text": [
      "/global/u1/r/rmastand/dimuonAD/helpers/data_transforms.py:8: RuntimeWarning: invalid value encountered in log\n",
      "  logit = np.log(x_norm/(1-x_norm+1e-10)+1e-10)\n"
     ]
    },
    {
     "name": "stdout",
     "output_type": "stream",
     "text": [
      "Total events opp sign: 18889817\n",
      "Total events same sign: 1161277\n",
      "{'SBL': 248125, 'SR': 81636, 'SBH': 292785}\n",
      "{'SBL': 14329, 'SR': 4768, 'SBH': 17495}\n",
      "\n",
      "SB bounds: 0.8963391603291674, 1.3213137314940742\n",
      "SR bounds: 1.061538439590929, 1.1156875685775383\n"
     ]
    },
    {
     "name": "stderr",
     "output_type": "stream",
     "text": [
      "/global/u1/r/rmastand/dimuonAD/helpers/data_transforms.py:8: RuntimeWarning: invalid value encountered in log\n",
      "  logit = np.log(x_norm/(1-x_norm+1e-10)+1e-10)\n"
     ]
    },
    {
     "name": "stdout",
     "output_type": "stream",
     "text": [
      "Total events opp sign: 19531200\n",
      "Total events same sign: 1198564\n",
      "{'SBL': 262326, 'SR': 78909, 'SBH': 300148}\n",
      "{'SBL': 14679, 'SR': 4875, 'SBH': 17733}\n",
      "\n",
      "SB bounds: 0.9143555774517836, 1.347872137497105\n",
      "SR bounds: 1.0828753622267069, 1.1381128887059468\n"
     ]
    },
    {
     "name": "stderr",
     "output_type": "stream",
     "text": [
      "/global/u1/r/rmastand/dimuonAD/helpers/data_transforms.py:8: RuntimeWarning: invalid value encountered in log\n",
      "  logit = np.log(x_norm/(1-x_norm+1e-10)+1e-10)\n",
      "/global/u1/r/rmastand/dimuonAD/helpers/data_transforms.py:8: RuntimeWarning: invalid value encountered in log\n",
      "  logit = np.log(x_norm/(1-x_norm+1e-10)+1e-10)\n"
     ]
    },
    {
     "name": "stdout",
     "output_type": "stream",
     "text": [
      "Total events opp sign: 20191833\n",
      "Total events same sign: 1236558\n",
      "{'SBL': 273479, 'SR': 79908, 'SBH': 307246}\n",
      "{'SBL': 14976, 'SR': 4880, 'SBH': 18138}\n",
      "\n",
      "SB bounds: 0.9327341245585645, 1.3749643674607968\n",
      "SR bounds: 1.1046411570074637, 1.1609889577689365\n",
      "Total events opp sign: 20872145\n",
      "Total events same sign: 1275375\n",
      "{'SBL': 284424, 'SR': 81172, 'SBH': 314716}\n",
      "{'SBL': 15279, 'SR': 4949, 'SBH': 18589}\n",
      "\n",
      "SB bounds: 0.9514820804621916, 1.4026011512467589\n",
      "SR bounds: 1.1268444442633136, 1.184324835820092\n"
     ]
    },
    {
     "name": "stderr",
     "output_type": "stream",
     "text": [
      "/global/u1/r/rmastand/dimuonAD/helpers/data_transforms.py:8: RuntimeWarning: invalid value encountered in log\n",
      "  logit = np.log(x_norm/(1-x_norm+1e-10)+1e-10)\n"
     ]
    },
    {
     "name": "stdout",
     "output_type": "stream",
     "text": [
      "Total events opp sign: 21572044\n",
      "Total events same sign: 1314994\n",
      "{'SBL': 295080, 'SR': 82907, 'SBH': 321912}\n",
      "{'SBL': 15608, 'SR': 5041, 'SBH': 18970}\n",
      "\n",
      "SB bounds: 0.9706068702794817, 1.4307934343868187\n",
      "SR bounds: 1.1494940175930064, 1.2081297650200757\n"
     ]
    },
    {
     "name": "stderr",
     "output_type": "stream",
     "text": [
      "/global/u1/r/rmastand/dimuonAD/helpers/data_transforms.py:8: RuntimeWarning: invalid value encountered in log\n",
      "  logit = np.log(x_norm/(1-x_norm+1e-10)+1e-10)\n"
     ]
    },
    {
     "name": "stdout",
     "output_type": "stream",
     "text": [
      "Total events opp sign: 22291352\n",
      "Total events same sign: 1355380\n"
     ]
    },
    {
     "name": "stderr",
     "output_type": "stream",
     "text": [
      "/global/u1/r/rmastand/dimuonAD/helpers/data_transforms.py:8: RuntimeWarning: invalid value encountered in log\n",
      "  logit = np.log(x_norm/(1-x_norm+1e-10)+1e-10)\n"
     ]
    },
    {
     "name": "stdout",
     "output_type": "stream",
     "text": [
      "{'SBL': 304981, 'SR': 84921, 'SBH': 329406}\n",
      "{'SBL': 15887, 'SR': 5074, 'SBH': 19425}\n",
      "\n",
      "SB bounds: 0.9901160683720992, 1.4595523824179937\n",
      "SR bounds: 1.1725988473466258, 1.2324131732969792\n",
      "Total events opp sign: 23029069\n",
      "Total events same sign: 1396544\n",
      "{'SBL': 313467, 'SR': 86864, 'SBH': 337386}\n",
      "{'SBL': 16155, 'SR': 5189, 'SBH': 19820}\n",
      "\n",
      "SB bounds: 1.0100174013463785, 1.4888893853045952\n",
      "SR bounds: 1.196168084178293, 1.2571846780802485\n"
     ]
    },
    {
     "name": "stderr",
     "output_type": "stream",
     "text": [
      "/global/u1/r/rmastand/dimuonAD/helpers/data_transforms.py:8: RuntimeWarning: invalid value encountered in log\n",
      "  logit = np.log(x_norm/(1-x_norm+1e-10)+1e-10)\n"
     ]
    },
    {
     "name": "stdout",
     "output_type": "stream",
     "text": [
      "Total events opp sign: 23772849\n",
      "Total events same sign: 1438536\n",
      "{'SBL': 309748, 'SR': 88621, 'SBH': 345411}\n",
      "{'SBL': 16424, 'SR': 5185, 'SBH': 20383}\n",
      "\n",
      "SB bounds: 1.0303187511134408, 1.5188160619492177\n",
      "SR bounds: 1.2202110626702765, 1.2824540901096615\n"
     ]
    },
    {
     "name": "stderr",
     "output_type": "stream",
     "text": [
      "/global/u1/r/rmastand/dimuonAD/helpers/data_transforms.py:8: RuntimeWarning: invalid value encountered in log\n",
      "  logit = np.log(x_norm/(1-x_norm+1e-10)+1e-10)\n"
     ]
    },
    {
     "name": "stdout",
     "output_type": "stream",
     "text": [
      "Total events opp sign: 24503766\n",
      "Total events same sign: 1481388\n",
      "{'SBL': 286703, 'SR': 91134, 'SBH': 353080}\n",
      "{'SBL': 16688, 'SR': 5309, 'SBH': 20855}\n",
      "\n",
      "SB bounds: 1.051028158010821, 1.549344264794397\n",
      "SR bounds: 1.244737305029949, 1.3082314173208656\n"
     ]
    },
    {
     "name": "stderr",
     "output_type": "stream",
     "text": [
      "/global/u1/r/rmastand/dimuonAD/helpers/data_transforms.py:8: RuntimeWarning: invalid value encountered in log\n",
      "  logit = np.log(x_norm/(1-x_norm+1e-10)+1e-10)\n"
     ]
    },
    {
     "name": "stdout",
     "output_type": "stream",
     "text": [
      "Total events opp sign: 25240027\n",
      "Total events same sign: 1525059\n",
      "{'SBL': 282101, 'SR': 93694, 'SBH': 360466}\n",
      "{'SBL': 16995, 'SR': 5474, 'SBH': 21202}\n",
      "\n",
      "SB bounds: 1.0721538239868385, 1.5804860845167643\n",
      "SR bounds: 1.269756524861051, 1.3345268688090148\n"
     ]
    },
    {
     "name": "stderr",
     "output_type": "stream",
     "text": [
      "/global/u1/r/rmastand/dimuonAD/helpers/data_transforms.py:8: RuntimeWarning: invalid value encountered in log\n",
      "  logit = np.log(x_norm/(1-x_norm+1e-10)+1e-10)\n"
     ]
    },
    {
     "name": "stdout",
     "output_type": "stream",
     "text": [
      "Total events opp sign: 25991024\n",
      "Total events same sign: 1569472\n",
      "{'SBL': 286602, 'SR': 96253, 'SBH': 368142}\n",
      "{'SBL': 17199, 'SR': 5619, 'SBH': 21595}\n",
      "\n",
      "SB bounds: 1.093704115848974, 1.6122538548155514\n",
      "SR bounds: 1.295278631010758, 1.361350858872076\n"
     ]
    },
    {
     "name": "stderr",
     "output_type": "stream",
     "text": [
      "/global/u1/r/rmastand/dimuonAD/helpers/data_transforms.py:8: RuntimeWarning: invalid value encountered in log\n",
      "  logit = np.log(x_norm/(1-x_norm+1e-10)+1e-10)\n"
     ]
    },
    {
     "name": "stdout",
     "output_type": "stream",
     "text": [
      "Total events opp sign: 26758071\n",
      "Total events same sign: 1614777\n",
      "{'SBL': 292785, 'SR': 98634, 'SBH': 375628}\n",
      "{'SBL': 17495, 'SR': 5768, 'SBH': 22042}\n"
     ]
    },
    {
     "name": "stderr",
     "output_type": "stream",
     "text": [
      "/global/u1/r/rmastand/dimuonAD/helpers/data_transforms.py:8: RuntimeWarning: invalid value encountered in log\n",
      "  logit = np.log(x_norm/(1-x_norm+1e-10)+1e-10)\n"
     ]
    },
    {
     "name": "stdout",
     "output_type": "stream",
     "text": [
      "\n",
      "SB bounds: 1.1156875685775383, 1.644660157297344\n",
      "SR bounds: 1.3213137314940742, 1.3887140111354048\n",
      "Total events opp sign: 27541786\n",
      "Total events same sign: 1660920\n",
      "{'SBL': 300148, 'SR': 100264, 'SBH': 383303}\n",
      "{'SBL': 17733, 'SR': 5990, 'SBH': 22420}\n",
      "\n",
      "SB bounds: 1.1381128887059468, 1.6777178264590207\n",
      "SR bounds: 1.347872137497105, 1.4166271627592264\n"
     ]
    },
    {
     "name": "stderr",
     "output_type": "stream",
     "text": [
      "/global/u1/r/rmastand/dimuonAD/helpers/data_transforms.py:8: RuntimeWarning: invalid value encountered in log\n",
      "  logit = np.log(x_norm/(1-x_norm+1e-10)+1e-10)\n"
     ]
    },
    {
     "name": "stdout",
     "output_type": "stream",
     "text": [
      "Total events opp sign: 28342256\n",
      "Total events same sign: 1708158\n",
      "{'SBL': 307246, 'SR': 102461, 'SBH': 390763}\n",
      "{'SBL': 18138, 'SR': 6113, 'SBH': 22987}\n",
      "\n",
      "SB bounds: 1.1609889577689365, 1.711439954770847\n",
      "SR bounds: 1.3749643674607968, 1.4451013687306868\n"
     ]
    },
    {
     "name": "stderr",
     "output_type": "stream",
     "text": [
      "/global/u1/r/rmastand/dimuonAD/helpers/data_transforms.py:8: RuntimeWarning: invalid value encountered in log\n",
      "  logit = np.log(x_norm/(1-x_norm+1e-10)+1e-10)\n"
     ]
    },
    {
     "name": "stdout",
     "output_type": "stream",
     "text": [
      "Total events opp sign: 29159348\n",
      "Total events same sign: 1756438\n",
      "{'SBL': 314716, 'SR': 104618, 'SBH': 397758}\n",
      "{'SBL': 18589, 'SR': 6161, 'SBH': 23530}\n",
      "\n",
      "SB bounds: 1.184324835820092, 1.745839897861741\n",
      "SR bounds: 1.4026011512467589, 1.4741479062421736\n"
     ]
    },
    {
     "name": "stderr",
     "output_type": "stream",
     "text": [
      "/global/u1/r/rmastand/dimuonAD/helpers/data_transforms.py:8: RuntimeWarning: invalid value encountered in log\n",
      "  logit = np.log(x_norm/(1-x_norm+1e-10)+1e-10)\n"
     ]
    },
    {
     "name": "stdout",
     "output_type": "stream",
     "text": [
      "Total events opp sign: 29993089\n",
      "Total events same sign: 1805738\n",
      "{'SBL': 321912, 'SR': 107243, 'SBH': 404586}\n",
      "{'SBL': 18970, 'SR': 6297, 'SBH': 24033}\n",
      "\n",
      "SB bounds: 1.2081297650200757, 1.7809312798087622\n",
      "SR bounds: 1.4307934343868187, 1.5037782791576413\n"
     ]
    },
    {
     "name": "stderr",
     "output_type": "stream",
     "text": [
      "/global/u1/r/rmastand/dimuonAD/helpers/data_transforms.py:8: RuntimeWarning: invalid value encountered in log\n",
      "  logit = np.log(x_norm/(1-x_norm+1e-10)+1e-10)\n"
     ]
    },
    {
     "name": "stdout",
     "output_type": "stream",
     "text": [
      "Total events opp sign: 30843488\n",
      "Total events same sign: 1856099\n",
      "{'SBL': 329406, 'SR': 109802, 'SBH': 411191}\n",
      "{'SBL': 19425, 'SR': 6490, 'SBH': 24446}\n"
     ]
    },
    {
     "name": "stderr",
     "output_type": "stream",
     "text": [
      "/global/u1/r/rmastand/dimuonAD/helpers/data_transforms.py:8: RuntimeWarning: invalid value encountered in log\n",
      "  logit = np.log(x_norm/(1-x_norm+1e-10)+1e-10)\n"
     ]
    },
    {
     "name": "stdout",
     "output_type": "stream",
     "text": [
      "\n",
      "SB bounds: 1.2324131732969792, 1.8167279985329183\n",
      "SR bounds: 1.4595523824179937, 1.5340042225687098\n",
      "Total events opp sign: 31711491\n",
      "Total events same sign: 1907491\n",
      "{'SBL': 337386, 'SR': 111798, 'SBH': 418819}\n",
      "{'SBL': 19820, 'SR': 6569, 'SBH': 25003}\n",
      "\n",
      "SB bounds: 1.2571846780802485, 1.85324423130343\n",
      "SR bounds: 1.4888893853045952, 1.564837707442341\n"
     ]
    },
    {
     "name": "stderr",
     "output_type": "stream",
     "text": [
      "/global/u1/r/rmastand/dimuonAD/helpers/data_transforms.py:8: RuntimeWarning: invalid value encountered in log\n",
      "  logit = np.log(x_norm/(1-x_norm+1e-10)+1e-10)\n"
     ]
    },
    {
     "name": "stdout",
     "output_type": "stream",
     "text": [
      "Total events opp sign: 32596380\n",
      "Total events same sign: 1959988\n",
      "{'SBL': 345411, 'SR': 113870, 'SBH': 425608}\n",
      "{'SBL': 20383, 'SR': 6566, 'SBH': 25548}\n"
     ]
    },
    {
     "name": "stderr",
     "output_type": "stream",
     "text": [
      "/global/u1/r/rmastand/dimuonAD/helpers/data_transforms.py:8: RuntimeWarning: invalid value encountered in log\n",
      "  logit = np.log(x_norm/(1-x_norm+1e-10)+1e-10)\n"
     ]
    },
    {
     "name": "stdout",
     "output_type": "stream",
     "text": [
      "\n",
      "SB bounds: 1.2824540901096615, 1.890494440352629\n",
      "SR bounds: 1.5188160619492177, 1.596290945361932\n",
      "Total events opp sign: 33497368\n",
      "Total events same sign: 2013529\n",
      "{'SBL': 353080, 'SR': 116011, 'SBH': 431897}\n",
      "{'SBL': 20855, 'SR': 6727, 'SBH': 25959}\n"
     ]
    },
    {
     "name": "stderr",
     "output_type": "stream",
     "text": [
      "/global/u1/r/rmastand/dimuonAD/helpers/data_transforms.py:8: RuntimeWarning: invalid value encountered in log\n",
      "  logit = np.log(x_norm/(1-x_norm+1e-10)+1e-10)\n"
     ]
    },
    {
     "name": "stdout",
     "output_type": "stream",
     "text": [
      "\n",
      "SB bounds: 1.3082314173208656, 1.9284933786037168\n",
      "SR bounds: 1.549344264794397, 1.628376393363707\n",
      "Total events opp sign: 34414626\n",
      "Total events same sign: 2068049\n"
     ]
    },
    {
     "name": "stderr",
     "output_type": "stream",
     "text": [
      "/global/u1/r/rmastand/dimuonAD/helpers/data_transforms.py:8: RuntimeWarning: invalid value encountered in log\n",
      "  logit = np.log(x_norm/(1-x_norm+1e-10)+1e-10)\n"
     ]
    },
    {
     "name": "stdout",
     "output_type": "stream",
     "text": [
      "{'SBL': 360466, 'SR': 118362, 'SBH': 438430}\n",
      "{'SBL': 21202, 'SR': 6858, 'SBH': 26460}\n",
      "\n",
      "SB bounds: 1.3345268688090148, 1.9672560955136515\n",
      "SR bounds: 1.5804860845167643, 1.6611067588703174\n",
      "Total events opp sign: 35347720\n",
      "Total events same sign: 2123652\n"
     ]
    },
    {
     "name": "stderr",
     "output_type": "stream",
     "text": [
      "/global/u1/r/rmastand/dimuonAD/helpers/data_transforms.py:8: RuntimeWarning: invalid value encountered in log\n",
      "  logit = np.log(x_norm/(1-x_norm+1e-10)+1e-10)\n"
     ]
    },
    {
     "name": "stdout",
     "output_type": "stream",
     "text": [
      "{'SBL': 368142, 'SR': 120117, 'SBH': 444835}\n",
      "{'SBL': 21595, 'SR': 7123, 'SBH': 26885}\n",
      "\n",
      "SB bounds: 1.361350858872076, 2.006797943033476\n",
      "SR bounds: 1.6122538548155514, 1.694495004723611\n",
      "Total events opp sign: 36296318\n",
      "Total events same sign: 2180419\n",
      "{'SBL': 375628, 'SR': 122228, 'SBH': 450742}\n",
      "{'SBL': 22042, 'SR': 7377, 'SBH': 27348}\n"
     ]
    },
    {
     "name": "stderr",
     "output_type": "stream",
     "text": [
      "/global/u1/r/rmastand/dimuonAD/helpers/data_transforms.py:8: RuntimeWarning: invalid value encountered in log\n",
      "  logit = np.log(x_norm/(1-x_norm+1e-10)+1e-10)\n"
     ]
    },
    {
     "name": "stdout",
     "output_type": "stream",
     "text": [
      "\n",
      "SB bounds: 1.3887140111354048, 2.0471345816884488\n",
      "SR bounds: 1.644660157297344, 1.7285543543185555\n",
      "Total events opp sign: 37260335\n",
      "Total events same sign: 2238130\n",
      "{'SBL': 383303, 'SR': 123863, 'SBH': 456851}\n",
      "{'SBL': 22420, 'SR': 7592, 'SBH': 27699}\n"
     ]
    },
    {
     "name": "stderr",
     "output_type": "stream",
     "text": [
      "/global/u1/r/rmastand/dimuonAD/helpers/data_transforms.py:8: RuntimeWarning: invalid value encountered in log\n",
      "  logit = np.log(x_norm/(1-x_norm+1e-10)+1e-10)\n"
     ]
    },
    {
     "name": "stdout",
     "output_type": "stream",
     "text": [
      "\n",
      "SB bounds: 1.4166271627592264, 2.0882819867803866\n",
      "SR bounds: 1.6777178264590207, 1.7632982968403585\n",
      "Total events opp sign: 38238988\n",
      "Total events same sign: 2296852\n",
      "{'SBL': 390763, 'SR': 125367, 'SBH': 462523}\n",
      "{'SBL': 22987, 'SR': 7609, 'SBH': 28126}\n"
     ]
    },
    {
     "name": "stderr",
     "output_type": "stream",
     "text": [
      "/global/u1/r/rmastand/dimuonAD/helpers/data_transforms.py:8: RuntimeWarning: invalid value encountered in log\n",
      "  logit = np.log(x_norm/(1-x_norm+1e-10)+1e-10)\n"
     ]
    },
    {
     "name": "stdout",
     "output_type": "stream",
     "text": [
      "\n",
      "SB bounds: 1.4451013687306868, 2.1302564547146723\n",
      "SR bounds: 1.711439954770847, 1.7987405926068498\n",
      "Total events opp sign: 39231728\n",
      "Total events same sign: 2356645\n",
      "{'SBL': 397758, 'SR': 128100, 'SBH': 466882}\n",
      "{'SBL': 23530, 'SR': 7716, 'SBH': 28547}\n"
     ]
    },
    {
     "name": "stderr",
     "output_type": "stream",
     "text": [
      "/global/u1/r/rmastand/dimuonAD/helpers/data_transforms.py:8: RuntimeWarning: invalid value encountered in log\n",
      "  logit = np.log(x_norm/(1-x_norm+1e-10)+1e-10)\n"
     ]
    },
    {
     "name": "stdout",
     "output_type": "stream",
     "text": [
      "\n",
      "SB bounds: 1.4741479062421736, 2.1730746094544373\n",
      "SR bounds: 1.745839897861741, 1.8348952785182475\n",
      "Total events opp sign: 40237390\n",
      "Total events same sign: 2417447\n",
      "{'SBL': 404586, 'SR': 130428, 'SBH': 470648}\n",
      "{'SBL': 24033, 'SR': 7818, 'SBH': 28951}\n"
     ]
    },
    {
     "name": "stderr",
     "output_type": "stream",
     "text": [
      "/global/u1/r/rmastand/dimuonAD/helpers/data_transforms.py:8: RuntimeWarning: invalid value encountered in log\n",
      "  logit = np.log(x_norm/(1-x_norm+1e-10)+1e-10)\n"
     ]
    },
    {
     "name": "stdout",
     "output_type": "stream",
     "text": [
      "\n",
      "SB bounds: 1.5037782791576413, 2.2167534091044714\n",
      "SR bounds: 1.7809312798087622, 1.8717766736164643\n",
      "Total events opp sign: 41254636\n",
      "Total events same sign: 2479157\n",
      "{'SBL': 411191, 'SR': 132517, 'SBH': 473538}\n",
      "{'SBL': 24446, 'SR': 7875, 'SBH': 29389}\n"
     ]
    },
    {
     "name": "stderr",
     "output_type": "stream",
     "text": [
      "/global/u1/r/rmastand/dimuonAD/helpers/data_transforms.py:8: RuntimeWarning: invalid value encountered in log\n",
      "  logit = np.log(x_norm/(1-x_norm+1e-10)+1e-10)\n"
     ]
    },
    {
     "name": "stdout",
     "output_type": "stream",
     "text": [
      "\n",
      "SB bounds: 1.5340042225687098, 2.2613101526274715\n",
      "SR bounds: 1.8167279985329183, 1.9093993847561552\n",
      "Total events opp sign: 42283598\n",
      "Total events same sign: 2541985\n",
      "{'SBL': 418819, 'SR': 133843, 'SBH': 476300}\n",
      "{'SBL': 25003, 'SR': 7979, 'SBH': 29846}\n"
     ]
    },
    {
     "name": "stderr",
     "output_type": "stream",
     "text": [
      "/global/u1/r/rmastand/dimuonAD/helpers/data_transforms.py:8: RuntimeWarning: invalid value encountered in log\n",
      "  logit = np.log(x_norm/(1-x_norm+1e-10)+1e-10)\n"
     ]
    },
    {
     "name": "stdout",
     "output_type": "stream",
     "text": [
      "\n",
      "SB bounds: 1.564837707442341, 2.3067624866952836\n",
      "SR bounds: 1.85324423130343, 1.947778312389754\n",
      "Total events opp sign: 43322321\n",
      "Total events same sign: 2605943\n",
      "{'SBL': 425608, 'SR': 135245, 'SBH': 477870}\n",
      "{'SBL': 25548, 'SR': 8114, 'SBH': 30296}\n"
     ]
    },
    {
     "name": "stderr",
     "output_type": "stream",
     "text": [
      "/global/u1/r/rmastand/dimuonAD/helpers/data_transforms.py:8: RuntimeWarning: invalid value encountered in log\n",
      "  logit = np.log(x_norm/(1-x_norm+1e-10)+1e-10)\n"
     ]
    },
    {
     "name": "stdout",
     "output_type": "stream",
     "text": [
      "\n",
      "SB bounds: 1.596290945361932, 2.353128412677859\n",
      "SR bounds: 1.890494440352629, 1.986928656468788\n",
      "Total events opp sign: 44369677\n",
      "Total events same sign: 2670884\n",
      "{'SBL': 431897, 'SR': 137206, 'SBH': 478253}\n",
      "{'SBL': 25959, 'SR': 8441, 'SBH': 30541}\n"
     ]
    },
    {
     "name": "stderr",
     "output_type": "stream",
     "text": [
      "/global/u1/r/rmastand/dimuonAD/helpers/data_transforms.py:8: RuntimeWarning: invalid value encountered in log\n",
      "  logit = np.log(x_norm/(1-x_norm+1e-10)+1e-10)\n",
      "/global/u1/r/rmastand/dimuonAD/helpers/data_transforms.py:8: RuntimeWarning: invalid value encountered in log\n",
      "  logit = np.log(x_norm/(1-x_norm+1e-10)+1e-10)\n"
     ]
    },
    {
     "name": "stdout",
     "output_type": "stream",
     "text": [
      "\n",
      "SB bounds: 1.628376393363707, 2.400426293772684\n",
      "SR bounds: 1.9284933786037168, 2.0268659224638106\n",
      "Total events opp sign: 45424558\n",
      "Total events same sign: 2736925\n",
      "{'SBL': 438430, 'SR': 138596, 'SBH': 477855}\n",
      "{'SBL': 26460, 'SR': 8634, 'SBH': 30947}\n",
      "\n",
      "SB bounds: 1.6611067588703174, 2.4486748622775147\n",
      "SR bounds: 1.9672560955136515, 2.0676059275053333\n",
      "Total events opp sign: 46485804\n",
      "Total events same sign: 2803940\n",
      "{'SBL': 444835, 'SR': 139603, 'SBH': 476808}\n",
      "{'SBL': 26885, 'SR': 8624, 'SBH': 31506}\n",
      "\n",
      "SB bounds: 1.694495004723611, 2.497893227009293\n",
      "SR bounds: 2.006797943033476, 2.1091648066481903\n",
      "Total events opp sign: 47550680\n",
      "Total events same sign: 2871858\n",
      "{'SBL': 450742, 'SR': 140581, 'SBH': 473553}\n",
      "{'SBL': 27348, 'SR': 8657, 'SBH': 31913}\n",
      "\n",
      "SB bounds: 1.7285543543185555, 2.54810088087218\n",
      "SR bounds: 2.0471345816884488, 2.151559019261819\n",
      "Total events opp sign: 48618244\n",
      "Total events same sign: 2940583\n",
      "{'SBL': 456851, 'SR': 141418, 'SBH': 469295}\n",
      "{'SBL': 27699, 'SR': 8806, 'SBH': 32220}\n",
      "\n",
      "SB bounds: 1.7632982968403585, 2.599317708577711\n",
      "SR bounds: 2.0882819867803866, 2.1948053555489815\n",
      "Total events opp sign: 49686774\n",
      "Total events same sign: 3010363\n",
      "{'SBL': 462523, 'SR': 141308, 'SBH': 464699}\n",
      "{'SBL': 28126, 'SR': 8913, 'SBH': 32741}\n",
      "\n",
      "SB bounds: 1.7987405926068498, 2.651563994520123\n",
      "SR bounds: 2.1302564547146723, 2.238920943195516\n",
      "Total events opp sign: 50753386\n",
      "Total events same sign: 3080973\n",
      "{'SBL': 466882, 'SR': 140947, 'SBH': 458783}\n",
      "{'SBL': 28547, 'SR': 8997, 'SBH': 33066}\n",
      "\n",
      "SB bounds: 1.8348952785182475, 2.7048604308099775\n",
      "SR bounds: 2.1730746094544373, 2.283923254153746\n",
      "Total events opp sign: 51816887\n",
      "Total events same sign: 3152483\n",
      "{'SBL': 470648, 'SR': 140909, 'SBH': 451944}\n",
      "{'SBL': 28951, 'SR': 9163, 'SBH': 33396}\n",
      "\n",
      "SB bounds: 1.8717766736164643, 2.759228125469258\n",
      "SR bounds: 2.2167534091044714, 2.3298301115622366\n",
      "Total events opp sign: 52875526\n",
      "Total events same sign: 3224848\n",
      "{'SBL': 473538, 'SR': 140646, 'SBH': 444455}\n",
      "{'SBL': 29389, 'SR': 9389, 'SBH': 33587}\n",
      "\n",
      "SB bounds: 1.9093993847561552, 2.81468861079119\n",
      "SR bounds: 2.2613101526274715, 2.3766596968046376\n",
      "Total events opp sign: 53927593\n",
      "Total events same sign: 3298038\n",
      "{'SBL': 476300, 'SR': 139548, 'SBH': 436219}\n",
      "{'SBL': 29846, 'SR': 9518, 'SBH': 33826}\n",
      "\n",
      "SB bounds: 1.947778312389754, 2.871263851868093\n",
      "SR bounds: 2.3067624866952836, 2.4244305567104107\n",
      "Total events opp sign: 54973113\n",
      "Total events same sign: 3372125\n",
      "{'SBL': 477870, 'SR': 138821, 'SBH': 428829}\n",
      "{'SBL': 30296, 'SR': 9605, 'SBH': 34186}\n",
      "\n",
      "SB bounds: 1.986928656468788, 2.9289762552906415\n",
      "SR bounds: 2.353128412677859, 2.47316161090029\n",
      "Total events opp sign: 56013147\n",
      "Total events same sign: 3446761\n",
      "{'SBL': 478253, 'SR': 137406, 'SBH': 424375}\n",
      "{'SBL': 30541, 'SR': 9685, 'SBH': 34410}\n",
      "\n",
      "SB bounds: 2.0268659224638106, 2.9878486780219835\n",
      "SR bounds: 2.400426293772684, 2.522872159279386\n",
      "Total events opp sign: 57062120\n",
      "Total events same sign: 3522036\n",
      "{'SBL': 477855, 'SR': 134570, 'SBH': 436548}\n",
      "{'SBL': 30947, 'SR': 9802, 'SBH': 34526}\n",
      "\n",
      "SB bounds: 2.0676059275053333, 3.0479044364502252\n",
      "SR bounds: 2.4486748622775147, 2.5735818896809017\n",
      "Total events opp sign: 58246838\n",
      "Total events same sign: 3598153\n",
      "{'SBL': 476808, 'SR': 132041, 'SBH': 575869}\n",
      "{'SBL': 31506, 'SR': 9887, 'SBH': 34724}\n",
      "\n",
      "SB bounds: 2.1091648066481903, 3.1091673156228747\n",
      "SR bounds: 2.497893227009293, 2.625310885663488\n",
      "Total events opp sign: 60230432\n",
      "Total events same sign: 3674905\n",
      "{'SBL': 473553, 'SR': 129558, 'SBH': 1380483}\n",
      "{'SBL': 31913, 'SR': 9976, 'SBH': 34863}\n",
      "\n",
      "SB bounds: 2.151559019261819, 3.1716615786668947\n",
      "SR bounds: 2.54810088087218, 2.678079634465324\n",
      "Total events opp sign: 62592099\n",
      "Total events same sign: 3752369\n",
      "{'SBL': 469295, 'SR': 127165, 'SBH': 1765207}\n",
      "{'SBL': 32220, 'SR': 10102, 'SBH': 35142}\n",
      "\n",
      "SB bounds: 2.1948053555489815, 3.2354119763980993\n",
      "SR bounds: 2.599317708577711, 2.7319090351180773\n",
      "Total events opp sign: 64962712\n",
      "Total events same sign: 3830627\n",
      "{'SBL': 464699, 'SR': 124411, 'SBH': 1781503}\n",
      "{'SBL': 32741, 'SR': 10043, 'SBH': 35474}\n",
      "\n",
      "SB bounds: 2.238920943195516, 3.300443757123701\n",
      "SR bounds: 2.651563994520123, 2.7868204067239506\n",
      "Total events opp sign: 67308439\n",
      "Total events same sign: 3909701\n",
      "{'SBL': 458783, 'SR': 121947, 'SBH': 1764997}\n",
      "{'SBL': 33066, 'SR': 10060, 'SBH': 35948}\n",
      "\n",
      "SB bounds: 2.283923254153746, 3.3667826766418876\n",
      "SR bounds: 2.7048604308099775, 2.842835496899102\n",
      "Total events opp sign: 69623302\n",
      "Total events same sign: 3989389\n",
      "{'SBL': 451944, 'SR': 119781, 'SBH': 1743138}\n",
      "{'SBL': 33396, 'SR': 10198, 'SBH': 36094}\n",
      "\n",
      "SB bounds: 2.3298301115622366, 3.4344550084423893\n",
      "SR bounds: 2.759228125469258, 2.899976490386774\n",
      "Total events opp sign: 71905514\n",
      "Total events same sign: 4069728\n",
      "{'SBL': 444455, 'SR': 119737, 'SBH': 1718020}\n",
      "{'SBL': 33587, 'SR': 10321, 'SBH': 36431}\n",
      "\n",
      "SB bounds: 2.3766596968046376, 3.503487554112081\n",
      "SR bounds: 2.81468861079119, 2.958266017843548\n",
      "Total events opp sign: 74153880\n",
      "Total events same sign: 4150662\n",
      "{'SBL': 436219, 'SR': 126302, 'SBH': 1685845}\n",
      "{'SBL': 33826, 'SR': 10294, 'SBH': 36814}\n",
      "\n",
      "SB bounds: 2.4244305567104107, 3.573907653949734\n",
      "SR bounds: 2.871263851868093, 3.0177271648022033\n",
      "Total events opp sign: 76368413\n",
      "Total events same sign: 4232316\n"
     ]
    },
    {
     "name": "stderr",
     "output_type": "stream",
     "text": [
      "/global/u1/r/rmastand/dimuonAD/helpers/data_transforms.py:8: RuntimeWarning: invalid value encountered in log\n",
      "  logit = np.log(x_norm/(1-x_norm+1e-10)+1e-10)\n"
     ]
    },
    {
     "name": "stdout",
     "output_type": "stream",
     "text": [
      "{'SBL': 428829, 'SR': 174687, 'SBH': 1611017}\n",
      "{'SBL': 34186, 'SR': 10273, 'SBH': 37195}\n",
      "\n",
      "SB bounds: 2.47316161090029, 3.6457431977941237\n",
      "SR bounds: 2.9289762552906415, 3.0783834808147277\n",
      "Total events opp sign: 78560349\n",
      "Total events same sign: 4314577\n",
      "{'SBL': 424375, 'SR': 585594, 'SBH': 1181967}\n",
      "{'SBL': 34410, 'SR': 10412, 'SBH': 37439}\n",
      "\n",
      "SB bounds: 2.522872159279386, 3.7190226360697856\n",
      "SR bounds: 2.9878486780219835, 3.1402589887791037\n",
      "Total events opp sign: 80763596\n",
      "Total events same sign: 4397477\n"
     ]
    },
    {
     "name": "stderr",
     "output_type": "stream",
     "text": [
      "/global/u1/r/rmastand/dimuonAD/helpers/data_transforms.py:8: RuntimeWarning: invalid value encountered in log\n",
      "  logit = np.log(x_norm/(1-x_norm+1e-10)+1e-10)\n"
     ]
    },
    {
     "name": "stdout",
     "output_type": "stream",
     "text": [
      "{'SBL': 436548, 'SR': 1370660, 'SBH': 396039}\n",
      "{'SBL': 34526, 'SR': 10523, 'SBH': 37851}\n",
      "\n",
      "SB bounds: 2.5735818896809017, 3.7937749910547884\n",
      "SR bounds: 3.0479044364502252, 3.2033781944535638\n",
      "Total events opp sign: 82942570\n",
      "Total events same sign: 4481210\n"
     ]
    },
    {
     "name": "stderr",
     "output_type": "stream",
     "text": [
      "/global/u1/r/rmastand/dimuonAD/helpers/data_transforms.py:8: RuntimeWarning: invalid value encountered in log\n",
      "  logit = np.log(x_norm/(1-x_norm+1e-10)+1e-10)\n"
     ]
    },
    {
     "name": "stdout",
     "output_type": "stream",
     "text": [
      "{'SBL': 575869, 'SR': 1332732, 'SBH': 270373}\n",
      "{'SBL': 34724, 'SR': 10612, 'SBH': 38397}\n",
      "\n",
      "SB bounds: 2.625310885663488, 3.8700298683749894\n",
      "SR bounds: 3.1091673156228747, 3.2677660961620805\n",
      "Total events opp sign: 85092203\n",
      "Total events same sign: 4568011\n"
     ]
    },
    {
     "name": "stderr",
     "output_type": "stream",
     "text": [
      "/global/u1/r/rmastand/dimuonAD/helpers/data_transforms.py:8: RuntimeWarning: invalid value encountered in log\n",
      "  logit = np.log(x_norm/(1-x_norm+1e-10)+1e-10)\n"
     ]
    },
    {
     "name": "stdout",
     "output_type": "stream",
     "text": [
      "{'SBL': 1380483, 'SR': 516941, 'SBH': 252209}\n",
      "{'SBL': 34863, 'SR': 10848, 'SBH': 41090}\n",
      "\n",
      "SB bounds: 2.678079634465324, 3.9478174687293266\n",
      "SR bounds: 3.1716615786668947, 3.333448194694938\n",
      "Total events opp sign: 87212566\n",
      "Total events same sign: 4658856\n"
     ]
    },
    {
     "name": "stderr",
     "output_type": "stream",
     "text": [
      "/global/u1/r/rmastand/dimuonAD/helpers/data_transforms.py:8: RuntimeWarning: invalid value encountered in log\n",
      "  logit = np.log(x_norm/(1-x_norm+1e-10)+1e-10)\n"
     ]
    },
    {
     "name": "stdout",
     "output_type": "stream",
     "text": [
      "{'SBL': 1765207, 'SR': 109803, 'SBH': 245353}\n",
      "{'SBL': 35142, 'SR': 11011, 'SBH': 44692}\n",
      "\n",
      "SB bounds: 2.7319090351180773, 4.0271685998507865\n",
      "SR bounds: 3.2354119763980993, 3.4004505034083063\n",
      "Total events opp sign: 89304499\n",
      "Total events same sign: 4753873\n"
     ]
    },
    {
     "name": "stderr",
     "output_type": "stream",
     "text": [
      "/global/u1/r/rmastand/dimuonAD/helpers/data_transforms.py:8: RuntimeWarning: invalid value encountered in log\n",
      "  logit = np.log(x_norm/(1-x_norm+1e-10)+1e-10)\n",
      "/global/u1/r/rmastand/dimuonAD/helpers/data_transforms.py:8: RuntimeWarning: invalid value encountered in log\n",
      "  logit = np.log(x_norm/(1-x_norm+1e-10)+1e-10)\n"
     ]
    },
    {
     "name": "stdout",
     "output_type": "stream",
     "text": [
      "{'SBL': 1781503, 'SR': 69041, 'SBH': 241389}\n",
      "{'SBL': 35474, 'SR': 11073, 'SBH': 48470}\n",
      "\n",
      "SB bounds: 2.7868204067239506, 4.108114688707787\n",
      "SR bounds: 3.300443757123701, 3.468799558526813\n",
      "Total events opp sign: 91368032\n",
      "Total events same sign: 4853298\n"
     ]
    },
    {
     "name": "stderr",
     "output_type": "stream",
     "text": [
      "/global/u1/r/rmastand/dimuonAD/helpers/data_transforms.py:8: RuntimeWarning: invalid value encountered in log\n",
      "  logit = np.log(x_norm/(1-x_norm+1e-10)+1e-10)\n"
     ]
    },
    {
     "name": "stdout",
     "output_type": "stream",
     "text": [
      "{'SBL': 1764997, 'SR': 59956, 'SBH': 238580}\n",
      "{'SBL': 35948, 'SR': 11008, 'SBH': 52469}\n",
      "\n",
      "SB bounds: 2.842835496899102, 4.190687793950814\n",
      "SR bounds: 3.3667826766418876, 3.538522429653202\n",
      "Total events opp sign: 93403847\n",
      "Total events same sign: 4956987\n"
     ]
    },
    {
     "name": "stderr",
     "output_type": "stream",
     "text": [
      "/global/u1/r/rmastand/dimuonAD/helpers/data_transforms.py:8: RuntimeWarning: invalid value encountered in log\n",
      "  logit = np.log(x_norm/(1-x_norm+1e-10)+1e-10)\n"
     ]
    },
    {
     "name": "stdout",
     "output_type": "stream",
     "text": [
      "{'SBL': 1743138, 'SR': 55753, 'SBH': 236924}\n",
      "{'SBL': 36094, 'SR': 11163, 'SBH': 56432}\n",
      "\n",
      "SB bounds: 2.899976490386774, 4.274920618609225\n",
      "SR bounds: 3.4344550084423893, 3.6096467304892315\n",
      "Total events opp sign: 95410689\n",
      "Total events same sign: 5065086\n",
      "{'SBL': 1718020, 'SR': 56059, 'SBH': 232763}\n",
      "{'SBL': 36431, 'SR': 11250, 'SBH': 60418}\n",
      "\n",
      "SB bounds: 2.958266017843548, 4.3608465230432705\n",
      "SR bounds: 3.503487554112081, 3.682200629772065\n",
      "Total events opp sign: 97382876\n",
      "Total events same sign: 5177932\n"
     ]
    },
    {
     "name": "stderr",
     "output_type": "stream",
     "text": [
      "/global/u1/r/rmastand/dimuonAD/helpers/data_transforms.py:8: RuntimeWarning: invalid value encountered in log\n",
      "  logit = np.log(x_norm/(1-x_norm+1e-10)+1e-10)\n"
     ]
    },
    {
     "name": "stdout",
     "output_type": "stream",
     "text": [
      "{'SBL': 1685845, 'SR': 85402, 'SBH': 200940}\n",
      "{'SBL': 36814, 'SR': 11313, 'SBH': 64719}\n",
      "\n",
      "SB bounds: 3.0177271648022033, 4.44849953815644\n",
      "SR bounds: 3.573907653949734, 3.7562128624304836\n",
      "Total events opp sign: 99277907\n",
      "Total events same sign: 5295644\n"
     ]
    },
    {
     "name": "stderr",
     "output_type": "stream",
     "text": [
      "/global/u1/r/rmastand/dimuonAD/helpers/data_transforms.py:8: RuntimeWarning: invalid value encountered in log\n",
      "  logit = np.log(x_norm/(1-x_norm+1e-10)+1e-10)\n"
     ]
    },
    {
     "name": "stdout",
     "output_type": "stream",
     "text": [
      "{'SBL': 1611017, 'SR': 113059, 'SBH': 170955}\n",
      "{'SBL': 37195, 'SR': 11416, 'SBH': 69101}\n",
      "\n",
      "SB bounds: 3.0783834808147277, 4.537914378873385\n",
      "SR bounds: 3.6457431977941237, 3.831712740965336\n",
      "Total events opp sign: 100731580\n",
      "Total events same sign: 5418374\n"
     ]
    },
    {
     "name": "stderr",
     "output_type": "stream",
     "text": [
      "/global/u1/r/rmastand/dimuonAD/helpers/data_transforms.py:8: RuntimeWarning: invalid value encountered in log\n",
      "  logit = np.log(x_norm/(1-x_norm+1e-10)+1e-10)\n"
     ]
    },
    {
     "name": "stdout",
     "output_type": "stream",
     "text": [
      "{'SBL': 1181967, 'SR': 102548, 'SBH': 169158}\n",
      "{'SBL': 37439, 'SR': 12745, 'SBH': 72546}\n",
      "\n",
      "SB bounds: 3.1402589887791037, 4.62912645788874\n",
      "SR bounds: 3.7190226360697856, 3.908730167058739\n",
      "Total events opp sign: 101354965\n",
      "Total events same sign: 5546193\n",
      "{'SBL': 396039, 'SR': 60193, 'SBH': 167153}\n",
      "{'SBL': 37851, 'SR': 15900, 'SBH': 74068}\n",
      "\n",
      "SB bounds: 3.2033781944535638, 4.722171899692304\n",
      "SR bounds: 3.7937749910547884, 3.98729564341662\n"
     ]
    },
    {
     "name": "stderr",
     "output_type": "stream",
     "text": [
      "/global/u1/r/rmastand/dimuonAD/helpers/data_transforms.py:8: RuntimeWarning: invalid value encountered in log\n",
      "  logit = np.log(x_norm/(1-x_norm+1e-10)+1e-10)\n"
     ]
    },
    {
     "name": "stdout",
     "output_type": "stream",
     "text": [
      "Total events opp sign: 101843962\n",
      "Total events same sign: 5679181\n",
      "{'SBL': 270373, 'SR': 52644, 'SBH': 165980}\n",
      "{'SBL': 38397, 'SR': 19265, 'SBH': 75326}\n"
     ]
    },
    {
     "name": "stderr",
     "output_type": "stream",
     "text": [
      "/global/u1/r/rmastand/dimuonAD/helpers/data_transforms.py:8: RuntimeWarning: invalid value encountered in log\n",
      "  logit = np.log(x_norm/(1-x_norm+1e-10)+1e-10)\n"
     ]
    },
    {
     "name": "stdout",
     "output_type": "stream",
     "text": [
      "\n",
      "SB bounds: 3.2677660961620805, 4.817087554876119\n",
      "SR bounds: 3.8700298683749894, 4.067440285849294\n",
      "Total events opp sign: 102313011\n",
      "Total events same sign: 5817529\n",
      "{'SBL': 252209, 'SR': 51173, 'SBH': 165667}\n",
      "{'SBL': 41090, 'SR': 20454, 'SBH': 76804}\n",
      "\n",
      "SB bounds: 3.333448194694938, 4.91391101472913\n",
      "SR bounds: 3.9478174687293266, 4.149195835594865\n"
     ]
    },
    {
     "name": "stderr",
     "output_type": "stream",
     "text": [
      "/global/u1/r/rmastand/dimuonAD/helpers/data_transforms.py:8: RuntimeWarning: invalid value encountered in log\n",
      "  logit = np.log(x_norm/(1-x_norm+1e-10)+1e-10)\n"
     ]
    },
    {
     "name": "stdout",
     "output_type": "stream",
     "text": [
      "Total events opp sign: 102774407\n",
      "Total events same sign: 5961255\n",
      "{'SBL': 245353, 'SR': 49886, 'SBH': 166157}\n",
      "{'SBL': 44692, 'SR': 20814, 'SBH': 78220}\n",
      "\n",
      "SB bounds: 3.4004505034083063, 5.012680626125185\n",
      "SR bounds: 4.0271685998507865, 4.232594671890322\n"
     ]
    },
    {
     "name": "stderr",
     "output_type": "stream",
     "text": [
      "/global/u1/r/rmastand/dimuonAD/helpers/data_transforms.py:8: RuntimeWarning: invalid value encountered in log\n",
      "  logit = np.log(x_norm/(1-x_norm+1e-10)+1e-10)\n"
     ]
    },
    {
     "name": "stdout",
     "output_type": "stream",
     "text": [
      "Total events opp sign: 103231404\n",
      "Total events same sign: 6110477\n",
      "{'SBL': 241389, 'SR': 49225, 'SBH': 166383}\n",
      "{'SBL': 48470, 'SR': 21081, 'SBH': 79671}\n",
      "\n",
      "SB bounds: 3.468799558526813, 5.113435506710301\n",
      "SR bounds: 4.108114688707787, 4.317669824795317\n"
     ]
    },
    {
     "name": "stderr",
     "output_type": "stream",
     "text": [
      "/global/u1/r/rmastand/dimuonAD/helpers/data_transforms.py:8: RuntimeWarning: invalid value encountered in log\n",
      "  logit = np.log(x_norm/(1-x_norm+1e-10)+1e-10)\n"
     ]
    },
    {
     "name": "stdout",
     "output_type": "stream",
     "text": [
      "Total events opp sign: 103686441\n",
      "Total events same sign: 6265255\n",
      "{'SBL': 238580, 'SR': 48932, 'SBH': 167525}\n",
      "{'SBL': 52469, 'SR': 21393, 'SBH': 80916}\n",
      "\n",
      "SB bounds: 3.538522429653202, 5.216215560395178\n",
      "SR bounds: 4.190687793950814, 4.404454988273703\n"
     ]
    },
    {
     "name": "stderr",
     "output_type": "stream",
     "text": [
      "/global/u1/r/rmastand/dimuonAD/helpers/data_transforms.py:8: RuntimeWarning: invalid value encountered in log\n",
      "  logit = np.log(x_norm/(1-x_norm+1e-10)+1e-10)\n"
     ]
    },
    {
     "name": "stdout",
     "output_type": "stream",
     "text": [
      "Total events opp sign: 104140339\n",
      "Total events same sign: 6426044\n",
      "{'SBL': 236924, 'SR': 48492, 'SBH': 168482}\n",
      "{'SBL': 56432, 'SR': 21722, 'SBH': 82635}\n",
      "\n",
      "SB bounds: 3.6096467304892315, 5.321061493159122\n",
      "SR bounds: 4.274920618609225, 4.492984533538005\n"
     ]
    },
    {
     "name": "stderr",
     "output_type": "stream",
     "text": [
      "/global/u1/r/rmastand/dimuonAD/helpers/data_transforms.py:8: RuntimeWarning: invalid value encountered in log\n",
      "  logit = np.log(x_norm/(1-x_norm+1e-10)+1e-10)\n",
      "/global/u1/r/rmastand/dimuonAD/helpers/data_transforms.py:8: RuntimeWarning: invalid value encountered in log\n",
      "  logit = np.log(x_norm/(1-x_norm+1e-10)+1e-10)\n"
     ]
    },
    {
     "name": "stdout",
     "output_type": "stream",
     "text": [
      "Total events opp sign: 104591458\n",
      "Total events same sign: 6593032\n",
      "{'SBL': 232763, 'SR': 48223, 'SBH': 170133}\n",
      "{'SBL': 60418, 'SR': 22445, 'SBH': 84125}\n",
      "\n",
      "SB bounds: 3.682200629772065, 5.4280148291716195\n",
      "SR bounds: 4.3608465230432705, 4.583293522662118\n",
      "Total events opp sign: 105012286\n",
      "Total events same sign: 6766361\n",
      "{'SBL': 200940, 'SR': 48404, 'SBH': 171484}\n",
      "{'SBL': 64719, 'SR': 22878, 'SBH': 85732}\n",
      "\n",
      "SB bounds: 3.7562128624304836, 5.537117927237969\n",
      "SR bounds: 4.44849953815644, 4.675417722467627\n"
     ]
    },
    {
     "name": "stderr",
     "output_type": "stream",
     "text": [
      "/global/u1/r/rmastand/dimuonAD/helpers/data_transforms.py:8: RuntimeWarning: invalid value encountered in log\n",
      "  logit = np.log(x_norm/(1-x_norm+1e-10)+1e-10)\n"
     ]
    },
    {
     "name": "stdout",
     "output_type": "stream",
     "text": [
      "Total events opp sign: 105404849\n",
      "Total events same sign: 6946125\n",
      "{'SBL': 170955, 'SR': 48803, 'SBH': 172805}\n",
      "{'SBL': 69101, 'SR': 23235, 'SBH': 87428}\n",
      "\n",
      "SB bounds: 3.831712740965336, 5.648413997575453\n",
      "SR bounds: 4.537914378873385, 4.769393618689227\n"
     ]
    },
    {
     "name": "stderr",
     "output_type": "stream",
     "text": [
      "/global/u1/r/rmastand/dimuonAD/helpers/data_transforms.py:8: RuntimeWarning: invalid value encountered in log\n",
      "  logit = np.log(x_norm/(1-x_norm+1e-10)+1e-10)\n"
     ]
    },
    {
     "name": "stdout",
     "output_type": "stream",
     "text": [
      "Total events opp sign: 105797554\n",
      "Total events same sign: 7131625\n",
      "{'SBL': 169158, 'SR': 48769, 'SBH': 174778}\n",
      "{'SBL': 72546, 'SR': 23603, 'SBH': 89351}\n",
      "\n",
      "SB bounds: 3.908730167058739, 5.76194711892672\n",
      "SR bounds: 4.62912645788874, 4.8652584304248805\n"
     ]
    },
    {
     "name": "stderr",
     "output_type": "stream",
     "text": [
      "/global/u1/r/rmastand/dimuonAD/helpers/data_transforms.py:8: RuntimeWarning: invalid value encountered in log\n",
      "  logit = np.log(x_norm/(1-x_norm+1e-10)+1e-10)\n"
     ]
    },
    {
     "name": "stdout",
     "output_type": "stream",
     "text": [
      "Total events opp sign: 106190137\n",
      "Total events same sign: 7320911\n",
      "{'SBL': 167153, 'SR': 49031, 'SBH': 176399}\n",
      "{'SBL': 74068, 'SR': 24089, 'SBH': 91129}\n",
      "\n",
      "SB bounds: 3.98729564341662, 5.877762256017147\n",
      "SR bounds: 4.722171899692304, 4.963050124876421\n"
     ]
    },
    {
     "name": "stderr",
     "output_type": "stream",
     "text": [
      "/global/u1/r/rmastand/dimuonAD/helpers/data_transforms.py:8: RuntimeWarning: invalid value encountered in log\n",
      "  logit = np.log(x_norm/(1-x_norm+1e-10)+1e-10)\n"
     ]
    },
    {
     "name": "stdout",
     "output_type": "stream",
     "text": [
      "Total events opp sign: 106584263\n",
      "Total events same sign: 7513781\n",
      "{'SBL': 165980, 'SR': 49772, 'SBH': 178374}\n",
      "{'SBL': 75326, 'SR': 24544, 'SBH': 93000}\n",
      "\n",
      "SB bounds: 4.067440285849294, 5.995905277363091\n",
      "SR bounds: 4.817087554876119, 5.062807432386437\n"
     ]
    },
    {
     "name": "stderr",
     "output_type": "stream",
     "text": [
      "/global/u1/r/rmastand/dimuonAD/helpers/data_transforms.py:8: RuntimeWarning: invalid value encountered in log\n",
      "  logit = np.log(x_norm/(1-x_norm+1e-10)+1e-10)\n"
     ]
    },
    {
     "name": "stdout",
     "output_type": "stream",
     "text": [
      "Total events opp sign: 106980267\n",
      "Total events same sign: 7710283\n",
      "{'SBL': 165667, 'SR': 50255, 'SBH': 180082}\n",
      "{'SBL': 76804, 'SR': 24742, 'SBH': 94956}\n",
      "\n",
      "SB bounds: 4.149195835594865, 6.116422973438089\n",
      "SR bounds: 4.91391101472913, 5.164569861777404\n"
     ]
    },
    {
     "name": "stderr",
     "output_type": "stream",
     "text": [
      "/global/u1/r/rmastand/dimuonAD/helpers/data_transforms.py:8: RuntimeWarning: invalid value encountered in log\n",
      "  logit = np.log(x_norm/(1-x_norm+1e-10)+1e-10)\n"
     ]
    },
    {
     "name": "stdout",
     "output_type": "stream",
     "text": [
      "Total events opp sign: 107379209\n",
      "Total events same sign: 7910556\n",
      "{'SBL': 166157, 'SR': 50530, 'SBH': 182255}\n",
      "{'SBL': 78220, 'SR': 25151, 'SBH': 96902}\n"
     ]
    },
    {
     "name": "stderr",
     "output_type": "stream",
     "text": [
      "/global/u1/r/rmastand/dimuonAD/helpers/data_transforms.py:8: RuntimeWarning: invalid value encountered in log\n",
      "  logit = np.log(x_norm/(1-x_norm+1e-10)+1e-10)\n"
     ]
    },
    {
     "name": "stdout",
     "output_type": "stream",
     "text": [
      "\n",
      "SB bounds: 4.232594671890322, 6.239363075204195\n",
      "SR bounds: 5.012680626125185, 5.26837771599913\n",
      "Total events opp sign: 107781484\n",
      "Total events same sign: 8114786\n",
      "{'SBL': 166383, 'SR': 51139, 'SBH': 184753}\n",
      "{'SBL': 79671, 'SR': 25796, 'SBH': 98763}\n",
      "\n",
      "SB bounds: 4.317669824795317, 6.364774273015799\n",
      "SR bounds: 5.113435506710301, 5.374272108090713\n"
     ]
    },
    {
     "name": "stderr",
     "output_type": "stream",
     "text": [
      "/global/u1/r/rmastand/dimuonAD/helpers/data_transforms.py:8: RuntimeWarning: invalid value encountered in log\n",
      "  logit = np.log(x_norm/(1-x_norm+1e-10)+1e-10)\n"
     ]
    },
    {
     "name": "stdout",
     "output_type": "stream",
     "text": [
      "Total events opp sign: 108187915\n",
      "Total events same sign: 8323148\n",
      "{'SBL': 167525, 'SR': 51551, 'SBH': 187355}\n",
      "{'SBL': 80916, 'SR': 26552, 'SBH': 100894}\n",
      "\n",
      "SB bounds: 4.404454988273703, 6.492706235903416\n",
      "SR bounds: 5.216215560395178, 5.482294977463336\n"
     ]
    },
    {
     "name": "stderr",
     "output_type": "stream",
     "text": [
      "/global/u1/r/rmastand/dimuonAD/helpers/data_transforms.py:8: RuntimeWarning: invalid value encountered in log\n",
      "  logit = np.log(x_norm/(1-x_norm+1e-10)+1e-10)\n"
     ]
    },
    {
     "name": "stdout",
     "output_type": "stream",
     "text": [
      "Total events opp sign: 108598957\n",
      "Total events same sign: 8535931\n",
      "{'SBL': 168482, 'SR': 52151, 'SBH': 190409}\n",
      "{'SBL': 82635, 'SR': 27163, 'SBH': 102985}\n",
      "\n",
      "SB bounds: 4.492984533538005, 6.623209631245075\n",
      "SR bounds: 5.321061493159122, 5.5924891065103495\n"
     ]
    },
    {
     "name": "stderr",
     "output_type": "stream",
     "text": [
      "/global/u1/r/rmastand/dimuonAD/helpers/data_transforms.py:8: RuntimeWarning: invalid value encountered in log\n",
      "  logit = np.log(x_norm/(1-x_norm+1e-10)+1e-10)\n"
     ]
    },
    {
     "name": "stdout",
     "output_type": "stream",
     "text": [
      "Total events opp sign: 109015265\n",
      "Total events same sign: 8752856\n",
      "{'SBL': 170133, 'SR': 52371, 'SBH': 193804}\n",
      "{'SBL': 84125, 'SR': 27715, 'SBH': 105085}\n",
      "\n",
      "SB bounds: 4.583293522662118, 6.756336144833101\n",
      "SR bounds: 5.4280148291716195, 5.704898137551208\n"
     ]
    },
    {
     "name": "stderr",
     "output_type": "stream",
     "text": [
      "/global/u1/r/rmastand/dimuonAD/helpers/data_transforms.py:8: RuntimeWarning: invalid value encountered in log\n",
      "  logit = np.log(x_norm/(1-x_norm+1e-10)+1e-10)\n"
     ]
    },
    {
     "name": "stdout",
     "output_type": "stream",
     "text": [
      "Total events opp sign: 109437040\n",
      "Total events same sign: 8974341\n",
      "{'SBL': 171484, 'SR': 53097, 'SBH': 197194}\n",
      "{'SBL': 85732, 'SR': 28296, 'SBH': 107457}\n",
      "\n",
      "SB bounds: 4.675417722467627, 6.892138501344246\n",
      "SR bounds: 5.537117927237969, 5.819566590115987\n"
     ]
    },
    {
     "name": "stderr",
     "output_type": "stream",
     "text": [
      "/global/u1/r/rmastand/dimuonAD/helpers/data_transforms.py:8: RuntimeWarning: invalid value encountered in log\n",
      "  logit = np.log(x_norm/(1-x_norm+1e-10)+1e-10)\n"
     ]
    },
    {
     "name": "stdout",
     "output_type": "stream",
     "text": [
      "Total events opp sign: 109864681\n",
      "Total events same sign: 9200613\n",
      "{'SBL': 172805, 'SR': 53897, 'SBH': 200939}\n",
      "{'SBL': 87428, 'SR': 29004, 'SBH': 109840}\n",
      "\n",
      "SB bounds: 4.769393618689227, 7.030670485221265\n",
      "SR bounds: 5.648413997575453, 5.936539878577318\n"
     ]
    },
    {
     "name": "stderr",
     "output_type": "stream",
     "text": [
      "/global/u1/r/rmastand/dimuonAD/helpers/data_transforms.py:8: RuntimeWarning: invalid value encountered in log\n",
      "  logit = np.log(x_norm/(1-x_norm+1e-10)+1e-10)\n"
     ]
    },
    {
     "name": "stdout",
     "output_type": "stream",
     "text": [
      "Total events opp sign: 110299070\n",
      "Total events same sign: 9431740\n",
      "{'SBL': 174778, 'SR': 54444, 'SBH': 205167}\n",
      "{'SBL': 89351, 'SR': 29259, 'SBH': 112517}\n",
      "\n",
      "SB bounds: 4.8652584304248805, 7.171986961974212\n",
      "SR bounds: 5.76194711892672, 6.055864330136722\n"
     ]
    },
    {
     "name": "stderr",
     "output_type": "stream",
     "text": [
      "/global/u1/r/rmastand/dimuonAD/helpers/data_transforms.py:8: RuntimeWarning: invalid value encountered in log\n",
      "  logit = np.log(x_norm/(1-x_norm+1e-10)+1e-10)\n"
     ]
    },
    {
     "name": "stdout",
     "output_type": "stream",
     "text": [
      "Total events opp sign: 110740053\n",
      "Total events same sign: 9667938\n",
      "{'SBL': 176399, 'SR': 55161, 'SBH': 209423}\n",
      "{'SBL': 91129, 'SR': 29760, 'SBH': 115309}\n",
      "\n",
      "SB bounds: 4.963050124876421, 7.3161438999098936\n",
      "SR bounds: 5.877762256017147, 6.17758720317247\n"
     ]
    },
    {
     "name": "stderr",
     "output_type": "stream",
     "text": [
      "/global/u1/r/rmastand/dimuonAD/helpers/data_transforms.py:8: RuntimeWarning: invalid value encountered in log\n",
      "  logit = np.log(x_norm/(1-x_norm+1e-10)+1e-10)\n"
     ]
    },
    {
     "name": "stdout",
     "output_type": "stream",
     "text": [
      "Total events opp sign: 111188295\n",
      "Total events same sign: 9909340\n",
      "{'SBL': 178374, 'SR': 55923, 'SBH': 213945}\n",
      "{'SBL': 93000, 'SR': 30323, 'SBH': 118079}\n",
      "\n",
      "SB bounds: 5.062807432386437, 7.463198392298082\n",
      "SR bounds: 5.995905277363091, 6.301756705956237\n"
     ]
    },
    {
     "name": "stderr",
     "output_type": "stream",
     "text": [
      "/global/u1/r/rmastand/dimuonAD/helpers/data_transforms.py:8: RuntimeWarning: invalid value encountered in log\n",
      "  logit = np.log(x_norm/(1-x_norm+1e-10)+1e-10)\n"
     ]
    },
    {
     "name": "stdout",
     "output_type": "stream",
     "text": [
      "Total events opp sign: 111644148\n",
      "Total events same sign: 10156347\n",
      "{'SBL': 180082, 'SR': 57252, 'SBH': 218519}\n",
      "{'SBL': 94956, 'SR': 30957, 'SBH': 121094}\n"
     ]
    },
    {
     "name": "stderr",
     "output_type": "stream",
     "text": [
      "/global/u1/r/rmastand/dimuonAD/helpers/data_transforms.py:8: RuntimeWarning: invalid value encountered in log\n",
      "  logit = np.log(x_norm/(1-x_norm+1e-10)+1e-10)\n"
     ]
    },
    {
     "name": "stdout",
     "output_type": "stream",
     "text": [
      "\n",
      "SB bounds: 5.164569861777404, 7.613208679983273\n",
      "SR bounds: 6.116422973438089, 6.428422015745957\n",
      "Total events opp sign: 112108097\n",
      "Total events same sign: 10409104\n",
      "{'SBL': 182255, 'SR': 58431, 'SBH': 223263}\n",
      "{'SBL': 96902, 'SR': 31851, 'SBH': 124004}\n",
      "\n",
      "SB bounds: 5.26837771599913, 7.766234174450937\n",
      "SR bounds: 6.239363075204195, 6.55763329826245\n"
     ]
    },
    {
     "name": "stderr",
     "output_type": "stream",
     "text": [
      "/global/u1/r/rmastand/dimuonAD/helpers/data_transforms.py:8: RuntimeWarning: invalid value encountered in log\n",
      "  logit = np.log(x_norm/(1-x_norm+1e-10)+1e-10)\n"
     ]
    },
    {
     "name": "stdout",
     "output_type": "stream",
     "text": [
      "Total events opp sign: 112580672\n",
      "Total events same sign: 10667683\n",
      "{'SBL': 184753, 'SR': 59549, 'SBH': 228273}\n",
      "{'SBL': 98763, 'SR': 32706, 'SBH': 127110}\n"
     ]
    },
    {
     "name": "stderr",
     "output_type": "stream",
     "text": [
      "/global/u1/r/rmastand/dimuonAD/helpers/data_transforms.py:8: RuntimeWarning: invalid value encountered in log\n",
      "  logit = np.log(x_norm/(1-x_norm+1e-10)+1e-10)\n"
     ]
    },
    {
     "name": "stdout",
     "output_type": "stream",
     "text": [
      "\n",
      "SB bounds: 5.374272108090713, 7.9223354813574005\n",
      "SR bounds: 6.364774273015799, 6.689441727557526\n",
      "Total events opp sign: 113062317\n",
      "Total events same sign: 10932467\n",
      "{'SBL': 187355, 'SR': 60986, 'SBH': 233304}\n",
      "{'SBL': 100894, 'SR': 33432, 'SBH': 130458}\n",
      "\n",
      "SB bounds: 5.482294977463336, 8.081574424532684\n",
      "SR bounds: 6.492706235903416, 6.823899506281432\n"
     ]
    },
    {
     "name": "stderr",
     "output_type": "stream",
     "text": [
      "/global/u1/r/rmastand/dimuonAD/helpers/data_transforms.py:8: RuntimeWarning: invalid value encountered in log\n",
      "  logit = np.log(x_norm/(1-x_norm+1e-10)+1e-10)\n"
     ]
    },
    {
     "name": "stdout",
     "output_type": "stream",
     "text": [
      "Total events opp sign: 113554661\n",
      "Total events same sign: 11203585\n",
      "{'SBL': 190409, 'SR': 62148, 'SBH': 239787}\n",
      "{'SBL': 102985, 'SR': 34266, 'SBH': 133867}\n",
      "\n",
      "SB bounds: 5.5924891065103495, 8.244014070465791\n",
      "SR bounds: 6.623209631245075, 6.961059886357688\n"
     ]
    },
    {
     "name": "stderr",
     "output_type": "stream",
     "text": [
      "/global/u1/r/rmastand/dimuonAD/helpers/data_transforms.py:8: RuntimeWarning: invalid value encountered in log\n",
      "  logit = np.log(x_norm/(1-x_norm+1e-10)+1e-10)\n"
     ]
    },
    {
     "name": "stdout",
     "output_type": "stream",
     "text": [
      "Total events opp sign: 114059294\n",
      "Total events same sign: 11481907\n",
      "{'SBL': 193804, 'SR': 63360, 'SBH': 247469}\n",
      "{'SBL': 105085, 'SR': 35156, 'SBH': 138081}\n",
      "\n",
      "SB bounds: 5.704898137551208, 8.409718753282155\n",
      "SR bounds: 6.756336144833101, 7.100977190073477\n",
      "Total events opp sign: 114576482\n",
      "Total events same sign: 11767780\n",
      "{'SBL': 197194, 'SR': 64795, 'SBH': 255199}\n",
      "{'SBL': 107457, 'SR': 36118, 'SBH': 142298}\n",
      "\n",
      "SB bounds: 5.819566590115987, 8.578754100223126\n",
      "SR bounds: 6.892138501344246, 7.243706831593954\n"
     ]
    },
    {
     "name": "stderr",
     "output_type": "stream",
     "text": [
      "/global/u1/r/rmastand/dimuonAD/helpers/data_transforms.py:8: RuntimeWarning: invalid value encountered in log\n",
      "  logit = np.log(x_norm/(1-x_norm+1e-10)+1e-10)\n"
     ]
    },
    {
     "name": "stdout",
     "output_type": "stream",
     "text": [
      "Total events opp sign: 115107505\n",
      "Total events same sign: 12061409\n",
      "{'SBL': 200939, 'SR': 66174, 'SBH': 263910}\n",
      "{'SBL': 109840, 'SR': 36799, 'SBH': 146990}\n"
     ]
    },
    {
     "name": "stderr",
     "output_type": "stream",
     "text": [
      "/global/u1/r/rmastand/dimuonAD/helpers/data_transforms.py:8: RuntimeWarning: invalid value encountered in log\n",
      "  logit = np.log(x_norm/(1-x_norm+1e-10)+1e-10)\n"
     ]
    },
    {
     "name": "stdout",
     "output_type": "stream",
     "text": [
      "\n",
      "SB bounds: 5.936539878577318, 8.75118705763761\n",
      "SR bounds: 7.030670485221265, 7.389305338908993\n",
      "Total events opp sign: 115653312\n",
      "Total events same sign: 12363558\n",
      "{'SBL': 205167, 'SR': 67747, 'SBH': 272893}\n",
      "{'SBL': 112517, 'SR': 37714, 'SBH': 151918}\n",
      "\n",
      "SB bounds: 6.055864330136722, 8.927085917496127\n",
      "SR bounds: 7.171986961974212, 7.537830376221063\n"
     ]
    },
    {
     "name": "stderr",
     "output_type": "stream",
     "text": [
      "/global/u1/r/rmastand/dimuonAD/helpers/data_transforms.py:8: RuntimeWarning: invalid value encountered in log\n",
      "  logit = np.log(x_norm/(1-x_norm+1e-10)+1e-10)\n"
     ]
    },
    {
     "name": "stdout",
     "output_type": "stream",
     "text": [
      "Total events opp sign: 116215632\n",
      "Total events same sign: 12674480\n",
      "{'SBL': 209423, 'SR': 69453, 'SBH': 283444}\n",
      "{'SBL': 115309, 'SR': 38627, 'SBH': 156986}\n",
      "\n",
      "SB bounds: 6.17758720317247, 9.106520344437799\n",
      "SR bounds: 7.3161438999098936, 7.689340766783106\n"
     ]
    },
    {
     "name": "stderr",
     "output_type": "stream",
     "text": [
      "/global/u1/r/rmastand/dimuonAD/helpers/data_transforms.py:8: RuntimeWarning: invalid value encountered in log\n",
      "  logit = np.log(x_norm/(1-x_norm+1e-10)+1e-10)\n"
     ]
    },
    {
     "name": "stdout",
     "output_type": "stream",
     "text": [
      "Total events opp sign: 116796961\n",
      "Total events same sign: 12994228\n",
      "{'SBL': 213945, 'SR': 70724, 'SBH': 296660}\n",
      "{'SBL': 118079, 'SR': 39764, 'SBH': 161905}\n",
      "\n",
      "SB bounds: 6.301756705956237, 9.289561403360999\n",
      "SR bounds: 7.463198392298082, 7.843896516195446\n"
     ]
    },
    {
     "name": "stderr",
     "output_type": "stream",
     "text": [
      "/global/u1/r/rmastand/dimuonAD/helpers/data_transforms.py:8: RuntimeWarning: invalid value encountered in log\n",
      "  logit = np.log(x_norm/(1-x_norm+1e-10)+1e-10)\n"
     ]
    },
    {
     "name": "stdout",
     "output_type": "stream",
     "text": [
      "Total events opp sign: 117413260\n",
      "Total events same sign: 13323661\n",
      "{'SBL': 218519, 'SR': 72554, 'SBH': 325226}\n",
      "{'SBL': 121094, 'SR': 40802, 'SBH': 167537}\n",
      "\n",
      "SB bounds: 6.428422015745957, 9.476281587568556\n",
      "SR bounds: 7.613208679983273, 8.001558836170975\n"
     ]
    },
    {
     "name": "stderr",
     "output_type": "stream",
     "text": [
      "/global/u1/r/rmastand/dimuonAD/helpers/data_transforms.py:8: RuntimeWarning: invalid value encountered in log\n",
      "  logit = np.log(x_norm/(1-x_norm+1e-10)+1e-10)\n"
     ]
    },
    {
     "name": "stdout",
     "output_type": "stream",
     "text": [
      "Total events opp sign: 118165908\n",
      "Total events same sign: 13663183\n",
      "{'SBL': 223263, 'SR': 74394, 'SBH': 454991}\n",
      "{'SBL': 124004, 'SR': 41875, 'SBH': 173643}\n"
     ]
    },
    {
     "name": "stderr",
     "output_type": "stream",
     "text": [
      "/global/u1/r/rmastand/dimuonAD/helpers/data_transforms.py:8: RuntimeWarning: invalid value encountered in log\n",
      "  logit = np.log(x_norm/(1-x_norm+1e-10)+1e-10)\n"
     ]
    },
    {
     "name": "stdout",
     "output_type": "stream",
     "text": [
      "\n",
      "SB bounds: 6.55763329826245, 9.666754847478684\n",
      "SR bounds: 7.766234174450937, 8.16239016877801\n",
      "Total events opp sign: 119014734\n",
      "Total events same sign: 14012995\n",
      "{'SBL': 228273, 'SR': 78084, 'SBH': 542469}\n",
      "{'SBL': 127110, 'SR': 43540, 'SBH': 179162}\n"
     ]
    },
    {
     "name": "stderr",
     "output_type": "stream",
     "text": [
      "/global/u1/r/rmastand/dimuonAD/helpers/data_transforms.py:8: RuntimeWarning: invalid value encountered in log\n",
      "  logit = np.log(x_norm/(1-x_norm+1e-10)+1e-10)\n"
     ]
    },
    {
     "name": "stdout",
     "output_type": "stream",
     "text": [
      "\n",
      "SB bounds: 6.689441727557526, 9.861056619913006\n",
      "SR bounds: 7.9223354813574005, 8.32645421117045\n",
      "Total events opp sign: 119898991\n",
      "Total events same sign: 14373868\n",
      "{'SBL': 233304, 'SR': 81857, 'SBH': 569096}\n",
      "{'SBL': 130458, 'SR': 45388, 'SBH': 185027}\n"
     ]
    },
    {
     "name": "stderr",
     "output_type": "stream",
     "text": [
      "/global/u1/r/rmastand/dimuonAD/helpers/data_transforms.py:8: RuntimeWarning: invalid value encountered in log\n",
      "  logit = np.log(x_norm/(1-x_norm+1e-10)+1e-10)\n"
     ]
    },
    {
     "name": "stdout",
     "output_type": "stream",
     "text": [
      "\n",
      "SB bounds: 6.823899506281432, 10.059263857973257\n",
      "SR bounds: 8.081574424532684, 8.493815940814976\n",
      "Total events opp sign: 120864428\n",
      "Total events same sign: 14746145\n"
     ]
    },
    {
     "name": "stderr",
     "output_type": "stream",
     "text": [
      "/global/u1/r/rmastand/dimuonAD/helpers/data_transforms.py:8: RuntimeWarning: invalid value encountered in log\n",
      "  logit = np.log(x_norm/(1-x_norm+1e-10)+1e-10)\n"
     ]
    },
    {
     "name": "stdout",
     "output_type": "stream",
     "text": [
      "{'SBL': 239787, 'SR': 85232, 'SBH': 640418}\n",
      "{'SBL': 133867, 'SR': 47143, 'SBH': 191267}\n",
      "\n",
      "SB bounds: 6.961059886357688, 10.261455061518518\n",
      "SR bounds: 8.244014070465791, 8.664541641225357\n",
      "Total events opp sign: 121893833\n",
      "Total events same sign: 15130195\n"
     ]
    },
    {
     "name": "stderr",
     "output_type": "stream",
     "text": [
      "/global/u1/r/rmastand/dimuonAD/helpers/data_transforms.py:8: RuntimeWarning: invalid value encountered in log\n",
      "  logit = np.log(x_norm/(1-x_norm+1e-10)+1e-10)\n"
     ]
    },
    {
     "name": "stdout",
     "output_type": "stream",
     "text": [
      "{'SBL': 247469, 'SR': 87834, 'SBH': 694102}\n",
      "{'SBL': 138081, 'SR': 48680, 'SBH': 197289}\n",
      "\n",
      "SB bounds: 7.100977190073477, 10.46771030825504\n",
      "SR bounds: 8.409718753282155, 8.838698928213987\n",
      "Total events opp sign: 122991474\n",
      "Total events same sign: 15526530\n"
     ]
    },
    {
     "name": "stderr",
     "output_type": "stream",
     "text": [
      "/global/u1/r/rmastand/dimuonAD/helpers/data_transforms.py:8: RuntimeWarning: invalid value encountered in log\n",
      "  logit = np.log(x_norm/(1-x_norm+1e-10)+1e-10)\n"
     ]
    },
    {
     "name": "stdout",
     "output_type": "stream",
     "text": [
      "{'SBL': 255199, 'SR': 91325, 'SBH': 751117}\n",
      "{'SBL': 142298, 'SR': 50083, 'SBH': 203954}\n",
      "\n",
      "SB bounds: 7.243706831593954, 10.678111285450967\n",
      "SR bounds: 8.578754100223126, 9.016356776671088\n",
      "Total events opp sign: 124116532\n",
      "Total events same sign: 15935388\n"
     ]
    },
    {
     "name": "stderr",
     "output_type": "stream",
     "text": [
      "/global/u1/r/rmastand/dimuonAD/helpers/data_transforms.py:8: RuntimeWarning: invalid value encountered in log\n",
      "  logit = np.log(x_norm/(1-x_norm+1e-10)+1e-10)\n"
     ]
    },
    {
     "name": "stdout",
     "output_type": "stream",
     "text": [
      "{'SBL': 263910, 'SR': 95687, 'SBH': 765461}\n",
      "{'SBL': 146990, 'SR': 51544, 'SBH': 210324}\n",
      "\n",
      "SB bounds: 7.389305338908993, 10.892741322288531\n",
      "SR bounds: 8.75118705763761, 9.197585547882177\n",
      "Total events opp sign: 125260888\n",
      "Total events same sign: 16357146\n"
     ]
    },
    {
     "name": "stderr",
     "output_type": "stream",
     "text": [
      "/global/u1/r/rmastand/dimuonAD/helpers/data_transforms.py:8: RuntimeWarning: invalid value encountered in log\n",
      "  logit = np.log(x_norm/(1-x_norm+1e-10)+1e-10)\n"
     ]
    },
    {
     "name": "stdout",
     "output_type": "stream",
     "text": [
      "{'SBL': 272893, 'SR': 105125, 'SBH': 766338}\n",
      "{'SBL': 151918, 'SR': 53051, 'SBH': 216789}\n",
      "\n",
      "SB bounds: 7.537830376221063, 11.11168542286653\n",
      "SR bounds: 8.927085917496127, 9.382457017394609\n",
      "Total events opp sign: 126423903\n",
      "Total events same sign: 16792355\n"
     ]
    },
    {
     "name": "stderr",
     "output_type": "stream",
     "text": [
      "/global/u1/r/rmastand/dimuonAD/helpers/data_transforms.py:8: RuntimeWarning: invalid value encountered in log\n",
      "  logit = np.log(x_norm/(1-x_norm+1e-10)+1e-10)\n"
     ]
    },
    {
     "name": "stdout",
     "output_type": "stream",
     "text": [
      "{'SBL': 283444, 'SR': 159985, 'SBH': 719586}\n",
      "{'SBL': 156986, 'SR': 54972, 'SBH': 223251}\n",
      "\n",
      "SB bounds: 7.689340766783106, 11.335030299866148\n",
      "SR bounds: 9.106520344437799, 9.571044403444242\n",
      "Total events opp sign: 127606110\n",
      "Total events same sign: 17241063\n"
     ]
    },
    {
     "name": "stderr",
     "output_type": "stream",
     "text": [
      "/global/u1/r/rmastand/dimuonAD/helpers/data_transforms.py:8: RuntimeWarning: invalid value encountered in log\n",
      "  logit = np.log(x_norm/(1-x_norm+1e-10)+1e-10)\n"
     ]
    },
    {
     "name": "stdout",
     "output_type": "stream",
     "text": [
      "{'SBL': 296660, 'SR': 297731, 'SBH': 587816}\n",
      "{'SBL': 161905, 'SR': 57129, 'SBH': 229674}\n",
      "\n",
      "SB bounds: 7.843896516195446, 11.562864408893457\n",
      "SR bounds: 9.289561403360999, 9.763422395953471\n",
      "Total events opp sign: 128806583\n",
      "Total events same sign: 17703389\n"
     ]
    },
    {
     "name": "stderr",
     "output_type": "stream",
     "text": [
      "/global/u1/r/rmastand/dimuonAD/helpers/data_transforms.py:8: RuntimeWarning: invalid value encountered in log\n",
      "  logit = np.log(x_norm/(1-x_norm+1e-10)+1e-10)\n"
     ]
    },
    {
     "name": "stdout",
     "output_type": "stream",
     "text": [
      "{'SBL': 325226, 'SR': 310076, 'SBH': 565171}\n",
      "{'SBL': 167537, 'SR': 58928, 'SBH': 235861}\n",
      "\n",
      "SB bounds: 8.001558836170975, 11.795277983512216\n",
      "SR bounds: 9.476281587568556, 9.959667186112135\n",
      "Total events opp sign: 130026070\n",
      "Total events same sign: 18179342\n"
     ]
    },
    {
     "name": "stderr",
     "output_type": "stream",
     "text": [
      "/global/u1/r/rmastand/dimuonAD/helpers/data_transforms.py:8: RuntimeWarning: invalid value encountered in log\n",
      "  logit = np.log(x_norm/(1-x_norm+1e-10)+1e-10)\n",
      "/global/u1/r/rmastand/dimuonAD/helpers/data_transforms.py:8: RuntimeWarning: invalid value encountered in log\n",
      "  logit = np.log(x_norm/(1-x_norm+1e-10)+1e-10)\n"
     ]
    },
    {
     "name": "stdout",
     "output_type": "stream",
     "text": [
      "{'SBL': 454991, 'SR': 225397, 'SBH': 539099}\n",
      "{'SBL': 173643, 'SR': 60971, 'SBH': 241339}\n",
      "\n",
      "SB bounds: 8.16239016877801, 12.03236307098081\n",
      "SR bounds: 9.666754847478684, 10.159856496552989\n",
      "Total events opp sign: 131262740\n",
      "Total events same sign: 18668673\n",
      "{'SBL': 542469, 'SR': 215336, 'SBH': 478865}\n",
      "{'SBL': 179162, 'SR': 63056, 'SBH': 247113}\n",
      "\n",
      "SB bounds: 8.32645421117045, 12.274213568707525\n",
      "SR bounds: 9.861056619913006, 10.364069612133703\n",
      "Total events opp sign: 132516392\n",
      "Total events same sign: 19171058\n"
     ]
    },
    {
     "name": "stderr",
     "output_type": "stream",
     "text": [
      "/global/u1/r/rmastand/dimuonAD/helpers/data_transforms.py:8: RuntimeWarning: invalid value encountered in log\n",
      "  logit = np.log(x_norm/(1-x_norm+1e-10)+1e-10)\n",
      "/global/u1/r/rmastand/dimuonAD/helpers/data_transforms.py:8: RuntimeWarning: invalid value encountered in log\n",
      "  logit = np.log(x_norm/(1-x_norm+1e-10)+1e-10)\n"
     ]
    },
    {
     "name": "stdout",
     "output_type": "stream",
     "text": [
      "{'SBL': 569096, 'SR': 246448, 'SBH': 438108}\n",
      "{'SBL': 185027, 'SR': 64919, 'SBH': 252439}\n",
      "\n",
      "SB bounds: 8.493815940814976, 12.520925261438546\n",
      "SR bounds: 10.059263857973257, 10.57238741133759\n",
      "Total events opp sign: 133786673\n",
      "Total events same sign: 19686887\n",
      "{'SBL': 640418, 'SR': 213950, 'SBH': 415913}\n",
      "{'SBL': 191267, 'SR': 66676, 'SBH': 257886}\n",
      "\n",
      "SB bounds: 8.664541641225357, 12.77259585919346\n",
      "SR bounds: 10.261455061518518, 10.784892398305477\n",
      "Total events opp sign: 135073022\n",
      "Total events same sign: 20215908\n"
     ]
    },
    {
     "name": "stderr",
     "output_type": "stream",
     "text": [
      "/global/u1/r/rmastand/dimuonAD/helpers/data_transforms.py:8: RuntimeWarning: invalid value encountered in log\n",
      "  logit = np.log(x_norm/(1-x_norm+1e-10)+1e-10)\n"
     ]
    },
    {
     "name": "stdout",
     "output_type": "stream",
     "text": [
      "{'SBL': 694102, 'SR': 172486, 'SBH': 419761}\n",
      "{'SBL': 197289, 'SR': 68532, 'SBH': 263200}\n",
      "\n",
      "SB bounds: 8.838698928213987, 13.029325035963248\n",
      "SR bounds: 10.46771030825504, 11.001668735511416\n",
      "Total events opp sign: 136374107\n",
      "Total events same sign: 20758389\n"
     ]
    },
    {
     "name": "stderr",
     "output_type": "stream",
     "text": [
      "/global/u1/r/rmastand/dimuonAD/helpers/data_transforms.py:8: RuntimeWarning: invalid value encountered in log\n",
      "  logit = np.log(x_norm/(1-x_norm+1e-10)+1e-10)\n",
      "/global/u1/r/rmastand/dimuonAD/helpers/data_transforms.py:8: RuntimeWarning: invalid value encountered in log\n",
      "  logit = np.log(x_norm/(1-x_norm+1e-10)+1e-10)\n"
     ]
    },
    {
     "name": "stdout",
     "output_type": "stream",
     "text": [
      "{'SBL': 751117, 'SR': 124701, 'SBH': 425267}\n",
      "{'SBL': 203954, 'SR': 70292, 'SBH': 268235}\n",
      "\n",
      "SB bounds: 9.016356776671088, 13.291214469186109\n",
      "SR bounds: 10.678111285450967, 11.222802277095196\n",
      "Total events opp sign: 137688101\n",
      "Total events same sign: 21313955\n"
     ]
    },
    {
     "name": "stderr",
     "output_type": "stream",
     "text": [
      "/global/u1/r/rmastand/dimuonAD/helpers/data_transforms.py:8: RuntimeWarning: invalid value encountered in log\n",
      "  logit = np.log(x_norm/(1-x_norm+1e-10)+1e-10)\n"
     ]
    },
    {
     "name": "stdout",
     "output_type": "stream",
     "text": [
      "{'SBL': 765461, 'SR': 117697, 'SBH': 430836}\n",
      "{'SBL': 210324, 'SR': 72348, 'SBH': 272894}\n",
      "\n",
      "SB bounds: 9.197585547882177, 13.55836788001675\n",
      "SR bounds: 10.892741322288531, 11.448380602864809\n",
      "Total events opp sign: 139009746\n",
      "Total events same sign: 21882222\n"
     ]
    },
    {
     "name": "stderr",
     "output_type": "stream",
     "text": [
      "/global/u1/r/rmastand/dimuonAD/helpers/data_transforms.py:8: RuntimeWarning: invalid value encountered in log\n",
      "  logit = np.log(x_norm/(1-x_norm+1e-10)+1e-10)\n"
     ]
    },
    {
     "name": "stdout",
     "output_type": "stream",
     "text": [
      "{'SBL': 766338, 'SR': 118425, 'SBH': 436882}\n",
      "{'SBL': 216789, 'SR': 74004, 'SBH': 277474}\n",
      "\n",
      "SB bounds: 9.382457017394609, 13.830891074405086\n",
      "SR bounds: 11.11168542286653, 11.678493052982391\n",
      "Total events opp sign: 140291671\n",
      "Total events same sign: 22463072\n",
      "{'SBL': 719586, 'SR': 120490, 'SBH': 441849}\n",
      "{'SBL': 223251, 'SR': 75234, 'SBH': 282365}\n",
      "\n",
      "SB bounds: 9.571044403444242, 14.108891985000628\n",
      "SR bounds: 11.335030299866148, 11.913230763347338\n",
      "Total events opp sign: 141448577\n",
      "Total events same sign: 23056050\n"
     ]
    },
    {
     "name": "stderr",
     "output_type": "stream",
     "text": [
      "/global/u1/r/rmastand/dimuonAD/helpers/data_transforms.py:8: RuntimeWarning: invalid value encountered in log\n",
      "  logit = np.log(x_norm/(1-x_norm+1e-10)+1e-10)\n"
     ]
    },
    {
     "name": "stdout",
     "output_type": "stream",
     "text": [
      "{'SBL': 587816, 'SR': 122117, 'SBH': 446973}\n",
      "{'SBL': 229674, 'SR': 76514, 'SBH': 286790}\n",
      "\n",
      "SB bounds: 9.763422395953471, 14.39248071389914\n",
      "SR bounds: 11.562864408893457, 12.15268670169062\n",
      "Total events opp sign: 142590007\n",
      "Total events same sign: 23660825\n"
     ]
    },
    {
     "name": "stderr",
     "output_type": "stream",
     "text": [
      "/global/u1/r/rmastand/dimuonAD/helpers/data_transforms.py:8: RuntimeWarning: invalid value encountered in log\n",
      "  logit = np.log(x_norm/(1-x_norm+1e-10)+1e-10)\n"
     ]
    },
    {
     "name": "stdout",
     "output_type": "stream",
     "text": [
      "{'SBL': 565171, 'SR': 124684, 'SBH': 451575}\n",
      "{'SBL': 235861, 'SR': 77998, 'SBH': 290916}\n",
      "\n",
      "SB bounds: 9.959667186112135, 14.681769576248513\n",
      "SR bounds: 11.795277983512216, 12.3969557043946\n",
      "Total events opp sign: 143712177\n",
      "Total events same sign: 24276965\n"
     ]
    },
    {
     "name": "stderr",
     "output_type": "stream",
     "text": [
      "/global/u1/r/rmastand/dimuonAD/helpers/data_transforms.py:8: RuntimeWarning: invalid value encountered in log\n",
      "  logit = np.log(x_norm/(1-x_norm+1e-10)+1e-10)\n"
     ]
    },
    {
     "name": "stdout",
     "output_type": "stream",
     "text": [
      "{'SBL': 539099, 'SR': 126374, 'SBH': 456697}\n",
      "{'SBL': 241339, 'SR': 79652, 'SBH': 295149}\n",
      "\n",
      "SB bounds: 10.159856496552989, 14.976873144731108\n",
      "SR bounds: 12.03236307098081, 12.646134514052932\n",
      "Total events opp sign: 144779644\n",
      "Total events same sign: 24904511\n"
     ]
    },
    {
     "name": "stderr",
     "output_type": "stream",
     "text": [
      "/global/u1/r/rmastand/dimuonAD/helpers/data_transforms.py:8: RuntimeWarning: invalid value encountered in log\n",
      "  logit = np.log(x_norm/(1-x_norm+1e-10)+1e-10)\n"
     ]
    },
    {
     "name": "stdout",
     "output_type": "stream",
     "text": [
      "{'SBL': 478865, 'SR': 128282, 'SBH': 460320}\n",
      "{'SBL': 247113, 'SR': 81127, 'SBH': 299306}\n",
      "\n",
      "SB bounds: 10.364069612133703, 15.277908294940204\n",
      "SR bounds: 12.274213568707525, 12.900321817785395\n",
      "Total events opp sign: 145811660\n",
      "Total events same sign: 25542875\n"
     ]
    },
    {
     "name": "stderr",
     "output_type": "stream",
     "text": [
      "/global/u1/r/rmastand/dimuonAD/helpers/data_transforms.py:8: RuntimeWarning: invalid value encountered in log\n",
      "  logit = np.log(x_norm/(1-x_norm+1e-10)+1e-10)\n"
     ]
    },
    {
     "name": "stdout",
     "output_type": "stream",
     "text": [
      "{'SBL': 438108, 'SR': 129689, 'SBH': 464219}\n",
      "{'SBL': 252439, 'SR': 82680, 'SBH': 303245}\n",
      "\n",
      "SB bounds: 10.57238741133759, 15.584994251668503\n",
      "SR bounds: 12.520925261438546, 13.15961828632288\n",
      "Total events opp sign: 146826715\n",
      "Total events same sign: 26191865\n"
     ]
    },
    {
     "name": "stderr",
     "output_type": "stream",
     "text": [
      "/global/u1/r/rmastand/dimuonAD/helpers/data_transforms.py:8: RuntimeWarning: invalid value encountered in log\n",
      "  logit = np.log(x_norm/(1-x_norm+1e-10)+1e-10)\n"
     ]
    },
    {
     "name": "stdout",
     "output_type": "stream",
     "text": [
      "{'SBL': 415913, 'SR': 130763, 'SBH': 468379}\n",
      "{'SBL': 257886, 'SR': 83952, 'SBH': 307152}\n",
      "\n",
      "SB bounds: 10.784892398305477, 15.89825263612704\n",
      "SR bounds: 12.77259585919346, 13.42412661387797\n",
      "Total events opp sign: 147850911\n",
      "Total events same sign: 26851162\n"
     ]
    },
    {
     "name": "stderr",
     "output_type": "stream",
     "text": [
      "/global/u1/r/rmastand/dimuonAD/helpers/data_transforms.py:8: RuntimeWarning: invalid value encountered in log\n",
      "  logit = np.log(x_norm/(1-x_norm+1e-10)+1e-10)\n"
     ]
    },
    {
     "name": "stdout",
     "output_type": "stream",
     "text": [
      "{'SBL': 419761, 'SR': 132079, 'SBH': 472356}\n",
      "{'SBL': 263200, 'SR': 85228, 'SBH': 310869}\n",
      "\n",
      "SB bounds: 11.001668735511416, 16.217807514113193\n",
      "SR bounds: 13.029325035963248, 13.693951558816917\n",
      "Total events opp sign: 148885509\n",
      "Total events same sign: 27520772\n"
     ]
    },
    {
     "name": "stderr",
     "output_type": "stream",
     "text": [
      "/global/u1/r/rmastand/dimuonAD/helpers/data_transforms.py:8: RuntimeWarning: invalid value encountered in log\n",
      "  logit = np.log(x_norm/(1-x_norm+1e-10)+1e-10)\n"
     ]
    },
    {
     "name": "stdout",
     "output_type": "stream",
     "text": [
      "{'SBL': 425267, 'SR': 133186, 'SBH': 476145}\n",
      "{'SBL': 268235, 'SR': 86209, 'SBH': 315166}\n",
      "\n",
      "SB bounds: 11.222802277095196, 16.543785445146867\n",
      "SR bounds: 13.291214469186109, 13.969199985149137\n",
      "Total events opp sign: 149930917\n",
      "Total events same sign: 28200223\n"
     ]
    },
    {
     "name": "stderr",
     "output_type": "stream",
     "text": [
      "/global/u1/r/rmastand/dimuonAD/helpers/data_transforms.py:8: RuntimeWarning: invalid value encountered in log\n",
      "  logit = np.log(x_norm/(1-x_norm+1e-10)+1e-10)\n"
     ]
    },
    {
     "name": "stdout",
     "output_type": "stream",
     "text": [
      "{'SBL': 430836, 'SR': 134888, 'SBH': 479684}\n",
      "{'SBL': 272894, 'SR': 87465, 'SBH': 319092}\n",
      "\n",
      "SB bounds: 11.448380602864809, 16.87631553259432\n",
      "SR bounds: 13.55836788001675, 14.249980904850634\n",
      "Total events opp sign: 150987279\n",
      "Total events same sign: 28888986\n"
     ]
    },
    {
     "name": "stderr",
     "output_type": "stream",
     "text": [
      "/global/u1/r/rmastand/dimuonAD/helpers/data_transforms.py:8: RuntimeWarning: invalid value encountered in log\n",
      "  logit = np.log(x_norm/(1-x_norm+1e-10)+1e-10)\n"
     ]
    },
    {
     "name": "stdout",
     "output_type": "stream",
     "text": [
      "{'SBL': 436882, 'SR': 135583, 'SBH': 483897}\n",
      "{'SBL': 277474, 'SR': 88726, 'SBH': 322563}\n",
      "\n",
      "SB bounds: 11.678493052982391, 17.215529474799467\n",
      "SR bounds: 13.830891074405086, 14.536405521038132\n",
      "Total events opp sign: 152053649\n",
      "Total events same sign: 29587460\n"
     ]
    },
    {
     "name": "stderr",
     "output_type": "stream",
     "text": [
      "/global/u1/r/rmastand/dimuonAD/helpers/data_transforms.py:8: RuntimeWarning: invalid value encountered in log\n",
      "  logit = np.log(x_norm/(1-x_norm+1e-10)+1e-10)\n"
     ]
    },
    {
     "name": "stdout",
     "output_type": "stream",
     "text": [
      "{'SBL': 441849, 'SR': 137688, 'SBH': 486833}\n",
      "{'SBL': 282365, 'SR': 89533, 'SBH': 326576}\n",
      "\n",
      "SB bounds: 11.913230763347338, 17.561561617242937\n",
      "SR bounds: 14.108891985000628, 14.828587272010997\n",
      "Total events opp sign: 153130396\n",
      "Total events same sign: 30295241\n"
     ]
    },
    {
     "name": "stderr",
     "output_type": "stream",
     "text": [
      "/global/u1/r/rmastand/dimuonAD/helpers/data_transforms.py:8: RuntimeWarning: invalid value encountered in log\n",
      "  logit = np.log(x_norm/(1-x_norm+1e-10)+1e-10)\n"
     ]
    },
    {
     "name": "stdout",
     "output_type": "stream",
     "text": [
      "{'SBL': 446973, 'SR': 139191, 'SBH': 490583}\n",
      "{'SBL': 286790, 'SR': 91008, 'SBH': 329983}\n",
      "\n",
      "SB bounds: 12.15268670169062, 17.91454900574952\n",
      "SR bounds: 14.39248071389914, 15.12664187617842\n",
      "Total events opp sign: 154216183\n",
      "Total events same sign: 31012112\n"
     ]
    },
    {
     "name": "stderr",
     "output_type": "stream",
     "text": [
      "/global/u1/r/rmastand/dimuonAD/helpers/data_transforms.py:8: RuntimeWarning: invalid value encountered in log\n",
      "  logit = np.log(x_norm/(1-x_norm+1e-10)+1e-10)\n"
     ]
    },
    {
     "name": "stdout",
     "output_type": "stream",
     "text": [
      "{'SBL': 451575, 'SR': 139813, 'SBH': 494399}\n",
      "{'SBL': 290916, 'SR': 92207, 'SBH': 333748}\n",
      "\n",
      "SB bounds: 12.3969557043946, 18.274631440765088\n",
      "SR bounds: 14.681769576248513, 15.430687377889607\n",
      "Total events opp sign: 155311381\n",
      "Total events same sign: 31738146\n"
     ]
    },
    {
     "name": "stderr",
     "output_type": "stream",
     "text": [
      "/global/u1/r/rmastand/dimuonAD/helpers/data_transforms.py:8: RuntimeWarning: invalid value encountered in log\n",
      "  logit = np.log(x_norm/(1-x_norm+1e-10)+1e-10)\n"
     ]
    },
    {
     "name": "stdout",
     "output_type": "stream",
     "text": [
      "{'SBL': 456697, 'SR': 139913, 'SBH': 498588}\n",
      "{'SBL': 295149, 'SR': 93346, 'SBH': 337539}\n",
      "\n",
      "SB bounds: 12.646134514052932, 18.641951532724466\n",
      "SR bounds: 14.976873144731108, 15.740844194185188\n",
      "Total events opp sign: 156415201\n",
      "Total events same sign: 32473400\n"
     ]
    },
    {
     "name": "stderr",
     "output_type": "stream",
     "text": [
      "/global/u1/r/rmastand/dimuonAD/helpers/data_transforms.py:8: RuntimeWarning: invalid value encountered in log\n",
      "  logit = np.log(x_norm/(1-x_norm+1e-10)+1e-10)\n"
     ]
    },
    {
     "name": "stdout",
     "output_type": "stream",
     "text": [
      "{'SBL': 460320, 'SR': 141601, 'SBH': 501899}\n",
      "{'SBL': 299306, 'SR': 94298, 'SBH': 341650}\n",
      "\n",
      "SB bounds: 12.900321817785395, 19.016654758532226\n",
      "SR bounds: 15.277908294940204, 16.05723516248831\n",
      "Total events opp sign: 157528225\n",
      "Total events same sign: 33217236\n"
     ]
    },
    {
     "name": "stderr",
     "output_type": "stream",
     "text": [
      "/global/u1/r/rmastand/dimuonAD/helpers/data_transforms.py:8: RuntimeWarning: invalid value encountered in log\n",
      "  logit = np.log(x_norm/(1-x_norm+1e-10)+1e-10)\n"
     ]
    },
    {
     "name": "stdout",
     "output_type": "stream",
     "text": [
      "{'SBL': 464219, 'SR': 142870, 'SBH': 505935}\n",
      "{'SBL': 303245, 'SR': 95552, 'SBH': 345039}\n",
      "\n",
      "SB bounds: 13.15961828632288, 19.398889519178724\n",
      "SR bounds: 15.584994251668503, 16.379985589254325\n",
      "Total events opp sign: 158650078\n",
      "Total events same sign: 33970277\n"
     ]
    },
    {
     "name": "stderr",
     "output_type": "stream",
     "text": [
      "/global/u1/r/rmastand/dimuonAD/helpers/data_transforms.py:8: RuntimeWarning: invalid value encountered in log\n",
      "  logit = np.log(x_norm/(1-x_norm+1e-10)+1e-10)\n"
     ]
    },
    {
     "name": "stdout",
     "output_type": "stream",
     "text": [
      "{'SBL': 468379, 'SR': 143641, 'SBH': 509833}\n",
      "{'SBL': 307152, 'SR': 96875, 'SBH': 349014}\n",
      "\n",
      "SB bounds: 13.42412661387797, 19.788807198514217\n",
      "SR bounds: 15.89825263612704, 16.709223299598335\n",
      "Total events opp sign: 159780851\n",
      "Total events same sign: 34731844\n"
     ]
    },
    {
     "name": "stderr",
     "output_type": "stream",
     "text": [
      "/global/u1/r/rmastand/dimuonAD/helpers/data_transforms.py:8: RuntimeWarning: invalid value encountered in log\n",
      "  logit = np.log(x_norm/(1-x_norm+1e-10)+1e-10)\n"
     ]
    },
    {
     "name": "stdout",
     "output_type": "stream",
     "text": [
      "{'SBL': 472356, 'SR': 144403, 'SBH': 514014}\n",
      "{'SBL': 310869, 'SR': 98001, 'SBH': 352697}\n",
      "\n",
      "SB bounds: 13.693951558816917, 20.186562223204355\n",
      "SR bounds: 16.217807514113193, 17.045078687920263\n",
      "Total events opp sign: 160919687\n",
      "Total events same sign: 35502316\n"
     ]
    },
    {
     "name": "stderr",
     "output_type": "stream",
     "text": [
      "/global/u1/r/rmastand/dimuonAD/helpers/data_transforms.py:8: RuntimeWarning: invalid value encountered in log\n",
      "  logit = np.log(x_norm/(1-x_norm+1e-10)+1e-10)\n"
     ]
    },
    {
     "name": "stdout",
     "output_type": "stream",
     "text": [
      "{'SBL': 476145, 'SR': 146105, 'SBH': 516586}\n",
      "{'SBL': 315166, 'SR': 98400, 'SBH': 356906}\n",
      "\n"
     ]
    }
   ],
   "source": [
    "from sklearn.preprocessing import StandardScaler\n",
    "\n",
    "frac_events_save = 1 # save out only a portion of the events\n",
    "\n",
    "bands = [\"SBL\", \"SR\", \"SBH\"]\n",
    "N_total_events = 0\n",
    "N_total_events_samesign = 0\n",
    "\n",
    "for i in range(num_windows):\n",
    "    \n",
    "    # define SR, SB\n",
    "\n",
    "    loc_SR_left, loc_SR_right = min(bin_definitions[i][\"SR\"]), max(bin_definitions[i][\"SR\"])\n",
    "    loc_SB_left, loc_SB_right = min(bin_definitions[i][\"SBL\"]), max(bin_definitions[i][\"SBH\"])\n",
    "\n",
    "    \n",
    "    print(f\"SB bounds: {loc_SB_left}, {loc_SB_right}\")\n",
    "    print(f\"SR bounds: {loc_SR_left}, {loc_SR_right}\")\n",
    "\n",
    "    band_bounds = {\"SBL\": [loc_SB_left, loc_SR_left],\n",
    "                       \"SR\": [loc_SR_left, loc_SR_right],\n",
    "                       \"SBH\": [loc_SR_right, loc_SB_right],\n",
    "                               }\n",
    "    \n",
    "    # split data into bands\n",
    "    preproc_dicts, preproc_dicts_samesign = {b:{} for b in bands}, {b:{} for b in bands}\n",
    "\n",
    "    for code in codes_list:\n",
    "        for b in bands:\n",
    "\n",
    "            # opp sign\n",
    "            loc_pass_indices = (cut_data[code][\"dimu_mass\"] >= band_bounds[b][0]) & (cut_data[code][\"dimu_mass\"] < band_bounds[b][1])\n",
    "            preproc_dicts[b][code] = {}\n",
    "            for feat in feature_set:\n",
    "                preproc_dicts[b][code][feat] = cut_data[code][feat][loc_pass_indices]\n",
    "            N_total_events += preproc_dicts[b][code][feat].shape[0]\n",
    "\n",
    "            # same sign\n",
    "            loc_pass_indices_samesign = (cut_data_samesign[code][\"dimu_mass\"] >= band_bounds[b][0]) & (cut_data_samesign[code][\"dimu_mass\"] < band_bounds[b][1])\n",
    "            preproc_dicts_samesign[b][code] = {}\n",
    "            for feat in feature_set:\n",
    "                preproc_dicts_samesign[b][code][feat] = cut_data_samesign[code][feat][loc_pass_indices_samesign]\n",
    "            N_total_events_samesign += preproc_dicts_samesign[b][code][feat].shape[0]\n",
    "\n",
    "    print(f\"Total events opp sign: {N_total_events}\")\n",
    "    print(f\"Total events same sign: {N_total_events_samesign}\")\n",
    "    \n",
    "    \n",
    "    # transformed / preprocess data\n",
    "    \n",
    "    sizes_dict, sizes_dict_samesign = {}, {}\n",
    "\n",
    "    proccessed_data_dict, proccessed_data_dict_samesign  = {b:{\"s_inj_data\":{}} for b in bands}, {b:{\"s_inj_data\":{}} for b in bands}\n",
    "\n",
    "    for feat in feature_set: \n",
    "\n",
    "        # train the preprocessor on the opp sign data only\n",
    "        data_SB = np.hstack((preproc_dicts[\"SBL\"][sim_id][feat], preproc_dicts[\"SBH\"][sim_id][feat])).reshape(-1, 1)\n",
    "\n",
    "        if feat == \"dimu_mass\": # don't logit transform\n",
    "            mass_scaler = StandardScaler()\n",
    "            mass_scaler = mass_scaler.fit(data_SB)\n",
    "\n",
    "            with open(f\"{working_dir}/projects/{scaler_id}/processed_data/mass_scaler_{i}\", \"wb\") as ofile:\n",
    "                pickle.dump(mass_scaler, ofile)\n",
    "                \n",
    "            \n",
    "\n",
    "            for b in bands:\n",
    "                num_events_save_band = int(len(preproc_dicts[b][sim_id][feat])*frac_events_save)\n",
    "                \n",
    "                proccessed_data_dict[b][\"s_inj_data\"][feat] = mass_scaler.transform(preproc_dicts[b][sim_id][feat][:num_events_save_band].reshape(-1,1))\n",
    "                proccessed_data_dict_samesign[b][\"s_inj_data\"][feat] =  mass_scaler.transform(preproc_dicts_samesign[b][sim_id][feat].reshape(-1,1))\n",
    "                sizes_dict[b] = proccessed_data_dict[b][\"s_inj_data\"][feat].shape[0]\n",
    "                sizes_dict_samesign[b] = proccessed_data_dict_samesign[b][\"s_inj_data\"][feat].shape[0]\n",
    "\n",
    "        else: \n",
    "            data_all = np.hstack((preproc_dicts[\"SBL\"][sim_id][feat], preproc_dicts[\"SBH\"][sim_id][feat], preproc_dicts[\"SR\"][sim_id][feat])).reshape(-1, 1)\n",
    "            all_min = np.min(data_all)\n",
    "            all_max = np.max(data_all)\n",
    "            # logit transform the features\n",
    "            transformed_feats = logit_transform(data_SB, all_min, all_max)\n",
    "            # subtract off mean, std of the training set\n",
    "            mean_to_sub = np.mean(transformed_feats)\n",
    "            std_to_sub = np.std(transformed_feats)\n",
    "            \n",
    "            \n",
    "\n",
    "            for b in bands:\n",
    "                num_events_save_band = int(len(preproc_dicts[b][sim_id][feat])*frac_events_save)\n",
    "                proccessed_data_dict[b][\"s_inj_data\"][feat] = (logit_transform(preproc_dicts[b][sim_id][feat][:num_events_save_band], all_min, all_max) - mean_to_sub)/std_to_sub\n",
    "                proccessed_data_dict_samesign[b][\"s_inj_data\"][feat] = (logit_transform(preproc_dicts_samesign[b][sim_id][feat], all_min, all_max) - mean_to_sub)/std_to_sub\n",
    "\n",
    "    print(sizes_dict)\n",
    "    print(sizes_dict_samesign)\n",
    "\n",
    "    \n",
    "    with open(f\"{working_dir}/projects/{scaler_id}/processed_data/{project_id}_{i}_nojet_test_band_data\", \"wb\") as ofile:\n",
    "        pickle.dump(proccessed_data_dict, ofile)\n",
    "\n",
    "    \n",
    "    with open(f\"{working_dir}/projects/{scaler_id}/processed_data/{project_id}_{i}_samesign_nojet_test_band_data\", \"wb\") as ofile:\n",
    "        pickle.dump(proccessed_data_dict_samesign, ofile)\n",
    "\n",
    "\n",
    "    print()\n"
   ]
  },
  {
   "cell_type": "code",
   "execution_count": null,
   "id": "590d0e9d-6eff-4b17-9488-4c3e1cc9905a",
   "metadata": {
    "tags": []
   },
   "outputs": [],
   "source": []
  },
  {
   "cell_type": "markdown",
   "id": "3e4b33b8-25c4-4af5-8ec3-b3c150249789",
   "metadata": {},
   "source": [
    "## Visualize\n"
   ]
  },
  {
   "cell_type": "code",
   "execution_count": 9,
   "id": "7080a019-aa16-40b9-801b-5a87663ffe34",
   "metadata": {
    "tags": []
   },
   "outputs": [
    {
     "data": {
      "image/png": "[encoded data removed]",
      "text/plain": [
       "<Figure size 360x216 with 1 Axes>"
      ]
     },
     "metadata": {
      "needs_background": "light"
     },
     "output_type": "display_data"
    },
    {
     "data": {
      "image/png": "[encoded data removed]",
      "text/plain": [
       "<Figure size 360x216 with 1 Axes>"
      ]
     },
     "metadata": {
      "needs_background": "light"
     },
     "output_type": "display_data"
    },
    {
     "data": {
      "image/png": "[encoded data removed]",
      "text/plain": [
       "<Figure size 360x216 with 1 Axes>"
      ]
     },
     "metadata": {
      "needs_background": "light"
     },
     "output_type": "display_data"
    },
    {
     "data": {
      "image/png": "[encoded data removed]",
      "text/plain": [
       "<Figure size 360x216 with 1 Axes>"
      ]
     },
     "metadata": {
      "needs_background": "light"
     },
     "output_type": "display_data"
    },
    {
     "data": {
      "image/png": "[encoded data removed]",
      "text/plain": [
       "<Figure size 360x216 with 1 Axes>"
      ]
     },
     "metadata": {
      "needs_background": "light"
     },
     "output_type": "display_data"
    },
    {
     "data": {
      "image/png": "[encoded data removed]",
      "text/plain": [
       "<Figure size 360x216 with 1 Axes>"
      ]
     },
     "metadata": {
      "needs_background": "light"
     },
     "output_type": "display_data"
    },
    {
     "data": {
      "image/png": "[encoded data removed]",
      "text/plain": [
       "<Figure size 360x216 with 1 Axes>"
      ]
     },
     "metadata": {
      "needs_background": "light"
     },
     "output_type": "display_data"
    },
    {
     "data": {
      "image/png": "[encoded data removed]",
      "text/plain": [
       "<Figure size 360x216 with 1 Axes>"
      ]
     },
     "metadata": {
      "needs_background": "light"
     },
     "output_type": "display_data"
    },
    {
     "data": {
      "image/png": "[encoded data removed]",
      "text/plain": [
       "<Figure size 360x216 with 1 Axes>"
      ]
     },
     "metadata": {
      "needs_background": "light"
     },
     "output_type": "display_data"
    },
    {
     "data": {
      "image/png": "[encoded data removed]",
      "text/plain": [
       "<Figure size 360x216 with 1 Axes>"
      ]
     },
     "metadata": {
      "needs_background": "light"
     },
     "output_type": "display_data"
    },
    {
     "data": {
      "image/png": "[encoded data removed]",
      "text/plain": [
       "<Figure size 360x216 with 1 Axes>"
      ]
     },
     "metadata": {
      "needs_background": "light"
     },
     "output_type": "display_data"
    },
    {
     "data": {
      "image/png": "[encoded data removed]",
      "text/plain": [
       "<Figure size 360x216 with 1 Axes>"
      ]
     },
     "metadata": {
      "needs_background": "light"
     },
     "output_type": "display_data"
    },
    {
     "data": {
      "image/png": "[encoded data removed]",
      "text/plain": [
       "<Figure size 360x216 with 1 Axes>"
      ]
     },
     "metadata": {
      "needs_background": "light"
     },
     "output_type": "display_data"
    },
    {
     "data": {
      "image/png": "[encoded data removed]",
      "text/plain": [
       "<Figure size 360x216 with 1 Axes>"
      ]
     },
     "metadata": {
      "needs_background": "light"
     },
     "output_type": "display_data"
    },
    {
     "data": {
      "image/png": "[encoded data removed]",
      "text/plain": [
       "<Figure size 360x216 with 1 Axes>"
      ]
     },
     "metadata": {
      "needs_background": "light"
     },
     "output_type": "display_data"
    },
    {
     "data": {
      "image/png": "[encoded data removed]",
      "text/plain": [
       "<Figure size 360x216 with 1 Axes>"
      ]
     },
     "metadata": {
      "needs_background": "light"
     },
     "output_type": "display_data"
    },
    {
     "data": {
      "image/png": "[encoded data removed]",
      "text/plain": [
       "<Figure size 360x216 with 1 Axes>"
      ]
     },
     "metadata": {
      "needs_background": "light"
     },
     "output_type": "display_data"
    },
    {
     "data": {
      "image/png": "[encoded data removed]",
      "text/plain": [
       "<Figure size 360x216 with 1 Axes>"
      ]
     },
     "metadata": {
      "needs_background": "light"
     },
     "output_type": "display_data"
    },
    {
     "data": {
      "image/png": "[encoded data removed]",
      "text/plain": [
       "<Figure size 360x216 with 1 Axes>"
      ]
     },
     "metadata": {
      "needs_background": "light"
     },
     "output_type": "display_data"
    },
    {
     "data": {
      "image/png": "[encoded data removed]",
      "text/plain": [
       "<Figure size 360x216 with 1 Axes>"
      ]
     },
     "metadata": {
      "needs_background": "light"
     },
     "output_type": "display_data"
    },
    {
     "data": {
      "image/png": "[encoded data removed]",
      "text/plain": [
       "<Figure size 360x216 with 1 Axes>"
      ]
     },
     "metadata": {
      "needs_background": "light"
     },
     "output_type": "display_data"
    },
    {
     "data": {
      "image/png": "[encoded data removed]",
      "text/plain": [
       "<Figure size 360x216 with 1 Axes>"
      ]
     },
     "metadata": {
      "needs_background": "light"
     },
     "output_type": "display_data"
    },
    {
     "data": {
      "image/png": "[encoded data removed]",
      "text/plain": [
       "<Figure size 360x216 with 1 Axes>"
      ]
     },
     "metadata": {
      "needs_background": "light"
     },
     "output_type": "display_data"
    },
    {
     "data": {
      "image/png": "[encoded data removed]",
      "text/plain": [
       "<Figure size 360x216 with 1 Axes>"
      ]
     },
     "metadata": {
      "needs_background": "light"
     },
     "output_type": "display_data"
    },
    {
     "data": {
      "image/png": "[encoded data removed]",
      "text/plain": [
       "<Figure size 360x216 with 1 Axes>"
      ]
     },
     "metadata": {
      "needs_background": "light"
     },
     "output_type": "display_data"
    },
    {
     "data": {
      "image/png": "[encoded data removed]",
      "text/plain": [
       "<Figure size 360x216 with 1 Axes>"
      ]
     },
     "metadata": {
      "needs_background": "light"
     },
     "output_type": "display_data"
    },
    {
     "data": {
      "image/png": "[encoded data removed]",
      "text/plain": [
       "<Figure size 360x216 with 1 Axes>"
      ]
     },
     "metadata": {
      "needs_background": "light"
     },
     "output_type": "display_data"
    },
    {
     "data": {
      "image/png": "[encoded data removed]",
      "text/plain": [
       "<Figure size 360x216 with 1 Axes>"
      ]
     },
     "metadata": {
      "needs_background": "light"
     },
     "output_type": "display_data"
    },
    {
     "data": {
      "image/png": "[encoded data removed]",
      "text/plain": [
       "<Figure size 360x216 with 1 Axes>"
      ]
     },
     "metadata": {
      "needs_background": "light"
     },
     "output_type": "display_data"
    },
    {
     "data": {
      "image/png": "[encoded data removed]",
      "text/plain": [
       "<Figure size 360x216 with 1 Axes>"
      ]
     },
     "metadata": {
      "needs_background": "light"
     },
     "output_type": "display_data"
    },
    {
     "data": {
      "image/png": "[encoded data removed]",
      "text/plain": [
       "<Figure size 360x216 with 1 Axes>"
      ]
     },
     "metadata": {
      "needs_background": "light"
     },
     "output_type": "display_data"
    },
    {
     "data": {
      "image/png": "[encoded data removed]",
      "text/plain": [
       "<Figure size 360x216 with 1 Axes>"
      ]
     },
     "metadata": {
      "needs_background": "light"
     },
     "output_type": "display_data"
    },
    {
     "data": {
      "image/png": "[encoded data removed]",
      "text/plain": [
       "<Figure size 360x216 with 1 Axes>"
      ]
     },
     "metadata": {
      "needs_background": "light"
     },
     "output_type": "display_data"
    },
    {
     "data": {
      "image/png": "[encoded data removed]",
      "text/plain": [
       "<Figure size 360x216 with 1 Axes>"
      ]
     },
     "metadata": {
      "needs_background": "light"
     },
     "output_type": "display_data"
    },
    {
     "data": {
      "image/png": "[encoded data removed]",
      "text/plain": [
       "<Figure size 360x216 with 1 Axes>"
      ]
     },
     "metadata": {
      "needs_background": "light"
     },
     "output_type": "display_data"
    },
    {
     "data": {
      "image/png": "[encoded data removed]",
      "text/plain": [
       "<Figure size 360x216 with 1 Axes>"
      ]
     },
     "metadata": {
      "needs_background": "light"
     },
     "output_type": "display_data"
    },
    {
     "data": {
      "image/png": "[encoded data removed]",
      "text/plain": [
       "<Figure size 360x216 with 1 Axes>"
      ]
     },
     "metadata": {
      "needs_background": "light"
     },
     "output_type": "display_data"
    },
    {
     "data": {
      "image/png": "[encoded data removed]",
      "text/plain": [
       "<Figure size 360x216 with 1 Axes>"
      ]
     },
     "metadata": {
      "needs_background": "light"
     },
     "output_type": "display_data"
    },
    {
     "data": {
      "image/png": "[encoded data removed]",
      "text/plain": [
       "<Figure size 360x216 with 1 Axes>"
      ]
     },
     "metadata": {
      "needs_background": "light"
     },
     "output_type": "display_data"
    },
    {
     "data": {
      "image/png": "[encoded data removed]",
      "text/plain": [
       "<Figure size 360x216 with 1 Axes>"
      ]
     },
     "metadata": {
      "needs_background": "light"
     },
     "output_type": "display_data"
    }
   ],
   "source": [
    "hist_all_features_dict([proccessed_data_dict[\"SBL\"][\"s_inj_data\"], proccessed_data_dict[\"SBH\"][\"s_inj_data\"], proccessed_data_dict[\"SR\"][\"s_inj_data\"]], \n",
    "                       [\"SBL\", \"SBH\", \"SR\"], feature_set, kwargs_dict_bands, scaled_features=True, plot_bound=5, image_path=None, yscale_log=False, nice_labels=True)\n",
    "\n",
    "\n",
    "hist_all_features_dict([proccessed_data_dict_samesign[\"SBL\"][\"s_inj_data\"], proccessed_data_dict_samesign[\"SBH\"][\"s_inj_data\"], proccessed_data_dict_samesign[\"SR\"][\"s_inj_data\"]], \n",
    "                       [\"SBL\", \"SBH\", \"SR\"], feature_set, kwargs_dict_bands, scaled_features=True, plot_bound=10, image_path=None, yscale_log=False, nice_labels=True)\n",
    "\n",
    "\n",
    "\n"
   ]
  },
  {
   "cell_type": "code",
   "execution_count": null,
   "id": "9dff8207-506b-4d1e-a707-d394ef6f7e37",
   "metadata": {
    "tags": []
   },
   "outputs": [],
   "source": []
  },
  {
   "cell_type": "markdown",
   "id": "5db6e425-bc48-4faf-ac73-3bacce0717ad",
   "metadata": {},
   "source": [
    "Create a batch script for flow training\n"
   ]
  },
  {
   "cell_type": "code",
   "execution_count": 15,
   "id": "6542b296-826b-446e-ad19-31c557d76630",
   "metadata": {},
   "outputs": [],
   "source": [
    "feature_sets = workflow[\"feature_sets\"]\n",
    "\n",
    "if run_jet: jet_id = \"jet\"\n",
    "else:jet_id = \"nojet\"\n",
    "\n",
    "num_windows = len(bin_definitions.keys())\n",
    "    \n",
    "    \n",
    "    \n",
    "batches_to_run = [\"single_3\"]\n",
    "\n",
    "with open(\"batch_lowmass_scan_05.sh\", \"w\") as ofile:\n",
    "    \n",
    "    ofile.write(\"#!/bin/sh \\n\\n\")\n",
    "    ofile.write(\"#SBATCH -N 1\\n\")\n",
    "    ofile.write(\"#SBATCH -C gpu\\n\")\n",
    "    ofile.write(\"#SBATCH -G 1\\n\")\n",
    "    ofile.write(\"#SBATCH -q regular\\n\")\n",
    "    ofile.write(\"#SBATCH --job-name=lowmass_scan\\n\")\n",
    "    ofile.write(\"#SBATCH --mail-user=rmastand@berkeley.edu\\n\")\n",
    "    ofile.write(\"#SBATCH --mail-type=ALL\\n\")\n",
    "    ofile.write(\"#SBATCH -t 5:00:00\\n\")\n",
    "    ofile.write(\"#SBATCH -A m3246\\n\")\n",
    "    ofile.write(f\"#SBATCH --array=0-{2*num_windows-1}\\n\\n\")\n",
    "    ofile.write(f\"declare -a commands=(\\n\")\n",
    "\n",
    "    i = 0\n",
    "\n",
    "    for fs in batches_to_run:\n",
    "        for window_index in range(num_windows): \n",
    "\n",
    "            loc_command = '[{i}]=\"python 05_trueCATHODE.py -fid {feature_set} -f {feature_list},dimu_mass -pid lowmass_{window_index}_{jet_id} -c CATHODE_8 -seed 1 -did lowmass_scan -premade_bins -fit cubic\"'.format(feature_set=fs,feature_list = \",\".join(feature_sets[fs]), window_index = window_index, i = i, jet_id = jet_id )\n",
    "            #oc_command = 'python 05_trueCATHODE.py -fid {feature_set} -f {feature_list},dimu_mass -pid lowmass_{window_index}_{jet_id} -c CATHODE_8 -seed 1 -did lowmass_scan -premade_bins'.format(feature_set=fs,feature_list = \",\".join(feature_sets[fs]), window_index = window_index, i = i, jet_id = jet_id )\n",
    "\n",
    "            ofile.write(loc_command)\n",
    "            ofile.write(\"\\n\")\n",
    "            loc_command = '[{i}]=\"python 05_trueCATHODE.py -fid {feature_set} -f {feature_list},dimu_mass -pid lowmass_{window_index}_samesign_{jet_id} -c CATHODE_8 -seed 1 -did lowmass_scan -premade_bins -fit cubic\"'.format(feature_set=fs,feature_list = \",\".join(feature_sets[fs]), window_index = window_index, i = 2*i+1, jet_id = jet_id )\n",
    "            ofile.write(loc_command)\n",
    "            ofile.write(\"\\n\")\n",
    "            i += 1\n",
    "\n",
    "    ofile.write(f\")\\n\")\n",
    "    ofile.write(f\"srun ${{commands[$SLURM_ARRAY_TASK_ID]}}\")\n",
    "\n"
   ]
  },
  {
   "cell_type": "code",
   "execution_count": null,
   "id": "c06cbe07-44f5-4a5d-99df-d67d27b0d3fb",
   "metadata": {},
   "outputs": [],
   "source": [
    "with open(\"batch_lowmass_scan_06.sh\", \"w\") as ofile:\n",
    "\n",
    "    for fs in batches_to_run:\n",
    "        for window_index in range(num_windows): \n",
    "\n",
    "            loc_command = f'python 06_eval_CATHODE.py -f {fs} -p {window_index} -did lowmass_scan'\n",
    "            if run_jet:\n",
    "                loc_command += \" -run_jet\"\n",
    "            ofile.write(loc_command+\"\\n\")\n",
    "            loc_command = f'python 06_eval_CATHODE.py -f {fs} -p {window_index}_samesign -did lowmass_scan'\n",
    "            if run_jet:\n",
    "                loc_command += \" -run_jet\"\n",
    "            ofile.write(loc_command+\"\\n\")"
   ]
  },
  {
   "cell_type": "code",
   "execution_count": null,
   "id": "7800495d-0f11-4907-9b50-518c6f8f754d",
   "metadata": {},
   "outputs": [],
   "source": []
  },
  {
   "cell_type": "code",
   "execution_count": null,
   "id": "4c5551d7-64a4-424d-a238-47d4989c7db2",
   "metadata": {},
   "outputs": [],
   "source": [
    "n_ensemble = 20\n",
    "n_bootstrap = 1\n",
    "\n",
    "with open(\"batch_lowmass_scan_07.sh\", \"w\") as ofile:\n",
    "    \n",
    "\n",
    "    for fs in batches_to_run:\n",
    "        for window_index in range(num_windows): \n",
    "\n",
    "            loc_command = f'python 07_bump_hunt_boostrap.py -f {fs} -p {window_index} -ne {n_ensemble} -nb {n_bootstrap} -did lowmass_scan'\n",
    "            if run_jet:\n",
    "                loc_command += \" -run_jet\"\n",
    "            ofile.write(loc_command+\"\\n\")\n",
    "            loc_command = f'python 07_bump_hunt_boostrap.py -f {fs} -p {window_index} -train_samesign -ne {n_ensemble} -nb {n_bootstrap} -did lowmass_scan'\n",
    "            if run_jet:\n",
    "                loc_command += \" -run_jet\"\n",
    "            #ofile.write(loc_command+\"\\n\")\n",
    "            \n",
    "\n",
    "    ofile.write(f\"\\n\")\n",
    "\n"
   ]
  },
  {
   "cell_type": "code",
   "execution_count": null,
   "id": "e7b1899b-7586-485e-8f3f-953c0116ac19",
   "metadata": {},
   "outputs": [],
   "source": []
  },
  {
   "cell_type": "code",
   "execution_count": null,
   "id": "d3ce6e7a-b502-4e2f-9df5-e181c9247e71",
   "metadata": {},
   "outputs": [],
   "source": []
  },
  {
   "cell_type": "code",
   "execution_count": null,
   "id": "df17ba0a-1f8f-45e9-986e-497ff7cf6bfb",
   "metadata": {},
   "outputs": [],
   "source": []
  },
  {
   "cell_type": "code",
   "execution_count": null,
   "id": "9c0066ba-a39d-4ae2-a0f7-142c749544f8",
   "metadata": {},
   "outputs": [],
   "source": []
  },
  {
   "cell_type": "code",
   "execution_count": null,
   "id": "cd90c5b3-64c1-4fc4-a957-686cbfdcaa95",
   "metadata": {},
   "outputs": [],
   "source": []
  },
  {
   "cell_type": "code",
   "execution_count": null,
   "id": "fc55128e-cc9f-496a-8f98-1a0995af3311",
   "metadata": {},
   "outputs": [],
   "source": []
  }
 ],
 "metadata": {
  "kernelspec": {
   "display_name": "Python 3 (ipykernel)",
   "language": "python",
   "name": "python3"
  },
  "language_info": {
   "codemirror_mode": {
    "name": "ipython",
    "version": 3
   },
   "file_extension": ".py",
   "mimetype": "text/x-python",
   "name": "python",
   "nbconvert_exporter": "python",
   "pygments_lexer": "ipython3",
   "version": "3.8.5"
  }
 },
 "nbformat": 4,
 "nbformat_minor": 5
}

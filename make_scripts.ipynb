{
 "cells": [
  {
   "cell_type": "code",
   "execution_count": 2,
   "id": "07b4198d-c02e-40a3-b494-29f65b1baf50",
   "metadata": {
    "tags": []
   },
   "outputs": [],
   "source": [
    "feature_sets = {\n",
    "    \n",
    "    \"single_0\": ['mu0_pt', 'mu1_pt', 'mu0_eta', 'mu1_eta'] ,\n",
    "    \"single_1\": ['mu0_iso04', 'mu1_iso04'] ,\n",
    "    \"single_2\": ['mu0_pt', 'mu1_pt'] ,\n",
    "    \"single_3\": ['mu0_ip3d', 'mu1_ip3d', 'mu0_jetiso', 'mu1_jetiso'] ,\n",
    "    \"double_0\": ['dimu_pt', 'dimu_eta', 'mumu_deltaR', 'mumu_deltapT'] ,\n",
    "    \"double_1\": ['dimu_pt', 'dimu_eta'] ,\n",
    "    \"double_2\": ['mumu_deltaR', 'mumu_deltapT'] ,\n",
    "    \"mix_0\": ['dimu_pt', 'mu0_iso04', 'mu1_iso04'] ,\n",
    "}\n"
   ]
  },
  {
   "cell_type": "markdown",
   "id": "1a4b8457-f18c-40b2-b4b5-42dc91184bc8",
   "metadata": {},
   "source": [
    "Make batch.sh"
   ]
  },
  {
   "cell_type": "code",
   "execution_count": 3,
   "id": "a8276fb2-c242-4dc1-8740-4f3c2e19c713",
   "metadata": {
    "tags": []
   },
   "outputs": [
    {
     "name": "stdout",
     "output_type": "stream",
     "text": [
      "[0]=\"python 05_trueCATHODE.py -fid single_0 -f mu0_pt,mu1_pt,mu0_eta,mu1_eta,dimu_mass -pid lowmass_upsilon_iso_nojet -c CATHODE_8\"\n",
      "[1]=\"python 05_trueCATHODE.py -fid single_0 -f mu0_pt,mu1_pt,mu0_eta,mu1_eta,dimu_mass -pid lowmass_upsilon_iso_samesign_nojet -c CATHODE_8\"\n",
      "[2]=\"python 05_trueCATHODE.py -fid single_0 -f mu0_pt,mu1_pt,mu0_eta,mu1_eta,dimu_mass -pid lowmass_psi_prime_iso_low_nojet -c CATHODE_8\"\n",
      "[3]=\"python 05_trueCATHODE.py -fid single_0 -f mu0_pt,mu1_pt,mu0_eta,mu1_eta,dimu_mass -pid lowmass_psi_prime_iso_low_samesign_nojet -c CATHODE_8\"\n",
      "[4]=\"python 05_trueCATHODE.py -fid single_0 -f mu0_pt,mu1_pt,mu0_eta,mu1_eta,dimu_mass -pid lowmass_psi_prime_iso_high_nojet -c CATHODE_8\"\n",
      "[5]=\"python 05_trueCATHODE.py -fid single_0 -f mu0_pt,mu1_pt,mu0_eta,mu1_eta,dimu_mass -pid lowmass_psi_prime_iso_high_samesign_nojet -c CATHODE_8\"\n",
      "[6]=\"python 05_trueCATHODE.py -fid single_0 -f mu0_pt,mu1_pt,mu0_eta,mu1_eta,dimu_mass -pid lowmass_eta_none_nojet -c CATHODE_8\"\n",
      "[7]=\"python 05_trueCATHODE.py -fid single_0 -f mu0_pt,mu1_pt,mu0_eta,mu1_eta,dimu_mass -pid lowmass_eta_none_samesign_nojet -c CATHODE_8\"\n",
      "[8]=\"python 05_trueCATHODE.py -fid single_1 -f mu0_iso04,mu1_iso04,dimu_mass -pid lowmass_upsilon_iso_nojet -c CATHODE_8\"\n",
      "[9]=\"python 05_trueCATHODE.py -fid single_1 -f mu0_iso04,mu1_iso04,dimu_mass -pid lowmass_upsilon_iso_samesign_nojet -c CATHODE_8\"\n",
      "[10]=\"python 05_trueCATHODE.py -fid single_1 -f mu0_iso04,mu1_iso04,dimu_mass -pid lowmass_psi_prime_iso_low_nojet -c CATHODE_8\"\n",
      "[11]=\"python 05_trueCATHODE.py -fid single_1 -f mu0_iso04,mu1_iso04,dimu_mass -pid lowmass_psi_prime_iso_low_samesign_nojet -c CATHODE_8\"\n",
      "[12]=\"python 05_trueCATHODE.py -fid single_1 -f mu0_iso04,mu1_iso04,dimu_mass -pid lowmass_psi_prime_iso_high_nojet -c CATHODE_8\"\n",
      "[13]=\"python 05_trueCATHODE.py -fid single_1 -f mu0_iso04,mu1_iso04,dimu_mass -pid lowmass_psi_prime_iso_high_samesign_nojet -c CATHODE_8\"\n",
      "[14]=\"python 05_trueCATHODE.py -fid single_1 -f mu0_iso04,mu1_iso04,dimu_mass -pid lowmass_eta_none_nojet -c CATHODE_8\"\n",
      "[15]=\"python 05_trueCATHODE.py -fid single_1 -f mu0_iso04,mu1_iso04,dimu_mass -pid lowmass_eta_none_samesign_nojet -c CATHODE_8\"\n",
      "[16]=\"python 05_trueCATHODE.py -fid single_2 -f mu0_pt,mu1_pt,dimu_mass -pid lowmass_upsilon_iso_nojet -c CATHODE_8\"\n",
      "[17]=\"python 05_trueCATHODE.py -fid single_2 -f mu0_pt,mu1_pt,dimu_mass -pid lowmass_upsilon_iso_samesign_nojet -c CATHODE_8\"\n",
      "[18]=\"python 05_trueCATHODE.py -fid single_2 -f mu0_pt,mu1_pt,dimu_mass -pid lowmass_psi_prime_iso_low_nojet -c CATHODE_8\"\n",
      "[19]=\"python 05_trueCATHODE.py -fid single_2 -f mu0_pt,mu1_pt,dimu_mass -pid lowmass_psi_prime_iso_low_samesign_nojet -c CATHODE_8\"\n",
      "[20]=\"python 05_trueCATHODE.py -fid single_2 -f mu0_pt,mu1_pt,dimu_mass -pid lowmass_psi_prime_iso_high_nojet -c CATHODE_8\"\n",
      "[21]=\"python 05_trueCATHODE.py -fid single_2 -f mu0_pt,mu1_pt,dimu_mass -pid lowmass_psi_prime_iso_high_samesign_nojet -c CATHODE_8\"\n",
      "[22]=\"python 05_trueCATHODE.py -fid single_2 -f mu0_pt,mu1_pt,dimu_mass -pid lowmass_eta_none_nojet -c CATHODE_8\"\n",
      "[23]=\"python 05_trueCATHODE.py -fid single_2 -f mu0_pt,mu1_pt,dimu_mass -pid lowmass_eta_none_samesign_nojet -c CATHODE_8\"\n",
      "[24]=\"python 05_trueCATHODE.py -fid single_3 -f mu0_ip3d,mu1_ip3d,mu0_jetiso,mu1_jetiso,dimu_mass -pid lowmass_eta_none_nojet -c CATHODE_8\"\n",
      "[25]=\"python 05_trueCATHODE.py -fid single_3 -f mu0_ip3d,mu1_ip3d,mu0_jetiso,mu1_jetiso,dimu_mass -pid lowmass_eta_none_samesign_nojet -c CATHODE_8\"\n",
      "[26]=\"python 05_trueCATHODE.py -fid double_0 -f dimu_pt,dimu_eta,mumu_deltaR,mumu_deltapT,dimu_mass -pid lowmass_upsilon_iso_nojet -c CATHODE_8\"\n",
      "[27]=\"python 05_trueCATHODE.py -fid double_0 -f dimu_pt,dimu_eta,mumu_deltaR,mumu_deltapT,dimu_mass -pid lowmass_upsilon_iso_samesign_nojet -c CATHODE_8\"\n",
      "[28]=\"python 05_trueCATHODE.py -fid double_0 -f dimu_pt,dimu_eta,mumu_deltaR,mumu_deltapT,dimu_mass -pid lowmass_psi_prime_iso_low_nojet -c CATHODE_8\"\n",
      "[29]=\"python 05_trueCATHODE.py -fid double_0 -f dimu_pt,dimu_eta,mumu_deltaR,mumu_deltapT,dimu_mass -pid lowmass_psi_prime_iso_low_samesign_nojet -c CATHODE_8\"\n",
      "[30]=\"python 05_trueCATHODE.py -fid double_0 -f dimu_pt,dimu_eta,mumu_deltaR,mumu_deltapT,dimu_mass -pid lowmass_psi_prime_iso_high_nojet -c CATHODE_8\"\n",
      "[31]=\"python 05_trueCATHODE.py -fid double_0 -f dimu_pt,dimu_eta,mumu_deltaR,mumu_deltapT,dimu_mass -pid lowmass_psi_prime_iso_high_samesign_nojet -c CATHODE_8\"\n",
      "[32]=\"python 05_trueCATHODE.py -fid double_0 -f dimu_pt,dimu_eta,mumu_deltaR,mumu_deltapT,dimu_mass -pid lowmass_eta_none_nojet -c CATHODE_8\"\n",
      "[33]=\"python 05_trueCATHODE.py -fid double_0 -f dimu_pt,dimu_eta,mumu_deltaR,mumu_deltapT,dimu_mass -pid lowmass_eta_none_samesign_nojet -c CATHODE_8\"\n",
      "[34]=\"python 05_trueCATHODE.py -fid double_1 -f dimu_pt,dimu_eta,dimu_mass -pid lowmass_upsilon_iso_nojet -c CATHODE_8\"\n",
      "[35]=\"python 05_trueCATHODE.py -fid double_1 -f dimu_pt,dimu_eta,dimu_mass -pid lowmass_upsilon_iso_samesign_nojet -c CATHODE_8\"\n",
      "[36]=\"python 05_trueCATHODE.py -fid double_1 -f dimu_pt,dimu_eta,dimu_mass -pid lowmass_psi_prime_iso_low_nojet -c CATHODE_8\"\n",
      "[37]=\"python 05_trueCATHODE.py -fid double_1 -f dimu_pt,dimu_eta,dimu_mass -pid lowmass_psi_prime_iso_low_samesign_nojet -c CATHODE_8\"\n",
      "[38]=\"python 05_trueCATHODE.py -fid double_1 -f dimu_pt,dimu_eta,dimu_mass -pid lowmass_psi_prime_iso_high_nojet -c CATHODE_8\"\n",
      "[39]=\"python 05_trueCATHODE.py -fid double_1 -f dimu_pt,dimu_eta,dimu_mass -pid lowmass_psi_prime_iso_high_samesign_nojet -c CATHODE_8\"\n",
      "[40]=\"python 05_trueCATHODE.py -fid double_1 -f dimu_pt,dimu_eta,dimu_mass -pid lowmass_eta_none_nojet -c CATHODE_8\"\n",
      "[41]=\"python 05_trueCATHODE.py -fid double_1 -f dimu_pt,dimu_eta,dimu_mass -pid lowmass_eta_none_samesign_nojet -c CATHODE_8\"\n",
      "[42]=\"python 05_trueCATHODE.py -fid double_1 -f dimu_pt,dimu_eta,dimu_mass -pid lowmass_eta_iso_nojet -c CATHODE_8\"\n",
      "[43]=\"python 05_trueCATHODE.py -fid double_1 -f dimu_pt,dimu_eta,dimu_mass -pid lowmass_eta_iso_samesign_nojet -c CATHODE_8\"\n",
      "[44]=\"python 05_trueCATHODE.py -fid double_2 -f mumu_deltaR,mumu_deltapT,dimu_mass -pid lowmass_upsilon_iso_nojet -c CATHODE_8\"\n",
      "[45]=\"python 05_trueCATHODE.py -fid double_2 -f mumu_deltaR,mumu_deltapT,dimu_mass -pid lowmass_upsilon_iso_samesign_nojet -c CATHODE_8\"\n",
      "[46]=\"python 05_trueCATHODE.py -fid double_2 -f mumu_deltaR,mumu_deltapT,dimu_mass -pid lowmass_psi_prime_iso_low_nojet -c CATHODE_8\"\n",
      "[47]=\"python 05_trueCATHODE.py -fid double_2 -f mumu_deltaR,mumu_deltapT,dimu_mass -pid lowmass_psi_prime_iso_low_samesign_nojet -c CATHODE_8\"\n",
      "[48]=\"python 05_trueCATHODE.py -fid double_2 -f mumu_deltaR,mumu_deltapT,dimu_mass -pid lowmass_psi_prime_iso_high_nojet -c CATHODE_8\"\n",
      "[49]=\"python 05_trueCATHODE.py -fid double_2 -f mumu_deltaR,mumu_deltapT,dimu_mass -pid lowmass_psi_prime_iso_high_samesign_nojet -c CATHODE_8\"\n",
      "[50]=\"python 05_trueCATHODE.py -fid double_2 -f mumu_deltaR,mumu_deltapT,dimu_mass -pid lowmass_eta_none_nojet -c CATHODE_8\"\n",
      "[51]=\"python 05_trueCATHODE.py -fid double_2 -f mumu_deltaR,mumu_deltapT,dimu_mass -pid lowmass_eta_none_samesign_nojet -c CATHODE_8\"\n",
      "[52]=\"python 05_trueCATHODE.py -fid mix_0 -f dimu_pt,mu0_iso04,mu1_iso04,dimu_mass -pid lowmass_upsilon_iso_nojet -c CATHODE_8\"\n",
      "[53]=\"python 05_trueCATHODE.py -fid mix_0 -f dimu_pt,mu0_iso04,mu1_iso04,dimu_mass -pid lowmass_upsilon_iso_samesign_nojet -c CATHODE_8\"\n",
      "[54]=\"python 05_trueCATHODE.py -fid mix_0 -f dimu_pt,mu0_iso04,mu1_iso04,dimu_mass -pid lowmass_psi_prime_iso_low_nojet -c CATHODE_8\"\n",
      "[55]=\"python 05_trueCATHODE.py -fid mix_0 -f dimu_pt,mu0_iso04,mu1_iso04,dimu_mass -pid lowmass_psi_prime_iso_low_samesign_nojet -c CATHODE_8\"\n",
      "[56]=\"python 05_trueCATHODE.py -fid mix_0 -f dimu_pt,mu0_iso04,mu1_iso04,dimu_mass -pid lowmass_psi_prime_iso_high_nojet -c CATHODE_8\"\n",
      "[57]=\"python 05_trueCATHODE.py -fid mix_0 -f dimu_pt,mu0_iso04,mu1_iso04,dimu_mass -pid lowmass_psi_prime_iso_high_samesign_nojet -c CATHODE_8\"\n",
      "[58]=\"python 05_trueCATHODE.py -fid mix_0 -f dimu_pt,mu0_iso04,mu1_iso04,dimu_mass -pid lowmass_eta_none_nojet -c CATHODE_8\"\n",
      "[59]=\"python 05_trueCATHODE.py -fid mix_0 -f dimu_pt,mu0_iso04,mu1_iso04,dimu_mass -pid lowmass_eta_none_samesign_nojet -c CATHODE_8\"\n"
     ]
    }
   ],
   "source": [
    "batches_to_run = [ # feature_set, particle_code\n",
    "    [\"single_0\", \"upsilon_iso\"],\n",
    "    [\"single_0\", \"psi_prime_iso_low\"],\n",
    "    [\"single_0\", \"psi_prime_iso_high\"],\n",
    "    [\"single_0\", \"eta_none\"],\n",
    "    [\"single_1\", \"upsilon_iso\"],\n",
    "    [\"single_1\", \"psi_prime_iso_low\"],\n",
    "    [\"single_1\", \"psi_prime_iso_high\"],\n",
    "    [\"single_1\", \"eta_none\"],\n",
    "    [\"single_2\", \"upsilon_iso\"],\n",
    "    [\"single_2\", \"psi_prime_iso_low\"],\n",
    "    [\"single_2\", \"psi_prime_iso_high\"],\n",
    "    [\"single_2\", \"eta_none\"],\n",
    "    [\"single_3\", \"eta_none\"],\n",
    "    [\"double_0\", \"upsilon_iso\"],\n",
    "    [\"double_0\", \"psi_prime_iso_low\"],\n",
    "    [\"double_0\", \"psi_prime_iso_high\"],\n",
    "    [\"double_0\", \"eta_none\"],\n",
    "    [\"double_1\", \"upsilon_iso\"],\n",
    "    [\"double_1\", \"psi_prime_iso_low\"],\n",
    "    [\"double_1\", \"psi_prime_iso_high\"],\n",
    "    [\"double_1\", \"eta_none\"],\n",
    "    [\"double_1\", \"eta_iso\"],\n",
    "    [\"double_2\", \"upsilon_iso\"],\n",
    "    [\"double_2\", \"psi_prime_iso_low\"],\n",
    "    [\"double_2\", \"psi_prime_iso_high\"],\n",
    "    [\"double_2\", \"eta_none\"],\n",
    "    [\"mix_0\", \"upsilon_iso\"],\n",
    "    [\"mix_0\", \"psi_prime_iso_low\"],\n",
    "    [\"mix_0\", \"psi_prime_iso_high\"],\n",
    "    [\"mix_0\", \"eta_none\"],\n",
    "]\n",
    "\n",
    "for i, b in enumerate(batches_to_run):\n",
    "    \n",
    "    \n",
    "    loc_command = '[{i}]=\"python 05_trueCATHODE.py -fid {feature_set} -f {feature_list},dimu_mass -pid lowmass_{particle_code}_nojet -c CATHODE_8\"'.format(feature_set=b[0],feature_list = \",\".join(feature_sets[b[0]]), particle_code = b[1], i=2*i )\n",
    "    print(loc_command)\n",
    "    loc_command = '[{i}]=\"python 05_trueCATHODE.py -fid {feature_set} -f {feature_list},dimu_mass -pid lowmass_{particle_code}_samesign_nojet -c CATHODE_8\"'.format(feature_set=b[0],feature_list = \",\".join(feature_sets[b[0]]), particle_code = b[1], i=2*i+1 )\n",
    "    print(loc_command)"
   ]
  },
  {
   "cell_type": "markdown",
   "id": "65ab9fa3-f9a7-43d1-933f-d79a7ef75c91",
   "metadata": {},
   "source": [
    "Prepare 06"
   ]
  },
  {
   "cell_type": "code",
   "execution_count": 5,
   "id": "356a1810-c77d-45e9-8b71-0f5e50f5ffc8",
   "metadata": {
    "tags": []
   },
   "outputs": [],
   "source": [
    "with open(\"batch_06.sh\", \"w\") as ofile:\n",
    "\n",
    "\n",
    "    for i, b in enumerate(batches_to_run):\n",
    "        loc_command = 'python 06_eval_CATHODE.py -f {feature_set} -p {particle_code}'.format(feature_set=b[0], particle_code = b[1])\n",
    "        ofile.write(loc_command+\"\\n\")\n",
    "        loc_command = 'python 06_eval_CATHODE.py -f {feature_set} -p {particle_code}_samesign'.format(feature_set=b[0], particle_code = b[1])\n",
    "        ofile.write(loc_command+\"\\n\")"
   ]
  },
  {
   "cell_type": "raw",
   "id": "cdde25bc-f34f-4b2d-a55b-1cb0894055d1",
   "metadata": {},
   "source": [
    "Prepare 07"
   ]
  },
  {
   "cell_type": "code",
   "execution_count": 23,
   "id": "29117615-1213-42dc-ae36-d6409e474a6c",
   "metadata": {
    "tags": []
   },
   "outputs": [
    {
     "name": "stdout",
     "output_type": "stream",
     "text": [
      "python 07_bump_hunt_boostrap -f single_0 -p upsilon_iso\n",
      "python 07_bump_hunt_boostrap.py -f single_0 -p upsilon_iso_samesign\n",
      "python 07_bump_hunt_boostrap -f single_0 -p psi_prime_iso_low\n",
      "python 07_bump_hunt_boostrap.py -f single_0 -p psi_prime_iso_low_samesign\n",
      "python 07_bump_hunt_boostrap -f single_0 -p psi_prime_iso_high\n",
      "python 07_bump_hunt_boostrap.py -f single_0 -p psi_prime_iso_high_samesign\n",
      "python 07_bump_hunt_boostrap -f single_0 -p eta_none\n",
      "python 07_bump_hunt_boostrap.py -f single_0 -p eta_none_samesign\n",
      "python 07_bump_hunt_boostrap -f single_1 -p upsilon_iso\n",
      "python 07_bump_hunt_boostrap.py -f single_1 -p upsilon_iso_samesign\n",
      "python 07_bump_hunt_boostrap -f single_1 -p psi_prime_iso_low\n",
      "python 07_bump_hunt_boostrap.py -f single_1 -p psi_prime_iso_low_samesign\n",
      "python 07_bump_hunt_boostrap -f single_1 -p psi_prime_iso_high\n",
      "python 07_bump_hunt_boostrap.py -f single_1 -p psi_prime_iso_high_samesign\n",
      "python 07_bump_hunt_boostrap -f single_1 -p eta_none\n",
      "python 07_bump_hunt_boostrap.py -f single_1 -p eta_none_samesign\n",
      "python 07_bump_hunt_boostrap -f single_2 -p upsilon_iso\n",
      "python 07_bump_hunt_boostrap.py -f single_2 -p upsilon_iso_samesign\n",
      "python 07_bump_hunt_boostrap -f single_2 -p psi_prime_iso_low\n",
      "python 07_bump_hunt_boostrap.py -f single_2 -p psi_prime_iso_low_samesign\n",
      "python 07_bump_hunt_boostrap -f single_2 -p psi_prime_iso_high\n",
      "python 07_bump_hunt_boostrap.py -f single_2 -p psi_prime_iso_high_samesign\n",
      "python 07_bump_hunt_boostrap -f single_2 -p eta_none\n",
      "python 07_bump_hunt_boostrap.py -f single_2 -p eta_none_samesign\n",
      "python 07_bump_hunt_boostrap -f single_3 -p eta_none\n",
      "python 07_bump_hunt_boostrap.py -f single_3 -p eta_none_samesign\n",
      "python 07_bump_hunt_boostrap -f double_0 -p upsilon_iso\n",
      "python 07_bump_hunt_boostrap.py -f double_0 -p upsilon_iso_samesign\n",
      "python 07_bump_hunt_boostrap -f double_0 -p psi_prime_iso_low\n",
      "python 07_bump_hunt_boostrap.py -f double_0 -p psi_prime_iso_low_samesign\n",
      "python 07_bump_hunt_boostrap -f double_0 -p psi_prime_iso_high\n",
      "python 07_bump_hunt_boostrap.py -f double_0 -p psi_prime_iso_high_samesign\n",
      "python 07_bump_hunt_boostrap -f double_0 -p eta_none\n",
      "python 07_bump_hunt_boostrap.py -f double_0 -p eta_none_samesign\n",
      "python 07_bump_hunt_boostrap -f double_1 -p upsilon_iso\n",
      "python 07_bump_hunt_boostrap.py -f double_1 -p upsilon_iso_samesign\n",
      "python 07_bump_hunt_boostrap -f double_1 -p psi_prime_iso_low\n",
      "python 07_bump_hunt_boostrap.py -f double_1 -p psi_prime_iso_low_samesign\n",
      "python 07_bump_hunt_boostrap -f double_1 -p psi_prime_iso_high\n",
      "python 07_bump_hunt_boostrap.py -f double_1 -p psi_prime_iso_high_samesign\n",
      "python 07_bump_hunt_boostrap -f double_1 -p eta_none\n",
      "python 07_bump_hunt_boostrap.py -f double_1 -p eta_none_samesign\n",
      "python 07_bump_hunt_boostrap -f double_1 -p eta_iso\n",
      "python 07_bump_hunt_boostrap.py -f double_1 -p eta_iso_samesign\n",
      "python 07_bump_hunt_boostrap -f double_2 -p upsilon_iso\n",
      "python 07_bump_hunt_boostrap.py -f double_2 -p upsilon_iso_samesign\n",
      "python 07_bump_hunt_boostrap -f double_2 -p psi_prime_iso_low\n",
      "python 07_bump_hunt_boostrap.py -f double_2 -p psi_prime_iso_low_samesign\n",
      "python 07_bump_hunt_boostrap -f double_2 -p psi_prime_iso_high\n",
      "python 07_bump_hunt_boostrap.py -f double_2 -p psi_prime_iso_high_samesign\n",
      "python 07_bump_hunt_boostrap -f double_2 -p eta_none\n",
      "python 07_bump_hunt_boostrap.py -f double_2 -p eta_none_samesign\n",
      "python 07_bump_hunt_boostrap -f mix_0 -p upsilon_iso\n",
      "python 07_bump_hunt_boostrap.py -f mix_0 -p upsilon_iso_samesign\n",
      "python 07_bump_hunt_boostrap -f mix_0 -p psi_prime_iso_low\n",
      "python 07_bump_hunt_boostrap.py -f mix_0 -p psi_prime_iso_low_samesign\n",
      "python 07_bump_hunt_boostrap -f mix_0 -p psi_prime_iso_high\n",
      "python 07_bump_hunt_boostrap.py -f mix_0 -p psi_prime_iso_high_samesign\n",
      "python 07_bump_hunt_boostrap -f mix_0 -p eta_none\n",
      "python 07_bump_hunt_boostrap.py -f mix_0 -p eta_none_samesign\n"
     ]
    }
   ],
   "source": [
    "\n",
    "\n",
    "for i, b in enumerate(batches_to_run):\n",
    "    loc_command = 'python 07_bump_hunt_boostrap -f {feature_set} -p {particle_code} -ne 5 -nb 5'.format(feature_set=b[0], particle_code = b[1])\n",
    "    print(loc_command)\n",
    "    loc_command = 'python 07_bump_hunt_boostrap.py -f {feature_set} -p {particle_code}_samesign  -ne 5 -nb 5'.format(feature_set=b[0], particle_code = b[1])\n",
    "    print(loc_command)"
   ]
  },
  {
   "cell_type": "code",
   "execution_count": null,
   "id": "899f1acc-9fa4-4473-af04-5f9fe8b9d96f",
   "metadata": {},
   "outputs": [],
   "source": []
  }
 ],
 "metadata": {
  "kernelspec": {
   "display_name": "Python 3 (ipykernel)",
   "language": "python",
   "name": "python3"
  },
  "language_info": {
   "codemirror_mode": {
    "name": "ipython",
    "version": 3
   },
   "file_extension": ".py",
   "mimetype": "text/x-python",
   "name": "python",
   "nbconvert_exporter": "python",
   "pygments_lexer": "ipython3",
   "version": "3.8.5"
  }
 },
 "nbformat": 4,
 "nbformat_minor": 5
}

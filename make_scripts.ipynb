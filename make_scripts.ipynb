{
 "cells": [
  {
   "cell_type": "code",
   "execution_count": 8,
   "id": "07b4198d-c02e-40a3-b494-29f65b1baf50",
   "metadata": {
    "tags": []
   },
   "outputs": [],
   "source": [
    "import yaml\n",
    "with open(\"workflow.yaml\", \"r\") as file:\n",
    "    workflow = yaml.safe_load(file)\n",
    "\n",
    "feature_sets = workflow[\"feature_sets\"]"
   ]
  },
  {
   "cell_type": "markdown",
   "id": "1a4b8457-f18c-40b2-b4b5-42dc91184bc8",
   "metadata": {},
   "source": [
    "Make batch.sh"
   ]
  },
  {
   "cell_type": "code",
   "execution_count": 17,
   "id": "a8276fb2-c242-4dc1-8740-4f3c2e19c713",
   "metadata": {
    "tags": []
   },
   "outputs": [
    {
     "name": "stdout",
     "output_type": "stream",
     "text": [
      "[0]=\"python 05_trueCATHODE.py -fid single_0 -f mu0_pt,mu1_pt,mu0_eta,mu1_eta,dimu_mass -pid lowmass_eta_iso_nojet -c CATHODE_8\"\n",
      "[1]=\"python 05_trueCATHODE.py -fid single_0 -f mu0_pt,mu1_pt,mu0_eta,mu1_eta,dimu_mass -pid lowmass_eta_iso_samesign_nojet -c CATHODE_8\"\n",
      "[2]=\"python 05_trueCATHODE.py -fid single_0 -f mu0_pt,mu1_pt,mu0_eta,mu1_eta,dimu_mass -pid lowmass_eta_none_nojet -c CATHODE_8\"\n",
      "[3]=\"python 05_trueCATHODE.py -fid single_0 -f mu0_pt,mu1_pt,mu0_eta,mu1_eta,dimu_mass -pid lowmass_eta_none_samesign_nojet -c CATHODE_8\"\n",
      "[4]=\"python 05_trueCATHODE.py -fid single_0 -f mu0_pt,mu1_pt,mu0_eta,mu1_eta,dimu_mass -pid lowmass_psi_iso_nojet -c CATHODE_8\"\n",
      "[5]=\"python 05_trueCATHODE.py -fid single_0 -f mu0_pt,mu1_pt,mu0_eta,mu1_eta,dimu_mass -pid lowmass_psi_iso_samesign_nojet -c CATHODE_8\"\n",
      "[6]=\"python 05_trueCATHODE.py -fid single_0 -f mu0_pt,mu1_pt,mu0_eta,mu1_eta,dimu_mass -pid lowmass_psi_prime_iso_low_nojet -c CATHODE_8\"\n",
      "[7]=\"python 05_trueCATHODE.py -fid single_0 -f mu0_pt,mu1_pt,mu0_eta,mu1_eta,dimu_mass -pid lowmass_psi_prime_iso_low_samesign_nojet -c CATHODE_8\"\n",
      "[8]=\"python 05_trueCATHODE.py -fid single_0 -f mu0_pt,mu1_pt,mu0_eta,mu1_eta,dimu_mass -pid lowmass_psi_prime_iso_high_nojet -c CATHODE_8\"\n",
      "[9]=\"python 05_trueCATHODE.py -fid single_0 -f mu0_pt,mu1_pt,mu0_eta,mu1_eta,dimu_mass -pid lowmass_psi_prime_iso_high_samesign_nojet -c CATHODE_8\"\n",
      "[10]=\"python 05_trueCATHODE.py -fid single_0 -f mu0_pt,mu1_pt,mu0_eta,mu1_eta,dimu_mass -pid lowmass_rho_pt_nojet -c CATHODE_8\"\n",
      "[11]=\"python 05_trueCATHODE.py -fid single_0 -f mu0_pt,mu1_pt,mu0_eta,mu1_eta,dimu_mass -pid lowmass_rho_pt_samesign_nojet -c CATHODE_8\"\n",
      "[12]=\"python 05_trueCATHODE.py -fid single_0 -f mu0_pt,mu1_pt,mu0_eta,mu1_eta,dimu_mass -pid lowmass_upsilon_iso_nojet -c CATHODE_8\"\n",
      "[13]=\"python 05_trueCATHODE.py -fid single_0 -f mu0_pt,mu1_pt,mu0_eta,mu1_eta,dimu_mass -pid lowmass_upsilon_iso_samesign_nojet -c CATHODE_8\"\n",
      "[14]=\"python 05_trueCATHODE.py -fid single_1 -f mu0_iso04,mu1_iso04,dimu_mass -pid lowmass_eta_iso_nojet -c CATHODE_8\"\n",
      "[15]=\"python 05_trueCATHODE.py -fid single_1 -f mu0_iso04,mu1_iso04,dimu_mass -pid lowmass_eta_iso_samesign_nojet -c CATHODE_8\"\n",
      "[16]=\"python 05_trueCATHODE.py -fid single_1 -f mu0_iso04,mu1_iso04,dimu_mass -pid lowmass_eta_none_nojet -c CATHODE_8\"\n",
      "[17]=\"python 05_trueCATHODE.py -fid single_1 -f mu0_iso04,mu1_iso04,dimu_mass -pid lowmass_eta_none_samesign_nojet -c CATHODE_8\"\n",
      "[18]=\"python 05_trueCATHODE.py -fid single_1 -f mu0_iso04,mu1_iso04,dimu_mass -pid lowmass_psi_prime_iso_low_nojet -c CATHODE_8\"\n",
      "[19]=\"python 05_trueCATHODE.py -fid single_1 -f mu0_iso04,mu1_iso04,dimu_mass -pid lowmass_psi_prime_iso_low_samesign_nojet -c CATHODE_8\"\n",
      "[20]=\"python 05_trueCATHODE.py -fid single_1 -f mu0_iso04,mu1_iso04,dimu_mass -pid lowmass_psi_prime_iso_high_nojet -c CATHODE_8\"\n",
      "[21]=\"python 05_trueCATHODE.py -fid single_1 -f mu0_iso04,mu1_iso04,dimu_mass -pid lowmass_psi_prime_iso_high_samesign_nojet -c CATHODE_8\"\n",
      "[22]=\"python 05_trueCATHODE.py -fid single_1 -f mu0_iso04,mu1_iso04,dimu_mass -pid lowmass_upsilon_iso_nojet -c CATHODE_8\"\n",
      "[23]=\"python 05_trueCATHODE.py -fid single_1 -f mu0_iso04,mu1_iso04,dimu_mass -pid lowmass_upsilon_iso_samesign_nojet -c CATHODE_8\"\n",
      "[24]=\"python 05_trueCATHODE.py -fid single_2 -f mu0_pt,mu1_pt,dimu_mass -pid lowmass_eta_iso_nojet -c CATHODE_8\"\n",
      "[25]=\"python 05_trueCATHODE.py -fid single_2 -f mu0_pt,mu1_pt,dimu_mass -pid lowmass_eta_iso_samesign_nojet -c CATHODE_8\"\n",
      "[26]=\"python 05_trueCATHODE.py -fid single_2 -f mu0_pt,mu1_pt,dimu_mass -pid lowmass_eta_none_nojet -c CATHODE_8\"\n",
      "[27]=\"python 05_trueCATHODE.py -fid single_2 -f mu0_pt,mu1_pt,dimu_mass -pid lowmass_eta_none_samesign_nojet -c CATHODE_8\"\n",
      "[28]=\"python 05_trueCATHODE.py -fid single_2 -f mu0_pt,mu1_pt,dimu_mass -pid lowmass_psi_prime_iso_low_nojet -c CATHODE_8\"\n",
      "[29]=\"python 05_trueCATHODE.py -fid single_2 -f mu0_pt,mu1_pt,dimu_mass -pid lowmass_psi_prime_iso_low_samesign_nojet -c CATHODE_8\"\n",
      "[30]=\"python 05_trueCATHODE.py -fid single_2 -f mu0_pt,mu1_pt,dimu_mass -pid lowmass_psi_prime_iso_high_nojet -c CATHODE_8\"\n",
      "[31]=\"python 05_trueCATHODE.py -fid single_2 -f mu0_pt,mu1_pt,dimu_mass -pid lowmass_psi_prime_iso_high_samesign_nojet -c CATHODE_8\"\n",
      "[32]=\"python 05_trueCATHODE.py -fid single_2 -f mu0_pt,mu1_pt,dimu_mass -pid lowmass_upsilon_iso_nojet -c CATHODE_8\"\n",
      "[33]=\"python 05_trueCATHODE.py -fid single_2 -f mu0_pt,mu1_pt,dimu_mass -pid lowmass_upsilon_iso_samesign_nojet -c CATHODE_8\"\n",
      "[34]=\"python 05_trueCATHODE.py -fid single_3 -f mu0_ip3d,mu1_ip3d,mu0_jetiso,mu1_jetiso,dimu_mass -pid lowmass_eta_iso_nojet -c CATHODE_8\"\n",
      "[35]=\"python 05_trueCATHODE.py -fid single_3 -f mu0_ip3d,mu1_ip3d,mu0_jetiso,mu1_jetiso,dimu_mass -pid lowmass_eta_iso_samesign_nojet -c CATHODE_8\"\n",
      "[36]=\"python 05_trueCATHODE.py -fid single_3 -f mu0_ip3d,mu1_ip3d,mu0_jetiso,mu1_jetiso,dimu_mass -pid lowmass_eta_none_nojet -c CATHODE_8\"\n",
      "[37]=\"python 05_trueCATHODE.py -fid single_3 -f mu0_ip3d,mu1_ip3d,mu0_jetiso,mu1_jetiso,dimu_mass -pid lowmass_eta_none_samesign_nojet -c CATHODE_8\"\n",
      "[38]=\"python 05_trueCATHODE.py -fid single_3 -f mu0_ip3d,mu1_ip3d,mu0_jetiso,mu1_jetiso,dimu_mass -pid lowmass_psi_iso_nojet -c CATHODE_8\"\n",
      "[39]=\"python 05_trueCATHODE.py -fid single_3 -f mu0_ip3d,mu1_ip3d,mu0_jetiso,mu1_jetiso,dimu_mass -pid lowmass_psi_iso_samesign_nojet -c CATHODE_8\"\n",
      "[40]=\"python 05_trueCATHODE.py -fid single_3 -f mu0_ip3d,mu1_ip3d,mu0_jetiso,mu1_jetiso,dimu_mass -pid lowmass_rho_pt_nojet -c CATHODE_8\"\n",
      "[41]=\"python 05_trueCATHODE.py -fid single_3 -f mu0_ip3d,mu1_ip3d,mu0_jetiso,mu1_jetiso,dimu_mass -pid lowmass_rho_pt_samesign_nojet -c CATHODE_8\"\n",
      "[42]=\"python 05_trueCATHODE.py -fid single_4 -f mu0_ip3d,mu1_ip3d,dimu_mass -pid lowmass_eta_none_nojet -c CATHODE_8\"\n",
      "[43]=\"python 05_trueCATHODE.py -fid single_4 -f mu0_ip3d,mu1_ip3d,dimu_mass -pid lowmass_eta_none_samesign_nojet -c CATHODE_8\"\n",
      "[44]=\"python 05_trueCATHODE.py -fid single_4 -f mu0_ip3d,mu1_ip3d,dimu_mass -pid lowmass_psi_prime_iso_low_nojet -c CATHODE_8\"\n",
      "[45]=\"python 05_trueCATHODE.py -fid single_4 -f mu0_ip3d,mu1_ip3d,dimu_mass -pid lowmass_psi_prime_iso_low_samesign_nojet -c CATHODE_8\"\n",
      "[46]=\"python 05_trueCATHODE.py -fid single_4 -f mu0_ip3d,mu1_ip3d,dimu_mass -pid lowmass_psi_prime_iso_high_nojet -c CATHODE_8\"\n",
      "[47]=\"python 05_trueCATHODE.py -fid single_4 -f mu0_ip3d,mu1_ip3d,dimu_mass -pid lowmass_psi_prime_iso_high_samesign_nojet -c CATHODE_8\"\n",
      "[48]=\"python 05_trueCATHODE.py -fid single_4 -f mu0_ip3d,mu1_ip3d,dimu_mass -pid lowmass_upsilon_iso_nojet -c CATHODE_8\"\n",
      "[49]=\"python 05_trueCATHODE.py -fid single_4 -f mu0_ip3d,mu1_ip3d,dimu_mass -pid lowmass_upsilon_iso_samesign_nojet -c CATHODE_8\"\n",
      "[50]=\"python 05_trueCATHODE.py -fid single_5 -f mu0_jetiso,mu1_jetiso,dimu_mass -pid lowmass_eta_none_nojet -c CATHODE_8\"\n",
      "[51]=\"python 05_trueCATHODE.py -fid single_5 -f mu0_jetiso,mu1_jetiso,dimu_mass -pid lowmass_eta_none_samesign_nojet -c CATHODE_8\"\n",
      "[52]=\"python 05_trueCATHODE.py -fid single_5 -f mu0_jetiso,mu1_jetiso,dimu_mass -pid lowmass_psi_prime_iso_low_nojet -c CATHODE_8\"\n",
      "[53]=\"python 05_trueCATHODE.py -fid single_5 -f mu0_jetiso,mu1_jetiso,dimu_mass -pid lowmass_psi_prime_iso_low_samesign_nojet -c CATHODE_8\"\n",
      "[54]=\"python 05_trueCATHODE.py -fid single_5 -f mu0_jetiso,mu1_jetiso,dimu_mass -pid lowmass_psi_prime_iso_high_nojet -c CATHODE_8\"\n",
      "[55]=\"python 05_trueCATHODE.py -fid single_5 -f mu0_jetiso,mu1_jetiso,dimu_mass -pid lowmass_psi_prime_iso_high_samesign_nojet -c CATHODE_8\"\n",
      "[56]=\"python 05_trueCATHODE.py -fid single_5 -f mu0_jetiso,mu1_jetiso,dimu_mass -pid lowmass_upsilon_iso_nojet -c CATHODE_8\"\n",
      "[57]=\"python 05_trueCATHODE.py -fid single_5 -f mu0_jetiso,mu1_jetiso,dimu_mass -pid lowmass_upsilon_iso_samesign_nojet -c CATHODE_8\"\n",
      "[58]=\"python 05_trueCATHODE.py -fid double_0 -f dimu_pt,dimu_eta,mumu_deltaR,mumu_deltapT,dimu_mass -pid lowmass_eta_iso_nojet -c CATHODE_8\"\n",
      "[59]=\"python 05_trueCATHODE.py -fid double_0 -f dimu_pt,dimu_eta,mumu_deltaR,mumu_deltapT,dimu_mass -pid lowmass_eta_iso_samesign_nojet -c CATHODE_8\"\n",
      "[60]=\"python 05_trueCATHODE.py -fid double_0 -f dimu_pt,dimu_eta,mumu_deltaR,mumu_deltapT,dimu_mass -pid lowmass_eta_none_nojet -c CATHODE_8\"\n",
      "[61]=\"python 05_trueCATHODE.py -fid double_0 -f dimu_pt,dimu_eta,mumu_deltaR,mumu_deltapT,dimu_mass -pid lowmass_eta_none_samesign_nojet -c CATHODE_8\"\n",
      "[62]=\"python 05_trueCATHODE.py -fid double_0 -f dimu_pt,dimu_eta,mumu_deltaR,mumu_deltapT,dimu_mass -pid lowmass_psi_iso_nojet -c CATHODE_8\"\n",
      "[63]=\"python 05_trueCATHODE.py -fid double_0 -f dimu_pt,dimu_eta,mumu_deltaR,mumu_deltapT,dimu_mass -pid lowmass_psi_iso_samesign_nojet -c CATHODE_8\"\n",
      "[64]=\"python 05_trueCATHODE.py -fid double_0 -f dimu_pt,dimu_eta,mumu_deltaR,mumu_deltapT,dimu_mass -pid lowmass_psi_prime_iso_low_nojet -c CATHODE_8\"\n",
      "[65]=\"python 05_trueCATHODE.py -fid double_0 -f dimu_pt,dimu_eta,mumu_deltaR,mumu_deltapT,dimu_mass -pid lowmass_psi_prime_iso_low_samesign_nojet -c CATHODE_8\"\n",
      "[66]=\"python 05_trueCATHODE.py -fid double_0 -f dimu_pt,dimu_eta,mumu_deltaR,mumu_deltapT,dimu_mass -pid lowmass_psi_prime_iso_high_nojet -c CATHODE_8\"\n",
      "[67]=\"python 05_trueCATHODE.py -fid double_0 -f dimu_pt,dimu_eta,mumu_deltaR,mumu_deltapT,dimu_mass -pid lowmass_psi_prime_iso_high_samesign_nojet -c CATHODE_8\"\n",
      "[68]=\"python 05_trueCATHODE.py -fid double_0 -f dimu_pt,dimu_eta,mumu_deltaR,mumu_deltapT,dimu_mass -pid lowmass_rho_pt_nojet -c CATHODE_8\"\n",
      "[69]=\"python 05_trueCATHODE.py -fid double_0 -f dimu_pt,dimu_eta,mumu_deltaR,mumu_deltapT,dimu_mass -pid lowmass_rho_pt_samesign_nojet -c CATHODE_8\"\n",
      "[70]=\"python 05_trueCATHODE.py -fid double_0 -f dimu_pt,dimu_eta,mumu_deltaR,mumu_deltapT,dimu_mass -pid lowmass_upsilon_iso_nojet -c CATHODE_8\"\n",
      "[71]=\"python 05_trueCATHODE.py -fid double_0 -f dimu_pt,dimu_eta,mumu_deltaR,mumu_deltapT,dimu_mass -pid lowmass_upsilon_iso_samesign_nojet -c CATHODE_8\"\n",
      "[72]=\"python 05_trueCATHODE.py -fid double_1 -f dimu_pt,dimu_eta,dimu_mass -pid lowmass_eta_none_nojet -c CATHODE_8\"\n",
      "[73]=\"python 05_trueCATHODE.py -fid double_1 -f dimu_pt,dimu_eta,dimu_mass -pid lowmass_eta_none_samesign_nojet -c CATHODE_8\"\n",
      "[74]=\"python 05_trueCATHODE.py -fid double_1 -f dimu_pt,dimu_eta,dimu_mass -pid lowmass_psi_prime_iso_low_nojet -c CATHODE_8\"\n",
      "[75]=\"python 05_trueCATHODE.py -fid double_1 -f dimu_pt,dimu_eta,dimu_mass -pid lowmass_psi_prime_iso_low_samesign_nojet -c CATHODE_8\"\n",
      "[76]=\"python 05_trueCATHODE.py -fid double_1 -f dimu_pt,dimu_eta,dimu_mass -pid lowmass_psi_prime_iso_high_nojet -c CATHODE_8\"\n",
      "[77]=\"python 05_trueCATHODE.py -fid double_1 -f dimu_pt,dimu_eta,dimu_mass -pid lowmass_psi_prime_iso_high_samesign_nojet -c CATHODE_8\"\n",
      "[78]=\"python 05_trueCATHODE.py -fid double_1 -f dimu_pt,dimu_eta,dimu_mass -pid lowmass_upsilon_iso_nojet -c CATHODE_8\"\n",
      "[79]=\"python 05_trueCATHODE.py -fid double_1 -f dimu_pt,dimu_eta,dimu_mass -pid lowmass_upsilon_iso_samesign_nojet -c CATHODE_8\"\n",
      "[80]=\"python 05_trueCATHODE.py -fid double_2 -f mumu_deltaR,mumu_deltapT,dimu_mass -pid lowmass_eta_iso_nojet -c CATHODE_8\"\n",
      "[81]=\"python 05_trueCATHODE.py -fid double_2 -f mumu_deltaR,mumu_deltapT,dimu_mass -pid lowmass_eta_iso_samesign_nojet -c CATHODE_8\"\n",
      "[82]=\"python 05_trueCATHODE.py -fid double_2 -f mumu_deltaR,mumu_deltapT,dimu_mass -pid lowmass_psi_prime_iso_low_nojet -c CATHODE_8\"\n",
      "[83]=\"python 05_trueCATHODE.py -fid double_2 -f mumu_deltaR,mumu_deltapT,dimu_mass -pid lowmass_psi_prime_iso_low_samesign_nojet -c CATHODE_8\"\n",
      "[84]=\"python 05_trueCATHODE.py -fid double_2 -f mumu_deltaR,mumu_deltapT,dimu_mass -pid lowmass_psi_prime_iso_high_nojet -c CATHODE_8\"\n",
      "[85]=\"python 05_trueCATHODE.py -fid double_2 -f mumu_deltaR,mumu_deltapT,dimu_mass -pid lowmass_psi_prime_iso_high_samesign_nojet -c CATHODE_8\"\n",
      "[86]=\"python 05_trueCATHODE.py -fid double_2 -f mumu_deltaR,mumu_deltapT,dimu_mass -pid lowmass_upsilon_iso_nojet -c CATHODE_8\"\n",
      "[87]=\"python 05_trueCATHODE.py -fid double_2 -f mumu_deltaR,mumu_deltapT,dimu_mass -pid lowmass_upsilon_iso_samesign_nojet -c CATHODE_8\"\n",
      "[88]=\"python 05_trueCATHODE.py -fid mix_0 -f dimu_pt,mu0_iso04,mu1_iso04,dimu_mass -pid lowmass_eta_iso_nojet -c CATHODE_8\"\n",
      "[89]=\"python 05_trueCATHODE.py -fid mix_0 -f dimu_pt,mu0_iso04,mu1_iso04,dimu_mass -pid lowmass_eta_iso_samesign_nojet -c CATHODE_8\"\n",
      "[90]=\"python 05_trueCATHODE.py -fid mix_0 -f dimu_pt,mu0_iso04,mu1_iso04,dimu_mass -pid lowmass_psi_prime_iso_low_nojet -c CATHODE_8\"\n",
      "[91]=\"python 05_trueCATHODE.py -fid mix_0 -f dimu_pt,mu0_iso04,mu1_iso04,dimu_mass -pid lowmass_psi_prime_iso_low_samesign_nojet -c CATHODE_8\"\n",
      "[92]=\"python 05_trueCATHODE.py -fid mix_0 -f dimu_pt,mu0_iso04,mu1_iso04,dimu_mass -pid lowmass_psi_prime_iso_high_nojet -c CATHODE_8\"\n",
      "[93]=\"python 05_trueCATHODE.py -fid mix_0 -f dimu_pt,mu0_iso04,mu1_iso04,dimu_mass -pid lowmass_psi_prime_iso_high_samesign_nojet -c CATHODE_8\"\n",
      "[94]=\"python 05_trueCATHODE.py -fid mix_0 -f dimu_pt,mu0_iso04,mu1_iso04,dimu_mass -pid lowmass_upsilon_iso_nojet -c CATHODE_8\"\n",
      "[95]=\"python 05_trueCATHODE.py -fid mix_0 -f dimu_pt,mu0_iso04,mu1_iso04,dimu_mass -pid lowmass_upsilon_iso_samesign_nojet -c CATHODE_8\"\n"
     ]
    }
   ],
   "source": [
    "batches_to_run = {\n",
    "    \n",
    "    \"single_0\": [\"eta_iso\", \"eta_none\" , \"psi_iso\", \"psi_prime_iso_low\", \"psi_prime_iso_high\", \"rho_pt\", \"upsilon_iso\"],\n",
    "    \"single_1\": [\"eta_iso\", \"eta_none\", \"psi_prime_iso_low\", \"psi_prime_iso_high\", \"upsilon_iso\"], \n",
    "    \"single_2\": [\"eta_iso\", \"eta_none\", \"psi_prime_iso_low\", \"psi_prime_iso_high\", \"upsilon_iso\"], \n",
    "    \"single_3\": [\"eta_iso\", \"eta_none\" , \"psi_iso\", \"rho_pt\"], \n",
    "    \"single_4\": [\"eta_none\", \"psi_prime_iso_low\", \"psi_prime_iso_high\", \"upsilon_iso\"], \n",
    "    \"single_5\": [\"eta_none\", \"psi_prime_iso_low\", \"psi_prime_iso_high\", \"upsilon_iso\"], \n",
    "    \"double_0\": [\"eta_iso\", \"eta_none\" , \"psi_iso\", \"psi_prime_iso_low\", \"psi_prime_iso_high\", \"rho_pt\", \"upsilon_iso\"],\n",
    "    \"double_1\": [\"eta_none\", \"psi_prime_iso_low\", \"psi_prime_iso_high\", \"upsilon_iso\"], \n",
    "    \"double_2\": [\"eta_iso\", \"psi_prime_iso_low\", \"psi_prime_iso_high\", \"upsilon_iso\"], \n",
    "    \"mix_0\": [\"eta_iso\", \"psi_prime_iso_low\", \"psi_prime_iso_high\", \"upsilon_iso\"], \n",
    "\n",
    "   \n",
    "}\n",
    "\n",
    "i = 0\n",
    "for fs in batches_to_run.keys():\n",
    "    for particle in batches_to_run[fs]:\n",
    "        \n",
    "\n",
    "        loc_command = '[{i}]=\"python 05_trueCATHODE.py -fid {feature_set} -f {feature_list},dimu_mass -pid lowmass_{particle_code}_nojet -c CATHODE_8\"'.format(feature_set=fs,feature_list = \",\".join(feature_sets[fs]), particle_code = particle, i=2*i )\n",
    "        print(loc_command)\n",
    "        loc_command = '[{i}]=\"python 05_trueCATHODE.py -fid {feature_set} -f {feature_list},dimu_mass -pid lowmass_{particle_code}_samesign_nojet -c CATHODE_8\"'.format(feature_set=fs,feature_list = \",\".join(feature_sets[fs]), particle_code = particle, i=2*i+1 )\n",
    "        print(loc_command)\n",
    "        i += 1"
   ]
  },
  {
   "cell_type": "markdown",
   "id": "65ab9fa3-f9a7-43d1-933f-d79a7ef75c91",
   "metadata": {},
   "source": [
    "Prepare 06"
   ]
  },
  {
   "cell_type": "code",
   "execution_count": 18,
   "id": "356a1810-c77d-45e9-8b71-0f5e50f5ffc8",
   "metadata": {
    "tags": []
   },
   "outputs": [],
   "source": [
    "batches_to_run = {\n",
    "    \n",
    "    \"single_0\": [\"eta_iso\", \"eta_none\" , \"psi_iso\", \"psi_prime_iso_low\", \"psi_prime_iso_high\", \"rho_pt\", \"upsilon_iso\"],\n",
    "    \"single_1\": [\"eta_iso\", \"eta_none\", \"psi_prime_iso_low\", \"psi_prime_iso_high\", \"upsilon_iso\"], \n",
    "    \"single_2\": [\"eta_iso\", \"eta_none\", \"psi_prime_iso_low\", \"psi_prime_iso_high\", \"upsilon_iso\"], \n",
    "    \"single_3\": [\"eta_iso\", \"eta_none\" , \"psi_iso\", \"rho_pt\"], \n",
    "    \"single_4\": [\"eta_none\", \"psi_prime_iso_low\", \"psi_prime_iso_high\", \"upsilon_iso\"], \n",
    "    \"single_5\": [\"eta_none\", \"psi_prime_iso_low\", \"psi_prime_iso_high\", \"upsilon_iso\"], \n",
    "    \"double_0\": [\"eta_iso\", \"eta_none\" , \"psi_iso\", \"psi_prime_iso_low\", \"psi_prime_iso_high\", \"rho_pt\", \"upsilon_iso\"],\n",
    "    \"double_1\": [\"eta_none\", \"psi_prime_iso_low\", \"psi_prime_iso_high\", \"upsilon_iso\"], \n",
    "    \"double_2\": [\"eta_iso\", \"psi_prime_iso_low\", \"psi_prime_iso_high\", \"upsilon_iso\"], \n",
    "    \"mix_0\": [\"eta_iso\", \"psi_prime_iso_low\", \"psi_prime_iso_high\", \"upsilon_iso\"], \n",
    "\n",
    "   \n",
    "}\n",
    "\n",
    "with open(\"batch_06.sh\", \"w\") as ofile:\n",
    "\n",
    "    for fs in batches_to_run.keys():\n",
    "        for particle in batches_to_run[fs]:\n",
    "\n",
    "            loc_command = f'python 06_eval_CATHODE.py -f {fs} -p {particle}'\n",
    "            ofile.write(loc_command+\"\\n\")\n",
    "            loc_command = f'python 06_eval_CATHODE.py -f {fs} -p {particle}_samesign'\n",
    "            ofile.write(loc_command+\"\\n\")"
   ]
  },
  {
   "cell_type": "raw",
   "id": "cdde25bc-f34f-4b2d-a55b-1cb0894055d1",
   "metadata": {},
   "source": [
    "Prepare 07"
   ]
  },
  {
   "cell_type": "code",
   "execution_count": 16,
   "id": "29117615-1213-42dc-ae36-d6409e474a6c",
   "metadata": {
    "tags": []
   },
   "outputs": [],
   "source": [
    "batches_to_run = {\n",
    "    \n",
    "    \"single_0\": [\"eta_iso\", \"eta_none\" , \"psi_iso\", \"psi_prime_iso_low\", \"psi_prime_iso_high\", \"rho_pt\", \"upsilon_iso\"],\n",
    "    \"single_1\": [\"eta_iso\", \"eta_none\", \"psi_prime_iso_low\", \"psi_prime_iso_high\", \"upsilon_iso\"], \n",
    "    \"single_2\": [\"eta_iso\", \"eta_none\", \"psi_prime_iso_low\", \"psi_prime_iso_high\", \"upsilon_iso\"], \n",
    "    \"single_3\": [\"eta_iso\", \"eta_none\" , \"psi_iso\", \"rho_pt\"], \n",
    "    \"single_4\": [\"eta_none\", \"psi_prime_iso_low\", \"psi_prime_iso_high\", \"upsilon_iso\"], \n",
    "    \"single_5\": [\"eta_none\", \"psi_prime_iso_low\", \"psi_prime_iso_high\", \"upsilon_iso\"], \n",
    "    \"double_0\": [\"eta_iso\", \"eta_none\" , \"psi_iso\", \"psi_prime_iso_low\", \"psi_prime_iso_high\", \"rho_pt\", \"upsilon_iso\"],\n",
    "    \"double_1\": [\"eta_none\", \"psi_prime_iso_low\", \"psi_prime_iso_high\", \"upsilon_iso\"], \n",
    "    \"double_2\": [\"eta_iso\", \"psi_prime_iso_low\", \"psi_prime_iso_high\", \"upsilon_iso\"], \n",
    "    \"mix_0\": [\"eta_iso\", \"psi_prime_iso_low\", \"psi_prime_iso_high\", \"upsilon_iso\"], \n",
    "\n",
    "   \n",
    "}\n",
    "\n",
    "n_ensemble = 20\n",
    "n_bootstrap = 10\n",
    "with open(\"batch_07.sh\", \"w\") as ofile:\n",
    "\n",
    "    for fs in batches_to_run.keys():\n",
    "        for particle in batches_to_run[fs]:\n",
    "\n",
    "            loc_command = f'python 07_bump_hunt_boostrap.py -f {fs} -p {particle} -ne {n_ensemble} -nb {n_bootstrap}'\n",
    "            ofile.write(loc_command+\"\\n\")\n",
    "            loc_command = f'python 07_bump_hunt_boostrap.py -f {fs} -p {particle} -train_samesign -ne {n_ensemble} -nb {n_bootstrap}'\n",
    "            ofile.write(loc_command+\"\\n\")\n",
    "\n",
    "\n",
    "    "
   ]
  },
  {
   "cell_type": "code",
   "execution_count": null,
   "id": "899f1acc-9fa4-4473-af04-5f9fe8b9d96f",
   "metadata": {},
   "outputs": [],
   "source": []
  },
  {
   "cell_type": "code",
   "execution_count": null,
   "id": "af1f3876-1f04-4241-b8e6-398915e9b320",
   "metadata": {},
   "outputs": [],
   "source": []
  },
  {
   "cell_type": "code",
   "execution_count": null,
   "id": "5001198d-83b1-4b48-96b1-c102ce095e79",
   "metadata": {},
   "outputs": [],
   "source": []
  },
  {
   "cell_type": "code",
   "execution_count": null,
   "id": "a6a9142b-3232-4a36-8610-02b06e429ec5",
   "metadata": {},
   "outputs": [],
   "source": []
  }
 ],
 "metadata": {
  "kernelspec": {
   "display_name": "Python 3 (ipykernel)",
   "language": "python",
   "name": "python3"
  },
  "language_info": {
   "codemirror_mode": {
    "name": "ipython",
    "version": 3
   },
   "file_extension": ".py",
   "mimetype": "text/x-python",
   "name": "python",
   "nbconvert_exporter": "python",
   "pygments_lexer": "ipython3",
   "version": "3.8.5"
  }
 },
 "nbformat": 4,
 "nbformat_minor": 5
}

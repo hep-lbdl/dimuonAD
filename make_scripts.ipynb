{
 "cells": [
  {
   "cell_type": "code",
   "execution_count": 3,
   "id": "07b4198d-c02e-40a3-b494-29f65b1baf50",
   "metadata": {
    "tags": []
   },
   "outputs": [],
   "source": [
    "import yaml\n",
    "with open(\"workflow.yaml\", \"r\") as file:\n",
    "    workflow = yaml.safe_load(file)\n",
    "\n",
    "feature_sets = workflow[\"feature_sets\"]"
   ]
  },
  {
   "cell_type": "markdown",
   "id": "1a4b8457-f18c-40b2-b4b5-42dc91184bc8",
   "metadata": {},
   "source": [
    "Make batch.sh"
   ]
  },
  {
   "cell_type": "code",
   "execution_count": 9,
   "id": "a8276fb2-c242-4dc1-8740-4f3c2e19c713",
   "metadata": {
    "tags": []
   },
   "outputs": [
    {
     "name": "stdout",
     "output_type": "stream",
     "text": [
      "python 05_train_cathode.py -fid mix_2 -feats dimu_pt,mu0_ip3d,mu1_ip3d,dimu_mass -fit quintic -n_bins 12 -seed 6 -bootstrap bootstrap0\n",
      "python 05_train_cathode.py -fid mix_2 -feats dimu_pt,mu0_ip3d,mu1_ip3d,dimu_mass -fit quintic -n_bins 12 -seed 6 -bootstrap bootstrap0 -train_samesign\n",
      "python 05_train_cathode.py -fid mix_2 -feats dimu_pt,mu0_ip3d,mu1_ip3d,dimu_mass -fit quintic -n_bins 12 -seed 7 -bootstrap bootstrap0\n",
      "python 05_train_cathode.py -fid mix_2 -feats dimu_pt,mu0_ip3d,mu1_ip3d,dimu_mass -fit quintic -n_bins 12 -seed 7 -bootstrap bootstrap0 -train_samesign\n",
      "python 05_train_cathode.py -fid mix_2 -feats dimu_pt,mu0_ip3d,mu1_ip3d,dimu_mass -fit quintic -n_bins 12 -seed 8 -bootstrap bootstrap0\n",
      "python 05_train_cathode.py -fid mix_2 -feats dimu_pt,mu0_ip3d,mu1_ip3d,dimu_mass -fit quintic -n_bins 12 -seed 8 -bootstrap bootstrap0 -train_samesign\n",
      "python 05_train_cathode.py -fid mix_2 -feats dimu_pt,mu0_ip3d,mu1_ip3d,dimu_mass -fit quintic -n_bins 12 -seed 9 -bootstrap bootstrap0\n",
      "python 05_train_cathode.py -fid mix_2 -feats dimu_pt,mu0_ip3d,mu1_ip3d,dimu_mass -fit quintic -n_bins 12 -seed 9 -bootstrap bootstrap0 -train_samesign\n",
      "python 05_train_cathode.py -fid mix_2 -feats dimu_pt,mu0_ip3d,mu1_ip3d,dimu_mass -fit quintic -n_bins 12 -seed 10 -bootstrap bootstrap0\n",
      "python 05_train_cathode.py -fid mix_2 -feats dimu_pt,mu0_ip3d,mu1_ip3d,dimu_mass -fit quintic -n_bins 12 -seed 10 -bootstrap bootstrap0 -train_samesign\n"
     ]
    }
   ],
   "source": [
    "\n",
    "sets_to_run = [\"mix_2\"]\n",
    "fits_to_run = [\"quintic\",]\n",
    "bins_to_run = [12]\n",
    "seeds = [6,7,8,9,10]\n",
    "bootstraps = [0]\n",
    "\n",
    "i = 0\n",
    "for fs in sets_to_run:\n",
    "    for fit in fits_to_run:\n",
    "        for binn in bins_to_run:\n",
    "            for s in seeds:\n",
    "                for bs in bootstraps:\n",
    "    \n",
    "                    #loc_command = '[{i}]=\"python 05_train_cathode.py -fid {feature_set} -feats {feature_list},dimu_mass -fit {fit} -n_bins {binn} -seed {s} -bootstrap bootstrap{bs}\"'.format(feature_set=fs,feature_list=\",\".join(feature_sets[fs]),i=2*i,fit=fit,binn=binn,s=s,bs=bs)\n",
    "                    loc_command = 'python 05_train_cathode.py -fid {feature_set} -feats {feature_list},dimu_mass -fit {fit} -n_bins {binn} -seed {s} -bootstrap bootstrap{bs}'.format(feature_set=fs,feature_list=\",\".join(feature_sets[fs]),i=2*i,fit=fit,binn=binn,s=s,bs=bs)\n",
    "                    print(loc_command)\n",
    "                    #loc_command = '[{i}]=\"python 05_train_cathode.py -fid {feature_set} -feats {feature_list},dimu_mass -fit {fit} -n_bins {binn} -seed {s} -bootstrap bootstrap{bs} -train_samesign\"'.format(feature_set=fs,feature_list=\",\".join(feature_sets[fs]),i=2*i+1,fit=fit,binn=binn,s=s,bs=bs)\n",
    "                    loc_command = 'python 05_train_cathode.py -fid {feature_set} -feats {feature_list},dimu_mass -fit {fit} -n_bins {binn} -seed {s} -bootstrap bootstrap{bs} -train_samesign'.format(feature_set=fs,feature_list=\",\".join(feature_sets[fs]),i=2*i+1,fit=fit,binn=binn,s=s,bs=bs)\n",
    "                    \n",
    "                    print(loc_command)\n",
    "                    i += 1"
   ]
  },
  {
   "cell_type": "code",
   "execution_count": 5,
   "id": "d0586063-5841-4f7d-899c-22a36c420ef5",
   "metadata": {
    "tags": []
   },
   "outputs": [
    {
     "name": "stdout",
     "output_type": "stream",
     "text": [
      "python 05_train_cathode.py -fid mix_2 -feats dimu_pt,mu0_ip3d,mu1_ip3d,dimu_mass -fit quintic -n_bins 12 -seed 1 -no_train\n",
      "python 05_train_cathode.py -fid mix_2 -feats dimu_pt,mu0_ip3d,mu1_ip3d,dimu_mass -fit quintic -n_bins 12 -seed 1 -train_samesign -no_train\n",
      "python 05_train_cathode.py -fid mix_2 -feats dimu_pt,mu0_ip3d,mu1_ip3d,dimu_mass -fit quintic -n_bins 12 -seed 2 -no_train\n",
      "python 05_train_cathode.py -fid mix_2 -feats dimu_pt,mu0_ip3d,mu1_ip3d,dimu_mass -fit quintic -n_bins 12 -seed 2 -train_samesign -no_train\n",
      "python 05_train_cathode.py -fid mix_2 -feats dimu_pt,mu0_ip3d,mu1_ip3d,dimu_mass -fit quintic -n_bins 12 -seed 3 -no_train\n",
      "python 05_train_cathode.py -fid mix_2 -feats dimu_pt,mu0_ip3d,mu1_ip3d,dimu_mass -fit quintic -n_bins 12 -seed 3 -train_samesign -no_train\n",
      "python 05_train_cathode.py -fid mix_2 -feats dimu_pt,mu0_ip3d,mu1_ip3d,dimu_mass -fit quintic -n_bins 12 -seed 4 -no_train\n",
      "python 05_train_cathode.py -fid mix_2 -feats dimu_pt,mu0_ip3d,mu1_ip3d,dimu_mass -fit quintic -n_bins 12 -seed 4 -train_samesign -no_train\n",
      "python 05_train_cathode.py -fid mix_2 -feats dimu_pt,mu0_ip3d,mu1_ip3d,dimu_mass -fit quintic -n_bins 12 -seed 5 -no_train\n",
      "python 05_train_cathode.py -fid mix_2 -feats dimu_pt,mu0_ip3d,mu1_ip3d,dimu_mass -fit quintic -n_bins 12 -seed 5 -train_samesign -no_train\n",
      "python 05_train_cathode.py -fid mix_2 -feats dimu_pt,mu0_ip3d,mu1_ip3d,dimu_mass -fit quintic -n_bins 16 -seed 1 -no_train\n",
      "python 05_train_cathode.py -fid mix_2 -feats dimu_pt,mu0_ip3d,mu1_ip3d,dimu_mass -fit quintic -n_bins 16 -seed 1 -train_samesign -no_train\n",
      "python 05_train_cathode.py -fid mix_2 -feats dimu_pt,mu0_ip3d,mu1_ip3d,dimu_mass -fit quintic -n_bins 16 -seed 2 -no_train\n",
      "python 05_train_cathode.py -fid mix_2 -feats dimu_pt,mu0_ip3d,mu1_ip3d,dimu_mass -fit quintic -n_bins 16 -seed 2 -train_samesign -no_train\n",
      "python 05_train_cathode.py -fid mix_2 -feats dimu_pt,mu0_ip3d,mu1_ip3d,dimu_mass -fit quintic -n_bins 16 -seed 3 -no_train\n",
      "python 05_train_cathode.py -fid mix_2 -feats dimu_pt,mu0_ip3d,mu1_ip3d,dimu_mass -fit quintic -n_bins 16 -seed 3 -train_samesign -no_train\n",
      "python 05_train_cathode.py -fid mix_2 -feats dimu_pt,mu0_ip3d,mu1_ip3d,dimu_mass -fit quintic -n_bins 16 -seed 4 -no_train\n",
      "python 05_train_cathode.py -fid mix_2 -feats dimu_pt,mu0_ip3d,mu1_ip3d,dimu_mass -fit quintic -n_bins 16 -seed 4 -train_samesign -no_train\n",
      "python 05_train_cathode.py -fid mix_2 -feats dimu_pt,mu0_ip3d,mu1_ip3d,dimu_mass -fit quintic -n_bins 16 -seed 5 -no_train\n",
      "python 05_train_cathode.py -fid mix_2 -feats dimu_pt,mu0_ip3d,mu1_ip3d,dimu_mass -fit quintic -n_bins 16 -seed 5 -train_samesign -no_train\n",
      "python 05_train_cathode.py -fid mix_2 -feats dimu_pt,mu0_ip3d,mu1_ip3d,dimu_mass -fit quintic -n_bins 8 -seed 1 -no_train\n",
      "python 05_train_cathode.py -fid mix_2 -feats dimu_pt,mu0_ip3d,mu1_ip3d,dimu_mass -fit quintic -n_bins 8 -seed 1 -train_samesign -no_train\n",
      "python 05_train_cathode.py -fid mix_2 -feats dimu_pt,mu0_ip3d,mu1_ip3d,dimu_mass -fit quintic -n_bins 8 -seed 2 -no_train\n",
      "python 05_train_cathode.py -fid mix_2 -feats dimu_pt,mu0_ip3d,mu1_ip3d,dimu_mass -fit quintic -n_bins 8 -seed 2 -train_samesign -no_train\n",
      "python 05_train_cathode.py -fid mix_2 -feats dimu_pt,mu0_ip3d,mu1_ip3d,dimu_mass -fit quintic -n_bins 8 -seed 3 -no_train\n",
      "python 05_train_cathode.py -fid mix_2 -feats dimu_pt,mu0_ip3d,mu1_ip3d,dimu_mass -fit quintic -n_bins 8 -seed 3 -train_samesign -no_train\n",
      "python 05_train_cathode.py -fid mix_2 -feats dimu_pt,mu0_ip3d,mu1_ip3d,dimu_mass -fit quintic -n_bins 8 -seed 4 -no_train\n",
      "python 05_train_cathode.py -fid mix_2 -feats dimu_pt,mu0_ip3d,mu1_ip3d,dimu_mass -fit quintic -n_bins 8 -seed 4 -train_samesign -no_train\n",
      "python 05_train_cathode.py -fid mix_2 -feats dimu_pt,mu0_ip3d,mu1_ip3d,dimu_mass -fit quintic -n_bins 8 -seed 5 -no_train\n",
      "python 05_train_cathode.py -fid mix_2 -feats dimu_pt,mu0_ip3d,mu1_ip3d,dimu_mass -fit quintic -n_bins 8 -seed 5 -train_samesign -no_train\n",
      "python 05_train_cathode.py -fid mix_2 -feats dimu_pt,mu0_ip3d,mu1_ip3d,dimu_mass -fit cubic -n_bins 12 -seed 1 -no_train\n",
      "python 05_train_cathode.py -fid mix_2 -feats dimu_pt,mu0_ip3d,mu1_ip3d,dimu_mass -fit cubic -n_bins 12 -seed 1 -train_samesign -no_train\n",
      "python 05_train_cathode.py -fid mix_2 -feats dimu_pt,mu0_ip3d,mu1_ip3d,dimu_mass -fit cubic -n_bins 12 -seed 2 -no_train\n",
      "python 05_train_cathode.py -fid mix_2 -feats dimu_pt,mu0_ip3d,mu1_ip3d,dimu_mass -fit cubic -n_bins 12 -seed 2 -train_samesign -no_train\n",
      "python 05_train_cathode.py -fid mix_2 -feats dimu_pt,mu0_ip3d,mu1_ip3d,dimu_mass -fit cubic -n_bins 12 -seed 3 -no_train\n",
      "python 05_train_cathode.py -fid mix_2 -feats dimu_pt,mu0_ip3d,mu1_ip3d,dimu_mass -fit cubic -n_bins 12 -seed 3 -train_samesign -no_train\n",
      "python 05_train_cathode.py -fid mix_2 -feats dimu_pt,mu0_ip3d,mu1_ip3d,dimu_mass -fit cubic -n_bins 12 -seed 4 -no_train\n",
      "python 05_train_cathode.py -fid mix_2 -feats dimu_pt,mu0_ip3d,mu1_ip3d,dimu_mass -fit cubic -n_bins 12 -seed 4 -train_samesign -no_train\n",
      "python 05_train_cathode.py -fid mix_2 -feats dimu_pt,mu0_ip3d,mu1_ip3d,dimu_mass -fit cubic -n_bins 12 -seed 5 -no_train\n",
      "python 05_train_cathode.py -fid mix_2 -feats dimu_pt,mu0_ip3d,mu1_ip3d,dimu_mass -fit cubic -n_bins 12 -seed 5 -train_samesign -no_train\n",
      "python 05_train_cathode.py -fid mix_2 -feats dimu_pt,mu0_ip3d,mu1_ip3d,dimu_mass -fit cubic -n_bins 16 -seed 1 -no_train\n",
      "python 05_train_cathode.py -fid mix_2 -feats dimu_pt,mu0_ip3d,mu1_ip3d,dimu_mass -fit cubic -n_bins 16 -seed 1 -train_samesign -no_train\n",
      "python 05_train_cathode.py -fid mix_2 -feats dimu_pt,mu0_ip3d,mu1_ip3d,dimu_mass -fit cubic -n_bins 16 -seed 2 -no_train\n",
      "python 05_train_cathode.py -fid mix_2 -feats dimu_pt,mu0_ip3d,mu1_ip3d,dimu_mass -fit cubic -n_bins 16 -seed 2 -train_samesign -no_train\n",
      "python 05_train_cathode.py -fid mix_2 -feats dimu_pt,mu0_ip3d,mu1_ip3d,dimu_mass -fit cubic -n_bins 16 -seed 3 -no_train\n",
      "python 05_train_cathode.py -fid mix_2 -feats dimu_pt,mu0_ip3d,mu1_ip3d,dimu_mass -fit cubic -n_bins 16 -seed 3 -train_samesign -no_train\n",
      "python 05_train_cathode.py -fid mix_2 -feats dimu_pt,mu0_ip3d,mu1_ip3d,dimu_mass -fit cubic -n_bins 16 -seed 4 -no_train\n",
      "python 05_train_cathode.py -fid mix_2 -feats dimu_pt,mu0_ip3d,mu1_ip3d,dimu_mass -fit cubic -n_bins 16 -seed 4 -train_samesign -no_train\n",
      "python 05_train_cathode.py -fid mix_2 -feats dimu_pt,mu0_ip3d,mu1_ip3d,dimu_mass -fit cubic -n_bins 16 -seed 5 -no_train\n",
      "python 05_train_cathode.py -fid mix_2 -feats dimu_pt,mu0_ip3d,mu1_ip3d,dimu_mass -fit cubic -n_bins 16 -seed 5 -train_samesign -no_train\n",
      "python 05_train_cathode.py -fid mix_2 -feats dimu_pt,mu0_ip3d,mu1_ip3d,dimu_mass -fit cubic -n_bins 8 -seed 1 -no_train\n",
      "python 05_train_cathode.py -fid mix_2 -feats dimu_pt,mu0_ip3d,mu1_ip3d,dimu_mass -fit cubic -n_bins 8 -seed 1 -train_samesign -no_train\n",
      "python 05_train_cathode.py -fid mix_2 -feats dimu_pt,mu0_ip3d,mu1_ip3d,dimu_mass -fit cubic -n_bins 8 -seed 2 -no_train\n",
      "python 05_train_cathode.py -fid mix_2 -feats dimu_pt,mu0_ip3d,mu1_ip3d,dimu_mass -fit cubic -n_bins 8 -seed 2 -train_samesign -no_train\n",
      "python 05_train_cathode.py -fid mix_2 -feats dimu_pt,mu0_ip3d,mu1_ip3d,dimu_mass -fit cubic -n_bins 8 -seed 3 -no_train\n",
      "python 05_train_cathode.py -fid mix_2 -feats dimu_pt,mu0_ip3d,mu1_ip3d,dimu_mass -fit cubic -n_bins 8 -seed 3 -train_samesign -no_train\n",
      "python 05_train_cathode.py -fid mix_2 -feats dimu_pt,mu0_ip3d,mu1_ip3d,dimu_mass -fit cubic -n_bins 8 -seed 4 -no_train\n",
      "python 05_train_cathode.py -fid mix_2 -feats dimu_pt,mu0_ip3d,mu1_ip3d,dimu_mass -fit cubic -n_bins 8 -seed 4 -train_samesign -no_train\n",
      "python 05_train_cathode.py -fid mix_2 -feats dimu_pt,mu0_ip3d,mu1_ip3d,dimu_mass -fit cubic -n_bins 8 -seed 5 -no_train\n",
      "python 05_train_cathode.py -fid mix_2 -feats dimu_pt,mu0_ip3d,mu1_ip3d,dimu_mass -fit cubic -n_bins 8 -seed 5 -train_samesign -no_train\n",
      "python 05_train_cathode.py -fid mix_2 -feats dimu_pt,mu0_ip3d,mu1_ip3d,dimu_mass -fit septic -n_bins 12 -seed 1 -no_train\n",
      "python 05_train_cathode.py -fid mix_2 -feats dimu_pt,mu0_ip3d,mu1_ip3d,dimu_mass -fit septic -n_bins 12 -seed 1 -train_samesign -no_train\n",
      "python 05_train_cathode.py -fid mix_2 -feats dimu_pt,mu0_ip3d,mu1_ip3d,dimu_mass -fit septic -n_bins 12 -seed 2 -no_train\n",
      "python 05_train_cathode.py -fid mix_2 -feats dimu_pt,mu0_ip3d,mu1_ip3d,dimu_mass -fit septic -n_bins 12 -seed 2 -train_samesign -no_train\n",
      "python 05_train_cathode.py -fid mix_2 -feats dimu_pt,mu0_ip3d,mu1_ip3d,dimu_mass -fit septic -n_bins 12 -seed 3 -no_train\n",
      "python 05_train_cathode.py -fid mix_2 -feats dimu_pt,mu0_ip3d,mu1_ip3d,dimu_mass -fit septic -n_bins 12 -seed 3 -train_samesign -no_train\n",
      "python 05_train_cathode.py -fid mix_2 -feats dimu_pt,mu0_ip3d,mu1_ip3d,dimu_mass -fit septic -n_bins 12 -seed 4 -no_train\n",
      "python 05_train_cathode.py -fid mix_2 -feats dimu_pt,mu0_ip3d,mu1_ip3d,dimu_mass -fit septic -n_bins 12 -seed 4 -train_samesign -no_train\n",
      "python 05_train_cathode.py -fid mix_2 -feats dimu_pt,mu0_ip3d,mu1_ip3d,dimu_mass -fit septic -n_bins 12 -seed 5 -no_train\n",
      "python 05_train_cathode.py -fid mix_2 -feats dimu_pt,mu0_ip3d,mu1_ip3d,dimu_mass -fit septic -n_bins 12 -seed 5 -train_samesign -no_train\n",
      "python 05_train_cathode.py -fid mix_2 -feats dimu_pt,mu0_ip3d,mu1_ip3d,dimu_mass -fit septic -n_bins 16 -seed 1 -no_train\n",
      "python 05_train_cathode.py -fid mix_2 -feats dimu_pt,mu0_ip3d,mu1_ip3d,dimu_mass -fit septic -n_bins 16 -seed 1 -train_samesign -no_train\n",
      "python 05_train_cathode.py -fid mix_2 -feats dimu_pt,mu0_ip3d,mu1_ip3d,dimu_mass -fit septic -n_bins 16 -seed 2 -no_train\n",
      "python 05_train_cathode.py -fid mix_2 -feats dimu_pt,mu0_ip3d,mu1_ip3d,dimu_mass -fit septic -n_bins 16 -seed 2 -train_samesign -no_train\n",
      "python 05_train_cathode.py -fid mix_2 -feats dimu_pt,mu0_ip3d,mu1_ip3d,dimu_mass -fit septic -n_bins 16 -seed 3 -no_train\n",
      "python 05_train_cathode.py -fid mix_2 -feats dimu_pt,mu0_ip3d,mu1_ip3d,dimu_mass -fit septic -n_bins 16 -seed 3 -train_samesign -no_train\n",
      "python 05_train_cathode.py -fid mix_2 -feats dimu_pt,mu0_ip3d,mu1_ip3d,dimu_mass -fit septic -n_bins 16 -seed 4 -no_train\n",
      "python 05_train_cathode.py -fid mix_2 -feats dimu_pt,mu0_ip3d,mu1_ip3d,dimu_mass -fit septic -n_bins 16 -seed 4 -train_samesign -no_train\n",
      "python 05_train_cathode.py -fid mix_2 -feats dimu_pt,mu0_ip3d,mu1_ip3d,dimu_mass -fit septic -n_bins 16 -seed 5 -no_train\n",
      "python 05_train_cathode.py -fid mix_2 -feats dimu_pt,mu0_ip3d,mu1_ip3d,dimu_mass -fit septic -n_bins 16 -seed 5 -train_samesign -no_train\n",
      "python 05_train_cathode.py -fid mix_2 -feats dimu_pt,mu0_ip3d,mu1_ip3d,dimu_mass -fit septic -n_bins 8 -seed 1 -no_train\n",
      "python 05_train_cathode.py -fid mix_2 -feats dimu_pt,mu0_ip3d,mu1_ip3d,dimu_mass -fit septic -n_bins 8 -seed 1 -train_samesign -no_train\n",
      "python 05_train_cathode.py -fid mix_2 -feats dimu_pt,mu0_ip3d,mu1_ip3d,dimu_mass -fit septic -n_bins 8 -seed 2 -no_train\n",
      "python 05_train_cathode.py -fid mix_2 -feats dimu_pt,mu0_ip3d,mu1_ip3d,dimu_mass -fit septic -n_bins 8 -seed 2 -train_samesign -no_train\n",
      "python 05_train_cathode.py -fid mix_2 -feats dimu_pt,mu0_ip3d,mu1_ip3d,dimu_mass -fit septic -n_bins 8 -seed 3 -no_train\n",
      "python 05_train_cathode.py -fid mix_2 -feats dimu_pt,mu0_ip3d,mu1_ip3d,dimu_mass -fit septic -n_bins 8 -seed 3 -train_samesign -no_train\n",
      "python 05_train_cathode.py -fid mix_2 -feats dimu_pt,mu0_ip3d,mu1_ip3d,dimu_mass -fit septic -n_bins 8 -seed 4 -no_train\n",
      "python 05_train_cathode.py -fid mix_2 -feats dimu_pt,mu0_ip3d,mu1_ip3d,dimu_mass -fit septic -n_bins 8 -seed 4 -train_samesign -no_train\n",
      "python 05_train_cathode.py -fid mix_2 -feats dimu_pt,mu0_ip3d,mu1_ip3d,dimu_mass -fit septic -n_bins 8 -seed 5 -no_train\n",
      "python 05_train_cathode.py -fid mix_2 -feats dimu_pt,mu0_ip3d,mu1_ip3d,dimu_mass -fit septic -n_bins 8 -seed 5 -train_samesign -no_train\n"
     ]
    }
   ],
   "source": [
    "# variations\n",
    "\n",
    "fits_to_run = [\"quintic\", \"cubic\", \"septic\"]\n",
    "bins_to_run = [8, 12, 16]\n",
    "\n",
    "sets_to_run = [\"mix_2\"]\n",
    "fits_to_run = [\"quintic\", \"cubic\", \"septic\"]\n",
    "bins_to_run = [12, 16, 8]\n",
    "seeds = [1,2,3,4,5]\n",
    "bootstraps = [0]\n",
    "\n",
    "for fs in sets_to_run:\n",
    "    for fit in fits_to_run:\n",
    "        for binn in bins_to_run:\n",
    "            for s in seeds:\n",
    "                for bs in bootstraps:\n",
    "    \n",
    "                    loc_command = 'python 05_train_cathode.py -fid {feature_set} -feats {feature_list},dimu_mass -fit {fit} -n_bins {binn} -seed {s} -no_train'.format(feature_set=fs,feature_list=\",\".join(feature_sets[fs]),i=2*i,fit=fit,binn=binn,s=s,bs=bs)\n",
    "                    print(loc_command)\n",
    "                    loc_command = 'python 05_train_cathode.py -fid {feature_set} -feats {feature_list},dimu_mass -fit {fit} -n_bins {binn} -seed {s} -train_samesign -no_train'.format(feature_set=fs,feature_list=\",\".join(feature_sets[fs]),i=2*i+1,fit=fit,binn=binn,s=s,bs=bs)\n",
    "                    print(loc_command)\n",
    "                    i += 1"
   ]
  },
  {
   "cell_type": "markdown",
   "id": "65ab9fa3-f9a7-43d1-933f-d79a7ef75c91",
   "metadata": {},
   "source": [
    "Prepare 06"
   ]
  },
  {
   "cell_type": "code",
   "execution_count": 10,
   "id": "356a1810-c77d-45e9-8b71-0f5e50f5ffc8",
   "metadata": {
    "tags": []
   },
   "outputs": [],
   "source": [
    "\n",
    "\n",
    "bootstraps = [0]\n",
    "\n",
    "sets_to_run = [\"mix_2\"]\n",
    "fits_to_run = [\"quintic\"]\n",
    "bins_to_run = [12]\n",
    "\n",
    "with open(\"batch_06.sh\", \"w\") as ofile:\n",
    "    \n",
    "    \n",
    "    for fs in sets_to_run: \n",
    "            for fit in fits_to_run:\n",
    "                for binn in bins_to_run:\n",
    "                    for bs in bootstraps:\n",
    "\n",
    "                        loc_command = f'python 06_eval_cathode.py -fid {fs} -fit {fit} -n_bins {binn} -seeds 1,2,3,4,5 -bootstrap bootstrap{bs}'\n",
    "                        ofile.write(loc_command+\"\\n\") \n",
    "                        loc_command = f'python 06_eval_cathode.py -fid {fs} -fit {fit} -n_bins {binn} -seeds 1,2,3,4,5 -bootstrap bootstrap{bs} -train_samesign'\n",
    "                        ofile.write(loc_command+\"\\n\")"
   ]
  },
  {
   "cell_type": "raw",
   "id": "cdde25bc-f34f-4b2d-a55b-1cb0894055d1",
   "metadata": {},
   "source": [
    "Prepare 07"
   ]
  },
  {
   "cell_type": "code",
   "execution_count": 11,
   "id": "29117615-1213-42dc-ae36-d6409e474a6c",
   "metadata": {
    "tags": []
   },
   "outputs": [],
   "source": [
    "\n",
    "bootstraps = [(0,0)] # flow, data\n",
    "\n",
    "sets_to_run = [\"mix_2\"]\n",
    "fits_to_run = [\"quintic\", \"cubic\", \"septic\"]\n",
    "bins_to_run = [12, 16, 8]\n",
    "\n",
    "\n",
    "n_ensemble = 100\n",
    "\n",
    "bounds = [(0, 1)]\n",
    "with open(\"batch_07.sh\", \"w\") as ofile:\n",
    "\n",
    "    for fs in sets_to_run: \n",
    "    \n",
    "        for fit in fits_to_run:\n",
    "            for binn in bins_to_run:\n",
    "                for start, stop in bounds:\n",
    "                    for bf, bd in bootstraps:\n",
    "    \n",
    "                        loc_command = f'python 07_run_bump_hunt.py -fid {fs} -ne {n_ensemble} -fit {fit} -n_bins {binn} -start {start} -stop {stop} -bf {bf} -bd {bd} -seeds 1,2,3,4,5'\n",
    "                        ofile.write(loc_command+\"\\n\")\n",
    "                        loc_command = f'python 07_run_bump_hunt.py -fid {fs} -ne {n_ensemble} -fit {fit} -n_bins {binn} -start {start} -stop {stop} -bf {bf} -bd {bd} -seeds 1,2,3,4,5  -train_samesign'\n",
    "                        ofile.write(loc_command+\"\\n\")\n",
    "\n",
    "\n",
    "    "
   ]
  },
  {
   "cell_type": "code",
   "execution_count": null,
   "id": "899f1acc-9fa4-4473-af04-5f9fe8b9d96f",
   "metadata": {},
   "outputs": [],
   "source": []
  },
  {
   "cell_type": "code",
   "execution_count": null,
   "id": "af1f3876-1f04-4241-b8e6-398915e9b320",
   "metadata": {},
   "outputs": [],
   "source": []
  },
  {
   "cell_type": "code",
   "execution_count": null,
   "id": "5001198d-83b1-4b48-96b1-c102ce095e79",
   "metadata": {},
   "outputs": [],
   "source": []
  },
  {
   "cell_type": "code",
   "execution_count": null,
   "id": "a6a9142b-3232-4a36-8610-02b06e429ec5",
   "metadata": {},
   "outputs": [],
   "source": []
  }
 ],
 "metadata": {
  "kernelspec": {
   "display_name": "CernRoot",
   "language": "python",
   "name": "cernroot"
  },
  "language_info": {
   "codemirror_mode": {
    "name": "ipython",
    "version": 3
   },
   "file_extension": ".py",
   "mimetype": "text/x-python",
   "name": "python",
   "nbconvert_exporter": "python",
   "pygments_lexer": "ipython3",
   "version": "3.11.4"
  }
 },
 "nbformat": 4,
 "nbformat_minor": 5
}

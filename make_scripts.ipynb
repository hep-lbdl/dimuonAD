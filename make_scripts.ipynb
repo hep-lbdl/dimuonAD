{
 "cells": [
  {
   "cell_type": "code",
   "execution_count": 1,
   "id": "07b4198d-c02e-40a3-b494-29f65b1baf50",
   "metadata": {
    "tags": []
   },
   "outputs": [],
   "source": [
    "import yaml\n",
    "with open(\"workflow.yaml\", \"r\") as file:\n",
    "    workflow = yaml.safe_load(file)\n",
    "\n",
    "feature_sets = workflow[\"feature_sets\"]"
   ]
  },
  {
   "cell_type": "markdown",
   "id": "1a4b8457-f18c-40b2-b4b5-42dc91184bc8",
   "metadata": {},
   "source": [
    "Make batch.sh"
   ]
  },
  {
   "cell_type": "code",
   "execution_count": 2,
   "id": "a8276fb2-c242-4dc1-8740-4f3c2e19c713",
   "metadata": {
    "tags": []
   },
   "outputs": [
    {
     "ename": "NameError",
     "evalue": "name 'particle' is not defined",
     "output_type": "error",
     "traceback": [
      "\u001b[0;31m---------------------------------------------------------------------------\u001b[0m",
      "\u001b[0;31mNameError\u001b[0m                                 Traceback (most recent call last)",
      "Cell \u001b[0;32mIn[2], line 14\u001b[0m\n\u001b[1;32m     11\u001b[0m \u001b[38;5;28;01mfor\u001b[39;00m s \u001b[38;5;129;01min\u001b[39;00m seeds:\n\u001b[1;32m     12\u001b[0m     \u001b[38;5;28;01mfor\u001b[39;00m bs \u001b[38;5;129;01min\u001b[39;00m bootstraps:\n\u001b[0;32m---> 14\u001b[0m         loc_command \u001b[38;5;241m=\u001b[39m \u001b[38;5;124m'\u001b[39m\u001b[38;5;124m[\u001b[39m\u001b[38;5;132;01m{i}\u001b[39;00m\u001b[38;5;124m]=\u001b[39m\u001b[38;5;124m\"\u001b[39m\u001b[38;5;124mpython 05_train_cathode.py -fid \u001b[39m\u001b[38;5;132;01m{feature_set}\u001b[39;00m\u001b[38;5;124m -feats \u001b[39m\u001b[38;5;132;01m{feature_list}\u001b[39;00m\u001b[38;5;124m,dimu_mass -fit \u001b[39m\u001b[38;5;132;01m{fit}\u001b[39;00m\u001b[38;5;124m -n_bins \u001b[39m\u001b[38;5;132;01m{binn}\u001b[39;00m\u001b[38;5;124m -seed \u001b[39m\u001b[38;5;132;01m{s}\u001b[39;00m\u001b[38;5;124m -bootstrap \u001b[39m\u001b[38;5;132;01m{bs}\u001b[39;00m\u001b[38;5;124m\"\u001b[39m\u001b[38;5;124m'\u001b[39m\u001b[38;5;241m.\u001b[39mformat(feature_set\u001b[38;5;241m=\u001b[39mfs,feature_list\u001b[38;5;241m=\u001b[39m\u001b[38;5;124m\"\u001b[39m\u001b[38;5;124m,\u001b[39m\u001b[38;5;124m\"\u001b[39m\u001b[38;5;241m.\u001b[39mjoin(feature_sets[fs]),particle_code\u001b[38;5;241m=\u001b[39m\u001b[43mparticle\u001b[49m,i\u001b[38;5;241m=\u001b[39m\u001b[38;5;241m2\u001b[39m\u001b[38;5;241m*\u001b[39mi,fit\u001b[38;5;241m=\u001b[39mfit,binn\u001b[38;5;241m=\u001b[39mbinn,s\u001b[38;5;241m=\u001b[39ms,bs\u001b[38;5;241m=\u001b[39mbs)\n\u001b[1;32m     15\u001b[0m         \u001b[38;5;28mprint\u001b[39m(loc_command)\n\u001b[1;32m     16\u001b[0m         loc_command \u001b[38;5;241m=\u001b[39m \u001b[38;5;124m'\u001b[39m\u001b[38;5;124m[\u001b[39m\u001b[38;5;132;01m{i}\u001b[39;00m\u001b[38;5;124m]=\u001b[39m\u001b[38;5;124m\"\u001b[39m\u001b[38;5;124mpython 05_train_cathode.py -fid \u001b[39m\u001b[38;5;132;01m{feature_set}\u001b[39;00m\u001b[38;5;124m -feats \u001b[39m\u001b[38;5;132;01m{feature_list}\u001b[39;00m\u001b[38;5;124m,dimu_mass -fit \u001b[39m\u001b[38;5;132;01m{fit}\u001b[39;00m\u001b[38;5;124m -n_bins \u001b[39m\u001b[38;5;132;01m{binn}\u001b[39;00m\u001b[38;5;124m -seed \u001b[39m\u001b[38;5;132;01m{s}\u001b[39;00m\u001b[38;5;124m -bootstrap \u001b[39m\u001b[38;5;132;01m{bs}\u001b[39;00m\u001b[38;5;124m -train_samesign\u001b[39m\u001b[38;5;124m\"\u001b[39m\u001b[38;5;124m'\u001b[39m\u001b[38;5;241m.\u001b[39mformat(feature_set\u001b[38;5;241m=\u001b[39mfs,feature_list\u001b[38;5;241m=\u001b[39m\u001b[38;5;124m\"\u001b[39m\u001b[38;5;124m,\u001b[39m\u001b[38;5;124m\"\u001b[39m\u001b[38;5;241m.\u001b[39mjoin(feature_sets[fs]),particle_code\u001b[38;5;241m=\u001b[39mparticle,i\u001b[38;5;241m=\u001b[39m\u001b[38;5;241m2\u001b[39m\u001b[38;5;241m*\u001b[39mi\u001b[38;5;241m+\u001b[39m\u001b[38;5;241m1\u001b[39m,fit\u001b[38;5;241m=\u001b[39mfit,binn\u001b[38;5;241m=\u001b[39mbinn,s\u001b[38;5;241m=\u001b[39ms,bs\u001b[38;5;241m=\u001b[39mbs)\n",
      "\u001b[0;31mNameError\u001b[0m: name 'particle' is not defined"
     ]
    }
   ],
   "source": [
    "\n",
    "sets_to_run = [\"mix_2\"]\n",
    "fits_to_run = [\"quintic\",]\n",
    "bins_to_run = [12]\n",
    "seeds = [1,2,3,4,5]\n",
    "bootstraps = [0,1,2]\n",
    "\n",
    "i = 0\n",
    "for fs in sets_to_run:\n",
    "    for fit in fits_to_run:\n",
    "        for binn in bins_to_run:\n",
    "            for s in seeds:\n",
    "                for bs in bootstraps:\n",
    "    \n",
    "                    loc_command = '[{i}]=\"python 05_train_cathode.py -fid {feature_set} -feats {feature_list},dimu_mass -fit {fit} -n_bins {binn} -seed {s} -bootstrap {bs}\"'.format(feature_set=fs,feature_list=\",\".join(feature_sets[fs]),particle_code=particle,i=2*i,fit=fit,binn=binn,s=s,bs=bs)\n",
    "                    print(loc_command)\n",
    "                    loc_command = '[{i}]=\"python 05_train_cathode.py -fid {feature_set} -feats {feature_list},dimu_mass -fit {fit} -n_bins {binn} -seed {s} -bootstrap {bs} -train_samesign\"'.format(feature_set=fs,feature_list=\",\".join(feature_sets[fs]),particle_code=particle,i=2*i+1,fit=fit,binn=binn,s=s,bs=bs)\n",
    "                    print(loc_command)\n",
    "                    i += 1"
   ]
  },
  {
   "cell_type": "code",
   "execution_count": null,
   "id": "d0586063-5841-4f7d-899c-22a36c420ef5",
   "metadata": {
    "tags": []
   },
   "outputs": [],
   "source": [
    "# variations\n",
    "\n",
    "fits_to_run = [\"quintic\", \"cubic\", \"septic\"]\n",
    "bins_to_run = [8, 12, 16]\n",
    "\n",
    "sets_to_run = [\"mix_2\"]\n",
    "fits_to_run = [\"quintic\"]\n",
    "bins_to_run = [12]\n",
    "seeds = [1,2,3,4,5]\n",
    "bootstraps = [0,1,2]\n",
    "\n",
    "for fs in sets_to_run:\n",
    "    for fit in fits_to_run:\n",
    "        for binn in bins_to_run:\n",
    "            for s in seeds:\n",
    "                for bs in bootstraps:\n",
    "\n",
    "                    loc_command = 'python 05_trueCATHODE.py -fid {feature_set} -feats {feature_list},dimu_mass -fit {fit} -n_bins {binn} -seed {s} -bootstrap {bs} -no_train'.format(feature_set=fs,feature_list=\",\".join(feature_sets[fs]),i=2*i,fit=fit,binn=binn,s=s,bs=bs )\n",
    "                    print(loc_command)\n",
    "                    loc_command = 'python 05_trueCATHODE.py -fid {feature_set} -feats {feature_list},dimu_mass -fit {fit} -n_bins {binn} -seed {s} -bootstrap {bs} -train_samesign -no_train'.format(feature_set=fs,feature_list=\",\".join(feature_sets[fs])i=2*i+1,fit=fit,binn=binn,bs=bs,s=s,)\n",
    "\n"
   ]
  },
  {
   "cell_type": "markdown",
   "id": "65ab9fa3-f9a7-43d1-933f-d79a7ef75c91",
   "metadata": {},
   "source": [
    "Prepare 06"
   ]
  },
  {
   "cell_type": "code",
   "execution_count": null,
   "id": "356a1810-c77d-45e9-8b71-0f5e50f5ffc8",
   "metadata": {
    "tags": []
   },
   "outputs": [],
   "source": [
    "\n",
    "\n",
    "bootstraps = [0,1,2]\n",
    "\n",
    "sets_to_run = [\"mix_2\"]\n",
    "fits_to_run = [\"quintic\"]\n",
    "bins_to_run = [12]\n",
    "\n",
    "with open(\"batch_06.sh\", \"w\") as ofile:\n",
    "    \n",
    "    \n",
    "    for fs in sets_to_run: \n",
    "            for fit in fits_to_run:\n",
    "                for binn in bins_to_run:\n",
    "                    for bs in bootstraps:\n",
    "\n",
    "                        loc_command = f'python 06_eval_cathode.py -fid {fs} -fit {fit} -n_bins {binn} -seeds 1,2,3,4,5 -bootstrap {bs}'\n",
    "                        ofile.write(loc_command+\"\\n\") \n",
    "                        #loc_command = f'python 06_eval_cathode.py -fid {fs} -fit {fit} -n_bins {binn} -seeds 1,2,3,4,5 -bootstrap {bs} -train_samesign'\n",
    "                        #ofile.write(loc_command+\"\\n\")"
   ]
  },
  {
   "cell_type": "raw",
   "id": "cdde25bc-f34f-4b2d-a55b-1cb0894055d1",
   "metadata": {},
   "source": [
    "Prepare 07"
   ]
  },
  {
   "cell_type": "code",
   "execution_count": 5,
   "id": "29117615-1213-42dc-ae36-d6409e474a6c",
   "metadata": {
    "tags": []
   },
   "outputs": [],
   "source": [
    "\n",
    "bootstraps = [(0,0), (0,88)] # flow, data\n",
    "\n",
    "sets_to_run = [\"mix_2\"]\n",
    "fits_to_run = [\"quintic\",]\n",
    "bins_to_run = [12]\n",
    "\n",
    "\n",
    "n_ensemble = 100\n",
    "\n",
    "bounds = [(0, 1), (1, 501), (501, 1001)]\n",
    "with open(\"batch_07.sh\", \"w\") as ofile:\n",
    "\n",
    "    for fs in sets_to_run: \n",
    "    \n",
    "        for fit in fits_to_run:\n",
    "            for binn in bins_to_run:\n",
    "                for start, stop in bounds:\n",
    "                    for bf, bd in bootstraps:\n",
    "    \n",
    "                        loc_command = f'python 07_run_bump_hunt.py -fid {fs} -ne {n_ensemble} -fit {fit} -n_bins {binn} -start {start} -stop {stop} -bf {bf} -bd {bd} -seeds 1,2,3,4,5'\n",
    "                        ofile.write(loc_command+\"\\n\")\n",
    "                        loc_command = f'python 07_run_bump_hunt.py -fid {fs} -ne {n_ensemble} -fit {fit} -n_bins {binn} -start {start} -stop {stop} -bf {bf} -bd {bd} -seeds 1,2,3,4,5  -train_samesign'\n",
    "                        #ofile.write(loc_command+\"\\n\")\n",
    "\n",
    "\n",
    "    "
   ]
  },
  {
   "cell_type": "code",
   "execution_count": null,
   "id": "899f1acc-9fa4-4473-af04-5f9fe8b9d96f",
   "metadata": {},
   "outputs": [],
   "source": []
  },
  {
   "cell_type": "code",
   "execution_count": null,
   "id": "af1f3876-1f04-4241-b8e6-398915e9b320",
   "metadata": {},
   "outputs": [],
   "source": []
  },
  {
   "cell_type": "code",
   "execution_count": null,
   "id": "5001198d-83b1-4b48-96b1-c102ce095e79",
   "metadata": {},
   "outputs": [],
   "source": []
  },
  {
   "cell_type": "code",
   "execution_count": null,
   "id": "a6a9142b-3232-4a36-8610-02b06e429ec5",
   "metadata": {},
   "outputs": [],
   "source": []
  }
 ],
 "metadata": {
  "kernelspec": {
   "display_name": "CernRoot",
   "language": "python",
   "name": "cernroot"
  },
  "language_info": {
   "codemirror_mode": {
    "name": "ipython",
    "version": 3
   },
   "file_extension": ".py",
   "mimetype": "text/x-python",
   "name": "python",
   "nbconvert_exporter": "python",
   "pygments_lexer": "ipython3",
   "version": "3.11.4"
  }
 },
 "nbformat": 4,
 "nbformat_minor": 5
}

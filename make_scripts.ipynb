{
 "cells": [
  {
   "cell_type": "code",
   "execution_count": 1,
   "id": "07b4198d-c02e-40a3-b494-29f65b1baf50",
   "metadata": {
    "tags": []
   },
   "outputs": [],
   "source": [
    "import yaml\n",
    "with open(\"workflow.yaml\", \"r\") as file:\n",
    "    workflow = yaml.safe_load(file)\n",
    "\n",
    "feature_sets = workflow[\"feature_sets\"]"
   ]
  },
  {
   "cell_type": "markdown",
   "id": "1a4b8457-f18c-40b2-b4b5-42dc91184bc8",
   "metadata": {},
   "source": [
    "Make batch.sh"
   ]
  },
  {
   "cell_type": "code",
   "execution_count": 6,
   "id": "a8276fb2-c242-4dc1-8740-4f3c2e19c713",
   "metadata": {
    "tags": []
   },
   "outputs": [
    {
     "name": "stdout",
     "output_type": "stream",
     "text": [
      "[0]=\"python 05_trueCATHODE.py -fid mix_2 -f dimu_pt,mu0_ip3d,mu1_ip3d,dimu_mass -pid lowmass_upsilon_iso_nojet -c CATHODE_8 -f cubic -n_bins 16\"\n",
      "[1]=\"python 05_trueCATHODE.py -fid mix_2 -f dimu_pt,mu0_ip3d,mu1_ip3d,dimu_mass -pid lowmass_upsilon_iso_samesign_nojet -c CATHODE_8 -f cubic -n_bins 16\"\n",
      "[2]=\"python 05_trueCATHODE.py -fid mix_2 -f dimu_pt,mu0_ip3d,mu1_ip3d,dimu_mass -pid lowmass_upsilon_iso_nojet -c CATHODE_8 -f cubic -n_bins 12\"\n",
      "[3]=\"python 05_trueCATHODE.py -fid mix_2 -f dimu_pt,mu0_ip3d,mu1_ip3d,dimu_mass -pid lowmass_upsilon_iso_samesign_nojet -c CATHODE_8 -f cubic -n_bins 12\"\n",
      "[4]=\"python 05_trueCATHODE.py -fid mix_2 -f dimu_pt,mu0_ip3d,mu1_ip3d,dimu_mass -pid lowmass_upsilon_iso_nojet -c CATHODE_8 -f cubic -n_bins 8\"\n",
      "[5]=\"python 05_trueCATHODE.py -fid mix_2 -f dimu_pt,mu0_ip3d,mu1_ip3d,dimu_mass -pid lowmass_upsilon_iso_samesign_nojet -c CATHODE_8 -f cubic -n_bins 8\"\n",
      "[6]=\"python 05_trueCATHODE.py -fid mix_2 -f dimu_pt,mu0_ip3d,mu1_ip3d,dimu_mass -pid lowmass_upsilon_iso_nojet -c CATHODE_8 -f quintic -n_bins 16\"\n",
      "[7]=\"python 05_trueCATHODE.py -fid mix_2 -f dimu_pt,mu0_ip3d,mu1_ip3d,dimu_mass -pid lowmass_upsilon_iso_samesign_nojet -c CATHODE_8 -f quintic -n_bins 16\"\n",
      "[8]=\"python 05_trueCATHODE.py -fid mix_2 -f dimu_pt,mu0_ip3d,mu1_ip3d,dimu_mass -pid lowmass_upsilon_iso_nojet -c CATHODE_8 -f quintic -n_bins 12\"\n",
      "[9]=\"python 05_trueCATHODE.py -fid mix_2 -f dimu_pt,mu0_ip3d,mu1_ip3d,dimu_mass -pid lowmass_upsilon_iso_samesign_nojet -c CATHODE_8 -f quintic -n_bins 12\"\n",
      "[10]=\"python 05_trueCATHODE.py -fid mix_2 -f dimu_pt,mu0_ip3d,mu1_ip3d,dimu_mass -pid lowmass_upsilon_iso_nojet -c CATHODE_8 -f quintic -n_bins 8\"\n",
      "[11]=\"python 05_trueCATHODE.py -fid mix_2 -f dimu_pt,mu0_ip3d,mu1_ip3d,dimu_mass -pid lowmass_upsilon_iso_samesign_nojet -c CATHODE_8 -f quintic -n_bins 8\"\n",
      "[12]=\"python 05_trueCATHODE.py -fid mix_2 -f dimu_pt,mu0_ip3d,mu1_ip3d,dimu_mass -pid lowmass_upsilon_iso_nojet -c CATHODE_8 -f septic -n_bins 16\"\n",
      "[13]=\"python 05_trueCATHODE.py -fid mix_2 -f dimu_pt,mu0_ip3d,mu1_ip3d,dimu_mass -pid lowmass_upsilon_iso_samesign_nojet -c CATHODE_8 -f septic -n_bins 16\"\n",
      "[14]=\"python 05_trueCATHODE.py -fid mix_2 -f dimu_pt,mu0_ip3d,mu1_ip3d,dimu_mass -pid lowmass_upsilon_iso_nojet -c CATHODE_8 -f septic -n_bins 12\"\n",
      "[15]=\"python 05_trueCATHODE.py -fid mix_2 -f dimu_pt,mu0_ip3d,mu1_ip3d,dimu_mass -pid lowmass_upsilon_iso_samesign_nojet -c CATHODE_8 -f septic -n_bins 12\"\n",
      "[16]=\"python 05_trueCATHODE.py -fid mix_2 -f dimu_pt,mu0_ip3d,mu1_ip3d,dimu_mass -pid lowmass_upsilon_iso_nojet -c CATHODE_8 -f septic -n_bins 8\"\n",
      "[17]=\"python 05_trueCATHODE.py -fid mix_2 -f dimu_pt,mu0_ip3d,mu1_ip3d,dimu_mass -pid lowmass_upsilon_iso_samesign_nojet -c CATHODE_8 -f septic -n_bins 8\"\n"
     ]
    }
   ],
   "source": [
    "features_to_run = [\"mix_2\"]\n",
    "particles_to_run = [\"upsilon_iso\"]\n",
    "fits_to_run = [\"cubic\", \"quintic\", \"septic\"]\n",
    "bins_to_run = [16, 12, 8]\n",
    "\n",
    "\n",
    "i = 0\n",
    "for fs in features_to_run:\n",
    "    for particle in particles_to_run:\n",
    "        for fit in fits_to_run:\n",
    "            for binn in bins_to_run:\n",
    "                \n",
    "\n",
    "                loc_command = '[{i}]=\"python 05_trueCATHODE.py -fid {feature_set} -f {feature_list},dimu_mass -pid lowmass_{particle_code}_nojet -c CATHODE_8 -fit {fit} -n_bins {binn}\"'.format(feature_set=fs,feature_list = \",\".join(feature_sets[fs]), particle_code = particle, i=2*i, fit=fit, binn = binn )\n",
    "                print(loc_command)\n",
    "                loc_command = '[{i}]=\"python 05_trueCATHODE.py -fid {feature_set} -f {feature_list},dimu_mass -pid lowmass_{particle_code}_samesign_nojet -c CATHODE_8 -fit {fit} -n_bins {binn}\"'.format(feature_set=fs,feature_list = \",\".join(feature_sets[fs]), particle_code = particle, i=2*i+1 , fit=fit, binn = binn)\n",
    "                print(loc_command)\n",
    "                i += 1"
   ]
  },
  {
   "cell_type": "markdown",
   "id": "65ab9fa3-f9a7-43d1-933f-d79a7ef75c91",
   "metadata": {},
   "source": [
    "Prepare 06"
   ]
  },
  {
   "cell_type": "code",
   "execution_count": 13,
   "id": "356a1810-c77d-45e9-8b71-0f5e50f5ffc8",
   "metadata": {
    "tags": []
   },
   "outputs": [],
   "source": [
    "features_to_run = [\"mix_2\"]\n",
    "particles_to_run = [\"upsilon_iso\"]\n",
    "fits_to_run = [\"cubic\", \"quintic\", \"septic\"]\n",
    "bins_to_run = [16, 12, 8]\n",
    "\n",
    "\n",
    "with open(\"batch_06.sh\", \"w\") as ofile:\n",
    "    \n",
    "    for fs in features_to_run:\n",
    "        for particle in particles_to_run:\n",
    "            for fit in fits_to_run:\n",
    "                for binn in bins_to_run:\n",
    "\n",
    "                    loc_command = f'python 06_eval_CATHODE.py -feat {fs} -p {particle} -fit {fit} -n_bins {binn} -seeds 1,2,3,4,5'\n",
    "                    ofile.write(loc_command+\"\\n\")\n",
    "                    loc_command = f'python 06_eval_CATHODE.py -feat {fs} -p {particle}_samesign -fit {fit} -n_bins {binn} -seeds 1,2,3,4,5'\n",
    "                    ofile.write(loc_command+\"\\n\")"
   ]
  },
  {
   "cell_type": "raw",
   "id": "cdde25bc-f34f-4b2d-a55b-1cb0894055d1",
   "metadata": {},
   "source": [
    "Prepare 07"
   ]
  },
  {
   "cell_type": "code",
   "execution_count": 16,
   "id": "29117615-1213-42dc-ae36-d6409e474a6c",
   "metadata": {
    "tags": []
   },
   "outputs": [],
   "source": [
    "\n",
    "\n",
    "n_ensemble = 50\n",
    "n_bootstrap = 50\n",
    "with open(\"batch_07.sh\", \"w\") as ofile:\n",
    "\n",
    "    for fs in features_to_run:\n",
    "        for particle in particles_to_run:\n",
    "            for fit in fits_to_run:\n",
    "                for binn in bins_to_run:\n",
    "\n",
    "                    loc_command = f'python 07_bump_hunt_boostrap.py -fid {fs} -p {particle} -ne {n_ensemble} -nb {n_bootstrap} -fit {fit} -n_bins {binn} -seeds 1,2,3,4,5'\n",
    "                    ofile.write(loc_command+\"\\n\")\n",
    "                    loc_command = f'python 07_bump_hunt_boostrap.py -fid {fs} -p {particle} -train_samesign -ne {n_ensemble} -nb {n_bootstrap} -fit {fit} -n_bins {binn} -seeds 1,2,3,4,5'\n",
    "                    ofile.write(loc_command+\"\\n\")\n",
    "\n",
    "\n",
    "    "
   ]
  },
  {
   "cell_type": "code",
   "execution_count": null,
   "id": "899f1acc-9fa4-4473-af04-5f9fe8b9d96f",
   "metadata": {},
   "outputs": [],
   "source": []
  },
  {
   "cell_type": "code",
   "execution_count": null,
   "id": "af1f3876-1f04-4241-b8e6-398915e9b320",
   "metadata": {},
   "outputs": [],
   "source": []
  },
  {
   "cell_type": "code",
   "execution_count": null,
   "id": "5001198d-83b1-4b48-96b1-c102ce095e79",
   "metadata": {},
   "outputs": [],
   "source": []
  },
  {
   "cell_type": "code",
   "execution_count": null,
   "id": "a6a9142b-3232-4a36-8610-02b06e429ec5",
   "metadata": {},
   "outputs": [],
   "source": []
  }
 ],
 "metadata": {
  "kernelspec": {
   "display_name": "Python 3 (ipykernel)",
   "language": "python",
   "name": "python3"
  },
  "language_info": {
   "codemirror_mode": {
    "name": "ipython",
    "version": 3
   },
   "file_extension": ".py",
   "mimetype": "text/x-python",
   "name": "python",
   "nbconvert_exporter": "python",
   "pygments_lexer": "ipython3",
   "version": "3.8.5"
  }
 },
 "nbformat": 4,
 "nbformat_minor": 5
}

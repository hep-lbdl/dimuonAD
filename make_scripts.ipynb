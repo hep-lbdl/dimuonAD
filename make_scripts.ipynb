{
 "cells": [
  {
   "cell_type": "markdown",
   "id": "c7978650-99de-4fb8-ac8e-d8b8e14a9d60",
   "metadata": {},
   "source": [
    "# Single window"
   ]
  },
  {
   "cell_type": "code",
   "execution_count": null,
   "id": "ba718410-e531-45fb-aec6-d7d57e7ce61c",
   "metadata": {},
   "outputs": [],
   "source": [
    "import yaml\n",
    "with open(\"workflow.yaml\", \"r\") as file:\n",
    "    workflow = yaml.safe_load(file)\n",
    "\n",
    "feature_sets = workflow[\"feature_sets\"]"
   ]
  },
  {
   "cell_type": "code",
   "execution_count": 61,
   "id": "a8276fb2-c242-4dc1-8740-4f3c2e19c713",
   "metadata": {
    "tags": []
   },
   "outputs": [
    {
     "name": "stdout",
     "output_type": "stream",
     "text": [
      "[0]=\"python 05_train_cathode.py -fid mix_2 -feats dimu_pt,mu0_ip3d,mu1_ip3d,dimu_mass -fit 5 -n_bins 12 -seed 1\"\n",
      "[1]=\"python 05_train_cathode.py -fid mix_2 -feats dimu_pt,mu0_ip3d,mu1_ip3d,dimu_mass -fit 5 -n_bins 12 -seed 1 -train_samesign\"\n"
     ]
    }
   ],
   "source": [
    "# training\n",
    "\n",
    "sets_to_run = [\"mix_2\"]\n",
    "fits_to_run = [5]\n",
    "bins_to_run = [12]\n",
    "seeds = [1, 2, 3, 4, 5]\n",
    "\n",
    "i = 0\n",
    "with open(\"batch_scripts/train_flows.sh\", \"w\") as ofile:\n",
    "\n",
    "    for fs in sets_to_run:\n",
    "        for fit in fits_to_run:\n",
    "            for binn in bins_to_run:\n",
    "                for s in seeds:\n",
    "    \n",
    "                    loc_command = '[{i}]=\"python 05_train_cathode.py -fid {feature_set} -feats {feature_list},dimu_mass -fit {fit} -n_bins {binn} -seed {s}\"'.format(feature_set=fs,feature_list=\",\".join(feature_sets[fs]),i=2*i,fit=fit,binn=binn,s=s)\n",
    "                    ofile.write(loc_command+\"\\n\")\n",
    "                    if i == 0: print(loc_command)\n",
    "                    loc_command = '[{i}]=\"python 05_train_cathode.py -fid {feature_set} -feats {feature_list},dimu_mass -fit {fit} -n_bins {binn} -seed {s} -train_samesign\"'.format(feature_set=fs,feature_list=\",\".join(feature_sets[fs]),i=2*i+1,fit=fit,binn=binn,s=s)\n",
    "                    ofile.write(loc_command+\"\\n\")\n",
    "                    if i == 0: print(loc_command)\n",
    "                    i += 1\n"
   ]
  },
  {
   "cell_type": "code",
   "execution_count": 59,
   "id": "d0586063-5841-4f7d-899c-22a36c420ef5",
   "metadata": {
    "tags": []
   },
   "outputs": [],
   "source": [
    "# variations\n",
    "\n",
    "sets_to_run = [\"mix_2\"]\n",
    "fits_to_run = [5, 3, 7]\n",
    "bins_to_run = [12, 16, 8]\n",
    "seeds = [1,2,3,4,5]\n",
    "\n",
    "with open(\"batch_scripts/make_samples_variations.sh\", \"w\") as ofile:\n",
    "\n",
    "    for fs in sets_to_run:\n",
    "        for fit in fits_to_run:\n",
    "            for binn in bins_to_run:\n",
    "                for s in seeds:\n",
    "    \n",
    "                    loc_command = 'python 04_train_cathode.py -fid {feature_set} -feats {feature_list},dimu_mass -fit {fit} -n_bins {binn} -seed {s} -no_train'.format(feature_set=fs,feature_list=\",\".join(feature_sets[fs]),i=2*i,fit=fit,binn=binn,s=s)\n",
    "                    ofile.write(loc_command+\"\\n\")\n",
    "                    if i == 0: print(loc_command)\n",
    "                    loc_command = 'python 04_train_cathode.py -fid {feature_set} -feats {feature_list},dimu_mass -fit {fit} -n_bins {binn} -seed {s} -train_samesign -no_train'.format(feature_set=fs,feature_list=\",\".join(feature_sets[fs]),i=2*i+1,fit=fit,binn=binn,s=s)\n",
    "                    ofile.write(loc_command+\"\\n\")\n",
    "                    if i == 0: print(loc_command)\n",
    "                    i += 1\n",
    "\n"
   ]
  },
  {
   "cell_type": "code",
   "execution_count": 58,
   "id": "356a1810-c77d-45e9-8b71-0f5e50f5ffc8",
   "metadata": {
    "tags": []
   },
   "outputs": [],
   "source": [
    "# evaluation\n",
    "# note this only has to be done for *one* fit and *one* bin choice --\n",
    "    # we can only check the flow samples in the SB, and those are pulled using the actual SB masses\n",
    "    # i.e. there is no need to use the fit information in the SB\n",
    "\n",
    "sets_to_run = [\"mix_2\"]\n",
    "fits_to_run = [5]\n",
    "bins_to_run = [12]\n",
    "\n",
    "with open(\"batch_scripts/eval_samples.sh\", \"w\") as ofile:\n",
    "\n",
    "    \n",
    "    for fs in sets_to_run: \n",
    "            for fit in fits_to_run:\n",
    "                for binn in bins_to_run:\n",
    "    \n",
    "                    loc_command = f'python 05_eval_cathode.py -fid {fs} -fit {fit} -n_bins {binn} -seeds 1,2,3,4,5'\n",
    "                    ofile.write(loc_command+\"\\n\")\n",
    "                    if i == 0: print(loc_command)\n",
    "                    loc_command = f'python 05_eval_cathode.py -fid {fs} -fit {fit} -n_bins {binn} -seeds 1,2,3,4,5 -train_samesign'\n",
    "                    ofile.write(loc_command+\"\\n\")\n",
    "                    if i == 0: print(loc_command)\n",
    "                    i += 1\n",
    "\n"
   ]
  },
  {
   "cell_type": "code",
   "execution_count": 57,
   "id": "29117615-1213-42dc-ae36-d6409e474a6c",
   "metadata": {
    "tags": []
   },
   "outputs": [],
   "source": [
    "# train BDTs\n",
    "\n",
    "sets_to_run = [\"mix_2\"]\n",
    "fits_to_run = [5]\n",
    "bins_to_run = [12, 16, 8]\n",
    "\n",
    "\n",
    "n_ensemble = 100\n",
    "\n",
    "\n",
    "with open(\"batch_scripts/train_BDTs.sh\", \"w\") as ofile:\n",
    "    \n",
    "    for fs in sets_to_run: \n",
    "    \n",
    "        for fit in fits_to_run:\n",
    "            for binn in bins_to_run:\n",
    "                for start, stop in bounds:\n",
    "    \n",
    "                    loc_command = f'python 06_run_bump_hunt.py -fid {fs} -ne {n_ensemble} -fit {fit} -n_bins {binn} -start {start} -stop {stop} -seeds 1,2,3,4,5'\n",
    "                    ofile.write(loc_command+\"\\n\")\n",
    "                    if i == 0: print(loc_command)\n",
    "                    loc_command = f'python 06_run_bump_hunt.py -fid {fs} -ne {n_ensemble} -fit {fit} -n_bins {binn} -start {start} -stop {stop} -seeds 1,2,3,4,5  -train_samesign'\n",
    "                    ofile.write(loc_command+\"\\n\")\n",
    "                    if i == 0: print(loc_command)\n",
    "                    i += 1\n",
    "\n",
    "\n",
    "    "
   ]
  },
  {
   "cell_type": "markdown",
   "id": "173d438a-7028-4ea6-a00b-ca173f0944ec",
   "metadata": {},
   "source": [
    "# Sliding window"
   ]
  },
  {
   "cell_type": "code",
   "execution_count": 38,
   "id": "e0111011-fc0f-4da6-bcae-e2ab32164778",
   "metadata": {},
   "outputs": [],
   "source": [
    "import yaml\n",
    "with open(\"workflow_scan.yaml\", \"r\") as file:\n",
    "    workflow = yaml.safe_load(file)\n",
    "\n",
    "feature_sets = workflow[\"feature_sets\"]"
   ]
  },
  {
   "cell_type": "code",
   "execution_count": 62,
   "id": "af1f3876-1f04-4241-b8e6-398915e9b320",
   "metadata": {},
   "outputs": [
    {
     "name": "stdout",
     "output_type": "stream",
     "text": [
      "[0]=\"python 04_train_cathode.py -workflow workflow_scan -fid mix_2 -feats dimu_pt,mu0_ip3d,mu1_ip3d,dimu_mass -fit 5 -premade_bins -seed 1 -bootstrap window0 -win 0 -peaks\"\n",
      "[0]=\"python 04_train_cathode.py -workflow workflow_scan -fid mix_2 -feats dimu_pt,mu0_ip3d,mu1_ip3d,dimu_mass -fit 5 -premade_bins -seed 1 -bootstrap window0 -win 0 -peaks -train_samesign\"\n"
     ]
    }
   ],
   "source": [
    "# Flow training\n",
    "\n",
    "sets_to_run = [\"mix_2\"]\n",
    "fits_to_run = [5]\n",
    "seeds = [1, 2, 3, 4, 5]\n",
    "\n",
    "num_windows = 1 #173\n",
    "\n",
    "with open(\"batch_scripts/train_flows_scan.sh\", \"w\") as ofile:\n",
    "\n",
    "    \n",
    "    i = 0\n",
    "    for fs in sets_to_run:\n",
    "        for fit in fits_to_run:\n",
    "            for window_index in range(num_windows):\n",
    "                for s in seeds:\n",
    "                    for bs in bootstraps:\n",
    "        \n",
    "                        loc_command = '[{i}]=\"python 04_train_cathode.py -workflow workflow_scan -fid {feature_set} -feats {feature_list},dimu_mass -fit {fit} -premade_bins -seed {s} -bootstrap window{win} -win {win} -peaks\"'.format(feature_set=fs,feature_list=\",\".join(feature_sets[fs]),i=2*i,fit=fit,win=window_index,s=s,bs=bs)\n",
    "                        ofile.write(loc_command+\"\\n\")\n",
    "                        if i == 0: print(loc_command)\n",
    "                        loc_command = '[{i}]=\"python 04_train_cathode.py -workflow workflow_scan -fid {feature_set} -feats {feature_list},dimu_mass -fit {fit} -premade_bins -seed {s} -bootstrap window{win} -win {win} -peaks -train_samesign\"'.format(feature_set=fs,feature_list=\",\".join(feature_sets[fs]),i=2*i,fit=fit,win=window_index,s=s,bs=bs)\n",
    "                        ofile.write(loc_command+\"\\n\")\n",
    "                        if i == 0: print(loc_command)\n",
    "                        i += 1"
   ]
  },
  {
   "cell_type": "code",
   "execution_count": 52,
   "id": "5001198d-83b1-4b48-96b1-c102ce095e79",
   "metadata": {},
   "outputs": [
    {
     "name": "stdout",
     "output_type": "stream",
     "text": [
      "python 04_train_cathode.py -workflow workflow_scan -fid mix_2 -feats dimu_pt,mu0_ip3d,mu1_ip3d,dimu_mass -fit 5 -premade_bins -seed 1 -bootstrap window0 -win 0 -no_train -peaks\n",
      "python 04_train_cathode.py -workflow workflow_scan -fid mix_2 -feats dimu_pt,mu0_ip3d,mu1_ip3d,dimu_mass -fit 5 -premade_bins -seed 1 -bootstrap window0 -win 0 -no_train -peaks -train_samesign\n"
     ]
    }
   ],
   "source": [
    "# variations\n",
    "\n",
    "sets_to_run = [\"mix_2\"]\n",
    "fits_to_run = [5]\n",
    "seeds = [1,2,3,4,5]\n",
    "\n",
    "i = 0\n",
    "\n",
    "with open(\"batch_scripts/make_samples_variations_scan.sh\", \"w\") as ofile:\n",
    "    for fs in sets_to_run:\n",
    "        for fit in fits_to_run:\n",
    "            for window_index in range(173):\n",
    "                for s in seeds:\n",
    "    \n",
    "                    loc_command = 'python 04_train_cathode.py -workflow workflow_scan -fid {feature_set} -feats {feature_list},dimu_mass -fit {fit} -premade_bins -seed {s} -bootstrap window{win} -win {win} -no_train -peaks'.format(feature_set=fs,feature_list=\",\".join(feature_sets[fs]),i=2*i,fit=fit,win=window_index,s=s)\n",
    "                    ofile.write(loc_command+\"\\n\")\n",
    "                    if i == 0: print(loc_command)\n",
    "                    loc_command = 'python 04_train_cathode.py -workflow workflow_scan -fid {feature_set} -feats {feature_list},dimu_mass -fit {fit} -premade_bins -seed {s} -bootstrap window{win} -win {win} -no_train -peaks -train_samesign'.format(feature_set=fs,feature_list=\",\".join(feature_sets[fs]),i=2*i,fit=fit,win=window_index,s=s)                    \n",
    "                    ofile.write(loc_command+\"\\n\")\n",
    "                    if i == 0: print(loc_command)\n",
    "                    i += 1"
   ]
  },
  {
   "cell_type": "code",
   "execution_count": 56,
   "id": "a6a9142b-3232-4a36-8610-02b06e429ec5",
   "metadata": {},
   "outputs": [],
   "source": [
    "# evaluation\n",
    "\n",
    "sets_to_run = [\"mix_2\"]\n",
    "fits_to_run = [5]\n",
    "\n",
    "with open(\"batch_scripts/eval_samples_scan.sh\", \"w\") as ofile:\n",
    "    for fs in sets_to_run: \n",
    "            for fit in fits_to_run:\n",
    "                for window_index in range(173):\n",
    "    \n",
    "                    loc_command = 'python 05_eval_cathode.py -workflow workflow_scan -fid {feature_set} -fit {fit} -seeds 1,2,3,4,5 -bootstrap window{win}'.format(feature_set=fs,feature_list=\",\".join(feature_sets[fs]),i=2*i,fit=fit,win=window_index)\n",
    "                    ofile.write(loc_command+\"\\n\")\n",
    "                    if i == 0: print(loc_command)\n",
    "                    loc_command = 'python 05_eval_cathode.py -workflow workflow_scan -fid {feature_set} -fit {fit} -seeds 1,2,3,4,5 -bootstrap window{win} -train_samesign'.format(feature_set=fs,feature_list=\",\".join(feature_sets[fs]),i=2*i,fit=fit,win=window_index)                    \n",
    "                    ofile.write(loc_command+\"\\n\")\n",
    "                    if i == 0: print(loc_command)\n",
    "                    i += 1"
   ]
  },
  {
   "cell_type": "code",
   "execution_count": 55,
   "id": "e82c8716-2c03-428c-b535-40e415026469",
   "metadata": {},
   "outputs": [],
   "source": [
    "# train BDTs\n",
    "\n",
    "sets_to_run = [\"mix_2\"]\n",
    "fits_to_run = [5]\n",
    "\n",
    "n_ensemble = 100\n",
    "\n",
    "with open(\"batch_scripts/train_BDTs_scan.sh\", \"w\") as ofile:\n",
    "    for fs in sets_to_run: \n",
    "        for fit in fits_to_run:\n",
    "             for window_index in range(173):\n",
    "\n",
    "                loc_command = f'python 06_run_bump_hunt.py -workflow workflow_scan -bootstrap window{window_index} -fid {fs} -ne {n_ensemble} -fit {fit} -n_bins {binn} -start 0 -stop 1 -seeds 1,2,3,4,5'\n",
    "                ofile.write(loc_command+\"\\n\")\n",
    "                if i == 0: print(loc_command)\n",
    "                loc_command = f'python 06_run_bump_hunt.py -workflow workflow_scan -bootstrap window{window_index} -fid {fs} -ne {n_ensemble} -fit {fit} -n_bins {binn} -start 0 -stop 1 -seeds 1,2,3,4,5  -train_samesign'\n",
    "                ofile.write(loc_command+\"\\n\")\n",
    "                if i == 0: print(loc_command)\n",
    "                i += 1\n",
    "\n",
    "\n",
    "    "
   ]
  },
  {
   "cell_type": "code",
   "execution_count": null,
   "id": "63b4d505-e2a5-450d-b705-bba916f74fa7",
   "metadata": {},
   "outputs": [],
   "source": []
  }
 ],
 "metadata": {
  "kernelspec": {
   "display_name": "CernRoot",
   "language": "python",
   "name": "cernroot"
  },
  "language_info": {
   "codemirror_mode": {
    "name": "ipython",
    "version": 3
   },
   "file_extension": ".py",
   "mimetype": "text/x-python",
   "name": "python",
   "nbconvert_exporter": "python",
   "pygments_lexer": "ipython3",
   "version": "3.11.4"
  }
 },
 "nbformat": 4,
 "nbformat_minor": 5
}

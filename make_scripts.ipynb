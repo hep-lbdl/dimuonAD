{
 "cells": [
  {
   "cell_type": "code",
   "execution_count": 17,
   "id": "07b4198d-c02e-40a3-b494-29f65b1baf50",
   "metadata": {
    "tags": []
   },
   "outputs": [],
   "source": [
    "import yaml\n",
    "with open(\"workflow.yaml\", \"r\") as file:\n",
    "    workflow = yaml.safe_load(file)\n",
    "\n",
    "feature_sets = workflow[\"feature_sets\"]"
   ]
  },
  {
   "cell_type": "markdown",
   "id": "1a4b8457-f18c-40b2-b4b5-42dc91184bc8",
   "metadata": {},
   "source": [
    "Make batch.sh"
   ]
  },
  {
   "cell_type": "code",
   "execution_count": 18,
   "id": "a8276fb2-c242-4dc1-8740-4f3c2e19c713",
   "metadata": {
    "tags": []
   },
   "outputs": [
    {
     "name": "stdout",
     "output_type": "stream",
     "text": [
      "[0]=\"python 05_trueCATHODE.py -fid mix_2 -feats dimu_pt,mu0_ip3d,mu1_ip3d,dimu_mass -project lowmass -particle upsilon -analysis iso -fit quintic -n_bins 12 -run trigger_12_03 -seed 1\"\n",
      "[1]=\"python 05_trueCATHODE.py -fid mix_2 -feats dimu_pt,mu0_ip3d,mu1_ip3d,dimu_mass -project lowmass -particle upsilon -analysis iso -fit quintic -n_bins 12 -run trigger_12_03 -seed 1 -train_samesign\"\n",
      "[2]=\"python 05_trueCATHODE.py -fid mix_2 -feats dimu_pt,mu0_ip3d,mu1_ip3d,dimu_mass -project lowmass -particle upsilon -analysis iso -fit quintic -n_bins 12 -run trigger_12_03 -seed 2\"\n",
      "[3]=\"python 05_trueCATHODE.py -fid mix_2 -feats dimu_pt,mu0_ip3d,mu1_ip3d,dimu_mass -project lowmass -particle upsilon -analysis iso -fit quintic -n_bins 12 -run trigger_12_03 -seed 2 -train_samesign\"\n",
      "[4]=\"python 05_trueCATHODE.py -fid mix_2 -feats dimu_pt,mu0_ip3d,mu1_ip3d,dimu_mass -project lowmass -particle upsilon -analysis iso -fit quintic -n_bins 12 -run trigger_12_03 -seed 3\"\n",
      "[5]=\"python 05_trueCATHODE.py -fid mix_2 -feats dimu_pt,mu0_ip3d,mu1_ip3d,dimu_mass -project lowmass -particle upsilon -analysis iso -fit quintic -n_bins 12 -run trigger_12_03 -seed 3 -train_samesign\"\n",
      "[6]=\"python 05_trueCATHODE.py -fid mix_2 -feats dimu_pt,mu0_ip3d,mu1_ip3d,dimu_mass -project lowmass -particle upsilon -analysis iso -fit quintic -n_bins 12 -run trigger_12_03 -seed 4\"\n",
      "[7]=\"python 05_trueCATHODE.py -fid mix_2 -feats dimu_pt,mu0_ip3d,mu1_ip3d,dimu_mass -project lowmass -particle upsilon -analysis iso -fit quintic -n_bins 12 -run trigger_12_03 -seed 4 -train_samesign\"\n",
      "[8]=\"python 05_trueCATHODE.py -fid mix_2 -feats dimu_pt,mu0_ip3d,mu1_ip3d,dimu_mass -project lowmass -particle upsilon -analysis iso -fit quintic -n_bins 12 -run trigger_12_03 -seed 5\"\n",
      "[9]=\"python 05_trueCATHODE.py -fid mix_2 -feats dimu_pt,mu0_ip3d,mu1_ip3d,dimu_mass -project lowmass -particle upsilon -analysis iso -fit quintic -n_bins 12 -run trigger_12_03 -seed 5 -train_samesign\"\n",
      "[10]=\"python 05_trueCATHODE.py -fid mix_0 -feats dimu_pt,mu0_iso04,mu1_iso04,dimu_mass -project lowmass -particle upsilon -analysis iso -fit quintic -n_bins 12 -run trigger_12_03 -seed 1\"\n",
      "[11]=\"python 05_trueCATHODE.py -fid mix_0 -feats dimu_pt,mu0_iso04,mu1_iso04,dimu_mass -project lowmass -particle upsilon -analysis iso -fit quintic -n_bins 12 -run trigger_12_03 -seed 1 -train_samesign\"\n",
      "[12]=\"python 05_trueCATHODE.py -fid mix_0 -feats dimu_pt,mu0_iso04,mu1_iso04,dimu_mass -project lowmass -particle upsilon -analysis iso -fit quintic -n_bins 12 -run trigger_12_03 -seed 2\"\n",
      "[13]=\"python 05_trueCATHODE.py -fid mix_0 -feats dimu_pt,mu0_iso04,mu1_iso04,dimu_mass -project lowmass -particle upsilon -analysis iso -fit quintic -n_bins 12 -run trigger_12_03 -seed 2 -train_samesign\"\n",
      "[14]=\"python 05_trueCATHODE.py -fid mix_0 -feats dimu_pt,mu0_iso04,mu1_iso04,dimu_mass -project lowmass -particle upsilon -analysis iso -fit quintic -n_bins 12 -run trigger_12_03 -seed 3\"\n",
      "[15]=\"python 05_trueCATHODE.py -fid mix_0 -feats dimu_pt,mu0_iso04,mu1_iso04,dimu_mass -project lowmass -particle upsilon -analysis iso -fit quintic -n_bins 12 -run trigger_12_03 -seed 3 -train_samesign\"\n",
      "[16]=\"python 05_trueCATHODE.py -fid mix_0 -feats dimu_pt,mu0_iso04,mu1_iso04,dimu_mass -project lowmass -particle upsilon -analysis iso -fit quintic -n_bins 12 -run trigger_12_03 -seed 4\"\n",
      "[17]=\"python 05_trueCATHODE.py -fid mix_0 -feats dimu_pt,mu0_iso04,mu1_iso04,dimu_mass -project lowmass -particle upsilon -analysis iso -fit quintic -n_bins 12 -run trigger_12_03 -seed 4 -train_samesign\"\n",
      "[18]=\"python 05_trueCATHODE.py -fid mix_0 -feats dimu_pt,mu0_iso04,mu1_iso04,dimu_mass -project lowmass -particle upsilon -analysis iso -fit quintic -n_bins 12 -run trigger_12_03 -seed 5\"\n",
      "[19]=\"python 05_trueCATHODE.py -fid mix_0 -feats dimu_pt,mu0_iso04,mu1_iso04,dimu_mass -project lowmass -particle upsilon -analysis iso -fit quintic -n_bins 12 -run trigger_12_03 -seed 5 -train_samesign\"\n",
      "[20]=\"python 05_trueCATHODE.py -fid double_2 -feats mumu_deltaR,mumu_deltapT,dimu_mass -project lowmass -particle upsilon -analysis iso -fit quintic -n_bins 12 -run trigger_12_03 -seed 1\"\n",
      "[21]=\"python 05_trueCATHODE.py -fid double_2 -feats mumu_deltaR,mumu_deltapT,dimu_mass -project lowmass -particle upsilon -analysis iso -fit quintic -n_bins 12 -run trigger_12_03 -seed 1 -train_samesign\"\n",
      "[22]=\"python 05_trueCATHODE.py -fid double_2 -feats mumu_deltaR,mumu_deltapT,dimu_mass -project lowmass -particle upsilon -analysis iso -fit quintic -n_bins 12 -run trigger_12_03 -seed 2\"\n",
      "[23]=\"python 05_trueCATHODE.py -fid double_2 -feats mumu_deltaR,mumu_deltapT,dimu_mass -project lowmass -particle upsilon -analysis iso -fit quintic -n_bins 12 -run trigger_12_03 -seed 2 -train_samesign\"\n",
      "[24]=\"python 05_trueCATHODE.py -fid double_2 -feats mumu_deltaR,mumu_deltapT,dimu_mass -project lowmass -particle upsilon -analysis iso -fit quintic -n_bins 12 -run trigger_12_03 -seed 3\"\n",
      "[25]=\"python 05_trueCATHODE.py -fid double_2 -feats mumu_deltaR,mumu_deltapT,dimu_mass -project lowmass -particle upsilon -analysis iso -fit quintic -n_bins 12 -run trigger_12_03 -seed 3 -train_samesign\"\n",
      "[26]=\"python 05_trueCATHODE.py -fid double_2 -feats mumu_deltaR,mumu_deltapT,dimu_mass -project lowmass -particle upsilon -analysis iso -fit quintic -n_bins 12 -run trigger_12_03 -seed 4\"\n",
      "[27]=\"python 05_trueCATHODE.py -fid double_2 -feats mumu_deltaR,mumu_deltapT,dimu_mass -project lowmass -particle upsilon -analysis iso -fit quintic -n_bins 12 -run trigger_12_03 -seed 4 -train_samesign\"\n",
      "[28]=\"python 05_trueCATHODE.py -fid double_2 -feats mumu_deltaR,mumu_deltapT,dimu_mass -project lowmass -particle upsilon -analysis iso -fit quintic -n_bins 12 -run trigger_12_03 -seed 5\"\n",
      "[29]=\"python 05_trueCATHODE.py -fid double_2 -feats mumu_deltaR,mumu_deltapT,dimu_mass -project lowmass -particle upsilon -analysis iso -fit quintic -n_bins 12 -run trigger_12_03 -seed 5 -train_samesign\"\n",
      "[30]=\"python 05_trueCATHODE.py -fid double_1 -feats dimu_pt,dimu_eta,dimu_mass -project lowmass -particle upsilon -analysis iso -fit quintic -n_bins 12 -run trigger_12_03 -seed 1\"\n",
      "[31]=\"python 05_trueCATHODE.py -fid double_1 -feats dimu_pt,dimu_eta,dimu_mass -project lowmass -particle upsilon -analysis iso -fit quintic -n_bins 12 -run trigger_12_03 -seed 1 -train_samesign\"\n",
      "[32]=\"python 05_trueCATHODE.py -fid double_1 -feats dimu_pt,dimu_eta,dimu_mass -project lowmass -particle upsilon -analysis iso -fit quintic -n_bins 12 -run trigger_12_03 -seed 2\"\n",
      "[33]=\"python 05_trueCATHODE.py -fid double_1 -feats dimu_pt,dimu_eta,dimu_mass -project lowmass -particle upsilon -analysis iso -fit quintic -n_bins 12 -run trigger_12_03 -seed 2 -train_samesign\"\n",
      "[34]=\"python 05_trueCATHODE.py -fid double_1 -feats dimu_pt,dimu_eta,dimu_mass -project lowmass -particle upsilon -analysis iso -fit quintic -n_bins 12 -run trigger_12_03 -seed 3\"\n",
      "[35]=\"python 05_trueCATHODE.py -fid double_1 -feats dimu_pt,dimu_eta,dimu_mass -project lowmass -particle upsilon -analysis iso -fit quintic -n_bins 12 -run trigger_12_03 -seed 3 -train_samesign\"\n",
      "[36]=\"python 05_trueCATHODE.py -fid double_1 -feats dimu_pt,dimu_eta,dimu_mass -project lowmass -particle upsilon -analysis iso -fit quintic -n_bins 12 -run trigger_12_03 -seed 4\"\n",
      "[37]=\"python 05_trueCATHODE.py -fid double_1 -feats dimu_pt,dimu_eta,dimu_mass -project lowmass -particle upsilon -analysis iso -fit quintic -n_bins 12 -run trigger_12_03 -seed 4 -train_samesign\"\n",
      "[38]=\"python 05_trueCATHODE.py -fid double_1 -feats dimu_pt,dimu_eta,dimu_mass -project lowmass -particle upsilon -analysis iso -fit quintic -n_bins 12 -run trigger_12_03 -seed 5\"\n",
      "[39]=\"python 05_trueCATHODE.py -fid double_1 -feats dimu_pt,dimu_eta,dimu_mass -project lowmass -particle upsilon -analysis iso -fit quintic -n_bins 12 -run trigger_12_03 -seed 5 -train_samesign\"\n",
      "[40]=\"python 05_trueCATHODE.py -fid single_3 -feats mu0_ip3d,mu1_ip3d,dimu_mass -project lowmass -particle eta -analysis none -fit quintic -n_bins 12 -run trigger_12_03 -seed 1\"\n",
      "[41]=\"python 05_trueCATHODE.py -fid single_3 -feats mu0_ip3d,mu1_ip3d,dimu_mass -project lowmass -particle eta -analysis none -fit quintic -n_bins 12 -run trigger_12_03 -seed 1 -train_samesign\"\n",
      "[42]=\"python 05_trueCATHODE.py -fid single_3 -feats mu0_ip3d,mu1_ip3d,dimu_mass -project lowmass -particle eta -analysis none -fit quintic -n_bins 12 -run trigger_12_03 -seed 2\"\n",
      "[43]=\"python 05_trueCATHODE.py -fid single_3 -feats mu0_ip3d,mu1_ip3d,dimu_mass -project lowmass -particle eta -analysis none -fit quintic -n_bins 12 -run trigger_12_03 -seed 2 -train_samesign\"\n",
      "[44]=\"python 05_trueCATHODE.py -fid single_3 -feats mu0_ip3d,mu1_ip3d,dimu_mass -project lowmass -particle eta -analysis none -fit quintic -n_bins 12 -run trigger_12_03 -seed 3\"\n",
      "[45]=\"python 05_trueCATHODE.py -fid single_3 -feats mu0_ip3d,mu1_ip3d,dimu_mass -project lowmass -particle eta -analysis none -fit quintic -n_bins 12 -run trigger_12_03 -seed 3 -train_samesign\"\n",
      "[46]=\"python 05_trueCATHODE.py -fid single_3 -feats mu0_ip3d,mu1_ip3d,dimu_mass -project lowmass -particle eta -analysis none -fit quintic -n_bins 12 -run trigger_12_03 -seed 4\"\n",
      "[47]=\"python 05_trueCATHODE.py -fid single_3 -feats mu0_ip3d,mu1_ip3d,dimu_mass -project lowmass -particle eta -analysis none -fit quintic -n_bins 12 -run trigger_12_03 -seed 4 -train_samesign\"\n",
      "[48]=\"python 05_trueCATHODE.py -fid single_3 -feats mu0_ip3d,mu1_ip3d,dimu_mass -project lowmass -particle eta -analysis none -fit quintic -n_bins 12 -run trigger_12_03 -seed 5\"\n",
      "[49]=\"python 05_trueCATHODE.py -fid single_3 -feats mu0_ip3d,mu1_ip3d,dimu_mass -project lowmass -particle eta -analysis none -fit quintic -n_bins 12 -run trigger_12_03 -seed 5 -train_samesign\"\n",
      "[50]=\"python 05_trueCATHODE.py -fid double_0 -feats dimu_pt,dimu_eta,mumu_deltaR,mumu_deltapT,dimu_mass -project lowmass -particle eta -analysis none -fit quintic -n_bins 12 -run trigger_12_03 -seed 1\"\n",
      "[51]=\"python 05_trueCATHODE.py -fid double_0 -feats dimu_pt,dimu_eta,mumu_deltaR,mumu_deltapT,dimu_mass -project lowmass -particle eta -analysis none -fit quintic -n_bins 12 -run trigger_12_03 -seed 1 -train_samesign\"\n",
      "[52]=\"python 05_trueCATHODE.py -fid double_0 -feats dimu_pt,dimu_eta,mumu_deltaR,mumu_deltapT,dimu_mass -project lowmass -particle eta -analysis none -fit quintic -n_bins 12 -run trigger_12_03 -seed 2\"\n",
      "[53]=\"python 05_trueCATHODE.py -fid double_0 -feats dimu_pt,dimu_eta,mumu_deltaR,mumu_deltapT,dimu_mass -project lowmass -particle eta -analysis none -fit quintic -n_bins 12 -run trigger_12_03 -seed 2 -train_samesign\"\n",
      "[54]=\"python 05_trueCATHODE.py -fid double_0 -feats dimu_pt,dimu_eta,mumu_deltaR,mumu_deltapT,dimu_mass -project lowmass -particle eta -analysis none -fit quintic -n_bins 12 -run trigger_12_03 -seed 3\"\n",
      "[55]=\"python 05_trueCATHODE.py -fid double_0 -feats dimu_pt,dimu_eta,mumu_deltaR,mumu_deltapT,dimu_mass -project lowmass -particle eta -analysis none -fit quintic -n_bins 12 -run trigger_12_03 -seed 3 -train_samesign\"\n",
      "[56]=\"python 05_trueCATHODE.py -fid double_0 -feats dimu_pt,dimu_eta,mumu_deltaR,mumu_deltapT,dimu_mass -project lowmass -particle eta -analysis none -fit quintic -n_bins 12 -run trigger_12_03 -seed 4\"\n",
      "[57]=\"python 05_trueCATHODE.py -fid double_0 -feats dimu_pt,dimu_eta,mumu_deltaR,mumu_deltapT,dimu_mass -project lowmass -particle eta -analysis none -fit quintic -n_bins 12 -run trigger_12_03 -seed 4 -train_samesign\"\n",
      "[58]=\"python 05_trueCATHODE.py -fid double_0 -feats dimu_pt,dimu_eta,mumu_deltaR,mumu_deltapT,dimu_mass -project lowmass -particle eta -analysis none -fit quintic -n_bins 12 -run trigger_12_03 -seed 5\"\n",
      "[59]=\"python 05_trueCATHODE.py -fid double_0 -feats dimu_pt,dimu_eta,mumu_deltaR,mumu_deltapT,dimu_mass -project lowmass -particle eta -analysis none -fit quintic -n_bins 12 -run trigger_12_03 -seed 5 -train_samesign\"\n",
      "[60]=\"python 05_trueCATHODE.py -fid double_2 -feats mumu_deltaR,mumu_deltapT,dimu_mass -project lowmass -particle eta -analysis none -fit quintic -n_bins 12 -run trigger_12_03 -seed 1\"\n",
      "[61]=\"python 05_trueCATHODE.py -fid double_2 -feats mumu_deltaR,mumu_deltapT,dimu_mass -project lowmass -particle eta -analysis none -fit quintic -n_bins 12 -run trigger_12_03 -seed 1 -train_samesign\"\n",
      "[62]=\"python 05_trueCATHODE.py -fid double_2 -feats mumu_deltaR,mumu_deltapT,dimu_mass -project lowmass -particle eta -analysis none -fit quintic -n_bins 12 -run trigger_12_03 -seed 2\"\n",
      "[63]=\"python 05_trueCATHODE.py -fid double_2 -feats mumu_deltaR,mumu_deltapT,dimu_mass -project lowmass -particle eta -analysis none -fit quintic -n_bins 12 -run trigger_12_03 -seed 2 -train_samesign\"\n",
      "[64]=\"python 05_trueCATHODE.py -fid double_2 -feats mumu_deltaR,mumu_deltapT,dimu_mass -project lowmass -particle eta -analysis none -fit quintic -n_bins 12 -run trigger_12_03 -seed 3\"\n",
      "[65]=\"python 05_trueCATHODE.py -fid double_2 -feats mumu_deltaR,mumu_deltapT,dimu_mass -project lowmass -particle eta -analysis none -fit quintic -n_bins 12 -run trigger_12_03 -seed 3 -train_samesign\"\n",
      "[66]=\"python 05_trueCATHODE.py -fid double_2 -feats mumu_deltaR,mumu_deltapT,dimu_mass -project lowmass -particle eta -analysis none -fit quintic -n_bins 12 -run trigger_12_03 -seed 4\"\n",
      "[67]=\"python 05_trueCATHODE.py -fid double_2 -feats mumu_deltaR,mumu_deltapT,dimu_mass -project lowmass -particle eta -analysis none -fit quintic -n_bins 12 -run trigger_12_03 -seed 4 -train_samesign\"\n",
      "[68]=\"python 05_trueCATHODE.py -fid double_2 -feats mumu_deltaR,mumu_deltapT,dimu_mass -project lowmass -particle eta -analysis none -fit quintic -n_bins 12 -run trigger_12_03 -seed 5\"\n",
      "[69]=\"python 05_trueCATHODE.py -fid double_2 -feats mumu_deltaR,mumu_deltapT,dimu_mass -project lowmass -particle eta -analysis none -fit quintic -n_bins 12 -run trigger_12_03 -seed 5 -train_samesign\"\n"
     ]
    }
   ],
   "source": [
    "\n",
    "sets_to_run = [(\"mix_2\",\"upsilon\",\"iso\"), (\"mix_0\",\"upsilon\",\"iso\"), (\"double_2\",\"upsilon\",\"iso\"), (\"double_1\",\"upsilon\",\"iso\"), \n",
    "               (\"single_3\",\"eta\",\"none\"),(\"double_0\",\"eta\",\"none\"),(\"double_2\",\"eta\",\"none\")]\n",
    "fits_to_run = [\"quintic\",]\n",
    "bins_to_run = [12]\n",
    "run_id = \"trigger_12_03\"\n",
    "seeds = [1,2,3,4,5]\n",
    "project = \"lowmass\"\n",
    "\n",
    "\n",
    "i = 0\n",
    "for fs, particle, analysis in sets_to_run:\n",
    "    for fit in fits_to_run:\n",
    "        for binn in bins_to_run:\n",
    "            for s in seeds:\n",
    "\n",
    "                loc_command = '[{i}]=\"python 05_trueCATHODE.py -fid {feature_set} -feats {feature_list},dimu_mass -project {project} -particle {particle_code} -analysis {analysis} -fit {fit} -n_bins {binn} -run {run_id} -seed {s}\"'.format(feature_set=fs,feature_list=\",\".join(feature_sets[fs]),particle_code=particle,i=2*i,fit=fit,binn=binn,run_id=run_id,s=s,analysis=analysis,project=project )\n",
    "                print(loc_command)\n",
    "                loc_command = '[{i}]=\"python 05_trueCATHODE.py -fid {feature_set} -feats {feature_list},dimu_mass -project {project} -particle {particle_code} -analysis {analysis} -fit {fit} -n_bins {binn} -run {run_id} -seed {s} -train_samesign\"'.format(feature_set=fs,feature_list=\",\".join(feature_sets[fs]),particle_code=particle,i=2*i+1,fit=fit,binn =binn, run_id=run_id,s=s,analysis=analysis,project=project)\n",
    "                print(loc_command)\n",
    "                i += 1"
   ]
  },
  {
   "cell_type": "code",
   "execution_count": 19,
   "id": "d0586063-5841-4f7d-899c-22a36c420ef5",
   "metadata": {
    "tags": []
   },
   "outputs": [
    {
     "name": "stdout",
     "output_type": "stream",
     "text": [
      "python 05_trueCATHODE.py -fid mix_2 -feats dimu_pt,mu0_ip3d,mu1_ip3d,dimu_mass -project lowmass -particle upsilon -analysis iso -fit quintic -n_bins 12 -run trigger_12_03 -seed 1 -no_train\n",
      "python 05_trueCATHODE.py -fid mix_2 -feats dimu_pt,mu0_ip3d,mu1_ip3d,dimu_mass -project lowmass -particle upsilon -analysis iso -fit quintic -n_bins 12 -run trigger_12_03 -seed 2 -no_train\n",
      "python 05_trueCATHODE.py -fid mix_2 -feats dimu_pt,mu0_ip3d,mu1_ip3d,dimu_mass -project lowmass -particle upsilon -analysis iso -fit quintic -n_bins 12 -run trigger_12_03 -seed 3 -no_train\n",
      "python 05_trueCATHODE.py -fid mix_2 -feats dimu_pt,mu0_ip3d,mu1_ip3d,dimu_mass -project lowmass -particle upsilon -analysis iso -fit quintic -n_bins 12 -run trigger_12_03 -seed 4 -no_train\n",
      "python 05_trueCATHODE.py -fid mix_2 -feats dimu_pt,mu0_ip3d,mu1_ip3d,dimu_mass -project lowmass -particle upsilon -analysis iso -fit quintic -n_bins 12 -run trigger_12_03 -seed 5 -no_train\n",
      "python 05_trueCATHODE.py -fid mix_0 -feats dimu_pt,mu0_iso04,mu1_iso04,dimu_mass -project lowmass -particle upsilon -analysis iso -fit quintic -n_bins 12 -run trigger_12_03 -seed 1 -no_train\n",
      "python 05_trueCATHODE.py -fid mix_0 -feats dimu_pt,mu0_iso04,mu1_iso04,dimu_mass -project lowmass -particle upsilon -analysis iso -fit quintic -n_bins 12 -run trigger_12_03 -seed 2 -no_train\n",
      "python 05_trueCATHODE.py -fid mix_0 -feats dimu_pt,mu0_iso04,mu1_iso04,dimu_mass -project lowmass -particle upsilon -analysis iso -fit quintic -n_bins 12 -run trigger_12_03 -seed 3 -no_train\n",
      "python 05_trueCATHODE.py -fid mix_0 -feats dimu_pt,mu0_iso04,mu1_iso04,dimu_mass -project lowmass -particle upsilon -analysis iso -fit quintic -n_bins 12 -run trigger_12_03 -seed 4 -no_train\n",
      "python 05_trueCATHODE.py -fid mix_0 -feats dimu_pt,mu0_iso04,mu1_iso04,dimu_mass -project lowmass -particle upsilon -analysis iso -fit quintic -n_bins 12 -run trigger_12_03 -seed 5 -no_train\n",
      "python 05_trueCATHODE.py -fid double_2 -feats mumu_deltaR,mumu_deltapT,dimu_mass -project lowmass -particle upsilon -analysis iso -fit quintic -n_bins 12 -run trigger_12_03 -seed 1 -no_train\n",
      "python 05_trueCATHODE.py -fid double_2 -feats mumu_deltaR,mumu_deltapT,dimu_mass -project lowmass -particle upsilon -analysis iso -fit quintic -n_bins 12 -run trigger_12_03 -seed 2 -no_train\n",
      "python 05_trueCATHODE.py -fid double_2 -feats mumu_deltaR,mumu_deltapT,dimu_mass -project lowmass -particle upsilon -analysis iso -fit quintic -n_bins 12 -run trigger_12_03 -seed 3 -no_train\n",
      "python 05_trueCATHODE.py -fid double_2 -feats mumu_deltaR,mumu_deltapT,dimu_mass -project lowmass -particle upsilon -analysis iso -fit quintic -n_bins 12 -run trigger_12_03 -seed 4 -no_train\n",
      "python 05_trueCATHODE.py -fid double_2 -feats mumu_deltaR,mumu_deltapT,dimu_mass -project lowmass -particle upsilon -analysis iso -fit quintic -n_bins 12 -run trigger_12_03 -seed 5 -no_train\n",
      "python 05_trueCATHODE.py -fid double_1 -feats dimu_pt,dimu_eta,dimu_mass -project lowmass -particle upsilon -analysis iso -fit quintic -n_bins 12 -run trigger_12_03 -seed 1 -no_train\n",
      "python 05_trueCATHODE.py -fid double_1 -feats dimu_pt,dimu_eta,dimu_mass -project lowmass -particle upsilon -analysis iso -fit quintic -n_bins 12 -run trigger_12_03 -seed 2 -no_train\n",
      "python 05_trueCATHODE.py -fid double_1 -feats dimu_pt,dimu_eta,dimu_mass -project lowmass -particle upsilon -analysis iso -fit quintic -n_bins 12 -run trigger_12_03 -seed 3 -no_train\n",
      "python 05_trueCATHODE.py -fid double_1 -feats dimu_pt,dimu_eta,dimu_mass -project lowmass -particle upsilon -analysis iso -fit quintic -n_bins 12 -run trigger_12_03 -seed 4 -no_train\n",
      "python 05_trueCATHODE.py -fid double_1 -feats dimu_pt,dimu_eta,dimu_mass -project lowmass -particle upsilon -analysis iso -fit quintic -n_bins 12 -run trigger_12_03 -seed 5 -no_train\n",
      "python 05_trueCATHODE.py -fid single_3 -feats mu0_ip3d,mu1_ip3d,dimu_mass -project lowmass -particle eta -analysis none -fit quintic -n_bins 12 -run trigger_12_03 -seed 1 -no_train\n",
      "python 05_trueCATHODE.py -fid single_3 -feats mu0_ip3d,mu1_ip3d,dimu_mass -project lowmass -particle eta -analysis none -fit quintic -n_bins 12 -run trigger_12_03 -seed 2 -no_train\n",
      "python 05_trueCATHODE.py -fid single_3 -feats mu0_ip3d,mu1_ip3d,dimu_mass -project lowmass -particle eta -analysis none -fit quintic -n_bins 12 -run trigger_12_03 -seed 3 -no_train\n",
      "python 05_trueCATHODE.py -fid single_3 -feats mu0_ip3d,mu1_ip3d,dimu_mass -project lowmass -particle eta -analysis none -fit quintic -n_bins 12 -run trigger_12_03 -seed 4 -no_train\n",
      "python 05_trueCATHODE.py -fid single_3 -feats mu0_ip3d,mu1_ip3d,dimu_mass -project lowmass -particle eta -analysis none -fit quintic -n_bins 12 -run trigger_12_03 -seed 5 -no_train\n",
      "python 05_trueCATHODE.py -fid double_0 -feats dimu_pt,dimu_eta,mumu_deltaR,mumu_deltapT,dimu_mass -project lowmass -particle eta -analysis none -fit quintic -n_bins 12 -run trigger_12_03 -seed 1 -no_train\n",
      "python 05_trueCATHODE.py -fid double_0 -feats dimu_pt,dimu_eta,mumu_deltaR,mumu_deltapT,dimu_mass -project lowmass -particle eta -analysis none -fit quintic -n_bins 12 -run trigger_12_03 -seed 2 -no_train\n",
      "python 05_trueCATHODE.py -fid double_0 -feats dimu_pt,dimu_eta,mumu_deltaR,mumu_deltapT,dimu_mass -project lowmass -particle eta -analysis none -fit quintic -n_bins 12 -run trigger_12_03 -seed 3 -no_train\n",
      "python 05_trueCATHODE.py -fid double_0 -feats dimu_pt,dimu_eta,mumu_deltaR,mumu_deltapT,dimu_mass -project lowmass -particle eta -analysis none -fit quintic -n_bins 12 -run trigger_12_03 -seed 4 -no_train\n",
      "python 05_trueCATHODE.py -fid double_0 -feats dimu_pt,dimu_eta,mumu_deltaR,mumu_deltapT,dimu_mass -project lowmass -particle eta -analysis none -fit quintic -n_bins 12 -run trigger_12_03 -seed 5 -no_train\n",
      "python 05_trueCATHODE.py -fid double_2 -feats mumu_deltaR,mumu_deltapT,dimu_mass -project lowmass -particle eta -analysis none -fit quintic -n_bins 12 -run trigger_12_03 -seed 1 -no_train\n",
      "python 05_trueCATHODE.py -fid double_2 -feats mumu_deltaR,mumu_deltapT,dimu_mass -project lowmass -particle eta -analysis none -fit quintic -n_bins 12 -run trigger_12_03 -seed 2 -no_train\n",
      "python 05_trueCATHODE.py -fid double_2 -feats mumu_deltaR,mumu_deltapT,dimu_mass -project lowmass -particle eta -analysis none -fit quintic -n_bins 12 -run trigger_12_03 -seed 3 -no_train\n",
      "python 05_trueCATHODE.py -fid double_2 -feats mumu_deltaR,mumu_deltapT,dimu_mass -project lowmass -particle eta -analysis none -fit quintic -n_bins 12 -run trigger_12_03 -seed 4 -no_train\n",
      "python 05_trueCATHODE.py -fid double_2 -feats mumu_deltaR,mumu_deltapT,dimu_mass -project lowmass -particle eta -analysis none -fit quintic -n_bins 12 -run trigger_12_03 -seed 5 -no_train\n"
     ]
    }
   ],
   "source": [
    "# variations\n",
    "\n",
    "fits_to_run = [\"quintic\", \"cubic\", \"septic\"]\n",
    "bins_to_run = [8, 12, 16]\n",
    "\n",
    "\n",
    "sets_to_run = [(\"mix_2\",\"upsilon\",\"iso\"), (\"mix_0\",\"upsilon\",\"iso\"), (\"double_2\",\"upsilon\",\"iso\"), (\"double_1\",\"upsilon\",\"iso\"), \n",
    "               (\"single_3\",\"eta\",\"none\"),(\"double_0\",\"eta\",\"none\"),(\"double_2\",\"eta\",\"none\")]\n",
    "fits_to_run = [\"quintic\"]\n",
    "bins_to_run = [12]\n",
    "run_id = \"trigger_12_03\"\n",
    "seeds = [1,2,3,4,5]\n",
    "project = \"lowmass\"\n",
    "\n",
    "\n",
    "for fs, particle, analysis in sets_to_run:\n",
    "    for fit in fits_to_run:\n",
    "        for binn in bins_to_run:\n",
    "            for s in seeds:\n",
    "\n",
    "                loc_command = 'python 05_trueCATHODE.py -fid {feature_set} -feats {feature_list},dimu_mass -project {project} -particle {particle_code} -analysis {analysis} -fit {fit} -n_bins {binn} -run {run_id} -seed {s} -no_train'.format(feature_set=fs,feature_list=\",\".join(feature_sets[fs]),particle_code=particle,i=2*i,fit=fit,binn=binn,run_id=run_id,s=s,analysis=analysis,project=project )\n",
    "                print(loc_command)\n",
    "                loc_command = 'python 05_trueCATHODE.py -fid {feature_set} -feats {feature_list},dimu_mass -project {project} -particle {particle_code} -analysis {analysis} -fit {fit} -n_bins {binn} -run {run_id} -seed {s} -train_samesign -no_train'.format(feature_set=fs,feature_list=\",\".join(feature_sets[fs]),particle_code=particle,i=2*i+1,fit=fit,binn =binn, run_id=run_id,s=s,analysis=analysis,project=project)\n",
    "\n"
   ]
  },
  {
   "cell_type": "markdown",
   "id": "65ab9fa3-f9a7-43d1-933f-d79a7ef75c91",
   "metadata": {},
   "source": [
    "Prepare 06"
   ]
  },
  {
   "cell_type": "code",
   "execution_count": 20,
   "id": "356a1810-c77d-45e9-8b71-0f5e50f5ffc8",
   "metadata": {
    "tags": []
   },
   "outputs": [],
   "source": [
    "\n",
    "\n",
    "fits_to_run = [\"quintic\"]\n",
    "bins_to_run = [12]\n",
    "dir_id = \"trigger_12_03\"\n",
    "\n",
    "\n",
    "\n",
    "sets_to_run = [(\"mix_2\",\"upsilon\",\"iso\"), (\"mix_0\",\"upsilon\",\"iso\"), (\"double_2\",\"upsilon\",\"iso\"), (\"double_1\",\"upsilon\",\"iso\"), \n",
    "               (\"single_3\",\"eta\",\"none\"),(\"double_0\",\"eta\",\"none\"),(\"double_2\",\"eta\",\"none\")]\n",
    "fits_to_run = [\"quintic\",]\n",
    "bins_to_run = [12]\n",
    "run_id = \"trigger_12_03\"\n",
    "project = \"lowmass\"\n",
    "\n",
    "\n",
    "\n",
    "with open(\"batch_06.sh\", \"w\") as ofile:\n",
    "    \n",
    "    \n",
    "    for fs, particle, analysis in sets_to_run: \n",
    "            for fit in fits_to_run:\n",
    "                for binn in bins_to_run:\n",
    "\n",
    "                    loc_command = f'python 06_eval_CATHODE.py -fid {fs} -project {project} -particle {particle} -analysis {analysis} -fit {fit} -n_bins {binn} -run {run_id} -seeds 1,2,3,4,5'\n",
    "                    ofile.write(loc_command+\"\\n\")\n",
    "                    loc_command = f'python 06_eval_CATHODE.py -fid {fs} -project {project} -particle {particle} -analysis {analysis} -fit {fit} -n_bins {binn} -run {run_id} -seeds 1,2,3,4,5'\n",
    "                    ofile.write(loc_command+\"\\n\")"
   ]
  },
  {
   "cell_type": "raw",
   "id": "cdde25bc-f34f-4b2d-a55b-1cb0894055d1",
   "metadata": {},
   "source": [
    "Prepare 07"
   ]
  },
  {
   "cell_type": "code",
   "execution_count": 22,
   "id": "29117615-1213-42dc-ae36-d6409e474a6c",
   "metadata": {
    "tags": []
   },
   "outputs": [],
   "source": [
    "\n",
    "sets_to_run = [(\"mix_2\",\"upsilon\",\"iso\"), (\"mix_0\",\"upsilon\",\"iso\"), (\"double_2\",\"upsilon\",\"iso\"), (\"double_1\",\"upsilon\",\"iso\"), \n",
    "               (\"single_3\",\"eta\",\"none\"),(\"double_0\",\"eta\",\"none\"),(\"double_2\",\"eta\",\"none\")]\n",
    "\n",
    "sets_to_run = [(\"mix_2\",\"upsilon\",\"iso\")]\n",
    "fits_to_run = [\"quintic\", \"cubic\", \"septic\"]\n",
    "bins_to_run = [12, 16, 8]\n",
    "run_id = \"trigger_12_03\"\n",
    "project = \"lowmass\"\n",
    "\n",
    "\n",
    "n_ensemble = 100\n",
    "\n",
    "bounds = [(0, 1), (1, 501), (501, 1001)]\n",
    "with open(\"batch_07.sh\", \"w\") as ofile:\n",
    "\n",
    "    for fs, particle, analysis in sets_to_run: \n",
    "    \n",
    "        for fit in fits_to_run:\n",
    "            for binn in bins_to_run:\n",
    "                for start, stop in bounds:\n",
    "\n",
    "                    loc_command = f'python 07_run_bump_hunt.py -fid {fs} -project {project} -particle {particle} -analysis {analysis} -ne {n_ensemble} -fit {fit} -n_bins {binn} -run {run_id} -start {start} -stop {stop} -seeds 1,2,3,4,5'\n",
    "                    ofile.write(loc_command+\"\\n\")\n",
    "                    loc_command = f'python 07_run_bump_hunt.py -fid {fs} -project {project} -particle {particle} -analysis {analysis} -ne {n_ensemble} -fit {fit} -n_bins {binn} -run {run_id} -start {start} -stop {stop} -seeds 1,2,3,4,5  -train_samesign'\n",
    "                    #ofile.write(loc_command+\"\\n\")\n",
    "\n",
    "\n",
    "    "
   ]
  },
  {
   "cell_type": "code",
   "execution_count": null,
   "id": "899f1acc-9fa4-4473-af04-5f9fe8b9d96f",
   "metadata": {},
   "outputs": [],
   "source": []
  },
  {
   "cell_type": "code",
   "execution_count": null,
   "id": "af1f3876-1f04-4241-b8e6-398915e9b320",
   "metadata": {},
   "outputs": [],
   "source": []
  },
  {
   "cell_type": "code",
   "execution_count": null,
   "id": "5001198d-83b1-4b48-96b1-c102ce095e79",
   "metadata": {},
   "outputs": [],
   "source": []
  },
  {
   "cell_type": "code",
   "execution_count": null,
   "id": "a6a9142b-3232-4a36-8610-02b06e429ec5",
   "metadata": {},
   "outputs": [],
   "source": []
  }
 ],
 "metadata": {
  "kernelspec": {
   "display_name": "CernRoot",
   "language": "python",
   "name": "cernroot"
  },
  "language_info": {
   "codemirror_mode": {
    "name": "ipython",
    "version": 3
   },
   "file_extension": ".py",
   "mimetype": "text/x-python",
   "name": "python",
   "nbconvert_exporter": "python",
   "pygments_lexer": "ipython3",
   "version": "3.11.4"
  }
 },
 "nbformat": 4,
 "nbformat_minor": 5
}

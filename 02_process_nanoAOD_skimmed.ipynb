{
 "cells": [
  {
   "cell_type": "code",
   "execution_count": 1,
   "id": "06c3da6d-1d53-43f7-ba0a-c7c1ac3ad7f8",
   "metadata": {
    "tags": []
   },
   "outputs": [],
   "source": [
    "import awkward as ak\n",
    "import os\n",
    "import pickle\n",
    "\n",
    "import matplotlib.pyplot as plt\n",
    "import numpy as np\n",
    "plt.style.use(\"../science.mplstyle\")\n",
    "\n",
    "from helpers.physics_functions import *"
   ]
  },
  {
   "cell_type": "code",
   "execution_count": 2,
   "id": "d805c982-89bc-4196-a570-91a9b3d01336",
   "metadata": {},
   "outputs": [],
   "source": [
    "muon_vars = [\"Muon_pt\", \"Muon_eta\", \"Muon_phi\", \"Muon_charge\", \"Muon_tightId\", \"Muon_pfRelIso03_all\", \"Muon_pfRelIso04_all\", \"Muon_jetIdx\", \"Muon_ip3d\", \"Muon_jetRelIso\"]\n",
    "jet_vars = [\"Jet_pt\", \"Jet_eta\", \"Jet_phi\", \"Jet_mass\", \"Jet_nConstituents\", \"Jet_btagCSVV2\", \"Jet_btagDeepB\", \"Jet_btagDeepFlavB\", \"MET_pt\", \"MET_sumEt\"]\n",
    "\n",
    "data_id = \"skimmed_data_2016H_30555\"\n",
    "#data_id = \"SM_SIM\"\n",
    "project_id = \"lowmass\"#\"BSM\" # \"lowmass\"\n",
    "\n",
    "path_to_input = f\"/global/cfs/cdirs/m3246/rmastand/dimuonAD/precompiled_data/{data_id}/\"\n",
    "path_to_output = f\"/global/cfs/cdirs/m3246/rmastand/dimuonAD/compiled_data/{project_id}/\"\n",
    "\n",
    "num_files_dict = {\n",
    "    \"skimmed_data_2016H_30555\":28,\n",
    "    \"SM_SIM\":49,\n",
    "    \"BSM_HAA\":11,\n",
    "    \"BSM_XYY\":2,\n",
    "}\n",
    "num_files = num_files_dict[data_id]\n"
   ]
  },
  {
   "cell_type": "code",
   "execution_count": 3,
   "id": "53ebef19-c5bd-480c-9b1f-957ec97f994c",
   "metadata": {
    "tags": []
   },
   "outputs": [],
   "source": [
    "run_jet = True\n",
    "\n",
    "all_data = {\n",
    "\n",
    "      \"mu0_ip3d\": [],\n",
    "    \"mu1_ip3d\": [],\n",
    "       \"mu0_jetiso\": [],\n",
    "    \"mu1_jetiso\": [],\n",
    "\n",
    "     \"mu0_eta\": [],\n",
    "     \"mu1_eta\": [],\n",
    "    \"mu0_pt\": [],\n",
    "     \"mu1_pt\": [],\n",
    "    \"mu0_phi\": [],\n",
    "     \"mu1_phi\": [],\n",
    "      \"mu0_iso04\": [],\n",
    "     \"mu1_iso04\": [],\n",
    "      \"dimu_pt\": [],\n",
    "      \"dimu_eta\": [],\n",
    "     \"dimu_phi\": [],\n",
    "     \"n_muons\": [],\n",
    "     \"n_jets\": [],\n",
    "      \"dimu_mass\": [],\n",
    "    }\n",
    "\n",
    "if run_jet:\n",
    "    all_data[\"hardest_jet_btag\"] =  []\n",
    "    all_data[\"hardest_jet_pt\"] =  []\n",
    "    all_data[\"hardest_jet_eta\"] =  []\n",
    "    all_data[\"hardest_jet_phi\"] =  []\n",
    "    all_data[\"hardest_jet_mass\"] =  []\n",
    "\n",
    "a = list(all_data.keys())\n",
    "\n",
    "run_samesign = True\n",
    "if run_samesign:\n",
    "    for key in a:\n",
    "        all_data[key+\"_samesign\"] = []\n"
   ]
  },
  {
   "cell_type": "code",
   "execution_count": 4,
   "id": "6c1baa02-bc0e-4b03-89eb-3d953e27c14a",
   "metadata": {
    "tags": []
   },
   "outputs": [
    {
     "name": "stdout",
     "output_type": "stream",
     "text": [
      "Analyzing file 1 of 28...\n"
     ]
    },
    {
     "name": "stderr",
     "output_type": "stream",
     "text": [
      "/global/homes/r/rmastand/.local/lib/python3.8/site-packages/awkward/_nplikes/array_module.py:275: RuntimeWarning: invalid value encountered in sqrt\n",
      "  return impl(*non_generic_value_promoted_args, **(kwargs or {}))\n"
     ]
    },
    {
     "name": "stdout",
     "output_type": "stream",
     "text": [
      "Analyzing file 2 of 28...\n",
      "Analyzing file 3 of 28...\n",
      "Analyzing file 4 of 28...\n",
      "Analyzing file 5 of 28...\n",
      "Analyzing file 6 of 28...\n",
      "Analyzing file 7 of 28...\n",
      "Analyzing file 8 of 28...\n",
      "Analyzing file 9 of 28...\n",
      "Analyzing file 10 of 28...\n",
      "Analyzing file 11 of 28...\n",
      "Analyzing file 12 of 28...\n",
      "Analyzing file 13 of 28...\n",
      "Analyzing file 14 of 28...\n"
     ]
    },
    {
     "name": "stderr",
     "output_type": "stream",
     "text": [
      "/global/homes/r/rmastand/.local/lib/python3.8/site-packages/awkward/_nplikes/array_module.py:275: RuntimeWarning: divide by zero encountered in divide\n",
      "  return impl(*non_generic_value_promoted_args, **(kwargs or {}))\n"
     ]
    },
    {
     "name": "stdout",
     "output_type": "stream",
     "text": [
      "Analyzing file 15 of 28...\n",
      "Analyzing file 16 of 28...\n",
      "Analyzing file 17 of 28...\n",
      "Analyzing file 18 of 28...\n",
      "Analyzing file 19 of 28...\n",
      "Analyzing file 20 of 28...\n",
      "Analyzing file 21 of 28...\n",
      "Analyzing file 22 of 28...\n",
      "Analyzing file 23 of 28...\n",
      "Analyzing file 24 of 28...\n",
      "Analyzing file 25 of 28...\n",
      "Analyzing file 26 of 28...\n",
      "Analyzing file 27 of 28...\n",
      "Analyzing file 28 of 28...\n",
      "Done!\n"
     ]
    }
   ],
   "source": [
    " for i in range(num_files):\n",
    "    \n",
    "    print(f\"Analyzing file {i+1} of {num_files}...\")\n",
    "    \n",
    "    # LOAD IN DATA\n",
    "    \n",
    "    with open(f\"{path_to_input}/all_mu_{i}\", \"rb\") as input_file:\n",
    "        loc_mu_feature = pickle.load(input_file)\n",
    "        \n",
    "    with open(f\"{path_to_input}/all_jet_{i}\", \"rb\") as input_file:\n",
    "        loc_jet_feature = pickle.load(input_file)\n",
    "        \n",
    "    \n",
    "    if run_jet:\n",
    "        # 2 hard muons that pass tight ID and jet\n",
    "        event_filter = (np.sum(loc_mu_feature[\"Muon_tightId\"], axis = 1) >= 2) & (ak.count(loc_jet_feature[\"Jet_mass\"], axis = 1) >= 1)\n",
    "    else:\n",
    "        # 2 hard muons that pass tight ID\n",
    "        event_filter = (np.sum(loc_mu_feature[\"Muon_tightId\"], axis = 1) >= 2) \n",
    "   \n",
    "    # helper function to grab tight muons\n",
    "    def pull_tight_muons(feature):\n",
    "        return loc_mu_feature[feature][loc_mu_feature[\"Muon_tightId\"]][event_filter]\n",
    "    \n",
    "    \n",
    "    dimu_mass, dimu_pt, dimu_eta, dimu_phi = assemble_m_inv(muon_mass, pull_tight_muons(\"Muon_pt\")[:,0], pull_tight_muons(\"Muon_eta\")[:,0], pull_tight_muons(\"Muon_phi\")[:,0], \n",
    "                                   muon_mass, pull_tight_muons(\"Muon_pt\")[:,1],  pull_tight_muons(\"Muon_eta\")[:,1],  pull_tight_muons(\"Muon_phi\")[:,1])\n",
    "    \n",
    "    total_charge = pull_tight_muons(\"Muon_charge\")[:,0] + pull_tight_muons(\"Muon_charge\")[:,1]\n",
    "    \n",
    "    # filters for opp-sign and same-sign muons; must apply *after* the event filter\n",
    "    samesign_filter = np.abs(total_charge) == 2\n",
    "    oppsign_filter = np.abs(total_charge) == 0\n",
    "\n",
    "    # variables that have already had the event filter applied\n",
    "    all_data[\"dimu_mass\"].append(dimu_mass[oppsign_filter].to_numpy(allow_missing = True))\n",
    "    all_data[\"dimu_pt\"].append(dimu_pt[oppsign_filter].to_numpy(allow_missing = True))\n",
    "    all_data[\"dimu_eta\"].append(dimu_eta[oppsign_filter].to_numpy(allow_missing = True))\n",
    "    all_data[\"dimu_phi\"].append(dimu_phi[oppsign_filter].to_numpy(allow_missing = True))\n",
    "    \n",
    "    if run_samesign:\n",
    "        all_data[\"dimu_mass_samesign\"].append(dimu_mass[samesign_filter].to_numpy(allow_missing = True))\n",
    "        all_data[\"dimu_pt_samesign\"].append(dimu_pt[samesign_filter].to_numpy(allow_missing = True))\n",
    "        all_data[\"dimu_eta_samesign\"].append(dimu_eta[samesign_filter].to_numpy(allow_missing = True))\n",
    "        all_data[\"dimu_phi_samesign\"].append(dimu_phi[samesign_filter].to_numpy(allow_missing = True))\n",
    "\n",
    "    \n",
    "    # variables that need the event filter\n",
    "    all_data[\"n_jets\"].append(ak.count(loc_jet_feature[\"Jet_mass\"][event_filter], axis = 1)[oppsign_filter].to_numpy(allow_missing = True))\n",
    "    if run_samesign:\n",
    "        all_data[\"n_jets_samesign\"].append(ak.count(loc_jet_feature[\"Jet_mass\"][event_filter], axis = 1)[samesign_filter].to_numpy(allow_missing = True))\n",
    "    \n",
    "    all_data[\"n_muons\"].append(ak.count(pull_tight_muons(\"Muon_charge\"), axis = 1)[oppsign_filter].to_numpy(allow_missing = True))\n",
    "    if run_samesign:\n",
    "        all_data[\"n_muons_samesign\"].append(ak.count(pull_tight_muons(\"Muon_charge\"), axis = 1)[samesign_filter].to_numpy(allow_missing = True))\n",
    "    \n",
    "  \n",
    "    \"\"\"\n",
    "    JET VARS\n",
    "    \"\"\"\n",
    "    if run_jet:\n",
    "        all_data[\"hardest_jet_btag\"].append(ak.firsts(loc_jet_feature[\"Jet_btagDeepB\"][event_filter])[oppsign_filter].to_numpy(allow_missing = True))\n",
    "        if run_samesign:\n",
    "            all_data[\"hardest_jet_btag_samesign\"].append(ak.firsts(loc_jet_feature[\"Jet_btagDeepB\"][event_filter])[samesign_filter].to_numpy(allow_missing = True))\n",
    "\n",
    "        all_data[\"hardest_jet_pt\"].append(ak.firsts(loc_jet_feature[\"Jet_pt\"][event_filter])[oppsign_filter].to_numpy(allow_missing = True))\n",
    "        if run_samesign:\n",
    "            all_data[\"hardest_jet_pt_samesign\"].append(ak.firsts(loc_jet_feature[\"Jet_pt\"][event_filter])[samesign_filter].to_numpy(allow_missing = True))\n",
    "\n",
    "        all_data[\"hardest_jet_eta\"].append(ak.firsts(loc_jet_feature[\"Jet_eta\"][event_filter])[oppsign_filter].to_numpy(allow_missing = True))\n",
    "        if run_samesign:\n",
    "            all_data[\"hardest_jet_eta_samesign\"].append(ak.firsts(loc_jet_feature[\"Jet_eta\"][event_filter])[samesign_filter].to_numpy(allow_missing = True))\n",
    "\n",
    "        all_data[\"hardest_jet_phi\"].append(ak.firsts(loc_jet_feature[\"Jet_phi\"][event_filter])[oppsign_filter].to_numpy(allow_missing = True))\n",
    "        if run_samesign:\n",
    "            all_data[\"hardest_jet_phi_samesign\"].append(ak.firsts(loc_jet_feature[\"Jet_phi\"][event_filter])[samesign_filter].to_numpy(allow_missing = True))\n",
    "            \n",
    "        all_data[\"hardest_jet_mass\"].append(ak.firsts(loc_jet_feature[\"Jet_mass\"][event_filter])[oppsign_filter].to_numpy(allow_missing = True))\n",
    "        if run_samesign:\n",
    "            all_data[\"hardest_jet_mass_samesign\"].append(ak.firsts(loc_jet_feature[\"Jet_mass\"][event_filter])[samesign_filter].to_numpy(allow_missing = True))\n",
    "\n",
    "\n",
    "    all_data[\"mu0_eta\"].append(pull_tight_muons(\"Muon_eta\")[oppsign_filter][:,0].to_numpy(allow_missing = True))\n",
    "    if run_samesign:\n",
    "        all_data[\"mu0_eta_samesign\"].append(pull_tight_muons(\"Muon_eta\")[samesign_filter][:,0].to_numpy(allow_missing = True))\n",
    "    all_data[\"mu1_eta\"].append(pull_tight_muons(\"Muon_eta\")[oppsign_filter][:,1].to_numpy(allow_missing = True))\n",
    "    if run_samesign:\n",
    "        all_data[\"mu1_eta_samesign\"].append(pull_tight_muons(\"Muon_eta\")[samesign_filter][:,1].to_numpy(allow_missing = True))\n",
    "\n",
    "    all_data[\"mu0_pt\"].append(pull_tight_muons(\"Muon_pt\")[oppsign_filter][:,0].to_numpy(allow_missing = True))\n",
    "    if run_samesign:\n",
    "        all_data[\"mu0_pt_samesign\"].append(pull_tight_muons(\"Muon_pt\")[samesign_filter][:,0].to_numpy(allow_missing = True))\n",
    "    all_data[\"mu1_pt\"].append(pull_tight_muons(\"Muon_pt\")[oppsign_filter][:,1].to_numpy(allow_missing = True))\n",
    "    if run_samesign:\n",
    "        all_data[\"mu1_pt_samesign\"].append(pull_tight_muons(\"Muon_pt\")[samesign_filter][:,1].to_numpy(allow_missing = True))\n",
    "    \n",
    "    all_data[\"mu0_phi\"].append(pull_tight_muons(\"Muon_phi\")[oppsign_filter][:,0].to_numpy(allow_missing = True))\n",
    "    if run_samesign:\n",
    "        all_data[\"mu0_phi_samesign\"].append(pull_tight_muons(\"Muon_phi\")[samesign_filter][:,0].to_numpy(allow_missing = True))\n",
    "    all_data[\"mu1_phi\"].append(pull_tight_muons(\"Muon_phi\")[oppsign_filter][:,1].to_numpy(allow_missing = True))\n",
    "    if run_samesign:\n",
    "        all_data[\"mu1_phi_samesign\"].append(pull_tight_muons(\"Muon_phi\")[samesign_filter][:,1].to_numpy(allow_missing = True))\n",
    "        \n",
    "    all_data[\"mu0_ip3d\"].append(pull_tight_muons(\"Muon_ip3d\")[oppsign_filter][:,0].to_numpy(allow_missing = True))\n",
    "    if run_samesign:\n",
    "        all_data[\"mu0_ip3d_samesign\"].append(pull_tight_muons(\"Muon_ip3d\")[samesign_filter][:,0].to_numpy(allow_missing = True))\n",
    "    all_data[\"mu1_ip3d\"].append(pull_tight_muons(\"Muon_ip3d\")[oppsign_filter][:,1].to_numpy(allow_missing = True))\n",
    "    if run_samesign:\n",
    "        all_data[\"mu1_ip3d_samesign\"].append(pull_tight_muons(\"Muon_ip3d\")[samesign_filter][:,1].to_numpy(allow_missing = True))\n",
    "        \n",
    "    all_data[\"mu0_jetiso\"].append(pull_tight_muons(\"Muon_jetRelIso\")[oppsign_filter][:,0].to_numpy(allow_missing = True))\n",
    "    if run_samesign:\n",
    "        all_data[\"mu0_jetiso_samesign\"].append(pull_tight_muons(\"Muon_jetRelIso\")[samesign_filter][:,0].to_numpy(allow_missing = True))\n",
    "    all_data[\"mu1_jetiso\"].append(pull_tight_muons(\"Muon_jetRelIso\")[oppsign_filter][:,1].to_numpy(allow_missing = True))\n",
    "    if run_samesign:\n",
    "        all_data[\"mu1_jetiso_samesign\"].append(pull_tight_muons(\"Muon_jetRelIso\")[samesign_filter][:,1].to_numpy(allow_missing = True))\n",
    "        \n",
    "    all_data[\"mu0_iso04\"].append(pull_tight_muons(\"Muon_pfRelIso04_all\")[oppsign_filter][:,0].to_numpy(allow_missing = True))\n",
    "    if run_samesign:\n",
    "        all_data[\"mu0_iso04_samesign\"].append(pull_tight_muons(\"Muon_pfRelIso04_all\")[samesign_filter][:,0].to_numpy(allow_missing = True))\n",
    "    all_data[\"mu1_iso04\"].append(pull_tight_muons(\"Muon_pfRelIso04_all\")[oppsign_filter][:,1].to_numpy(allow_missing = True))\n",
    "    if run_samesign:\n",
    "        all_data[\"mu1_iso04_samesign\"].append(pull_tight_muons(\"Muon_pfRelIso04_all\")[samesign_filter][:,1].to_numpy(allow_missing = True))\n",
    "\n",
    " \n",
    "print(\"Done!\")\n",
    "    \n",
    "    "
   ]
  },
  {
   "cell_type": "code",
   "execution_count": 5,
   "id": "b4267f08-4b95-4d1e-bdaa-d2957ffcd501",
   "metadata": {
    "tags": []
   },
   "outputs": [
    {
     "name": "stdout",
     "output_type": "stream",
     "text": [
      "mu0_ip3d (21748455,)\n",
      "mu1_ip3d (21748455,)\n",
      "mu0_jetiso (21748455,)\n",
      "mu1_jetiso (21748455,)\n",
      "mu0_eta (21748455,)\n",
      "mu1_eta (21748455,)\n",
      "mu0_pt (21748455,)\n",
      "mu1_pt (21748455,)\n",
      "mu0_phi (21748455,)\n",
      "mu1_phi (21748455,)\n",
      "mu0_iso04 (21748455,)\n",
      "mu1_iso04 (21748455,)\n",
      "dimu_pt (21748455,)\n",
      "dimu_eta (21748455,)\n",
      "dimu_phi (21748455,)\n",
      "n_muons (21748455,)\n",
      "n_jets (21748455,)\n",
      "dimu_mass (21748455,)\n",
      "hardest_jet_btag (21748455,)\n",
      "hardest_jet_pt (21748455,)\n",
      "hardest_jet_eta (21748455,)\n",
      "hardest_jet_phi (21748455,)\n",
      "hardest_jet_mass (21748455,)\n",
      "mu0_ip3d_samesign (6732181,)\n",
      "mu1_ip3d_samesign (6732181,)\n",
      "mu0_jetiso_samesign (6732181,)\n",
      "mu1_jetiso_samesign (6732181,)\n",
      "mu0_eta_samesign (6732181,)\n",
      "mu1_eta_samesign (6732181,)\n",
      "mu0_pt_samesign (6732181,)\n",
      "mu1_pt_samesign (6732181,)\n",
      "mu0_phi_samesign (6732181,)\n",
      "mu1_phi_samesign (6732181,)\n",
      "mu0_iso04_samesign (6732181,)\n",
      "mu1_iso04_samesign (6732181,)\n",
      "dimu_pt_samesign (6732181,)\n",
      "dimu_eta_samesign (6732181,)\n",
      "dimu_phi_samesign (6732181,)\n",
      "n_muons_samesign (6732181,)\n",
      "n_jets_samesign (6732181,)\n",
      "dimu_mass_samesign (6732181,)\n",
      "hardest_jet_btag_samesign (6732181,)\n",
      "hardest_jet_pt_samesign (6732181,)\n",
      "hardest_jet_eta_samesign (6732181,)\n",
      "hardest_jet_phi_samesign (6732181,)\n",
      "hardest_jet_mass_samesign (6732181,)\n"
     ]
    }
   ],
   "source": [
    "for key in all_data.keys():\n",
    "    \n",
    "    all_data[key] = np.hstack(all_data[key])\n",
    "    print(key, all_data[key].shape)\n"
   ]
  },
  {
   "cell_type": "code",
   "execution_count": 6,
   "id": "ba3afe14-7b09-41ae-9d36-1f5c2afac8b3",
   "metadata": {
    "tags": []
   },
   "outputs": [
    {
     "name": "stdout",
     "output_type": "stream",
     "text": [
      "nan nan\n"
     ]
    },
    {
     "data": {
      "image/png": "[encoded data removed]",
      "text/plain": [
       "<Figure size 432x288 with 1 Axes>"
      ]
     },
     "metadata": {
      "needs_background": "light"
     },
     "output_type": "display_data"
    }
   ],
   "source": [
    "print(np.min(all_data[\"dimu_mass\"]), np.max(all_data[\"dimu_mass\"]))\n",
    "\n",
    "\n",
    "target_M = 0.547 # GeV\n",
    "delta = 0.2 #GeV\n",
    "\n",
    "\n",
    "plt.figure()\n",
    "\n",
    "plt.hist(all_data[\"dimu_mass\"], bins = np.linspace(target_M - delta, target_M + delta, 60), histtype = \"step\", label = \"opp.sign\", density = False)\n",
    "plt.hist(all_data[\"dimu_mass_samesign\"], bins = np.linspace(target_M - delta, target_M + delta, 60), histtype = \"step\", label = \"same sign\", density = False)\n",
    "\n",
    "plt.axvline(target_M, color = \"r\")\n",
    "\n",
    "plt.legend()\n",
    "plt.ylabel(\"Counts\")\n",
    "plt.xlabel(\"dimu $M$ [GeV]\")\n",
    "plt.show()"
   ]
  },
  {
   "cell_type": "markdown",
   "id": "5bae66a4-5405-4382-90f6-8c0be0d26cb1",
   "metadata": {},
   "source": [
    "## Calculate supplementary observables"
   ]
  },
  {
   "cell_type": "code",
   "execution_count": 7,
   "id": "d85f0682-597a-46c8-9ae1-e35b8e871b69",
   "metadata": {
    "tags": []
   },
   "outputs": [],
   "source": [
    "all_data[\"mumu_deltaR\"] = calculate_deltaR(all_data[\"mu0_phi\"], all_data[\"mu1_phi\"], all_data[\"mu0_eta\"], all_data[\"mu1_eta\"])\n",
    "all_data[\"mumu_deltapT\"] = all_data[\"mu0_pt\"] - all_data[\"mu1_pt\"]\n",
    "\n",
    "if run_jet:\n",
    "    all_data[\"dimujet_deltaR\"] = calculate_deltaR(all_data[\"dimu_phi\"], all_data[\"hardest_jet_phi\"], all_data[\"dimu_eta\"], all_data[\"hardest_jet_eta\"])\n",
    "\n",
    "if run_samesign:\n",
    "    all_data[\"mumu_deltaR_samesign\"] = calculate_deltaR(all_data[\"mu0_phi_samesign\"], all_data[\"mu1_phi_samesign\"], all_data[\"mu0_eta_samesign\"], all_data[\"mu1_eta_samesign\"])\n",
    "    all_data[\"mumu_deltapT_samesign\"] = all_data[\"mu0_pt_samesign\"] - all_data[\"mu1_pt_samesign\"]\n",
    "    \n",
    "    if run_jet:\n",
    "        all_data[\"dimujet_deltaR_samesign\"] = calculate_deltaR(all_data[\"dimu_phi_samesign\"], all_data[\"hardest_jet_phi_samesign\"], all_data[\"dimu_eta_samesign\"], all_data[\"hardest_jet_eta_samesign\"])\n"
   ]
  },
  {
   "cell_type": "markdown",
   "id": "079331c9-b7bf-4ff4-a3a2-636c3293d147",
   "metadata": {},
   "source": [
    "Make cuts on deltsaR min"
   ]
  },
  {
   "cell_type": "code",
   "execution_count": 8,
   "id": "31d7e291-367b-4b0e-b0dd-7b07e14908a0",
   "metadata": {
    "tags": []
   },
   "outputs": [
    {
     "data": {
      "image/png": "[encoded data removed]",
      "text/plain": [
       "<Figure size 1296x216 with 6 Axes>"
      ]
     },
     "metadata": {
      "needs_background": "light"
     },
     "output_type": "display_data"
    }
   ],
   "source": [
    "nb = 40\n",
    "mass_low, mass_high = target_M - delta, target_M + delta\n",
    "\n",
    "keys_to_plot =  [\"mu0_eta\", \"mu1_eta\", \"dimu_eta\", \"mumu_deltaR\", \"mumu_deltapT\", \"dimu_mass\"]\n",
    "labels = [\"hardest mu $\\eta$\",\"second mu $\\eta$\", \"dimu $\\eta$\", \"$\\mu-\\mu$ $\\Delta R$\", \"$\\mu-\\mu$ $\\Delta p_T$\", \"dimu $M$\"]\n",
    "bins = [np.linspace(-2.5, 2.5, nb), np.linspace(-2.5, 2.5, nb),np.linspace(-2.5, 2.5, nb), np.linspace(0, .25, nb),np.linspace(0, 50, nb), np.linspace(mass_low, mass_high, nb)]\n",
    "n_features = len(keys_to_plot)\n",
    "\n",
    "\n",
    "\n",
    "\n",
    "eta_min, eta_max = -8, 8\n",
    "event_filter_opp =  (all_data[\"mumu_deltaR\"] > 0.0)  & (all_data[\"dimu_mass\"] > mass_low)  & (all_data[\"dimu_mass\"] < mass_high) & (all_data[\"mu0_eta\"] < eta_max) & (all_data[\"mu0_eta\"] > eta_min)\n",
    "event_filter_ss =  (all_data[\"mumu_deltaR_samesign\"] > 0.00)  & (all_data[\"dimu_mass_samesign\"] > mass_low)  & (all_data[\"dimu_mass_samesign\"] < mass_high) & (all_data[\"mu0_eta_samesign\"] < eta_max) & (all_data[\"mu0_eta_samesign\"] > eta_min)\n",
    "\n",
    "\n",
    "colors = [\"purple\", \"blue\", \"green\", \"orange\", \"red\", \"magenta\"]\n",
    "\n",
    "fig, ax = plt.subplots(1, n_features, figsize = (3*n_features, 3))\n",
    "\n",
    "for i, key in enumerate(keys_to_plot):\n",
    "    \n",
    "    for j, delta_R_min in enumerate([0., 0.005, 0.01, 0.015, 0.02, 0.025]):\n",
    "    \n",
    "        event_filter_opp =  (all_data[\"mumu_deltaR\"] >delta_R_min)  & (all_data[\"dimu_mass\"] > mass_low)  & (all_data[\"dimu_mass\"] < mass_high) & (all_data[\"mu0_eta\"] < eta_max) & (all_data[\"mu0_eta\"] > eta_min)\n",
    "        event_filter_ss =  (all_data[\"mumu_deltaR_samesign\"] > delta_R_min)  & (all_data[\"dimu_mass_samesign\"] > mass_low)  & (all_data[\"dimu_mass_samesign\"] < mass_high) & (all_data[\"mu0_eta_samesign\"] < eta_max) & (all_data[\"mu0_eta_samesign\"] > eta_min)\n",
    "\n",
    "        if delta_R_min == 0:\n",
    "            label0 = \"opp. sign\"\n",
    "            label1 = \"same sign\"\n",
    "        else:\n",
    "            label0 = None\n",
    "            label1 = None\n",
    "\n",
    "        #ax[i].hist(all_data[key][event_filter_opp], bins= bins[i], histtype = \"step\", label = label0, density = True, color = colors[j])\n",
    "        ax[i].hist(all_data[key+\"_samesign\"][event_filter_ss], bins= bins[i], histtype = \"step\", lw = 2, label = \"deltaR > \" + str(delta_R_min), density = False, color = colors[j])\n",
    "\n",
    "\n",
    " \n",
    "    ax[i].set_xlabel(labels[i])\n",
    "    ax[i].set_yticks([])\n",
    "    \n",
    "ax[3].legend(fontsize = 10)\n",
    "ax[0].set_ylabel(\"Counts\")\n",
    "\n",
    "plt.subplots_adjust(wspace=0)\n",
    "plt.show()\n",
    "\n",
    "\n"
   ]
  },
  {
   "cell_type": "code",
   "execution_count": 10,
   "id": "83929abc-ed76-423f-868d-d8b1f832e658",
   "metadata": {
    "tags": []
   },
   "outputs": [],
   "source": [
    "\n",
    "if run_jet:\n",
    "    save_id = f\"{data_id}_jet\"\n",
    "else: \n",
    "    save_id = f\"{data_id}_nojet\"\n",
    "\n",
    "\n",
    "with open(f\"{path_to_output}/{save_id}\", \"wb\") as output_file:\n",
    "        pickle.dump(all_data, output_file)\n"
   ]
  },
  {
   "cell_type": "code",
   "execution_count": null,
   "id": "9901d51e-dc92-47ae-96c0-a4e2847a5339",
   "metadata": {},
   "outputs": [],
   "source": []
  },
  {
   "cell_type": "code",
   "execution_count": null,
   "id": "7eddfa68-28c3-4996-b1e8-edd7704e542b",
   "metadata": {},
   "outputs": [],
   "source": []
  },
  {
   "cell_type": "code",
   "execution_count": null,
   "id": "e0a29aae-31ce-4050-9cba-cce124e6ad96",
   "metadata": {},
   "outputs": [],
   "source": []
  },
  {
   "cell_type": "code",
   "execution_count": null,
   "id": "88624e23-ef5a-455c-b5fe-c10895ba47b5",
   "metadata": {},
   "outputs": [],
   "source": []
  },
  {
   "cell_type": "code",
   "execution_count": null,
   "id": "1813e374-00ba-4308-a095-33e835c067aa",
   "metadata": {},
   "outputs": [],
   "source": []
  },
  {
   "cell_type": "code",
   "execution_count": null,
   "id": "c4c7689c-2e9e-48a4-82ae-fc11fae84d96",
   "metadata": {},
   "outputs": [],
   "source": []
  }
 ],
 "metadata": {
  "kernelspec": {
   "display_name": "Python 3 (ipykernel)",
   "language": "python",
   "name": "python3"
  },
  "language_info": {
   "codemirror_mode": {
    "name": "ipython",
    "version": 3
   },
   "file_extension": ".py",
   "mimetype": "text/x-python",
   "name": "python",
   "nbconvert_exporter": "python",
   "pygments_lexer": "ipython3",
   "version": "3.8.5"
  }
 },
 "nbformat": 4,
 "nbformat_minor": 5
}

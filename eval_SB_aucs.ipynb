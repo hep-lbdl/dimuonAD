{
 "cells": [
  {
   "cell_type": "code",
   "execution_count": 103,
   "id": "4e6150db-103e-4c34-b3f2-1e7ecec2ade9",
   "metadata": {},
   "outputs": [],
   "source": [
    "import numpy as np\n",
    "import matplotlib.pyplot as plt\n"
   ]
  },
  {
   "cell_type": "code",
   "execution_count": 100,
   "id": "326f362d-c2e3-4d1a-96fb-7728e9de88bc",
   "metadata": {},
   "outputs": [],
   "source": [
    "path_to_vals = \"flow_training_validations/lowmass_scan_12_20_HLT_TrkMu15_DoubleTrkMu5NoFiltersNoVtx\"\n",
    "\n",
    "\n",
    "SB_results = []\n",
    "SBL_results = []\n",
    "SBH_results = []\n",
    "\n",
    "ranges = list(range(0, 34)) + list(range(36, 68)) + list(range(69, 102)) + list(range(103, 144)) + list(range(145, 149))\n",
    "\n",
    "for i in ranges:\n",
    "    with open(f\"{path_to_vals}/window{i}_SS/mix_2.txt\", \"r\") as infile:\n",
    "        \n",
    "        results = infile.readlines()\n",
    "        SB_results.append(float(results[5].split()[3]))\n",
    "        SBL_results.append(float(results[6].split()[2]))\n",
    "        SBH_results.append(float(results[7].split()[2]))\n",
    "\n",
    "SB_results = np.array(SB_results)\n",
    "SBL_results = np.array(SBL_results)\n",
    "SBH_results = np.array(SBH_results)\n"
   ]
  },
  {
   "cell_type": "code",
   "execution_count": 102,
   "id": "e37683b3-0c4e-498c-acc9-12a36b06d7d9",
   "metadata": {},
   "outputs": [
    {
     "data": {
      "image/png": "[encoded data removed]",
      "text/plain": [
       "<Figure size 432x288 with 1 Axes>"
      ]
     },
     "metadata": {
      "needs_background": "light"
     },
     "output_type": "display_data"
    }
   ],
   "source": [
    "plt.figure()\n",
    "plt.hist(SB_results, bins = np.linspace(0.5, 0.7, 50))\n",
    "plt.xlabel(\"SB AUC\")\n",
    "plt.title(\"SS AUCs\")\n",
    "plt.ylabel(\"Counts\")\n",
    "plt.show()"
   ]
  },
  {
   "cell_type": "code",
   "execution_count": 93,
   "id": "8cc707d1-e89a-412d-9a0f-d78407531cc7",
   "metadata": {},
   "outputs": [
    {
     "name": "stdout",
     "output_type": "stream",
     "text": [
      "SB\n",
      "[ 0  1  2  3  5  6  8  9 10 14 15 16 17 20 21 24 25 29 30 34 35 45 64]\n",
      "[0.67028131 0.55408249 0.55365582 0.63990592 0.61782015 0.55072243\n",
      " 0.59812675 0.6173097  0.55274592 0.55783734 0.56673086 0.62776743\n",
      " 0.58227789 0.56188872 0.55284091 0.57487796 0.62496    0.55812979\n",
      " 0.55067114 0.5590928  0.58370256 0.55172081 0.55089745]\n",
      "\n",
      "SBL\n",
      "[  0   1   2   3   4   5   6   7   8   9  10  11  12  13  14  16  17  19\n",
      "  20  21  23  24  25  26  27  29  30  31  32  34  36  37  38  39  41  42\n",
      "  45  46  55  63  64  65  75  97  99 103 109]\n",
      "[0.57425214 0.60378984 0.65401987 0.59216193 0.67786391 0.58096469\n",
      " 0.56485507 0.59591837 0.73834499 0.63752914 0.56146369 0.61641853\n",
      " 0.58603896 0.64495798 0.6829421  0.67982456 0.58828125 0.60060691\n",
      " 0.56032295 0.58615917 0.62452326 0.61846722 0.68528912 0.57458333\n",
      " 0.56913919 0.61029412 0.61623656 0.56594116 0.55518976 0.55220713\n",
      " 0.56308962 0.57798847 0.57512472 0.56373837 0.55885682 0.57361496\n",
      " 0.57611988 0.55701899 0.55094086 0.60348179 0.55457227 0.55870043\n",
      " 0.55694712 0.55316819 0.56261493 0.56209573 0.55089692]\n",
      "\n",
      "SBH\n",
      "[  0   2   3   4   5   6   7   8  10  12  13  14  16  17  18  19  21  23\n",
      "  24  25  28  29  30  36  41  42  44  45  46  52  53  57  59  63  64  72\n",
      "  77  81  86 143]\n",
      "[0.64640199 0.56039916 0.75211268 0.70514148 0.67571272 0.6\n",
      " 0.56481481 0.57714753 0.56043829 0.63787185 0.58818098 0.59098639\n",
      " 0.55677656 0.57037666 0.55456349 0.5816129  0.56625514 0.57473062\n",
      " 0.58832216 0.57049377 0.55629919 0.58553777 0.56726875 0.56263092\n",
      " 0.55811663 0.55795015 0.55645161 0.56607557 0.56543637 0.55475207\n",
      " 0.55333594 0.55232    0.5730862  0.56766917 0.55138504 0.55637491\n",
      " 0.55787715 0.55549124 0.55477362 0.56114355]\n"
     ]
    }
   ],
   "source": [
    "\n",
    "threshold = 0.55\n",
    "\n",
    "print(\"SB\")\n",
    "SB_above_thresh = np.argwhere(SB_results > threshold).reshape(-1)\n",
    "print(SB_above_thresh)\n",
    "print(SB_results[SB_above_thresh])\n",
    "print()\n",
    "print(\"SBL\")\n",
    "SBL_above_thresh = np.argwhere(SBL_results > threshold).reshape(-1)\n",
    "print(SBL_above_thresh)\n",
    "print(SBL_results[SBL_above_thresh])\n",
    "print()\n",
    "print(\"SBH\")\n",
    "SBH_above_thresh = np.argwhere(SBH_results > threshold).reshape(-1)\n",
    "print(SBH_above_thresh)\n",
    "print(SBH_results[SBH_above_thresh])"
   ]
  },
  {
   "cell_type": "code",
   "execution_count": null,
   "id": "d05f4562-7c92-41ae-8794-debefca64e89",
   "metadata": {},
   "outputs": [],
   "source": []
  },
  {
   "cell_type": "code",
   "execution_count": null,
   "id": "7426f659-78cd-4455-a159-3f3019fb577a",
   "metadata": {},
   "outputs": [],
   "source": []
  }
 ],
 "metadata": {
  "kernelspec": {
   "display_name": "Python 3 (ipykernel)",
   "language": "python",
   "name": "python3"
  },
  "language_info": {
   "codemirror_mode": {
    "name": "ipython",
    "version": 3
   },
   "file_extension": ".py",
   "mimetype": "text/x-python",
   "name": "python",
   "nbconvert_exporter": "python",
   "pygments_lexer": "ipython3",
   "version": "3.8.5"
  }
 },
 "nbformat": 4,
 "nbformat_minor": 5
}

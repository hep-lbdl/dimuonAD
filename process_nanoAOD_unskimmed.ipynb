{
 "cells": [
  {
   "cell_type": "code",
   "execution_count": 1,
   "id": "67aeab8f-97d5-4467-98b2-f1231b7b2626",
   "metadata": {
    "tags": []
   },
   "outputs": [],
   "source": [
    "import pickle\n",
    "import matplotlib.pyplot as plt\n",
    "import numpy as np\n",
    "plt.style.use(\"science.mplstyle\")"
   ]
  },
  {
   "cell_type": "code",
   "execution_count": 2,
   "id": "2c7d78ac-84bb-4f4e-9357-4da25c5866af",
   "metadata": {
    "tags": []
   },
   "outputs": [],
   "source": [
    "muon_vars = [\"Muon_pt\", \"Muon_eta\", \"Muon_phi\", \"Muon_charge\", \"Muon_pfRelIso03_all\", \"Muon_pfRelIso04_all\"]\n",
    "jet_vars = [\"Jet_pt\", \"Jet_eta\", \"Jet_phi\", \"Jet_mass\", \"Jet_nConstituents\", \"Jet_btagCSVV2\", \"Jet_btagDeepB\", \"Jet_btagDeepFlavB\"]\n",
    "\n",
    "path_to_input = \"/pscratch/sd/r/rmastand/dimuonAD/post_root_sim/\"\n",
    "\n",
    "code = \"SM_SIM\" # 49\n",
    "#code = \"DATA\" # 28\n",
    "\n",
    "project_id = \"SUSY\"\n",
    "\n",
    "path_to_output = f\"/pscratch/sd/r/rmastand/dimuonAD/compiled_data/{project_id}\"\n",
    "\n",
    "\n",
    "#code = \"BSM_XYY\" # 2\n",
    "#code = \"BSM_HAA\" # 11"
   ]
  },
  {
   "cell_type": "code",
   "execution_count": 3,
   "id": "0f385742-492a-4dea-b7b6-7c3b15e306f1",
   "metadata": {
    "tags": []
   },
   "outputs": [],
   "source": [
    "num_jets_to_save = 2\n",
    "\n",
    "filtered_muons = {key:np.empty((1,)) for key in muon_vars}\n",
    "filtered_amuons = {key:np.empty((1,)) for key in muon_vars}\n",
    "filtered_jets = {i:{key:np.empty((1,)) for key in jet_vars} for i in range(num_jets_to_save)}\n"
   ]
  },
  {
   "cell_type": "markdown",
   "id": "a7a1c458-e532-4d68-88aa-c868e1bbd877",
   "metadata": {},
   "source": [
    "Load in the data"
   ]
  },
  {
   "cell_type": "code",
   "execution_count": 4,
   "id": "168b9a2f-7f20-427c-b6fe-6710697049ab",
   "metadata": {
    "tags": []
   },
   "outputs": [
    {
     "name": "stdout",
     "output_type": "stream",
     "text": [
      "0\n",
      "1\n",
      "2\n",
      "3\n",
      "4\n",
      "5\n",
      "6\n",
      "7\n",
      "8\n",
      "9\n",
      "Muon_pt (2123550,)\n",
      "Muon_eta (2123550,)\n",
      "Muon_phi (2123550,)\n",
      "Muon_charge (2123550,)\n",
      "Muon_pfRelIso03_all (2123550,)\n",
      "Muon_pfRelIso04_all (2123550,)\n",
      "Jet_pt (2123550,)\n",
      "Jet_pt (2123550,)\n",
      "Jet_eta (2123550,)\n",
      "Jet_eta (2123550,)\n",
      "Jet_phi (2123550,)\n",
      "Jet_phi (2123550,)\n",
      "Jet_mass (2123550,)\n",
      "Jet_mass (2123550,)\n",
      "Jet_nConstituents (2123550,)\n",
      "Jet_nConstituents (2123550,)\n",
      "Jet_btagCSVV2 (2123550,)\n",
      "Jet_btagCSVV2 (2123550,)\n",
      "Jet_btagDeepB (2123550,)\n",
      "Jet_btagDeepB (2123550,)\n",
      "Jet_btagDeepFlavB (2123550,)\n",
      "Jet_btagDeepFlavB (2123550,)\n",
      "Num. events: 2123550\n"
     ]
    }
   ],
   "source": [
    "for i in range(10):\n",
    "    \n",
    "    print(i)\n",
    "\n",
    "    with open(f\"{path_to_input}/filtered_mu_{code}_{i}\", \"rb\") as input_file:\n",
    "        loc_mu_feature = pickle.load(input_file)\n",
    "    for mv in muon_vars:\n",
    "        filtered_muons[mv] = np.hstack((filtered_muons[mv], loc_mu_feature[mv]))\n",
    "        \n",
    "    with open(f\"{path_to_input}/filtered_amu_{code}_{i}\", \"rb\") as input_file:\n",
    "        loc_amu_feature = pickle.load(input_file)\n",
    "    for mv in muon_vars:\n",
    "        filtered_amuons[mv] = np.hstack((filtered_amuons[mv], loc_amu_feature[mv]))\n",
    "\n",
    "    with open(f\"{path_to_input}/filtered_jet_{code}_{i}\", \"rb\") as input_file:\n",
    "        loc_jet_feature = pickle.load(input_file)\n",
    "    for jv in jet_vars:\n",
    "        loc_jet_vars = {i:[] for i in range(num_jets_to_save)}\n",
    "        # jets are a little harder, since we may have 0-3 of them\n",
    "        for event in loc_jet_feature[jv]:\n",
    "            try: # this holds if there is at least 1 jet in the event\n",
    "                for i in range(num_jets_to_save):\n",
    "                    try: \n",
    "                        loc_jet_vars[i].append(event[i])\n",
    "                    except IndexError: # fewer than num_jets_to_save jets\n",
    "                        loc_jet_vars[i].append(np.NaN)\n",
    "            except TypeError: # no jets\n",
    "                for i in range(num_jets_to_save):\n",
    "                    loc_jet_vars[i].append(np.NaN)\n",
    "        for i in range(num_jets_to_save):\n",
    "            filtered_jets[i][jv] = np.hstack((filtered_jets[i][jv], loc_jet_vars[i]))\n",
    "        \n",
    "   \n",
    "for mv in muon_vars:\n",
    "    \n",
    "    filtered_muons[mv] = filtered_muons[mv][1:]\n",
    "    filtered_amuons[mv] = filtered_amuons[mv][1:]\n",
    "    print(mv, filtered_muons[mv].shape)\n",
    "\n",
    "for jv in jet_vars:\n",
    "    \n",
    "    for i in range(num_jets_to_save):\n",
    "\n",
    "        filtered_jets[i][jv] = filtered_jets[i][jv][1:]    \n",
    "        print(jv, filtered_jets[i][jv].shape)\n",
    "\n",
    "\n",
    "num_events = filtered_muons[\"Muon_pt\"].shape[0]\n",
    "print(f\"Num. events: {num_events}\")"
   ]
  },
  {
   "cell_type": "markdown",
   "id": "b96dc5b9-5624-4230-bd33-8473056a16ce",
   "metadata": {},
   "source": [
    "Plot data"
   ]
  },
  {
   "cell_type": "code",
   "execution_count": null,
   "id": "b34b7016-72fb-436b-b58f-1567dbb6f092",
   "metadata": {
    "tags": []
   },
   "outputs": [],
   "source": [
    "\n",
    "bins = {\n",
    "    \"pt\":np.linspace(0, 200, 100), \n",
    "    \"eta\":np.linspace(-4, 4, 100),\n",
    "    \"phi\":np.linspace(-3.2, 3.2, 100),\n",
    "    \"charge\":np.linspace(-3.2, 3.2, 100),\n",
    "    \"pfRelIso03\":np.linspace(0, 1, 100),\n",
    "    \"pfRelIso04\":np.linspace(0, 1, 100),\n",
    "    \"mass\":np.linspace(0, 200, 100),\n",
    "    \"nConstituents\":np.linspace(0, 100, 100),\n",
    "    \"btagCSVV2\":np.linspace(0, 1, 100),\n",
    "    \"btagDeepB\":np.linspace(-0, 1, 100),\n",
    "    \"btagDeepFlavB\":np.linspace(-0, 1, 100),\n",
    "       }\n",
    "\n",
    "nice_labels = {\n",
    "    \"Muon_pt\":\"Muon $p_T$\", \n",
    "    \"Muon_eta\":\"Muon $\\eta$\", \n",
    "    \"Muon_phi\":\"Muon $\\phi$\", \n",
    "    \"Muon_charge\":\"Charge\",\n",
    "    \"Muon_pfRelIso03_all\":\"Muon R03\",\n",
    "    \"Muon_pfRelIso04_all\":\"Muon R04\",\n",
    "    \"Jet_pt\":\"Jet $p_T$\", \n",
    "    \"Jet_eta\":\"Jet $\\eta$\", \n",
    "    \"Jet_phi\":\"Jet $\\phi$\", \n",
    "    \"Jet_mass\":\"Jet $M$\", \n",
    "    \"Jet_nConstituents\":\"N const.\",\n",
    "    \"Jet_btagCSVV2\":\"Jet_btagCSVV2.\",\n",
    "    \"Jet_btagDeepB\":\"Jet_btagDeepB.\",\n",
    "    \"Jet_btagDeepFlavB\":\"Jet_btagDeepFlavB.\",\n",
    "       }\n",
    "       \n",
    "\n",
    "\n",
    "for mv in muon_vars:\n",
    "\n",
    "    plt.figure()\n",
    "    plt.hist(filtered_muons[mv], bins = bins[mv.split(\"_\")[1]], histtype = \"step\", label = \"$\\mu$\", color = \"purple\")\n",
    "    plt.hist(filtered_amuons[mv], bins = bins[mv.split(\"_\")[1]], histtype = \"step\", label = \"$\\overline{\\mu}$\", color = \"green\")\n",
    "    plt.xlabel(nice_labels[mv])\n",
    "    plt.ylabel(\"Counts\")\n",
    "    plt.legend()\n",
    "    plt.show()\n",
    "    \n",
    "jet_index = 0\n",
    "for jv in jet_vars:\n",
    "\n",
    "    plt.figure()\n",
    "    plt.hist(filtered_jets[jet_index][jv], bins = bins[jv.split(\"_\")[1]], histtype = \"step\", color = \"pink\")\n",
    "    plt.xlabel(nice_labels[jv])\n",
    "    plt.ylabel(\"Counts\")\n",
    "    plt.yscale(\"log\")\n",
    "    plt.show()\n",
    "\n",
    "\n"
   ]
  },
  {
   "cell_type": "markdown",
   "id": "33d4f98b-f7b3-4df7-9821-6dd6366e2ef6",
   "metadata": {},
   "source": [
    "## Cut on the number of jets"
   ]
  },
  {
   "cell_type": "code",
   "execution_count": null,
   "id": "251f4204-df87-4063-bbe4-118dfc3535f9",
   "metadata": {
    "tags": []
   },
   "outputs": [],
   "source": [
    "\n",
    "if project_id == \"SUSY\":\n",
    "    \n",
    "    dijet_filter = (~np.isnan(filtered_jets[0][\"Jet_pt\"])) & (~np.isnan(filtered_jets[1][\"Jet_pt\"]))\n",
    "\n",
    "    print(dijet_filter)\n",
    "\n",
    "    for mv in muon_vars:\n",
    "\n",
    "        filtered_muons[mv] = filtered_muons[mv][dijet_filter]\n",
    "        filtered_amuons[mv] = filtered_amuons[mv][dijet_filter]\n",
    "        print(mv, filtered_muons[mv].shape)\n",
    "\n",
    "    for jv in jet_vars:\n",
    "\n",
    "        for i in range(num_jets_to_save):\n",
    "\n",
    "            filtered_jets[i][jv] = filtered_jets[i][jv][dijet_filter]\n",
    "            print(jv, filtered_jets[i][jv].shape)"
   ]
  },
  {
   "cell_type": "markdown",
   "id": "bfb8a223-d0ce-47a2-88a7-ded9b146954a",
   "metadata": {},
   "source": [
    "## Assemble dimuon system"
   ]
  },
  {
   "cell_type": "code",
   "execution_count": null,
   "id": "5ca6b57f-19cd-4fe6-8a4a-5161d76553fa",
   "metadata": {
    "tags": []
   },
   "outputs": [],
   "source": [
    "muon_mass = 0.1056583755 # GeV\n",
    "\n",
    "def assemble_m_inv(a_M, a_pt, a_eta, a_phi, b_M, b_pt, b_eta, b_phi):\n",
    "    # computes system of mother particle\n",
    "    \n",
    "    a_E = np.sqrt(a_M**2 + (a_pt*np.cosh(a_eta))**2)\n",
    "    b_E = np.sqrt(b_M**2 + (b_pt*np.cosh(b_eta))**2)\n",
    "\n",
    "    a_px = a_pt*np.cos(a_phi)\n",
    "    b_px = b_pt*np.cos(b_phi)\n",
    "\n",
    "    a_py = a_pt*np.sin(a_phi)\n",
    "    b_py = b_pt*np.sin(b_phi)\n",
    "\n",
    "    a_pz = a_pt*np.sinh(a_eta)\n",
    "    b_pz = b_pt*np.sinh(b_eta)\n",
    "\n",
    "    mother_E = a_E + b_E\n",
    "    mother_px = a_px + b_px\n",
    "    mother_py = a_py + b_py\n",
    "    mother_pz = a_pz + b_pz\n",
    "\n",
    "    mother_M = np.sqrt(mother_E**2 - mother_px**2 - mother_py**2 - mother_pz**2)\n",
    "    mother_pt = np.sqrt(mother_px**2 + mother_py**2)\n",
    "    mother_eta = np.arcsinh(mother_pz/mother_pt)\n",
    "    mother_phi = np.arctan(mother_py/mother_px)\n",
    "    \n",
    "\n",
    "    return mother_M, mother_pt, mother_eta, mother_phi\n",
    "\n",
    "\n",
    "# get the dimuon system\n",
    "dimu_M, dimu_pt, dimu_eta, dimu_phi = assemble_m_inv(muon_mass, filtered_muons[\"Muon_pt\"], filtered_muons[\"Muon_eta\"], filtered_muons[\"Muon_phi\"], \n",
    "                                           muon_mass, filtered_amuons[\"Muon_pt\"], filtered_amuons[\"Muon_eta\"], filtered_amuons[\"Muon_phi\"])\n",
    "\n",
    "\n",
    "filtered_composites = {\n",
    "            \"Dimu_mass\":dimu_M,\n",
    "            \"Dimu_pt\":dimu_pt,\n",
    "            \"Dimu_eta\":dimu_eta,\n",
    "            }\n",
    "\n",
    "   \n",
    "if project_id == \"SUSY\":\n",
    "    \n",
    "   \n",
    "    # get the dijet system\n",
    "    dijet_M, dijet_pt, dijet_eta, dijet_phi = assemble_m_inv(filtered_jets[0][\"Jet_mass\"], filtered_jets[0][\"Jet_pt\"], filtered_jets[0][\"Jet_eta\"], filtered_jets[0][\"Jet_phi\"],\n",
    "                                                   filtered_jets[1][\"Jet_mass\"], filtered_jets[1][\"Jet_pt\"], filtered_jets[1][\"Jet_eta\"], filtered_jets[1][\"Jet_phi\"])\n",
    "\n",
    "\n",
    "\n",
    "    # get the higgs system\n",
    "    H_M, H_pt, H_eta, H_phi = assemble_m_inv(dimu_M, dimu_pt, dimu_eta, dimu_phi, dijet_M, dijet_pt, dijet_eta, dijet_phi)\n",
    "\n",
    "    filtered_composites[\"Dijet_mass\"] = dijet_M\n",
    "    filtered_composites[\"Dijet_pt\"] = dijet_pt\n",
    "    filtered_composites[\"Dijet_eta\"] = dijet_eta\n",
    "    filtered_composites[\"H_mass\"] = H_M\n",
    "    filtered_composites[\"H_eta\"] = H_pt\n",
    "    filtered_composites[\"Dijet_mass\"] = H_eta\n",
    "               \n",
    "\n"
   ]
  },
  {
   "cell_type": "code",
   "execution_count": null,
   "id": "0688789a-83ac-4e13-a2f0-707951b1f7b1",
   "metadata": {
    "tags": []
   },
   "outputs": [],
   "source": [
    "extra_filter =  (filtered_jets[0][\"Jet_btagDeepB\"]>=0.6) & (filtered_jets[1][\"Jet_btagDeepB\"]>=0.6)\n",
    "for key in filtered_composites.keys():\n",
    "    \n",
    "\n",
    "    plt.figure()\n",
    "    plt.hist(filtered_composites[key][extra_filter], bins = bins[key.split(\"_\")[1]], histtype = \"step\", label = \"$\\mu$\", color = \"purple\")\n",
    "    plt.xlabel(key)\n",
    "    plt.ylabel(\"Counts\")\n",
    "    plt.legend()\n",
    "    plt.show()\n",
    "    "
   ]
  },
  {
   "cell_type": "markdown",
   "id": "026f2819-1a63-42f8-b850-cf849f635ff8",
   "metadata": {
    "tags": []
   },
   "source": [
    "Assemble arrays"
   ]
  },
  {
   "cell_type": "code",
   "execution_count": null,
   "id": "c4d558b5-67e6-4f6a-a360-4df5d2fe0a42",
   "metadata": {},
   "outputs": [],
   "source": [
    "\"\"\"\n",
    "full_data_array = np.empty((num_events, 11))\n",
    "\n",
    "full_data_array[:,0] = filtered_jets[\"Jet_pt\"]\n",
    "full_data_array[:,1] = filtered_jets[\"Jet_eta\"]\n",
    "full_data_array[:,2] = filtered_jets[\"Jet_phi\"]\n",
    "full_data_array[:,3] = filtered_jets[\"Jet_mass\"]\n",
    "full_data_array[:,4] = filtered_muons[\"Muon_pfRelIso03_all\"]\n",
    "full_data_array[:,5] = filtered_amuons[\"Muon_pfRelIso03_all\"]\n",
    "full_data_array[:,6] = filtered_muons[\"Muon_pfRelIso04_all\"]\n",
    "full_data_array[:,7] = filtered_amuons[\"Muon_pfRelIso04_all\"]\n",
    "full_data_array[:,8] = filtered_dimuons[\"Dimu_pt\"]\n",
    "full_data_array[:,9] = filtered_dimuons[\"Dimu_eta\"]\n",
    "full_data_array[:,10] = filtered_dimuons[\"Dimu_mass\"]\n",
    "\n",
    "print(full_data_array)\n",
    "\"\"\"\n",
    "\n",
    "data_to_output = {}\n",
    "\n",
    "if project_id == \"SUSY\":\n",
    "    \n",
    "    \n",
    "     \n",
    "    data_to_output[\"dijet_pt\"] = filtered_composites[\"Dijet_pt\"]\n",
    "    data_to_output[\"dijet_eta\"] = filtered_composites[\"Dijet_eta\"]\n",
    "    data_to_output[\"dijet_mass\"] = filtered_composites[\"Dijet_mass\"]\n",
    "    data_to_output[\"jet0_btag\"] = filtered_jets[0][\"Jet_btagDeepB\"]\n",
    "    data_to_output[\"jet1_btag\"] = filtered_jets[1][\"Jet_btagDeepB\"]\n",
    "    data_to_output[\"higgs_pt\"] = filtered_composites[\"H_pt\"]\n",
    "    data_to_output[\"higgs_eta\"] = filtered_composites[\"H_eta\"]\n",
    "    data_to_output[\"higgs_mass\"] = filtered_composites[\"H_mass\"]\n",
    "    data_to_output[\"dimu_pt\"] = filtered_composites[\"Dimu_pt\"]\n",
    "    data_to_output[\"dimu_eta\"] = filtered_composites[\"Dimu_eta\"]\n",
    "    data_to_output[\"dimu_mass\"] = filtered_composites[\"Dimu_mass\"]\n",
    "    \n",
    "\n",
    "    \n",
    "elif project_id == \"eta\":\n",
    "    \n",
    "    \n",
    "    \n",
    "    \n",
    "    data_to_output[\"muon_pt\"] = filtered_muons[\"Muon_pt\"]\n",
    "    data_to_output[\"amuon_pt\"] = filtered_amuons[\"Muon_pt\"]\n",
    "    data_to_output[\"muon_eta\"] = filtered_muons[\"Muon_eta\"]\n",
    "    data_to_output[\"amuon_eta\"] = filtered_amuons[\"Muon_eta\"]\n",
    "    data_to_output[\"muon_iso03\"] = filtered_muons[\"Muon_pfRelIso03_all\"]\n",
    "    data_to_output[\"amuon_iso03\"] = filtered_amuons[\"Muon_pfRelIso03_all\"]\n",
    "    data_to_output[\"muon_iso04\"] = filtered_muons[\"Muon_pfRelIso04_all\"]\n",
    "    data_to_output[\"amuon_iso04\"] = filtered_amuons[\"Muon_pfRelIso04_all\"]\n",
    "    data_to_output[\"dimu_pt\"] = filtered_composites[\"Dimu_pt\"]\n",
    "    data_to_output[\"dimu_eta\"] = filtered_composites[\"Dimu_eta\"]\n",
    "    data_to_output[\"dimu_mass\"] = filtered_composites[\"Dimu_mass\"]\n",
    "    \n",
    "\n"
   ]
  },
  {
   "cell_type": "code",
   "execution_count": null,
   "id": "404b1b7e-afc3-4e24-b706-ef3c7ac746f0",
   "metadata": {},
   "outputs": [],
   "source": [
    "\n",
    "\n",
    " with open(f\"{path_to_output}/{code}\", \"wb\") as ofile:\n",
    "        pickle.dump(scaler, full_data_array)"
   ]
  },
  {
   "cell_type": "code",
   "execution_count": null,
   "id": "a60d5e14-58fe-4598-8602-57b2269e8bdf",
   "metadata": {},
   "outputs": [],
   "source": []
  },
  {
   "cell_type": "code",
   "execution_count": null,
   "id": "10428d68-d205-4379-9318-184efd877e80",
   "metadata": {},
   "outputs": [],
   "source": []
  },
  {
   "cell_type": "code",
   "execution_count": null,
   "id": "24eab241-ec2c-4df0-8b1f-07f09ede9d80",
   "metadata": {},
   "outputs": [],
   "source": []
  },
  {
   "cell_type": "code",
   "execution_count": null,
   "id": "395d7b9d-707e-4b5e-a895-a0499fa612ad",
   "metadata": {},
   "outputs": [],
   "source": []
  }
 ],
 "metadata": {
  "kernelspec": {
   "display_name": "CernRoot",
   "language": "python",
   "name": "cernroot"
  },
  "language_info": {
   "codemirror_mode": {
    "name": "ipython",
    "version": 3
   },
   "file_extension": ".py",
   "mimetype": "text/x-python",
   "name": "python",
   "nbconvert_exporter": "python",
   "pygments_lexer": "ipython3",
   "version": "3.11.4"
  }
 },
 "nbformat": 4,
 "nbformat_minor": 5
}

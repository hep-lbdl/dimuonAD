{
 "cells": [
  {
   "cell_type": "code",
   "execution_count": 1,
   "id": "06c3da6d-1d53-43f7-ba0a-c7c1ac3ad7f8",
   "metadata": {
    "tags": []
   },
   "outputs": [],
   "source": [
    "import awkward as ak\n",
    "import os\n",
    "import pickle\n",
    "\n",
    "import matplotlib.pyplot as plt\n",
    "import numpy as np\n",
    "\n",
    "from helpers.physics_functions import *"
   ]
  },
  {
   "cell_type": "code",
   "execution_count": 2,
   "id": "d805c982-89bc-4196-a570-91a9b3d01336",
   "metadata": {},
   "outputs": [],
   "source": [
    "muon_vars = [\"Muon_pt\", \"Muon_eta\", \"Muon_phi\", \"Muon_charge\", \"Muon_pfRelIso03_all\", \"Muon_pfRelIso04_all\"]\n",
    "jet_vars = [\"Jet_pt\", \"Jet_eta\", \"Jet_phi\", \"Jet_mass\", \"Jet_nConstituents\", \"Jet_btagCSVV2\", \"Jet_btagDeepB\", \"Jet_btagDeepFlavB\", \"MET_pt\", \"MET_sumEt\"]\n",
    "\n",
    "path_to_input = f\"/global/cfs/cdirs/m3246/rmastand/dimuonAD/skimmed_data_2016H_30555/\"\n",
    "path_to_output = f\"/pscratch/sd/r/rmastand/dimuonAD/compiled_data/eta/\"\n",
    "\n",
    "num_files = 28\n"
   ]
  },
  {
   "cell_type": "code",
   "execution_count": 3,
   "id": "53ebef19-c5bd-480c-9b1f-957ec97f994c",
   "metadata": {
    "tags": []
   },
   "outputs": [],
   "source": [
    "\n",
    "\n",
    "all_data = {\n",
    "    \"muon_pt\": [],\n",
    "      \"amuon_pt\": [],\n",
    "      \"muon_eta\": [],\n",
    "      \"amuon_eta\": [],\n",
    "      \"muon_iso03\": [],\n",
    "      \"amuon_iso03\": [],\n",
    "      \"muon_iso04\": [],\n",
    "      \"amuon_iso04\": [],\n",
    "      \"jet_pt\": [],\n",
    "      \"jet_eta\": [],\n",
    "      \"jet_mass\": [],\n",
    "      \"dimu_pt\": [],\n",
    "      \"dimu_eta\": [],\n",
    "      \"dimu_mass\": [],\n",
    "    \"dimu_mass_samesign\": [],\n",
    "    }\n"
   ]
  },
  {
   "cell_type": "code",
   "execution_count": 4,
   "id": "2facfc95-8227-4d69-9cff-7e53138b2e5f",
   "metadata": {
    "tags": []
   },
   "outputs": [
    {
     "name": "stdout",
     "output_type": "stream",
     "text": [
      "Analyzing file 0 of 28...\n"
     ]
    },
    {
     "name": "stderr",
     "output_type": "stream",
     "text": [
      "/global/homes/r/rmastand/.conda/envs/cernroot/lib/python3.11/site-packages/awkward/_nplikes/array_module.py:245: RuntimeWarning: invalid value encountered in sqrt\n",
      "  return impl(*broadcasted_args, **(kwargs or {}))\n"
     ]
    },
    {
     "name": "stdout",
     "output_type": "stream",
     "text": [
      "Analyzing file 1 of 28...\n",
      "Analyzing file 2 of 28...\n",
      "Analyzing file 3 of 28...\n",
      "Analyzing file 4 of 28...\n",
      "Analyzing file 5 of 28...\n",
      "Analyzing file 6 of 28...\n",
      "Analyzing file 7 of 28...\n",
      "Analyzing file 8 of 28...\n",
      "Analyzing file 9 of 28...\n",
      "Analyzing file 10 of 28...\n",
      "Analyzing file 11 of 28...\n",
      "Analyzing file 12 of 28...\n",
      "Analyzing file 13 of 28...\n"
     ]
    },
    {
     "name": "stderr",
     "output_type": "stream",
     "text": [
      "/global/homes/r/rmastand/.conda/envs/cernroot/lib/python3.11/site-packages/awkward/_nplikes/array_module.py:245: RuntimeWarning: divide by zero encountered in divide\n",
      "  return impl(*broadcasted_args, **(kwargs or {}))\n"
     ]
    },
    {
     "name": "stdout",
     "output_type": "stream",
     "text": [
      "Analyzing file 14 of 28...\n",
      "Analyzing file 15 of 28...\n",
      "Analyzing file 16 of 28...\n",
      "Analyzing file 17 of 28...\n",
      "Analyzing file 18 of 28...\n",
      "Analyzing file 19 of 28...\n",
      "Analyzing file 20 of 28...\n",
      "Analyzing file 21 of 28...\n",
      "Analyzing file 22 of 28...\n",
      "Analyzing file 23 of 28...\n",
      "Analyzing file 24 of 28...\n",
      "Analyzing file 25 of 28...\n",
      "Analyzing file 26 of 28...\n",
      "Analyzing file 27 of 28...\n",
      "Done!\n"
     ]
    }
   ],
   "source": [
    "for i in range(num_files):\n",
    "    \n",
    "    print(f\"Analyzing file {i+1} of {num_files}...\")\n",
    "    \n",
    "    # LOAD IN DATA\n",
    "    \n",
    "    with open(f\"{path_to_input}/all_mu_{i}\", \"rb\") as input_file:\n",
    "        loc_mu_feature = pickle.load(input_file)\n",
    "        \n",
    "    with open(f\"{path_to_input}/all_jet_{i}\", \"rb\") as input_file:\n",
    "        loc_jet_feature = pickle.load(input_file)\n",
    "        \n",
    "\n",
    "    # START ANALYSIS\n",
    "    \n",
    "    loc_muon_filter = loc_mu_feature[\"Muon_charge\"] == -1\n",
    "    loc_amuon_filter = loc_mu_feature[\"Muon_charge\"] == 1\n",
    "    \n",
    "    \"\"\"\n",
    "    EVENTS WITH 1 MU, 1 AMU\n",
    "    \"\"\"\n",
    "    # First get valid events, i.e. events with 1 muon, 1 amuon\n",
    "    \n",
    "    # get mp system\n",
    "    \n",
    "    mp_event_filter = (np.sum(loc_muon_filter, axis = 1) > 0) & (np.sum(loc_amuon_filter, axis = 1) > 0)\n",
    "    passed_mu_pt = loc_mu_feature[\"Muon_pt\"][loc_muon_filter][mp_event_filter][:,0]\n",
    "    passed_amu_pt = loc_mu_feature[\"Muon_pt\"][loc_amuon_filter][mp_event_filter][:,0] \n",
    "    passed_mu_eta = loc_mu_feature[\"Muon_eta\"][loc_muon_filter][mp_event_filter][:,0]\n",
    "    passed_amu_eta = loc_mu_feature[\"Muon_eta\"][loc_amuon_filter][mp_event_filter][:,0]\n",
    "    passed_mu_phi = loc_mu_feature[\"Muon_phi\"][loc_muon_filter][mp_event_filter][:,0]\n",
    "    passed_amu_phi = loc_mu_feature[\"Muon_phi\"][loc_amuon_filter][mp_event_filter][:,0]\n",
    "        \n",
    "    dimu_mass, dimu_pt, dimu_eta, _ = assemble_m_inv(muon_mass, passed_mu_pt, passed_mu_eta, passed_mu_phi, \n",
    "                                   muon_mass, passed_amu_pt,  passed_amu_eta,  passed_amu_phi)\n",
    "\n",
    "    all_data[\"dimu_mass\"].append(dimu_mass.to_numpy(allow_missing = True))\n",
    "    all_data[\"dimu_pt\"].append(dimu_pt.to_numpy(allow_missing = True))\n",
    "    all_data[\"dimu_eta\"].append(dimu_eta.to_numpy(allow_missing = True))\n",
    "    \n",
    "    all_data[\"muon_iso04\"].append(ak.firsts(loc_mu_feature[\"Muon_pfRelIso04_all\"][loc_muon_filter][mp_event_filter]).to_numpy(allow_missing = True))\n",
    "    all_data[\"amuon_iso04\"].append(ak.firsts(loc_mu_feature[\"Muon_pfRelIso04_all\"][loc_amuon_filter][mp_event_filter]).to_numpy(allow_missing = True))\n",
    "  \n",
    "    all_data[\"muon_iso03\"].append(ak.firsts(loc_mu_feature[\"Muon_pfRelIso03_all\"][loc_muon_filter][mp_event_filter]).to_numpy(allow_missing = True))\n",
    "    all_data[\"amuon_iso03\"].append(ak.firsts(loc_mu_feature[\"Muon_pfRelIso03_all\"][loc_amuon_filter][mp_event_filter]).to_numpy(allow_missing = True))\n",
    "  \n",
    "    all_data[\"muon_pt\"].append(ak.firsts(loc_mu_feature[\"Muon_pt\"][loc_muon_filter][mp_event_filter]).to_numpy(allow_missing = True))\n",
    "    all_data[\"amuon_pt\"].append(ak.firsts(loc_mu_feature[\"Muon_pt\"][loc_amuon_filter][mp_event_filter]).to_numpy(allow_missing = True))\n",
    "    all_data[\"muon_eta\"].append(ak.firsts(loc_mu_feature[\"Muon_eta\"][loc_muon_filter][mp_event_filter]).to_numpy(allow_missing = True))\n",
    "    all_data[\"amuon_eta\"].append(ak.firsts(loc_mu_feature[\"Muon_eta\"][loc_amuon_filter][mp_event_filter]).to_numpy(allow_missing = True))\n",
    "  \n",
    "    all_data[\"jet_pt\"].append(ak.firsts(loc_jet_feature[\"Jet_pt\"][mp_event_filter]).to_numpy(allow_missing = True))\n",
    "    all_data[\"jet_eta\"].append(ak.firsts(loc_jet_feature[\"Jet_eta\"][mp_event_filter]).to_numpy(allow_missing = True))\n",
    "    all_data[\"jet_mass\"].append(ak.firsts(loc_jet_feature[\"Jet_mass\"][mp_event_filter]).to_numpy(allow_missing = True))\n",
    "\n",
    "    \n",
    "    \"\"\"\n",
    "    SAME-SIGN MUONS FOR BACKGROUND ESTIMATION\n",
    "    \"\"\"\n",
    "    \n",
    "    \n",
    "    \n",
    "    # get mm system\n",
    "    \n",
    "    mm_event_filter = (np.sum(loc_muon_filter, axis = 1) > 1)\n",
    "    passed_mu_pt = loc_mu_feature[\"Muon_pt\"][loc_muon_filter][mm_event_filter][:,0]\n",
    "    passed_amu_pt = loc_mu_feature[\"Muon_pt\"][loc_muon_filter][mm_event_filter][:,1] \n",
    "    passed_mu_eta = loc_mu_feature[\"Muon_eta\"][loc_muon_filter][mm_event_filter][:,0]\n",
    "    passed_amu_eta = loc_mu_feature[\"Muon_eta\"][loc_muon_filter][mm_event_filter][:,1]\n",
    "    passed_mu_phi = loc_mu_feature[\"Muon_phi\"][loc_muon_filter][mm_event_filter][:,0]\n",
    "    passed_amu_phi = loc_mu_feature[\"Muon_phi\"][loc_muon_filter][mm_event_filter][:,1]\n",
    "        \n",
    "    dimu_mass, _, _, _ = assemble_m_inv(muon_mass, passed_mu_pt, passed_mu_eta, passed_mu_phi, \n",
    "                                   muon_mass, passed_amu_pt,  passed_amu_eta,  passed_amu_phi)\n",
    "\n",
    "    all_data[\"dimu_mass_samesign\"].append(dimu_mass.to_numpy(allow_missing = True))\n",
    "    \n",
    "    # get pp system\n",
    "    \n",
    "    pp_event_filter = (np.sum(loc_amuon_filter, axis = 1) > 1)\n",
    "    passed_mu_pt = loc_mu_feature[\"Muon_pt\"][loc_amuon_filter][pp_event_filter][:,0]\n",
    "    passed_amu_pt = loc_mu_feature[\"Muon_pt\"][loc_amuon_filter][pp_event_filter][:,1] \n",
    "    passed_mu_eta = loc_mu_feature[\"Muon_eta\"][loc_amuon_filter][pp_event_filter][:,0]\n",
    "    passed_amu_eta = loc_mu_feature[\"Muon_eta\"][loc_amuon_filter][pp_event_filter][:,1]\n",
    "    passed_mu_phi = loc_mu_feature[\"Muon_phi\"][loc_amuon_filter][pp_event_filter][:,0]\n",
    "    passed_amu_phi = loc_mu_feature[\"Muon_phi\"][loc_amuon_filter][pp_event_filter][:,1]\n",
    "        \n",
    "    dimu_mass, _, _, _ = assemble_m_inv(muon_mass, passed_mu_pt, passed_mu_eta, passed_mu_phi, \n",
    "                                   muon_mass, passed_amu_pt,  passed_amu_eta,  passed_amu_phi)\n",
    "\n",
    "    all_data[\"dimu_mass_samesign\"].append(dimu_mass.to_numpy(allow_missing = True))\n",
    "\n",
    "\n",
    "print(\"Done!\")\n",
    "    \n",
    "    "
   ]
  },
  {
   "cell_type": "code",
   "execution_count": 5,
   "id": "b4267f08-4b95-4d1e-bdaa-d2957ffcd501",
   "metadata": {
    "tags": []
   },
   "outputs": [
    {
     "name": "stdout",
     "output_type": "stream",
     "text": [
      "muon_pt (30701271,)\n",
      "amuon_pt (30701271,)\n",
      "muon_eta (30701271,)\n",
      "amuon_eta (30701271,)\n",
      "muon_iso03 (30701271,)\n",
      "amuon_iso03 (30701271,)\n",
      "muon_iso04 (30701271,)\n",
      "amuon_iso04 (30701271,)\n",
      "jet_pt (30701271,)\n",
      "jet_eta (30701271,)\n",
      "jet_mass (30701271,)\n",
      "dimu_pt (30701271,)\n",
      "dimu_eta (30701271,)\n",
      "dimu_mass (30701271,)\n",
      "dimu_mass_samesign (22822590,)\n"
     ]
    }
   ],
   "source": [
    "for key in all_data.keys():\n",
    "    all_data[key] = np.hstack(all_data[key])\n",
    "    print(key, all_data[key].shape)\n",
    "\n",
    "    "
   ]
  },
  {
   "cell_type": "code",
   "execution_count": 6,
   "id": "83929abc-ed76-423f-868d-d8b1f832e658",
   "metadata": {
    "tags": []
   },
   "outputs": [],
   "source": [
    "with open(f\"{path_to_output}/DATA\", \"wb\") as output_file:\n",
    "        pickle.dump(all_data, output_file)"
   ]
  },
  {
   "cell_type": "code",
   "execution_count": null,
   "id": "eef7352e-6bd2-4fec-ac4c-e192dd9b8b41",
   "metadata": {},
   "outputs": [],
   "source": []
  },
  {
   "cell_type": "code",
   "execution_count": null,
   "id": "90575f46-aa56-41e8-8046-0eeb9b7b185c",
   "metadata": {},
   "outputs": [],
   "source": []
  },
  {
   "cell_type": "code",
   "execution_count": null,
   "id": "a8492cb1-f37b-4417-9a63-1acf940edc7b",
   "metadata": {},
   "outputs": [],
   "source": []
  },
  {
   "cell_type": "code",
   "execution_count": null,
   "id": "52c6f894-e9dc-4008-8ebe-8530c542eefe",
   "metadata": {},
   "outputs": [],
   "source": []
  },
  {
   "cell_type": "code",
   "execution_count": null,
   "id": "9901d51e-dc92-47ae-96c0-a4e2847a5339",
   "metadata": {},
   "outputs": [],
   "source": []
  },
  {
   "cell_type": "code",
   "execution_count": null,
   "id": "b7d2881d-48e0-4f26-99e3-d1174dad4c81",
   "metadata": {},
   "outputs": [],
   "source": []
  }
 ],
 "metadata": {
  "kernelspec": {
   "display_name": "CernRoot",
   "language": "python",
   "name": "cernroot"
  },
  "language_info": {
   "codemirror_mode": {
    "name": "ipython",
    "version": 3
   },
   "file_extension": ".py",
   "mimetype": "text/x-python",
   "name": "python",
   "nbconvert_exporter": "python",
   "pygments_lexer": "ipython3",
   "version": "3.11.4"
  }
 },
 "nbformat": 4,
 "nbformat_minor": 5
}

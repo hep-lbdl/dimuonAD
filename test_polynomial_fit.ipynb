{
 "cells": [
  {
   "cell_type": "code",
   "execution_count": 1,
   "id": "a8d16973-3cc1-42e0-a3db-c37bcc3c9169",
   "metadata": {
    "tags": []
   },
   "outputs": [],
   "source": [
    "import numpy as np\n",
    "import matplotlib.pyplot as plt\n",
    "import pickle\n",
    "\n",
    "import os\n",
    "import torch\n",
    "import argparse\n",
    "import yaml\n",
    "from numba import cuda\n",
    "\n",
    "from helpers.density_estimator import DensityEstimator\n",
    "from helpers.ANODE_training_utils import train_ANODE, plot_ANODE_losses\n",
    "from helpers.data_transforms import clean_data\n",
    "from helpers.physics_functions import get_bins, get_bins_for_scan\n",
    "from helpers.stats_functions import curve_fit_m_inv, parametric_fit, calculate_chi2, build_histogram, binned_likelihood\n",
    "\n",
    "from helpers.plotting import *\n",
    "#from helpers.flow_sampling import get_mass_samples, get_flow_samples"
   ]
  },
  {
   "cell_type": "code",
   "execution_count": 12,
   "id": "46deb790-0649-497e-b021-7acbeeed4f44",
   "metadata": {
    "tags": []
   },
   "outputs": [
    {
     "name": "stdout",
     "output_type": "stream",
     "text": [
      "Using feature set ['dimu_pt', 'mu0_ip3d', 'mu1_ip3d', 'dimu_mass']\n",
      "Feature id: mix_2\n",
      "Analysis: lowmass_scan_12_20_HLT_TrkMu15_DoubleTrkMu5NoFiltersNoVtx\n"
     ]
    }
   ],
   "source": [
    "\"\"\"\n",
    "\"\n",
    "\"\n",
    "MISC VARIABLES TO LOAD IN FLOW\n",
    "window_index = 100, 40 has 2 peaks\n",
    "window_index = 29, 108 has 1 peak\n",
    "\"\n",
    "\"\n",
    "\"\"\"\n",
    "window_index = 100 \n",
    "\n",
    "\n",
    "use_inner_bands = False\n",
    "train_samesign = False\n",
    "no_train = True\n",
    "premade_bins = True\n",
    "feature_list = \"dimu_pt,mu0_ip3d,mu1_ip3d,dimu_mass\"\n",
    "feature_id = \"mix_2\"\n",
    "configs = \"CATHODE_8\"\n",
    "bootstrap = f\"window{window_index}\"\n",
    "seed = 1\n",
    "\n",
    "if use_inner_bands:bands = [\"SBL\", \"IBL\", \"SR\", \"IBH\", \"SBH\"]\n",
    "else: bands = [\"SBL\", \"SR\", \"SBH\"]\n",
    "\n",
    "if train_samesign: samesign_id = \"SS\"\n",
    "else: samesign_id = \"OS\"\n",
    "\n",
    "feature_set = [f for f in feature_list.split(\",\")]\n",
    "print(f\"Using feature set {feature_set}\")\n",
    "num_features = len(feature_set) - 1 # context doesn't count\n",
    "\n",
    "import yaml\n",
    "with open(f\"workflow_scan.yaml\", \"r\") as file:\n",
    "    workflow = yaml.safe_load(file)\n",
    "\n",
    "print(f\"Feature id: {feature_id}\")\n",
    "print(f\"Analysis:\", workflow[\"analysis_keywords\"][\"name\"])\n",
    "\n",
    "# directories\n",
    "working_dir = workflow[\"file_paths\"][\"working_dir\"]\n",
    "path_to_config_file = f\"{working_dir}/configs/{configs}.yml\"\n",
    "processed_data_dir = workflow[\"file_paths\"][\"data_storage_dir\"] +\"/projects/\"+workflow[\"analysis_keywords\"][\"name\"]+\"/processed_data\"\n",
    "flow_training_dir = workflow[\"file_paths\"][\"data_storage_dir\"] +\"/projects/\" + workflow[\"analysis_keywords\"][\"name\"]+f\"/models/{bootstrap}_{samesign_id}/{feature_id}/{configs}/seed{seed}\"\n",
    "os.makedirs(flow_training_dir, exist_ok=True)"
   ]
  },
  {
   "cell_type": "code",
   "execution_count": 13,
   "id": "fa85f2b9-3604-4e5a-8069-f5dc250324e0",
   "metadata": {
    "tags": []
   },
   "outputs": [
    {
     "data": {
      "text/plain": [
       "'\\n# computing / cuda\\ndevice = cuda.get_current_device()\\ndevice.reset()\\ntorch.set_num_threads(2)\\ndevice = torch.device( \"cuda\" if torch.cuda.is_available() else \"cpu\")\\nprint( \"Using device: \" + str( device ), flush=True)\\nseed = int(seed)\\ntorch.manual_seed(seed)\\nnp.random.seed(seed)\\n'"
      ]
     },
     "execution_count": 13,
     "metadata": {},
     "output_type": "execute_result"
    }
   ],
   "source": [
    "\"\"\"\n",
    "# computing / cuda\n",
    "device = cuda.get_current_device()\n",
    "device.reset()\n",
    "torch.set_num_threads(2)\n",
    "device = torch.device( \"cuda\" if torch.cuda.is_available() else \"cpu\")\n",
    "print( \"Using device: \" + str( device ), flush=True)\n",
    "seed = int(seed)\n",
    "torch.manual_seed(seed)\n",
    "np.random.seed(seed)\n",
    "\"\"\""
   ]
  },
  {
   "cell_type": "code",
   "execution_count": 14,
   "id": "29323ccd-aef9-4543-ab55-7db650e4d455",
   "metadata": {
    "tags": []
   },
   "outputs": [
    {
     "name": "stdout",
     "output_type": "stream",
     "text": [
      "/global/cfs/cdirs/m3246/rmastand/dimuonAD//projects/lowmass_scan_12_20_HLT_TrkMu15_DoubleTrkMu5NoFiltersNoVtx/processed_data/window100_OS_test_band_data\n",
      "SBL data has shape (49470, 4).\n",
      "SR data has shape (2256, 4).\n",
      "SBH data has shape (6166, 4).\n"
     ]
    }
   ],
   "source": [
    "\"\"\"\n",
    "\"\n",
    "\"\n",
    "LOAD IN DEDICATED TRAIN DATA FOR FLOW\n",
    "\"\n",
    "\"\n",
    "\"\"\"\n",
    "\n",
    "data_dict = {}\n",
    "print(f\"{processed_data_dir}/{bootstrap}_{samesign_id}_test_band_data\")\n",
    "\n",
    "# dataset for the bump hunt only\n",
    "with open(f\"{processed_data_dir}/{bootstrap}_{samesign_id}_test_band_data\", \"rb\") as ifile:\n",
    "    proc_dict_s_inj_test = pickle.load(ifile)\n",
    "\n",
    "for b in bands:\n",
    "    num_events_band = proc_dict_s_inj_test[b][\"dimu_mass\"].shape[0]\n",
    "    data_dict[b] = np.empty((num_events_band, num_features+1))\n",
    "    for i, feat in enumerate(feature_set):\n",
    "        data_dict[b][:,i] = proc_dict_s_inj_test[b][feat].reshape(-1,1).reshape(-1,)\n",
    "    print(\"{b} data has shape {length}.\".format(b = b, length = data_dict[b].shape))\n",
    "\n",
    "data_dict[\"SBL\"] = clean_data(data_dict[\"SBL\"])\n",
    "data_dict[\"SBH\"] = clean_data(data_dict[\"SBH\"])\n",
    "\n",
    "data_dict[\"SB\"] =  np.vstack((data_dict[\"SBL\"], data_dict[\"SBH\"]))\n",
    "if use_inner_bands:\n",
    "    data_dict[\"IB\"] =  np.vstack((data_dict[\"IBL\"], data_dict[\"IBH\"]))\n"
   ]
  },
  {
   "cell_type": "code",
   "execution_count": 15,
   "id": "63a5aadb-aba7-4a6f-a55c-405f9856af12",
   "metadata": {},
   "outputs": [
    {
     "data": {
      "image/png": "[encoded data removed]",
      "text/plain": [
       "<Figure size 504x360 with 1 Axes>"
      ]
     },
     "metadata": {
      "needs_background": "light"
     },
     "output_type": "display_data"
    }
   ],
   "source": [
    "\"\"\"\n",
    "\"\n",
    "\"\n",
    "PLOT THE MASS WINDOW\n",
    "\"\n",
    "\"\n",
    "\"\"\"\n",
    "masses_to_fit = np.hstack((data_dict[\"SBL\"][:,-1], data_dict[\"SBH\"][:,-1]))\n",
    "plot_bins_all, plot_bins_SR, plot_bins_left, plot_bins_right, plot_centers_all, plot_centers_SR, plot_centers_SB = get_bins_for_scan(processed_data_dir, window_index, scale_bins = True)\n",
    "SR_left, SR_right = plot_bins_SR[0], plot_bins_SR[-1]\n",
    "SB_left, SB_right = plot_bins_left[0], plot_bins_right[-1]\n",
    "\n",
    "\n",
    "plt.figure(figsize = (7,5))\n",
    "plt.hist(masses_to_fit, bins = plot_bins_all, lw = 2, histtype = \"step\", density = False, label = \"SB data\") \n",
    "\n",
    "plt.show()\n"
   ]
  },
  {
   "cell_type": "markdown",
   "id": "9cee5ddc-c822-4047-94c3-ce765e75be3f",
   "metadata": {},
   "source": [
    "# New code: fitting polynomial + n DCBs"
   ]
  },
  {
   "cell_type": "code",
   "execution_count": 16,
   "id": "308a7082-daac-4291-8be5-4bb0728b7dac",
   "metadata": {},
   "outputs": [],
   "source": [
    "from scipy.special import erf\n",
    "from scipy.signal import find_peaks\n",
    "from scipy.optimize import curve_fit, minimize"
   ]
  },
  {
   "cell_type": "code",
   "execution_count": 17,
   "id": "7c99afc7-5ee9-4f05-96d6-1aefcd74fb92",
   "metadata": {},
   "outputs": [],
   "source": [
    "# define asymmetric double crystal ball with 7 fit params\n",
    "\n",
    "n_dof_DCB = 7\n",
    "\n",
    "def DCB(x, mu, sigma, N, alpha_L, n_L, alpha_R, n_R):\n",
    "\n",
    "    n_L = np.abs(n_L)\n",
    "    n_R = np.abs(n_R)\n",
    "\n",
    "    A_L = ((n_L/np.abs(alpha_L))**n_L)*np.exp(-np.abs(alpha_L)**2 / 2.0)\n",
    "    A_R = ((n_R/np.abs(alpha_R))**n_R)*np.exp(-np.abs(alpha_R)**2 / 2.0)\n",
    "\n",
    "    B_L = (n_L / np.abs(alpha_L)) - np.abs(alpha_L)\n",
    "    B_R = (n_R / np.abs(alpha_R)) - np.abs(alpha_R)\n",
    "\n",
    "    # normalization factor\n",
    "    norm = sigma*((A_L*(alpha_L + B_L)**(1.0 - n_L) / (-1.0 + n_L)) +  (A_R*(alpha_R + B_R)**(1.0 - n_R) / (-1.0 + n_R)) +  np.sqrt(np.pi/2)*(erf(alpha_L/np.sqrt(2))+erf(alpha_R/np.sqrt(2))))\n",
    "\n",
    "    y = np.zeros_like(x)\n",
    "    z = (x - mu) / sigma\n",
    "    # left tail\n",
    "    y += np.where(z < -alpha_L, A_L*(B_L - z)**(-n_L), 0)\n",
    "    # right tail\n",
    "    y += np.where(z > alpha_R, A_R*(B_R + z)**(-n_R), 0)  \n",
    "    # gaussian core\n",
    "    y += np.where((z >= -alpha_L) & (z <= alpha_R), np.exp(-0.5*z**2), 0)  \n",
    "    return N*y/norm"
   ]
  },
  {
   "cell_type": "code",
   "execution_count": 18,
   "id": "c0cf73e6-6ef3-4077-9646-d95ea74d3478",
   "metadata": {
    "tags": []
   },
   "outputs": [],
   "source": [
    "# define function to fit background + DCB to mass\n",
    "def curve_fit_bkg_peaks(masses, fit_degree, SR_left, SR_right, plot_bins_left, plot_bins_right, plot_centers_SB, N_peaks,\n",
    "                        weights = None, p0_bkg=None, distance_peaks=3):\n",
    "    \n",
    "    if weights is None:\n",
    "        weights = np.ones_like(masses)\n",
    "\n",
    "    \"\"\"\n",
    "    HISTOGRAM MASSES\n",
    "    \"\"\"\n",
    "   \n",
    "    # get left SB data\n",
    "    loc_bkg_left = masses[masses < SR_left]\n",
    "    weights_left = weights[masses < SR_left]\n",
    "    plot_centers_left = 0.5*(plot_bins_left[1:]+plot_bins_left[:-1])\n",
    "    y_vals_left, y_counts_left, bins_left, bin_weights_left, bin_err_left = build_histogram(loc_bkg_left, weights_left, plot_bins_left)\n",
    "\n",
    "    # get right SB data\n",
    "    loc_bkg_right = masses[masses > SR_right]\n",
    "    weights_right = weights[masses > SR_right]\n",
    "    plot_centers_right = 0.5*(plot_bins_right[1:]+plot_bins_right[:-1])\n",
    "    y_vals_right, y_counts_right, bins_right, bin_weights_right, bin_err_right = build_histogram(loc_bkg_right, weights_right, plot_bins_right)\n",
    "\n",
    "    # concatenate the SB data\n",
    "    y_vals = np.concatenate((y_vals_left, y_vals_right))\n",
    "    errs = np.concatenate((bin_err_left, bin_err_right))\n",
    "    y_err = np.sqrt(errs**2 + 1)\n",
    "\n",
    "\n",
    "    if N_peaks == 0: #  NO PEAKS -- JUST FIT POLYNOMIAL\n",
    "        average_bin_count = np.mean(y_vals)\n",
    "\n",
    "        # initialize p0\n",
    "        p0 = [average_bin_count] + [0 for i in range(fit_degree)]\n",
    "        n_dof_fit = fit_degree + 1\n",
    "        fit_function = parametric_fit\n",
    "        \n",
    "        # set bounds for the curve_fit optimization (not really necessary for polynomial)\n",
    "        lower_bounds = [-np.inf for x in range(n_dof_fit)]\n",
    "        upper_bounds = [np.inf for x in range(n_dof_fit)]\n",
    "        \n",
    "        # fit the SB data with regular curvefit\n",
    "        popt, pcov = curve_fit(fit_function, plot_centers_SB, y_vals, p0, sigma = y_err, maxfev=20000, bounds = (lower_bounds, upper_bounds))\n",
    "\n",
    "\n",
    "    elif N_peaks > 0: # N PEAKS -- FIT POLYNOMIAL + DCB\n",
    "\n",
    "        if p0_bkg is None:\n",
    "            print(\"Must supply background guess.\")\n",
    "            return\n",
    "\n",
    "        # define the fit function in-place with N_peaks\n",
    "        def fit_function(x, *theta):\n",
    "            y = np.zeros_like(x)\n",
    "            for n_peak in range(N_peaks):\n",
    "                # sum DCBs\n",
    "                y += DCB(x, theta[n_peak*n_dof_DCB], theta[n_peak*n_dof_DCB+1], theta[n_peak*n_dof_DCB+2], \n",
    "                         theta[n_peak*n_dof_DCB+3], theta[n_peak*n_dof_DCB+4], theta[n_peak*n_dof_DCB+5], theta[n_peak*n_dof_DCB+6])\n",
    "            # polynomial \n",
    "            y += parametric_fit(x, *theta[N_peaks*n_dof_DCB:])\n",
    "            return y\n",
    "\n",
    "        # define the likelihood in-place\n",
    "        def likelihood(theta):\n",
    "             # Log poisson likelihood for the SB bins\n",
    "            log_likelihood = 0\n",
    "            fit_vals_left = fit_function(plot_centers_left, *theta)\n",
    "            fit_vals_right = fit_function(plot_centers_right, *theta)\n",
    "            \n",
    "            log_likelihood += binned_likelihood(y_vals_left, y_counts_left, bin_weights_left, fit_vals_left)\n",
    "            log_likelihood += binned_likelihood(y_vals_right, y_counts_right, bin_weights_right, fit_vals_right)\n",
    "              \n",
    "            return -2 * log_likelihood\n",
    "\n",
    "\n",
    "        # initialize p0\n",
    "        # currently, I find peaks by looking for local maxima, i.e. I look for bins that are greater than\n",
    "                # their distance_peaks neighbors. The local maxima with the N_peaks highest counts (y values)\n",
    "                # are used for the p0 initialization\n",
    "        found_peak_indices, found_peak_info = find_peaks(y_vals, distance=distance_peaks, height=0)\n",
    "        high_to_low_peaks = np.argsort(found_peak_info[\"peak_heights\"])[::-1]\n",
    "        high_to_low_peak_x = plot_centers_SB[found_peak_indices[high_to_low_peaks]]\n",
    "        high_to_low_peak_y = found_peak_info[\"peak_heights\"][high_to_low_peaks]\n",
    "\n",
    "        # p0_DCB contains mu, sigma, N, alpha_L, n_L, alpha_R, n_R\n",
    "        p0_DCB = []\n",
    "        for n_peak in range(N_peaks):\n",
    "            p0_DCB += [high_to_low_peak_x[n_peak], 0.5*distance_peaks*(plot_centers_SB[1] - plot_centers_SB[0]), high_to_low_peak_y[n_peak], 2, 2, 2, 2]\n",
    "        p0 = p0_DCB + p0_bkg\n",
    "        n_dof_fit = fit_degree + 1 + n_dof_DCB*N_peaks\n",
    "\n",
    "        # set bounds for the optimizations (the bound n > 1 is necessary. The others are just to help optimization)\n",
    "        lower_bounds = [np.min(plot_bins_left), 0, 0, 0, 1, 0, 1]*N_peaks + [-np.inf for x in range(fit_degree+1)]\n",
    "        upper_bounds = [np.max(plot_bins_right), np.max(plot_bins_right)-np.min(plot_bins_right), np.inf, np.inf, np.inf, np.inf, np.inf]*N_peaks + [np.inf for x in range(fit_degree+1)]\n",
    "        bounds =  [(lower_bounds[i], upper_bounds[i]) for i in range(len(lower_bounds))]\n",
    "       \n",
    "        # fit the SB data with regular curvefit to get an initial guess for popt\n",
    "        p0, _ = curve_fit(fit_function, plot_centers_SB, y_vals, p0, sigma = y_err, maxfev=20000, bounds = (lower_bounds, upper_bounds))\n",
    "\n",
    "        # then the SB data with scipy minimize\n",
    "        fit = minimize(likelihood, x0 = p0, method = 'Nelder-Mead', options = {'maxiter': 16000, \"disp\": True}, bounds = bounds)\n",
    "        popt = fit.x\n",
    "        pcov = None\n",
    "    \n",
    "    # get chi2 in the SB\n",
    "    chi2 = calculate_chi2(fit_function(plot_centers_SB, *popt), y_vals, y_err)\n",
    "\n",
    "    return popt, pcov, chi2, y_vals, len(y_vals) - n_dof_fit, fit_function\n",
    "\n"
   ]
  },
  {
   "cell_type": "code",
   "execution_count": 19,
   "id": "b2b025dd-2fac-4b18-b46c-0c69de67a31a",
   "metadata": {},
   "outputs": [],
   "source": [
    "# define F statistic function\n",
    "\n",
    "from scipy.stats import f\n",
    "def calculate_F_statistic_p_value(SSE_full, SSE_reduced, n_dof_full, n_dof_reduced):\n",
    "    numerator = (SSE_reduced - SSE_full) / (n_dof_reduced - n_dof_full)\n",
    "    denominator = SSE_full / n_dof_full\n",
    "    Fstar = numerator / denominator\n",
    "    print(f\"F*: {Fstar}\")\n",
    "    p_value = 1 - f.cdf(Fstar, n_dof_reduced - n_dof_full, n_dof_full)\n",
    "    print(f\"p value: {p_value} for F distribution with ({ n_dof_reduced - n_dof_full}, {n_dof_full}) DOF\")\n",
    "    return p_value"
   ]
  },
  {
   "cell_type": "code",
   "execution_count": 20,
   "id": "1437d610-ffc0-4330-b420-aaf633187a7c",
   "metadata": {
    "tags": []
   },
   "outputs": [
    {
     "name": "stderr",
     "output_type": "stream",
     "text": [
      "/tmp/ipykernel_323934/2813776268.py:22: RuntimeWarning: invalid value encountered in power\n",
      "  y += np.where(z < -alpha_L, A_L*(B_L - z)**(-n_L), 0)\n",
      "/tmp/ipykernel_323934/2813776268.py:24: RuntimeWarning: invalid value encountered in power\n",
      "  y += np.where(z > alpha_R, A_R*(B_R + z)**(-n_R), 0)\n"
     ]
    },
    {
     "name": "stdout",
     "output_type": "stream",
     "text": [
      "Optimization terminated successfully.\n",
      "         Current function value: 1096.297509\n",
      "         Iterations: 8592\n",
      "         Function evaluations: 11562\n",
      "F*: 108.63520739218848\n",
      "p value: 4.773959005888173e-15 for F distribution with (7, 21) DOF\n"
     ]
    },
    {
     "name": "stderr",
     "output_type": "stream",
     "text": [
      "/tmp/ipykernel_323934/2813776268.py:10: RuntimeWarning: overflow encountered in double_scalars\n",
      "  A_L = ((n_L/np.abs(alpha_L))**n_L)*np.exp(-np.abs(alpha_L)**2 / 2.0)\n",
      "/tmp/ipykernel_323934/2813776268.py:11: RuntimeWarning: overflow encountered in double_scalars\n",
      "  A_R = ((n_R/np.abs(alpha_R))**n_R)*np.exp(-np.abs(alpha_R)**2 / 2.0)\n",
      "/tmp/ipykernel_323934/2813776268.py:17: RuntimeWarning: invalid value encountered in double_scalars\n",
      "  norm = sigma*((A_L*(alpha_L + B_L)**(1.0 - n_L) / (-1.0 + n_L)) +  (A_R*(alpha_R + B_R)**(1.0 - n_R) / (-1.0 + n_R)) +  np.sqrt(np.pi/2)*(erf(alpha_L/np.sqrt(2))+erf(alpha_R/np.sqrt(2))))\n",
      "/tmp/ipykernel_323934/2813776268.py:22: RuntimeWarning: invalid value encountered in multiply\n",
      "  y += np.where(z < -alpha_L, A_L*(B_L - z)**(-n_L), 0)\n",
      "/tmp/ipykernel_323934/2813776268.py:24: RuntimeWarning: invalid value encountered in multiply\n",
      "  y += np.where(z > alpha_R, A_R*(B_R + z)**(-n_R), 0)\n",
      "/tmp/ipykernel_323934/2813776268.py:27: RuntimeWarning: invalid value encountered in divide\n",
      "  return N*y/norm\n",
      "/tmp/ipykernel_323934/2813776268.py:17: RuntimeWarning: divide by zero encountered in double_scalars\n",
      "  norm = sigma*((A_L*(alpha_L + B_L)**(1.0 - n_L) / (-1.0 + n_L)) +  (A_R*(alpha_R + B_R)**(1.0 - n_R) / (-1.0 + n_R)) +  np.sqrt(np.pi/2)*(erf(alpha_L/np.sqrt(2))+erf(alpha_R/np.sqrt(2))))\n"
     ]
    },
    {
     "name": "stdout",
     "output_type": "stream",
     "text": [
      "Optimization terminated successfully.\n",
      "         Current function value: 301.617626\n",
      "         Iterations: 5685\n",
      "         Function evaluations: 7511\n",
      "F*: 96.60624883939293\n",
      "p value: 9.136313927626816e-11 for F distribution with (7, 14) DOF\n"
     ]
    }
   ],
   "source": [
    "# do the fitting\n",
    "\n",
    "bkg_fit_degree = 5\n",
    "\n",
    "# fit 0 peaks (only 1 optimization)\n",
    "popt_bkg, _, chi2_bkg, _,  n_dof_bkg, fit_function_bkg = curve_fit_bkg_peaks(masses_to_fit, bkg_fit_degree, SR_left, SR_right, plot_bins_left, \n",
    "                                                      plot_bins_right, plot_centers_SB, 0)\n",
    "\n",
    "\n",
    "# fit 1 peak (2 optimizations)\n",
    "popt_reduced, _, chi2_reduced, _, n_dof_reduced, fit_function_reduced = curve_fit_bkg_peaks(masses_to_fit, bkg_fit_degree, SR_left, SR_right, plot_bins_left, \n",
    "                                                      plot_bins_right, plot_centers_SB,1, p0_bkg=list(popt_bkg))\n",
    "p_value_10 = calculate_F_statistic_p_value(chi2_reduced, chi2_bkg, n_dof_reduced, n_dof_bkg)\n",
    "\n",
    "    \n",
    "# fit 2 peak (2 optimizations)\n",
    "popt_full, _, chi2_full, _, n_dof_full, fit_function_full = curve_fit_bkg_peaks(masses_to_fit, bkg_fit_degree, SR_left, SR_right, plot_bins_left, \n",
    "                                                plot_bins_right, plot_centers_SB, 2, p0_bkg=list(popt_bkg))\n",
    "p_value_21 = calculate_F_statistic_p_value(chi2_full, chi2_reduced, n_dof_full, n_dof_reduced)\n"
   ]
  },
  {
   "cell_type": "code",
   "execution_count": 21,
   "id": "17d3603f-7f60-43d4-b6a7-e2cb3c4434b0",
   "metadata": {},
   "outputs": [
    {
     "name": "stderr",
     "output_type": "stream",
     "text": [
      "/tmp/ipykernel_323934/2813776268.py:22: RuntimeWarning: invalid value encountered in power\n",
      "  y += np.where(z < -alpha_L, A_L*(B_L - z)**(-n_L), 0)\n",
      "/tmp/ipykernel_323934/2813776268.py:24: RuntimeWarning: invalid value encountered in power\n",
      "  y += np.where(z > alpha_R, A_R*(B_R + z)**(-n_R), 0)\n"
     ]
    },
    {
     "data": {
      "image/png": "[encoded data removed]",
      "text/plain": [
       "<Figure size 504x360 with 1 Axes>"
      ]
     },
     "metadata": {
      "needs_background": "light"
     },
     "output_type": "display_data"
    }
   ],
   "source": [
    "# plot the fits\n",
    "\n",
    "\n",
    "x = np.linspace(SB_left, SB_right, 100) \n",
    "\n",
    "\n",
    "plt.figure(figsize = (7,5))\n",
    "plt.hist(masses_to_fit, bins = plot_bins_all, lw = 2, histtype = \"step\", density = False, label = \"SB data\") \n",
    "plt.plot(x, fit_function_bkg(x, *popt_bkg), lw = 3, label = f\"bkg: chi2={np.round(chi2_bkg, 1)}\", color = \"grey\")\n",
    "plt.plot(x, fit_function_reduced(x, *popt_reduced), lw = 3, linestyle = \"dashed\", label = f\"1-peak model: chi2={np.round(chi2_reduced, 1)}\", color = \"r\")\n",
    "plt.plot(x, fit_function_full(x, *popt_full), lw = 3, linestyle = \"dashed\", label = f\"2-peak model: chi2={np.round(chi2_full, 1)}\", color = \"g\")\n",
    "#plt.title(f\"p value 1/0 peaks: {np.round(p_value_10, 3)}\")\n",
    "plt.title(f\"p value 1/0 peaks: {np.round(p_value_10, 3)}\\np value 2/1 peaks: {np.round(p_value_21, 3)}\")\n",
    "\n",
    "#plt.ylim(0, 8000)\n",
    "plt.legend()\n",
    "plt.show()\n"
   ]
  },
  {
   "cell_type": "code",
   "execution_count": null,
   "id": "c812beb5-8f54-4b6d-87d8-7e4d774098a9",
   "metadata": {},
   "outputs": [],
   "source": []
  },
  {
   "cell_type": "code",
   "execution_count": null,
   "id": "9d5b1fb7-0691-47de-a42a-9563210d27ff",
   "metadata": {},
   "outputs": [],
   "source": []
  },
  {
   "cell_type": "code",
   "execution_count": null,
   "id": "6647e641-5876-45ba-a188-53f4527b9386",
   "metadata": {},
   "outputs": [],
   "source": []
  },
  {
   "cell_type": "code",
   "execution_count": null,
   "id": "8638ee93-5692-4f03-aaeb-070e33ce4d06",
   "metadata": {},
   "outputs": [],
   "source": []
  },
  {
   "cell_type": "code",
   "execution_count": null,
   "id": "ffd8a584-525e-42be-a0f7-50de457dae2b",
   "metadata": {},
   "outputs": [],
   "source": []
  },
  {
   "cell_type": "code",
   "execution_count": null,
   "id": "86e5bb9e-bb6d-478e-8789-d3b4733b5709",
   "metadata": {},
   "outputs": [],
   "source": []
  },
  {
   "cell_type": "code",
   "execution_count": null,
   "id": "b1abe472-5bfb-4454-9ff2-ab697bb381bd",
   "metadata": {},
   "outputs": [],
   "source": [
    "\"\"\"\n",
    "# to draw peakless samples from the SR, we need to first do a bkg fit in the SB\n",
    "\n",
    "#masses_SR = data_dict[\"SR\"][:,-1]\n",
    "\n",
    "\n",
    "if use_full_model: \n",
    "    color_sample = \"g\"\n",
    "    n_SR_samples = int(np.sum(full_fit_N_peaks(x, *popt_full)))\n",
    "else: \n",
    "    color_sample = \"r\"\n",
    "    n_SR_samples = int(np.sum(parametric_fit(x, *popt_reduced)))\n",
    "\n",
    "# estimate number of samples\n",
    "\n",
    "# make samples\n",
    "mass_samples = get_mass_samples(SR_left, SR_right, fit_degree_sample, n_SR_samples, popt_sample)\n",
    "\n",
    "plt.hist(mass_samples, bins = plot_bins_all, lw = 2, histtype = \"step\", density = False, label = \"samples\", color = color_sample)    \n",
    "plt.ylim(0, 1000)\n",
    "plt.xlabel(\"$m$ (rescaled)\")\n",
    "plt.ylabel(\"Counts\")\n",
    "\"\"\"\n",
    "\n"
   ]
  },
  {
   "cell_type": "code",
   "execution_count": null,
   "id": "725bb6dd-bd26-4c5f-8908-a0b7f9c24166",
   "metadata": {},
   "outputs": [],
   "source": []
  },
  {
   "cell_type": "code",
   "execution_count": null,
   "id": "62eb14c5-a0f0-4391-b791-cad6c145ef9a",
   "metadata": {
    "tags": []
   },
   "outputs": [],
   "source": []
  },
  {
   "cell_type": "code",
   "execution_count": null,
   "id": "6502e51c-fd8d-4b9d-b41f-ca6d5ebaef4d",
   "metadata": {},
   "outputs": [],
   "source": []
  },
  {
   "cell_type": "code",
   "execution_count": null,
   "id": "7d526b76-d6e6-40a1-bcaf-aab6d87a9e6c",
   "metadata": {},
   "outputs": [],
   "source": []
  },
  {
   "cell_type": "code",
   "execution_count": null,
   "id": "7590606e-f5ab-405d-9313-97cdb0d2634b",
   "metadata": {},
   "outputs": [],
   "source": []
  },
  {
   "cell_type": "code",
   "execution_count": null,
   "id": "31cca838-cec4-4830-9742-1abdac44ca0d",
   "metadata": {},
   "outputs": [],
   "source": []
  },
  {
   "cell_type": "code",
   "execution_count": null,
   "id": "fb43a78e-46c9-4a17-a971-bf3c7fc3a8d4",
   "metadata": {},
   "outputs": [],
   "source": []
  },
  {
   "cell_type": "code",
   "execution_count": null,
   "id": "0bb4cefa-2686-4e66-b795-9321a5db4086",
   "metadata": {
    "tags": []
   },
   "outputs": [],
   "source": [
    "\n",
    "\n"
   ]
  },
  {
   "cell_type": "code",
   "execution_count": null,
   "id": "6552bf28-df43-4c5f-9b57-2a5bd7c94f73",
   "metadata": {},
   "outputs": [],
   "source": []
  },
  {
   "cell_type": "code",
   "execution_count": null,
   "id": "85415264-8ded-43d4-8ad8-ce3378e3f27c",
   "metadata": {},
   "outputs": [],
   "source": []
  },
  {
   "cell_type": "code",
   "execution_count": null,
   "id": "16bc4979-805d-408f-82cf-4d731c135f46",
   "metadata": {},
   "outputs": [],
   "source": []
  },
  {
   "cell_type": "code",
   "execution_count": null,
   "id": "1b7080fa-745d-4f97-a1fb-71b9ec147cad",
   "metadata": {},
   "outputs": [],
   "source": []
  },
  {
   "cell_type": "code",
   "execution_count": null,
   "id": "81190e99-8f9f-42ca-98be-6287c6997381",
   "metadata": {},
   "outputs": [],
   "source": []
  },
  {
   "cell_type": "code",
   "execution_count": null,
   "id": "c6d9ffc5-b55b-4e25-8e11-b6d7e26f2304",
   "metadata": {},
   "outputs": [],
   "source": []
  },
  {
   "cell_type": "code",
   "execution_count": null,
   "id": "3bd4738f-073b-49b1-a3f3-c02bdafe3194",
   "metadata": {},
   "outputs": [],
   "source": []
  },
  {
   "cell_type": "code",
   "execution_count": null,
   "id": "6fad5546-cf9a-4d1d-b858-e707a9da808e",
   "metadata": {},
   "outputs": [],
   "source": []
  }
 ],
 "metadata": {
  "kernelspec": {
   "display_name": "Python 3 (ipykernel)",
   "language": "python",
   "name": "python3"
  },
  "language_info": {
   "codemirror_mode": {
    "name": "ipython",
    "version": 3
   },
   "file_extension": ".py",
   "mimetype": "text/x-python",
   "name": "python",
   "nbconvert_exporter": "python",
   "pygments_lexer": "ipython3",
   "version": "3.8.5"
  }
 },
 "nbformat": 4,
 "nbformat_minor": 5
}

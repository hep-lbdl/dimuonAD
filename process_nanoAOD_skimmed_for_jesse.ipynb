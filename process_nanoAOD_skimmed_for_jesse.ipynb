{
 "cells": [
  {
   "cell_type": "code",
   "execution_count": 1,
   "id": "06c3da6d-1d53-43f7-ba0a-c7c1ac3ad7f8",
   "metadata": {
    "tags": []
   },
   "outputs": [],
   "source": [
    "import uproot\n",
    "import awkward as ak\n",
    "import vector\n",
    "import os\n",
    "import pickle\n",
    "\n",
    "import matplotlib.pyplot as plt\n",
    "import numpy as np\n",
    "\n",
    "from helpers.physics_functions import *\n"
   ]
  },
  {
   "cell_type": "code",
   "execution_count": 2,
   "id": "d805c982-89bc-4196-a570-91a9b3d01336",
   "metadata": {},
   "outputs": [],
   "source": [
    "muon_vars = [\"Muon_pt\", \"Muon_eta\", \"Muon_phi\", \"Muon_charge\", \"Muon_pfRelIso03_all\", \"Muon_pfRelIso04_all\"]\n",
    "jet_vars = [\"Jet_pt\", \"Jet_eta\", \"Jet_phi\", \"Jet_mass\", \"Jet_nConstituents\", \"Jet_btagCSVV2\", \"Jet_btagDeepB\", \"Jet_btagDeepFlavB\", \"MET_pt\", \"MET_sumEt\"]\n",
    "\n",
    "path_to_input = f\"/pscratch/sd/r/rmastand/dimuonAD/post_root_sim/skimmed_data_2016H_30555\"\n",
    "path_to_output = f\"/pscratch/sd/r/rmastand/dimuonAD/compiled_data/skimmed_2016H_30555\"\n",
    "\n",
    "num_files = 28\n"
   ]
  },
  {
   "cell_type": "markdown",
   "id": "482d993c-4023-4f7a-be54-d0bc4635b5eb",
   "metadata": {},
   "source": [
    "- HT (sum of pt of jets with some cut) -> `HT`\n",
    "- sum of (pt of jets)^2 -> `sum_pt2_jet`\n",
    "- sum of (pt of leptons) -> `sum_pt_muon`, `sum_pt_electron`, `sum_pt_lepton`\n",
    "- sum of (pt of leptons)^2 -> `sum_pt2_muon`, `sum_pt2_electron`, `sum_pt2_lepton`\n",
    "- sum of (pt of both jets and leptons) -> `sum_pt_jet_muon`, `sum_pt_jet_electron`, `sum_pt_jet_lepton`\n",
    "- sum of (pt of both jets and leptons)^2 -> `sum_pt2_jet_muon`, `sum_pt2_jet_electron`, `sum_pt2_jet_lepton`\n",
    "- number of leptons (muons) -> `n_muon`, `n_electron`, `n_lepton`\n",
    "- number of jets -> `n_jet`\n",
    "- MET -> `MET_pt`\n",
    "- dilepton pt -> `dimu_pt`"
   ]
  },
  {
   "cell_type": "code",
   "execution_count": 3,
   "id": "53ebef19-c5bd-480c-9b1f-957ec97f994c",
   "metadata": {
    "tags": []
   },
   "outputs": [],
   "source": [
    "\n",
    "\n",
    "all_data = {\n",
    "    \"dimu_mass\":[],\n",
    "    \"dimu_mass_samesign\":[],\n",
    "    }\n"
   ]
  },
  {
   "cell_type": "code",
   "execution_count": 4,
   "id": "2facfc95-8227-4d69-9cff-7e53138b2e5f",
   "metadata": {
    "tags": []
   },
   "outputs": [
    {
     "name": "stdout",
     "output_type": "stream",
     "text": [
      "0\n"
     ]
    },
    {
     "name": "stderr",
     "output_type": "stream",
     "text": [
      "/global/homes/r/rmastand/.conda/envs/cernroot/lib/python3.11/site-packages/awkward/_nplikes/array_module.py:245: RuntimeWarning: invalid value encountered in sqrt\n",
      "  return impl(*broadcasted_args, **(kwargs or {}))\n"
     ]
    },
    {
     "name": "stdout",
     "output_type": "stream",
     "text": [
      "1\n",
      "2\n",
      "3\n",
      "4\n",
      "5\n",
      "6\n",
      "7\n",
      "8\n",
      "9\n",
      "10\n",
      "11\n",
      "12\n",
      "13\n"
     ]
    },
    {
     "name": "stderr",
     "output_type": "stream",
     "text": [
      "/global/homes/r/rmastand/.conda/envs/cernroot/lib/python3.11/site-packages/awkward/_nplikes/array_module.py:245: RuntimeWarning: divide by zero encountered in divide\n",
      "  return impl(*broadcasted_args, **(kwargs or {}))\n"
     ]
    },
    {
     "name": "stdout",
     "output_type": "stream",
     "text": [
      "14\n",
      "15\n",
      "16\n",
      "17\n",
      "18\n",
      "19\n",
      "20\n",
      "21\n",
      "22\n",
      "23\n",
      "24\n",
      "25\n",
      "26\n",
      "27\n"
     ]
    }
   ],
   "source": [
    "for i in range(num_files):\n",
    "    \n",
    "    print(i)\n",
    "    \n",
    "    # LOAD IN DATA\n",
    "    \n",
    "    with open(f\"{path_to_input}/all_mu_{i}\", \"rb\") as input_file:\n",
    "        loc_mu_feature = pickle.load(input_file)\n",
    "        \n",
    "\n",
    "        \n",
    "    # START ANALYSIS\n",
    "    \n",
    "    loc_muon_filter = loc_mu_feature[\"Muon_charge\"] == -1\n",
    "    loc_amuon_filter = loc_mu_feature[\"Muon_charge\"] == 1\n",
    "  \n",
    "    \n",
    "    # get mp system\n",
    "    \n",
    "    mp_event_filter = (np.sum(loc_muon_filter, axis = 1) > 0) & (np.sum(loc_amuon_filter, axis = 1) > 0)\n",
    "    passed_mu_pt = loc_mu_feature[\"Muon_pt\"][loc_muon_filter][mp_event_filter][:,0]\n",
    "    passed_amu_pt = loc_mu_feature[\"Muon_pt\"][loc_amuon_filter][mp_event_filter][:,0] \n",
    "    passed_mu_eta = loc_mu_feature[\"Muon_eta\"][loc_muon_filter][mp_event_filter][:,0]\n",
    "    passed_amu_eta = loc_mu_feature[\"Muon_eta\"][loc_amuon_filter][mp_event_filter][:,0]\n",
    "    passed_mu_phi = loc_mu_feature[\"Muon_phi\"][loc_muon_filter][mp_event_filter][:,0]\n",
    "    passed_amu_phi = loc_mu_feature[\"Muon_phi\"][loc_amuon_filter][mp_event_filter][:,0]\n",
    "        \n",
    "    dimu_mass, _, _, _ = assemble_m_inv(muon_mass, passed_mu_pt, passed_mu_eta, passed_mu_phi, \n",
    "                                   muon_mass, passed_amu_pt,  passed_amu_eta,  passed_amu_phi)\n",
    "\n",
    "    all_data[\"dimu_mass\"].append(dimu_mass.to_numpy(allow_missing = True))\n",
    "    \n",
    "    # get mm system\n",
    "    \n",
    "    mm_event_filter = (np.sum(loc_muon_filter, axis = 1) > 1)\n",
    "    passed_mu_pt = loc_mu_feature[\"Muon_pt\"][loc_muon_filter][mm_event_filter][:,0]\n",
    "    passed_amu_pt = loc_mu_feature[\"Muon_pt\"][loc_muon_filter][mm_event_filter][:,1] \n",
    "    passed_mu_eta = loc_mu_feature[\"Muon_eta\"][loc_muon_filter][mm_event_filter][:,0]\n",
    "    passed_amu_eta = loc_mu_feature[\"Muon_eta\"][loc_muon_filter][mm_event_filter][:,1]\n",
    "    passed_mu_phi = loc_mu_feature[\"Muon_phi\"][loc_muon_filter][mm_event_filter][:,0]\n",
    "    passed_amu_phi = loc_mu_feature[\"Muon_phi\"][loc_muon_filter][mm_event_filter][:,1]\n",
    "        \n",
    "    dimu_mass, _, _, _ = assemble_m_inv(muon_mass, passed_mu_pt, passed_mu_eta, passed_mu_phi, \n",
    "                                   muon_mass, passed_amu_pt,  passed_amu_eta,  passed_amu_phi)\n",
    "\n",
    "    all_data[\"dimu_mass_samesign\"].append(dimu_mass.to_numpy(allow_missing = True))\n",
    "    \n",
    "    # get pp system\n",
    "    \n",
    "    pp_event_filter = (np.sum(loc_amuon_filter, axis = 1) > 1)\n",
    "    passed_mu_pt = loc_mu_feature[\"Muon_pt\"][loc_amuon_filter][pp_event_filter][:,0]\n",
    "    passed_amu_pt = loc_mu_feature[\"Muon_pt\"][loc_amuon_filter][pp_event_filter][:,1] \n",
    "    passed_mu_eta = loc_mu_feature[\"Muon_eta\"][loc_amuon_filter][pp_event_filter][:,0]\n",
    "    passed_amu_eta = loc_mu_feature[\"Muon_eta\"][loc_amuon_filter][pp_event_filter][:,1]\n",
    "    passed_mu_phi = loc_mu_feature[\"Muon_phi\"][loc_amuon_filter][pp_event_filter][:,0]\n",
    "    passed_amu_phi = loc_mu_feature[\"Muon_phi\"][loc_amuon_filter][pp_event_filter][:,1]\n",
    "        \n",
    "    dimu_mass, _, _, _ = assemble_m_inv(muon_mass, passed_mu_pt, passed_mu_eta, passed_mu_phi, \n",
    "                                   muon_mass, passed_amu_pt,  passed_amu_eta,  passed_amu_phi)\n",
    "\n",
    "    all_data[\"dimu_mass_samesign\"].append(dimu_mass.to_numpy(allow_missing = True))\n",
    "\n",
    "\n",
    "    \n",
    "    \n",
    "    "
   ]
  },
  {
   "cell_type": "code",
   "execution_count": 5,
   "id": "b4267f08-4b95-4d1e-bdaa-d2957ffcd501",
   "metadata": {
    "tags": []
   },
   "outputs": [
    {
     "name": "stdout",
     "output_type": "stream",
     "text": [
      "dimu_mass (30701271,)\n",
      "dimu_mass_samesign (22822590,)\n"
     ]
    }
   ],
   "source": [
    "for key in all_data.keys():\n",
    "    all_data[key] = np.hstack(all_data[key])\n",
    "    print(key, all_data[key].shape)\n",
    "\n",
    "    "
   ]
  },
  {
   "cell_type": "code",
   "execution_count": 11,
   "id": "eef7352e-6bd2-4fec-ac4c-e192dd9b8b41",
   "metadata": {},
   "outputs": [
    {
     "data": {
      "image/png": "[encoded data removed]",
      "text/plain": [
       "<Figure size 500x300 with 1 Axes>"
      ]
     },
     "metadata": {},
     "output_type": "display_data"
    }
   ],
   "source": [
    "plt.figure(figsize = (5,3))\n",
    "    \n",
    "start = 30\n",
    "stop = 35\n",
    "\n",
    " \n",
    "plt.hist(all_data[\"dimu_mass\"], bins = np.linspace(start, stop, 60), \n",
    "        histtype = \"step\", label = \"+-\")\n",
    "\n",
    "plt.hist(all_data[\"dimu_mass_samesign\"], bins = np.linspace(start, stop, 60), \n",
    "        histtype = \"step\", label = \"++, --\")\n",
    "\n",
    "#plt.axvline(0.547)\n",
    "\n",
    "plt.xlabel(\"Dimu M [GeV]\")\n",
    "plt.ylabel(\"Counts\")\n",
    "plt.legend(loc = (1, 0))\n",
    "plt.show()"
   ]
  },
  {
   "cell_type": "code",
   "execution_count": null,
   "id": "90575f46-aa56-41e8-8046-0eeb9b7b185c",
   "metadata": {},
   "outputs": [],
   "source": []
  },
  {
   "cell_type": "code",
   "execution_count": null,
   "id": "a8492cb1-f37b-4417-9a63-1acf940edc7b",
   "metadata": {},
   "outputs": [],
   "source": []
  },
  {
   "cell_type": "code",
   "execution_count": null,
   "id": "52c6f894-e9dc-4008-8ebe-8530c542eefe",
   "metadata": {},
   "outputs": [],
   "source": []
  }
 ],
 "metadata": {
  "kernelspec": {
   "display_name": "CernRoot",
   "language": "python",
   "name": "cernroot"
  },
  "language_info": {
   "codemirror_mode": {
    "name": "ipython",
    "version": 3
   },
   "file_extension": ".py",
   "mimetype": "text/x-python",
   "name": "python",
   "nbconvert_exporter": "python",
   "pygments_lexer": "ipython3",
   "version": "3.11.4"
  }
 },
 "nbformat": 4,
 "nbformat_minor": 5
}

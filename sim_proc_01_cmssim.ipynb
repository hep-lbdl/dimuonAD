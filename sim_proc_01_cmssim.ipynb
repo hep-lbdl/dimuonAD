{
 "cells": [
  {
   "cell_type": "markdown",
   "id": "50845b24-c039-403e-9dcc-0b27e88c9437",
   "metadata": {},
   "source": [
    "# Simulation processing: step 1"
   ]
  },
  {
   "cell_type": "markdown",
   "id": "e59ab817-3103-4459-a6e0-2e534f9a1a62",
   "metadata": {},
   "source": [
    "Goal: take the simulated hadrons and create an output file for fj clustering"
   ]
  },
  {
   "cell_type": "code",
   "execution_count": 2,
   "id": "624fe33a-2e28-4a0e-8a9e-29a3b7e51028",
   "metadata": {
    "tags": []
   },
   "outputs": [],
   "source": [
    "import h5py\n",
    "import numpy as np\n",
    "import matplotlib.pyplot as plt\n",
    "import vector"
   ]
  },
  {
   "cell_type": "code",
   "execution_count": 3,
   "id": "d88348e9-0d25-40c9-94ed-d50d2340f0ee",
   "metadata": {
    "tags": []
   },
   "outputs": [],
   "source": [
    "simulation_dir = '/global/cfs/cdirs/m3246/ewitkowski/cmssim'\n",
    "\n",
    "muon_prefix = \"recoMuons_muons__RECO_obj\"\n",
    "muon_vars = [\"pfIsolationR03__sumChargedHadronPt\", \"pfIsolationR03__sumChargedHadronPt\", \"pfIsolationR03__sumNeutralHadronEt\",\n",
    "             \"pfIsolationR03__sumPhotonEt\", \"pfIsolationR03__sumPUPt\", \"pfIsolationR04__sumPhotonEt\", \"pfIsolationR04__sumPUPt\",\n",
    "             \"pfIsolationR04__sumChargedHadronPt\", \"pfIsolationR04__sumNeutralHadronEt\"]\n",
    "\n",
    "tower_prefix = \"recoPFCandidates_particleFlow__RECO_obj\"\n",
    "tower_vars = [\"eta_\", \"pdgId_\", \"phi_\", \"pt_\"]\n"
   ]
  },
  {
   "cell_type": "code",
   "execution_count": 4,
   "id": "af9c2a9e-beb0-40f4-9b47-d61bb77d58a8",
   "metadata": {
    "tags": []
   },
   "outputs": [],
   "source": [
    "muon_iso_dict = {}\n",
    "tower_dict = {}\n",
    "\n",
    "for muon_var in muon_vars:\n",
    "    muon_iso_dict[muon_var] = h5py.File(f'{simulation_dir}/{muon_prefix}_{muon_var}.h5', 'r')['values']\n",
    "\n",
    "for tower_var in tower_vars:\n",
    "    tower_dict[tower_var] = h5py.File(f'{simulation_dir}/{tower_prefix}_{tower_var}.h5', 'r')['values']\n"
   ]
  },
  {
   "cell_type": "code",
   "execution_count": 5,
   "id": "e32733a1-95f7-416a-bbe5-4d6f00cbb82a",
   "metadata": {
    "tags": []
   },
   "outputs": [],
   "source": [
    "muon_mass = 0.1056583755 # GeV\n",
    "particles_to_fastjet = [22, 130, 211, 1, 2]\n",
    "\n",
    "\n",
    "start_read, stop_read, chunk_size = 0, 10, 10\n",
    "update_freq = 1#int(chunk_size/10.0)\n",
    "\n",
    "delta_R_isos = [0.3, 0.5]\n",
    "\n"
   ]
  },
  {
   "cell_type": "code",
   "execution_count": 10,
   "id": "0f1deec9-0115-470f-a47b-5e3ed9fa240a",
   "metadata": {
    "tags": []
   },
   "outputs": [
    {
     "name": "stdout",
     "output_type": "stream",
     "text": [
      "Processing chunk from 0 to 10...\n",
      "\n",
      "On event 0...\n",
      "\n",
      "On event 1...\n",
      "{0.3: 0.028996143024414778, 0.5: 0.19552200799807906} {0.3: 0.1277649961411953, 0.5: 0.26710770558565855}\n",
      "\n",
      "On event 2...\n",
      "{0.3: 0.2059225649572909, 0.5: 0.5012140003964305} {0.3: 0.10496728401631117, 0.5: 0.20582806458696723}\n",
      "\n",
      "On event 3...\n",
      "{0.3: 0.16212590923532844, 0.5: 0.7676064022816718} {0.3: 0.28338183276355267, 0.5: 1.4304003743454814}\n",
      "\n",
      "On event 4...\n",
      "\n",
      "On event 5...\n",
      "\n",
      "On event 6...\n",
      "{0.3: 0.0907386657781899, 0.5: 0.32964917831122875} {0.3: 0.17405775468796492, 0.5: 0.2846010704524815}\n",
      "\n",
      "On event 7...\n",
      "{0.3: 0.20429018326103687, 0.5: 0.5380737148225307} {0.3: 0.10609580762684345, 0.5: 0.23404359281994402}\n",
      "\n",
      "On event 8...\n",
      "\n",
      "On event 9...\n",
      "{0.3: 0.32637605257332325, 0.5: 1.3228085841983557} {0.3: 0.4270288459956646, 0.5: 1.152339680120349}\n",
      "Done processing chunk.\n",
      "4 events without 2 muons\n",
      "\n",
      "\n",
      "Done completely!\n"
     ]
    }
   ],
   "source": [
    "current_chunk_start = start_read\n",
    "\n",
    "while current_chunk_start < stop_read:\n",
    "    \n",
    "    current_chunk_stop = current_chunk_start + chunk_size\n",
    "    print(f\"Processing chunk from {current_chunk_start} to {current_chunk_stop}...\")\n",
    "\n",
    "    outfile_dimuons = f\"/global/cfs/cdirs/m3246/rmastand/dimuonAD/data_post_fj/muons_only_{current_chunk_start}_{current_chunk_stop}_cmssim.dat\"\n",
    "    outfile_dimuons_isolation = f\"/global/cfs/cdirs/m3246/rmastand/dimuonAD/data_post_fj/muons_iso_{current_chunk_start}_{current_chunk_stop}_cmssim.dat\"\n",
    "    outfile_hadrons = f\"/global/cfs/cdirs/m3246/rmastand/dimuonAD/data_pre_fj/hadrons_only_{current_chunk_start}_{current_chunk_stop}_cmssim.dat\"\n",
    "\n",
    "    ofile_muons = open(outfile_dimuons, \"w\")\n",
    "    ofile_iso = open(outfile_dimuons_isolation, \"w\")\n",
    "    ofile_hadrons = open(outfile_hadrons, \"w\")\n",
    "    num_rejects = 0\n",
    "   \n",
    "    for event in range(current_chunk_start, current_chunk_stop):\n",
    "        print()\n",
    "        \n",
    "        loc_tower, loc_muon_iso = {}, {}\n",
    "\n",
    "        if event % update_freq == 0:\n",
    "            print(f\"On event {event}...\")\n",
    "\n",
    "        # get the nonmuons\n",
    "        loc_particle_exists = (tower_dict[\"pt_\"][event] != 0)\n",
    "        \n",
    "        for tower_var in tower_vars:\n",
    "            loc_tower[tower_var] = tower_dict[tower_var][event][loc_particle_exists]\n",
    "        for muon_var in muon_vars:\n",
    "            \n",
    "            nonzero_inds = muon_iso_dict[muon_var][event] != 0\n",
    "            \n",
    "            \n",
    "        # check that there is at least one muon and one antimuon\n",
    "        num_muons = np.sum(loc_tower[\"pdgId_\"]==13)\n",
    "        num_amuons = np.sum(loc_tower[\"pdgId_\"]==-13)\n",
    "        \n",
    "        if (num_muons < 1) or (num_amuons < 1):\n",
    "            num_rejects += 1\n",
    "            \n",
    "        else:\n",
    "            # write out the event\n",
    "            \n",
    "            # find the hardest muon / antimuon\n",
    "            loc_mu_pt = loc_tower[\"pt_\"][loc_tower[\"pdgId_\"]==13]\n",
    "            max_muon_pt = np.max(loc_mu_pt)\n",
    "            hardest_muon_id = np.where(loc_tower[\"pt_\"]==max_muon_pt)[0][0]\n",
    "            \n",
    "            loc_amu_pt = loc_tower[\"pt_\"][loc_tower[\"pdgId_\"]==-13]\n",
    "            max_amuon_pt = np.max(loc_amu_pt)\n",
    "            hardest_amuon_id = np.where(loc_tower[\"pt_\"]==max_amuon_pt)[0][0]\n",
    "      \n",
    "            \n",
    "            # sanity check -- just in case there are 2 particles with the same pt...\n",
    "            if (loc_tower[\"pdgId_\"][hardest_muon_id] != 13) or (loc_tower[\"pdgId_\"][hardest_amuon_id] != -13):\n",
    "                print(\"Something very wrong\")\n",
    "                exit()\n",
    "            \n",
    "            \n",
    "            ofile_muons.write(\"#BEGIN\\n\")\n",
    "            ofile_iso.write(\"#BEGIN\\n\")\n",
    "            ofile_hadrons.write(\"#BEGIN\\n\")\n",
    "\n",
    "            # get the muons\n",
    "            # construct the muon 4-vector\n",
    "            mu_1 = vector.obj(pt = loc_tower[\"pt_\"][hardest_muon_id], eta = loc_tower[\"eta_\"][hardest_muon_id], phi = loc_tower[\"phi_\"][hardest_muon_id], M = muon_mass)\n",
    "            mu_2 = vector.obj(pt = loc_tower[\"pt_\"][hardest_amuon_id], eta = loc_tower[\"eta_\"][hardest_amuon_id], phi = loc_tower[\"phi_\"][hardest_amuon_id], M = muon_mass)\n",
    "            dimu_system = mu_1 + mu_2\n",
    "\n",
    "            ofile_muons.write(f\"{dimu_system.pt} {dimu_system.eta} {dimu_system.phi} {dimu_system.M}\\n\")\n",
    "\n",
    "            # get the hadrons and calculate muon isolation\n",
    "            isolations_mu = {R:0 for R in delta_R_isos}\n",
    "            isolations_amu = {R:0 for R in delta_R_isos}\n",
    "\n",
    "            for particle_i in range(len(loc_tower[\"pt_\"])):\n",
    "                if np.abs(loc_tower[\"pdgId_\"][particle_i]) in particles_to_fastjet:\n",
    "                                        \n",
    "                    # write out the particle\n",
    "                    particle_vector = vector.obj(pt = loc_tower[\"pt_\"][particle_i], eta = loc_tower[\"eta_\"][particle_i], phi = loc_tower[\"phi_\"][particle_i], M = 0)\n",
    "                    ofile_hadrons.write(f\"{particle_vector.px} {particle_vector.py} {particle_vector.pz} {particle_vector.E}\\n\")\n",
    "                    \n",
    "                    # calculate the isolation contribution to the hardest (a)muon\n",
    "                    delta_R_mu = mu_1.deltaR(particle_vector)\n",
    "                    delta_R_amu = mu_2.deltaR(particle_vector)\n",
    "                    \n",
    "                    for R in delta_R_isos:\n",
    "                        if delta_R_mu <= R:\n",
    "                            isolations_mu[R] += (particle_vector.pt)/(mu_1.pt)\n",
    "                        if delta_R_amu <= R:\n",
    "                            isolations_amu[R] += (particle_vector.pt)/(mu_2.pt)\n",
    "                            \n",
    "            iso_muons_line = \"\"\n",
    "            for R in delta_R_isos:\n",
    "                iso_muons_line += str(isolations_mu[R]) + \" \" \n",
    "            for R in delta_R_isos:\n",
    "                iso_muons_line += str(isolations_amu[R]) + \" \" \n",
    "                   \n",
    "            ofile_iso.write(f\"{iso_muons_line}\\n\")\n",
    "\n",
    "            ofile_muons.write(\"#END\\n\")\n",
    "            ofile_iso.write(\"#END\\n\")\n",
    "            ofile_hadrons.write(\"#END\\n\")\n",
    "\n",
    "\n",
    "    ofile_muons.close()  \n",
    "    ofile_iso.close() \n",
    "    ofile_hadrons.close()\n",
    "    \n",
    "    print(f\"Done processing chunk.\")\n",
    "    print(f\"{num_rejects} events without 2 muons\")\n",
    "    print(\"\\n\")\n",
    "    \n",
    "    current_chunk_start += chunk_size\n",
    "\n",
    "print(\"Done completely!\")\n",
    "\n",
    "\n",
    "\n",
    "                                         "
   ]
  },
  {
   "cell_type": "code",
   "execution_count": null,
   "id": "2b16fdd3-77e9-45f8-b9c7-7444cb2b355e",
   "metadata": {},
   "outputs": [],
   "source": [
    "\n",
    "    "
   ]
  },
  {
   "cell_type": "code",
   "execution_count": null,
   "id": "5d646423-eb76-48f7-bbec-6520671f578e",
   "metadata": {},
   "outputs": [],
   "source": []
  },
  {
   "cell_type": "code",
   "execution_count": null,
   "id": "eb8aa94b-5495-470a-a72f-3a58f0cc940f",
   "metadata": {},
   "outputs": [],
   "source": []
  },
  {
   "cell_type": "code",
   "execution_count": null,
   "id": "7e6ba2e8-f415-49fc-a7a4-173d4aa4b424",
   "metadata": {},
   "outputs": [],
   "source": []
  },
  {
   "cell_type": "code",
   "execution_count": null,
   "id": "e9eb9da6-7350-4162-a341-46b7c4bc8ff0",
   "metadata": {},
   "outputs": [],
   "source": []
  },
  {
   "cell_type": "code",
   "execution_count": null,
   "id": "e5acb07f-6aab-46fc-8554-055b0defa968",
   "metadata": {},
   "outputs": [],
   "source": []
  },
  {
   "cell_type": "code",
   "execution_count": null,
   "id": "fbab6de4-56b7-4d83-bf9f-78a11a09f159",
   "metadata": {},
   "outputs": [],
   "source": []
  }
 ],
 "metadata": {
  "kernelspec": {
   "display_name": "Python 3 (ipykernel)",
   "language": "python",
   "name": "python3"
  },
  "language_info": {
   "codemirror_mode": {
    "name": "ipython",
    "version": 3
   },
   "file_extension": ".py",
   "mimetype": "text/x-python",
   "name": "python",
   "nbconvert_exporter": "python",
   "pygments_lexer": "ipython3",
   "version": "3.8.5"
  }
 },
 "nbformat": 4,
 "nbformat_minor": 5
}

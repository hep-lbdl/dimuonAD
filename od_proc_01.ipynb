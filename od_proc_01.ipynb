{
 "cells": [
  {
   "cell_type": "markdown",
   "id": "16e1dfda-a60f-450d-8fad-147f94dd888b",
   "metadata": {},
   "source": [
    "# Open data processing: step 1/n"
   ]
  },
  {
   "cell_type": "markdown",
   "id": "7f6b8f8a-b34c-4e50-ba2c-3f7bd96fad3f",
   "metadata": {},
   "source": [
    "Take Ed's processed data files and split the PFCs by their ids.\n",
    "\n",
    "PDG codes (from https://cms-opendata-workshop.github.io/workshop2023-lesson-advobjects/02-particleflow/index.html):\n",
    "\n",
    "- 11, 13 = electron, muon\n",
    "- 22 = photon\n",
    "- 130 = neutral hadron\n",
    "- 211 = charged hadron\n",
    "- 1 = hadronic particle reconstructed in the forward calorimeters\n",
    "- 2 = electromagnetic particle reconstructed in the forward calorimeters\n",
    "\n",
    "We will split as:\n",
    "- Muons (2 / event)\n",
    "- Hadrons + photons, to be routed to fastjet for clustering\n",
    "- Electrons, to trash"
   ]
  },
  {
   "cell_type": "code",
   "execution_count": 1,
   "id": "907de108-4adb-42be-9177-c88f8d68ed2a",
   "metadata": {
    "tags": []
   },
   "outputs": [],
   "source": [
    "import h5py\n",
    "import numpy as np\n",
    "import matplotlib.pyplot as plt\n",
    "import vector"
   ]
  },
  {
   "cell_type": "code",
   "execution_count": 2,
   "id": "785cedb0-21a1-4787-a47b-de0ffb0cf1ff",
   "metadata": {
    "tags": []
   },
   "outputs": [],
   "source": [
    "selected_data_dir = '/global/cfs/cdirs/m3246/ewitkowski/selected_data'\n",
    "selected_pT = h5py.File(f'{selected_data_dir}/recoPFCandidates_particleFlow__RECO_obj_pt_.h5', 'r')['values']\n",
    "selected_eta = h5py.File(f'{selected_data_dir}/recoPFCandidates_particleFlow__RECO_obj_eta_.h5', 'r')['values']\n",
    "selected_phi = h5py.File(f'{selected_data_dir}/recoPFCandidates_particleFlow__RECO_obj_phi_.h5', 'r')['values']\n",
    "selected_pdgId = h5py.File(f'{selected_data_dir}/recoPFCandidates_particleFlow__RECO_obj_pdgId_.h5', 'r')['values']"
   ]
  },
  {
   "cell_type": "code",
   "execution_count": 3,
   "id": "8fcbb343-0b8a-4bf5-98b3-e669bde0e6e2",
   "metadata": {
    "tags": []
   },
   "outputs": [],
   "source": [
    "outfile_dimuons = \"/global/u1/r/rmastand/dimuonAD/data_post_fj/muons_only_od.dat\"\n",
    "outfile_hadrons = \"/global/u1/r/rmastand/dimuonAD/data_pre_fj/hadrons_only_od.dat\""
   ]
  },
  {
   "cell_type": "markdown",
   "id": "d5597a3c-7905-4cdf-81d3-e8c8e8c157e6",
   "metadata": {},
   "source": [
    "Muons file:  pt eta phi M\n",
    "\n",
    "Hadrons file: px py pz E"
   ]
  },
  {
   "cell_type": "code",
   "execution_count": 4,
   "id": "386b0771-56d6-425e-8ee0-eb86118a0f64",
   "metadata": {
    "tags": []
   },
   "outputs": [
    {
     "name": "stdout",
     "output_type": "stream",
     "text": [
      "On event 0 of 1000...\n",
      "On event 100 of 1000...\n",
      "On event 200 of 1000...\n",
      "On event 300 of 1000...\n",
      "On event 400 of 1000...\n",
      "On event 500 of 1000...\n",
      "On event 600 of 1000...\n",
      "On event 700 of 1000...\n",
      "On event 800 of 1000...\n",
      "On event 900 of 1000...\n",
      "Done!\n"
     ]
    }
   ],
   "source": [
    "n_events = 1000\n",
    "\n",
    "muon_mass = 0.1056583755 # GeV\n",
    "particles_to_fastjet = [22, 130, 211, 1, 2]\n",
    "\n",
    "ofile_muons = open(outfile_dimuons, \"w\")\n",
    "ofile_hadrons = open(outfile_hadrons, \"w\")\n",
    "   \n",
    "for event in range(n_events):\n",
    "    \n",
    "    if event % 100 == 0:\n",
    "        print(f\"On event {event} of {n_events}...\")\n",
    "        \n",
    "    # get the nonzero entries\n",
    "    loc_pid = selected_pdgId[event]\n",
    "    loc_pt = selected_pT[event][loc_pid != 0]\n",
    "    loc_eta = selected_eta[event][loc_pid != 0]\n",
    "    loc_phi = selected_phi[event][loc_pid != 0]\n",
    "    loc_pid = loc_pid[loc_pid != 0]    \n",
    "    num_particles = len(loc_pid)\n",
    "    #print(f\"Event {event} has {num_particles} particles.\")\n",
    "    \n",
    "    ofile_muons.write(\"#BEGIN\\n\")\n",
    "    ofile_hadrons.write(\"#BEGIN\\n\")\n",
    "\n",
    "    # get the muons\n",
    "    muon_ids = np.where(np.abs(loc_pid) == 13)[0]\n",
    "    # construct the muon 4-vector\n",
    "    mu_1 = vector.obj(pt = loc_pt[muon_ids[0]], eta = loc_eta[muon_ids[0]], phi = loc_phi[muon_ids[0]], M = muon_mass)\n",
    "    mu_2 = vector.obj(pt = loc_pt[muon_ids[1]], eta = loc_eta[muon_ids[1]], phi = loc_phi[muon_ids[1]], M = muon_mass)\n",
    "    dimu_system = mu_1 + mu_2\n",
    "    \n",
    "    ofile_muons.write(f\"{dimu_system.pt} {dimu_system.eta} {dimu_system.phi} {dimu_system.M}\\n\")\n",
    "\n",
    "    # get the hadrons\n",
    "    for particle_i in range(len(loc_pt)):\n",
    "        if np.abs(loc_pid[particle_i]) in particles_to_fastjet:\n",
    "            particle_vector = vector.obj(pt = loc_pt[particle_i], eta = loc_eta[particle_i], phi = loc_phi[particle_i], M = 0)\n",
    "            ofile_hadrons.write(f\"{particle_vector.px} {particle_vector.py} {particle_vector.pz} {particle_vector.E}\\n\")\n",
    "    \n",
    "    ofile_muons.write(\"#END\\n\")\n",
    "    ofile_hadrons.write(\"#END\\n\")\n",
    "\n",
    "    \n",
    "ofile_muons.close()  \n",
    "ofile_hadrons.close()\n",
    "     \n",
    "print(\"Done!\")\n",
    "                                         "
   ]
  },
  {
   "cell_type": "code",
   "execution_count": null,
   "id": "14cce74a-ebb2-4dfe-8b91-1463f1690241",
   "metadata": {},
   "outputs": [],
   "source": []
  },
  {
   "cell_type": "code",
   "execution_count": null,
   "id": "4eec4e79-7adf-4f4a-ac16-cc3e484b740d",
   "metadata": {},
   "outputs": [],
   "source": []
  },
  {
   "cell_type": "code",
   "execution_count": null,
   "id": "65b3604f-e97e-4ba1-a9b8-380bcf0d32dd",
   "metadata": {},
   "outputs": [],
   "source": []
  },
  {
   "cell_type": "code",
   "execution_count": null,
   "id": "b8f76fb8-ab57-420c-89fc-35ce39515bc5",
   "metadata": {},
   "outputs": [],
   "source": []
  },
  {
   "cell_type": "code",
   "execution_count": null,
   "id": "8c7e17d9-0e0c-4b44-a867-0b5642bc8711",
   "metadata": {},
   "outputs": [],
   "source": []
  },
  {
   "cell_type": "code",
   "execution_count": null,
   "id": "ef416b41-94e5-41d2-b89c-bb749a340bf7",
   "metadata": {},
   "outputs": [],
   "source": []
  },
  {
   "cell_type": "code",
   "execution_count": null,
   "id": "bad959b5-d7b7-497a-af37-e906f447918f",
   "metadata": {},
   "outputs": [],
   "source": []
  }
 ],
 "metadata": {
  "kernelspec": {
   "display_name": "Python 3 (ipykernel)",
   "language": "python",
   "name": "python3"
  },
  "language_info": {
   "codemirror_mode": {
    "name": "ipython",
    "version": 3
   },
   "file_extension": ".py",
   "mimetype": "text/x-python",
   "name": "python",
   "nbconvert_exporter": "python",
   "pygments_lexer": "ipython3",
   "version": "3.8.5"
  }
 },
 "nbformat": 4,
 "nbformat_minor": 5
}

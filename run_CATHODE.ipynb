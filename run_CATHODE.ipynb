{
 "cells": [
  {
   "cell_type": "markdown",
   "id": "ddb775fe-c489-49a3-a5be-b0d57a5b3b89",
   "metadata": {},
   "source": [
    "On perlmutter: use kernel pytorch-1.13.1"
   ]
  },
  {
   "cell_type": "code",
   "execution_count": 1,
   "id": "fb2d3ec4-11be-455b-bd30-52614bda6634",
   "metadata": {
    "tags": []
   },
   "outputs": [],
   "source": [
    "import numpy as np\n",
    "import matplotlib.pyplot as plt\n",
    "import os\n",
    "import torch\n",
    "\n",
    "from numba import cuda \n",
    "\n",
    "from helpers.make_flow import *\n",
    "from helpers.train_flow import *\n",
    "\n",
    "seed = 8"
   ]
  },
  {
   "cell_type": "code",
   "execution_count": 2,
   "id": "2975a2b1-68c7-426a-abac-8f741f478a40",
   "metadata": {
    "tags": []
   },
   "outputs": [
    {
     "name": "stdout",
     "output_type": "stream",
     "text": [
      "Device: cuda\n"
     ]
    }
   ],
   "source": [
    "# computing\n",
    "device = cuda.get_current_device()\n",
    "device.reset()\n",
    "device = torch.device( \"cuda\" if torch.cuda.is_available() else \"cpu\")\n",
    "print(f\"Device: {device}\")"
   ]
  },
  {
   "cell_type": "code",
   "execution_count": null,
   "id": "696c9b22-5b46-4a78-98f5-04366163df7e",
   "metadata": {
    "tags": []
   },
   "outputs": [],
   "source": [
    "# load in the data\n",
    "\n",
    "SB_data = np.load(f\"processed_data/od_SB.npy\")\n",
    "\n",
    "print(f\"SB data has shape {SB_data.shape}.\")"
   ]
  },
  {
   "cell_type": "code",
   "execution_count": null,
   "id": "0153764c-6258-43d5-8c4f-004e0b76ebf6",
   "metadata": {
    "tags": []
   },
   "outputs": [],
   "source": [
    "\n",
    "# train val test split\n",
    "from sklearn.model_selection import train_test_split\n",
    "\n",
    "SB_data_train, SB_data_val = train_test_split(SB_data, test_size=0.2, random_state=42)\n",
    "\n",
    "print(f\"SB train data has shape {SB_data_train.shape}.\")\n",
    "print(f\"SB val data has shape {SB_data_val.shape}.\")"
   ]
  },
  {
   "cell_type": "code",
   "execution_count": 3,
   "id": "404d8e3c-735b-4ad7-94f1-84aa7d40f9c8",
   "metadata": {},
   "outputs": [],
   "source": [
    "# Create the flow\n",
    "\n",
    "# This will be the upper subdirectory in saved_models/\n",
    "\n",
    "num_layers = 1\n",
    "num_hidden_features = 128\n",
    "num_blocks = 15\n",
    "flow_training_id = f\"Masked_PRQ_AR_{num_layers}layers_{num_blocks}hidden_{num_blocks}blocks_{seed}seed\"\n",
    "\n",
    "flow_training_dir = os.path.join(\"models\", f\"{flow_training_id}/\")\n",
    "\n",
    "hyperparameters_dict = {\"n_epochs\":100,\n",
    "                          \"batch_size\": 128,\n",
    "                          \"lr\": 0.0001,\n",
    "                          \"weight_decay\": 0.0001}\n",
    "\n",
    "\n",
    "test_flow = make_masked_AR_flow(9, num_layers, num_hidden_features, num_blocks)\n",
    "\n",
    "epochs, losses, losses_val, best_epoch = train_flow(test_flow, hyperparameters_dict, device, train_dataset, val_dataset, flow_training_dir, seed = seed)\n"
   ]
  },
  {
   "cell_type": "code",
   "execution_count": null,
   "id": "aee5d75b-7538-4a83-9ff1-a1ce20a0f167",
   "metadata": {},
   "outputs": [],
   "source": []
  }
 ],
 "metadata": {
  "kernelspec": {
   "display_name": "Python 3",
   "language": "python",
   "name": "python3"
  },
  "language_info": {
   "codemirror_mode": {
    "name": "ipython",
    "version": 3
   },
   "file_extension": ".py",
   "mimetype": "text/x-python",
   "name": "python",
   "nbconvert_exporter": "python",
   "pygments_lexer": "ipython3",
   "version": "3.6.8"
  }
 },
 "nbformat": 4,
 "nbformat_minor": 5
}

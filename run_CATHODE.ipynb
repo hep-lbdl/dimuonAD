{
 "cells": [
  {
   "cell_type": "markdown",
   "id": "ddb775fe-c489-49a3-a5be-b0d57a5b3b89",
   "metadata": {},
   "source": [
    "On perlmutter: use kernel pytorch-1.13.1"
   ]
  },
  {
   "cell_type": "code",
   "execution_count": null,
   "id": "6f83de9b-60cf-4e6d-b9c9-051de67efb6e",
   "metadata": {
    "tags": []
   },
   "outputs": [],
   "source": [
    "!pip install nflows"
   ]
  },
  {
   "cell_type": "code",
   "execution_count": 1,
   "id": "fb2d3ec4-11be-455b-bd30-52614bda6634",
   "metadata": {
    "tags": []
   },
   "outputs": [],
   "source": [
    "import numpy as np\n",
    "import matplotlib.pyplot as plt\n",
    "import os\n",
    "import torch\n",
    "\n",
    "from numba import cuda \n",
    "\n",
    "from helpers.make_flow import *\n",
    "from helpers.train_flow import *\n",
    "\n",
    "seed = 8"
   ]
  },
  {
   "cell_type": "code",
   "execution_count": 2,
   "id": "2975a2b1-68c7-426a-abac-8f741f478a40",
   "metadata": {
    "tags": []
   },
   "outputs": [
    {
     "name": "stdout",
     "output_type": "stream",
     "text": [
      "Using device: cuda\n"
     ]
    }
   ],
   "source": [
    "# computing\n",
    "os.environ[\"CUDA_VISIBLE_DEVICES\"]=\"0\"\n",
    "\n",
    "device = cuda.get_current_device()\n",
    "device.reset()\n",
    "\n",
    "# set the number of threads that pytorch will use\n",
    "torch.set_num_threads(2)\n",
    "\n",
    "# set gpu device\n",
    "device = torch.device( \"cuda\" if torch.cuda.is_available() else \"cpu\")\n",
    "print( \"Using device: \" + str( device ), flush=True)"
   ]
  },
  {
   "cell_type": "code",
   "execution_count": 3,
   "id": "696c9b22-5b46-4a78-98f5-04366163df7e",
   "metadata": {
    "tags": []
   },
   "outputs": [
    {
     "name": "stdout",
     "output_type": "stream",
     "text": [
      "SB data has shape (71, 9).\n"
     ]
    }
   ],
   "source": [
    "# load in the data\n",
    "\n",
    "SB_data = np.load(f\"processed_data/od_SB.npy\")\n",
    "\n",
    "print(f\"SB data has shape {SB_data.shape}.\")"
   ]
  },
  {
   "cell_type": "code",
   "execution_count": 4,
   "id": "0153764c-6258-43d5-8c4f-004e0b76ebf6",
   "metadata": {
    "tags": []
   },
   "outputs": [
    {
     "name": "stdout",
     "output_type": "stream",
     "text": [
      "SB train data has shape (56, 9).\n",
      "SB val data has shape (15, 9).\n"
     ]
    }
   ],
   "source": [
    "# train val test split\n",
    "from sklearn.model_selection import train_test_split\n",
    "\n",
    "SB_data_train, SB_data_val = train_test_split(SB_data, test_size=0.2, random_state=42)\n",
    "\n",
    "print(f\"SB train data has shape {SB_data_train.shape}.\")\n",
    "print(f\"SB val data has shape {SB_data_val.shape}.\")"
   ]
  },
  {
   "cell_type": "code",
   "execution_count": null,
   "id": "404d8e3c-735b-4ad7-94f1-84aa7d40f9c8",
   "metadata": {
    "tags": []
   },
   "outputs": [
    {
     "name": "stdout",
     "output_type": "stream",
     "text": [
      "Training flow for 100 epochs ...\n",
      "\n"
     ]
    },
    {
     "name": "stderr",
     "output_type": "stream",
     "text": [
      "  4%|▍         | 4/100 [00:02<01:11,  1.33it/s]"
     ]
    }
   ],
   "source": [
    "# Create the flow\n",
    "\n",
    "# This will be the upper subdirectory in saved_models/\n",
    "\n",
    "num_layers = 1\n",
    "num_hidden_features = 128\n",
    "num_blocks = 15\n",
    "flow_training_id = f\"Masked_PRQ_AR_{num_layers}layers_{num_blocks}hidden_{num_blocks}blocks_{seed}seed\"\n",
    "\n",
    "flow_training_dir = os.path.join(\"models\", f\"{flow_training_id}/\")\n",
    "os.makedirs(flow_training_dir, exist_ok=True)\n",
    "\n",
    "hyperparameters_dict = {\"n_epochs\":100,\n",
    "                          \"batch_size\": 128,\n",
    "                          \"lr\": 0.0001,\n",
    "                          \"weight_decay\": 0.0001}\n",
    "\n",
    "\n",
    "test_flow = make_masked_AR_flow(SB_data_train.shape[1]-1, num_layers, num_hidden_features, num_blocks)\n",
    "\n",
    "epochs, losses, losses_val, best_epoch = train_flow(test_flow, hyperparameters_dict, device, SB_data_train, SB_data_val, flow_training_dir, seed = seed)\n"
   ]
  },
  {
   "cell_type": "code",
   "execution_count": 6,
   "id": "aee5d75b-7538-4a83-9ff1-a1ce20a0f167",
   "metadata": {
    "tags": []
   },
   "outputs": [
    {
     "data": {
      "image/png": "[encoded data removed]",
      "text/plain": [
       "<Figure size 640x480 with 1 Axes>"
      ]
     },
     "metadata": {},
     "output_type": "display_data"
    },
    {
     "name": "stdout",
     "output_type": "stream",
     "text": [
      "-1\n"
     ]
    }
   ],
   "source": [
    "plt.figure()\n",
    "plt.plot(epochs, losses, label = \"loss\")\n",
    "plt.plot(epochs, losses_val, label = \"val loss\")\n",
    "plt.legend()\n",
    "plt.show()\n",
    "\n",
    "print(best_epoch)"
   ]
  },
  {
   "cell_type": "code",
   "execution_count": null,
   "id": "29b9e69e",
   "metadata": {},
   "outputs": [],
   "source": []
  },
  {
   "cell_type": "code",
   "execution_count": null,
   "id": "50fcbcf3",
   "metadata": {},
   "outputs": [],
   "source": []
  },
  {
   "cell_type": "code",
   "execution_count": null,
   "id": "c14f6eda",
   "metadata": {},
   "outputs": [],
   "source": []
  },
  {
   "cell_type": "code",
   "execution_count": null,
   "id": "380a9730",
   "metadata": {},
   "outputs": [],
   "source": []
  },
  {
   "cell_type": "code",
   "execution_count": null,
   "id": "6210cbe3",
   "metadata": {},
   "outputs": [],
   "source": []
  }
 ],
 "metadata": {
  "kernelspec": {
   "display_name": "pytorch-1.13.1",
   "language": "python",
   "name": "pytorch-1.13.1"
  },
  "language_info": {
   "codemirror_mode": {
    "name": "ipython",
    "version": 3
   },
   "file_extension": ".py",
   "mimetype": "text/x-python",
   "name": "python",
   "nbconvert_exporter": "python",
   "pygments_lexer": "ipython3",
   "version": "3.9.15"
  }
 },
 "nbformat": 4,
 "nbformat_minor": 5
}

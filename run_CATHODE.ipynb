{
 "cells": [
  {
   "cell_type": "markdown",
   "id": "ddb775fe-c489-49a3-a5be-b0d57a5b3b89",
   "metadata": {},
   "source": [
    "On perlmutter: use kernel pytorch-1.13.1"
   ]
  },
  {
   "cell_type": "code",
   "execution_count": 1,
   "id": "fb2d3ec4-11be-455b-bd30-52614bda6634",
   "metadata": {
    "tags": []
   },
   "outputs": [
    {
     "ename": "ModuleNotFoundError",
     "evalue": "No module named 'nflows'",
     "output_type": "error",
     "traceback": [
      "\u001b[0;31m---------------------------------------------------------------------------\u001b[0m",
      "\u001b[0;31mModuleNotFoundError\u001b[0m                       Traceback (most recent call last)",
      "Cell \u001b[0;32mIn[1], line 8\u001b[0m\n\u001b[1;32m      4\u001b[0m \u001b[38;5;28;01mimport\u001b[39;00m \u001b[38;5;21;01mtorch\u001b[39;00m\n\u001b[1;32m      6\u001b[0m \u001b[38;5;28;01mfrom\u001b[39;00m \u001b[38;5;21;01mnumba\u001b[39;00m \u001b[38;5;28;01mimport\u001b[39;00m cuda \n\u001b[0;32m----> 8\u001b[0m \u001b[38;5;28;01mfrom\u001b[39;00m \u001b[38;5;21;01mhelpers\u001b[39;00m\u001b[38;5;21;01m.\u001b[39;00m\u001b[38;5;21;01mmake_flow\u001b[39;00m \u001b[38;5;28;01mimport\u001b[39;00m \u001b[38;5;241m*\u001b[39m\n",
      "File \u001b[0;32m/global/u1/r/rmastand/dimuonAD/helpers/make_flow.py:3\u001b[0m\n\u001b[1;32m      1\u001b[0m \u001b[38;5;28;01mimport\u001b[39;00m \u001b[38;5;21;01mnumpy\u001b[39;00m \u001b[38;5;28;01mas\u001b[39;00m \u001b[38;5;21;01mnp\u001b[39;00m\n\u001b[0;32m----> 3\u001b[0m \u001b[38;5;28;01mfrom\u001b[39;00m \u001b[38;5;21;01mnflows\u001b[39;00m\u001b[38;5;21;01m.\u001b[39;00m\u001b[38;5;21;01mflows\u001b[39;00m\u001b[38;5;21;01m.\u001b[39;00m\u001b[38;5;21;01mbase\u001b[39;00m \u001b[38;5;28;01mimport\u001b[39;00m Flow\n\u001b[1;32m      4\u001b[0m \u001b[38;5;28;01mfrom\u001b[39;00m \u001b[38;5;21;01mnflows\u001b[39;00m\u001b[38;5;21;01m.\u001b[39;00m\u001b[38;5;21;01mtransforms\u001b[39;00m\u001b[38;5;21;01m.\u001b[39;00m\u001b[38;5;21;01mautoregressive\u001b[39;00m \u001b[38;5;28;01mimport\u001b[39;00m MaskedAffineAutoregressiveTransform, MaskedPiecewiseRationalQuadraticAutoregressiveTransform\n\u001b[1;32m      5\u001b[0m \u001b[38;5;28;01mfrom\u001b[39;00m \u001b[38;5;21;01mnflows\u001b[39;00m\u001b[38;5;21;01m.\u001b[39;00m\u001b[38;5;21;01mdistributions\u001b[39;00m\u001b[38;5;21;01m.\u001b[39;00m\u001b[38;5;21;01mnormal\u001b[39;00m \u001b[38;5;28;01mimport\u001b[39;00m StandardNormal\n",
      "\u001b[0;31mModuleNotFoundError\u001b[0m: No module named 'nflows'"
     ]
    }
   ],
   "source": [
    "import numpy as np\n",
    "import matplotlib.pyplot as plt\n",
    "import os\n",
    "import torch\n",
    "\n",
    "from numba import cuda \n",
    "\n",
    "from helpers.make_flow import *"
   ]
  },
  {
   "cell_type": "code",
   "execution_count": null,
   "id": "2975a2b1-68c7-426a-abac-8f741f478a40",
   "metadata": {
    "tags": []
   },
   "outputs": [],
   "source": [
    "# computing\n",
    "\n",
    "device = cuda.get_current_device()\n",
    "device.reset()\n",
    "device = torch.device( \"cuda\" if torch.cuda.is_available() else \"cpu\")\n",
    "print(f\"Device: {device}\")"
   ]
  },
  {
   "cell_type": "code",
   "execution_count": null,
   "id": "696c9b22-5b46-4a78-98f5-04366163df7e",
   "metadata": {
    "tags": []
   },
   "outputs": [],
   "source": [
    "# load in the data\n",
    "\n",
    "SB_data = np.load(f\"processed_data/od_SB.npy\")\n",
    "\n",
    "print(f\"SB data has shape {SB_data.shape}.\")"
   ]
  },
  {
   "cell_type": "code",
   "execution_count": null,
   "id": "0153764c-6258-43d5-8c4f-004e0b76ebf6",
   "metadata": {
    "tags": []
   },
   "outputs": [],
   "source": [
    "\n",
    "# train val test split\n",
    "from sklearn.model_selection import train_test_split\n",
    "\n",
    "SB_data_train, SB_data_val = train_test_split(SB_data, test_size=0.2, random_state=42)\n",
    "\n",
    "print(f\"SB train data has shape {SB_data_train.shape}.\")\n",
    "print(f\"SB val data has shape {SB_data_val.shape}.\")"
   ]
  },
  {
   "cell_type": "code",
   "execution_count": null,
   "id": "404d8e3c-735b-4ad7-94f1-84aa7d40f9c8",
   "metadata": {},
   "outputs": [],
   "source": [
    "# Create the flow\n",
    "\n",
    "# This will be the upper subdirectory in saved_models/\n",
    "\n",
    "num_layers = 1\n",
    "num_hidden_features = 128\n",
    "num_blocks = 15\n",
    "hyperparameters_dict = {\"n_epochs\":100,\n",
    "                          \"batch_size\": 128,\n",
    "                          \"lr\": 0.0001,\n",
    "                          \"weight_decay\": 0.0001}\n",
    "\n",
    "test_flow = make_masked_AR_flow(SB_data_train.shape[-1], num_layers, num_hidden_features, num_blocks)\n"
   ]
  },
  {
   "cell_type": "code",
   "execution_count": null,
   "id": "aee5d75b-7538-4a83-9ff1-a1ce20a0f167",
   "metadata": {},
   "outputs": [],
   "source": []
  }
 ],
 "metadata": {
  "kernelspec": {
   "display_name": "pytorch-1.13.1",
   "language": "python",
   "name": "pytorch-1.13.1"
  },
  "language_info": {
   "codemirror_mode": {
    "name": "ipython",
    "version": 3
   },
   "file_extension": ".py",
   "mimetype": "text/x-python",
   "name": "python",
   "nbconvert_exporter": "python",
   "pygments_lexer": "ipython3",
   "version": "3.9.15"
  }
 },
 "nbformat": 4,
 "nbformat_minor": 5
}

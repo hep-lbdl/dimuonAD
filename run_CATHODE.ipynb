{
 "cells": [
  {
   "cell_type": "code",
   "execution_count": 6,
   "id": "fb2d3ec4-11be-455b-bd30-52614bda6634",
   "metadata": {
    "tags": []
   },
   "outputs": [],
   "source": [
    "import numpy as np\n",
    "import matplotlib.pyplot as plt"
   ]
  },
  {
   "cell_type": "code",
   "execution_count": 8,
   "id": "696c9b22-5b46-4a78-98f5-04366163df7e",
   "metadata": {
    "tags": []
   },
   "outputs": [
    {
     "name": "stdout",
     "output_type": "stream",
     "text": [
      "SB data has shape (71, 9).\n"
     ]
    }
   ],
   "source": [
    "# load in the data\n",
    "\n",
    "SB_data = np.load(f\"processed_data/od_SB.npy\")\n",
    "\n",
    "print(f\"SB data has shape {SB_data.shape}.\")"
   ]
  },
  {
   "cell_type": "code",
   "execution_count": 10,
   "id": "0153764c-6258-43d5-8c4f-004e0b76ebf6",
   "metadata": {
    "tags": []
   },
   "outputs": [
    {
     "name": "stdout",
     "output_type": "stream",
     "text": [
      "SB train data has shape (56, 9).\n",
      "SB val data has shape (15, 9).\n"
     ]
    }
   ],
   "source": [
    "# train val test split\n",
    "from sklearn.model_selection import train_test_split\n",
    "\n",
    "SB_data_train, SB_data_val = train_test_split(SB_data, test_size=0.2, random_state=42)\n",
    "\n",
    "print(f\"SB train data has shape {SB_data_train.shape}.\")\n",
    "print(f\"SB val data has shape {SB_data_val.shape}.\")"
   ]
  },
  {
   "cell_type": "code",
   "execution_count": null,
   "id": "404d8e3c-735b-4ad7-94f1-84aa7d40f9c8",
   "metadata": {},
   "outputs": [],
   "source": [
    "# run"
   ]
  }
 ],
 "metadata": {
  "kernelspec": {
   "display_name": "Python 3 (ipykernel)",
   "language": "python",
   "name": "python3"
  },
  "language_info": {
   "codemirror_mode": {
    "name": "ipython",
    "version": 3
   },
   "file_extension": ".py",
   "mimetype": "text/x-python",
   "name": "python",
   "nbconvert_exporter": "python",
   "pygments_lexer": "ipython3",
   "version": "3.8.5"
  }
 },
 "nbformat": 4,
 "nbformat_minor": 5
}

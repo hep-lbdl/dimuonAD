{
 "cells": [
  {
   "cell_type": "code",
   "execution_count": 4,
   "id": "3718afce-92be-45db-aeb1-29efa7836e31",
   "metadata": {
    "tags": []
   },
   "outputs": [],
   "source": [
    "import numpy as np\n",
    "import matplotlib.pyplot as plt\n",
    "\n",
    "import os\n",
    "import pickle\n",
    "\n",
    "from helpers.evaluation import run_BDTs, run_NNs"
   ]
  },
  {
   "cell_type": "code",
   "execution_count": 5,
   "id": "ba7a1861-a976-4943-86f7-b579ada0f819",
   "metadata": {
    "tags": []
   },
   "outputs": [
    {
     "name": "stdout",
     "output_type": "stream",
     "text": [
      "b\"feature_set = ['muon_iso03', 'amuon_iso03', 'dimu_pt', 'dimu_eta', 'dimu_mass']\\n\"\n"
     ]
    }
   ],
   "source": [
    "# load in the data\n",
    "\n",
    "bands = [\"SBL\", \"IBL\", \"SR\", \"IBH\", \"SBH\"]\n",
    "data_dict = {}\n",
    "\n",
    "\n",
    "flow_training_id = \"eta_eta\"\n",
    "project_id = \"eta\"\n",
    "\n",
    "flow_training_dir = os.path.join(\"models\", f\"{flow_training_id}/\")\n",
    "\n",
    "with open(f\"models/{flow_training_id}/flow_samples\", \"rb\") as infile: \n",
    "    data_dict = pickle.load(infile)\n",
    "    \n",
    "with open(f\"processed_data/{project_id}_test_band_data\", \"rb\") as infile: \n",
    "    test_dict = pickle.load(infile)\n",
    "    \n",
    "with open(f\"models/{flow_training_id}/configs.txt\", \"rb\") as infile: \n",
    "    configs = infile.readlines()\n",
    "    print(configs[0])\n",
    "    \n"
   ]
  },
  {
   "cell_type": "code",
   "execution_count": 6,
   "id": "45250b69-4fde-44d6-8ce9-5cf7cdf4b676",
   "metadata": {
    "tags": []
   },
   "outputs": [
    {
     "name": "stdout",
     "output_type": "stream",
     "text": [
      "(30537, 4)\n"
     ]
    }
   ],
   "source": [
    "# Assemble the test set\n",
    "\n",
    "feature_set = ['muon_iso03', 'amuon_iso03', 'dimu_pt', 'dimu_eta', 'dimu_mass']\n",
    "\n",
    "num_events_test_SR = test_dict[\"SR\"][\"s_inj_data\"][\"dimu_mass\"].shape[0]\n",
    "\n",
    "test_events_SR = np.empty((num_events_test_SR, len(feature_set)-1))\n",
    "for i, feat in enumerate(feature_set[:-1]):\n",
    "    test_events_SR[:,i] = test_dict[\"SR\"][\"s_inj_data\"][feat].reshape(-1,)\n",
    "\n",
    "print(test_events_SR.shape)\n",
    "\n",
    "test_dimu_mass = test_dict[\"SR\"][\"s_inj_data\"][\"dimu_mass\"].reshape(-1,)\n",
    "\n"
   ]
  },
  {
   "cell_type": "code",
   "execution_count": 10,
   "id": "95116f02-adb1-424f-802c-ddae36c6f830",
   "metadata": {
    "tags": []
   },
   "outputs": [
    {
     "data": {
      "image/png": "[encoded data removed]",
      "text/plain": [
       "<Figure size 864x216 with 4 Axes>"
      ]
     },
     "metadata": {
      "needs_background": "light"
     },
     "output_type": "display_data"
    }
   ],
   "source": [
    "def hist_all_features(samples, labels, feature_set, plot_bound=3, yscale_log=False):\n",
    "    \n",
    "    n_bins = 30\n",
    "      \n",
    "    scaled_feature_bins = [np.linspace(-plot_bound, plot_bound, n_bins) for i in range(len(feature_set))]   \n",
    "    \n",
    "    n_features = len(feature_set)\n",
    "    fig, ax = plt.subplots(1, n_features, figsize = (3*n_features, 3))\n",
    "        \n",
    "\n",
    "    for i, feat in enumerate(feature_set):\n",
    "        for j, samp in enumerate(samples):\n",
    "            ax[i].hist(samp[:,i], bins = scaled_feature_bins[i], histtype = \"step\", density = True, label = labels[j])\n",
    "         \n",
    "        if yscale_log:\n",
    "            ax[i].set_yscale(\"log\")\n",
    "        ax[i].set_xlabel(feat)\n",
    "    ax[0].legend()\n",
    "    ax[0].set_ylabel(\"Density\")\n",
    "    plt.tight_layout()\n",
    "    plt.show()\n",
    "  \n",
    "hist_all_features([data_dict[\"SR\"], data_dict[\"SR_samples\"], test_events_SR], [\"SR\", \"samples\", \"test\"], feature_set[:-1], plot_bound = 5, yscale_log = True)\n",
    "\n",
    "        "
   ]
  },
  {
   "cell_type": "code",
   "execution_count": null,
   "id": "a053c6c7-eff1-4a28-b9d0-184cf09ca5f1",
   "metadata": {
    "tags": []
   },
   "outputs": [],
   "source": [
    "from sklearn.ensemble import HistGradientBoostingClassifier\n",
    "\n",
    "\n",
    "def run_BDT_bump_hunt(train_samp_0, train_samp_1, test_samp, num_to_ensemble):\n",
    "    \n",
    "    X_train = np.vstack((train_samp_0, train_samp_1))\n",
    "    Y_train = np.vstack((np.zeros((train_samp_0.shape[0], 1)), np.ones((train_samp_1.shape[0], 1))))\n",
    "    \n",
    "    print(X_train.shape, Y_train.shape)\n",
    "    print(test_samp.shape)\n",
    "\n",
    "    class_weight = {0: 1, 1: sum(Y_train==0)[0]/sum(Y_train==1)[0]}\n",
    "    class_weights = class_weight[0]*(1.0-Y_train)+class_weight[1]*Y_train\n",
    "\n",
    "    Y_train = Y_train.reshape(-1,)\n",
    "    class_weights = class_weights.reshape(-1,)\n",
    "\n",
    "    print(\"\\nTraining class weights: \", class_weight)\n",
    "\n",
    "    scores = {}\n",
    "\n",
    "    for i in range(num_to_ensemble):\n",
    "        \n",
    "        print(\"Tree number:\", i)\n",
    "        np.random.seed(i+1)\n",
    "        \n",
    "        tree = HistGradientBoostingClassifier(verbose=0, max_iter=200, max_leaf_nodes=31, validation_fraction=0.5)\n",
    "        results_f = tree.fit(X_train, Y_train, sample_weight=class_weights)\n",
    "        loc_scores = tree.predict_proba(test_samp)[:,1]\n",
    "        scores[i] = loc_scores\n",
    "        \n",
    "        del results_f\n",
    "        \n",
    "    return scores\n"
   ]
  },
  {
   "cell_type": "code",
   "execution_count": null,
   "id": "06f1c179-eb9f-476a-b19d-3e5d5fd9d597",
   "metadata": {
    "tags": []
   },
   "outputs": [],
   "source": [
    "# Train a classifier to discriminate SR samples from SR data\n",
    "\n",
    "scores = run_BDT_bump_hunt(data_dict[\"SR_samples\"][:,:-1], data_dict[\"SR\"][:,:-1], test_events_SR, 5)\n"
   ]
  },
  {
   "cell_type": "code",
   "execution_count": null,
   "id": "e59179b8-f8ae-482c-af38-4976b0682e54",
   "metadata": {},
   "outputs": [],
   "source": [
    "print(scores)\n",
    "\n",
    "\n",
    "score_cutoff = 0.8\n",
    "\n",
    "\n",
    "\n",
    "plt.figure()\n",
    "for sc in [0, 0.3, 0.4, 0.6]:\n",
    "    plt.hist(test_dimu_mass[scores[0]>sc], bins = np.linspace(-3.4, -3.1, 30), histtype = \"step\", label = sc)\n",
    "plt.legend()\n",
    "plt.show()"
   ]
  },
  {
   "cell_type": "code",
   "execution_count": null,
   "id": "45d1c778-a9d2-44de-ae0c-2e345532de6d",
   "metadata": {},
   "outputs": [],
   "source": [
    "\n"
   ]
  },
  {
   "cell_type": "code",
   "execution_count": null,
   "id": "43d7e79b-b28b-4537-a0a4-2417cf0b3580",
   "metadata": {},
   "outputs": [],
   "source": []
  },
  {
   "cell_type": "code",
   "execution_count": null,
   "id": "7b014e8c-4b57-4bfd-8a5e-4c6a3e713106",
   "metadata": {},
   "outputs": [],
   "source": []
  },
  {
   "cell_type": "code",
   "execution_count": null,
   "id": "8d9ae0a5-6dc6-4b1a-91f6-08b3333a83e7",
   "metadata": {},
   "outputs": [],
   "source": []
  }
 ],
 "metadata": {
  "kernelspec": {
   "display_name": "Python 3 (ipykernel)",
   "language": "python",
   "name": "python3"
  },
  "language_info": {
   "codemirror_mode": {
    "name": "ipython",
    "version": 3
   },
   "file_extension": ".py",
   "mimetype": "text/x-python",
   "name": "python",
   "nbconvert_exporter": "python",
   "pygments_lexer": "ipython3",
   "version": "3.8.5"
  }
 },
 "nbformat": 4,
 "nbformat_minor": 5
}

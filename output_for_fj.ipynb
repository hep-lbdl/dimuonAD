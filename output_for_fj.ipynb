{
 "cells": [
  {
   "cell_type": "markdown",
   "id": "16e1dfda-a60f-450d-8fad-147f94dd888b",
   "metadata": {},
   "source": [
    "# Create output .dat file for fastjet-contrib input\n",
    "\n",
    "Goal: take Ed's processed data files and split the PFCs by their ids.\n",
    "\n",
    "PDG codes (from https://cms-opendata-workshop.github.io/workshop2023-lesson-advobjects/02-particleflow/index.html):\n",
    "\n",
    "- 11, 13 = electron, muon\n",
    "- 22 = photon\n",
    "- 130 = neutral hadron\n",
    "- 211 = charged hadron\n",
    "- 1 = hadronic particle reconstructed in the forward calorimeters\n",
    "- 2 = electromagnetic particle reconstructed in the forward calorimeters\n",
    "\n",
    "We will split as:\n",
    "- Muons (2 / event)\n",
    "- Hadrons + photons, to be routed to fastjet for clustering\n",
    "- Electrons, to trash\n"
   ]
  },
  {
   "cell_type": "code",
   "execution_count": 1,
   "id": "907de108-4adb-42be-9177-c88f8d68ed2a",
   "metadata": {
    "tags": []
   },
   "outputs": [],
   "source": [
    "import h5py\n",
    "import numpy as np\n",
    "import matplotlib.pyplot as plt\n",
    "import vector"
   ]
  },
  {
   "cell_type": "code",
   "execution_count": 2,
   "id": "8fcbb343-0b8a-4bf5-98b3-e669bde0e6e2",
   "metadata": {
    "tags": []
   },
   "outputs": [],
   "source": [
    "outfile_dimuons = \"/global/u1/r/rmastand/dimuonAD/test_muons.dat\"\n",
    "outfile_hadrons = \"/global/u1/r/rmastand/dimuonAD/test_hadrons.dat\""
   ]
  },
  {
   "cell_type": "code",
   "execution_count": 4,
   "id": "785cedb0-21a1-4787-a47b-de0ffb0cf1ff",
   "metadata": {
    "tags": []
   },
   "outputs": [],
   "source": [
    "selected_data_dir = '/global/cfs/cdirs/m3246/ewitkowski/selected_data'\n",
    "selected_pT = h5py.File(f'{selected_data_dir}/recoPFCandidates_particleFlow__RECO_obj_pt_.h5', 'r')['values']\n",
    "selected_eta = h5py.File(f'{selected_data_dir}/recoPFCandidates_particleFlow__RECO_obj_eta_.h5', 'r')['values']\n",
    "selected_phi = h5py.File(f'{selected_data_dir}/recoPFCandidates_particleFlow__RECO_obj_phi_.h5', 'r')['values']\n",
    "selected_pdgId = h5py.File(f'{selected_data_dir}/recoPFCandidates_particleFlow__RECO_obj_pdgId_.h5', 'r')['values']"
   ]
  },
  {
   "cell_type": "code",
   "execution_count": 5,
   "id": "461a9581-6d53-49a3-8ea0-7106922c2113",
   "metadata": {
    "tags": []
   },
   "outputs": [],
   "source": [
    "# convert to numpy\n",
    "n_debug = 100\n",
    "\n",
    "selected_pT = np.array(selected_pT[:100])\n",
    "selected_eta = np.array(selected_eta[:100])\n",
    "selected_phi = np.array(selected_phi[:100])\n",
    "selected_pdgId = np.array(selected_pdgId[:100])\n"
   ]
  },
  {
   "cell_type": "markdown",
   "id": "d5597a3c-7905-4cdf-81d3-e8c8e8c157e6",
   "metadata": {},
   "source": [
    "Muons file:  pt eta phi M\n",
    "\n",
    "Hadrons file: px py pz E"
   ]
  },
  {
   "cell_type": "code",
   "execution_count": 6,
   "id": "386b0771-56d6-425e-8ee0-eb86118a0f64",
   "metadata": {
    "tags": []
   },
   "outputs": [
    {
     "name": "stdout",
     "output_type": "stream",
     "text": [
      "Event 0 has 1290 particles.\n",
      "Event 1 has 1363 particles.\n",
      "Event 2 has 1703 particles.\n",
      "Event 3 has 1758 particles.\n",
      "Event 4 has 1680 particles.\n",
      "Event 5 has 1537 particles.\n",
      "Event 6 has 1724 particles.\n",
      "Event 7 has 1744 particles.\n",
      "Event 8 has 1804 particles.\n",
      "Event 9 has 1240 particles.\n",
      "Event 10 has 1280 particles.\n",
      "Event 11 has 1393 particles.\n",
      "Event 12 has 1162 particles.\n",
      "Event 13 has 1617 particles.\n",
      "Event 14 has 1779 particles.\n",
      "Event 15 has 1315 particles.\n",
      "Event 16 has 1202 particles.\n",
      "Event 17 has 1669 particles.\n",
      "Event 18 has 1440 particles.\n",
      "Event 19 has 1777 particles.\n",
      "Event 20 has 1087 particles.\n",
      "Event 21 has 1654 particles.\n",
      "Event 22 has 1079 particles.\n",
      "Event 23 has 1711 particles.\n",
      "Event 24 has 1781 particles.\n",
      "Event 25 has 1340 particles.\n",
      "Event 26 has 1542 particles.\n",
      "Event 27 has 1668 particles.\n",
      "Event 28 has 993 particles.\n",
      "Event 29 has 1547 particles.\n",
      "Event 30 has 1484 particles.\n",
      "Event 31 has 1534 particles.\n",
      "Event 32 has 1030 particles.\n",
      "Event 33 has 1933 particles.\n",
      "Event 34 has 1151 particles.\n",
      "Event 35 has 1739 particles.\n",
      "Event 36 has 1013 particles.\n",
      "Event 37 has 1210 particles.\n",
      "Event 38 has 1703 particles.\n",
      "Event 39 has 1097 particles.\n",
      "Event 40 has 1321 particles.\n",
      "Event 41 has 1055 particles.\n",
      "Event 42 has 1352 particles.\n",
      "Event 43 has 1187 particles.\n",
      "Event 44 has 1453 particles.\n",
      "Event 45 has 791 particles.\n",
      "Event 46 has 845 particles.\n",
      "Event 47 has 1110 particles.\n",
      "Event 48 has 1345 particles.\n",
      "Event 49 has 1570 particles.\n",
      "Event 50 has 1520 particles.\n",
      "Event 51 has 1612 particles.\n",
      "Event 52 has 1252 particles.\n",
      "Event 53 has 1007 particles.\n",
      "Event 54 has 1601 particles.\n",
      "Event 55 has 1187 particles.\n",
      "Event 56 has 1393 particles.\n",
      "Event 57 has 1109 particles.\n",
      "Event 58 has 1419 particles.\n",
      "Event 59 has 1775 particles.\n",
      "Event 60 has 1482 particles.\n",
      "Event 61 has 1032 particles.\n",
      "Event 62 has 1127 particles.\n",
      "Event 63 has 1597 particles.\n",
      "Event 64 has 1600 particles.\n",
      "Event 65 has 1556 particles.\n",
      "Event 66 has 1163 particles.\n",
      "Event 67 has 1199 particles.\n",
      "Event 68 has 1457 particles.\n",
      "Event 69 has 1179 particles.\n",
      "Event 70 has 1390 particles.\n",
      "Event 71 has 1594 particles.\n",
      "Event 72 has 1220 particles.\n",
      "Event 73 has 1331 particles.\n",
      "Event 74 has 1320 particles.\n",
      "Event 75 has 1078 particles.\n",
      "Event 76 has 1256 particles.\n",
      "Event 77 has 1517 particles.\n",
      "Event 78 has 1138 particles.\n",
      "Event 79 has 1246 particles.\n",
      "Event 80 has 1310 particles.\n",
      "Event 81 has 936 particles.\n",
      "Event 82 has 925 particles.\n",
      "Event 83 has 1649 particles.\n",
      "Event 84 has 885 particles.\n",
      "Event 85 has 1421 particles.\n",
      "Event 86 has 1277 particles.\n",
      "Event 87 has 1247 particles.\n",
      "Event 88 has 1410 particles.\n",
      "Event 89 has 1222 particles.\n",
      "Event 90 has 1208 particles.\n",
      "Event 91 has 617 particles.\n",
      "Event 92 has 840 particles.\n",
      "Event 93 has 1461 particles.\n",
      "Event 94 has 1177 particles.\n",
      "Event 95 has 1292 particles.\n",
      "Event 96 has 1189 particles.\n",
      "Event 97 has 1419 particles.\n",
      "Event 98 has 1002 particles.\n",
      "Event 99 has 1063 particles.\n",
      "Done!\n"
     ]
    }
   ],
   "source": [
    "n_events = 100\n",
    "\n",
    "muon_mass = 0.1056583755 # GeV\n",
    "particles_to_fastjet = [22, 130, 211, 1, 2]\n",
    "\n",
    "ofile_muons = open(outfile_dimuons, \"w\")\n",
    "ofile_hadrons = open(outfile_hadrons, \"w\")\n",
    "   \n",
    "for event in range(n_events):\n",
    "\n",
    "    loc_pt = selected_pT[event]\n",
    "    loc_eta = selected_eta[event]\n",
    "    loc_phi = selected_phi[event]\n",
    "    loc_pid = selected_pdgId[event]\n",
    "    num_particles = len(loc_pid[loc_pid != 0])\n",
    "    #print(f\"Event {event} has {num_particles} particles.\")\n",
    "    ofile_muons.write(\"#BEGIN\\n\")\n",
    "    ofile_hadrons.write(\"#BEGIN\\n\")\n",
    "\n",
    "    # get the muons\n",
    "    muon_ids = np.where(np.abs(loc_pid) == 13)[0]\n",
    "    # construct the muon 4-vector\n",
    "    mu_1 = vector.obj(pt = loc_pt[muon_ids[0]], eta = loc_eta[muon_ids[0]], phi = loc_phi[muon_ids[0]], M = muon_mass)\n",
    "    mu_2 = vector.obj(pt = loc_pt[muon_ids[1]], eta = loc_eta[muon_ids[1]], phi = loc_phi[muon_ids[1]], M = muon_mass)\n",
    "    dimu_system = mu_1 + mu_2\n",
    "    \n",
    "    ofile_muons.write(f\"{dimu_system.pt} {dimu_system.eta} {dimu_system.phi} {dimu_system.M}\\n\")\n",
    "\n",
    "    # get the hadrons\n",
    "    for particle_i in range(len(loc_pt)):\n",
    "        if np.abs(loc_pid[particle_i]) in particles_to_fastjet:\n",
    "            particle_vector = vector.obj(pt = loc_pt[particle_i], eta = loc_eta[particle_i], phi = loc_phi[particle_i], M = 0)\n",
    "            ofile_hadrons.write(f\"{particle_vector.px} {particle_vector.py} {particle_vector.pz} {particle_vector.E}\\n\")\n",
    "    \n",
    "    ofile_muons.write(\"#END\\n\")\n",
    "    ofile_hadrons.write(\"#END\\n\")\n",
    "\n",
    "    \n",
    "ofile_muons.close()  \n",
    "ofile_hadrons.close()\n",
    "     \n",
    "print(\"Done!\")\n",
    "                                         "
   ]
  },
  {
   "cell_type": "code",
   "execution_count": null,
   "id": "14cce74a-ebb2-4dfe-8b91-1463f1690241",
   "metadata": {},
   "outputs": [],
   "source": []
  },
  {
   "cell_type": "code",
   "execution_count": null,
   "id": "4eec4e79-7adf-4f4a-ac16-cc3e484b740d",
   "metadata": {},
   "outputs": [],
   "source": []
  },
  {
   "cell_type": "code",
   "execution_count": null,
   "id": "65b3604f-e97e-4ba1-a9b8-380bcf0d32dd",
   "metadata": {},
   "outputs": [],
   "source": []
  }
 ],
 "metadata": {
  "kernelspec": {
   "display_name": "Python 3 (ipykernel)",
   "language": "python",
   "name": "python3"
  },
  "language_info": {
   "codemirror_mode": {
    "name": "ipython",
    "version": 3
   },
   "file_extension": ".py",
   "mimetype": "text/x-python",
   "name": "python",
   "nbconvert_exporter": "python",
   "pygments_lexer": "ipython3",
   "version": "3.8.5"
  }
 },
 "nbformat": 4,
 "nbformat_minor": 5
}

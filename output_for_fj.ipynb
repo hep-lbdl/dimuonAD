{
 "cells": [
  {
   "cell_type": "markdown",
   "id": "16e1dfda-a60f-450d-8fad-147f94dd888b",
   "metadata": {},
   "source": [
    "# Create output .dat file for fastjet-contrib input\n",
    "\n",
    "File format: \n",
    "\n",
    "#BEGIN\\\n",
    "px py pz E\\\n",
    "px py pz E\\\n",
    "px py pz E\\\n",
    "#END"
   ]
  },
  {
   "cell_type": "code",
   "execution_count": 14,
   "id": "907de108-4adb-42be-9177-c88f8d68ed2a",
   "metadata": {
    "tags": []
   },
   "outputs": [],
   "source": [
    "import h5py\n",
    "import numpy as np\n",
    "import matplotlib.pyplot as plt\n",
    "import vector"
   ]
  },
  {
   "cell_type": "code",
   "execution_count": 15,
   "id": "8fcbb343-0b8a-4bf5-98b3-e669bde0e6e2",
   "metadata": {
    "tags": []
   },
   "outputs": [],
   "source": [
    "outfile_location = \"/global/u1/r/rmastand/dimuonAD/test_event.dat\""
   ]
  },
  {
   "cell_type": "code",
   "execution_count": 16,
   "id": "785cedb0-21a1-4787-a47b-de0ffb0cf1ff",
   "metadata": {
    "tags": []
   },
   "outputs": [],
   "source": [
    "selected_data_dir = '/global/cfs/cdirs/m3246/ewitkowski/selected_data'\n",
    "selected_pT = h5py.File(f'{selected_data_dir}/recoPFCandidates_particleFlow__RECO_obj_pt_.h5', 'r')\n",
    "selected_eta = h5py.File(f'{selected_data_dir}/recoPFCandidates_particleFlow__RECO_obj_eta_.h5', 'r')\n",
    "selected_phi = h5py.File(f'{selected_data_dir}/recoPFCandidates_particleFlow__RECO_obj_phi_.h5', 'r')\n",
    "selected_pdgId = h5py.File(f'{selected_data_dir}/recoPFCandidates_particleFlow__RECO_obj_pdgId_.h5', 'r')"
   ]
  },
  {
   "cell_type": "code",
   "execution_count": 27,
   "id": "386b0771-56d6-425e-8ee0-eb86118a0f64",
   "metadata": {
    "tags": []
   },
   "outputs": [
    {
     "name": "stdout",
     "output_type": "stream",
     "text": [
      "Event 0 has 1290 particles.\n",
      "Event 1 has 1363 particles.\n",
      "Event 2 has 1703 particles.\n",
      "Event 3 has 1758 particles.\n",
      "Event 4 has 1680 particles.\n",
      "Event 5 has 1537 particles.\n",
      "Event 6 has 1724 particles.\n",
      "Event 7 has 1744 particles.\n",
      "Event 8 has 1804 particles.\n",
      "Event 9 has 1240 particles.\n",
      "Done!\n"
     ]
    }
   ],
   "source": [
    "num_events = 10\n",
    "to_write = 20\n",
    "\n",
    "with open(outfile_location, \"w\") as ofile:\n",
    "   \n",
    "    for event in range(num_events):\n",
    "        \n",
    "        ofile.write(\"#BEGIN\\n\")\n",
    "    \n",
    "        loc_pt = selected_pT['values'][event]\n",
    "        loc_eta = selected_eta['values'][event]\n",
    "        loc_phi = selected_phi['values'][event]\n",
    "        num_particles = len(loc_pt[loc_pt != 0])\n",
    "        print(f\"Event {event} has {num_particles} particles.\")\n",
    "        \n",
    "        for particle in range(to_write):\n",
    "            particle_vector = vector.obj(pt = loc_pt[particle], eta = loc_eta[particle], \n",
    "                                          phi = loc_phi[particle], M = 0)\n",
    "            ofile.write(f\"{particle_vector.px} {particle_vector.py} {particle_vector.pz} {particle_vector.E}\\n\")\n",
    "                \n",
    "        ofile.write(\"#END\\n\")\n",
    "            \n",
    "     \n",
    "print(\"Done!\")\n",
    "                                         "
   ]
  },
  {
   "cell_type": "code",
   "execution_count": null,
   "id": "14cce74a-ebb2-4dfe-8b91-1463f1690241",
   "metadata": {},
   "outputs": [],
   "source": []
  }
 ],
 "metadata": {
  "kernelspec": {
   "display_name": "Python 3 (ipykernel)",
   "language": "python",
   "name": "python3"
  },
  "language_info": {
   "codemirror_mode": {
    "name": "ipython",
    "version": 3
   },
   "file_extension": ".py",
   "mimetype": "text/x-python",
   "name": "python",
   "nbconvert_exporter": "python",
   "pygments_lexer": "ipython3",
   "version": "3.8.5"
  }
 },
 "nbformat": 4,
 "nbformat_minor": 5
}

{
 "cells": [
  {
   "cell_type": "code",
   "execution_count": 5,
   "id": "06c3da6d-1d53-43f7-ba0a-c7c1ac3ad7f8",
   "metadata": {
    "tags": []
   },
   "outputs": [],
   "source": [
    "import awkward as ak\n",
    "import os\n",
    "import pickle\n",
    "\n",
    "\n",
    "\n",
    "import matplotlib.pyplot as plt\n",
    "import numpy as np\n",
    "plt.style.use(\"../science.mplstyle\")\n",
    "\n",
    "from helpers.physics_functions import *"
   ]
  },
  {
   "cell_type": "code",
   "execution_count": 6,
   "id": "d805c982-89bc-4196-a570-91a9b3d01336",
   "metadata": {},
   "outputs": [],
   "source": [
    "muon_vars = [\"Muon_pt\", \"Muon_eta\", \"Muon_phi\", \"Muon_charge\", \"Muon_pfRelIso03_all\", \"Muon_pfRelIso04_all\"]\n",
    "jet_vars = [\"Jet_pt\", \"Jet_eta\", \"Jet_phi\", \"Jet_mass\", \"Jet_nConstituents\", \"Jet_btagCSVV2\", \"Jet_btagDeepB\", \"Jet_btagDeepFlavB\", \"MET_pt\", \"MET_sumEt\"]\n",
    "\n",
    "path_to_input = f\"/global/cfs/cdirs/m3246/rmastand/dimuonAD/skimmed_data_2016H_30555/\"\n",
    "path_to_output = f\"/pscratch/sd/r/rmastand/dimuonAD/compiled_data/etaj/\"\n",
    "\n",
    "num_files = 28\n"
   ]
  },
  {
   "cell_type": "code",
   "execution_count": 7,
   "id": "53ebef19-c5bd-480c-9b1f-957ec97f994c",
   "metadata": {
    "tags": []
   },
   "outputs": [],
   "source": [
    "\n",
    "\n",
    "all_data = {\n",
    "   # \"muon_pt\": [],\n",
    "   #   \"amuon_pt\": [],\n",
    "   #   \"muon_eta\": [],\n",
    "   #   \"amuon_eta\": [],\n",
    "  #    \"muon_iso03\": [],\n",
    "      #\"amuon_iso03\": [],\n",
    "  #    \"muon_iso04\": [],\n",
    "     # \"amuon_iso04\": [],\n",
    "   #  \"jet_pt\": [],\n",
    "  #    \"jet_eta\": [],\n",
    "   #   \"jet_mass\": [],\n",
    "  #   \"dimu_pt\": [],\n",
    "    #  \"dimu_eta\": [],\n",
    "      \"dimu_mass\": [],\n",
    "   # \"dimu_mass_samesign\": [],\n",
    "    }\n"
   ]
  },
  {
   "cell_type": "code",
   "execution_count": 14,
   "id": "2facfc95-8227-4d69-9cff-7e53138b2e5f",
   "metadata": {
    "tags": []
   },
   "outputs": [
    {
     "name": "stdout",
     "output_type": "stream",
     "text": [
      "Analyzing file 1 of 28...\n",
      "[False, False, False, False, False, ..., False, False, False, False, False]\n",
      "[[24.8, 36.2, 21.1], [34.8], [20.9, ..., 11.3], ..., [88.5], [47.3, 26.8, 13.9]]\n",
      "Analyzing file 2 of 28...\n",
      "[False, True, False, False, False, ..., False, False, False, False, False]\n",
      "[[7.04], [], [1.49], [10.1], ..., [29.7], [109, 20, 86.6], [1.27], [29.7]]\n",
      "Analyzing file 3 of 28...\n",
      "[False, True, True, False, False, False, ..., True, False, False, False, False]\n",
      "[[37.6], [], [], [2.88], ..., [26.3], [17.4], [0.994], [4.24, 10.2, 8.47]]\n",
      "Analyzing file 4 of 28...\n",
      "[False, False, False, False, True, False, ..., True, False, False, False, False]\n",
      "[[19, 2.34, 12.4], [91], [91], [24.7, ..., 13.7], ..., [43.5], [37.2], [1.52]]\n",
      "Analyzing file 5 of 28...\n",
      "[False, True, True, False, True, False, ..., False, False, True, False, False]\n",
      "[[2.75, 5.82, 3.38], [], [], [3.1], ..., [...], [], [134], [90.6, 172, 37.3]]\n",
      "Analyzing file 6 of 28...\n",
      "[False, False, False, False, False, ..., False, False, False, False, True]\n",
      "[[10.3, 13.6, 9.03], [11.3], [61.4, 1.83, 53.1], ..., [4.96], [89.4], []]\n",
      "Analyzing file 7 of 28...\n",
      "[False, False, False, False, False, False, ..., False, True, True, False, False]\n",
      "[[81.6], [42.7], [1.69], ..., [], [81.1], [36.8, 28.4, 23.9, 12.3, 10.2, 0.851]]\n",
      "Analyzing file 8 of 28...\n",
      "[True, True, False, False, True, False, ..., False, False, False, False, False]\n",
      "[[], [], [], [1.04, 1.18, 0.811], [], ..., [...], [93.8], [24], [9.91], [14.2]]\n",
      "Analyzing file 9 of 28...\n",
      "[False, False, False, False, False, ..., False, False, False, True, False]\n",
      "[[0.446, 2.4, 2], [4.59, ..., 12.7], ..., [0.608, 53.7, 37.9, 49.4, 34.9, 1.27]]\n",
      "Analyzing file 10 of 28...\n",
      "[False, False, False, False, False, False, ..., True, False, False, False, True]\n",
      "[[10.6], [16.2], [27.5], [3.09, 12.9, 12.3], ..., [85.7], [78.6], [2.26], []]\n",
      "Analyzing file 11 of 28...\n",
      "[False, True, False, False, False, True, ..., True, False, True, False, False]\n",
      "[[58.5], [], [78.7, 77.3, 46.8], [96.9], [1.15], ..., [2.46], [], [3.1], [3.46]]\n",
      "Analyzing file 12 of 28...\n",
      "[False, False, False, False, False, ..., False, True, False, False, False]\n",
      "[[92.4], [90.5], [1.07], [3.31, ...], ..., [], [10.5], [90.3], [11, 13.3, 12.3]]\n",
      "Analyzing file 13 of 28...\n",
      "[True, True, False, True, False, False, ..., False, False, False, False, True]\n",
      "[[], [], [93.7, 44.4, 55.9], [], ..., [90.8], [89.5], [1.06, 0.832, 0.53], []]\n",
      "Analyzing file 14 of 28...\n"
     ]
    },
    {
     "name": "stderr",
     "output_type": "stream",
     "text": [
      "/global/homes/r/rmastand/.conda/envs/cernroot/lib/python3.11/site-packages/awkward/_nplikes/array_module.py:245: RuntimeWarning: divide by zero encountered in divide\n",
      "  return impl(*broadcasted_args, **(kwargs or {}))\n"
     ]
    },
    {
     "name": "stdout",
     "output_type": "stream",
     "text": [
      "[False, False, False, False, False, ..., False, False, False, False, False]\n",
      "[[19.7, 23.3, 19.5], [87.7, 44.1, 67.8], ..., [88.7], [0.647, 3.22, 3.09]]\n",
      "Analyzing file 15 of 28...\n",
      "[False, False, False, True, False, ..., False, False, False, False, False]\n",
      "[[11.9, 14, 17.5], [0.978], [93.7], [], ..., [150], [1.59], [92.4], [25.6]]\n",
      "Analyzing file 16 of 28...\n",
      "[False, False, False, True, False, False, ..., True, False, False, False, False]\n",
      "[[51.6, 29.6, 48.6], [90.9, 6.43, 51], [5.07], [], ..., [2.32], [8.04], [91]]\n",
      "Analyzing file 17 of 28...\n",
      "[False, False, False, False, True, False, ..., True, True, True, False, False]\n",
      "[[91.5], [1.5, 46.8, 28.3], [31.5], [51.8], [], ..., [], [], [], [81.6], [1.26]]\n",
      "Analyzing file 18 of 28...\n",
      "[False, True, False, False, True, False, ..., False, False, False, False, False]\n",
      "[[98.2, 73, 3.1], [], [26.8], [0.747, ..., 80.7], ..., [40.9], [3.1], [53.5]]\n",
      "Analyzing file 19 of 28...\n",
      "[False, True, False, False, True, True, ..., False, False, False, False, False]\n",
      "[[3.04], [], ..., [11.3, 11, 13.4, ..., 4.02, 3.59, 0.67], [6.81, 14.8, 9.94]]\n",
      "Analyzing file 20 of 28...\n",
      "[False, False, False, False, False, ..., False, True, False, False, False]\n",
      "[[13.1, 8.12, 0.526], [91], [89.4], [15.3, ...], ..., [92.8], [0.836], [48.7]]\n",
      "Analyzing file 21 of 28...\n",
      "[False, True, False, True, True, False, ..., False, False, False, False, False]\n",
      "[[3.11], [], [53, 1.92, 39.7], [], ..., [12.6, ..., 10.8], [1.93], [89], [8.5]]\n",
      "Analyzing file 22 of 28...\n",
      "[False, False, False, False, False, False, ..., False, True, False, False, True]\n",
      "[[71.6], [102, 20.6, 0.583, 53.1, 61.6, 12.2], [89.2], ..., [53], [41.5], []]\n",
      "Analyzing file 23 of 28...\n",
      "[True, False, False, False, False, ..., False, False, False, False, False]\n",
      "[[], [93.3], [33.9], ..., [...], [1.5, 26.9, 26.1, 18.3, 17.8, 9.75], [2.69]]\n",
      "Analyzing file 24 of 28...\n",
      "[False, True, False, False, False, True, ..., False, False, False, False, False]\n",
      "[[1.14], [], [14.7, 7.63, 6.3], [...], ..., [87], [18.5], [3.02, 37.5, 22.5]]\n",
      "Analyzing file 25 of 28...\n",
      "[False, True, True, False, True, False, ..., False, False, True, False, False]\n",
      "[[31.6], [], [], [0.977, 1.11, 0.886], ..., [], [90.9], [133, 66.7, 1.22]]\n",
      "Analyzing file 26 of 28...\n",
      "[True, False, True, False, False, False, ..., False, False, False, True, False]\n",
      "[[], [43.6], [], [4.88], [3], ..., [16.2], [3.13], [], [18.2, 17.6, 20.7]]\n",
      "Analyzing file 27 of 28...\n",
      "[False, False, False, False, False, ..., False, False, False, True, False]\n",
      "[[43.8], [88.9], [29], [1.98, ..., 56.4], ..., [19, 25.7, 24.7], [], [3.06]]\n",
      "Analyzing file 28 of 28...\n",
      "[True, True, False, False, True, False, ..., False, False, False, False, False]\n",
      "[[], [], [6.09, 95, 59.4], ..., [93.9, ..., 23.7], [33.3], [65.6, 3.13, 26]]\n",
      "Done!\n"
     ]
    }
   ],
   "source": [
    "for i in range(num_files):\n",
    "    \n",
    "    print(f\"Analyzing file {i+1} of {num_files}...\")\n",
    "    \n",
    "    # LOAD IN DATA\n",
    "    \n",
    "    with open(f\"{path_to_input}/all_mu_{i}\", \"rb\") as input_file:\n",
    "        loc_mu_feature = pickle.load(input_file)\n",
    "        \n",
    "    with open(f\"{path_to_input}/all_jet_{i}\", \"rb\") as input_file:\n",
    "        loc_jet_feature = pickle.load(input_file)\n",
    "        \n",
    "        \n",
    "    muons = ak.zip({\n",
    "        \"pt\": loc_mu_feature[\"Muon_pt\"][loc_mu_feature[\"Muon_pt\"] > 0],\n",
    "        \"eta\": loc_mu_feature[\"Muon_eta\"][loc_mu_feature[\"Muon_pt\"] > 0],\n",
    "        \"phi\": loc_mu_feature[\"Muon_phi\"][loc_mu_feature[\"Muon_pt\"] > 0],\n",
    "        \"charge\": loc_mu_feature[\"Muon_charge\"][loc_mu_feature[\"Muon_pt\"] > 0],\n",
    "            })\n",
    "\n",
    "    muon_pairs = ak.combinations(muons, 2)\n",
    "    mu1, mu2 = ak.unzip(muon_pairs)\n",
    "    \n",
    "    dimu_mass, dimu_pt, dimu_eta, _ = assemble_m_inv(muon_mass, mu1.pt, mu1.eta, mu1.phi, \n",
    "                                   muon_mass, mu2.pt,  mu2.eta,  mu2.phi)\n",
    "    \n",
    "    total_charge = mu1.charge + mu2.charge\n",
    "\n",
    "    \n",
    "    event_filter = (ak.count(loc_mu_feature[\"Muon_charge\"] == 1, axis = 1) == 1 ) & (ak.count(loc_mu_feature[\"Muon_charge\"] == -1, axis = 1) == 1)\n",
    "\n",
    "    print(event_filter)\n",
    "    print(dimu_mass)\n",
    "    all_data[\"dimu_mass\"].append(ak.flatten(dimu_mass[total_charge==0][event_filter]).to_numpy(allow_missing = True))\n",
    "    #all_data[\"dimu_mass_samesign\"].append(ak.flatten(dimu_mass[total_charge!=0]).to_numpy(allow_missing = True))\n",
    "    \n",
    "   \n",
    "\n",
    " \n",
    "print(\"Done!\")\n",
    "    \n",
    "    "
   ]
  },
  {
   "cell_type": "code",
   "execution_count": null,
   "id": "b4267f08-4b95-4d1e-bdaa-d2957ffcd501",
   "metadata": {
    "tags": []
   },
   "outputs": [],
   "source": [
    "for key in all_data.keys():\n",
    "    \n",
    "    all_data[key] = np.hstack(all_data[key])\n",
    "    print(key, all_data[key].shape)\n",
    "\n",
    "    \n",
    "    \n",
    "    "
   ]
  },
  {
   "cell_type": "code",
   "execution_count": null,
   "id": "83929abc-ed76-423f-868d-d8b1f832e658",
   "metadata": {
    "tags": []
   },
   "outputs": [],
   "source": [
    "\n",
    "\n",
    "plt.figure(figsize = (5,3))\n",
    "\n",
    "\n",
    "plt.hist(all_data[\"dimu_mass\"], bins = np.linspace(0.2, 0.7,100), \n",
    "        histtype = \"step\", label = f\"+-\")\n",
    "\n",
    "#plt.hist(all_data[\"dimu_mass_samesign\"], bins = np.linspace(0.2, 0.7, 60), \n",
    "#        histtype = \"step\", label = \"++, --\")\n",
    "\n",
    "#plt.axvline(0.547)\n",
    "\n",
    "plt.xlabel(\"Dimu M [GeV]\")\n",
    "plt.ylabel(\"Counts\")\n",
    "plt.legend(loc = (1, 0))\n",
    "plt.show()\n",
    "\n"
   ]
  },
  {
   "cell_type": "code",
   "execution_count": null,
   "id": "90575f46-aa56-41e8-8046-0eeb9b7b185c",
   "metadata": {},
   "outputs": [],
   "source": []
  },
  {
   "cell_type": "code",
   "execution_count": null,
   "id": "a8492cb1-f37b-4417-9a63-1acf940edc7b",
   "metadata": {},
   "outputs": [],
   "source": []
  },
  {
   "cell_type": "code",
   "execution_count": null,
   "id": "9901d51e-dc92-47ae-96c0-a4e2847a5339",
   "metadata": {},
   "outputs": [],
   "source": []
  },
  {
   "cell_type": "code",
   "execution_count": null,
   "id": "b7d2881d-48e0-4f26-99e3-d1174dad4c81",
   "metadata": {},
   "outputs": [],
   "source": []
  }
 ],
 "metadata": {
  "kernelspec": {
   "display_name": "CernRoot",
   "language": "python",
   "name": "cernroot"
  },
  "language_info": {
   "codemirror_mode": {
    "name": "ipython",
    "version": 3
   },
   "file_extension": ".py",
   "mimetype": "text/x-python",
   "name": "python",
   "nbconvert_exporter": "python",
   "pygments_lexer": "ipython3",
   "version": "3.11.4"
  }
 },
 "nbformat": 4,
 "nbformat_minor": 5
}

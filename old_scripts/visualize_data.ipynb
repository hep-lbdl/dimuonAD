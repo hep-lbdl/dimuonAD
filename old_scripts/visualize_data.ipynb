{
 "cells": [
  {
   "cell_type": "code",
   "execution_count": 1,
   "id": "264c425c-148a-47ba-9d5a-d0c185fd7829",
   "metadata": {
    "tags": []
   },
   "outputs": [
    {
     "ename": "NameError",
     "evalue": "name 'filtered_composites' is not defined",
     "output_type": "error",
     "traceback": [
      "\u001b[0;31m---------------------------------------------------------------------------\u001b[0m",
      "\u001b[0;31mNameError\u001b[0m                                 Traceback (most recent call last)",
      "\u001b[0;32m/tmp/ipykernel_487499/3758306002.py\u001b[0m in \u001b[0;36m<module>\u001b[0;34m\u001b[0m\n\u001b[1;32m      3\u001b[0m \u001b[0;32mimport\u001b[0m \u001b[0mpickle\u001b[0m\u001b[0;34m\u001b[0m\u001b[0;34m\u001b[0m\u001b[0m\n\u001b[1;32m      4\u001b[0m \u001b[0;34m\u001b[0m\u001b[0m\n\u001b[0;32m----> 5\u001b[0;31m \u001b[0;32mfrom\u001b[0m \u001b[0mhelpers\u001b[0m\u001b[0;34m.\u001b[0m\u001b[0mplotting\u001b[0m \u001b[0;32mimport\u001b[0m \u001b[0;34m*\u001b[0m\u001b[0;34m\u001b[0m\u001b[0;34m\u001b[0m\u001b[0m\n\u001b[0m",
      "\u001b[0;32m/global/u1/r/rmastand/dimuonAD/helpers/plotting.py\u001b[0m in \u001b[0;36m<module>\u001b[0;34m\u001b[0m\n\u001b[1;32m     47\u001b[0m \u001b[0;34m\u001b[0m\u001b[0m\n\u001b[1;32m     48\u001b[0m \u001b[0;34m\u001b[0m\u001b[0m\n\u001b[0;32m---> 49\u001b[0;31m \u001b[0mfull_data_array\u001b[0m\u001b[0;34m[\u001b[0m\u001b[0;34m:\u001b[0m\u001b[0;34m,\u001b[0m\u001b[0;36m0\u001b[0m\u001b[0;34m]\u001b[0m \u001b[0;34m=\u001b[0m \u001b[0mfiltered_composites\u001b[0m\u001b[0;34m[\u001b[0m\u001b[0;34m\"Dijet_mass\"\u001b[0m\u001b[0;34m]\u001b[0m\u001b[0;34m\u001b[0m\u001b[0;34m\u001b[0m\u001b[0m\n\u001b[0m\u001b[1;32m     50\u001b[0m \u001b[0mfull_data_array\u001b[0m\u001b[0;34m[\u001b[0m\u001b[0;34m:\u001b[0m\u001b[0;34m,\u001b[0m\u001b[0;36m1\u001b[0m\u001b[0;34m]\u001b[0m \u001b[0;34m=\u001b[0m \u001b[0mfiltered_composites\u001b[0m\u001b[0;34m[\u001b[0m\u001b[0;34m\"Dijet_pt\"\u001b[0m\u001b[0;34m]\u001b[0m\u001b[0;34m\u001b[0m\u001b[0;34m\u001b[0m\u001b[0m\n\u001b[1;32m     51\u001b[0m \u001b[0mfull_data_array\u001b[0m\u001b[0;34m[\u001b[0m\u001b[0;34m:\u001b[0m\u001b[0;34m,\u001b[0m\u001b[0;36m2\u001b[0m\u001b[0;34m]\u001b[0m \u001b[0;34m=\u001b[0m \u001b[0mfiltered_composites\u001b[0m\u001b[0;34m[\u001b[0m\u001b[0;34m\"Dijet_eta\"\u001b[0m\u001b[0;34m]\u001b[0m\u001b[0;34m\u001b[0m\u001b[0;34m\u001b[0m\u001b[0m\n",
      "\u001b[0;31mNameError\u001b[0m: name 'filtered_composites' is not defined"
     ]
    }
   ],
   "source": [
    "import numpy as np\n",
    "import matplotlib.pyplot as plt\n",
    "import pickle\n",
    "\n",
    "from helpers.plotting import *\n"
   ]
  },
  {
   "cell_type": "code",
   "execution_count": 2,
   "id": "ccfaf4fd-8fbe-49b7-a7d7-1fa9b4a733a0",
   "metadata": {
    "tags": []
   },
   "outputs": [
    {
     "name": "stdout",
     "output_type": "stream",
     "text": [
      "BSM_HAA has initial shape (386943, 11)\n",
      "SM_SIM has initial shape (8783807, 11)\n",
      "wp_wzpythia_forcms_charge-mz50.0-mw40.0-mwp1000_full has initial shape (6755, 11)\n",
      "cmssim has initial shape (7433462, 11)\n"
     ]
    }
   ],
   "source": [
    "path_to_compiled_data = \"/pscratch/sd/r/rmastand/dimuonAD/compiled_data/\"\n",
    "\n",
    "# features: jet pt, jet eta, jet phi, jet M, \n",
    "        # mu iso R03, amu iso R03, mu iso R04, amu iso R04, \n",
    "         # dimu pt, dimu eta, dimu M\n",
    "codes_list_nano = [\"BSM_HAA\", \"SM_SIM\"]\n",
    "\n",
    "\n",
    "\n",
    "# feature: jet pt, jet eta, jet phi, jet M, jet tau21,\n",
    "        # mu iso R03, mu iso R05, amu iso R03, amu iso R04, \n",
    "        #  dimu pt, dimu eta, dimu phi,  dimu M          \n",
    "codes_list_ed = [\"wp_wzpythia_forcms_charge-mz50.0-mw40.0-mwp1000_full\",\n",
    "                 \"cmssim\",\n",
    "               #  \"od\"\n",
    "                ]\n",
    "\n",
    "\n",
    "uncut_data_nano = {}\n",
    "for code in codes_list_nano:\n",
    "    uncut_data_nano[code] = np.load(f\"{path_to_compiled_data}/{code}.npy\")\n",
    "    uncut_data_nano[code] = np.nan_to_num(uncut_data_nano[code])\n",
    "    print(f\"{code} has initial shape {uncut_data_nano[code].shape}\")\n",
    " \n",
    "uncut_data_ed = {}\n",
    "for code in codes_list_ed:\n",
    "    uncut_data_ed[code] = np.load(f\"{path_to_compiled_data}/{code}.npy\")\n",
    "    uncut_data_ed[code] = np.nan_to_num(uncut_data_ed[code])\n",
    "    print(f\"{code} has initial shape {uncut_data_ed[code].shape}\")\n",
    "\n",
    "\n"
   ]
  },
  {
   "cell_type": "code",
   "execution_count": 3,
   "id": "6e5f8a19-8ccf-4a0e-943c-8e11c917c947",
   "metadata": {
    "tags": []
   },
   "outputs": [],
   "source": [
    "# small cut on jet pt (necessary for BSM_XYY)\n",
    "\n",
    "jet_pt_cut = 10\n",
    "\n",
    "filters_nano, filters_ed = {}, {}\n",
    "\n",
    "for code in uncut_data_nano.keys():\n",
    "    filters_nano[code] = uncut_data_nano[code][:,0] > jet_pt_cut\n",
    "    \n",
    "for code in uncut_data_ed.keys():\n",
    "    filters_ed[code] = uncut_data_ed[code][:,0] > jet_pt_cut\n",
    "        \n",
    " "
   ]
  },
  {
   "cell_type": "code",
   "execution_count": null,
   "id": "f94103af-a290-4f6d-b3be-f29c9715c5ed",
   "metadata": {
    "tags": []
   },
   "outputs": [],
   "source": [
    "indices_nano = {\n",
    "                \"jet $p_T$\":0,\n",
    "               \"jet $\\eta$\":1,\n",
    "               \"jet $\\phi$\":2,\n",
    "               \"jet $M$\":3,\n",
    "               \"$\\mu$ R03\":4,\n",
    "               \"$\\overline{\\mu}$ R03\":5,\n",
    "               \"$\\mu\\mu$ $p_T$\":8,\n",
    "               \"$\\mu\\mu$ $\\eta$\":9,\n",
    "               \"$\\mu\\mu$ $M$\":10,\n",
    "               }\n",
    "indices_ed = {\n",
    "                \"jet $p_T$\":0,\n",
    "               \"jet $\\eta$\":1,\n",
    "               \"jet $\\phi$\":2,\n",
    "               \"jet $M$\":3,\n",
    "               \"$\\mu$ R03\":4,\n",
    "               \"$\\overline{\\mu}$ R03\":5,\n",
    "               \"$\\mu\\mu$ $p_T$\":8,\n",
    "               \"$\\mu\\mu$ $\\eta$\":9,\n",
    "               \"$\\mu\\mu$ $M$\":10,\n",
    "               }\n",
    "\n",
    "nb = 100\n",
    "bins_choices = {\n",
    "        \"jet $p_T$\":np.linspace(0, 300, nb),\n",
    "       \"jet $\\eta$\":np.linspace(-4, 4, nb),\n",
    "       \"jet $\\phi$\":np.linspace(-3.2, 3.2, nb),\n",
    "       \"jet $M$\":np.linspace(0, 100, nb),\n",
    "       \"$\\mu$ R03\":np.linspace(0, 3, nb),\n",
    "       \"$\\overline{\\mu}$ R03\":np.linspace(0, 3, nb),\n",
    "       \"$\\mu\\mu$ $p_T$\":np.linspace(0, 100, nb),\n",
    "       \"$\\mu\\mu$ $\\eta$\":np.linspace(-3.2, 3.2, nb),\n",
    "       \"$\\mu\\mu$ $M$\":np.linspace(0, 100, nb),\n",
    "}\n",
    "\n",
    "\n",
    "colors_dict = {\n",
    "    \"BSM_XYY\":\"purple\", \n",
    "    \"BSM_HAA\":\"red\", \n",
    "    \"SM_SIM\":\"blue\",\n",
    "    \"wp_wzpythia_forcms_charge-mz50.0-mw40.0-mwp1000_full\":\"red\",\n",
    "    \"cmssim\":\"blue\"\n",
    "    }\n",
    "\n",
    "\n",
    "\n"
   ]
  },
  {
   "cell_type": "code",
   "execution_count": null,
   "id": "3fe4e0b1-7840-4c7b-bcbb-6ec213c3fbb0",
   "metadata": {
    "tags": []
   },
   "outputs": [],
   "source": [
    "for var in bins_choices.keys():\n",
    "    fig, ax = plt.subplots(1, 2, figsize = (16, 6))\n",
    "    \n",
    "    # left: new s, b\n",
    "    for code in uncut_data_nano.keys():\n",
    "        ax[0].hist(uncut_data_nano[code][:,indices_nano[var]][filters_nano[code]], bins = bins_choices[var], \n",
    "                 histtype = \"step\", density = True, label = code[:10], color = colors_dict[code])\n",
    "        \n",
    "    # right: old s, b\n",
    "    for code in uncut_data_ed.keys():\n",
    "        ax[1].hist(uncut_data_ed[code][:,indices_ed[var]][filters_ed[code]], bins = bins_choices[var], \n",
    "                 histtype = \"step\", density = True, label = code[:10], color = colors_dict[code])\n",
    "        \n",
    "    ax[0].set_xlabel(var)\n",
    "    ax[1].set_xlabel(var)\n",
    "    ax[0].set_ylabel(\"Density\")\n",
    "    ax[0].legend()\n",
    "    ax[1].legend()\n",
    "    plt.show()"
   ]
  },
  {
   "cell_type": "code",
   "execution_count": null,
   "id": "e6190c83-b1f3-4062-b951-173905454b30",
   "metadata": {},
   "outputs": [],
   "source": []
  },
  {
   "cell_type": "code",
   "execution_count": null,
   "id": "a12e3da6-762c-4388-a412-b3b9f6a5c896",
   "metadata": {},
   "outputs": [],
   "source": []
  },
  {
   "cell_type": "code",
   "execution_count": null,
   "id": "93dc43f4-c81b-453f-975a-86d276af87ed",
   "metadata": {},
   "outputs": [],
   "source": []
  },
  {
   "cell_type": "code",
   "execution_count": null,
   "id": "54a5a6cb-625c-41aa-bd85-c1e00ddbceaf",
   "metadata": {},
   "outputs": [],
   "source": []
  },
  {
   "cell_type": "code",
   "execution_count": null,
   "id": "bf73a6d8-2165-460e-b515-580086e5f80e",
   "metadata": {},
   "outputs": [],
   "source": []
  },
  {
   "cell_type": "code",
   "execution_count": null,
   "id": "fc387cbe-58c4-4e67-8965-678694d1919b",
   "metadata": {},
   "outputs": [],
   "source": []
  },
  {
   "cell_type": "code",
   "execution_count": null,
   "id": "c8ba501e-7a47-405f-abe7-33af3936ef8c",
   "metadata": {},
   "outputs": [],
   "source": []
  },
  {
   "cell_type": "code",
   "execution_count": null,
   "id": "f38f9721-6acd-4657-bdf0-fe28cfb732eb",
   "metadata": {},
   "outputs": [],
   "source": []
  },
  {
   "cell_type": "code",
   "execution_count": null,
   "id": "7161bf5a-9aef-4c3e-a722-a78fcef7bf52",
   "metadata": {},
   "outputs": [],
   "source": []
  },
  {
   "cell_type": "code",
   "execution_count": null,
   "id": "7ba70f55-13f1-432c-bff4-f81c5e6fe24e",
   "metadata": {},
   "outputs": [],
   "source": []
  },
  {
   "cell_type": "code",
   "execution_count": null,
   "id": "f47f7190-e998-4bc4-a096-86e5936da231",
   "metadata": {},
   "outputs": [],
   "source": []
  },
  {
   "cell_type": "code",
   "execution_count": null,
   "id": "4c728405-ffa6-418a-b080-cc0816e2ad0d",
   "metadata": {},
   "outputs": [],
   "source": []
  },
  {
   "cell_type": "code",
   "execution_count": null,
   "id": "4c2e3392-0e12-4091-904d-98e1c0fd6fb9",
   "metadata": {},
   "outputs": [],
   "source": []
  }
 ],
 "metadata": {
  "kernelspec": {
   "display_name": "Python 3 (ipykernel)",
   "language": "python",
   "name": "python3"
  },
  "language_info": {
   "codemirror_mode": {
    "name": "ipython",
    "version": 3
   },
   "file_extension": ".py",
   "mimetype": "text/x-python",
   "name": "python",
   "nbconvert_exporter": "python",
   "pygments_lexer": "ipython3",
   "version": "3.8.5"
  }
 },
 "nbformat": 4,
 "nbformat_minor": 5
}

{
 "cells": [
  {
   "cell_type": "markdown",
   "id": "16e1dfda-a60f-450d-8fad-147f94dd888b",
   "metadata": {},
   "source": [
    "# Open data processing: step 1"
   ]
  },
  {
   "cell_type": "markdown",
   "id": "7f6b8f8a-b34c-4e50-ba2c-3f7bd96fad3f",
   "metadata": {},
   "source": [
    "Take Ed's processed data files and split the PFCs by their ids.\n",
    "\n",
    "PDG codes (from https://cms-opendata-workshop.github.io/workshop2023-lesson-advobjects/02-particleflow/index.html):\n",
    "\n",
    "- 11, 13 = electron, muon\n",
    "- 22 = photon\n",
    "- 130 = neutral hadron\n",
    "- 211 = charged hadron\n",
    "- 1 = hadronic particle reconstructed in the forward calorimeters\n",
    "- 2 = electromagnetic particle reconstructed in the forward calorimeters\n",
    "\n",
    "We will split as:\n",
    "- Muons (2 / event)\n",
    "- Hadrons + photons, to be routed to fastjet for clustering\n",
    "- Electrons, to trash"
   ]
  },
  {
   "cell_type": "code",
   "execution_count": 1,
   "id": "907de108-4adb-42be-9177-c88f8d68ed2a",
   "metadata": {
    "tags": []
   },
   "outputs": [],
   "source": [
    "import h5py\n",
    "import numpy as np\n",
    "import matplotlib.pyplot as plt\n",
    "import vector"
   ]
  },
  {
   "cell_type": "code",
   "execution_count": 11,
   "id": "785cedb0-21a1-4787-a47b-de0ffb0cf1ff",
   "metadata": {
    "tags": []
   },
   "outputs": [
    {
     "name": "stdout",
     "output_type": "stream",
     "text": [
      "(2245552, 3586)\n",
      "(37673, 4096)\n"
     ]
    }
   ],
   "source": [
    "# DATA\n",
    "selected_data_dir = '/global/cfs/cdirs/m3246/ewitkowski/selected_data'\n",
    "selected_pT_data = h5py.File(f'{selected_data_dir}/recoPFCandidates_particleFlow__RECO_obj_pt_.h5', 'r')['values']\n",
    "selected_eta_data = h5py.File(f'{selected_data_dir}/recoPFCandidates_particleFlow__RECO_obj_eta_.h5', 'r')['values']\n",
    "selected_phi_data = h5py.File(f'{selected_data_dir}/recoPFCandidates_particleFlow__RECO_obj_phi_.h5', 'r')['values']\n",
    "selected_pdgId_data = h5py.File(f'{selected_data_dir}/recoPFCandidates_particleFlow__RECO_obj_pdgId_.h5', 'r')['values']\n",
    "\n",
    "print(selected_pdgId_data.shape)\n",
    "\n",
    "# OPEN SIM\n",
    "selected_osim_dir = '/global/cfs/cdirs/m3246/ewitkowski/test_data'\n",
    "selected_pT_osim = h5py.File(f'{selected_osim_dir}/recoPFCandidates_particleFlow__RECO_obj_pt_.h5', 'r')['values']\n",
    "selected_eta_osim = h5py.File(f'{selected_osim_dir}/recoPFCandidates_particleFlow__RECO_obj_eta_.h5', 'r')['values']\n",
    "selected_phi_osim = h5py.File(f'{selected_osim_dir}/recoPFCandidates_particleFlow__RECO_obj_phi_.h5', 'r')['values']\n",
    "selected_pdgId_osim = h5py.File(f'{selected_osim_dir}/recoPFCandidates_particleFlow__RECO_obj_pdgId_.h5', 'r')['values']\n",
    "print(selected_pdgId_osim.shape)\n",
    "\n",
    "# SIM\n",
    "simulation_dir = '/global/cfs/cdirs/m3246/ewitkowski/delphes_data'\n",
    "sim_codes = [\"zmm_forcms_1000event-NoIso-pileup33_full\"]\n",
    "\n",
    "selected_tower_ET, selected_tower_eta, selected_tower_phi, selected_tower_E, selected_muon_pT, selected_muon_eta, selected_muon_phi = {},{},{},{},{},{},{}\n",
    "for code in sim_codes:\n",
    "    selected_tower_ET[code] = h5py.File(f'{simulation_dir}/{code}_Tower_ET.h5', 'r')['values']\n",
    "    selected_tower_eta[code] = h5py.File(f'{simulation_dir}/{code}_Tower_Eta.h5', 'r')['values']\n",
    "    selected_tower_phi[code] = h5py.File(f'{simulation_dir}/{code}_Tower_Phi.h5', 'r')['values']\n",
    "    selected_tower_E[code] = h5py.File(f'{simulation_dir}/{code}_Tower_E.h5', 'r')['values']\n",
    "    selected_muon_pT[code] = h5py.File(f'{simulation_dir}/{code}_Muon_PT.h5', 'r')['values']\n",
    "    selected_muon_eta[code] = h5py.File(f'{simulation_dir}/{code}_Muon_Eta.h5', 'r')['values']\n",
    "    selected_muon_phi[code] = h5py.File(f'{simulation_dir}/{code}_Muon_Phi.h5', 'r')['values']\n",
    "    \n"
   ]
  },
  {
   "cell_type": "code",
   "execution_count": 3,
   "id": "7ec8a36c-09cd-4314-aa01-d232d72c9427",
   "metadata": {
    "tags": []
   },
   "outputs": [],
   "source": [
    "muon_mass = 0.1056583755 # GeV\n",
    "particles_to_fastjet = [22, 130, 211, 1, 2]\n",
    "\n",
    "\n",
    "\n",
    "\n",
    "data_features = {\"mu_pt\":[],\n",
    "                 \"mu_eta\":[],\n",
    "                 \"mu_phi\":[],\n",
    "                 \"tower_pt\":[],\n",
    "                 \"tower_eta\":[],\n",
    "                 \"tower_phi\":[],   \n",
    "                 \"tower_mult\":[]\n",
    "                }\n",
    "\n",
    "osim_features = {\"mu_pt\":[],\n",
    "                 \"mu_eta\":[],\n",
    "                 \"mu_phi\":[],\n",
    "                 \"tower_pt\":[],\n",
    "                 \"tower_eta\":[],\n",
    "                 \"tower_phi\":[],   \n",
    "                 \"tower_mult\":[]\n",
    "                }\n",
    "                      \n",
    "                \n",
    "sim_features = {code:{\"mu_pt\":[],\n",
    "                      \n",
    "                 \"mu_eta\":[],\n",
    "                 \"mu_phi\":[],\n",
    "                 \"tower_pt\":[],\n",
    "                 \"tower_eta\":[],\n",
    "                 \"tower_phi\":[],    \n",
    "                 \"tower_mult\":[]}\n",
    "                for code in sim_codes\n",
    "                }"
   ]
  },
  {
   "cell_type": "markdown",
   "id": "d5597a3c-7905-4cdf-81d3-e8c8e8c157e6",
   "metadata": {},
   "source": [
    "Muons file:  pt eta phi M\n",
    "\n",
    "Hadrons file: px py pz E"
   ]
  },
  {
   "cell_type": "markdown",
   "id": "7bf30dd2-4516-43c4-9049-3e6902326eec",
   "metadata": {},
   "source": [
    "# Read in a chunk of the open data"
   ]
  },
  {
   "cell_type": "code",
   "execution_count": 4,
   "id": "386b0771-56d6-425e-8ee0-eb86118a0f64",
   "metadata": {
    "tags": []
   },
   "outputs": [
    {
     "name": "stdout",
     "output_type": "stream",
     "text": [
      "Processing DATA chunk from 0 to 10000...\n",
      "On event 0...\n",
      "On event 1000...\n",
      "On event 2000...\n",
      "On event 3000...\n",
      "On event 4000...\n",
      "On event 5000...\n",
      "On event 6000...\n",
      "On event 7000...\n",
      "On event 8000...\n",
      "On event 9000...\n",
      "Done processing chunk.\n",
      "\n",
      "\n",
      "Done completely!\n"
     ]
    }
   ],
   "source": [
    "start_read, stop_read, chunk_size = 0, 10000, 10000\n",
    "update_freq = int(chunk_size/10.0)\n",
    "\n",
    "current_chunk_start = start_read\n",
    "\n",
    "while current_chunk_start < stop_read:\n",
    "    \n",
    "    current_chunk_stop = current_chunk_start + chunk_size\n",
    "    print(f\"Processing DATA chunk from {current_chunk_start} to {current_chunk_stop}...\")\n",
    "   \n",
    "    for event in range(current_chunk_start, current_chunk_stop):\n",
    "        \n",
    "\n",
    "        if event % update_freq == 0:\n",
    "            print(f\"On event {event}...\")\n",
    "\n",
    "        # get the nonzero entries\n",
    "        loc_pid = selected_pdgId_data[event]\n",
    "        loc_pt = selected_pT_data[event][loc_pid != 0]\n",
    "        loc_eta = selected_eta_data[event][loc_pid != 0]\n",
    "        loc_phi = selected_phi_data[event][loc_pid != 0]\n",
    "        loc_pid = loc_pid[loc_pid != 0]    \n",
    "        num_particles = len(loc_pid)\n",
    "\n",
    "        # get the muons\n",
    "        muon_ids = np.where(np.abs(loc_pid) == 13)[0]\n",
    "        \n",
    "        data_features[\"mu_pt\"].append(loc_pt[muon_ids[0]])\n",
    "        data_features[\"mu_eta\"].append(loc_eta[muon_ids[0]])\n",
    "        data_features[\"mu_phi\"].append(loc_phi[muon_ids[0]])\n",
    "        data_features[\"mu_pt\"].append(loc_pt[muon_ids[1]])\n",
    "        data_features[\"mu_eta\"].append(loc_eta[muon_ids[1]])\n",
    "        data_features[\"mu_phi\"].append(loc_phi[muon_ids[1]])\n",
    "        \n",
    "\n",
    "        # get the hadrons\n",
    "        mult = 0\n",
    "        for particle_i in range(len(loc_pt)):\n",
    "            if np.abs(loc_pid[particle_i]) in particles_to_fastjet:\n",
    "                data_features[\"tower_pt\"].append(loc_pt[particle_i])\n",
    "                data_features[\"tower_eta\"].append(loc_eta[particle_i])\n",
    "                data_features[\"tower_phi\"].append(loc_phi[particle_i])\n",
    "                mult += 1\n",
    "        data_features[\"tower_mult\"].append(mult)\n",
    "                \n",
    "                \n",
    "\n",
    "    \n",
    "    print(f\"Done processing chunk.\")\n",
    "    print(\"\\n\")\n",
    "    \n",
    "    current_chunk_start += chunk_size\n",
    "\n",
    "print(\"Done completely!\")\n"
   ]
  },
  {
   "cell_type": "markdown",
   "id": "4b46ccb0-bca1-4566-9a69-5ac96c7d6986",
   "metadata": {},
   "source": [
    "# Read in a chunk of the open sim"
   ]
  },
  {
   "cell_type": "code",
   "execution_count": 5,
   "id": "1d4edf2c-c382-447a-b0c4-82f3aa01cbb6",
   "metadata": {
    "tags": []
   },
   "outputs": [
    {
     "name": "stdout",
     "output_type": "stream",
     "text": [
      "Processing DATA chunk from 0 to 10000...\n",
      "On event 0...\n",
      "On event 1000...\n",
      "On event 2000...\n",
      "On event 3000...\n",
      "On event 4000...\n",
      "On event 5000...\n",
      "On event 6000...\n",
      "On event 7000...\n",
      "On event 8000...\n",
      "On event 9000...\n",
      "Done processing chunk.\n",
      "\n",
      "\n",
      "Done completely!\n",
      "4665\n"
     ]
    }
   ],
   "source": [
    "start_read, stop_read, chunk_size = 0, 10000, 10000\n",
    "update_freq = int(chunk_size/10.0)\n",
    "\n",
    "current_chunk_start = start_read\n",
    "num_osim_failures = 0\n",
    "\n",
    "while current_chunk_start < stop_read:\n",
    "    \n",
    "    current_chunk_stop = current_chunk_start + chunk_size\n",
    "    print(f\"Processing DATA chunk from {current_chunk_start} to {current_chunk_stop}...\")\n",
    "   \n",
    "    for event in range(current_chunk_start, current_chunk_stop):\n",
    "        \n",
    "\n",
    "        if event % update_freq == 0:\n",
    "            print(f\"On event {event}...\")\n",
    "\n",
    "        # get the nonzero entries\n",
    "        loc_pid = selected_pdgId_osim[event]\n",
    "        loc_pt = selected_pT_osim[event][loc_pid != 0]\n",
    "        loc_eta = selected_eta_osim[event][loc_pid != 0]\n",
    "        loc_phi = selected_phi_osim[event][loc_pid != 0]\n",
    "        loc_pid = loc_pid[loc_pid != 0]    \n",
    "        num_particles = len(loc_pid)\n",
    "        \n",
    "\n",
    "        # get the muons\n",
    "        muon_ids = np.where(np.abs(loc_pid) == 13)[0]\n",
    "        \n",
    "        try:\n",
    "        \n",
    "            osim_features[\"mu_pt\"].append(loc_pt[muon_ids[0]])\n",
    "            osim_features[\"mu_eta\"].append(loc_eta[muon_ids[0]])\n",
    "            osim_features[\"mu_phi\"].append(loc_phi[muon_ids[0]])\n",
    "            osim_features[\"mu_pt\"].append(loc_pt[muon_ids[1]])\n",
    "            osim_features[\"mu_eta\"].append(loc_eta[muon_ids[1]])\n",
    "            osim_features[\"mu_phi\"].append(loc_phi[muon_ids[1]])\n",
    "\n",
    "\n",
    "            # get the hadrons\n",
    "            mult = 0\n",
    "            for particle_i in range(len(loc_pt)):\n",
    "                if np.abs(loc_pid[particle_i]) in particles_to_fastjet:\n",
    "                    osim_features[\"tower_pt\"].append(loc_pt[particle_i])\n",
    "                    osim_features[\"tower_eta\"].append(loc_eta[particle_i])\n",
    "                    osim_features[\"tower_phi\"].append(loc_phi[particle_i])\n",
    "                    mult += 1\n",
    "            osim_features[\"tower_mult\"].append(mult)\n",
    "            \n",
    "        except: \n",
    "            num_osim_failures += 1\n",
    "            \n",
    "                \n",
    "                \n",
    "\n",
    "    \n",
    "    print(f\"Done processing chunk.\")\n",
    "    print(\"\\n\")\n",
    "    \n",
    "    current_chunk_start += chunk_size\n",
    "\n",
    "print(\"Done completely!\")\n",
    "print(num_osim_failures)\n"
   ]
  },
  {
   "cell_type": "markdown",
   "id": "43c219d3-e856-4616-9be3-f6e267bedaf6",
   "metadata": {},
   "source": [
    "# Read in a chunk of the sim"
   ]
  },
  {
   "cell_type": "code",
   "execution_count": 7,
   "id": "5ce997cc-243d-4826-888c-8886f4c6ea90",
   "metadata": {
    "tags": []
   },
   "outputs": [
    {
     "name": "stdout",
     "output_type": "stream",
     "text": [
      "zmm_forcms_1000event-NoIso-pileup33_full\n",
      "Processing SIM chunk from 0 to 10000...\n",
      "On event 0...\n",
      "On event 1000...\n",
      "On event 2000...\n",
      "On event 3000...\n",
      "On event 4000...\n",
      "On event 5000...\n",
      "On event 6000...\n",
      "On event 7000...\n",
      "On event 8000...\n",
      "On event 9000...\n",
      "Done processing chunk.\n",
      "2078 events without 2 muons\n",
      "\n",
      "\n",
      "Done completely!\n"
     ]
    }
   ],
   "source": [
    "start_read, stop_read, chunk_size = 0, 10000, 10000\n",
    "update_freq = int(chunk_size/10.0)\n",
    "    \n",
    "    \n",
    "\n",
    "for code in sim_codes:\n",
    "    \n",
    "    print(code)\n",
    "    \n",
    "    \n",
    "    current_chunk_start = start_read\n",
    "\n",
    "    while current_chunk_start < stop_read:\n",
    "\n",
    "\n",
    "        current_chunk_stop = current_chunk_start + chunk_size\n",
    "        print(f\"Processing SIM chunk from {current_chunk_start} to {current_chunk_stop}...\")\n",
    "\n",
    "        num_rejects = 0\n",
    "\n",
    "        for event in range(current_chunk_start, current_chunk_stop):\n",
    "\n",
    "            if event % update_freq == 0:\n",
    "                print(f\"On event {event}...\")\n",
    "\n",
    "            # get the nonmuons\n",
    "            loc_E = selected_tower_E[code][event]\n",
    "            loc_eta = selected_tower_eta[code][event][loc_E != 0]\n",
    "            loc_phi = selected_tower_phi[code][event][loc_E != 0]\n",
    "            loc_ET = selected_tower_ET[code][event][loc_E != 0]\n",
    "            loc_E = loc_E[loc_E != 0]    \n",
    "\n",
    "            # get the muons\n",
    "            loc_mu_pt = selected_muon_pT[code][event]\n",
    "            loc_mu_eta = selected_muon_eta[code][event][loc_mu_pt != 0]\n",
    "            loc_mu_phi = selected_muon_phi[code][event][loc_mu_pt != 0]\n",
    "            loc_mu_pt = loc_mu_pt[loc_mu_pt != 0]\n",
    "\n",
    "            if len(loc_mu_pt) != 2:\n",
    "                num_rejects += 1\n",
    "\n",
    "            else:\n",
    "\n",
    "                sim_features[code][\"mu_pt\"].append(loc_mu_pt[0])\n",
    "                sim_features[code][\"mu_eta\"].append(loc_mu_eta[0])\n",
    "                sim_features[code][\"mu_phi\"].append(loc_mu_phi[0])\n",
    "                sim_features[code][\"mu_pt\"].append(loc_mu_pt[1])\n",
    "                sim_features[code][\"mu_eta\"].append(loc_mu_eta[1])\n",
    "                sim_features[code][\"mu_phi\"].append(loc_mu_phi[1])\n",
    "\n",
    "                # get the hadrons\n",
    "                mult = 0\n",
    "                for particle_i in range(len(loc_E)):\n",
    "                    sim_features[code][\"tower_pt\"].append(loc_ET[particle_i])\n",
    "                    sim_features[code][\"tower_eta\"].append(loc_eta[particle_i])\n",
    "                    sim_features[code][\"tower_phi\"].append(loc_phi[particle_i])\n",
    "                    mult += 1\n",
    "                sim_features[code][\"tower_mult\"].append(mult)\n",
    "\n",
    "        print(f\"Done processing chunk.\")\n",
    "        print(f\"{num_rejects} events without 2 muons\")\n",
    "        print(\"\\n\")\n",
    "\n",
    "        current_chunk_start += chunk_size\n",
    "\n",
    "print(\"Done completely!\")\n",
    "\n",
    "\n"
   ]
  },
  {
   "cell_type": "code",
   "execution_count": 10,
   "id": "14cce74a-ebb2-4dfe-8b91-1463f1690241",
   "metadata": {},
   "outputs": [
    {
     "data": {
      "image/png": "[encoded data removed]",
      "text/plain": [
       "<Figure size 432x288 with 1 Axes>"
      ]
     },
     "metadata": {
      "needs_background": "light"
     },
     "output_type": "display_data"
    },
    {
     "data": {
      "image/png": "[encoded data removed]",
      "text/plain": [
       "<Figure size 432x288 with 1 Axes>"
      ]
     },
     "metadata": {
      "needs_background": "light"
     },
     "output_type": "display_data"
    },
    {
     "data": {
      "image/png": "[encoded data removed]",
      "text/plain": [
       "<Figure size 432x288 with 1 Axes>"
      ]
     },
     "metadata": {
      "needs_background": "light"
     },
     "output_type": "display_data"
    },
    {
     "data": {
      "image/png": "[encoded data removed]",
      "text/plain": [
       "<Figure size 432x288 with 1 Axes>"
      ]
     },
     "metadata": {
      "needs_background": "light"
     },
     "output_type": "display_data"
    },
    {
     "data": {
      "image/png": "[encoded data removed]",
      "text/plain": [
       "<Figure size 432x288 with 1 Axes>"
      ]
     },
     "metadata": {
      "needs_background": "light"
     },
     "output_type": "display_data"
    },
    {
     "data": {
      "image/png": "[encoded data removed]",
      "text/plain": [
       "<Figure size 432x288 with 1 Axes>"
      ]
     },
     "metadata": {
      "needs_background": "light"
     },
     "output_type": "display_data"
    },
    {
     "data": {
      "image/png": "[encoded data removed]",
      "text/plain": [
       "<Figure size 432x288 with 1 Axes>"
      ]
     },
     "metadata": {
      "needs_background": "light"
     },
     "output_type": "display_data"
    }
   ],
   "source": [
    "num_bins = 50\n",
    "\n",
    "bins = {\"mu_pt\":np.linspace(0, 200, num_bins),\n",
    "                 \"mu_eta\":np.linspace(-2.5, 2.5, num_bins),\n",
    "                 \"mu_phi\":np.linspace(-3.5, 3.5, num_bins),\n",
    "                 \"tower_pt\":np.linspace(0, 10, num_bins),\n",
    "                 \"tower_eta\":np.linspace(-2.5, 2.5, num_bins),\n",
    "                 \"tower_phi\":np.linspace(-3.5, 3.5, num_bins),\n",
    "                 \"tower_mult\":np.linspace(0, 2500, num_bins),\n",
    "                }\n",
    "\n",
    "\n",
    "for i, key in enumerate(data_features.keys()):\n",
    "\n",
    "    plt.figure()\n",
    "    plt.hist(data_features[key], bins = bins[key], density = True, histtype = \"step\", label = \"DATA\", linewidth = 2)\n",
    "    plt.hist(sim_features[\"zmm_forcms_1000event-NoIso-pileup33_full\"][key], bins = bins[key], density = True, histtype = \"step\", label = \"SIM no iso\", linewidth = 2)\n",
    "\n",
    "    plt.hist(osim_features[key], bins = bins[key], density = True, histtype = \"step\", label = \"OPEN SIM\", linewidth = 2)\n",
    "\n",
    "\n",
    "    plt.xlabel(key)\n",
    "    plt.legend()\n",
    "    plt.show()\n"
   ]
  },
  {
   "cell_type": "code",
   "execution_count": null,
   "id": "65b3604f-e97e-4ba1-a9b8-380bcf0d32dd",
   "metadata": {},
   "outputs": [],
   "source": [
    "for i, key in enumerate([\"tower_pt\", \"tower_eta\", \"tower_phi\"]):\n",
    "\n",
    "    plt.figure()\n",
    "    plt.hist(data_features[key], bins = bins[key], density = True, histtype = \"step\", label = \"DATA\", linewidth = 2)\n",
    "    plt.hist(sim_features[\"zmm_forcms_1000event-NoIso-pileup33_full\"][key], bins = 30, density = True, histtype = \"step\", label = \"SIM no iso\", linewidth = 2)\n",
    "    plt.xlabel(key)\n",
    "    plt.yscale(\"log\")\n",
    "    plt.legend()\n",
    "    plt.show()\n",
    "    "
   ]
  },
  {
   "cell_type": "code",
   "execution_count": null,
   "id": "b8f76fb8-ab57-420c-89fc-35ce39515bc5",
   "metadata": {},
   "outputs": [],
   "source": []
  },
  {
   "cell_type": "code",
   "execution_count": null,
   "id": "8c7e17d9-0e0c-4b44-a867-0b5642bc8711",
   "metadata": {},
   "outputs": [],
   "source": [
    "import matplotlib as mpl\n",
    "\n",
    "n = 20000\n",
    "b = [200,160]\n",
    "plt.figure(figsize=(8,8))\n",
    "plt.hist2d(sim_features[\"zmm_forcms_1000event-NoIso-pileup33_full\"][\"tower_pt\"][:n], \n",
    "           sim_features[\"zmm_forcms_1000event-NoIso-pileup33_full\"][\"tower_eta\"][:n],\n",
    "           bins = b, norm=mpl.colors.LogNorm())\n",
    "plt.xlabel(\"Tower pT\")\n",
    "plt.ylabel(\"Tower eta\")\n",
    "plt.colorbar()\n",
    "plt.xlim(-1,30)\n",
    "plt.ylim(-5,5)\n",
    "plt.show()\n",
    "\n"
   ]
  },
  {
   "cell_type": "code",
   "execution_count": null,
   "id": "ef416b41-94e5-41d2-b89c-bb749a340bf7",
   "metadata": {},
   "outputs": [],
   "source": [
    "\n",
    "n = 20000\n",
    "b = [200,160]\n",
    "plt.figure(figsize=(8,8))\n",
    "plt.hist2d(data_features[\"tower_pt\"][:n], \n",
    "           data_features[\"tower_eta\"][:n],\n",
    "           bins = b, norm=mpl.colors.LogNorm())\n",
    "plt.xlabel(\"Tower pT\")\n",
    "plt.ylabel(\"Tower eta\")\n",
    "plt.colorbar()\n",
    "plt.xlim(-1,30)\n",
    "plt.ylim(-5,5)\n",
    "plt.show()\n"
   ]
  },
  {
   "cell_type": "code",
   "execution_count": null,
   "id": "bad959b5-d7b7-497a-af37-e906f447918f",
   "metadata": {},
   "outputs": [],
   "source": []
  },
  {
   "cell_type": "code",
   "execution_count": null,
   "id": "bc1b9742-ab0e-48df-9362-0cf2f9fc6813",
   "metadata": {},
   "outputs": [],
   "source": []
  },
  {
   "cell_type": "code",
   "execution_count": null,
   "id": "8e8ec7d6-c51e-44f6-bf72-f3d817f2a1e4",
   "metadata": {},
   "outputs": [],
   "source": []
  }
 ],
 "metadata": {
  "kernelspec": {
   "display_name": "Python 3 (ipykernel)",
   "language": "python",
   "name": "python3"
  },
  "language_info": {
   "codemirror_mode": {
    "name": "ipython",
    "version": 3
   },
   "file_extension": ".py",
   "mimetype": "text/x-python",
   "name": "python",
   "nbconvert_exporter": "python",
   "pygments_lexer": "ipython3",
   "version": "3.8.5"
  }
 },
 "nbformat": 4,
 "nbformat_minor": 5
}

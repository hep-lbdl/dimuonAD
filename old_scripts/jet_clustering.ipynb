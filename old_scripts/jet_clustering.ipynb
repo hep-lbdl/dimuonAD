{
 "cells": [
  {
   "cell_type": "code",
   "execution_count": 1,
   "id": "ba8b9db0-7c29-4e4b-ac4d-caf24c77e773",
   "metadata": {
    "tags": []
   },
   "outputs": [],
   "source": [
    "import h5py\n",
    "import numpy as np\n",
    "import matplotlib.pyplot as plt"
   ]
  },
  {
   "cell_type": "code",
   "execution_count": 2,
   "id": "263b5628-589a-4d90-8dd9-8196559a0d78",
   "metadata": {
    "tags": []
   },
   "outputs": [],
   "source": [
    "selected_data_dir = '/global/cfs/cdirs/m3246/ewitkowski/selected_data'\n",
    "selected_pT = h5py.File(f'{selected_data_dir}/recoPFCandidates_particleFlow__RECO_obj_pt_.h5', 'r')\n",
    "selected_eta = h5py.File(f'{selected_data_dir}/recoPFCandidates_particleFlow__RECO_obj_eta_.h5', 'r')\n",
    "selected_phi = h5py.File(f'{selected_data_dir}/recoPFCandidates_particleFlow__RECO_obj_phi_.h5', 'r')\n",
    "selected_pdgId = h5py.File(f'{selected_data_dir}/recoPFCandidates_particleFlow__RECO_obj_pdgId_.h5', 'r')"
   ]
  },
  {
   "cell_type": "code",
   "execution_count": 3,
   "id": "597d6fe6-7b98-4dea-822e-7932d21ba40e",
   "metadata": {
    "tags": []
   },
   "outputs": [],
   "source": [
    "import awkward as ak\n",
    "import fastjet\n",
    "import vector\n",
    "vector.register_awkward()"
   ]
  },
  {
   "cell_type": "code",
   "execution_count": 14,
   "id": "531c740f-9d55-4d1c-ae6a-33cdc0dcc428",
   "metadata": {
    "tags": []
   },
   "outputs": [
    {
     "name": "stdout",
     "output_type": "stream",
     "text": [
      "Event 0 has 1290 particles.\n",
      "Event 0 has 94 jets.\n",
      "\n",
      "\n",
      "Event 1 has 1363 particles.\n",
      "Event 1 has 93 jets.\n",
      "\n",
      "\n",
      "Event 2 has 1703 particles.\n",
      "Event 2 has 96 jets.\n",
      "\n",
      "\n",
      "Event 3 has 1758 particles.\n",
      "Event 3 has 93 jets.\n",
      "\n",
      "\n",
      "Event 4 has 1680 particles.\n",
      "Event 4 has 98 jets.\n",
      "\n",
      "\n",
      "Event 5 has 1537 particles.\n",
      "Event 5 has 98 jets.\n",
      "\n",
      "\n",
      "Event 6 has 1724 particles.\n",
      "Event 6 has 95 jets.\n",
      "\n",
      "\n",
      "Event 7 has 1744 particles.\n",
      "Event 7 has 99 jets.\n",
      "\n",
      "\n",
      "Event 8 has 1804 particles.\n",
      "Event 8 has 100 jets.\n",
      "\n",
      "\n",
      "Event 9 has 1240 particles.\n",
      "Event 9 has 98 jets.\n",
      "\n",
      "\n",
      "Done!\n"
     ]
    }
   ],
   "source": [
    "# following this example: https://github.com/scikit-hep/fastjet/blob/main/tests/test_001-basic_clustering.py\n",
    "# https://fastjet.readthedocs.io/en/latest/Awkward.html#clustersequence-class\n",
    "\n",
    "num_events = 10\n",
    "\n",
    "for event in range(num_events):\n",
    "    \n",
    "    loc_pt = selected_pT['values'][event]\n",
    "    loc_eta = selected_eta['values'][event]\n",
    "    loc_phi = selected_phi['values'][event]\n",
    "    num_particles = len(loc_pt[loc_pt != 0])\n",
    "    print(f\"Event {event} has {num_particles} particles.\")\n",
    "    \n",
    "    # make the event array\n",
    "    event_array = []\n",
    "    for particle in range(num_particles):\n",
    "        event_array.append({\"pt\": loc_pt[particle], \"eta\": loc_eta[particle], \"phi\": loc_phi[particle], \"M\": 0})\n",
    "            \n",
    "    event_array_awk = ak.Array(event_array, with_name=\"Momentum4D\",behavior=vector.backends.awkward.behavior,)\n",
    "    \n",
    "    jetdef = fastjet.JetDefinition(fastjet.antikt_algorithm, 0.6)\n",
    "    jets = fastjet._pyjet.AwkwardClusterSequence(event_array_awk, jetdef).inclusive_jets()\n",
    "    \n",
    "    print(f\"Event {event} has {len(jets)} jets.\")\n",
    "    \n",
    "    #for jet in jets[:4]:\n",
    "    #    jet_object = vector.obj(px = jet[\"px\"], py = jet[\"py\"], pz = jet[\"pz\"], E = jet[\"E\"])\n",
    "    #    print(jet_object.to_rhophietat())\n",
    "\n",
    "        \n",
    "    print(\"\\n\")\n",
    "    \n",
    "print(\"Done!\")\n",
    "                                         "
   ]
  },
  {
   "cell_type": "code",
   "execution_count": null,
   "id": "d10bfac4-3465-42c3-9f6d-16b131d0ff4c",
   "metadata": {},
   "outputs": [],
   "source": []
  },
  {
   "cell_type": "code",
   "execution_count": null,
   "id": "3c64c4b5-b7d9-4b9a-9606-aeef02fd1f42",
   "metadata": {},
   "outputs": [],
   "source": []
  }
 ],
 "metadata": {
  "kernelspec": {
   "display_name": "Python 3 (ipykernel)",
   "language": "python",
   "name": "python3"
  },
  "language_info": {
   "codemirror_mode": {
    "name": "ipython",
    "version": 3
   },
   "file_extension": ".py",
   "mimetype": "text/x-python",
   "name": "python",
   "nbconvert_exporter": "python",
   "pygments_lexer": "ipython3",
   "version": "3.8.5"
  }
 },
 "nbformat": 4,
 "nbformat_minor": 5
}

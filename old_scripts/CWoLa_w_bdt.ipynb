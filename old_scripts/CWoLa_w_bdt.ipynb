{
 "cells": [
  {
   "cell_type": "code",
   "execution_count": 1,
   "id": "3718afce-92be-45db-aeb1-29efa7836e31",
   "metadata": {
    "tags": []
   },
   "outputs": [],
   "source": [
    "import numpy as np\n",
    "import matplotlib.pyplot as plt\n",
    "\n",
    "import os\n",
    "import pickle\n",
    "\n",
    "from helpers.evaluation import run_BDTs, run_NNs"
   ]
  },
  {
   "cell_type": "code",
   "execution_count": 4,
   "id": "ba7a1861-a976-4943-86f7-b579ada0f819",
   "metadata": {
    "tags": []
   },
   "outputs": [],
   "source": [
    "# load in the data\n",
    "\n",
    "bands = [\"SBL\", \"IBL\", \"SR\", \"IBH\", \"SBH\"]\n",
    "data_dict = {}\n",
    "project_id = \"SUSY\"\n",
    "\n",
    "feature_set = ['dijet_pt', 'dijet_eta', 'dijet_mass', 'jet0_btag', 'jet1_btag', 'higgs_pt', 'higgs_eta', 'higgs_mass', 'dimu_pt', 'dimu_eta', 'dimu_mass']\n",
    "feature_set = [ 'jet0_btag', 'jet1_btag',  'higgs_pt', 'higgs_eta','higgs_mass','dimu_mass']\n",
    "\n",
    "num_features = len(feature_set)-1\n",
    "\n",
    "with open(f\"processed_data/{project_id}_fullsup\", \"rb\") as infile:\n",
    "    fullsup_data = pickle.load(infile)\n",
    "\n",
    "with open(f\"processed_data/{project_id}_test\", \"rb\") as infile:\n",
    "    test_data = pickle.load(infile)\n"
   ]
  },
  {
   "cell_type": "markdown",
   "id": "67aad11d-5c1c-4ad9-83bc-bb614aafe39f",
   "metadata": {},
   "source": [
    "# First eval fullsup"
   ]
  },
  {
   "cell_type": "code",
   "execution_count": 5,
   "id": "c599a1c6-44e5-4613-b839-d6148233f23b",
   "metadata": {
    "tags": []
   },
   "outputs": [
    {
     "data": {
      "image/png": "[encoded data removed]",
      "text/plain": [
       "<Figure size 1440x288 with 5 Axes>"
      ]
     },
     "metadata": {
      "needs_background": "light"
     },
     "output_type": "display_data"
    }
   ],
   "source": [
    "bins = np.linspace(-4.5, 4.5, 50)\n",
    "\n",
    "\n",
    "\n",
    "fig, ax = plt.subplots(1, num_features, figsize = (20, 4))\n",
    "for i, feat in enumerate(feature_set[:-1]):\n",
    "    ax[i].hist(fullsup_data[\"sig\"][feat], bins = bins, label = \"S\", histtype = \"step\", density = \"True\")\n",
    "    ax[i].hist(fullsup_data[\"bkg\"][feat], bins = bins, label = \"B\", histtype = \"step\", density = \"True\")\n",
    "    #ax[i].set_yscale(\"log\")\n",
    "\n",
    "ax[0].legend()\n",
    "plt.show()"
   ]
  },
  {
   "cell_type": "code",
   "execution_count": 6,
   "id": "99302a7b-b1f3-4445-be2c-bcfe8df0cf8f",
   "metadata": {
    "tags": []
   },
   "outputs": [
    {
     "name": "stdout",
     "output_type": "stream",
     "text": [
      "(220000, 5) (220000, 1)\n",
      "(20000, 5) (20000, 1)\n",
      "\n",
      "Training class weights:  {0: 1, 1: 1.0}\n",
      "Tree number: 0\n",
      "Tree number: 1\n",
      "Tree number: 2\n",
      "Tree number: 3\n",
      "Using device: cuda\n",
      "Using seed 1...\n",
      "Train data, labels shape: (220000, 5) (220000, 1)\n",
      "Test data, labels  shape: (20000, 5) (20000, 1)\n"
     ]
    },
    {
     "name": "stderr",
     "output_type": "stream",
     "text": [
      "  0%|          | 0/50 [00:00<?, ?it/s]"
     ]
    },
    {
     "name": "stdout",
     "output_type": "stream",
     "text": [
      "FOLD 0\n",
      "--------------------------------\n"
     ]
    },
    {
     "name": "stderr",
     "output_type": "stream",
     "text": [
      " 78%|███████▊  | 39/50 [01:14<00:20,  1.91s/it]\n",
      "  0%|          | 0/50 [00:00<?, ?it/s]"
     ]
    },
    {
     "name": "stdout",
     "output_type": "stream",
     "text": [
      "Done training fold 0. Best val loss 0.5130255222320557 at epoch 34\n",
      "FOLD 1\n",
      "--------------------------------\n"
     ]
    },
    {
     "name": "stderr",
     "output_type": "stream",
     "text": [
      " 44%|████▍     | 22/50 [00:42<00:53,  1.92s/it]\n",
      "  0%|          | 0/50 [00:00<?, ?it/s]"
     ]
    },
    {
     "name": "stdout",
     "output_type": "stream",
     "text": [
      "Done training fold 1. Best val loss 0.5131007432937622 at epoch 17\n",
      "Loading in best model for tmp/.bc_fold0.pt, val loss 0.5130255222320557 from fold 0\n",
      "Using seed 2...\n",
      "Train data, labels shape: (220000, 5) (220000, 1)\n",
      "Test data, labels  shape: (20000, 5) (20000, 1)\n",
      "FOLD 0\n",
      "--------------------------------\n"
     ]
    },
    {
     "name": "stderr",
     "output_type": "stream",
     "text": [
      " 72%|███████▏  | 36/50 [01:08<00:26,  1.92s/it]\n",
      "  0%|          | 0/50 [00:00<?, ?it/s]"
     ]
    },
    {
     "name": "stdout",
     "output_type": "stream",
     "text": [
      "Done training fold 0. Best val loss 0.5133266448974609 at epoch 31\n",
      "FOLD 1\n",
      "--------------------------------\n"
     ]
    },
    {
     "name": "stderr",
     "output_type": "stream",
     "text": [
      " 70%|███████   | 35/50 [01:09<00:29,  1.99s/it]\n",
      "  0%|          | 0/50 [00:00<?, ?it/s]"
     ]
    },
    {
     "name": "stdout",
     "output_type": "stream",
     "text": [
      "Done training fold 1. Best val loss 0.5116455554962158 at epoch 30\n",
      "Loading in best model for tmp/.bc_fold1.pt, val loss 0.5116455554962158 from fold 1\n",
      "Using seed 3...\n",
      "Train data, labels shape: (220000, 5) (220000, 1)\n",
      "Test data, labels  shape: (20000, 5) (20000, 1)\n",
      "FOLD 0\n",
      "--------------------------------\n"
     ]
    },
    {
     "name": "stderr",
     "output_type": "stream",
     "text": [
      "100%|██████████| 50/50 [01:39<00:00,  1.99s/it]\n",
      "  0%|          | 0/50 [00:00<?, ?it/s]"
     ]
    },
    {
     "name": "stdout",
     "output_type": "stream",
     "text": [
      "Done training fold 0. Best val loss 0.5137531161308289 at epoch 47\n",
      "FOLD 1\n",
      "--------------------------------\n"
     ]
    },
    {
     "name": "stderr",
     "output_type": "stream",
     "text": [
      " 86%|████████▌ | 43/50 [01:26<00:14,  2.01s/it]\n",
      "  0%|          | 0/50 [00:00<?, ?it/s]"
     ]
    },
    {
     "name": "stdout",
     "output_type": "stream",
     "text": [
      "Done training fold 1. Best val loss 0.5086026191711426 at epoch 38\n",
      "Loading in best model for tmp/.bc_fold1.pt, val loss 0.5086026191711426 from fold 1\n",
      "Using seed 4...\n",
      "Train data, labels shape: (220000, 5) (220000, 1)\n",
      "Test data, labels  shape: (20000, 5) (20000, 1)\n",
      "FOLD 0\n",
      "--------------------------------\n"
     ]
    },
    {
     "name": "stderr",
     "output_type": "stream",
     "text": [
      " 60%|██████    | 30/50 [01:00<00:40,  2.03s/it]\n",
      "  0%|          | 0/50 [00:00<?, ?it/s]"
     ]
    },
    {
     "name": "stdout",
     "output_type": "stream",
     "text": [
      "Done training fold 0. Best val loss 0.5100812911987305 at epoch 25\n",
      "FOLD 1\n",
      "--------------------------------\n"
     ]
    },
    {
     "name": "stderr",
     "output_type": "stream",
     "text": [
      " 52%|█████▏    | 26/50 [00:53<00:49,  2.05s/it]"
     ]
    },
    {
     "name": "stdout",
     "output_type": "stream",
     "text": [
      "Done training fold 1. Best val loss 0.5181165933609009 at epoch 21\n",
      "Loading in best model for tmp/.bc_fold0.pt, val loss 0.5100812911987305 from fold 0\n"
     ]
    },
    {
     "name": "stderr",
     "output_type": "stream",
     "text": [
      "\n"
     ]
    }
   ],
   "source": [
    "num_runs = 4\n",
    "\n",
    "# make the datasets\n",
    "\n",
    "fullsup_bkg = np.empty((fullsup_data[\"bkg\"][\"dimu_mass\"].shape[0], num_features))\n",
    "fullsup_sig = np.empty((fullsup_data[\"sig\"][\"dimu_mass\"].shape[0], num_features))\n",
    "test_bkg = np.empty((test_data[\"bkg\"][\"dimu_mass\"].shape[0], num_features))\n",
    "test_sig = np.empty((test_data[\"sig\"][\"dimu_mass\"].shape[0], num_features))\n",
    "\n",
    "\n",
    "for i, feat in enumerate(feature_set[:-1]):\n",
    "    fullsup_bkg[:,i] = fullsup_data[\"bkg\"][feat].reshape(-1,)\n",
    "    fullsup_sig[:,i] = fullsup_data[\"sig\"][feat].reshape(-1,)\n",
    "    test_bkg[:,i] = test_data[\"bkg\"][feat].reshape(-1,)\n",
    "    test_sig[:,i] = test_data[\"sig\"][feat].reshape(-1,)\n",
    "\n",
    "\n",
    "scores_bdt = run_BDTs(fullsup_bkg, fullsup_sig, test_bkg, test_sig, num_runs)\n",
    "with open(f\"classifier_results/fullsup_higgwbtag_bdt\", \"wb\") as ofile:\n",
    "    pickle.dump(scores_bdt,ofile)\n",
    "\n",
    "from numba import cuda\n",
    "import torch\n",
    "device = cuda.get_current_device()\n",
    "device.reset()\n",
    "torch.set_num_threads(2)\n",
    "device = torch.device( \"cuda\" if torch.cuda.is_available() else \"cpu\")\n",
    "print( \"Using device: \" + str( device ), flush=True)\n",
    "\n",
    "\n",
    "scores_nn = run_NNs(fullsup_bkg, fullsup_sig, test_bkg, test_sig, num_runs, device)\n",
    "with open(f\"classifier_results/fullsup_higgwbtag_nn\", \"wb\") as ofile:\n",
    "    pickle.dump(scores_nn,ofile)\n",
    "\n"
   ]
  },
  {
   "cell_type": "code",
   "execution_count": 7,
   "id": "38a12f0c-c257-4599-9079-eeaf062d38ba",
   "metadata": {
    "tags": []
   },
   "outputs": [
    {
     "name": "stdout",
     "output_type": "stream",
     "text": [
      "all\n",
      "higgs\n",
      "higgswbtag\n",
      "mass\n",
      "masswbtag\n"
     ]
    },
    {
     "data": {
      "image/png": "[encoded data removed]",
      "text/plain": [
       "<Figure size 864x432 with 2 Axes>"
      ]
     },
     "metadata": {
      "needs_background": "light"
     },
     "output_type": "display_data"
    }
   ],
   "source": [
    "all_scores_bdt = {}\n",
    "all_scores_nn = {}\n",
    "\n",
    "with open(f\"classifier_results/fullsup_all_bdt\", \"rb\") as ifile:\n",
    "    all_scores_bdt[\"all\"] = pickle.load(ifile)\n",
    "    \n",
    "with open(f\"classifier_results/fullsup_all_nn\", \"rb\") as ifile:\n",
    "    all_scores_nn[\"all\"] = pickle.load(ifile)\n",
    "    \n",
    "\n",
    "with open(f\"classifier_results/fullsup_higg_bdt\", \"rb\") as ifile:\n",
    "    all_scores_bdt[\"higgs\"] = pickle.load(ifile)\n",
    "    \n",
    "with open(f\"classifier_results/fullsup_higg_nn\", \"rb\") as ifile:\n",
    "    all_scores_nn[\"higgs\"] = pickle.load(ifile)\n",
    "    \n",
    "    \n",
    "with open(f\"classifier_results/fullsup_higgwbtag_bdt\", \"rb\") as ifile:\n",
    "    all_scores_bdt[\"higgswbtag\"] = pickle.load(ifile)\n",
    "    \n",
    "with open(f\"classifier_results/fullsup_higgwbtag_nn\", \"rb\") as ifile:\n",
    "    all_scores_nn[\"higgswbtag\"] = pickle.load(ifile)\n",
    "    \n",
    "    \n",
    "\n",
    "\n",
    "with open(f\"classifier_results/fullsup_mass_bdt\", \"rb\") as ifile:\n",
    "    all_scores_bdt[\"mass\"] = pickle.load(ifile)\n",
    "    \n",
    "with open(f\"classifier_results/fullsup_mass_nn\", \"rb\") as ifile:\n",
    "    all_scores_nn[\"mass\"] = pickle.load(ifile)\n",
    "          \n",
    "with open(f\"classifier_results/fullsup_masswbtag_bdt\", \"rb\") as ifile:\n",
    "    all_scores_bdt[\"masswbtag\"] = pickle.load(ifile)\n",
    "    \n",
    "with open(f\"classifier_results/fullsup_masswbtag_nn\", \"rb\") as ifile:\n",
    "    all_scores_nn[\"masswbtag\"] = pickle.load(ifile)\n",
    "    \n",
    "    \n",
    "\n",
    "labels_dict = {\n",
    "            \"mass\":\"dijet + H mass\",\n",
    "            \"masswbtag\":\"dijet + H mass + btag\",\n",
    "            \"higgs\":\"higgs pt eta phi\",\n",
    "            \"higgswbtag\":\"higgs + btag\",\n",
    "            \"all\":\"all\",\n",
    "              \n",
    "              }\n",
    "\n",
    "colors = [\"black\", \"red\", \"blue\", \"green\", \"purple\"]\n",
    "\n",
    "\n",
    "fig, ax = plt.subplots(1, 2, figsize= (12,6))\n",
    "\n",
    "\n",
    "# calculate the sic curves\n",
    "with np.errstate(divide='ignore', invalid='ignore'):\n",
    "    for j, run_id in enumerate(all_scores_bdt.keys()):\n",
    "        print(run_id)\n",
    "        for i in range(num_runs):\n",
    "            if i == 0: \n",
    "                label = labels_dict[run_id]\n",
    "                ax[0].plot(all_scores_bdt[run_id][i][\"tpr\"], np.divide(all_scores_bdt[run_id][i][\"tpr\"], np.sqrt(all_scores_bdt[run_id][i][\"tpr\"])), color = \"grey\", lw = 10, alpha = 0.3)\n",
    "                ax[1].plot(all_scores_nn[run_id][i][\"tpr\"], np.divide(all_scores_nn[run_id][i][\"tpr\"], np.sqrt(all_scores_nn[run_id][i][\"tpr\"])), color = \"grey\", lw = 10, alpha = 0.3)\n",
    "\n",
    "            else: label = None\n",
    "\n",
    "            # bdt results\n",
    "            sic = np.divide(all_scores_bdt[run_id][i][\"tpr\"], np.sqrt(all_scores_bdt[run_id][i][\"fpr\"]))\n",
    "            ax[0].plot(all_scores_bdt[run_id][i][\"tpr\"], sic, color = colors[j], label = label)\n",
    "\n",
    "            # nn results\n",
    "            sic = np.divide(all_scores_nn[run_id][i][\"tpr\"], np.sqrt(all_scores_nn[run_id][i][\"fpr\"]))\n",
    "            ax[1].plot(all_scores_nn[run_id][i][\"tpr\"], sic, color = colors[j], label = label)\n",
    "\n",
    "\n",
    "\n",
    "f = 20\n",
    "ax[0].set_xlabel(\"tpr\", fontsize = f)\n",
    "ax[0].set_ylabel(\"sic\", fontsize = f)\n",
    "ax[0].set_title(\"bdt\", fontsize = f)\n",
    "ax[0].set_ylim(0, 5)\n",
    "\n",
    "ax[1].set_xlabel(\"tpr\", fontsize = f)\n",
    "#ax[1].set_ylabel(\"sic\", fontsize = f)\n",
    "ax[1].set_title(\"nn\", fontsize = f)\n",
    "ax[1].set_ylim(0, 5)\n",
    "\n",
    "\n",
    "plt.legend()\n",
    "    \n",
    "\n",
    "plt.show()\n",
    "\n"
   ]
  },
  {
   "cell_type": "markdown",
   "id": "7742280f-93d3-401d-aa9c-49ccf1a93c40",
   "metadata": {},
   "source": [
    "# now analyze the samples"
   ]
  },
  {
   "cell_type": "code",
   "execution_count": null,
   "id": "55ff5431-1ebc-4325-a6c4-8ec98ea8e2fb",
   "metadata": {},
   "outputs": [],
   "source": [
    "flow_training_id = \"SUSY_all\"#f\"Masked_PRQ_AR_{num_layers}layers_{num_hidden_features}hidden_{num_blocks}blocks_{seed}seed\"\n",
    "\n",
    "num_features = len(feature_set) - 1 # context doesn't count\n",
    "seed = 8\n",
    "\n",
    "num_layers = 2\n",
    "num_hidden_features = 16\n",
    "num_blocks = 4\n",
    "early_stop_patience = 10\n",
    "\n",
    "flow_training_dir = os.path.join(\"models\", f\"{flow_training_id}/\")\n",
    "\n",
    "\n",
    "with open(f\"models/{flow_training_id}/flow_samples\", \"rb\") as infile:\n",
    "    \n",
    "    data_dict = pickle.load(infile)\n",
    "\n",
    "print(data_dict.keys())"
   ]
  },
  {
   "cell_type": "code",
   "execution_count": null,
   "id": "33c66bad-e128-4ab9-a132-55afe41736ed",
   "metadata": {
    "tags": []
   },
   "outputs": [],
   "source": [
    "bins = np.linspace(-4.5, 4.5, 50)\n",
    "\n",
    "for b in bands:\n",
    "    \n",
    "    print(b)\n",
    "    \n",
    "    \n",
    "    fig, ax = plt.subplots(1, num_features, figsize = (20, 4))\n",
    "    for i, feature in enumerate(feature_set[:-1]):\n",
    "        ax[i].hist(data_dict[b][:,i], bins = bins, label = \"truth\", histtype = \"step\", density = \"True\")\n",
    "        print(data_dict[b].shape, data_dict[f\"{b}_samples\"].shape)\n",
    "        ax[i].hist(data_dict[f\"{b}_samples\"][:,i], bins = bins, label = \"samples\", histtype = \"step\", density = \"true\")\n",
    "        ax[i].hist(full_sup_sig[:,i], bins = bins, label = \"S\", histtype = \"step\", density = \"True\")\n",
    "        ax[i].hist(full_sup_bkg[:,i], bins = bins, label = \"B\", histtype = \"step\", density = \"true\")\n",
    "        ax[i].set_yscale(\"log\")\n",
    "        \n",
    "    ax[0].legend()\n",
    "    plt.show()"
   ]
  },
  {
   "cell_type": "code",
   "execution_count": null,
   "id": "a3fa6de8-44e4-4613-92e4-28f1cfd75174",
   "metadata": {},
   "outputs": [],
   "source": [
    "num_runs = 5\n",
    "\n",
    "scores_bdt = {}\n",
    "\n",
    "\n",
    "scores_bdt[run_id] = run_BDTs(data_dict[\"SR_samples\"][:,:-1], data_dict[\"SR\"][:,:-1], test_bkg, test_sig, num_runs)\n",
    "\n",
    "  \n",
    "    \n",
    "with open(f\"classifier_results/{flow_training_id}_bdt\", \"wb\") as ofile:\n",
    "    pickle.dump(scores_bdt,ofile)\n"
   ]
  },
  {
   "cell_type": "code",
   "execution_count": null,
   "id": "872084d5-9704-4489-9be9-607f737d9f57",
   "metadata": {
    "tags": []
   },
   "outputs": [],
   "source": [
    "\n",
    "scores_nn = {}\n",
    "\n",
    "for run_id in datasets.keys():\n",
    "    print(run_id)\n",
    "    scores_nn[run_id] = run_NNs(datasets[run_id][0], datasets[run_id][1], test_bkg[:,:-1], test_sig[:,:-1], num_runs)\n",
    "\n",
    "    \n",
    "with open(f\"classifier_results/{flow_training_id}_nn\", \"wb\") as ofile:\n",
    "    pickle.dump(scores_nn, ofile)\n",
    "\n",
    "    \n",
    "    "
   ]
  },
  {
   "cell_type": "markdown",
   "id": "d6b0d9c5-f8cb-4cfc-be81-2a936f256021",
   "metadata": {},
   "source": [
    "# Load in and plot"
   ]
  },
  {
   "cell_type": "code",
   "execution_count": null,
   "id": "2228d4da-a029-4efd-ad73-766d961a2edb",
   "metadata": {
    "tags": []
   },
   "outputs": [],
   "source": [
    "all_scores_bdt_nano = {}\n",
    "all_scores_bdt_ed = {}\n",
    "\n",
    "with open(f\"classifier_results/nano_all_bdt\", \"rb\") as ifile:\n",
    "    tmp = pickle.load(ifile)\n",
    "    all_scores_bdt_nano[\"full sup\"] = tmp[\"full sup\"]\n",
    "    all_scores_bdt_nano[\"all\"] = tmp[\"samples\"]\n",
    "    \n",
    "with open(f\"classifier_results/nano_mu_bdt\", \"rb\") as ifile:\n",
    "    tmp = pickle.load(ifile)\n",
    "    all_scores_bdt_nano[\"dimu\"] = tmp[\"samples\"]\n",
    "    \n",
    "with open(f\"classifier_results/nano_dijet_bdt\", \"rb\") as ifile:\n",
    "    tmp = pickle.load(ifile)\n",
    "    all_scores_bdt_nano[\"dijet\"] = tmp[\"samples\"]\n",
    "    \n",
    "with open(f\"classifier_results/nano_higgs_bdt\", \"rb\") as ifile:\n",
    "    tmp = pickle.load(ifile)\n",
    "    all_scores_bdt_nano[\"higgs\"] = tmp[\"samples\"]\n",
    "\n",
    "    \n",
    "\n",
    "labels_dict = {\n",
    "            \"full sup\":\"Full. Sup.\",\n",
    "            \"dijet\":\"dijet vars\",\n",
    "            \"dimu\":\"dimu vars\",\n",
    "            \"higgs\":\"higgs\",\n",
    "            \"all\":\"all\",\n",
    "            \n",
    "              \n",
    "              }"
   ]
  },
  {
   "cell_type": "code",
   "execution_count": null,
   "id": "a708414e-e554-4b94-a4fd-e5e5babb335a",
   "metadata": {
    "tags": []
   },
   "outputs": [],
   "source": [
    "num_runs = 5\n",
    "\n",
    "plt.figure(figsize= (8,8))\n",
    "colors = [\"black\", \"red\", \"blue\", \"green\", \"purple\"]\n",
    "\n",
    "# calculate the sic curves\n",
    "for j, run_id in enumerate(all_scores_bdt_nano.keys()):\n",
    "    for i in range(num_runs):\n",
    "        if i == 0: \n",
    "            label = labels_dict[run_id]\n",
    "            plt.plot(all_scores_bdt_nano[run_id][i][\"tpr\"], np.divide(all_scores_bdt_nano[run_id][i][\"tpr\"], np.sqrt(all_scores_bdt_nano[run_id][i][\"tpr\"])), color = \"grey\", lw = 10, alpha = 0.3)\n",
    "        else: label = None\n",
    "        with np.errstate(divide='ignore', invalid='ignore'):\n",
    "            # bdt results\n",
    "            sic = np.divide(all_scores_bdt_nano[run_id][i][\"tpr\"], np.sqrt(all_scores_bdt_nano[run_id][i][\"fpr\"]))\n",
    "            plt.plot(all_scores_bdt_nano[run_id][i][\"tpr\"], sic, color = colors[j], label = label)\n",
    "          \n",
    "            \n",
    "f = 20\n",
    "plt.xlabel(\"tpr\", fontsize = f)\n",
    "plt.ylabel(\"sic\", fontsize = f)\n",
    "\n",
    "    \n",
    "plt.legend()\n",
    "    \n",
    "plt.title(\"Nano results\")\n",
    "\n",
    "plt.show()\n",
    "\n",
    "\n",
    "\n",
    "\n",
    "    \n",
    "  \n",
    "\n"
   ]
  },
  {
   "cell_type": "code",
   "execution_count": null,
   "id": "baa48582-ada8-496d-a5f0-25163e11af40",
   "metadata": {},
   "outputs": [],
   "source": []
  },
  {
   "cell_type": "code",
   "execution_count": null,
   "id": "e59179b8-f8ae-482c-af38-4976b0682e54",
   "metadata": {},
   "outputs": [],
   "source": []
  },
  {
   "cell_type": "code",
   "execution_count": null,
   "id": "45d1c778-a9d2-44de-ae0c-2e345532de6d",
   "metadata": {},
   "outputs": [],
   "source": []
  },
  {
   "cell_type": "code",
   "execution_count": null,
   "id": "43d7e79b-b28b-4537-a0a4-2417cf0b3580",
   "metadata": {},
   "outputs": [],
   "source": []
  },
  {
   "cell_type": "code",
   "execution_count": null,
   "id": "7b014e8c-4b57-4bfd-8a5e-4c6a3e713106",
   "metadata": {},
   "outputs": [],
   "source": []
  },
  {
   "cell_type": "code",
   "execution_count": null,
   "id": "8d9ae0a5-6dc6-4b1a-91f6-08b3333a83e7",
   "metadata": {},
   "outputs": [],
   "source": []
  }
 ],
 "metadata": {
  "kernelspec": {
   "display_name": "Python 3 (ipykernel)",
   "language": "python",
   "name": "python3"
  },
  "language_info": {
   "codemirror_mode": {
    "name": "ipython",
    "version": 3
   },
   "file_extension": ".py",
   "mimetype": "text/x-python",
   "name": "python",
   "nbconvert_exporter": "python",
   "pygments_lexer": "ipython3",
   "version": "3.8.5"
  }
 },
 "nbformat": 4,
 "nbformat_minor": 5
}

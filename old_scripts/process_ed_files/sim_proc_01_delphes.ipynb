{
 "cells": [
  {
   "cell_type": "markdown",
   "id": "50845b24-c039-403e-9dcc-0b27e88c9437",
   "metadata": {},
   "source": [
    "# Simulation processing: step 1"
   ]
  },
  {
   "cell_type": "markdown",
   "id": "e59ab817-3103-4459-a6e0-2e534f9a1a62",
   "metadata": {},
   "source": [
    "Goal: take the simulated hadrons and create an output file for fj clustering"
   ]
  },
  {
   "cell_type": "code",
   "execution_count": 1,
   "id": "624fe33a-2e28-4a0e-8a9e-29a3b7e51028",
   "metadata": {
    "tags": []
   },
   "outputs": [],
   "source": [
    "import h5py\n",
    "import numpy as np\n",
    "import matplotlib.pyplot as plt\n",
    "import vector"
   ]
  },
  {
   "cell_type": "code",
   "execution_count": 2,
   "id": "d88348e9-0d25-40c9-94ed-d50d2340f0ee",
   "metadata": {
    "tags": []
   },
   "outputs": [],
   "source": [
    "simulation_dir = '/global/cfs/cdirs/m3246/ewitkowski/delphes_data'\n",
    "\n",
    "#sim_code = \"wp_wzpythia_forcms_charge-mz50.0-mw40.0-mwp1000_full\"\n",
    "sim_code = \"wp_wzpythia_forcms_charge-mz70.0-mw60.0-mwp1200_full\""
   ]
  },
  {
   "cell_type": "code",
   "execution_count": 3,
   "id": "af9c2a9e-beb0-40f4-9b47-d61bb77d58a8",
   "metadata": {
    "tags": []
   },
   "outputs": [],
   "source": [
    "selected_tower_ET = h5py.File(f'{simulation_dir}/{sim_code}_Tower_ET.h5', 'r')['values']\n",
    "selected_tower_eta = h5py.File(f'{simulation_dir}/{sim_code}_Tower_Eta.h5', 'r')['values']\n",
    "selected_tower_phi = h5py.File(f'{simulation_dir}/{sim_code}_Tower_Phi.h5', 'r')['values']\n",
    "selected_tower_E = h5py.File(f'{simulation_dir}/{sim_code}_Tower_E.h5', 'r')['values']\n",
    "\n",
    "selected_muon_pT = h5py.File(f'{simulation_dir}/{sim_code}_Muon_PT.h5', 'r')['values']\n",
    "selected_muon_eta = h5py.File(f'{simulation_dir}/{sim_code}_Muon_Eta.h5', 'r')['values']\n",
    "selected_muon_phi = h5py.File(f'{simulation_dir}/{sim_code}_Muon_Phi.h5', 'r')['values']\n",
    "selected_muon_charge = h5py.File(f'{simulation_dir}/{sim_code}_Muon_Charge.h5', 'r')['values']"
   ]
  },
  {
   "cell_type": "code",
   "execution_count": 4,
   "id": "aaa73bd2-4ccb-418e-bf0a-da49e6950987",
   "metadata": {
    "tags": []
   },
   "outputs": [
    {
     "name": "stdout",
     "output_type": "stream",
     "text": [
      "(8000, 4096)\n"
     ]
    }
   ],
   "source": [
    "print(selected_tower_ET.shape)"
   ]
  },
  {
   "cell_type": "code",
   "execution_count": 5,
   "id": "e32733a1-95f7-416a-bbe5-4d6f00cbb82a",
   "metadata": {
    "tags": []
   },
   "outputs": [],
   "source": [
    "muon_mass = 0.1056583755 # GeV\n",
    "particles_to_fastjet = [22, 130, 211, 1, 2]\n",
    "\n",
    "\n",
    "start_read, stop_read, chunk_size = 0, 8000, 8000\n",
    "update_freq = int(chunk_size/10.0)\n",
    "\n",
    "delta_R_isos = [0.3, 0.5]\n",
    "\n"
   ]
  },
  {
   "cell_type": "code",
   "execution_count": 6,
   "id": "0f1deec9-0115-470f-a47b-5e3ed9fa240a",
   "metadata": {
    "tags": []
   },
   "outputs": [
    {
     "name": "stdout",
     "output_type": "stream",
     "text": [
      "Processing chunk from 0 to 8000...\n",
      "On event 0...\n",
      "On event 800...\n",
      "On event 1600...\n",
      "On event 2400...\n",
      "On event 3200...\n",
      "On event 4000...\n",
      "On event 4800...\n",
      "On event 5600...\n",
      "On event 6400...\n",
      "On event 7200...\n",
      "Done processing chunk.\n",
      "2347 events without 2 muons\n",
      "\n",
      "\n",
      "Done completely!\n"
     ]
    }
   ],
   "source": [
    "current_chunk_start = start_read\n",
    "\n",
    "while current_chunk_start < stop_read:\n",
    "    \n",
    "    \n",
    "    current_chunk_stop = current_chunk_start + chunk_size\n",
    "    print(f\"Processing chunk from {current_chunk_start} to {current_chunk_stop}...\")\n",
    "\n",
    "    outfile_dimuons = f\"/global/cfs/cdirs/m3246/rmastand/dimuonAD/data_post_fj/muons_only_{current_chunk_start}_{current_chunk_stop}_{sim_code}.dat\"\n",
    "    outfile_dimuons_isolation = f\"/global/cfs/cdirs/m3246/rmastand/dimuonAD/data_post_fj/muons_iso_{current_chunk_start}_{current_chunk_stop}_{sim_code}.dat\"\n",
    "    outfile_hadrons = f\"/global/cfs/cdirs/m3246/rmastand/dimuonAD/data_pre_fj/hadrons_only_{current_chunk_start}_{current_chunk_stop}_{sim_code}.dat\"\n",
    "\n",
    "    ofile_muons = open(outfile_dimuons, \"w\")\n",
    "    ofile_iso = open(outfile_dimuons_isolation, \"w\")\n",
    "    ofile_hadrons = open(outfile_hadrons, \"w\")\n",
    "    num_rejects = 0\n",
    "   \n",
    "    for event in range(current_chunk_start, current_chunk_stop):\n",
    "\n",
    "        if event % update_freq == 0:\n",
    "            print(f\"On event {event}...\")\n",
    "\n",
    "        # get the nonmuons\n",
    "        loc_E = selected_tower_E[event]\n",
    "        loc_eta = selected_tower_eta[event][loc_E != 0]\n",
    "        loc_phi = selected_tower_phi[event][loc_E != 0]\n",
    "        loc_ET = selected_tower_ET[event][loc_E != 0]\n",
    "        loc_E = loc_E[loc_E != 0]    \n",
    "\n",
    "        # get the muons\n",
    "        loc_mu_pt_0 = selected_muon_pT[event]\n",
    "        loc_mu_eta = selected_muon_eta[event][loc_mu_pt_0 != 0]\n",
    "        loc_mu_phi = selected_muon_phi[event][loc_mu_pt_0 != 0]\n",
    "        loc_mu_charge = selected_muon_charge[event][loc_mu_pt_0 != 0]\n",
    "        loc_mu_pt_0 = loc_mu_pt_0[loc_mu_pt_0 != 0]\n",
    "        \n",
    "        # check that there is at least one muon and one antimuon\n",
    "        num_muons = np.sum(loc_mu_charge==-1.)\n",
    "        num_amuons = np.sum(loc_mu_charge==1)\n",
    "        \n",
    "        \n",
    "        if (num_muons < 1) or (num_amuons < 1):\n",
    "            num_rejects += 1\n",
    "        \n",
    "        else:\n",
    "            \n",
    "            # find the hardest muon / antimuon\n",
    "            loc_mu_pt = loc_mu_pt_0[loc_mu_charge==-1]\n",
    "            max_muon_pt = np.max(loc_mu_pt)\n",
    "            hardest_muon_id = np.where(loc_mu_pt_0==max_muon_pt)[0][0]\n",
    "            \n",
    "            loc_amu_pt = loc_mu_pt_0[loc_mu_charge==1]\n",
    "            max_amuon_pt = np.max(loc_amu_pt)\n",
    "            hardest_amuon_id = np.where(loc_mu_pt_0==max_amuon_pt)[0][0]\n",
    "            \n",
    "            \n",
    "            ofile_muons.write(\"#BEGIN\\n\")\n",
    "            ofile_iso.write(\"#BEGIN\\n\")\n",
    "            ofile_hadrons.write(\"#BEGIN\\n\")\n",
    "\n",
    "            # get the muons\n",
    "            # construct the muon 4-vector\n",
    "            mu = vector.obj(pt = loc_mu_pt_0[hardest_muon_id], eta = loc_mu_eta[hardest_muon_id], phi = loc_mu_phi[hardest_muon_id], M = muon_mass)\n",
    "            amu = vector.obj(pt = loc_mu_pt_0[hardest_amuon_id], eta = loc_mu_eta[hardest_amuon_id], phi = loc_mu_phi[hardest_amuon_id], M = muon_mass)\n",
    "            dimu_system = mu + amu\n",
    "\n",
    "            ofile_muons.write(f\"{dimu_system.pt} {dimu_system.eta} {dimu_system.phi} {dimu_system.M}\\n\")\n",
    "\n",
    "            # get the hadrons and calculate muon isolation\n",
    "            isolations_mu, isolations_amu = {R:0 for R in delta_R_isos}, {R:0 for R in delta_R_isos}\n",
    "\n",
    "            for particle_i in range(len(loc_E)):\n",
    "                #if np.abs(loc_tower[\"pdgId_\"][particle_i]) in particles_to_fastjet:\n",
    "                                        \n",
    "                    # write out the particle\n",
    "                    particle_vector = vector.obj(pt = loc_ET[particle_i], eta = loc_eta[particle_i], phi = loc_phi[particle_i], M = 0)\n",
    "                    ofile_hadrons.write(f\"{particle_vector.px} {particle_vector.py} {particle_vector.pz} {particle_vector.E}\\n\")\n",
    "                    \n",
    "                    # calculate the isolation contribution to the hardest (a)muon\n",
    "                    delta_R_mu = mu.deltaR(particle_vector)\n",
    "                    delta_R_amu = amu.deltaR(particle_vector)\n",
    "                    \n",
    "                    for R in delta_R_isos:\n",
    "                        if delta_R_mu <= R:\n",
    "                            isolations_mu[R] += (particle_vector.pt)/(mu.pt)\n",
    "                        if delta_R_amu <= R:\n",
    "                            isolations_amu[R] += (particle_vector.pt)/(amu.pt)\n",
    "                            \n",
    "            iso_muons_line = \"\"\n",
    "            for R in delta_R_isos:\n",
    "                iso_muons_line += str(isolations_mu[R]) + \" \" \n",
    "            for R in delta_R_isos:\n",
    "                iso_muons_line += str(isolations_amu[R]) + \" \" \n",
    "                   \n",
    "            ofile_iso.write(f\"{iso_muons_line}\\n\")\n",
    "\n",
    "            ofile_muons.write(\"#END\\n\")\n",
    "            ofile_iso.write(\"#END\\n\")\n",
    "            ofile_hadrons.write(\"#END\\n\")\n",
    "\n",
    "    ofile_muons.close()  \n",
    "    ofile_iso.close() \n",
    "    ofile_hadrons.close()\n",
    "    \n",
    "    print(f\"Done processing chunk.\")\n",
    "    print(f\"{num_rejects} events without 2 muons\")\n",
    "    print(\"\\n\")\n",
    "    \n",
    "    current_chunk_start += chunk_size\n",
    "\n",
    "print(\"Done completely!\")\n",
    "\n",
    "\n",
    "\n",
    "                                         "
   ]
  },
  {
   "cell_type": "code",
   "execution_count": null,
   "id": "2b16fdd3-77e9-45f8-b9c7-7444cb2b355e",
   "metadata": {},
   "outputs": [],
   "source": []
  },
  {
   "cell_type": "code",
   "execution_count": null,
   "id": "5d646423-eb76-48f7-bbec-6520671f578e",
   "metadata": {},
   "outputs": [],
   "source": []
  },
  {
   "cell_type": "code",
   "execution_count": null,
   "id": "eb8aa94b-5495-470a-a72f-3a58f0cc940f",
   "metadata": {},
   "outputs": [],
   "source": []
  },
  {
   "cell_type": "code",
   "execution_count": null,
   "id": "7e6ba2e8-f415-49fc-a7a4-173d4aa4b424",
   "metadata": {},
   "outputs": [],
   "source": []
  },
  {
   "cell_type": "code",
   "execution_count": null,
   "id": "e9eb9da6-7350-4162-a341-46b7c4bc8ff0",
   "metadata": {},
   "outputs": [],
   "source": []
  },
  {
   "cell_type": "code",
   "execution_count": null,
   "id": "e5acb07f-6aab-46fc-8554-055b0defa968",
   "metadata": {},
   "outputs": [],
   "source": []
  },
  {
   "cell_type": "code",
   "execution_count": null,
   "id": "fbab6de4-56b7-4d83-bf9f-78a11a09f159",
   "metadata": {},
   "outputs": [],
   "source": []
  }
 ],
 "metadata": {
  "kernelspec": {
   "display_name": "Python 3 (ipykernel)",
   "language": "python",
   "name": "python3"
  },
  "language_info": {
   "codemirror_mode": {
    "name": "ipython",
    "version": 3
   },
   "file_extension": ".py",
   "mimetype": "text/x-python",
   "name": "python",
   "nbconvert_exporter": "python",
   "pygments_lexer": "ipython3",
   "version": "3.8.5"
  }
 },
 "nbformat": 4,
 "nbformat_minor": 5
}

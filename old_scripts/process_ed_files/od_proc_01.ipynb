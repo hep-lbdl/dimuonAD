{
 "cells": [
  {
   "cell_type": "markdown",
   "id": "16e1dfda-a60f-450d-8fad-147f94dd888b",
   "metadata": {},
   "source": [
    "# Open data processing: step 1"
   ]
  },
  {
   "cell_type": "markdown",
   "id": "7f6b8f8a-b34c-4e50-ba2c-3f7bd96fad3f",
   "metadata": {},
   "source": [
    "Take Ed's processed data files and split the PFCs by their ids.\n",
    "\n",
    "PDG codes (from https://cms-opendata-workshop.github.io/workshop2023-lesson-advobjects/02-particleflow/index.html):\n",
    "\n",
    "- 11, 13 = electron, muon\n",
    "- 22 = photon\n",
    "- 130 = neutral hadron\n",
    "- 211 = charged hadron\n",
    "- 1 = hadronic particle reconstructed in the forward calorimeters\n",
    "- 2 = electromagnetic particle reconstructed in the forward calorimeters\n",
    "\n",
    "We will split as:\n",
    "- Muons (2 / event)\n",
    "- Hadrons + photons, to be routed to fastjet for clustering\n",
    "- Electrons, to trash"
   ]
  },
  {
   "cell_type": "code",
   "execution_count": null,
   "id": "907de108-4adb-42be-9177-c88f8d68ed2a",
   "metadata": {
    "tags": []
   },
   "outputs": [],
   "source": [
    "import h5py\n",
    "import numpy as np\n",
    "import matplotlib.pyplot as plt\n",
    "import vector"
   ]
  },
  {
   "cell_type": "code",
   "execution_count": null,
   "id": "785cedb0-21a1-4787-a47b-de0ffb0cf1ff",
   "metadata": {
    "tags": []
   },
   "outputs": [],
   "source": [
    "selected_data_dir = '/global/cfs/cdirs/m3246/ewitkowski/selected_data'\n",
    "selected_pT = h5py.File(f'{selected_data_dir}/recoPFCandidates_particleFlow__RECO_obj_pt_.h5', 'r')['values']\n",
    "selected_eta = h5py.File(f'{selected_data_dir}/recoPFCandidates_particleFlow__RECO_obj_eta_.h5', 'r')['values']\n",
    "selected_phi = h5py.File(f'{selected_data_dir}/recoPFCandidates_particleFlow__RECO_obj_phi_.h5', 'r')['values']\n",
    "selected_pdgId = h5py.File(f'{selected_data_dir}/recoPFCandidates_particleFlow__RECO_obj_pdgId_.h5', 'r')['values']"
   ]
  },
  {
   "cell_type": "code",
   "execution_count": null,
   "id": "7ec8a36c-09cd-4314-aa01-d232d72c9427",
   "metadata": {
    "tags": []
   },
   "outputs": [],
   "source": [
    "muon_mass = 0.1056583755 # GeV\n",
    "particles_to_fastjet = [22, 130, 211, 1, 2]\n",
    "\n",
    "start_read, stop_read, chunk_size = 0, 5000, 1000\n",
    "update_freq = int(chunk_size/10.0)"
   ]
  },
  {
   "cell_type": "code",
   "execution_count": null,
   "id": "092076a0-892e-4e09-859e-e700e3b29c27",
   "metadata": {
    "tags": []
   },
   "outputs": [],
   "source": [
    "print(selected_pT.shape, selected_eta.shape)"
   ]
  },
  {
   "cell_type": "markdown",
   "id": "d5597a3c-7905-4cdf-81d3-e8c8e8c157e6",
   "metadata": {},
   "source": [
    "Muons file:  pt eta phi M\n",
    "\n",
    "Hadrons file: px py pz E"
   ]
  },
  {
   "cell_type": "code",
   "execution_count": null,
   "id": "386b0771-56d6-425e-8ee0-eb86118a0f64",
   "metadata": {
    "tags": []
   },
   "outputs": [],
   "source": [
    "current_chunk_start = start_read\n",
    "\n",
    "while current_chunk_start < stop_read:\n",
    "    \n",
    "    current_chunk_stop = current_chunk_start + chunk_size\n",
    "    print(f\"Processing chunk from {current_chunk_start} to {current_chunk_stop}...\")\n",
    "\n",
    "    outfile_dimuons = f\"/global/cfs/cdirs/m3246/rmastand/dimuonAD/data_post_fj/muons_only_{current_chunk_start}_{current_chunk_stop}_od.dat\"\n",
    "    outfile_hadrons = f\"/global/cfs/cdirs/m3246/rmastand/dimuonAD/data_pre_fj/hadrons_only_{current_chunk_start}_{current_chunk_stop}_od.dat\"\n",
    "\n",
    "    #ofile_muons = open(outfile_dimuons, \"w\")\n",
    "    #ofile_hadrons = open(outfile_hadrons, \"w\")\n",
    "   \n",
    "    for event in range(current_chunk_start, current_chunk_stop):\n",
    "\n",
    "        if event % update_freq == 0:\n",
    "            print(f\"On event {event}...\")\n",
    "\n",
    "        # get the nonzero entries\n",
    "        loc_pid = selected_pdgId[event]\n",
    "        loc_pt = selected_pT[event][loc_pid != 0]\n",
    "        loc_eta = selected_eta[event][loc_pid != 0]\n",
    "        loc_phi = selected_phi[event][loc_pid != 0]\n",
    "        loc_pid = loc_pid[loc_pid != 0]    \n",
    "        num_particles = len(loc_pid)\n",
    "        print(np.sum(loc_pid==-13))\n",
    "        #print(f\"Event {event} has {num_particles} particles.\")\n",
    "\n",
    "        #ofile_muons.write(\"#BEGIN\\n\")\n",
    "        #ofile_hadrons.write(\"#BEGIN\\n\")\n",
    "\n",
    "        # get the muons\n",
    "        muon_ids = np.where(np.abs(loc_pid) == 13)[0]\n",
    "        # construct the muon 4-vector\n",
    "        mu_1 = vector.obj(pt = loc_pt[muon_ids[0]], eta = loc_eta[muon_ids[0]], phi = loc_phi[muon_ids[0]], M = muon_mass)\n",
    "        mu_2 = vector.obj(pt = loc_pt[muon_ids[1]], eta = loc_eta[muon_ids[1]], phi = loc_phi[muon_ids[1]], M = muon_mass)\n",
    "        dimu_system = mu_1 + mu_2\n",
    "\n",
    "        #ofile_muons.write(f\"{dimu_system.pt} {dimu_system.eta} {dimu_system.phi} {dimu_system.M}\\n\")\n",
    "\n",
    "        # get the hadrons\n",
    "        for particle_i in range(len(loc_pt)):\n",
    "            if np.abs(loc_pid[particle_i]) in particles_to_fastjet:\n",
    "                particle_vector = vector.obj(pt = loc_pt[particle_i], eta = loc_eta[particle_i], phi = loc_phi[particle_i], M = 0)\n",
    "                #ofile_hadrons.write(f\"{particle_vector.px} {particle_vector.py} {particle_vector.pz} {particle_vector.E}\\n\")\n",
    "\n",
    "        #ofile_muons.write(\"#END\\n\")\n",
    "        #ofile_hadrons.write(\"#END\\n\")\n",
    "\n",
    "    #ofile_muons.close()  \n",
    "    #ofile_hadrons.close()\n",
    "    \n",
    "    print(f\"Done processing chunk.\")\n",
    "    print(\"\\n\")\n",
    "    \n",
    "    current_chunk_start += chunk_size\n",
    "\n",
    "print(\"Done completely!\")\n"
   ]
  },
  {
   "cell_type": "code",
   "execution_count": null,
   "id": "14cce74a-ebb2-4dfe-8b91-1463f1690241",
   "metadata": {},
   "outputs": [],
   "source": []
  },
  {
   "cell_type": "code",
   "execution_count": null,
   "id": "65b3604f-e97e-4ba1-a9b8-380bcf0d32dd",
   "metadata": {},
   "outputs": [],
   "source": []
  },
  {
   "cell_type": "code",
   "execution_count": null,
   "id": "b8f76fb8-ab57-420c-89fc-35ce39515bc5",
   "metadata": {},
   "outputs": [],
   "source": []
  },
  {
   "cell_type": "code",
   "execution_count": null,
   "id": "8c7e17d9-0e0c-4b44-a867-0b5642bc8711",
   "metadata": {},
   "outputs": [],
   "source": []
  },
  {
   "cell_type": "code",
   "execution_count": null,
   "id": "ef416b41-94e5-41d2-b89c-bb749a340bf7",
   "metadata": {},
   "outputs": [],
   "source": []
  },
  {
   "cell_type": "code",
   "execution_count": null,
   "id": "bad959b5-d7b7-497a-af37-e906f447918f",
   "metadata": {},
   "outputs": [],
   "source": []
  }
 ],
 "metadata": {
  "kernelspec": {
   "display_name": "Python 3 (ipykernel)",
   "language": "python",
   "name": "python3"
  },
  "language_info": {
   "codemirror_mode": {
    "name": "ipython",
    "version": 3
   },
   "file_extension": ".py",
   "mimetype": "text/x-python",
   "name": "python",
   "nbconvert_exporter": "python",
   "pygments_lexer": "ipython3",
   "version": "3.8.5"
  }
 },
 "nbformat": 4,
 "nbformat_minor": 5
}

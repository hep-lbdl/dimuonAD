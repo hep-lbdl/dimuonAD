{
 "cells": [
  {
   "cell_type": "markdown",
   "id": "e89d368e-7395-4bfb-9d3c-9836197cf049",
   "metadata": {},
   "source": [
    "Data processing: step 2/n"
   ]
  },
  {
   "cell_type": "markdown",
   "id": "067aacfa-35ad-41d2-bcf0-1937e2aca730",
   "metadata": {},
   "source": [
    "Combine the fj output with the muons that were previously set aside"
   ]
  },
  {
   "cell_type": "code",
   "execution_count": 11,
   "id": "d2b54fa4-3b2f-491a-ab52-7685f2ad4839",
   "metadata": {
    "tags": []
   },
   "outputs": [],
   "source": [
    "import numpy as np\n",
    "import matplotlib.pyplot as plt"
   ]
  },
  {
   "cell_type": "code",
   "execution_count": 22,
   "id": "d78a1bbf-65ca-4cce-a85f-9d13a319cd8b",
   "metadata": {
    "tags": []
   },
   "outputs": [],
   "source": [
    "code = \"od\"\n",
    "#code = \"sim_wp_wzpythia_forcms_1k-mz50.0-mw40.0-mwp1000_8000199\"\n",
    "#code = \"sim_wp_wzpythia_forcms_1k-mz70.0-mw60.0-mwp1200_8000200\"\n",
    "#code = \"sim_zmm_forcms_1k-mz90.1-mw80.4_8000030\"\n",
    "\n",
    "infile_dimuons = f\"/global/u1/r/rmastand/dimuonAD/data_post_fj/muons_only_{code}.dat\"\n",
    "infile_jets = f\"/global/u1/r/rmastand/dimuonAD/data_post_fj/jet_obs_{code}.dat\""
   ]
  },
  {
   "cell_type": "code",
   "execution_count": 23,
   "id": "c3543dd0-e235-43e2-b76e-7143cf46635d",
   "metadata": {
    "tags": []
   },
   "outputs": [],
   "source": [
    "ifile_muons = open(infile_dimuons, \"r\")\n",
    "ifile_jets = open(infile_jets, \"r\")"
   ]
  },
  {
   "cell_type": "code",
   "execution_count": 24,
   "id": "76531a3b-2a48-4902-9c4b-f4f70a0099ab",
   "metadata": {
    "tags": []
   },
   "outputs": [],
   "source": [
    "read_muons = ifile_muons.readlines()\n",
    "read_jets = ifile_jets.readlines()\n",
    "\n",
    "if len(read_muons) != len(read_jets):\n",
    "    print(\"ERROR! Different number of muon and jet events.\")\n",
    "    print(len(read_muons), len(read_jets))"
   ]
  },
  {
   "cell_type": "code",
   "execution_count": 25,
   "id": "98932684-ee1e-4cf9-885e-cd0a1d713a79",
   "metadata": {
    "tags": []
   },
   "outputs": [
    {
     "name": "stdout",
     "output_type": "stream",
     "text": [
      "Done!\n",
      "Data array has shape (1000, 9)\n"
     ]
    }
   ],
   "source": [
    "data_array = np.empty((1,9))\n",
    "# dimu pi eta phi M jet pi eta phi M tau21\n",
    "\n",
    "for i in range(len(read_muons)):\n",
    "    if \"#\" in read_muons[i]: # at begin or end event\n",
    "        pass\n",
    "    else:\n",
    "        loc_event = []\n",
    "        \n",
    "        # muons\n",
    "        dimu_values = read_muons[i].split()\n",
    "        loc_event.append(float(dimu_values[0])) # dimuon pt\n",
    "        loc_event.append(float(dimu_values[1])) # dimuon eta\n",
    "        loc_event.append(float(dimu_values[2])) # dimuon phi\n",
    "        loc_event.append(float(dimu_values[3])) # dimuon M\n",
    "        \n",
    "        # jets\n",
    "        jet_values = read_jets[i].split()\n",
    "        loc_event.append(float(jet_values[0])) # jet pt\n",
    "        loc_event.append(float(jet_values[1])) # jet eta\n",
    "        loc_event.append(float(jet_values[2])) # jet phi\n",
    "        loc_event.append(float(jet_values[3])) # jet M\n",
    "        loc_event.append(float(jet_values[4])) # jet tau21\n",
    "        \n",
    "        loc_event = np.array(loc_event).reshape(1,9)\n",
    "        \n",
    "        data_array = np.vstack((data_array, loc_event))\n",
    "        \n",
    "data_array = data_array[1:] \n",
    "print(\"Done!\")\n",
    "print(f\"Data array has shape {data_array.shape}\")"
   ]
  },
  {
   "cell_type": "code",
   "execution_count": 26,
   "id": "cdcf9dda-27b1-4ff4-85bc-f78f7ee500ec",
   "metadata": {
    "tags": []
   },
   "outputs": [],
   "source": [
    "\n",
    "ifile_muons.close()\n",
    "ifile_jets.close()\n",
    "\n",
    "np.save(f\"processed_data/{code}\", data_array)"
   ]
  },
  {
   "cell_type": "code",
   "execution_count": null,
   "id": "a21b3ee8-83b2-4e66-a7be-23f3c80c81cf",
   "metadata": {
    "tags": []
   },
   "outputs": [],
   "source": []
  },
  {
   "cell_type": "code",
   "execution_count": null,
   "id": "850f7e39-54ab-486a-80d4-3b287eafc73f",
   "metadata": {
    "tags": []
   },
   "outputs": [],
   "source": []
  },
  {
   "cell_type": "code",
   "execution_count": null,
   "id": "3deb3e88-4bef-4ae4-a081-f5b9d78e05ca",
   "metadata": {},
   "outputs": [],
   "source": []
  },
  {
   "cell_type": "code",
   "execution_count": null,
   "id": "648dbeec-4989-4da2-b6a8-b95d9f9af602",
   "metadata": {},
   "outputs": [],
   "source": []
  },
  {
   "cell_type": "code",
   "execution_count": null,
   "id": "a2f5b210-5ea7-450e-8231-2b9f7c81341f",
   "metadata": {},
   "outputs": [],
   "source": []
  },
  {
   "cell_type": "code",
   "execution_count": null,
   "id": "57dbb4bd-fac1-49b5-9c1b-88f1fb353056",
   "metadata": {},
   "outputs": [],
   "source": []
  },
  {
   "cell_type": "code",
   "execution_count": null,
   "id": "8067e41f-f226-4d27-95d4-16d3aa028b05",
   "metadata": {},
   "outputs": [],
   "source": []
  },
  {
   "cell_type": "code",
   "execution_count": null,
   "id": "f1d75c06-726d-46c4-92bf-8fc372223978",
   "metadata": {},
   "outputs": [],
   "source": []
  },
  {
   "cell_type": "code",
   "execution_count": null,
   "id": "e070411e-fd3c-465c-86d5-00db0e5b824d",
   "metadata": {},
   "outputs": [],
   "source": []
  }
 ],
 "metadata": {
  "kernelspec": {
   "display_name": "Python 3 (ipykernel)",
   "language": "python",
   "name": "python3"
  },
  "language_info": {
   "codemirror_mode": {
    "name": "ipython",
    "version": 3
   },
   "file_extension": ".py",
   "mimetype": "text/x-python",
   "name": "python",
   "nbconvert_exporter": "python",
   "pygments_lexer": "ipython3",
   "version": "3.8.5"
  }
 },
 "nbformat": 4,
 "nbformat_minor": 5
}

{
 "cells": [
  {
   "cell_type": "markdown",
   "id": "e89d368e-7395-4bfb-9d3c-9836197cf049",
   "metadata": {},
   "source": [
    "# Data processing: step 2"
   ]
  },
  {
   "cell_type": "markdown",
   "id": "067aacfa-35ad-41d2-bcf0-1937e2aca730",
   "metadata": {},
   "source": [
    "Combine the fj output with the muons that were previously set aside"
   ]
  },
  {
   "cell_type": "code",
   "execution_count": 17,
   "id": "d2b54fa4-3b2f-491a-ab52-7685f2ad4839",
   "metadata": {
    "tags": []
   },
   "outputs": [],
   "source": [
    "import numpy as np\n",
    "import matplotlib.pyplot as plt"
   ]
  },
  {
   "cell_type": "code",
   "execution_count": 25,
   "id": "d78a1bbf-65ca-4cce-a85f-9d13a319cd8b",
   "metadata": {
    "tags": []
   },
   "outputs": [],
   "source": [
    "#code = \"od\"\n",
    "code = \"cmssim\"\n",
    "\n",
    "start_read, stop_read, chunk_size = 0, 500000, 10000\n",
    "\n",
    "current_chunk_start = start_read\n",
    "\n",
    "n_features = 13 # 13 w/ iso variables, 9 w/o"
   ]
  },
  {
   "cell_type": "code",
   "execution_count": 26,
   "id": "c3543dd0-e235-43e2-b76e-7143cf46635d",
   "metadata": {
    "tags": []
   },
   "outputs": [],
   "source": [
    "full_data_array = np.empty((1, n_features))\n",
    "# dimu pi eta phi M jet pi eta phi M tau21\n"
   ]
  },
  {
   "cell_type": "code",
   "execution_count": 27,
   "id": "76531a3b-2a48-4902-9c4b-f4f70a0099ab",
   "metadata": {
    "tags": []
   },
   "outputs": [
    {
     "name": "stdout",
     "output_type": "stream",
     "text": [
      "Analyzing events 0 to 10000...\n",
      "Analyzing events 10000 to 20000...\n",
      "Analyzing events 20000 to 30000...\n",
      "Analyzing events 30000 to 40000...\n",
      "Analyzing events 40000 to 50000...\n",
      "Analyzing events 50000 to 60000...\n",
      "Analyzing events 60000 to 70000...\n",
      "Analyzing events 70000 to 80000...\n",
      "Analyzing events 80000 to 90000...\n",
      "Analyzing events 90000 to 100000...\n",
      "Analyzing events 100000 to 110000...\n",
      "Analyzing events 110000 to 120000...\n",
      "Analyzing events 120000 to 130000...\n",
      "Analyzing events 130000 to 140000...\n",
      "Analyzing events 140000 to 150000...\n",
      "Analyzing events 150000 to 160000...\n",
      "Analyzing events 160000 to 170000...\n",
      "Analyzing events 170000 to 180000...\n",
      "Analyzing events 180000 to 190000...\n",
      "Analyzing events 190000 to 200000...\n",
      "Analyzing events 200000 to 210000...\n",
      "Analyzing events 210000 to 220000...\n",
      "Analyzing events 220000 to 230000...\n",
      "Analyzing events 230000 to 240000...\n",
      "Analyzing events 240000 to 250000...\n",
      "Analyzing events 250000 to 260000...\n",
      "Analyzing events 260000 to 270000...\n",
      "Analyzing events 270000 to 280000...\n",
      "Analyzing events 280000 to 290000...\n",
      "Analyzing events 290000 to 300000...\n",
      "Analyzing events 300000 to 310000...\n",
      "Analyzing events 310000 to 320000...\n",
      "Analyzing events 320000 to 330000...\n",
      "Analyzing events 330000 to 340000...\n",
      "Analyzing events 340000 to 350000...\n",
      "Analyzing events 350000 to 360000...\n",
      "Analyzing events 360000 to 370000...\n",
      "Analyzing events 370000 to 380000...\n",
      "Analyzing events 380000 to 390000...\n",
      "Analyzing events 390000 to 400000...\n",
      "Analyzing events 400000 to 410000...\n",
      "Analyzing events 410000 to 420000...\n",
      "Analyzing events 420000 to 430000...\n",
      "Analyzing events 430000 to 440000...\n",
      "Analyzing events 440000 to 450000...\n",
      "Analyzing events 450000 to 460000...\n",
      "Analyzing events 460000 to 470000...\n",
      "Analyzing events 470000 to 480000...\n",
      "Analyzing events 480000 to 490000...\n",
      "Analyzing events 490000 to 500000...\n"
     ]
    }
   ],
   "source": [
    "while current_chunk_start < stop_read:\n",
    "    \n",
    "    loc_data_array = np.empty((1, n_features))\n",
    "    \n",
    "    start_ind, stop_ind = current_chunk_start, current_chunk_start+chunk_size\n",
    "    \n",
    "    print(f\"Analyzing events {start_ind} to {stop_ind}...\")\n",
    "    \n",
    "    infile_dimuons = f\"/global/cfs/cdirs/m3246/rmastand/dimuonAD/data_post_fj/muons_only_{start_ind}_{stop_ind}_{code}.dat\"\n",
    "    infile_muiso = f\"/global/cfs/cdirs/m3246/rmastand/dimuonAD/data_post_fj/muons_iso_{start_ind}_{stop_ind}_{code}.dat\"\n",
    "    infile_jets = f\"/global/cfs/cdirs/m3246/rmastand/dimuonAD/data_post_fj/jet_obs_{start_ind}_{stop_ind}_{code}.dat\"\n",
    "\n",
    "    \n",
    "    ifile_muons = open(infile_dimuons, \"r\")\n",
    "    ifile_iso = open(infile_muiso, \"r\")\n",
    "    ifile_jets = open(infile_jets, \"r\")\n",
    "    \n",
    "    read_muons = ifile_muons.readlines()\n",
    "    read_iso = ifile_iso.readlines()\n",
    "    read_jets = ifile_jets.readlines()\n",
    "    \n",
    "\n",
    "    if len(read_muons) != len(read_jets):\n",
    "        print(\"ERROR! Different number of muon and jet events.\")\n",
    "        print(len(read_muons), len(read_jets))\n",
    "        break\n",
    "        \n",
    "        \n",
    "    for i in range(len(read_muons)):\n",
    "        if \"#\" in read_muons[i]: # at begin or end event\n",
    "            pass\n",
    "        else:\n",
    "            loc_event = []\n",
    "\n",
    "            # jets\n",
    "            jet_values = read_jets[i].split()\n",
    "            loc_event.append(float(jet_values[0])) # jet pt\n",
    "            loc_event.append(float(jet_values[1])) # jet eta\n",
    "            loc_event.append(float(jet_values[2])) # jet phi\n",
    "            loc_event.append(float(jet_values[3])) # jet M\n",
    "            loc_event.append(float(jet_values[4])) # jet tau21\n",
    "            \n",
    "            # muon isolation\n",
    "            iso_values = read_iso[i].split()\n",
    "            loc_event.append(float(iso_values[0])) # mu R = 0.3\n",
    "            loc_event.append(float(iso_values[1])) # mu R = 0.5\n",
    "            loc_event.append(float(iso_values[2])) # amu R = 0.3\n",
    "            loc_event.append(float(iso_values[3])) # amu R = 0.5\n",
    "\n",
    "            # muons\n",
    "            dimu_values = read_muons[i].split()\n",
    "            loc_event.append(float(dimu_values[0])) # dimuon pt\n",
    "            loc_event.append(float(dimu_values[1])) # dimuon eta\n",
    "            loc_event.append(float(dimu_values[2])) # dimuon phi\n",
    "            loc_event.append(float(dimu_values[3])) # dimuon M\n",
    "            \n",
    "\n",
    "            loc_event = np.array(loc_event).reshape(1, n_features)\n",
    "\n",
    "            loc_data_array = np.vstack((loc_data_array, loc_event))\n",
    "        \n",
    "    \n",
    "    ifile_muons.close()\n",
    "    ifile_jets.close()\n",
    "    \n",
    "    full_data_array = np.vstack((full_data_array, loc_data_array[1:] ))\n",
    "    current_chunk_start += chunk_size"
   ]
  },
  {
   "cell_type": "code",
   "execution_count": 28,
   "id": "98932684-ee1e-4cf9-885e-cd0a1d713a79",
   "metadata": {
    "tags": []
   },
   "outputs": [
    {
     "name": "stdout",
     "output_type": "stream",
     "text": [
      "Done!\n",
      "Data array has shape (247767, 13)\n"
     ]
    }
   ],
   "source": [
    "full_data_array = full_data_array[1:] \n",
    "print(\"Done!\")\n",
    "print(f\"Data array has shape {full_data_array.shape}\")"
   ]
  },
  {
   "cell_type": "code",
   "execution_count": 29,
   "id": "cdcf9dda-27b1-4ff4-85bc-f78f7ee500ec",
   "metadata": {
    "tags": []
   },
   "outputs": [],
   "source": [
    "\n",
    "\n",
    "np.save(f\"compiled_data/{code}\", full_data_array)"
   ]
  },
  {
   "cell_type": "code",
   "execution_count": 23,
   "id": "a21b3ee8-83b2-4e66-a7be-23f3c80c81cf",
   "metadata": {
    "tags": []
   },
   "outputs": [
    {
     "name": "stdout",
     "output_type": "stream",
     "text": [
      "(5037, 13)\n"
     ]
    }
   ],
   "source": []
  },
  {
   "cell_type": "code",
   "execution_count": 24,
   "id": "850f7e39-54ab-486a-80d4-3b287eafc73f",
   "metadata": {
    "tags": []
   },
   "outputs": [
    {
     "name": "stdout",
     "output_type": "stream",
     "text": [
      "0.028996143024414778 0.19552200799807906\n",
      "0.2059225649572909 0.5012140003964305\n",
      "0.16212590923532844 0.7676064022816718\n",
      "0.0907386657781899 0.32964917831122875\n",
      "0.20429018326103687 0.5380737148225307\n",
      "0.32637605257332325 1.3228085841983557\n",
      "0.22416872903704643 0.6022007782012224\n",
      "0.05311192665249109 0.14390596561133862\n",
      "0.1500585963949561 0.44171359250321984\n",
      "0.1585978113580495 0.1585978113580495\n"
     ]
    }
   ],
   "source": []
  },
  {
   "cell_type": "code",
   "execution_count": null,
   "id": "3deb3e88-4bef-4ae4-a081-f5b9d78e05ca",
   "metadata": {},
   "outputs": [],
   "source": []
  },
  {
   "cell_type": "code",
   "execution_count": null,
   "id": "648dbeec-4989-4da2-b6a8-b95d9f9af602",
   "metadata": {},
   "outputs": [],
   "source": []
  },
  {
   "cell_type": "code",
   "execution_count": null,
   "id": "a2f5b210-5ea7-450e-8231-2b9f7c81341f",
   "metadata": {},
   "outputs": [],
   "source": []
  },
  {
   "cell_type": "code",
   "execution_count": null,
   "id": "57dbb4bd-fac1-49b5-9c1b-88f1fb353056",
   "metadata": {},
   "outputs": [],
   "source": []
  },
  {
   "cell_type": "code",
   "execution_count": null,
   "id": "8067e41f-f226-4d27-95d4-16d3aa028b05",
   "metadata": {},
   "outputs": [],
   "source": []
  },
  {
   "cell_type": "code",
   "execution_count": null,
   "id": "f1d75c06-726d-46c4-92bf-8fc372223978",
   "metadata": {},
   "outputs": [],
   "source": []
  },
  {
   "cell_type": "code",
   "execution_count": null,
   "id": "e070411e-fd3c-465c-86d5-00db0e5b824d",
   "metadata": {},
   "outputs": [],
   "source": []
  }
 ],
 "metadata": {
  "kernelspec": {
   "display_name": "Python 3 (ipykernel)",
   "language": "python",
   "name": "python3"
  },
  "language_info": {
   "codemirror_mode": {
    "name": "ipython",
    "version": 3
   },
   "file_extension": ".py",
   "mimetype": "text/x-python",
   "name": "python",
   "nbconvert_exporter": "python",
   "pygments_lexer": "ipython3",
   "version": "3.8.5"
  }
 },
 "nbformat": 4,
 "nbformat_minor": 5
}

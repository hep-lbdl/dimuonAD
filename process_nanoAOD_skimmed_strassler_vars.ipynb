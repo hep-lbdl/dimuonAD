{
 "cells": [
  {
   "cell_type": "code",
   "execution_count": 1,
   "id": "06c3da6d-1d53-43f7-ba0a-c7c1ac3ad7f8",
   "metadata": {
    "tags": []
   },
   "outputs": [],
   "source": [
    "import awkward as ak\n",
    "import os\n",
    "import pickle\n",
    "\n",
    "import matplotlib.pyplot as plt\n",
    "import numpy as np\n",
    "\n",
    "from helpers.physics_functions import *\n"
   ]
  },
  {
   "cell_type": "code",
   "execution_count": 2,
   "id": "d805c982-89bc-4196-a570-91a9b3d01336",
   "metadata": {},
   "outputs": [],
   "source": [
    "muon_vars = [\"Muon_pt\", \"Muon_eta\", \"Muon_phi\", \"Muon_charge\", \"Muon_pfRelIso03_all\", \"Muon_pfRelIso04_all\"]\n",
    "electron_vars = [\"Electron_pt\", \"Electron_eta\", \"Electron_phi\", \"Electron_charge\"]\n",
    "jet_vars = [\"Jet_pt\", \"Jet_eta\", \"Jet_phi\", \"Jet_mass\", \"Jet_nConstituents\", \"Jet_btagCSVV2\", \"Jet_btagDeepB\", \"Jet_btagDeepFlavB\", \"MET_pt\", \"MET_sumEt\"]\n",
    "\n",
    "path_to_input = f\"/global/cfs/cdirs/m3246/rmastand/dimuonAD/skimmed_data_2016H_30555/\"\n",
    "path_to_output = \"\"\n",
    "\n",
    "num_files = 28\n"
   ]
  },
  {
   "cell_type": "markdown",
   "id": "482d993c-4023-4f7a-be54-d0bc4635b5eb",
   "metadata": {},
   "source": [
    "- HT (sum of pt of jets with some cut) -> `HT`\n",
    "- sum of (pt of jets)^2 -> `sum_pt2_jet`\n",
    "- sum of (pt of leptons) -> `sum_pt_muon`, `sum_pt_electron`, `sum_pt_lepton`\n",
    "- sum of (pt of leptons)^2 -> `sum_pt2_muon`, `sum_pt2_electron`, `sum_pt2_lepton`\n",
    "- sum of (pt of both jets and leptons) -> `sum_pt_jet_muon`, `sum_pt_jet_electron`, `sum_pt_jet_lepton`\n",
    "- sum of (pt of both jets and leptons)^2 -> `sum_pt2_jet_muon`, `sum_pt2_jet_electron`, `sum_pt2_jet_lepton`\n",
    "- number of leptons (muons) -> `n_muon`, `n_electron`, `n_lepton`\n",
    "- number of jets -> `n_jet`\n",
    "- MET -> `MET_pt`\n",
    "- dilepton pt -> `dimu_pt`"
   ]
  },
  {
   "cell_type": "code",
   "execution_count": 3,
   "id": "53ebef19-c5bd-480c-9b1f-957ec97f994c",
   "metadata": {
    "tags": []
   },
   "outputs": [],
   "source": [
    "all_data = {\n",
    "    \"HT\":[],\n",
    "    \"sum_pt2_jet\":[],\n",
    "    \"sum_pt_muon\":[],\n",
    "    \"sum_pt_electron\":[],\n",
    "    \"sum_pt_lepton\":[],\n",
    "    \"sum_pt2_muon\":[],\n",
    "    \"sum_pt2_electron\":[],\n",
    "    \"sum_pt2_lepton\":[],\n",
    "    \"sum_pt_jet_muon\":[],\n",
    "    \"sum_pt_jet_electron\":[],\n",
    "    \"sum_pt_jet_lepton\":[],\n",
    "    \"sum_pt2_jet_muon\":[],\n",
    "    \"sum_pt2_jet_electron\":[],\n",
    "    \"sum_pt2_jet_lepton\":[],\n",
    "    \"n_muon\":[],\n",
    "    \"n_electron\":[],\n",
    "    \"n_lepton\":[],\n",
    "    \"n_jet\":[],\n",
    "    \"MET_pt\":[],\n",
    "    \"dimu_pt\":[],\n",
    "    \"dimu_mass\":[],\n",
    "    }\n"
   ]
  },
  {
   "cell_type": "code",
   "execution_count": 4,
   "id": "2facfc95-8227-4d69-9cff-7e53138b2e5f",
   "metadata": {
    "tags": []
   },
   "outputs": [
    {
     "name": "stdout",
     "output_type": "stream",
     "text": [
      "0\n"
     ]
    },
    {
     "ename": "FileNotFoundError",
     "evalue": "[Errno 2] No such file or directory: '/pscratch/sd/r/rmastand/dimuonAD/post_root_sim/skimmed_data_2016H_30555/all_mu_0'",
     "output_type": "error",
     "traceback": [
      "\u001b[0;31m---------------------------------------------------------------------------\u001b[0m",
      "\u001b[0;31mFileNotFoundError\u001b[0m                         Traceback (most recent call last)",
      "Cell \u001b[0;32mIn[4], line 7\u001b[0m\n\u001b[1;32m      3\u001b[0m \u001b[38;5;28mprint\u001b[39m(i)\n\u001b[1;32m      5\u001b[0m \u001b[38;5;66;03m# LOAD IN DATA\u001b[39;00m\n\u001b[0;32m----> 7\u001b[0m \u001b[38;5;28;01mwith\u001b[39;00m \u001b[38;5;28;43mopen\u001b[39;49m\u001b[43m(\u001b[49m\u001b[38;5;124;43mf\u001b[39;49m\u001b[38;5;124;43m\"\u001b[39;49m\u001b[38;5;132;43;01m{\u001b[39;49;00m\u001b[43mpath_to_input\u001b[49m\u001b[38;5;132;43;01m}\u001b[39;49;00m\u001b[38;5;124;43m/all_mu_\u001b[39;49m\u001b[38;5;132;43;01m{\u001b[39;49;00m\u001b[43mi\u001b[49m\u001b[38;5;132;43;01m}\u001b[39;49;00m\u001b[38;5;124;43m\"\u001b[39;49m\u001b[43m,\u001b[49m\u001b[43m \u001b[49m\u001b[38;5;124;43m\"\u001b[39;49m\u001b[38;5;124;43mrb\u001b[39;49m\u001b[38;5;124;43m\"\u001b[39;49m\u001b[43m)\u001b[49m \u001b[38;5;28;01mas\u001b[39;00m input_file:\n\u001b[1;32m      8\u001b[0m     loc_mu_feature \u001b[38;5;241m=\u001b[39m pickle\u001b[38;5;241m.\u001b[39mload(input_file)\n\u001b[1;32m     10\u001b[0m \u001b[38;5;28;01mwith\u001b[39;00m \u001b[38;5;28mopen\u001b[39m(\u001b[38;5;124mf\u001b[39m\u001b[38;5;124m\"\u001b[39m\u001b[38;5;132;01m{\u001b[39;00mpath_to_input\u001b[38;5;132;01m}\u001b[39;00m\u001b[38;5;124m/all_e_\u001b[39m\u001b[38;5;132;01m{\u001b[39;00mi\u001b[38;5;132;01m}\u001b[39;00m\u001b[38;5;124m\"\u001b[39m, \u001b[38;5;124m\"\u001b[39m\u001b[38;5;124mrb\u001b[39m\u001b[38;5;124m\"\u001b[39m) \u001b[38;5;28;01mas\u001b[39;00m input_file:\n",
      "File \u001b[0;32m~/.conda/envs/cernroot/lib/python3.11/site-packages/IPython/core/interactiveshell.py:284\u001b[0m, in \u001b[0;36m_modified_open\u001b[0;34m(file, *args, **kwargs)\u001b[0m\n\u001b[1;32m    277\u001b[0m \u001b[38;5;28;01mif\u001b[39;00m file \u001b[38;5;129;01min\u001b[39;00m {\u001b[38;5;241m0\u001b[39m, \u001b[38;5;241m1\u001b[39m, \u001b[38;5;241m2\u001b[39m}:\n\u001b[1;32m    278\u001b[0m     \u001b[38;5;28;01mraise\u001b[39;00m \u001b[38;5;167;01mValueError\u001b[39;00m(\n\u001b[1;32m    279\u001b[0m         \u001b[38;5;124mf\u001b[39m\u001b[38;5;124m\"\u001b[39m\u001b[38;5;124mIPython won\u001b[39m\u001b[38;5;124m'\u001b[39m\u001b[38;5;124mt let you open fd=\u001b[39m\u001b[38;5;132;01m{\u001b[39;00mfile\u001b[38;5;132;01m}\u001b[39;00m\u001b[38;5;124m by default \u001b[39m\u001b[38;5;124m\"\u001b[39m\n\u001b[1;32m    280\u001b[0m         \u001b[38;5;124m\"\u001b[39m\u001b[38;5;124mas it is likely to crash IPython. If you know what you are doing, \u001b[39m\u001b[38;5;124m\"\u001b[39m\n\u001b[1;32m    281\u001b[0m         \u001b[38;5;124m\"\u001b[39m\u001b[38;5;124myou can use builtins\u001b[39m\u001b[38;5;124m'\u001b[39m\u001b[38;5;124m open.\u001b[39m\u001b[38;5;124m\"\u001b[39m\n\u001b[1;32m    282\u001b[0m     )\n\u001b[0;32m--> 284\u001b[0m \u001b[38;5;28;01mreturn\u001b[39;00m \u001b[43mio_open\u001b[49m\u001b[43m(\u001b[49m\u001b[43mfile\u001b[49m\u001b[43m,\u001b[49m\u001b[43m \u001b[49m\u001b[38;5;241;43m*\u001b[39;49m\u001b[43margs\u001b[49m\u001b[43m,\u001b[49m\u001b[43m \u001b[49m\u001b[38;5;241;43m*\u001b[39;49m\u001b[38;5;241;43m*\u001b[39;49m\u001b[43mkwargs\u001b[49m\u001b[43m)\u001b[49m\n",
      "\u001b[0;31mFileNotFoundError\u001b[0m: [Errno 2] No such file or directory: '/pscratch/sd/r/rmastand/dimuonAD/post_root_sim/skimmed_data_2016H_30555/all_mu_0'"
     ]
    }
   ],
   "source": [
    "for i in range(num_files):\n",
    "    \n",
    "    print(i)\n",
    "    \n",
    "    # LOAD IN DATA\n",
    "    \n",
    "    with open(f\"{path_to_input}/all_mu_{i}\", \"rb\") as input_file:\n",
    "        loc_mu_feature = pickle.load(input_file)\n",
    "        \n",
    "    with open(f\"{path_to_input}/all_e_{i}\", \"rb\") as input_file:\n",
    "        loc_e_feature = pickle.load(input_file)\n",
    "  \n",
    "    with open(f\"{path_to_input}/all_jet_{i}\", \"rb\") as input_file:\n",
    "        loc_jet_feature = pickle.load(input_file)\n",
    "        \n",
    "    # START ANALYSIS\n",
    "        \n",
    "    # filter jets        \n",
    "    jet_pt_filter = loc_jet_feature[\"Jet_pt\"] > 20\n",
    "    passed_jet_pts = loc_jet_feature[\"Jet_pt\"][jet_pt_filter]\n",
    "        \n",
    "    all_data[\"HT\"].append(np.sum(passed_jet_pts, axis = 1).to_numpy())\n",
    "    all_data[\"sum_pt2_jet\"].append(np.sum(passed_jet_pts**2, axis = 1).to_numpy())\n",
    "    \n",
    "    all_data[\"sum_pt_muon\"].append(np.sum(loc_mu_feature[\"Muon_pt\"], axis = 1).to_numpy())\n",
    "    all_data[\"sum_pt_electron\"].append(np.sum(loc_e_feature[\"Electron_pt\"], axis = 1).to_numpy())\n",
    "    all_data[\"sum_pt_lepton\"].append(np.sum(loc_mu_feature[\"Muon_pt\"], axis = 1).to_numpy() + np.sum(loc_e_feature[\"Electron_pt\"], axis = 1).to_numpy())\n",
    "    \n",
    "    all_data[\"sum_pt2_muon\"].append(np.sum(loc_mu_feature[\"Muon_pt\"]**2, axis = 1).to_numpy())\n",
    "    all_data[\"sum_pt2_electron\"].append(np.sum(loc_e_feature[\"Electron_pt\"]**2, axis = 1).to_numpy())\n",
    "    all_data[\"sum_pt2_lepton\"].append(np.sum(loc_mu_feature[\"Muon_pt\"]**2, axis = 1).to_numpy() + np.sum(loc_e_feature[\"Electron_pt\"]**2, axis = 1).to_numpy())\n",
    "    \n",
    "    all_data[\"sum_pt_jet_muon\"].append(np.sum(passed_jet_pts, axis = 1).to_numpy() + np.sum(loc_mu_feature[\"Muon_pt\"], axis = 1).to_numpy())\n",
    "    all_data[\"sum_pt_jet_electron\"].append(np.sum(passed_jet_pts, axis = 1).to_numpy() + np.sum(loc_e_feature[\"Electron_pt\"], axis = 1).to_numpy())\n",
    "    all_data[\"sum_pt_jet_lepton\"].append(np.sum(passed_jet_pts, axis = 1).to_numpy() + np.sum(loc_mu_feature[\"Muon_pt\"], axis = 1).to_numpy() + np.sum(loc_e_feature[\"Electron_pt\"], axis = 1).to_numpy())\n",
    "\n",
    "    all_data[\"sum_pt2_jet_muon\"].append(np.sum(passed_jet_pts**2, axis = 1).to_numpy() + np.sum(loc_mu_feature[\"Muon_pt\"]**2, axis = 1).to_numpy())\n",
    "    all_data[\"sum_pt2_jet_electron\"].append(np.sum(passed_jet_pts**2, axis = 1).to_numpy() + np.sum(loc_e_feature[\"Electron_pt\"]**2, axis = 1).to_numpy())\n",
    "    all_data[\"sum_pt2_jet_lepton\"].append(np.sum(passed_jet_pts**2, axis = 1).to_numpy() + np.sum(loc_mu_feature[\"Muon_pt\"]**2, axis = 1).to_numpy() + np.sum(loc_e_feature[\"Electron_pt\"]**2, axis = 1).to_numpy())\n",
    "\n",
    "    all_data[\"n_muon\"].append(np.sum(loc_mu_feature[\"Muon_pt\"] > -1, axis = 1).to_numpy())\n",
    "    all_data[\"n_electron\"].append(np.sum(loc_e_feature[\"Electron_pt\"] > -1, axis = 1).to_numpy())\n",
    "    all_data[\"n_lepton\"].append(np.sum(loc_mu_feature[\"Muon_pt\"] > -1, axis = 1).to_numpy() + np.sum(loc_e_feature[\"Electron_pt\"] > -1, axis = 1).to_numpy())\n",
    "    all_data[\"n_jet\"].append(np.sum(jet_pt_filter, axis = 1))\n",
    "    \n",
    "    all_data[\"MET_pt\"].append(loc_jet_feature[\"MET_pt\"].to_numpy())\n",
    "    \n",
    "    # get dimuon system\n",
    "        \n",
    "    loc_muon_filter = loc_mu_feature[\"Muon_charge\"] == -1\n",
    "    loc_amuon_filter = loc_mu_feature[\"Muon_charge\"] == 1\n",
    "        \n",
    "    dimu_mass, dimu_pt, _, _ = assemble_m_inv(muon_mass, ak.firsts(loc_mu_feature[\"Muon_pt\"][loc_muon_filter]), ak.firsts(loc_mu_feature[\"Muon_eta\"][loc_muon_filter]), ak.firsts(loc_mu_feature[\"Muon_phi\"][loc_muon_filter]), \n",
    "                                   muon_mass, ak.firsts(loc_mu_feature[\"Muon_pt\"][loc_amuon_filter]),  ak.firsts(loc_mu_feature[\"Muon_eta\"][loc_amuon_filter]),  ak.firsts(loc_mu_feature[\"Muon_phi\"][loc_amuon_filter]))\n",
    "\n",
    "\n",
    "    all_data[\"dimu_pt\"].append(dimu_pt.to_numpy(allow_missing = True))\n",
    "    all_data[\"dimu_mass\"].append(dimu_mass.to_numpy(allow_missing = True))\n",
    "    \n",
    "\n",
    "\n",
    "    \n",
    "    \n",
    "    "
   ]
  },
  {
   "cell_type": "code",
   "execution_count": null,
   "id": "b4267f08-4b95-4d1e-bdaa-d2957ffcd501",
   "metadata": {
    "tags": []
   },
   "outputs": [],
   "source": [
    "for key in all_data.keys():\n",
    "    all_data[key] = np.hstack(all_data[key])\n"
   ]
  },
  {
   "cell_type": "code",
   "execution_count": null,
   "id": "eef7352e-6bd2-4fec-ac4c-e192dd9b8b41",
   "metadata": {},
   "outputs": [],
   "source": [
    "bin_limits = {\n",
    "    \"HT\":[0, 1000],\n",
    "    \"sum_pt2_jet\":[0, 50000],\n",
    "    \"sum_pt_muon\":[0, 400],\n",
    "    \"sum_pt_electron\":[0, 40],\n",
    "    \"sum_pt_lepton\":[0, 400],\n",
    "    \"sum_pt2_muon\":[0, 1000],\n",
    "    \"sum_pt2_electron\":[0, 400],\n",
    "    \"sum_pt2_lepton\":[0, 1000],\n",
    "    \"sum_pt_jet_muon\":[0, 1000],\n",
    "    \"sum_pt_jet_electron\":[0, 100],\n",
    "    \"sum_pt_jet_lepton\":[0, 1000],\n",
    "    \"sum_pt2_jet_muon\":[0, 1000],\n",
    "    \"sum_pt2_jet_electron\":[0, 1000],\n",
    "    \"sum_pt2_jet_lepton\":[0, 1000],\n",
    "    \"n_muon\":[0, 20],\n",
    "    \"n_electron\":[0, 20],\n",
    "    \"n_lepton\":[0, 20],\n",
    "    \"n_jet\":[0, 20],\n",
    "    \"MET_pt\":[0, 200],\n",
    "    \"dimu_pt\":[0, 200],\n",
    "    \"dimu_mass\":[0, 120],\n",
    "    }\n",
    "\n",
    "\n",
    "for key in all_data.keys():\n",
    "    plt.figure(figsize = (3,2))\n",
    "    plt.hist(all_data[key][0], bins = np.linspace(bin_limits[key][0], bin_limits[key][1], 100), histtype = \"step\")\n",
    "    plt.xlabel(key)\n",
    "    plt.show()"
   ]
  },
  {
   "cell_type": "code",
   "execution_count": null,
   "id": "90575f46-aa56-41e8-8046-0eeb9b7b185c",
   "metadata": {},
   "outputs": [],
   "source": []
  },
  {
   "cell_type": "code",
   "execution_count": null,
   "id": "a8492cb1-f37b-4417-9a63-1acf940edc7b",
   "metadata": {},
   "outputs": [],
   "source": []
  },
  {
   "cell_type": "code",
   "execution_count": null,
   "id": "52c6f894-e9dc-4008-8ebe-8530c542eefe",
   "metadata": {},
   "outputs": [],
   "source": []
  }
 ],
 "metadata": {
  "kernelspec": {
   "display_name": "CernRoot",
   "language": "python",
   "name": "cernroot"
  },
  "language_info": {
   "codemirror_mode": {
    "name": "ipython",
    "version": 3
   },
   "file_extension": ".py",
   "mimetype": "text/x-python",
   "name": "python",
   "nbconvert_exporter": "python",
   "pygments_lexer": "ipython3",
   "version": "3.11.4"
  }
 },
 "nbformat": 4,
 "nbformat_minor": 5
}
